{
  "nbformat": 4,
  "nbformat_minor": 0,
  "metadata": {
    "colab": {
      "name": "EC2_Pricing_MLR.ipynb",
      "provenance": [],
      "collapsed_sections": []
    },
    "kernelspec": {
      "name": "python3",
      "display_name": "Python 3"
    }
  },
  "cells": [
    {
      "cell_type": "code",
      "metadata": {
        "id": "H-as2UVXndRK"
      },
      "source": [
        "import pandas as pd\n",
        "import matplotlib.pyplot as plt\n",
        "import matplotlib.dates as md\n",
        "import numpy as np\n",
        "from datetime import date\n",
        "import seaborn as sns\n",
        "from sklearn.preprocessing import LabelEncoder, OneHotEncoder\n",
        "from sklearn.model_selection import train_test_split\n",
        "from sklearn.metrics import confusion_matrix\n",
        "from sklearn import svm, datasets\n",
        "%matplotlib inline"
      ],
      "execution_count": 82,
      "outputs": []
    },
    {
      "cell_type": "code",
      "metadata": {
        "id": "dojndSQUo9UM",
        "colab": {
          "base_uri": "https://localhost:8080/",
          "height": 479
        },
        "outputId": "8131bcfb-363b-4222-b538-56396e272501"
      },
      "source": [
        "from google.colab import drive\n",
        "drive.mount('/content/gdrive', force_remount=True)\n",
        "df = pd.read_csv('/content/gdrive/My Drive/Research/AWS/modify_date_general_purpose.csv')\n",
        "df = df.loc[df.Instance_Family == \"General purpose\"]\n",
        "df.head()"
      ],
      "execution_count": 83,
      "outputs": [
        {
          "output_type": "stream",
          "text": [
            "Mounted at /content/gdrive\n"
          ],
          "name": "stdout"
        },
        {
          "output_type": "stream",
          "text": [
            "/usr/local/lib/python3.6/dist-packages/IPython/core/interactiveshell.py:2718: DtypeWarning: Columns (0,3,9,12,14,15,17,19,20,21,23) have mixed types.Specify dtype option on import or set low_memory=False.\n",
            "  interactivity=interactivity, compiler=compiler, result=result)\n"
          ],
          "name": "stderr"
        },
        {
          "output_type": "execute_result",
          "data": {
            "text/html": [
              "<div>\n",
              "<style scoped>\n",
              "    .dataframe tbody tr th:only-of-type {\n",
              "        vertical-align: middle;\n",
              "    }\n",
              "\n",
              "    .dataframe tbody tr th {\n",
              "        vertical-align: top;\n",
              "    }\n",
              "\n",
              "    .dataframe thead th {\n",
              "        text-align: right;\n",
              "    }\n",
              "</style>\n",
              "<table border=\"1\" class=\"dataframe\">\n",
              "  <thead>\n",
              "    <tr style=\"text-align: right;\">\n",
              "      <th></th>\n",
              "      <th>EffectiveDates</th>\n",
              "      <th>PricePerUnit</th>\n",
              "      <th>Project_Type</th>\n",
              "      <th>Project_Size</th>\n",
              "      <th>LeaseContractLength</th>\n",
              "      <th>PurchaseOption</th>\n",
              "      <th>Unnamed: 6</th>\n",
              "      <th>OfferingClass</th>\n",
              "      <th>Location</th>\n",
              "      <th>Instance_Type</th>\n",
              "      <th>Current_Generation</th>\n",
              "      <th>Unnamed: 11</th>\n",
              "      <th>Instance_Family</th>\n",
              "      <th>vCPU</th>\n",
              "      <th>Clock_Speed</th>\n",
              "      <th>Memory</th>\n",
              "      <th>Storage</th>\n",
              "      <th>Network_Performance</th>\n",
              "      <th>Operating_System</th>\n",
              "      <th>Tenancy</th>\n",
              "      <th>usageType</th>\n",
              "      <th>Dedicated EBS Throughput</th>\n",
              "      <th>Normalization Size Factor</th>\n",
              "      <th>Processor Features</th>\n",
              "    </tr>\n",
              "  </thead>\n",
              "  <tbody>\n",
              "    <tr>\n",
              "      <th>0</th>\n",
              "      <td>4/30/2017</td>\n",
              "      <td>0.01</td>\n",
              "      <td>NaN</td>\n",
              "      <td>medium</td>\n",
              "      <td>1</td>\n",
              "      <td>No Upfront</td>\n",
              "      <td>NaN</td>\n",
              "      <td>standard</td>\n",
              "      <td>US East (Ohio)</td>\n",
              "      <td>m4.xlarge</td>\n",
              "      <td>Yes</td>\n",
              "      <td>NaN</td>\n",
              "      <td>General purpose</td>\n",
              "      <td>4.0</td>\n",
              "      <td>2.4  GHz</td>\n",
              "      <td>16</td>\n",
              "      <td>EBS</td>\n",
              "      <td>High</td>\n",
              "      <td>RHEL</td>\n",
              "      <td>Dedicated</td>\n",
              "      <td>USE2-DedicatedUsage:m4.xlarge</td>\n",
              "      <td>750 Mbps</td>\n",
              "      <td>8.0</td>\n",
              "      <td>Intel AVX; Intel AVX2; Intel Turbo</td>\n",
              "    </tr>\n",
              "    <tr>\n",
              "      <th>1</th>\n",
              "      <td>3/31/2018</td>\n",
              "      <td>0.01</td>\n",
              "      <td>NaN</td>\n",
              "      <td>medium</td>\n",
              "      <td>3</td>\n",
              "      <td>Partial Upfront</td>\n",
              "      <td>NaN</td>\n",
              "      <td>convertible</td>\n",
              "      <td>US East (N. Virginia)</td>\n",
              "      <td>m4.large</td>\n",
              "      <td>Yes</td>\n",
              "      <td>NaN</td>\n",
              "      <td>General purpose</td>\n",
              "      <td>2.0</td>\n",
              "      <td>2.4 GHz</td>\n",
              "      <td>8</td>\n",
              "      <td>EBS</td>\n",
              "      <td>Moderate</td>\n",
              "      <td>Linux</td>\n",
              "      <td>Dedicated</td>\n",
              "      <td>DedicatedUsage:m4.large</td>\n",
              "      <td>450 Mbps</td>\n",
              "      <td>4.0</td>\n",
              "      <td>Intel AVX; Intel AVX2; Intel Turbo</td>\n",
              "    </tr>\n",
              "    <tr>\n",
              "      <th>4</th>\n",
              "      <td>7/1/2019</td>\n",
              "      <td>0.01</td>\n",
              "      <td>NaN</td>\n",
              "      <td>medium</td>\n",
              "      <td>3</td>\n",
              "      <td>All Upfront</td>\n",
              "      <td>NaN</td>\n",
              "      <td>standard</td>\n",
              "      <td>US West (N. California)</td>\n",
              "      <td>m3.xlarge</td>\n",
              "      <td>No</td>\n",
              "      <td>NaN</td>\n",
              "      <td>General purpose</td>\n",
              "      <td>4.0</td>\n",
              "      <td>2.5 GHz</td>\n",
              "      <td>15</td>\n",
              "      <td>SSD</td>\n",
              "      <td>High</td>\n",
              "      <td>RHEL</td>\n",
              "      <td>Shared</td>\n",
              "      <td>USW1-BoxUsage:m3.xlarge</td>\n",
              "      <td>NaN</td>\n",
              "      <td>8.0</td>\n",
              "      <td>Intel AVX; Intel Turbo</td>\n",
              "    </tr>\n",
              "    <tr>\n",
              "      <th>5</th>\n",
              "      <td>3/1/2019</td>\n",
              "      <td>0.01</td>\n",
              "      <td>NaN</td>\n",
              "      <td>medium</td>\n",
              "      <td>3</td>\n",
              "      <td>All Upfront</td>\n",
              "      <td>NaN</td>\n",
              "      <td>convertible</td>\n",
              "      <td>US East (N. Virginia)</td>\n",
              "      <td>m5ad.2xlarge</td>\n",
              "      <td>Yes</td>\n",
              "      <td>NaN</td>\n",
              "      <td>General purpose</td>\n",
              "      <td>8.0</td>\n",
              "      <td>2.5 GHz</td>\n",
              "      <td>32</td>\n",
              "      <td>SSD</td>\n",
              "      <td>Up to 10</td>\n",
              "      <td>Windows</td>\n",
              "      <td>Shared</td>\n",
              "      <td>BoxUsage:m5ad.2xlarge</td>\n",
              "      <td>Upto 2120 Mbps</td>\n",
              "      <td>16.0</td>\n",
              "      <td>AVX, AVX2, AMD Turbo</td>\n",
              "    </tr>\n",
              "    <tr>\n",
              "      <th>8</th>\n",
              "      <td>10/1/2018</td>\n",
              "      <td>0.01</td>\n",
              "      <td>NaN</td>\n",
              "      <td>medium</td>\n",
              "      <td>1</td>\n",
              "      <td>AllUpfront</td>\n",
              "      <td>NaN</td>\n",
              "      <td>standard</td>\n",
              "      <td>US West (Oregon)</td>\n",
              "      <td>a1</td>\n",
              "      <td>Yes</td>\n",
              "      <td>NaN</td>\n",
              "      <td>General purpose</td>\n",
              "      <td>16.0</td>\n",
              "      <td>2.3 GHz</td>\n",
              "      <td>NaN</td>\n",
              "      <td>EBS</td>\n",
              "      <td>NaN</td>\n",
              "      <td>Linux</td>\n",
              "      <td>Reserved</td>\n",
              "      <td>USW2-ReservedHostUsage:a1</td>\n",
              "      <td>NaN</td>\n",
              "      <td>NaN</td>\n",
              "      <td>NaN</td>\n",
              "    </tr>\n",
              "  </tbody>\n",
              "</table>\n",
              "</div>"
            ],
            "text/plain": [
              "  EffectiveDates  ...                  Processor Features\n",
              "0      4/30/2017  ...  Intel AVX; Intel AVX2; Intel Turbo\n",
              "1      3/31/2018  ...  Intel AVX; Intel AVX2; Intel Turbo\n",
              "4       7/1/2019  ...              Intel AVX; Intel Turbo\n",
              "5       3/1/2019  ...                AVX, AVX2, AMD Turbo\n",
              "8      10/1/2018  ...                                 NaN\n",
              "\n",
              "[5 rows x 24 columns]"
            ]
          },
          "metadata": {
            "tags": []
          },
          "execution_count": 83
        }
      ]
    },
    {
      "cell_type": "code",
      "metadata": {
        "id": "MYAM1QWgLfCK",
        "colab": {
          "base_uri": "https://localhost:8080/",
          "height": 204
        },
        "outputId": "ed3a60fa-d99f-4058-dec1-81d474aeae24"
      },
      "source": [
        "df[\"Memory\"] = df[\"Memory\"].astype(\"float64\")\n",
        "df[\"EffectiveDates\"] = df[\"EffectiveDates\"].astype(\"datetime64\")\n",
        "df[\"Project_Type\"] = df[\"Project_Type\"].astype(str)\n",
        "# df[\"Storage\"] = df[\"Storage\"].astype(str)\n",
        "df[\"Processor_Archi\"] = df[\"Storage\"].astype(str)\n",
        "df[\"Clock_Speed\"] = df[\"Clock_Speed\"].astype(str)\n",
        "df[\"PricePerUnit\"] = df[\"PricePerUnit\"].astype(float)\n",
        "df['Year'] = pd.DatetimeIndex(df['EffectiveDates']).year.astype(\"int32\")\n",
        "df['Month'] = pd.DatetimeIndex(df['EffectiveDates']).month\n",
        "# columns = ['PricePerUnit', 'UpfrontCost', 'Instance_Type', 'Operating_System', 'Location', 'LeaseContractLength', 'PurchaseOption', 'OfferingClass', 'Year', 'Month']\n",
        "columns = ['PricePerUnit', 'UpfrontCost', 'Instance_Type', 'Operating_System', 'Location', 'LeaseContractLength', 'PurchaseOption', 'OfferingClass']\n",
        "df1 = df.reindex(columns=columns)\n",
        "df1 = df1[columns]\n",
        "df1.head()"
      ],
      "execution_count": 100,
      "outputs": [
        {
          "output_type": "execute_result",
          "data": {
            "text/html": [
              "<div>\n",
              "<style scoped>\n",
              "    .dataframe tbody tr th:only-of-type {\n",
              "        vertical-align: middle;\n",
              "    }\n",
              "\n",
              "    .dataframe tbody tr th {\n",
              "        vertical-align: top;\n",
              "    }\n",
              "\n",
              "    .dataframe thead th {\n",
              "        text-align: right;\n",
              "    }\n",
              "</style>\n",
              "<table border=\"1\" class=\"dataframe\">\n",
              "  <thead>\n",
              "    <tr style=\"text-align: right;\">\n",
              "      <th></th>\n",
              "      <th>PricePerUnit</th>\n",
              "      <th>UpfrontCost</th>\n",
              "      <th>Instance_Type</th>\n",
              "      <th>Operating_System</th>\n",
              "      <th>Location</th>\n",
              "      <th>LeaseContractLength</th>\n",
              "      <th>PurchaseOption</th>\n",
              "      <th>OfferingClass</th>\n",
              "    </tr>\n",
              "  </thead>\n",
              "  <tbody>\n",
              "    <tr>\n",
              "      <th>0</th>\n",
              "      <td>0.01</td>\n",
              "      <td>NaN</td>\n",
              "      <td>m4.xlarge</td>\n",
              "      <td>RHEL</td>\n",
              "      <td>US East (Ohio)</td>\n",
              "      <td>1</td>\n",
              "      <td>No Upfront</td>\n",
              "      <td>standard</td>\n",
              "    </tr>\n",
              "    <tr>\n",
              "      <th>1</th>\n",
              "      <td>0.01</td>\n",
              "      <td>NaN</td>\n",
              "      <td>m4.large</td>\n",
              "      <td>Linux</td>\n",
              "      <td>US East (N. Virginia)</td>\n",
              "      <td>3</td>\n",
              "      <td>Partial Upfront</td>\n",
              "      <td>convertible</td>\n",
              "    </tr>\n",
              "    <tr>\n",
              "      <th>4</th>\n",
              "      <td>0.01</td>\n",
              "      <td>NaN</td>\n",
              "      <td>m3.xlarge</td>\n",
              "      <td>RHEL</td>\n",
              "      <td>US West (N. California)</td>\n",
              "      <td>3</td>\n",
              "      <td>All Upfront</td>\n",
              "      <td>standard</td>\n",
              "    </tr>\n",
              "    <tr>\n",
              "      <th>5</th>\n",
              "      <td>0.01</td>\n",
              "      <td>NaN</td>\n",
              "      <td>m5ad.2xlarge</td>\n",
              "      <td>Windows</td>\n",
              "      <td>US East (N. Virginia)</td>\n",
              "      <td>3</td>\n",
              "      <td>All Upfront</td>\n",
              "      <td>convertible</td>\n",
              "    </tr>\n",
              "    <tr>\n",
              "      <th>8</th>\n",
              "      <td>0.01</td>\n",
              "      <td>NaN</td>\n",
              "      <td>a1</td>\n",
              "      <td>Linux</td>\n",
              "      <td>US West (Oregon)</td>\n",
              "      <td>1</td>\n",
              "      <td>AllUpfront</td>\n",
              "      <td>standard</td>\n",
              "    </tr>\n",
              "  </tbody>\n",
              "</table>\n",
              "</div>"
            ],
            "text/plain": [
              "   PricePerUnit  UpfrontCost  ...   PurchaseOption OfferingClass\n",
              "0          0.01          NaN  ...       No Upfront      standard\n",
              "1          0.01          NaN  ...  Partial Upfront   convertible\n",
              "4          0.01          NaN  ...      All Upfront      standard\n",
              "5          0.01          NaN  ...      All Upfront   convertible\n",
              "8          0.01          NaN  ...       AllUpfront      standard\n",
              "\n",
              "[5 rows x 8 columns]"
            ]
          },
          "metadata": {
            "tags": []
          },
          "execution_count": 100
        }
      ]
    },
    {
      "cell_type": "code",
      "metadata": {
        "id": "TUq14a4K6BNP"
      },
      "source": [
        "# series = df1.isnull().sum().sort_values(ascending=False)\n",
        "# for index, value in series.items() :\n",
        "#     if value > (df1.shape[0] > 0) :\n",
        "#         print(str(index) + \" : \" + str(value))"
      ],
      "execution_count": null,
      "outputs": []
    },
    {
      "cell_type": "code",
      "metadata": {
        "colab": {
          "base_uri": "https://localhost:8080/"
        },
        "id": "nPgmbRdL72uZ",
        "outputId": "a8ea48e3-c6cf-409f-e63f-51c2c12aeccb"
      },
      "source": [
        "df1.isnull().sum()"
      ],
      "execution_count": 86,
      "outputs": [
        {
          "output_type": "execute_result",
          "data": {
            "text/plain": [
              "PricePerUnit                0\n",
              "UpfrontCost            253654\n",
              "Instance_Type               0\n",
              "Operating_System            0\n",
              "Location                    0\n",
              "LeaseContractLength         0\n",
              "PurchaseOption              0\n",
              "OfferingClass               0\n",
              "dtype: int64"
            ]
          },
          "metadata": {
            "tags": []
          },
          "execution_count": 86
        }
      ]
    },
    {
      "cell_type": "code",
      "metadata": {
        "id": "sfHRSypxLuJE",
        "colab": {
          "base_uri": "https://localhost:8080/",
          "height": 204
        },
        "outputId": "802c0ce4-4b8b-458c-cb89-794b5848065a"
      },
      "source": [
        "def setOnDemandPrice (row):\n",
        "    if (row['Instance_Type'] == 'a1.medium') :\n",
        "      return 0.0255\n",
        "    if (row['Instance_Type'] == 'a1.large') :\n",
        "      return 0.051\n",
        "    if (row['Instance_Type'] == 'a1.xlarge') :\n",
        "      return 0.102\n",
        "    if (row['Instance_Type'] == 'a1.2xlarge') :\n",
        "      return 0.204  \n",
        "    if (row['Instance_Type'] == 'a1.4xlarge') :\n",
        "      return 0.408\n",
        "    if (row['Instance_Type'] == 'a1.metal') :\n",
        "      return 0.408  \n",
        "    if (row['Instance_Type'] == 't4g.nano') :\n",
        "      return 0.0042  \n",
        "    if (row['Instance_Type'] == 't4g.micro') :\n",
        "      return 0.0084         \n",
        "    if (row['Instance_Type'] == 't4g.small') :\n",
        "      return 0.0168\n",
        "    if (row['Instance_Type'] == 't4g.medium') :\n",
        "      return 0.0336        \n",
        "    if (row['Instance_Type'] == 't4g.large') :\n",
        "      return 0.0672 \n",
        "    if (row['Instance_Type'] == 't4g.xlarge') :\n",
        "      return 0.1344       \n",
        "    if (row['Instance_Type'] == 't4g.2xlarge') :\n",
        "      return 0.2688  \n",
        "\n",
        "    if (row['Instance_Type'] == 't3.nano') :\n",
        "      return 0.0052  \n",
        "    if (row['Instance_Type'] == 't3.micro') :\n",
        "      return 0.0104         \n",
        "    if (row['Instance_Type'] == 't3.small') :\n",
        "      return 0.0208\n",
        "    if (row['Instance_Type'] == 't3.medium') :\n",
        "      return 0.0416        \n",
        "    if (row['Instance_Type'] == 't3.large') :\n",
        "      return 0.0832 \n",
        "    if (row['Instance_Type'] == 't3.xlarge') :\n",
        "      return 0.1664       \n",
        "    if (row['Instance_Type'] == 't3.2xlarge') :\n",
        "      return 0.3328 \n",
        "\n",
        "    if (row['Instance_Type'] == 't3a.nano') :\n",
        "      return 0.0047  \n",
        "    if (row['Instance_Type'] == 't3a.micro') :\n",
        "      return 0.0094         \n",
        "    if (row['Instance_Type'] == 't3a.small') :\n",
        "      return 0.0188\n",
        "    if (row['Instance_Type'] == 't3a.medium') :\n",
        "      return 0.0376        \n",
        "    if (row['Instance_Type'] == 't3a.large') :\n",
        "      return 0.0752 \n",
        "    if (row['Instance_Type'] == 't3a.xlarge') :\n",
        "      return 0.1504       \n",
        "    if (row['Instance_Type'] == 't3a.2xlarge') :\n",
        "      return 0.3008  \n",
        "\n",
        "    if (row['Instance_Type'] == 'm6g.medium') :\n",
        "      return 0.0385        \n",
        "    if (row['Instance_Type'] == 'm6g.large') :\n",
        "      return 0.077 \n",
        "    if (row['Instance_Type'] == 'm6g.xlarge') :\n",
        "      return 0.154       \n",
        "    if (row['Instance_Type'] == 'm6g.2xlarge') :\n",
        "      return 0.308\n",
        "    if (row['Instance_Type'] == 'm6g.4xlarge') :\n",
        "      return 0.616\n",
        "    if (row['Instance_Type'] == 'm6g.8xlarge') :\n",
        "      return 1.232\n",
        "    if (row['Instance_Type'] == 'm6g.12xlarge') :\n",
        "      return 1.848        \n",
        "    if (row['Instance_Type'] == 'm6g.16xlarge') :\n",
        "      return 2.464    \n",
        "    if (row['Instance_Type'] == 'm6g.metal') :\n",
        "      return 2.464    \n",
        "\n",
        "    if (row['Instance_Type'] == 'm6gd.medium') :\n",
        "      return 0.0452       \n",
        "    if (row['Instance_Type'] == 'm6gd.large') :\n",
        "      return 0.0904\n",
        "    if (row['Instance_Type'] == 'm6gd.xlarge') :\n",
        "      return 0.1808     \n",
        "    if (row['Instance_Type'] == 'm6gd.2xlarge') :\n",
        "      return 0.3616\n",
        "    if (row['Instance_Type'] == 'm6gd.4xlarge') :\n",
        "      return 0.7232\n",
        "    if (row['Instance_Type'] == 'm6gd.8xlarge') :\n",
        "      return 1.4464\n",
        "    if (row['Instance_Type'] == 'm6gd.12xlarge') :\n",
        "      return 2.1696       \n",
        "    if (row['Instance_Type'] == 'm6gd.16xlarge') :\n",
        "      return 2.8928   \n",
        "    if (row['Instance_Type'] == 'm6gd.metal') :\n",
        "      return 2.8928  \n",
        "\n",
        "    if (row['Instance_Type'] == 'm5.large') :\n",
        "      return 0.0906\n",
        "    if (row['Instance_Type'] == 'm5.xlarge') :\n",
        "      return 0.192    \n",
        "    if (row['Instance_Type'] == 'm5.2xlarge') :\n",
        "      return 0.384\n",
        "    if (row['Instance_Type'] == 'm5.4xlarge') :\n",
        "      return 0.768\n",
        "    if (row['Instance_Type'] == 'm5.8xlarge') :\n",
        "      return 1.536\n",
        "    if (row['Instance_Type'] == 'm5.12xlarge') :\n",
        "      return 2.304       \n",
        "    if (row['Instance_Type'] == 'm5.16xlarge') :\n",
        "      return 3.072  \n",
        "    if (row['Instance_Type'] == 'm5.24xlarge') :\n",
        "      return 4.608    \n",
        "    if (row['Instance_Type'] == 'm5.metal') :\n",
        "      return 4.608    \n",
        "\n",
        "    if (row['Instance_Type'] == 'm5d.large') :\n",
        "      return 0.113\n",
        "    if (row['Instance_Type'] == 'm5d.xlarge') :\n",
        "      return 0.226    \n",
        "    if (row['Instance_Type'] == 'm5d.2xlarge') :\n",
        "      return 0.452\n",
        "    if (row['Instance_Type'] == 'm5d.4xlarge') :\n",
        "      return 0.904\n",
        "    if (row['Instance_Type'] == 'm5d.8xlarge') :\n",
        "      return 1.808\n",
        "    if (row['Instance_Type'] == 'm5d.12xlarge') :\n",
        "      return 2.712       \n",
        "    if (row['Instance_Type'] == 'm5d.16xlarge') :\n",
        "      return 3.616 \n",
        "    if (row['Instance_Type'] == 'm5d.24xlarge') :\n",
        "      return 5.424    \n",
        "    if (row['Instance_Type'] == 'm5d.metal') :\n",
        "      return 5.424  \n",
        "\n",
        "    if (row['Instance_Type'] == 'm5a.large') :\n",
        "      return 0.086\n",
        "    if (row['Instance_Type'] == 'm5a.xlarge') :\n",
        "      return 0.172    \n",
        "    if (row['Instance_Type'] == 'm5a.2xlarge') :\n",
        "      return 0.688\n",
        "    if (row['Instance_Type'] == 'm5a.4xlarge') :\n",
        "      return 0.688\n",
        "    if (row['Instance_Type'] == 'm5a.8xlarge') :\n",
        "      return 1.376\n",
        "\n",
        "    if (row['Instance_Type'] == 'm5ad.large') :\n",
        "      return 0.103\n",
        "    if (row['Instance_Type'] == 'm5ad.xlarge') :\n",
        "      return 0.206    \n",
        "    if (row['Instance_Type'] == 'm5ad.2xlarge') :\n",
        "      return 0.412\n",
        "    if (row['Instance_Type'] == 'm5ad.4xlarge') :\n",
        "      return 0.824\n",
        "    if (row['Instance_Type'] == 'm5ad.12xlarge') :\n",
        "      return 2.472      \n",
        "    if (row['Instance_Type'] == 'm5ad.24xlarge') :\n",
        "      return 4.944    \n",
        "\n",
        "    if (row['Instance_Type'] == 'm5n.large') :\n",
        "      return 0.119\n",
        "    if (row['Instance_Type'] == 'm5n.xlarge') :\n",
        "      return 0.238    \n",
        "    if (row['Instance_Type'] == 'm5n.2xlarge') :\n",
        "      return 0.476\n",
        "    if (row['Instance_Type'] == 'm5n.4xlarge') :\n",
        "      return 0.952\n",
        "    if (row['Instance_Type'] == 'm5n.8xlarge') :\n",
        "      return 1.904\n",
        "    if (row['Instance_Type'] == 'm5n.12xlarge') :\n",
        "      return 2.856       \n",
        "    if (row['Instance_Type'] == 'm5n.16xlarge') :\n",
        "      return 3.808\n",
        "    if (row['Instance_Type'] == 'm5n.24xlarge') :\n",
        "      return 5.712\n",
        "\n",
        "    if (row['Instance_Type'] == 'm4.large') :\n",
        "      return 0.1\n",
        "    if (row['Instance_Type'] == 'm4.xlarge') :\n",
        "      return 0.2   \n",
        "    if (row['Instance_Type'] == 'm4.2xlarge') :\n",
        "      return 0.4\n",
        "    if (row['Instance_Type'] == 'm4.4xlarge') :\n",
        "      return 0.8\n",
        "    if (row['Instance_Type'] == 'm4.10xlarge') :\n",
        "      return 2   \n",
        "    if (row['Instance_Type'] == 'm4.16xlarge') :\n",
        "      return 3.2 \n",
        "    else :\n",
        "      return 0.3008    \n",
        "                          \n",
        "\n",
        "              \n",
        "\n",
        "def setInstanceType (row):\n",
        "    if (row['Instance_Type'] == 'a1.medium') :\n",
        "        return 10\n",
        "    if (row['Instance_Type'] == 'a1.large') :\n",
        "        return 15\n",
        "    if (row['Instance_Type'] == 'a1.xlarge') :\n",
        "        return 24\n",
        "    if (row['Instance_Type'] == 'a1.2xlarge') :\n",
        "        return 37  \n",
        "    if (row['Instance_Type'] == 'a1.4xlarge') :\n",
        "        return 46\n",
        "    if (row['Instance_Type'] == 'a1.metal') :\n",
        "        return 47  \n",
        "    if (row['Instance_Type'] == 't4g.nano') :\n",
        "        return 1 \n",
        "    if (row['Instance_Type'] == 't4g.micro') :\n",
        "        return 4        \n",
        "    if (row['Instance_Type'] == 't4g.small') :\n",
        "        return 7\n",
        "    if (row['Instance_Type'] == 't4g.medium') :\n",
        "        return 11       \n",
        "    if (row['Instance_Type'] == 't4g.large') :\n",
        "        return 16\n",
        "    if (row['Instance_Type'] == 't4g.xlarge') :\n",
        "        return 31     \n",
        "    if (row['Instance_Type'] == 't4g.2xlarge') :\n",
        "        return 42\n",
        "\n",
        "    if (row['Instance_Type'] == 't3.nano') :\n",
        "        return 3 \n",
        "    if (row['Instance_Type'] == 't3.micro') :\n",
        "        return 6         \n",
        "    if (row['Instance_Type'] == 't3.small') :\n",
        "        return 9\n",
        "    if (row['Instance_Type'] == 't3.medium') :\n",
        "        return 13        \n",
        "    if (row['Instance_Type'] == 't3.large') :\n",
        "      return 19\n",
        "    if (row['Instance_Type'] == 't3.xlarge') :\n",
        "      return 30    \n",
        "    if (row['Instance_Type'] == 't3.2xlarge') :\n",
        "      return 44 \n",
        "\n",
        "    if (row['Instance_Type'] == 't3a.nano') :\n",
        "      return 36 \n",
        "    if (row['Instance_Type'] == 't3a.micro') :\n",
        "      return 5         \n",
        "    if (row['Instance_Type'] == 't3a.small') :\n",
        "      return 8\n",
        "    if (row['Instance_Type'] == 't3a.medium') :\n",
        "      return 12       \n",
        "    if (row['Instance_Type'] == 't3a.large') :\n",
        "      return 17\n",
        "    if (row['Instance_Type'] == 't3a.xlarge') :\n",
        "      return 32     \n",
        "    if (row['Instance_Type'] == 't3a.2xlarge') :\n",
        "      return 43  \n",
        "\n",
        "    if (row['Instance_Type'] == 'm6g.medium') :\n",
        "      return 14        \n",
        "    if (row['Instance_Type'] == 'm6g.large') :\n",
        "      return 18\n",
        "    if (row['Instance_Type'] == 'm6g.xlarge') :\n",
        "      return 29     \n",
        "    if (row['Instance_Type'] == 'm6g.2xlarge') :\n",
        "      return 46\n",
        "    if (row['Instance_Type'] == 'm6g.4xlarge') :\n",
        "      return 50\n",
        "    if (row['Instance_Type'] == 'm6g.8xlarge') :\n",
        "      return 60\n",
        "    if (row['Instance_Type'] == 'm6g.12xlarge') :\n",
        "      return 63       \n",
        "    if (row['Instance_Type'] == 'm6g.16xlarge') :\n",
        "      return 69   \n",
        "    if (row['Instance_Type'] == 'm6g.metal') :\n",
        "      return 70 \n",
        "\n",
        "    if (row['Instance_Type'] == 'm6gd.medium') :\n",
        "      return 15     \n",
        "    if (row['Instance_Type'] == 'm6gd.large') :\n",
        "      return 22\n",
        "    if (row['Instance_Type'] == 'm6gd.xlarge') :\n",
        "      return 33   \n",
        "    if (row['Instance_Type'] == 'm6gd.2xlarge') :\n",
        "      return 49\n",
        "    if (row['Instance_Type'] == 'm6gd.4xlarge') :\n",
        "      return 55\n",
        "    if (row['Instance_Type'] == 'm6gd.8xlarge') :\n",
        "      return 62\n",
        "    if (row['Instance_Type'] == 'm6gd.12xlarge') :\n",
        "      return 67     \n",
        "    if (row['Instance_Type'] == 'm6gd.16xlarge') :\n",
        "      return 73   \n",
        "    if (row['Instance_Type'] == 'm6gd.metal') :\n",
        "      return 74\n",
        "\n",
        "    if (row['Instance_Type'] == 'm5.large') :\n",
        "      return 21\n",
        "    if (row['Instance_Type'] == 'm5.xlarge') :\n",
        "      return 28\n",
        "    if (row['Instance_Type'] == 'm5.2xlarge') :\n",
        "      return 47\n",
        "    if (row['Instance_Type'] == 'm5.4xlarge') :\n",
        "      return 54\n",
        "    if (row['Instance_Type'] == 'm5.8xlarge') :\n",
        "      return 64\n",
        "    if (row['Instance_Type'] == 'm5.12xlarge') :\n",
        "      return 68      \n",
        "    if (row['Instance_Type'] == 'm5.16xlarge') :\n",
        "      return 76  \n",
        "    if (row['Instance_Type'] == 'm5.24xlarge') :\n",
        "      return 80   \n",
        "    if (row['Instance_Type'] == 'm5.metal') :\n",
        "      return 81   \n",
        "\n",
        "    if (row['Instance_Type'] == 'm5d.large') :\n",
        "      return 25\n",
        "    if (row['Instance_Type'] == 'm5d.xlarge') :\n",
        "      return 38    \n",
        "    if (row['Instance_Type'] == 'm5d.2xlarge') :\n",
        "      return 48\n",
        "    if (row['Instance_Type'] == 'm5d.4xlarge') :\n",
        "      return 56\n",
        "    if (row['Instance_Type'] == 'm5d.8xlarge') :\n",
        "      return 64\n",
        "    if (row['Instance_Type'] == 'm5d.12xlarge') :\n",
        "      return 72      \n",
        "    if (row['Instance_Type'] == 'm5d.16xlarge') :\n",
        "      return 78 \n",
        "    if (row['Instance_Type'] == 'm5d.24xlarge') :\n",
        "      return 83    \n",
        "    if (row['Instance_Type'] == 'm5d.metal') :\n",
        "      return 84 \n",
        "\n",
        "    if (row['Instance_Type'] == 'm5a.large') :\n",
        "      return 22\n",
        "    if (row['Instance_Type'] == 'm5a.xlarge') :\n",
        "      return 34  \n",
        "    if (row['Instance_Type'] == 'm5a.2xlarge') :\n",
        "      return 52\n",
        "    if (row['Instance_Type'] == 'm5a.4xlarge') :\n",
        "      return 53\n",
        "    if (row['Instance_Type'] == 'm5a.8xlarge') :\n",
        "      return 61\n",
        "\n",
        "    if (row['Instance_Type'] == 'm5ad.large') :\n",
        "      return 26\n",
        "    if (row['Instance_Type'] == 'm5ad.xlarge') :\n",
        "      return 39    \n",
        "    if (row['Instance_Type'] == 'm5ad.2xlarge') :\n",
        "      return 47\n",
        "    if (row['Instance_Type'] == 'm5ad.4xlarge') :\n",
        "      return 58\n",
        "    if (row['Instance_Type'] == 'm5ad.12xlarge') :\n",
        "      return 71     \n",
        "    if (row['Instance_Type'] == 'm5ad.24xlarge') :\n",
        "      return 82   \n",
        "\n",
        "    if (row['Instance_Type'] == 'm5n.large') :\n",
        "      return 27\n",
        "    if (row['Instance_Type'] == 'm5n.xlarge') :\n",
        "      return 41   \n",
        "    if (row['Instance_Type'] == 'm5n.2xlarge') :\n",
        "      return 51\n",
        "    if (row['Instance_Type'] == 'm5n.4xlarge') :\n",
        "      return 59\n",
        "    if (row['Instance_Type'] == 'm5n.8xlarge') :\n",
        "      return 65\n",
        "    if (row['Instance_Type'] == 'm5n.12xlarge') :\n",
        "      return 75      \n",
        "    if (row['Instance_Type'] == 'm5n.16xlarge') :\n",
        "      return 79\n",
        "    if (row['Instance_Type'] == 'm5n.24xlarge') :\n",
        "      return 85\n",
        "\n",
        "    if (row['Instance_Type'] == 'm4.large') :\n",
        "      return 23\n",
        "    if (row['Instance_Type'] == 'm4.xlarge') :\n",
        "      return 35  \n",
        "    if (row['Instance_Type'] == 'm4.2xlarge') :\n",
        "      return 45\n",
        "    if (row['Instance_Type'] == 'm4.4xlarge') :\n",
        "      return 55\n",
        "    if (row['Instance_Type'] == 'm4.10xlarge') :\n",
        "      return 66   \n",
        "    if (row['Instance_Type'] == 'm4.16xlarge') :\n",
        "      return 77 \n",
        "    else :\n",
        "      return 43\n",
        "\n",
        "os_types = {\n",
        "                 'Windows':2,\n",
        "                 'Linux':1,\n",
        "                 'SUSE':3,\n",
        "                 'RHEL':4\n",
        "                 }  \n",
        "                       \n",
        "\n",
        "location_type = {\n",
        "      'Asia Pacific (Mumbai)':1,    \n",
        "      'US East (Ohio)':2,     \n",
        "      'US East (N. Virginia)':3, \n",
        "      'US West (Oregon)':4,\n",
        "      'EU (Ireland)':5,\n",
        "      'EU (Frankfurt)':6,\n",
        "      'Canada (Central)':7,\n",
        "      'EU (London)':9,\n",
        "      'EU (Paris)':8,\n",
        "      'EU (Stockholm)':10,\n",
        "      'Asia Pacific (Tokyo)':11,   \n",
        "      'AWS GovCloud (US-East)':12,\n",
        "      'AWS GovCloud (US)':13,\n",
        "      'US West (N. California)':14,\n",
        "      'Asia Pacific (Seoul)':15,  \n",
        "      'Asia Pacific (Singapore)':16,\n",
        "      'Asia Pacific (Sydney)':17,\n",
        "      'EU (Milan)':18,\n",
        "      'Middle East (Bahrain)':20,\n",
        "      'Asia Pacific (Cape Town)':19,\n",
        "      'Asia Pacific (Osaka-Local)':21,\n",
        "      'Asia Pacific (Hong Kong)':22,\n",
        "      'South America (Sao Paulo)':23          \n",
        "}     \n",
        "  \n",
        "purchase_type = {\n",
        "    'NoUpfront':3,            \n",
        "    'PartialUpfront':2,        \n",
        "    'AllUpfront':1            \n",
        "}\n",
        "\n",
        "offeringClass = {\n",
        "    'standard':1,\n",
        "    'convertible':2\n",
        "}\n",
        "\n",
        "leaseContractLength = {\n",
        "    1:1,\n",
        "    3:2\n",
        "}\n",
        "\n",
        "clockSpeed = {\n",
        "    'Up to 3.3 GHz':1,\n",
        "    'Up to 3.0 GHz':2,      \n",
        "    '2.3 GHz':3,  \n",
        "    '2.4 GHz': 4,               \n",
        "    '2.5 GHz':5         \n",
        "}\n",
        "\n",
        "year = {\n",
        "    2016:1,\n",
        "    2017:2,      \n",
        "    2018:3,  \n",
        "    2019:4,               \n",
        "    2020:5         \n",
        "}\n",
        "\n",
        "\n",
        "def setOS (row):\n",
        "       if (row['Operating_System'] == None) :\n",
        "          return 'Windows'\n",
        "       else :\n",
        "          return row['Operating_System']       \n",
        "\n",
        "def setLocation (row):\n",
        "       if (row['Location'] == None) :\n",
        "          return 'US West (Oregon)'\n",
        "       else :\n",
        "          return row['Location']                        \n",
        "\n",
        "\n",
        "def setPurchaseOption (row):\n",
        "       if (row['PurchaseOption'] == None) :\n",
        "          return 'AllUpfront'\n",
        "       if (row['PurchaseOption'] == 'No Upfront') :\n",
        "          return 'NoUpfront'\n",
        "       if (row['PurchaseOption'] == 'Partial Upfront') :\n",
        "          return 'PartialUpfront'\n",
        "       if (row['PurchaseOption'] == 'All Upfront') :\n",
        "          return 'AllUpfront'      \n",
        "       else :\n",
        "          return row['PurchaseOption']  \n",
        "\n",
        "def setOfferingClass (row):\n",
        "       if (row['OfferingClass'] == None) :\n",
        "          return 'standard'\n",
        "       else :\n",
        "          return row['OfferingClass']       \n",
        "\n",
        "def setLeaseContractLength (row):\n",
        "       if (row['LeaseContractLength'] == None) :\n",
        "          return 3\n",
        "       else :\n",
        "          return row['LeaseContractLength']    \n",
        "\n",
        "# df1['Storage'] = df1.apply (lambda row: setStorage(row), axis=1)   \n",
        "# df1['Storage'] = df1.apply (lambda row: setStorageSize(row), axis=1)  \n",
        "\n",
        "# df1['Instance_Type'] = df1.apply (lambda row: groupedInstance_Type(row), axis=1)\n",
        "# df1['Instance_Type'] = df1.Instance_Type.map (instant_types)\n",
        "\n",
        "df1['Operating_System'] = df1.apply (lambda row: setOS(row), axis=1)\n",
        "df1['Operating_System'] = df1.Operating_System.map (os_types)\n",
        "\n",
        "df1['Location'] = df1.apply (lambda row: setLocation(row), axis=1)\n",
        "df1['Location'] = df1.Location.map (location_type)\n",
        "df1['Location'] = df1['Location'].fillna(4).astype(np.int64)\n",
        "\n",
        "df1['Instance_Type'] = df1.apply (lambda row: setInstanceType(row), axis=1)\n",
        "\n",
        "df1['PurchaseOption'] = df1.apply (lambda row: setPurchaseOption(row), axis=1)\n",
        "df1['PurchaseOption'] = df1.PurchaseOption.map (purchase_type)\n",
        "\n",
        "df1['OfferingClass'] = df1.apply (lambda row: setOfferingClass(row), axis=1)\n",
        "df1['OfferingClass'] = df1.OfferingClass.map (offeringClass)\n",
        "\n",
        "df1['LeaseContractLength'] = df1.apply (lambda row: setLeaseContractLength(row), axis=1)\n",
        "df1['LeaseContractLength'] = df1.LeaseContractLength.map (leaseContractLength)\n",
        "\n",
        "# df1['Year'] = df1.Year.map (year)\n",
        "df1['Location'] = df1['Location'].fillna(4).astype(np.int64)\n",
        "\n",
        "df1.head(5) "
      ],
      "execution_count": 101,
      "outputs": [
        {
          "output_type": "execute_result",
          "data": {
            "text/html": [
              "<div>\n",
              "<style scoped>\n",
              "    .dataframe tbody tr th:only-of-type {\n",
              "        vertical-align: middle;\n",
              "    }\n",
              "\n",
              "    .dataframe tbody tr th {\n",
              "        vertical-align: top;\n",
              "    }\n",
              "\n",
              "    .dataframe thead th {\n",
              "        text-align: right;\n",
              "    }\n",
              "</style>\n",
              "<table border=\"1\" class=\"dataframe\">\n",
              "  <thead>\n",
              "    <tr style=\"text-align: right;\">\n",
              "      <th></th>\n",
              "      <th>PricePerUnit</th>\n",
              "      <th>UpfrontCost</th>\n",
              "      <th>Instance_Type</th>\n",
              "      <th>Operating_System</th>\n",
              "      <th>Location</th>\n",
              "      <th>LeaseContractLength</th>\n",
              "      <th>PurchaseOption</th>\n",
              "      <th>OfferingClass</th>\n",
              "    </tr>\n",
              "  </thead>\n",
              "  <tbody>\n",
              "    <tr>\n",
              "      <th>0</th>\n",
              "      <td>0.01</td>\n",
              "      <td>NaN</td>\n",
              "      <td>35</td>\n",
              "      <td>4</td>\n",
              "      <td>2</td>\n",
              "      <td>1</td>\n",
              "      <td>3</td>\n",
              "      <td>1</td>\n",
              "    </tr>\n",
              "    <tr>\n",
              "      <th>1</th>\n",
              "      <td>0.01</td>\n",
              "      <td>NaN</td>\n",
              "      <td>23</td>\n",
              "      <td>1</td>\n",
              "      <td>3</td>\n",
              "      <td>2</td>\n",
              "      <td>2</td>\n",
              "      <td>2</td>\n",
              "    </tr>\n",
              "    <tr>\n",
              "      <th>4</th>\n",
              "      <td>0.01</td>\n",
              "      <td>NaN</td>\n",
              "      <td>43</td>\n",
              "      <td>4</td>\n",
              "      <td>14</td>\n",
              "      <td>2</td>\n",
              "      <td>1</td>\n",
              "      <td>1</td>\n",
              "    </tr>\n",
              "    <tr>\n",
              "      <th>5</th>\n",
              "      <td>0.01</td>\n",
              "      <td>NaN</td>\n",
              "      <td>47</td>\n",
              "      <td>2</td>\n",
              "      <td>3</td>\n",
              "      <td>2</td>\n",
              "      <td>1</td>\n",
              "      <td>2</td>\n",
              "    </tr>\n",
              "    <tr>\n",
              "      <th>8</th>\n",
              "      <td>0.01</td>\n",
              "      <td>NaN</td>\n",
              "      <td>43</td>\n",
              "      <td>1</td>\n",
              "      <td>4</td>\n",
              "      <td>1</td>\n",
              "      <td>1</td>\n",
              "      <td>1</td>\n",
              "    </tr>\n",
              "  </tbody>\n",
              "</table>\n",
              "</div>"
            ],
            "text/plain": [
              "   PricePerUnit  UpfrontCost  ...  PurchaseOption  OfferingClass\n",
              "0          0.01          NaN  ...               3              1\n",
              "1          0.01          NaN  ...               2              2\n",
              "4          0.01          NaN  ...               1              1\n",
              "5          0.01          NaN  ...               1              2\n",
              "8          0.01          NaN  ...               1              1\n",
              "\n",
              "[5 rows x 8 columns]"
            ]
          },
          "metadata": {
            "tags": []
          },
          "execution_count": 101
        }
      ]
    },
    {
      "cell_type": "code",
      "metadata": {
        "colab": {
          "base_uri": "https://localhost:8080/"
        },
        "id": "0S4AIBmQMFUZ",
        "outputId": "db6c5c59-e35b-45a1-e05b-cfabda3df637"
      },
      "source": [
        "df1.dtypes"
      ],
      "execution_count": 102,
      "outputs": [
        {
          "output_type": "execute_result",
          "data": {
            "text/plain": [
              "PricePerUnit           float64\n",
              "UpfrontCost            float64\n",
              "Instance_Type            int64\n",
              "Operating_System         int64\n",
              "Location                 int64\n",
              "LeaseContractLength      int64\n",
              "PurchaseOption           int64\n",
              "OfferingClass            int64\n",
              "dtype: object"
            ]
          },
          "metadata": {
            "tags": []
          },
          "execution_count": 102
        }
      ]
    },
    {
      "cell_type": "code",
      "metadata": {
        "colab": {
          "base_uri": "https://localhost:8080/",
          "height": 204
        },
        "id": "3l3OuyUXKYqO",
        "outputId": "941e87cf-d418-4d0e-e4ec-d1b31b2dbfcb"
      },
      "source": [
        "def setOSPrice(x):\r\n",
        "       if (x == 1) :\r\n",
        "          return 100\r\n",
        "       if (x == 2) :\r\n",
        "          return 114.64 \r\n",
        "       if (x == 3) :\r\n",
        "          return 193\r\n",
        "       if (x == 4) :\r\n",
        "          return 166.67        \r\n",
        "       else :\r\n",
        "          return 100 \r\n",
        "\r\n",
        "def setOfferingClassPrice(OfferingClass, price) :\r\n",
        "  if(OfferingClass == 2):\r\n",
        "    return price*114.77/100\r\n",
        "  else:\r\n",
        "    return price\r\n",
        "\r\n",
        "def setStoragePriceWithLocation(x):\r\n",
        "  if(x == 1 or x == 15):\r\n",
        "    return 114\r\n",
        "  if(x == 2):\r\n",
        "    return 100\r\n",
        "  if(x == 3 or x == 4):\r\n",
        "    return 80\r\n",
        "  if(x == 5):\r\n",
        "    return 88  \r\n",
        "  if(x == 6 or x == 17):\r\n",
        "    return 119\r\n",
        "  if(x == 7):\r\n",
        "    return 110\r\n",
        "  if(x == 8):\r\n",
        "    return 107\r\n",
        "  if(x == 9):\r\n",
        "    return 92.8\r\n",
        "  if(x == 10):\r\n",
        "    return 104.5\r\n",
        "  if(x == 11 or x == 14 or x == 16):\r\n",
        "    return 120 \r\n",
        "  if(x == 12 or x == 13 or x == 21):\r\n",
        "    return 96\r\n",
        "  if(x == 18):\r\n",
        "    return 92.4\r\n",
        "  if(x == 19):\r\n",
        "    return 126.4\r\n",
        "  if(x == 20):\r\n",
        "    return 130.9\r\n",
        "  if(x == 22):\r\n",
        "    return 132\r\n",
        "  if(x == 23):\r\n",
        "    return 152\r\n",
        "\r\n",
        "def setLocationPrice(x):\r\n",
        "  if(x == 1):\r\n",
        "    return 66.67\r\n",
        "  if(x == 2 or x == 3 or x == 4):\r\n",
        "    return 100\r\n",
        "  if(x == 5):\r\n",
        "    return 109.52\r\n",
        "  if(x == 6):\r\n",
        "    return 114.29  \r\n",
        "  if(x == 7 or x == 8):\r\n",
        "    return 124.26\r\n",
        "  if(x == 9):\r\n",
        "    return 126.41\r\n",
        "  if(x == 10 or x == 11):\r\n",
        "    return 128.57\r\n",
        "  if(x == 12 or x == 13):\r\n",
        "    return 130.73\r\n",
        "  if(x == 14):\r\n",
        "    return 132.89\r\n",
        "  if(x == 15):\r\n",
        "    return 139.29 \r\n",
        "  if(x == 16):\r\n",
        "    return 140.47\r\n",
        "  if(x == 17):\r\n",
        "    return 141.44\r\n",
        "  if(x == 18 or x == 19):\r\n",
        "    return 142.63\r\n",
        "  if(x == 20):\r\n",
        "    return 149.26\r\n",
        "  if(x == 21):\r\n",
        "    return 161.90\r\n",
        "  if(x == 22):\r\n",
        "    return 173.81\r\n",
        "  if(x == 23):\r\n",
        "    return 179.99\r\n",
        "  else:  \r\n",
        "    return 100  \r\n",
        "\r\n",
        "def getHourlyCostWithPurchaseType(purchase_type,leaseContractLength, onDemandPrice):\r\n",
        "  NumHours = 365*24*leaseContractLength   #365 days * 24 hours * 1 year = 8760.0000 hours\r\n",
        "  if(leaseContractLength == 1):\r\n",
        "    y = onDemandPrice*62.73/100\r\n",
        "  if(leaseContractLength == 2):\r\n",
        "    y = onDemandPrice*43.15/100\r\n",
        "  TotalCommitment = y * NumHours\r\n",
        "  x = 0\r\n",
        "  if(purchase_type == 2):\r\n",
        "   x = 0.5\r\n",
        "  if(purchase_type == 1):\r\n",
        "   x = 1 \r\n",
        "  UpfrontCost = x*TotalCommitment\r\n",
        "  HourlyCost = (TotalCommitment - UpfrontCost)/NumHours\r\n",
        "  return HourlyCost\r\n",
        "\r\n",
        "def getUpfrontCostWithPurchaseType(purchase_type,leaseContractLength, onDemandPrice):\r\n",
        "  NumHours = 365*24*leaseContractLength  \r\n",
        "  if(leaseContractLength == 1):\r\n",
        "    y = onDemandPrice*62.73/100\r\n",
        "  if(leaseContractLength == 2):\r\n",
        "    y = onDemandPrice*43.15/100\r\n",
        "  TotalCommitment = y * NumHours\r\n",
        "  x = 0\r\n",
        "  if(purchase_type == 2):\r\n",
        "   x = 0.5\r\n",
        "  if(purchase_type == 1):\r\n",
        "   x = 1 \r\n",
        "  UpfrontCost = x*TotalCommitment\r\n",
        "  return UpfrontCost\r\n",
        "\r\n",
        "def setPricingEC2(row):\r\n",
        "  # if (row['PricePerUnit'] <= 5 or row['PricePerUnit'] > 38000):\r\n",
        "    p = setOnDemandPrice(row)\r\n",
        "    p = getHourlyCostWithPurchaseType(row['PurchaseOption'], row['LeaseContractLength'], p)\r\n",
        "    p = setOfferingClassPrice(row['OfferingClass'], p)\r\n",
        "    p = p*setLocationPrice(row['Location'])/100\r\n",
        "    p = p*setOSPrice(row['Operating_System'])/100\r\n",
        "    return p*730 + 10*setStoragePriceWithLocation(row['Location'])/100\r\n",
        "  # else :\r\n",
        "  #   return row['PricePerUnit']\r\n",
        "\r\n",
        "def setPricingUpfrontEC2(row):\r\n",
        "    p = setOnDemandPrice(row)\r\n",
        "    p = getUpfrontCostWithPurchaseType(row['PurchaseOption'], row['LeaseContractLength'], p)\r\n",
        "    p = setOfferingClassPrice(row['OfferingClass'], p)\r\n",
        "    p = p*setLocationPrice(row['Location'])/100\r\n",
        "    p = p*setOSPrice(row['Operating_System'])/100\r\n",
        "    return p\r\n",
        "\r\n",
        "df1['PricePerUnit'] = df1.apply (lambda row: setPricingEC2(row), axis=1) \r\n",
        "df1['UpfrontCost'] = df1.apply (lambda row: setPricingUpfrontEC2(row), axis=1) \r\n",
        "\r\n",
        "df1['PricePerUnit'] = df1['PricePerUnit'].apply(lambda x: round(x, 2))\r\n",
        "df1['UpfrontCost'] = df1['UpfrontCost'].apply(lambda x: round(x, 2))\r\n",
        "\r\n",
        "df1.head(5) "
      ],
      "execution_count": 103,
      "outputs": [
        {
          "output_type": "execute_result",
          "data": {
            "text/html": [
              "<div>\n",
              "<style scoped>\n",
              "    .dataframe tbody tr th:only-of-type {\n",
              "        vertical-align: middle;\n",
              "    }\n",
              "\n",
              "    .dataframe tbody tr th {\n",
              "        vertical-align: top;\n",
              "    }\n",
              "\n",
              "    .dataframe thead th {\n",
              "        text-align: right;\n",
              "    }\n",
              "</style>\n",
              "<table border=\"1\" class=\"dataframe\">\n",
              "  <thead>\n",
              "    <tr style=\"text-align: right;\">\n",
              "      <th></th>\n",
              "      <th>PricePerUnit</th>\n",
              "      <th>UpfrontCost</th>\n",
              "      <th>Instance_Type</th>\n",
              "      <th>Operating_System</th>\n",
              "      <th>Location</th>\n",
              "      <th>LeaseContractLength</th>\n",
              "      <th>PurchaseOption</th>\n",
              "      <th>OfferingClass</th>\n",
              "    </tr>\n",
              "  </thead>\n",
              "  <tbody>\n",
              "    <tr>\n",
              "      <th>0</th>\n",
              "      <td>239.58</td>\n",
              "      <td>0.00</td>\n",
              "      <td>35</td>\n",
              "      <td>4</td>\n",
              "      <td>2</td>\n",
              "      <td>1</td>\n",
              "      <td>3</td>\n",
              "      <td>1</td>\n",
              "    </tr>\n",
              "    <tr>\n",
              "      <th>1</th>\n",
              "      <td>62.37</td>\n",
              "      <td>1304.94</td>\n",
              "      <td>23</td>\n",
              "      <td>1</td>\n",
              "      <td>3</td>\n",
              "      <td>2</td>\n",
              "      <td>2</td>\n",
              "      <td>2</td>\n",
              "    </tr>\n",
              "    <tr>\n",
              "      <th>4</th>\n",
              "      <td>12.00</td>\n",
              "      <td>5036.66</td>\n",
              "      <td>43</td>\n",
              "      <td>4</td>\n",
              "      <td>14</td>\n",
              "      <td>2</td>\n",
              "      <td>1</td>\n",
              "      <td>1</td>\n",
              "    </tr>\n",
              "    <tr>\n",
              "      <th>5</th>\n",
              "      <td>8.00</td>\n",
              "      <td>2991.97</td>\n",
              "      <td>47</td>\n",
              "      <td>2</td>\n",
              "      <td>3</td>\n",
              "      <td>2</td>\n",
              "      <td>1</td>\n",
              "      <td>2</td>\n",
              "    </tr>\n",
              "    <tr>\n",
              "      <th>8</th>\n",
              "      <td>8.00</td>\n",
              "      <td>1652.94</td>\n",
              "      <td>43</td>\n",
              "      <td>1</td>\n",
              "      <td>4</td>\n",
              "      <td>1</td>\n",
              "      <td>1</td>\n",
              "      <td>1</td>\n",
              "    </tr>\n",
              "  </tbody>\n",
              "</table>\n",
              "</div>"
            ],
            "text/plain": [
              "   PricePerUnit  UpfrontCost  ...  PurchaseOption  OfferingClass\n",
              "0        239.58         0.00  ...               3              1\n",
              "1         62.37      1304.94  ...               2              2\n",
              "4         12.00      5036.66  ...               1              1\n",
              "5          8.00      2991.97  ...               1              2\n",
              "8          8.00      1652.94  ...               1              1\n",
              "\n",
              "[5 rows x 8 columns]"
            ]
          },
          "metadata": {
            "tags": []
          },
          "execution_count": 103
        }
      ]
    },
    {
      "cell_type": "code",
      "metadata": {
        "colab": {
          "base_uri": "https://localhost:8080/"
        },
        "id": "r0Shpk4S69vt",
        "outputId": "31fb6c36-4091-47a7-ae5f-55d07ab4c89a"
      },
      "source": [
        "df1['UpfrontCost'].max() "
      ],
      "execution_count": 109,
      "outputs": [
        {
          "output_type": "execute_result",
          "data": {
            "text/plain": [
              "9066.23"
            ]
          },
          "metadata": {
            "tags": []
          },
          "execution_count": 109
        }
      ]
    },
    {
      "cell_type": "code",
      "metadata": {
        "colab": {
          "base_uri": "https://localhost:8080/",
          "height": 419
        },
        "id": "JPSJh0LG43BJ",
        "outputId": "d4f34451-b342-4361-9600-248cb418b87b"
      },
      "source": [
        "df2 = df1.copy()\r\n",
        "df2['PricePerUnit'] = df2['PricePerUnit']/100\r\n",
        "df2['UpfrontCost'] = df2['UpfrontCost']/1000\r\n",
        "df2"
      ],
      "execution_count": 110,
      "outputs": [
        {
          "output_type": "execute_result",
          "data": {
            "text/html": [
              "<div>\n",
              "<style scoped>\n",
              "    .dataframe tbody tr th:only-of-type {\n",
              "        vertical-align: middle;\n",
              "    }\n",
              "\n",
              "    .dataframe tbody tr th {\n",
              "        vertical-align: top;\n",
              "    }\n",
              "\n",
              "    .dataframe thead th {\n",
              "        text-align: right;\n",
              "    }\n",
              "</style>\n",
              "<table border=\"1\" class=\"dataframe\">\n",
              "  <thead>\n",
              "    <tr style=\"text-align: right;\">\n",
              "      <th></th>\n",
              "      <th>PricePerUnit</th>\n",
              "      <th>UpfrontCost</th>\n",
              "      <th>Instance_Type</th>\n",
              "      <th>Operating_System</th>\n",
              "      <th>Location</th>\n",
              "      <th>LeaseContractLength</th>\n",
              "      <th>PurchaseOption</th>\n",
              "      <th>OfferingClass</th>\n",
              "    </tr>\n",
              "  </thead>\n",
              "  <tbody>\n",
              "    <tr>\n",
              "      <th>0</th>\n",
              "      <td>2.3958</td>\n",
              "      <td>0.00000</td>\n",
              "      <td>35</td>\n",
              "      <td>4</td>\n",
              "      <td>2</td>\n",
              "      <td>1</td>\n",
              "      <td>3</td>\n",
              "      <td>1</td>\n",
              "    </tr>\n",
              "    <tr>\n",
              "      <th>1</th>\n",
              "      <td>0.6237</td>\n",
              "      <td>1.30494</td>\n",
              "      <td>23</td>\n",
              "      <td>1</td>\n",
              "      <td>3</td>\n",
              "      <td>2</td>\n",
              "      <td>2</td>\n",
              "      <td>2</td>\n",
              "    </tr>\n",
              "    <tr>\n",
              "      <th>4</th>\n",
              "      <td>0.1200</td>\n",
              "      <td>5.03666</td>\n",
              "      <td>43</td>\n",
              "      <td>4</td>\n",
              "      <td>14</td>\n",
              "      <td>2</td>\n",
              "      <td>1</td>\n",
              "      <td>1</td>\n",
              "    </tr>\n",
              "    <tr>\n",
              "      <th>5</th>\n",
              "      <td>0.0800</td>\n",
              "      <td>2.99197</td>\n",
              "      <td>47</td>\n",
              "      <td>2</td>\n",
              "      <td>3</td>\n",
              "      <td>2</td>\n",
              "      <td>1</td>\n",
              "      <td>2</td>\n",
              "    </tr>\n",
              "    <tr>\n",
              "      <th>8</th>\n",
              "      <td>0.0800</td>\n",
              "      <td>1.65294</td>\n",
              "      <td>43</td>\n",
              "      <td>1</td>\n",
              "      <td>4</td>\n",
              "      <td>1</td>\n",
              "      <td>1</td>\n",
              "      <td>1</td>\n",
              "    </tr>\n",
              "    <tr>\n",
              "      <th>...</th>\n",
              "      <td>...</td>\n",
              "      <td>...</td>\n",
              "      <td>...</td>\n",
              "      <td>...</td>\n",
              "      <td>...</td>\n",
              "      <td>...</td>\n",
              "      <td>...</td>\n",
              "      <td>...</td>\n",
              "    </tr>\n",
              "    <tr>\n",
              "      <th>805686</th>\n",
              "      <td>0.7033</td>\n",
              "      <td>1.49599</td>\n",
              "      <td>54</td>\n",
              "      <td>2</td>\n",
              "      <td>3</td>\n",
              "      <td>2</td>\n",
              "      <td>2</td>\n",
              "      <td>2</td>\n",
              "    </tr>\n",
              "    <tr>\n",
              "      <th>805689</th>\n",
              "      <td>0.4299</td>\n",
              "      <td>0.75804</td>\n",
              "      <td>81</td>\n",
              "      <td>1</td>\n",
              "      <td>1</td>\n",
              "      <td>2</td>\n",
              "      <td>2</td>\n",
              "      <td>1</td>\n",
              "    </tr>\n",
              "    <tr>\n",
              "      <th>805690</th>\n",
              "      <td>0.7793</td>\n",
              "      <td>1.64771</td>\n",
              "      <td>66</td>\n",
              "      <td>2</td>\n",
              "      <td>9</td>\n",
              "      <td>2</td>\n",
              "      <td>2</td>\n",
              "      <td>1</td>\n",
              "    </tr>\n",
              "    <tr>\n",
              "      <th>805695</th>\n",
              "      <td>0.1200</td>\n",
              "      <td>2.66483</td>\n",
              "      <td>64</td>\n",
              "      <td>1</td>\n",
              "      <td>16</td>\n",
              "      <td>1</td>\n",
              "      <td>1</td>\n",
              "      <td>2</td>\n",
              "    </tr>\n",
              "    <tr>\n",
              "      <th>805698</th>\n",
              "      <td>0.1190</td>\n",
              "      <td>3.21636</td>\n",
              "      <td>80</td>\n",
              "      <td>1</td>\n",
              "      <td>17</td>\n",
              "      <td>2</td>\n",
              "      <td>1</td>\n",
              "      <td>1</td>\n",
              "    </tr>\n",
              "  </tbody>\n",
              "</table>\n",
              "<p>253654 rows × 8 columns</p>\n",
              "</div>"
            ],
            "text/plain": [
              "        PricePerUnit  UpfrontCost  ...  PurchaseOption  OfferingClass\n",
              "0             2.3958      0.00000  ...               3              1\n",
              "1             0.6237      1.30494  ...               2              2\n",
              "4             0.1200      5.03666  ...               1              1\n",
              "5             0.0800      2.99197  ...               1              2\n",
              "8             0.0800      1.65294  ...               1              1\n",
              "...              ...          ...  ...             ...            ...\n",
              "805686        0.7033      1.49599  ...               2              2\n",
              "805689        0.4299      0.75804  ...               2              1\n",
              "805690        0.7793      1.64771  ...               2              1\n",
              "805695        0.1200      2.66483  ...               1              2\n",
              "805698        0.1190      3.21636  ...               1              1\n",
              "\n",
              "[253654 rows x 8 columns]"
            ]
          },
          "metadata": {
            "tags": []
          },
          "execution_count": 110
        }
      ]
    },
    {
      "cell_type": "code",
      "metadata": {
        "id": "mpf2mtykH0LS"
      },
      "source": [
        "# df3 = df2.copy()\n",
        "# df3['Price'] = np.log(df3['PricePerUnit'])\n",
        "# sns.distplot(df3['PricePerUnit'])\n",
        "# plt.title('Life Expectancy', fontsize=18)\n",
        "# plt.xlabel('Life Exp (years)', fontsize=16)\n",
        "# plt.ylabel('Frequency', fontsize=16)"
      ],
      "execution_count": null,
      "outputs": []
    },
    {
      "cell_type": "code",
      "metadata": {
        "id": "Rk7eWzkQIy6B"
      },
      "source": [
        "df2.boxplot(column='PricePerUnit')\n",
        "plt.show()"
      ],
      "execution_count": null,
      "outputs": []
    },
    {
      "cell_type": "code",
      "metadata": {
        "id": "AgKLohLZJD9A"
      },
      "source": [
        "df3 = df2.drop(columns=['PricePerUnit', 'UpfrontCost'])"
      ],
      "execution_count": null,
      "outputs": []
    },
    {
      "cell_type": "code",
      "metadata": {
        "colab": {
          "base_uri": "https://localhost:8080/"
        },
        "id": "JwuWOVQjyO3r",
        "outputId": "7e8a4726-4ff4-47ec-ddfc-ce3da41eb8b5"
      },
      "source": [
        "# df4 = df3.drop(columns=['Price'])\n",
        "X = df3.values\n",
        "X"
      ],
      "execution_count": 113,
      "outputs": [
        {
          "output_type": "execute_result",
          "data": {
            "text/plain": [
              "array([[1.67910000e+02, 0.00000000e+00, 3.50000000e+01, ...,\n",
              "        2.00000000e+00, 4.00000000e+00, 5.12342812e+00],\n",
              "       [6.23700000e+01, 1.30494000e+03, 2.30000000e+01, ...,\n",
              "        3.00000000e+00, 3.00000000e+00, 4.13308439e+00],\n",
              "       [8.00000000e+00, 4.34989000e+03, 4.70000000e+01, ...,\n",
              "        4.00000000e+00, 3.00000000e+00, 2.07944154e+00],\n",
              "       ...,\n",
              "       [2.60240000e+02, 0.00000000e+00, 4.80000000e+01, ...,\n",
              "        3.00000000e+00, 1.20000000e+01, 5.56160428e+00],\n",
              "       [8.00000000e+00, 3.19018000e+03, 8.20000000e+01, ...,\n",
              "        4.00000000e+00, 3.00000000e+00, 2.07944154e+00],\n",
              "       [2.07440000e+02, 0.00000000e+00, 7.20000000e+01, ...,\n",
              "        3.00000000e+00, 5.00000000e+00, 5.33484214e+00]])"
            ]
          },
          "metadata": {
            "tags": []
          },
          "execution_count": 113
        }
      ]
    },
    {
      "cell_type": "code",
      "metadata": {
        "colab": {
          "base_uri": "https://localhost:8080/"
        },
        "id": "407rtrrWL5Ye",
        "outputId": "1949d655-436c-485f-b430-5cffaa822a91"
      },
      "source": [
        "y = df2.PricePerUnit.values\n",
        "y"
      ],
      "execution_count": 115,
      "outputs": [
        {
          "output_type": "execute_result",
          "data": {
            "text/plain": [
              "array([2.3958, 0.6237, 0.12  , ..., 0.7793, 0.12  , 0.119 ])"
            ]
          },
          "metadata": {
            "tags": []
          },
          "execution_count": 115
        }
      ]
    },
    {
      "cell_type": "code",
      "metadata": {
        "id": "LiJep4y0AjGH"
      },
      "source": [
        "# df5 = df2\n",
        "# def setPriceList (row, j):\n",
        "#       unit_price = 0\n",
        "#       average_price_list\n",
        "#       count = 0\n",
        "#       for(i in 84) :\n",
        "#         if (row['Instance_Type'] == i) :\n",
        "#           count++\n",
        "#           unit_price =+ row['PricePerUnit']\n",
        "#           average_price = unit_price/count\n",
        "#           np_average_price = np.array([[i, average_price]])\n",
        "#           np.append(average_price_list, np_average_price, axis=0)\n",
        "    \n",
        "\n",
        "\n",
        "# a1 = df3.apply (lambda row: setLeaseContractLength(row), axis=1)"
      ],
      "execution_count": null,
      "outputs": []
    },
    {
      "cell_type": "code",
      "metadata": {
        "id": "HPQ64CltL82r"
      },
      "source": [
        "from sklearn.preprocessing import OneHotEncoder, OrdinalEncoder\n",
        "from sklearn.compose import ColumnTransformer"
      ],
      "execution_count": null,
      "outputs": []
    },
    {
      "cell_type": "code",
      "metadata": {
        "colab": {
          "base_uri": "https://localhost:8080/"
        },
        "id": "72c_Oef0Yu94",
        "outputId": "4967bb20-c79c-42a6-cbdb-474d546acffe"
      },
      "source": [
        "df4.dtypes"
      ],
      "execution_count": null,
      "outputs": [
        {
          "output_type": "execute_result",
          "data": {
            "text/plain": [
              "Instance_Type          int64\n",
              "Operating_System       int64\n",
              "Location               int64\n",
              "LeaseContractLength    int64\n",
              "PurchaseOption         int64\n",
              "OfferingClass          int64\n",
              "Year                   int64\n",
              "Month                  int64\n",
              "dtype: object"
            ]
          },
          "metadata": {
            "tags": []
          },
          "execution_count": 44
        }
      ]
    },
    {
      "cell_type": "code",
      "metadata": {
        "id": "1I8rQs6_M8HR"
      },
      "source": [
        "# ct = ColumnTransformer([(\"en\", OneHotEncoder(), [6])], remainder = 'passthrough')\n",
        "# X = ct.fit_transform(X)\n",
        "# X = X[:,1:]\n",
        "# X"
      ],
      "execution_count": null,
      "outputs": []
    },
    {
      "cell_type": "code",
      "metadata": {
        "id": "oKbBSIBlSdEY"
      },
      "source": [
        "# dummies1 = pd.get_dummies(df4.Instance_Type)\n",
        "# dummies1 = dummies1.iloc[:,:-1]\n",
        "# dummies2 = pd.get_dummies(df4.Location)\n",
        "# dummies2 = dummies2.iloc[:,:-1]\n",
        "# dummies3 = pd.get_dummies(df4.Year)\n",
        "# dummies3 = dummies3.iloc[:,:-1]\n",
        "# dummies4 = pd.get_dummies(df4.Month)\n",
        "# dummies4 = dummies3.iloc[:,:-1]"
      ],
      "execution_count": null,
      "outputs": []
    },
    {
      "cell_type": "code",
      "metadata": {
        "id": "NcJXPR-hjSuz"
      },
      "source": [
        "# df4 = pd.concat([df4,dummies1],axis='columns')\n",
        "# df4 = pd.concat([df4,dummies2],axis='columns')\n",
        "# df4 = pd.concat([df4,dummies3],axis='columns')\n",
        "# df4 = pd.concat([df4,dummies4],axis='columns')\n",
        "# df4"
      ],
      "execution_count": null,
      "outputs": []
    },
    {
      "cell_type": "code",
      "metadata": {
        "id": "uNXDBHdDtA3L",
        "colab": {
          "base_uri": "https://localhost:8080/",
          "height": 410
        },
        "outputId": "b6bd15d8-6a41-4355-f437-e1bb3b3ac6e5"
      },
      "source": [
        "k=10\n",
        "corr = df1.corr()\n",
        "corr\n",
        "cols = corr.nlargest(k,'Location')['Operating_System'].index\n",
        "cm = np.corrcoef(df1[cols].values.T)\n",
        "sns.set(font_scale=1.25)\n",
        "hm = sns.heatmap(cm, cbar=True, annot=True, square=True, fmt='.2f', annot_kws={'size':10}, yticklabels=cols.values, xticklabels=cols.values)\n",
        "plt.show()"
      ],
      "execution_count": null,
      "outputs": [
        {
          "output_type": "display_data",
          "data": {
            "image/png": "[encoded data removed]",
            "text/plain": [
              "<Figure size 432x288 with 2 Axes>"
            ]
          },
          "metadata": {
            "tags": []
          }
        }
      ]
    },
    {
      "cell_type": "code",
      "metadata": {
        "id": "JHsV8utGLpNS"
      },
      "source": [
        "# series = df1.isnull().sum().sort_values(ascending=False)\n",
        "# for index, value in series.items() :\n",
        "#     if value > (df1.shape[0] > 0) :\n",
        "#         print(str(index) + \" : \" + str(value))"
      ],
      "execution_count": null,
      "outputs": []
    },
    {
      "cell_type": "code",
      "metadata": {
        "colab": {
          "base_uri": "https://localhost:8080/"
        },
        "id": "sZOJlYvUqZsD",
        "outputId": "0ccf2649-d011-43ad-ca3e-d9074c20ec89"
      },
      "source": [
        "# is_NaN = df1.isnull()\n",
        "# row_has_NaN = is_NaN.any(axis=1)\n",
        "# rows_with_NaN = df1[row_has_NaN]\n",
        "\n",
        "# print(rows_with_NaN)"
      ],
      "execution_count": null,
      "outputs": [
        {
          "output_type": "stream",
          "text": [
            "Empty DataFrame\n",
            "Columns: [Instance_Type, Project_Type, Project_Size, vCPU, Memory, Network_Performance, Operating_System, Storage, Location, Clock_Speed, OfferingClass, LeaseContractLength, PurchaseOption]\n",
            "Index: []\n"
          ],
          "name": "stdout"
        }
      ]
    },
    {
      "cell_type": "markdown",
      "metadata": {
        "id": "sKxpFmAxqZPU"
      },
      "source": [
        ""
      ]
    },
    {
      "cell_type": "code",
      "metadata": {
        "id": "VtHAuejXLtep",
        "colab": {
          "base_uri": "https://localhost:8080/"
        },
        "outputId": "79bf233b-0f21-442a-9b42-17dc27ee8f95"
      },
      "source": [
        "for col in df1.columns:\n",
        "    print(col, ':  ', len(df2[col].unique()), ' labels')"
      ],
      "execution_count": 116,
      "outputs": [
        {
          "output_type": "stream",
          "text": [
            "PricePerUnit :   538  labels\n",
            "UpfrontCost :   449  labels\n",
            "Instance_Type :   52  labels\n",
            "Operating_System :   4  labels\n",
            "Location :   19  labels\n",
            "LeaseContractLength :   2  labels\n",
            "PurchaseOption :   3  labels\n",
            "OfferingClass :   2  labels\n"
          ],
          "name": "stdout"
        }
      ]
    },
    {
      "cell_type": "code",
      "metadata": {
        "id": "C7ProZrl3UQv"
      },
      "source": [
        "df5.Instance_Type.value_counts().sort_values(ascending=False).head(80)"
      ],
      "execution_count": null,
      "outputs": []
    },
    {
      "cell_type": "code",
      "metadata": {
        "colab": {
          "base_uri": "https://localhost:8080/"
        },
        "id": "AoaflHNSOy1M",
        "outputId": "f79114d5-0e66-449f-f511-0375c64ba140"
      },
      "source": [
        "# # Get the count of each value\n",
        "# value_counts = df1['Instance_Type'].value_counts()\n",
        "\n",
        "# # Select the values where the count is less than 3 (or 5 if you like)\n",
        "# to_remove = value_counts[value_counts >= 56000].index\n",
        "# # Keep rows where the Instance_Type column is not in to_remove\n",
        "# df1 = df1[~df1.Instance_Type.isin(to_remove)]\n",
        "# df1"
      ],
      "execution_count": null,
      "outputs": [
        {
          "output_type": "execute_result",
          "data": {
            "text/plain": [
              "Int64Index([8], dtype='int64')"
            ]
          },
          "metadata": {
            "tags": []
          },
          "execution_count": 28
        }
      ]
    },
    {
      "cell_type": "code",
      "metadata": {
        "colab": {
          "base_uri": "https://localhost:8080/"
        },
        "id": "wDEntt4J2T5M",
        "outputId": "eb98c9bd-ce13-41de-c25c-44a68c3b7482"
      },
      "source": [
        "df1['Instance_Type']"
      ],
      "execution_count": null,
      "outputs": [
        {
          "output_type": "execute_result",
          "data": {
            "text/plain": [
              "0         35\n",
              "1         23\n",
              "4         43\n",
              "5         47\n",
              "8         43\n",
              "          ..\n",
              "805686    54\n",
              "805689    81\n",
              "805690    66\n",
              "805695    64\n",
              "805698    80\n",
              "Name: Instance_Type, Length: 253654, dtype: int64"
            ]
          },
          "metadata": {
            "tags": []
          },
          "execution_count": 50
        }
      ]
    },
    {
      "cell_type": "code",
      "metadata": {
        "id": "--WbHFHIPxB6"
      },
      "source": [
        "df3 = df2.loc[df2['Instance_Type'] == 43].head(15000)\n",
        "df4 = df2.loc[df2['Instance_Type'] != 43].head(200000)\n",
        "df5 = df3.append([df4])"
      ],
      "execution_count": 120,
      "outputs": []
    },
    {
      "cell_type": "code",
      "metadata": {
        "colab": {
          "base_uri": "https://localhost:8080/",
          "height": 419
        },
        "id": "8rBKxbhCUkJc",
        "outputId": "eccd2f95-7410-41c4-ddbb-7434bb78d09e"
      },
      "source": [
        "df5"
      ],
      "execution_count": 121,
      "outputs": [
        {
          "output_type": "execute_result",
          "data": {
            "text/html": [
              "<div>\n",
              "<style scoped>\n",
              "    .dataframe tbody tr th:only-of-type {\n",
              "        vertical-align: middle;\n",
              "    }\n",
              "\n",
              "    .dataframe tbody tr th {\n",
              "        vertical-align: top;\n",
              "    }\n",
              "\n",
              "    .dataframe thead th {\n",
              "        text-align: right;\n",
              "    }\n",
              "</style>\n",
              "<table border=\"1\" class=\"dataframe\">\n",
              "  <thead>\n",
              "    <tr style=\"text-align: right;\">\n",
              "      <th></th>\n",
              "      <th>PricePerUnit</th>\n",
              "      <th>UpfrontCost</th>\n",
              "      <th>Instance_Type</th>\n",
              "      <th>Operating_System</th>\n",
              "      <th>Location</th>\n",
              "      <th>LeaseContractLength</th>\n",
              "      <th>PurchaseOption</th>\n",
              "      <th>OfferingClass</th>\n",
              "    </tr>\n",
              "  </thead>\n",
              "  <tbody>\n",
              "    <tr>\n",
              "      <th>4</th>\n",
              "      <td>0.1200</td>\n",
              "      <td>5.03666</td>\n",
              "      <td>43</td>\n",
              "      <td>4</td>\n",
              "      <td>14</td>\n",
              "      <td>2</td>\n",
              "      <td>1</td>\n",
              "      <td>1</td>\n",
              "    </tr>\n",
              "    <tr>\n",
              "      <th>8</th>\n",
              "      <td>0.0800</td>\n",
              "      <td>1.65294</td>\n",
              "      <td>43</td>\n",
              "      <td>1</td>\n",
              "      <td>4</td>\n",
              "      <td>1</td>\n",
              "      <td>1</td>\n",
              "      <td>1</td>\n",
              "    </tr>\n",
              "    <tr>\n",
              "      <th>9</th>\n",
              "      <td>0.1190</td>\n",
              "      <td>3.68724</td>\n",
              "      <td>43</td>\n",
              "      <td>2</td>\n",
              "      <td>17</td>\n",
              "      <td>2</td>\n",
              "      <td>1</td>\n",
              "      <td>1</td>\n",
              "    </tr>\n",
              "    <tr>\n",
              "      <th>37</th>\n",
              "      <td>0.0880</td>\n",
              "      <td>1.81030</td>\n",
              "      <td>43</td>\n",
              "      <td>1</td>\n",
              "      <td>5</td>\n",
              "      <td>1</td>\n",
              "      <td>1</td>\n",
              "      <td>1</td>\n",
              "    </tr>\n",
              "    <tr>\n",
              "      <th>75</th>\n",
              "      <td>2.0692</td>\n",
              "      <td>0.00000</td>\n",
              "      <td>43</td>\n",
              "      <td>2</td>\n",
              "      <td>8</td>\n",
              "      <td>1</td>\n",
              "      <td>3</td>\n",
              "      <td>1</td>\n",
              "    </tr>\n",
              "    <tr>\n",
              "      <th>...</th>\n",
              "      <td>...</td>\n",
              "      <td>...</td>\n",
              "      <td>...</td>\n",
              "      <td>...</td>\n",
              "      <td>...</td>\n",
              "      <td>...</td>\n",
              "      <td>...</td>\n",
              "      <td>...</td>\n",
              "    </tr>\n",
              "    <tr>\n",
              "      <th>768360</th>\n",
              "      <td>1.1547</td>\n",
              "      <td>1.24280</td>\n",
              "      <td>48</td>\n",
              "      <td>2</td>\n",
              "      <td>6</td>\n",
              "      <td>1</td>\n",
              "      <td>2</td>\n",
              "      <td>2</td>\n",
              "    </tr>\n",
              "    <tr>\n",
              "      <th>768365</th>\n",
              "      <td>0.1190</td>\n",
              "      <td>4.18457</td>\n",
              "      <td>66</td>\n",
              "      <td>3</td>\n",
              "      <td>6</td>\n",
              "      <td>1</td>\n",
              "      <td>1</td>\n",
              "      <td>2</td>\n",
              "    </tr>\n",
              "    <tr>\n",
              "      <th>768368</th>\n",
              "      <td>1.8174</td>\n",
              "      <td>0.00000</td>\n",
              "      <td>48</td>\n",
              "      <td>2</td>\n",
              "      <td>5</td>\n",
              "      <td>1</td>\n",
              "      <td>3</td>\n",
              "      <td>1</td>\n",
              "    </tr>\n",
              "    <tr>\n",
              "      <th>768372</th>\n",
              "      <td>0.0800</td>\n",
              "      <td>3.19018</td>\n",
              "      <td>82</td>\n",
              "      <td>3</td>\n",
              "      <td>3</td>\n",
              "      <td>1</td>\n",
              "      <td>1</td>\n",
              "      <td>1</td>\n",
              "    </tr>\n",
              "    <tr>\n",
              "      <th>768373</th>\n",
              "      <td>2.0744</td>\n",
              "      <td>0.00000</td>\n",
              "      <td>72</td>\n",
              "      <td>1</td>\n",
              "      <td>7</td>\n",
              "      <td>1</td>\n",
              "      <td>3</td>\n",
              "      <td>2</td>\n",
              "    </tr>\n",
              "  </tbody>\n",
              "</table>\n",
              "<p>215000 rows × 8 columns</p>\n",
              "</div>"
            ],
            "text/plain": [
              "        PricePerUnit  UpfrontCost  ...  PurchaseOption  OfferingClass\n",
              "4             0.1200      5.03666  ...               1              1\n",
              "8             0.0800      1.65294  ...               1              1\n",
              "9             0.1190      3.68724  ...               1              1\n",
              "37            0.0880      1.81030  ...               1              1\n",
              "75            2.0692      0.00000  ...               3              1\n",
              "...              ...          ...  ...             ...            ...\n",
              "768360        1.1547      1.24280  ...               2              2\n",
              "768365        0.1190      4.18457  ...               1              2\n",
              "768368        1.8174      0.00000  ...               3              1\n",
              "768372        0.0800      3.19018  ...               1              1\n",
              "768373        2.0744      0.00000  ...               3              2\n",
              "\n",
              "[215000 rows x 8 columns]"
            ]
          },
          "metadata": {
            "tags": []
          },
          "execution_count": 121
        }
      ]
    },
    {
      "cell_type": "code",
      "metadata": {
        "colab": {
          "base_uri": "https://localhost:8080/"
        },
        "id": "owo8P6BgRWJ6",
        "outputId": "ac1295ce-7ca6-4f3a-988d-64190be9f102"
      },
      "source": [
        "df5.Instance_Type.value_counts().sort_values(ascending=False).head(10)"
      ],
      "execution_count": null,
      "outputs": [
        {
          "output_type": "execute_result",
          "data": {
            "text/plain": [
              "43    43946\n",
              "64    12975\n",
              "47     9184\n",
              "68     6787\n",
              "80     6784\n",
              "54     6752\n",
              "28     6699\n",
              "76     6687\n",
              "56     6505\n",
              "38     6479\n",
              "Name: Instance_Type, dtype: int64"
            ]
          },
          "metadata": {
            "tags": []
          },
          "execution_count": 53
        }
      ]
    },
    {
      "cell_type": "code",
      "metadata": {
        "id": "NgBmx6Z1mkXC"
      },
      "source": [
        "# df_frequency_map = df1.Instance_Type.value_counts().to_dict()\n",
        "# df1.Instance_Type = df1.Instance_Type.map(df_frequency_map)\n",
        "# df1.head(10)"
      ],
      "execution_count": null,
      "outputs": []
    },
    {
      "cell_type": "code",
      "metadata": {
        "colab": {
          "base_uri": "https://localhost:8080/"
        },
        "id": "bdhR_qj74F5J",
        "outputId": "99b3668a-edd4-4ff7-fdf8-92c19eb06a65"
      },
      "source": [
        "# top_10 = [x for x in df1.Instance_Type.value_counts().sort_values(ascending=False).head(10).index]\n",
        "# top_10"
      ],
      "execution_count": null,
      "outputs": [
        {
          "output_type": "execute_result",
          "data": {
            "text/plain": [
              "[8, 9, 6, 3, 5, 4, 7, 1]"
            ]
          },
          "metadata": {
            "tags": []
          },
          "execution_count": 8
        }
      ]
    },
    {
      "cell_type": "code",
      "metadata": {
        "colab": {
          "base_uri": "https://localhost:8080/"
        },
        "id": "yWM0LHYzzMua",
        "outputId": "5d9a9897-2deb-4f3f-9fdb-63ed7534202b"
      },
      "source": [
        "# pd.get_dummies(df1, drop_first=True).shape"
      ],
      "execution_count": null,
      "outputs": [
        {
          "output_type": "execute_result",
          "data": {
            "text/plain": [
              "(253654, 6)"
            ]
          },
          "metadata": {
            "tags": []
          },
          "execution_count": 8
        }
      ]
    },
    {
      "cell_type": "code",
      "metadata": {
        "id": "xM8RcwxezcJh"
      },
      "source": [
        "# df1"
      ],
      "execution_count": null,
      "outputs": []
    },
    {
      "cell_type": "code",
      "metadata": {
        "id": "4VCO1c6pQHCP"
      },
      "source": [
        "from keras.models import Sequential \n",
        "from sklearn.linear_model import LogisticRegression\n",
        "from keras.layers import Dense\n",
        "from keras import regularizers\n",
        "from sklearn import metrics\n",
        "from sklearn.neighbors import KNeighborsClassifier\n",
        "from sklearn import preprocessing \n",
        "from sklearn.model_selection import train_test_split\n",
        "from sklearn.model_selection import train_test_split\n",
        "from sklearn.model_selection import StratifiedKFold\n",
        "from statistics import mean, stdev \n",
        "from sklearn import linear_model\n",
        "import statsmodels.api as sm\n",
        "import tkinter as tk \n",
        "from matplotlib.backends.backend_tkagg import FigureCanvasTkAgg"
      ],
      "execution_count": 141,
      "outputs": []
    },
    {
      "cell_type": "code",
      "metadata": {
        "id": "5FrHcDlIYNlU"
      },
      "source": [
        "# sns.set(style=\"ticks\", color_codes=True)\n",
        "# ax = sns.pairplot(df1,palette=\"husl\")\n",
        "# plt.show()"
      ],
      "execution_count": null,
      "outputs": []
    },
    {
      "cell_type": "code",
      "metadata": {
        "id": "j9SSO9wCYvWi",
        "colab": {
          "base_uri": "https://localhost:8080/"
        },
        "outputId": "d71628c1-5294-44f5-9a9e-de86b8df2a7a"
      },
      "source": [
        "# X = df1.iloc[:,1:].values\n",
        "# X"
      ],
      "execution_count": null,
      "outputs": [
        {
          "output_type": "execute_result",
          "data": {
            "text/plain": [
              "array([[35,  1, 16,  1,  1,  2],\n",
              "       [23,  3, 19,  2,  2,  1],\n",
              "       [43,  1, 13,  2,  3,  2],\n",
              "       ...,\n",
              "       [66,  4,  7,  2,  2,  2],\n",
              "       [64,  3, 17,  1,  3,  1],\n",
              "       [80,  3, 18,  2,  3,  2]])"
            ]
          },
          "metadata": {
            "tags": []
          },
          "execution_count": 58
        }
      ]
    },
    {
      "cell_type": "code",
      "metadata": {
        "id": "T0lCrCjrtywD"
      },
      "source": [
        "# df10 = df10.drop(columns=['Price', 'UpfrontCost'])"
      ],
      "execution_count": null,
      "outputs": []
    },
    {
      "cell_type": "code",
      "metadata": {
        "id": "x_U8ltMkaOoo",
        "colab": {
          "base_uri": "https://localhost:8080/"
        },
        "outputId": "a19ec4eb-4237-4892-e410-528c2d388f0d"
      },
      "source": [
        "# y = df1.iloc[:,0].values\n",
        "# y = y.reshape((y.shape[0],1))\n",
        "# y"
      ],
      "execution_count": null,
      "outputs": [
        {
          "output_type": "execute_result",
          "data": {
            "text/plain": [
              "array([1.654900e+02, 9.249000e+01, 2.390700e+02, ..., 1.745405e+06,\n",
              "       1.757246e+06, 1.757246e+06])"
            ]
          },
          "metadata": {
            "tags": []
          },
          "execution_count": 105
        }
      ]
    },
    {
      "cell_type": "code",
      "metadata": {
        "id": "jf77b9NN-fiu",
        "colab": {
          "base_uri": "https://localhost:8080/",
          "height": 419
        },
        "outputId": "a786b268-0463-4001-c2cd-4d6a1ffa5648"
      },
      "source": [
        "X = df5.drop(columns=['PricePerUnit', 'UpfrontCost'])\n",
        "y = df5[['PricePerUnit']]\n",
        "X"
      ],
      "execution_count": 142,
      "outputs": [
        {
          "output_type": "execute_result",
          "data": {
            "text/html": [
              "<div>\n",
              "<style scoped>\n",
              "    .dataframe tbody tr th:only-of-type {\n",
              "        vertical-align: middle;\n",
              "    }\n",
              "\n",
              "    .dataframe tbody tr th {\n",
              "        vertical-align: top;\n",
              "    }\n",
              "\n",
              "    .dataframe thead th {\n",
              "        text-align: right;\n",
              "    }\n",
              "</style>\n",
              "<table border=\"1\" class=\"dataframe\">\n",
              "  <thead>\n",
              "    <tr style=\"text-align: right;\">\n",
              "      <th></th>\n",
              "      <th>Instance_Type</th>\n",
              "      <th>Operating_System</th>\n",
              "      <th>Location</th>\n",
              "      <th>LeaseContractLength</th>\n",
              "      <th>PurchaseOption</th>\n",
              "      <th>OfferingClass</th>\n",
              "    </tr>\n",
              "  </thead>\n",
              "  <tbody>\n",
              "    <tr>\n",
              "      <th>4</th>\n",
              "      <td>43</td>\n",
              "      <td>4</td>\n",
              "      <td>14</td>\n",
              "      <td>2</td>\n",
              "      <td>1</td>\n",
              "      <td>1</td>\n",
              "    </tr>\n",
              "    <tr>\n",
              "      <th>8</th>\n",
              "      <td>43</td>\n",
              "      <td>1</td>\n",
              "      <td>4</td>\n",
              "      <td>1</td>\n",
              "      <td>1</td>\n",
              "      <td>1</td>\n",
              "    </tr>\n",
              "    <tr>\n",
              "      <th>9</th>\n",
              "      <td>43</td>\n",
              "      <td>2</td>\n",
              "      <td>17</td>\n",
              "      <td>2</td>\n",
              "      <td>1</td>\n",
              "      <td>1</td>\n",
              "    </tr>\n",
              "    <tr>\n",
              "      <th>37</th>\n",
              "      <td>43</td>\n",
              "      <td>1</td>\n",
              "      <td>5</td>\n",
              "      <td>1</td>\n",
              "      <td>1</td>\n",
              "      <td>1</td>\n",
              "    </tr>\n",
              "    <tr>\n",
              "      <th>75</th>\n",
              "      <td>43</td>\n",
              "      <td>2</td>\n",
              "      <td>8</td>\n",
              "      <td>1</td>\n",
              "      <td>3</td>\n",
              "      <td>1</td>\n",
              "    </tr>\n",
              "    <tr>\n",
              "      <th>...</th>\n",
              "      <td>...</td>\n",
              "      <td>...</td>\n",
              "      <td>...</td>\n",
              "      <td>...</td>\n",
              "      <td>...</td>\n",
              "      <td>...</td>\n",
              "    </tr>\n",
              "    <tr>\n",
              "      <th>768360</th>\n",
              "      <td>48</td>\n",
              "      <td>2</td>\n",
              "      <td>6</td>\n",
              "      <td>1</td>\n",
              "      <td>2</td>\n",
              "      <td>2</td>\n",
              "    </tr>\n",
              "    <tr>\n",
              "      <th>768365</th>\n",
              "      <td>66</td>\n",
              "      <td>3</td>\n",
              "      <td>6</td>\n",
              "      <td>1</td>\n",
              "      <td>1</td>\n",
              "      <td>2</td>\n",
              "    </tr>\n",
              "    <tr>\n",
              "      <th>768368</th>\n",
              "      <td>48</td>\n",
              "      <td>2</td>\n",
              "      <td>5</td>\n",
              "      <td>1</td>\n",
              "      <td>3</td>\n",
              "      <td>1</td>\n",
              "    </tr>\n",
              "    <tr>\n",
              "      <th>768372</th>\n",
              "      <td>82</td>\n",
              "      <td>3</td>\n",
              "      <td>3</td>\n",
              "      <td>1</td>\n",
              "      <td>1</td>\n",
              "      <td>1</td>\n",
              "    </tr>\n",
              "    <tr>\n",
              "      <th>768373</th>\n",
              "      <td>72</td>\n",
              "      <td>1</td>\n",
              "      <td>7</td>\n",
              "      <td>1</td>\n",
              "      <td>3</td>\n",
              "      <td>2</td>\n",
              "    </tr>\n",
              "  </tbody>\n",
              "</table>\n",
              "<p>215000 rows × 6 columns</p>\n",
              "</div>"
            ],
            "text/plain": [
              "        Instance_Type  Operating_System  ...  PurchaseOption  OfferingClass\n",
              "4                  43                 4  ...               1              1\n",
              "8                  43                 1  ...               1              1\n",
              "9                  43                 2  ...               1              1\n",
              "37                 43                 1  ...               1              1\n",
              "75                 43                 2  ...               3              1\n",
              "...               ...               ...  ...             ...            ...\n",
              "768360             48                 2  ...               2              2\n",
              "768365             66                 3  ...               1              2\n",
              "768368             48                 2  ...               3              1\n",
              "768372             82                 3  ...               1              1\n",
              "768373             72                 1  ...               3              2\n",
              "\n",
              "[215000 rows x 6 columns]"
            ]
          },
          "metadata": {
            "tags": []
          },
          "execution_count": 142
        }
      ]
    },
    {
      "cell_type": "code",
      "metadata": {
        "colab": {
          "base_uri": "https://localhost:8080/"
        },
        "id": "g3_rOj2kf0I0",
        "outputId": "0476fc15-2683-4775-8a08-c120f016c4f3"
      },
      "source": [
        "regr = linear_model.LinearRegression()\n",
        "regr.fit(X, y)"
      ],
      "execution_count": 125,
      "outputs": [
        {
          "output_type": "execute_result",
          "data": {
            "text/plain": [
              "LinearRegression(copy_X=True, fit_intercept=True, n_jobs=None, normalize=False)"
            ]
          },
          "metadata": {
            "tags": []
          },
          "execution_count": 125
        }
      ]
    },
    {
      "cell_type": "code",
      "metadata": {
        "colab": {
          "base_uri": "https://localhost:8080/"
        },
        "id": "_ubMnHLHf0Ty",
        "outputId": "1201a751-a02e-4475-c6d1-864764cd8038"
      },
      "source": [
        "print('Intercept: \\n', regr.intercept_)\n",
        "print('Coefficients: \\n', regr.coef_)"
      ],
      "execution_count": 126,
      "outputs": [
        {
          "output_type": "stream",
          "text": [
            "Intercept: \n",
            " [-0.98717204]\n",
            "Coefficients: \n",
            " [[-1.76489622e-04  1.48104656e-01  2.08927636e-02 -2.41689566e-01\n",
            "   9.16515988e-01  6.77848428e-02]]\n"
          ],
          "name": "stdout"
        }
      ]
    },
    {
      "cell_type": "code",
      "metadata": {
        "colab": {
          "base_uri": "https://localhost:8080/"
        },
        "id": "qPrGWEjSfz6D",
        "outputId": "a1e0a352-55b7-45a4-e422-0fbb6246c565"
      },
      "source": [
        "# prediction with sklearn\n",
        "New_Instance_Type = 1\n",
        "# New_Project_Type = 2\n",
        "# New_Project_Size = 2\n",
        "# New_vCPU = 1\n",
        "# New_Memory = 2\n",
        "# New_Network_Performance = 2\n",
        "New_Operating_System = 1\n",
        "# New_Storage = 2\n",
        "New_Location = 2\n",
        "New_OfferingClass = 2\n",
        "New_LeaseContractLength = 2\n",
        "New_PurchaseOption = 2\n",
        "print ('Predicted Stock Index Price: \\n', regr.predict([[New_Instance_Type ,New_Operating_System, New_Location, New_LeaseContractLength, New_PurchaseOption, New_OfferingClass]]))\n",
        "\n",
        "# with statsmodels\n",
        "X = sm.add_constant(X) # adding a constant\n",
        " \n",
        "model = sm.OLS(y, X).fit()\n",
        "predictions = model.predict(X) \n",
        " \n",
        "print_model = model.summary()\n",
        "print(print_model)"
      ],
      "execution_count": 127,
      "outputs": [
        {
          "output_type": "stream",
          "text": [
            "Predicted Stock Index Price: \n",
            " [[0.68776419]]\n",
            "                            OLS Regression Results                            \n",
            "==============================================================================\n",
            "Dep. Variable:           PricePerUnit   R-squared:                       0.870\n",
            "Model:                            OLS   Adj. R-squared:                  0.870\n",
            "Method:                 Least Squares   F-statistic:                 2.399e+05\n",
            "Date:                Sun, 13 Dec 2020   Prob (F-statistic):               0.00\n",
            "Time:                        12:07:36   Log-Likelihood:                -35955.\n",
            "No. Observations:              215000   AIC:                         7.192e+04\n",
            "Df Residuals:                  214993   BIC:                         7.200e+04\n",
            "Df Model:                           6                                         \n",
            "Covariance Type:            nonrobust                                         \n",
            "=======================================================================================\n",
            "                          coef    std err          t      P>|t|      [0.025      0.975]\n",
            "---------------------------------------------------------------------------------------\n",
            "const                  -0.9872      0.004   -252.426      0.000      -0.995      -0.980\n",
            "Instance_Type          -0.0002   2.87e-05     -6.154      0.000      -0.000      -0.000\n",
            "Operating_System        0.1481      0.001    230.442      0.000       0.147       0.149\n",
            "Location                0.0209      0.000    197.985      0.000       0.021       0.021\n",
            "LeaseContractLength    -0.2417      0.001   -191.099      0.000      -0.244      -0.239\n",
            "PurchaseOption          0.9165      0.001   1090.610      0.000       0.915       0.918\n",
            "OfferingClass           0.0678      0.001     53.429      0.000       0.065       0.070\n",
            "==============================================================================\n",
            "Omnibus:                   101984.741   Durbin-Watson:                   2.005\n",
            "Prob(Omnibus):                  0.000   Jarque-Bera (JB):          1300392.849\n",
            "Skew:                           1.961   Prob(JB):                         0.00\n",
            "Kurtosis:                      14.392   Cond. No.                         369.\n",
            "==============================================================================\n",
            "\n",
            "Warnings:\n",
            "[1] Standard Errors assume that the covariance matrix of the errors is correctly specified.\n"
          ],
          "name": "stdout"
        }
      ]
    },
    {
      "cell_type": "code",
      "metadata": {
        "id": "SloqKrtCD9Oh"
      },
      "source": [
        "# Create StratifiedKFold object. \n",
        "skf = StratifiedKFold(n_splits=5, shuffle=True, random_state=1) \n",
        "loss_and_metrics = [] "
      ],
      "execution_count": 128,
      "outputs": []
    },
    {
      "cell_type": "markdown",
      "metadata": {
        "id": "lCKAIhQ0E_jH"
      },
      "source": [
        "Other Way"
      ]
    },
    {
      "cell_type": "code",
      "metadata": {
        "id": "D9rrkF_aSOvn"
      },
      "source": [
        "from sklearn.model_selection import cross_val_score\n",
        "## Hyperparameter optimization using RandomizedSearchCV\n",
        "from sklearn.model_selection import RandomizedSearchCV, GridSearchCV\n",
        "import xgboost\n",
        "classifier=xgboost.XGBClassifier()\n",
        "import keras"
      ],
      "execution_count": 143,
      "outputs": []
    },
    {
      "cell_type": "code",
      "metadata": {
        "colab": {
          "base_uri": "https://localhost:8080/"
        },
        "id": "79SgXOcnSwZF",
        "outputId": "d2f47395-1ebf-4e07-87a7-94ee2494bc1c"
      },
      "source": [
        "# score=cross_val_score(classifier,X,y,cv=10)"
      ],
      "execution_count": null,
      "outputs": [
        {
          "output_type": "stream",
          "text": [
            "/usr/local/lib/python3.6/dist-packages/sklearn/preprocessing/_label.py:235: DataConversionWarning: A column-vector y was passed when a 1d array was expected. Please change the shape of y to (n_samples, ), for example using ravel().\n",
            "  y = column_or_1d(y, warn=True)\n",
            "/usr/local/lib/python3.6/dist-packages/sklearn/preprocessing/_label.py:268: DataConversionWarning: A column-vector y was passed when a 1d array was expected. Please change the shape of y to (n_samples, ), for example using ravel().\n",
            "  y = column_or_1d(y, warn=True)\n"
          ],
          "name": "stderr"
        }
      ]
    },
    {
      "cell_type": "code",
      "metadata": {
        "colab": {
          "base_uri": "https://localhost:8080/"
        },
        "id": "YHsGFwFJTBPh",
        "outputId": "45f8771f-d9b2-4262-bca3-56c4748d1650"
      },
      "source": [
        "# score"
      ],
      "execution_count": null,
      "outputs": [
        {
          "output_type": "execute_result",
          "data": {
            "text/plain": [
              "array([0.81553861, 0.81294354, 0.81368499, 0.81432052, 0.81416164,\n",
              "       0.81362216, 0.81664107, 0.81441661, 0.81155659, 0.8155818 ])"
            ]
          },
          "metadata": {
            "tags": []
          },
          "execution_count": 79
        }
      ]
    },
    {
      "cell_type": "code",
      "metadata": {
        "id": "DikemNdhZBf7"
      },
      "source": [
        "# n_X = preprocessing.normalize(X)\n",
        "# n_y = preprocessing.normalize(y)\n",
        "# n_X"
      ],
      "execution_count": null,
      "outputs": []
    },
    {
      "cell_type": "code",
      "metadata": {
        "colab": {
          "base_uri": "https://localhost:8080/"
        },
        "id": "BfClhZadT_JL",
        "outputId": "4eceae69-211e-4496-fef8-c98c80a68f10"
      },
      "source": [
        "# y_true = df1['Instance_Type'].values\n",
        "# y_true"
      ],
      "execution_count": null,
      "outputs": [
        {
          "output_type": "execute_result",
          "data": {
            "text/plain": [
              "array([6, 6, 6, ..., 6, 8, 9])"
            ]
          },
          "metadata": {
            "tags": []
          },
          "execution_count": 68
        }
      ]
    },
    {
      "cell_type": "code",
      "metadata": {
        "id": "8TZ3Deg4cSrl",
        "colab": {
          "base_uri": "https://localhost:8080/"
        },
        "outputId": "a684fac9-a8c8-47b8-9889-f2ec3191e529"
      },
      "source": [
        "training_X, testing_X, training_y, testing_y = train_test_split(X,y , test_size=0.20,random_state=1)\n",
        "# training_X, testing_X, training_y, testing_y = train_test_split(training_X,training_y, stratify=training_y, test_size=0.20,random_state=1)\n",
        "\n",
        "print('Training data: '+str(training_X.shape[0]))\n",
        "print('Testing  data: '+str(testing_X.shape[0]))\n",
        "print('Cross Validation data: '+ str(testing_y.shape[0]))"
      ],
      "execution_count": 144,
      "outputs": [
        {
          "output_type": "stream",
          "text": [
            "Training data: 172000\n",
            "Testing  data: 43000\n",
            "Cross Validation data: 43000\n"
          ],
          "name": "stdout"
        }
      ]
    },
    {
      "cell_type": "code",
      "metadata": {
        "colab": {
          "base_uri": "https://localhost:8080/",
          "height": 419
        },
        "id": "jCj9ZF-vgL4F",
        "outputId": "1f3c68e5-2492-4020-f7bc-46aa5f16e8d2"
      },
      "source": [
        "df5"
      ],
      "execution_count": 145,
      "outputs": [
        {
          "output_type": "execute_result",
          "data": {
            "text/html": [
              "<div>\n",
              "<style scoped>\n",
              "    .dataframe tbody tr th:only-of-type {\n",
              "        vertical-align: middle;\n",
              "    }\n",
              "\n",
              "    .dataframe tbody tr th {\n",
              "        vertical-align: top;\n",
              "    }\n",
              "\n",
              "    .dataframe thead th {\n",
              "        text-align: right;\n",
              "    }\n",
              "</style>\n",
              "<table border=\"1\" class=\"dataframe\">\n",
              "  <thead>\n",
              "    <tr style=\"text-align: right;\">\n",
              "      <th></th>\n",
              "      <th>PricePerUnit</th>\n",
              "      <th>UpfrontCost</th>\n",
              "      <th>Instance_Type</th>\n",
              "      <th>Operating_System</th>\n",
              "      <th>Location</th>\n",
              "      <th>LeaseContractLength</th>\n",
              "      <th>PurchaseOption</th>\n",
              "      <th>OfferingClass</th>\n",
              "    </tr>\n",
              "  </thead>\n",
              "  <tbody>\n",
              "    <tr>\n",
              "      <th>4</th>\n",
              "      <td>0.1200</td>\n",
              "      <td>5.03666</td>\n",
              "      <td>43</td>\n",
              "      <td>4</td>\n",
              "      <td>14</td>\n",
              "      <td>2</td>\n",
              "      <td>1</td>\n",
              "      <td>1</td>\n",
              "    </tr>\n",
              "    <tr>\n",
              "      <th>8</th>\n",
              "      <td>0.0800</td>\n",
              "      <td>1.65294</td>\n",
              "      <td>43</td>\n",
              "      <td>1</td>\n",
              "      <td>4</td>\n",
              "      <td>1</td>\n",
              "      <td>1</td>\n",
              "      <td>1</td>\n",
              "    </tr>\n",
              "    <tr>\n",
              "      <th>9</th>\n",
              "      <td>0.1190</td>\n",
              "      <td>3.68724</td>\n",
              "      <td>43</td>\n",
              "      <td>2</td>\n",
              "      <td>17</td>\n",
              "      <td>2</td>\n",
              "      <td>1</td>\n",
              "      <td>1</td>\n",
              "    </tr>\n",
              "    <tr>\n",
              "      <th>37</th>\n",
              "      <td>0.0880</td>\n",
              "      <td>1.81030</td>\n",
              "      <td>43</td>\n",
              "      <td>1</td>\n",
              "      <td>5</td>\n",
              "      <td>1</td>\n",
              "      <td>1</td>\n",
              "      <td>1</td>\n",
              "    </tr>\n",
              "    <tr>\n",
              "      <th>75</th>\n",
              "      <td>2.0692</td>\n",
              "      <td>0.00000</td>\n",
              "      <td>43</td>\n",
              "      <td>2</td>\n",
              "      <td>8</td>\n",
              "      <td>1</td>\n",
              "      <td>3</td>\n",
              "      <td>1</td>\n",
              "    </tr>\n",
              "    <tr>\n",
              "      <th>...</th>\n",
              "      <td>...</td>\n",
              "      <td>...</td>\n",
              "      <td>...</td>\n",
              "      <td>...</td>\n",
              "      <td>...</td>\n",
              "      <td>...</td>\n",
              "      <td>...</td>\n",
              "      <td>...</td>\n",
              "    </tr>\n",
              "    <tr>\n",
              "      <th>768360</th>\n",
              "      <td>1.1547</td>\n",
              "      <td>1.24280</td>\n",
              "      <td>48</td>\n",
              "      <td>2</td>\n",
              "      <td>6</td>\n",
              "      <td>1</td>\n",
              "      <td>2</td>\n",
              "      <td>2</td>\n",
              "    </tr>\n",
              "    <tr>\n",
              "      <th>768365</th>\n",
              "      <td>0.1190</td>\n",
              "      <td>4.18457</td>\n",
              "      <td>66</td>\n",
              "      <td>3</td>\n",
              "      <td>6</td>\n",
              "      <td>1</td>\n",
              "      <td>1</td>\n",
              "      <td>2</td>\n",
              "    </tr>\n",
              "    <tr>\n",
              "      <th>768368</th>\n",
              "      <td>1.8174</td>\n",
              "      <td>0.00000</td>\n",
              "      <td>48</td>\n",
              "      <td>2</td>\n",
              "      <td>5</td>\n",
              "      <td>1</td>\n",
              "      <td>3</td>\n",
              "      <td>1</td>\n",
              "    </tr>\n",
              "    <tr>\n",
              "      <th>768372</th>\n",
              "      <td>0.0800</td>\n",
              "      <td>3.19018</td>\n",
              "      <td>82</td>\n",
              "      <td>3</td>\n",
              "      <td>3</td>\n",
              "      <td>1</td>\n",
              "      <td>1</td>\n",
              "      <td>1</td>\n",
              "    </tr>\n",
              "    <tr>\n",
              "      <th>768373</th>\n",
              "      <td>2.0744</td>\n",
              "      <td>0.00000</td>\n",
              "      <td>72</td>\n",
              "      <td>1</td>\n",
              "      <td>7</td>\n",
              "      <td>1</td>\n",
              "      <td>3</td>\n",
              "      <td>2</td>\n",
              "    </tr>\n",
              "  </tbody>\n",
              "</table>\n",
              "<p>215000 rows × 8 columns</p>\n",
              "</div>"
            ],
            "text/plain": [
              "        PricePerUnit  UpfrontCost  ...  PurchaseOption  OfferingClass\n",
              "4             0.1200      5.03666  ...               1              1\n",
              "8             0.0800      1.65294  ...               1              1\n",
              "9             0.1190      3.68724  ...               1              1\n",
              "37            0.0880      1.81030  ...               1              1\n",
              "75            2.0692      0.00000  ...               3              1\n",
              "...              ...          ...  ...             ...            ...\n",
              "768360        1.1547      1.24280  ...               2              2\n",
              "768365        0.1190      4.18457  ...               1              2\n",
              "768368        1.8174      0.00000  ...               3              1\n",
              "768372        0.0800      3.19018  ...               1              1\n",
              "768373        2.0744      0.00000  ...               3              2\n",
              "\n",
              "[215000 rows x 8 columns]"
            ]
          },
          "metadata": {
            "tags": []
          },
          "execution_count": 145
        }
      ]
    },
    {
      "cell_type": "code",
      "metadata": {
        "id": "aEQoEPsAc9-m"
      },
      "source": [
        "#_______________ Using Neural Net ___________\n",
        "def baseline_model():\n",
        "  print('Multi Layer Perceptron Deep Learning Model')\n",
        "  model = keras.models.Sequential()\n",
        "\n",
        "  model.add(keras.layers.Dense(6, input_dim=6, activation='relu'))\n",
        "  model.add(keras.layers.Dense(6, activation='relu'))\n",
        "  model.add(keras.layers.Dense(1))\n",
        "\n",
        "  model.compile(optimizer='adam', loss='mean_squared_error')\n",
        "  return model"
      ],
      "execution_count": 146,
      "outputs": []
    },
    {
      "cell_type": "code",
      "metadata": {
        "id": "pK5PfkOTCzGe"
      },
      "source": [
        "# X = np.asarray(X).astype(np.float32)"
      ],
      "execution_count": null,
      "outputs": []
    },
    {
      "cell_type": "code",
      "metadata": {
        "colab": {
          "base_uri": "https://localhost:8080/"
        },
        "id": "97d4fiP1AAX0",
        "outputId": "bbe8c41d-1a37-4dbe-b6a1-f2ca550848ad"
      },
      "source": [
        "# evaluate model with standardized dataset\r\n",
        "model = baseline_model()\r\n",
        "model.fit(training_X, training_y, batch_size = 10, epochs = 30)"
      ],
      "execution_count": 147,
      "outputs": [
        {
          "output_type": "stream",
          "text": [
            "Multi Layer Perceptron Deep Learning Model\n",
            "Epoch 1/30\n",
            "17200/17200 [==============================] - 16s 937us/step - loss: 0.1771 - accuracy: 0.0000e+00\n",
            "Epoch 2/30\n",
            "17200/17200 [==============================] - 16s 926us/step - loss: 0.0873 - accuracy: 0.0000e+00\n",
            "Epoch 3/30\n",
            "17200/17200 [==============================] - 16s 932us/step - loss: 0.0514 - accuracy: 0.0000e+00\n",
            "Epoch 4/30\n",
            "17200/17200 [==============================] - 16s 923us/step - loss: 0.0278 - accuracy: 0.0000e+00\n",
            "Epoch 5/30\n",
            "17200/17200 [==============================] - 15s 878us/step - loss: 0.0272 - accuracy: 0.0000e+00\n",
            "Epoch 6/30\n",
            "17200/17200 [==============================] - 16s 955us/step - loss: 0.0265 - accuracy: 0.0000e+00\n",
            "Epoch 7/30\n",
            "17200/17200 [==============================] - 17s 999us/step - loss: 0.0260 - accuracy: 0.0000e+00\n",
            "Epoch 8/30\n",
            "17200/17200 [==============================] - 16s 920us/step - loss: 0.0255 - accuracy: 0.0000e+00\n",
            "Epoch 9/30\n",
            "17200/17200 [==============================] - 17s 960us/step - loss: 0.0254 - accuracy: 0.0000e+00\n",
            "Epoch 10/30\n",
            "17200/17200 [==============================] - 16s 921us/step - loss: 0.0251 - accuracy: 0.0000e+00\n",
            "Epoch 11/30\n",
            "17200/17200 [==============================] - 16s 923us/step - loss: 0.0249 - accuracy: 0.0000e+00\n",
            "Epoch 12/30\n",
            "17200/17200 [==============================] - 16s 920us/step - loss: 0.0241 - accuracy: 0.0000e+00\n",
            "Epoch 13/30\n",
            "17200/17200 [==============================] - 15s 869us/step - loss: 0.0228 - accuracy: 0.0000e+00\n",
            "Epoch 14/30\n",
            "17200/17200 [==============================] - 16s 924us/step - loss: 0.0223 - accuracy: 0.0000e+00\n",
            "Epoch 15/30\n",
            "17200/17200 [==============================] - 16s 920us/step - loss: 0.0213 - accuracy: 0.0000e+00\n",
            "Epoch 16/30\n",
            "17200/17200 [==============================] - 15s 869us/step - loss: 0.0197 - accuracy: 0.0000e+00\n",
            "Epoch 17/30\n",
            "17200/17200 [==============================] - 15s 873us/step - loss: 0.0185 - accuracy: 0.0000e+00\n",
            "Epoch 18/30\n",
            "17200/17200 [==============================] - 15s 881us/step - loss: 0.0177 - accuracy: 0.0000e+00\n",
            "Epoch 19/30\n",
            "17200/17200 [==============================] - 16s 917us/step - loss: 0.0173 - accuracy: 0.0000e+00\n",
            "Epoch 20/30\n",
            "17200/17200 [==============================] - 16s 920us/step - loss: 0.0170 - accuracy: 0.0000e+00\n",
            "Epoch 21/30\n",
            "17200/17200 [==============================] - 16s 928us/step - loss: 0.0168 - accuracy: 0.0000e+00\n",
            "Epoch 22/30\n",
            "17200/17200 [==============================] - 16s 921us/step - loss: 0.0168 - accuracy: 0.0000e+00\n",
            "Epoch 23/30\n",
            "17200/17200 [==============================] - 15s 870us/step - loss: 0.0168 - accuracy: 0.0000e+00\n",
            "Epoch 24/30\n",
            "17200/17200 [==============================] - 15s 874us/step - loss: 0.0168 - accuracy: 0.0000e+00\n",
            "Epoch 25/30\n",
            "17200/17200 [==============================] - 16s 921us/step - loss: 0.0166 - accuracy: 0.0000e+00\n",
            "Epoch 26/30\n",
            "17200/17200 [==============================] - 16s 917us/step - loss: 0.0166 - accuracy: 0.0000e+00\n",
            "Epoch 27/30\n",
            "17200/17200 [==============================] - 15s 885us/step - loss: 0.0165 - accuracy: 0.0000e+00\n",
            "Epoch 28/30\n",
            "17200/17200 [==============================] - 16s 914us/step - loss: 0.0164 - accuracy: 0.0000e+00\n",
            "Epoch 29/30\n",
            "17200/17200 [==============================] - 15s 869us/step - loss: 0.0164 - accuracy: 0.0000e+00\n",
            "Epoch 30/30\n",
            "17200/17200 [==============================] - 15s 885us/step - loss: 0.0162 - accuracy: 0.0000e+00\n"
          ],
          "name": "stdout"
        },
        {
          "output_type": "execute_result",
          "data": {
            "text/plain": [
              "<tensorflow.python.keras.callbacks.History at 0x7f987c2e9588>"
            ]
          },
          "metadata": {
            "tags": []
          },
          "execution_count": 147
        }
      ]
    },
    {
      "cell_type": "code",
      "metadata": {
        "colab": {
          "base_uri": "https://localhost:8080/",
          "height": 290
        },
        "id": "_07fcNDAEA2g",
        "outputId": "e63a36a7-9fc3-4144-b3ad-e470668acd58"
      },
      "source": [
        "y_pred = model.predict(testing_X)\r\n",
        "\r\n",
        "plt.plot(testing_y, color = 'red', label = 'Real data')\r\n",
        "plt.plot(y_pred, color = 'blue', label = 'Predicted data')\r\n",
        "plt.title('Prediction')\r\n",
        "plt.legend()\r\n",
        "plt.show()"
      ],
      "execution_count": 148,
      "outputs": [
        {
          "output_type": "display_data",
          "data": {
            "image/png": "[encoded data removed]",
            "text/plain": [
              "<Figure size 432x288 with 1 Axes>"
            ]
          },
          "metadata": {
            "tags": [],
            "needs_background": "light"
          }
        }
      ]
    },
    {
      "cell_type": "code",
      "metadata": {
        "colab": {
          "base_uri": "https://localhost:8080/",
          "height": 419
        },
        "id": "crMu7EK_Ml5t",
        "outputId": "c6422c18-3b77-4c10-c2fd-07455c815da9"
      },
      "source": [
        "X"
      ],
      "execution_count": 149,
      "outputs": [
        {
          "output_type": "execute_result",
          "data": {
            "text/html": [
              "<div>\n",
              "<style scoped>\n",
              "    .dataframe tbody tr th:only-of-type {\n",
              "        vertical-align: middle;\n",
              "    }\n",
              "\n",
              "    .dataframe tbody tr th {\n",
              "        vertical-align: top;\n",
              "    }\n",
              "\n",
              "    .dataframe thead th {\n",
              "        text-align: right;\n",
              "    }\n",
              "</style>\n",
              "<table border=\"1\" class=\"dataframe\">\n",
              "  <thead>\n",
              "    <tr style=\"text-align: right;\">\n",
              "      <th></th>\n",
              "      <th>Instance_Type</th>\n",
              "      <th>Operating_System</th>\n",
              "      <th>Location</th>\n",
              "      <th>LeaseContractLength</th>\n",
              "      <th>PurchaseOption</th>\n",
              "      <th>OfferingClass</th>\n",
              "    </tr>\n",
              "  </thead>\n",
              "  <tbody>\n",
              "    <tr>\n",
              "      <th>4</th>\n",
              "      <td>43</td>\n",
              "      <td>4</td>\n",
              "      <td>14</td>\n",
              "      <td>2</td>\n",
              "      <td>1</td>\n",
              "      <td>1</td>\n",
              "    </tr>\n",
              "    <tr>\n",
              "      <th>8</th>\n",
              "      <td>43</td>\n",
              "      <td>1</td>\n",
              "      <td>4</td>\n",
              "      <td>1</td>\n",
              "      <td>1</td>\n",
              "      <td>1</td>\n",
              "    </tr>\n",
              "    <tr>\n",
              "      <th>9</th>\n",
              "      <td>43</td>\n",
              "      <td>2</td>\n",
              "      <td>17</td>\n",
              "      <td>2</td>\n",
              "      <td>1</td>\n",
              "      <td>1</td>\n",
              "    </tr>\n",
              "    <tr>\n",
              "      <th>37</th>\n",
              "      <td>43</td>\n",
              "      <td>1</td>\n",
              "      <td>5</td>\n",
              "      <td>1</td>\n",
              "      <td>1</td>\n",
              "      <td>1</td>\n",
              "    </tr>\n",
              "    <tr>\n",
              "      <th>75</th>\n",
              "      <td>43</td>\n",
              "      <td>2</td>\n",
              "      <td>8</td>\n",
              "      <td>1</td>\n",
              "      <td>3</td>\n",
              "      <td>1</td>\n",
              "    </tr>\n",
              "    <tr>\n",
              "      <th>...</th>\n",
              "      <td>...</td>\n",
              "      <td>...</td>\n",
              "      <td>...</td>\n",
              "      <td>...</td>\n",
              "      <td>...</td>\n",
              "      <td>...</td>\n",
              "    </tr>\n",
              "    <tr>\n",
              "      <th>768360</th>\n",
              "      <td>48</td>\n",
              "      <td>2</td>\n",
              "      <td>6</td>\n",
              "      <td>1</td>\n",
              "      <td>2</td>\n",
              "      <td>2</td>\n",
              "    </tr>\n",
              "    <tr>\n",
              "      <th>768365</th>\n",
              "      <td>66</td>\n",
              "      <td>3</td>\n",
              "      <td>6</td>\n",
              "      <td>1</td>\n",
              "      <td>1</td>\n",
              "      <td>2</td>\n",
              "    </tr>\n",
              "    <tr>\n",
              "      <th>768368</th>\n",
              "      <td>48</td>\n",
              "      <td>2</td>\n",
              "      <td>5</td>\n",
              "      <td>1</td>\n",
              "      <td>3</td>\n",
              "      <td>1</td>\n",
              "    </tr>\n",
              "    <tr>\n",
              "      <th>768372</th>\n",
              "      <td>82</td>\n",
              "      <td>3</td>\n",
              "      <td>3</td>\n",
              "      <td>1</td>\n",
              "      <td>1</td>\n",
              "      <td>1</td>\n",
              "    </tr>\n",
              "    <tr>\n",
              "      <th>768373</th>\n",
              "      <td>72</td>\n",
              "      <td>1</td>\n",
              "      <td>7</td>\n",
              "      <td>1</td>\n",
              "      <td>3</td>\n",
              "      <td>2</td>\n",
              "    </tr>\n",
              "  </tbody>\n",
              "</table>\n",
              "<p>215000 rows × 6 columns</p>\n",
              "</div>"
            ],
            "text/plain": [
              "        Instance_Type  Operating_System  ...  PurchaseOption  OfferingClass\n",
              "4                  43                 4  ...               1              1\n",
              "8                  43                 1  ...               1              1\n",
              "9                  43                 2  ...               1              1\n",
              "37                 43                 1  ...               1              1\n",
              "75                 43                 2  ...               3              1\n",
              "...               ...               ...  ...             ...            ...\n",
              "768360             48                 2  ...               2              2\n",
              "768365             66                 3  ...               1              2\n",
              "768368             48                 2  ...               3              1\n",
              "768372             82                 3  ...               1              1\n",
              "768373             72                 1  ...               3              2\n",
              "\n",
              "[215000 rows x 6 columns]"
            ]
          },
          "metadata": {
            "tags": []
          },
          "execution_count": 149
        }
      ]
    },
    {
      "cell_type": "code",
      "metadata": {
        "colab": {
          "base_uri": "https://localhost:8080/"
        },
        "id": "gb9zABB7DFh7",
        "outputId": "c3d60c6f-dd69-46c9-b6d5-00216e79c072"
      },
      "source": [
        "test_data = np.array([10,\t1,\t10,\t2,\t1, 2])\n",
        "print(model.predict(test_data.reshape(1,6), batch_size=1))"
      ],
      "execution_count": 151,
      "outputs": [
        {
          "output_type": "stream",
          "text": [
            "[[0.10141832]]\n"
          ],
          "name": "stdout"
        }
      ]
    },
    {
      "cell_type": "code",
      "metadata": {
        "id": "OH79dQHh_ee3",
        "colab": {
          "base_uri": "https://localhost:8080/"
        },
        "outputId": "fb14dd83-4359-4119-a79e-e3a6f9f033ab"
      },
      "source": [
        "# fit model\n",
        "history = model.fit(training_X, training_y, validation_data=(testing_X, testing_y), epochs=10)\n",
        "\n",
        "loss_and_metrics = model.evaluate(testing_X,testing_y)\n",
        "\n",
        "print(loss_and_metrics)"
      ],
      "execution_count": 152,
      "outputs": [
        {
          "output_type": "stream",
          "text": [
            "Epoch 1/10\n",
            "5375/5375 [==============================] - 8s 1ms/step - loss: 0.0151 - accuracy: 0.0000e+00 - val_loss: 0.0150 - val_accuracy: 0.0000e+00\n",
            "Epoch 2/10\n",
            "5375/5375 [==============================] - 8s 1ms/step - loss: 0.0152 - accuracy: 0.0000e+00 - val_loss: 0.0142 - val_accuracy: 0.0000e+00\n",
            "Epoch 3/10\n",
            "5375/5375 [==============================] - 8s 1ms/step - loss: 0.0151 - accuracy: 0.0000e+00 - val_loss: 0.0157 - val_accuracy: 0.0000e+00\n",
            "Epoch 4/10\n",
            "5375/5375 [==============================] - 8s 1ms/step - loss: 0.0152 - accuracy: 0.0000e+00 - val_loss: 0.0138 - val_accuracy: 0.0000e+00\n",
            "Epoch 5/10\n",
            "5375/5375 [==============================] - 8s 1ms/step - loss: 0.0151 - accuracy: 0.0000e+00 - val_loss: 0.0181 - val_accuracy: 0.0000e+00\n",
            "Epoch 6/10\n",
            "5375/5375 [==============================] - 8s 1ms/step - loss: 0.0151 - accuracy: 0.0000e+00 - val_loss: 0.0137 - val_accuracy: 0.0000e+00\n",
            "Epoch 7/10\n",
            "5375/5375 [==============================] - 8s 1ms/step - loss: 0.0149 - accuracy: 0.0000e+00 - val_loss: 0.0140 - val_accuracy: 0.0000e+00\n",
            "Epoch 8/10\n",
            "5375/5375 [==============================] - 8s 1ms/step - loss: 0.0150 - accuracy: 0.0000e+00 - val_loss: 0.0149 - val_accuracy: 0.0000e+00\n",
            "Epoch 9/10\n",
            "5375/5375 [==============================] - 8s 1ms/step - loss: 0.0151 - accuracy: 0.0000e+00 - val_loss: 0.0154 - val_accuracy: 0.0000e+00\n",
            "Epoch 10/10\n",
            "5375/5375 [==============================] - 8s 1ms/step - loss: 0.0150 - accuracy: 0.0000e+00 - val_loss: 0.0158 - val_accuracy: 0.0000e+00\n",
            "1344/1344 [==============================] - 1s 784us/step - loss: 0.0158 - accuracy: 0.0000e+00\n",
            "[0.01584715209901333, 0.0]\n"
          ],
          "name": "stdout"
        }
      ]
    },
    {
      "cell_type": "code",
      "metadata": {
        "colab": {
          "base_uri": "https://localhost:8080/",
          "height": 272
        },
        "id": "4qvSx7RwBDOg",
        "outputId": "f93b5aaa-426d-41d2-ab92-084c60cfb43b"
      },
      "source": [
        "# plot history\n",
        "# summarize history for accuracy\n",
        "plt.plot(history.history['accuracy'], label='train')\n",
        "plt.plot(history.history['val_accuracy'], label='test')\n",
        "plt.legend()\n",
        "plt.show()"
      ],
      "execution_count": 153,
      "outputs": [
        {
          "output_type": "display_data",
          "data": {
            "image/png": "[encoded data removed]",
            "text/plain": [
              "<Figure size 432x288 with 1 Axes>"
            ]
          },
          "metadata": {
            "tags": [],
            "needs_background": "light"
          }
        }
      ]
    },
    {
      "cell_type": "code",
      "metadata": {
        "colab": {
          "base_uri": "https://localhost:8080/",
          "height": 290
        },
        "id": "nxVF1Q5dJ7qA",
        "outputId": "3417d1ed-9af7-43b0-bcc8-b98b4d396670"
      },
      "source": [
        "# plot loss during training\n",
        "plt.title('Mean Squared Error')\n",
        "plt.plot(history.history['loss'], label='train')\n",
        "plt.plot(history.history['val_loss'], label='test')\n",
        "plt.legend()\n",
        "plt.show()"
      ],
      "execution_count": 154,
      "outputs": [
        {
          "output_type": "display_data",
          "data": {
            "image/png": "[encoded data removed]",
            "text/plain": [
              "<Figure size 432x288 with 1 Axes>"
            ]
          },
          "metadata": {
            "tags": [],
            "needs_background": "light"
          }
        }
      ]
    }
  ]
}