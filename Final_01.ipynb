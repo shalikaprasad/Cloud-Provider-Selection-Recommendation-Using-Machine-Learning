{
  "nbformat": 4,
  "nbformat_minor": 0,
  "metadata": {
    "colab": {
      "name": "Final_01.ipynb",
      "provenance": [],
      "collapsed_sections": [
        "BQJ3ip5qBpjv",
        "WjcRMdsgZo9V",
        "MjZ3qdh5B6E8"
      ]
    },
    "kernelspec": {
      "display_name": "Python 3",
      "language": "python",
      "name": "python3"
    },
    "language_info": {
      "codemirror_mode": {
        "name": "ipython",
        "version": 3
      },
      "file_extension": ".py",
      "mimetype": "text/x-python",
      "name": "python",
      "nbconvert_exporter": "python",
      "pygments_lexer": "ipython3",
      "version": "3.8.3"
    }
  },
  "cells": [
    {
      "cell_type": "markdown",
      "metadata": {
        "id": "BQJ3ip5qBpjv"
      },
      "source": [
        "# Instance Family Type Selection Model"
      ]
    },
    {
      "cell_type": "code",
      "metadata": {
        "id": "lIcpuMOcX2HW"
      },
      "source": [
        "import pandas as pd\n",
        "import matplotlib.pyplot as plt\n",
        "import matplotlib.dates as md\n",
        "import numpy as np\n",
        "from datetime import date\n",
        "import seaborn as sns\n",
        "from sklearn.preprocessing import LabelEncoder, OneHotEncoder\n",
        "from sklearn.model_selection import train_test_split\n",
        "from sklearn.metrics import confusion_matrix\n",
        "from sklearn import svm, datasets\n",
        "import statsmodels.api as sm\n",
        "from scipy import stats\n",
        "from sklearn.utils import shuffle\n",
        "from sklearn.metrics import classification_report\n",
        "from sklearn import metrics\n",
        "from sklearn.preprocessing import OneHotEncoder, OrdinalEncoder\n",
        "from sklearn.compose import ColumnTransformer"
      ],
      "execution_count": 29,
      "outputs": []
    },
    {
      "cell_type": "code",
      "metadata": {
        "id": "zLgOeUZzZnHs",
        "colab": {
          "base_uri": "https://localhost:8080/",
          "height": 221
        },
        "outputId": "b5d9c8af-5bd1-438c-d132-9dcca814de3b"
      },
      "source": [
        "from google.colab import drive\n",
        "drive.mount('/content/gdrive', force_remount=True)\n",
        "df_family = pd.read_csv('/content/gdrive/My Drive/Research/AWS/Instance_Family.csv')\n",
        "df_family.head()"
      ],
      "execution_count": 9,
      "outputs": [
        {
          "output_type": "stream",
          "text": [
            "Mounted at /content/gdrive\n"
          ],
          "name": "stdout"
        },
        {
          "output_type": "execute_result",
          "data": {
            "text/html": [
              "<div>\n",
              "<style scoped>\n",
              "    .dataframe tbody tr th:only-of-type {\n",
              "        vertical-align: middle;\n",
              "    }\n",
              "\n",
              "    .dataframe tbody tr th {\n",
              "        vertical-align: top;\n",
              "    }\n",
              "\n",
              "    .dataframe thead th {\n",
              "        text-align: right;\n",
              "    }\n",
              "</style>\n",
              "<table border=\"1\" class=\"dataframe\">\n",
              "  <thead>\n",
              "    <tr style=\"text-align: right;\">\n",
              "      <th></th>\n",
              "      <th>Instance_Family</th>\n",
              "      <th>Processing_Power</th>\n",
              "      <th>Memory_Usage</th>\n",
              "      <th>Network</th>\n",
              "      <th>Storage</th>\n",
              "      <th>Graphical_Processing</th>\n",
              "    </tr>\n",
              "  </thead>\n",
              "  <tbody>\n",
              "    <tr>\n",
              "      <th>0</th>\n",
              "      <td>General Purpose</td>\n",
              "      <td>12</td>\n",
              "      <td>32.0</td>\n",
              "      <td>6</td>\n",
              "      <td>Low</td>\n",
              "      <td>Low</td>\n",
              "    </tr>\n",
              "    <tr>\n",
              "      <th>1</th>\n",
              "      <td>General Purpose</td>\n",
              "      <td>2</td>\n",
              "      <td>0.5</td>\n",
              "      <td>3</td>\n",
              "      <td>Low</td>\n",
              "      <td>Low</td>\n",
              "    </tr>\n",
              "    <tr>\n",
              "      <th>2</th>\n",
              "      <td>General Purpose</td>\n",
              "      <td>2</td>\n",
              "      <td>1.0</td>\n",
              "      <td>3</td>\n",
              "      <td>Low</td>\n",
              "      <td>Low</td>\n",
              "    </tr>\n",
              "    <tr>\n",
              "      <th>3</th>\n",
              "      <td>General Purpose</td>\n",
              "      <td>2</td>\n",
              "      <td>2.0</td>\n",
              "      <td>3</td>\n",
              "      <td>Low</td>\n",
              "      <td>Low</td>\n",
              "    </tr>\n",
              "    <tr>\n",
              "      <th>4</th>\n",
              "      <td>General Purpose</td>\n",
              "      <td>2</td>\n",
              "      <td>4.0</td>\n",
              "      <td>3</td>\n",
              "      <td>Low</td>\n",
              "      <td>Low</td>\n",
              "    </tr>\n",
              "  </tbody>\n",
              "</table>\n",
              "</div>"
            ],
            "text/plain": [
              "   Instance_Family  Processing_Power  ...  Storage  Graphical_Processing\n",
              "0  General Purpose                12  ...      Low                   Low\n",
              "1  General Purpose                 2  ...      Low                   Low\n",
              "2  General Purpose                 2  ...      Low                   Low\n",
              "3  General Purpose                 2  ...      Low                   Low\n",
              "4  General Purpose                 2  ...      Low                   Low\n",
              "\n",
              "[5 rows x 6 columns]"
            ]
          },
          "metadata": {
            "tags": []
          },
          "execution_count": 9
        }
      ]
    },
    {
      "cell_type": "code",
      "metadata": {
        "colab": {
          "base_uri": "https://localhost:8080/"
        },
        "id": "UvToK56zNyzy",
        "outputId": "80933251-58e9-4eee-ee29-efcc5897583d"
      },
      "source": [
        "df_family.dtypes"
      ],
      "execution_count": 10,
      "outputs": [
        {
          "output_type": "execute_result",
          "data": {
            "text/plain": [
              "Instance_Family          object\n",
              "Processing_Power          int64\n",
              "Memory_Usage            float64\n",
              "Network                   int64\n",
              "Storage                  object\n",
              "Graphical_Processing     object\n",
              "dtype: object"
            ]
          },
          "metadata": {
            "tags": []
          },
          "execution_count": 10
        }
      ]
    },
    {
      "cell_type": "code",
      "metadata": {
        "colab": {
          "base_uri": "https://localhost:8080/"
        },
        "id": "a9uqDhn0N5tA",
        "outputId": "a736da1b-5092-4526-e311-ad7c4225d336"
      },
      "source": [
        "df_family['Storage'].value_counts()"
      ],
      "execution_count": 11,
      "outputs": [
        {
          "output_type": "execute_result",
          "data": {
            "text/plain": [
              "Low       524\n",
              "Normal    431\n",
              "High      231\n",
              "Name: Storage, dtype: int64"
            ]
          },
          "metadata": {
            "tags": []
          },
          "execution_count": 11
        }
      ]
    },
    {
      "cell_type": "code",
      "metadata": {
        "colab": {
          "base_uri": "https://localhost:8080/",
          "height": 419
        },
        "id": "4RPndjA0PaeD",
        "outputId": "beb52839-2f00-4154-861d-cb171edd56c6"
      },
      "source": [
        "storage_types = {\n",
        "                 'Low':1,\n",
        "                 'Normal':2,\n",
        "                 'High':3\n",
        "                 }  \n",
        "graphical_types = {\n",
        "                 'Low':1,\n",
        "                 'Normal':2,\n",
        "                 'High':3\n",
        "                 }                  \n",
        "\n",
        "df_family['Storage'] = df_family.Storage.map (storage_types)\n",
        "df_family['Graphical_Processing'] = df_family.Graphical_Processing.map (graphical_types)\n",
        "df_family"
      ],
      "execution_count": 12,
      "outputs": [
        {
          "output_type": "execute_result",
          "data": {
            "text/html": [
              "<div>\n",
              "<style scoped>\n",
              "    .dataframe tbody tr th:only-of-type {\n",
              "        vertical-align: middle;\n",
              "    }\n",
              "\n",
              "    .dataframe tbody tr th {\n",
              "        vertical-align: top;\n",
              "    }\n",
              "\n",
              "    .dataframe thead th {\n",
              "        text-align: right;\n",
              "    }\n",
              "</style>\n",
              "<table border=\"1\" class=\"dataframe\">\n",
              "  <thead>\n",
              "    <tr style=\"text-align: right;\">\n",
              "      <th></th>\n",
              "      <th>Instance_Family</th>\n",
              "      <th>Processing_Power</th>\n",
              "      <th>Memory_Usage</th>\n",
              "      <th>Network</th>\n",
              "      <th>Storage</th>\n",
              "      <th>Graphical_Processing</th>\n",
              "    </tr>\n",
              "  </thead>\n",
              "  <tbody>\n",
              "    <tr>\n",
              "      <th>0</th>\n",
              "      <td>General Purpose</td>\n",
              "      <td>12</td>\n",
              "      <td>32.0</td>\n",
              "      <td>6</td>\n",
              "      <td>1</td>\n",
              "      <td>1</td>\n",
              "    </tr>\n",
              "    <tr>\n",
              "      <th>1</th>\n",
              "      <td>General Purpose</td>\n",
              "      <td>2</td>\n",
              "      <td>0.5</td>\n",
              "      <td>3</td>\n",
              "      <td>1</td>\n",
              "      <td>1</td>\n",
              "    </tr>\n",
              "    <tr>\n",
              "      <th>2</th>\n",
              "      <td>General Purpose</td>\n",
              "      <td>2</td>\n",
              "      <td>1.0</td>\n",
              "      <td>3</td>\n",
              "      <td>1</td>\n",
              "      <td>1</td>\n",
              "    </tr>\n",
              "    <tr>\n",
              "      <th>3</th>\n",
              "      <td>General Purpose</td>\n",
              "      <td>2</td>\n",
              "      <td>2.0</td>\n",
              "      <td>3</td>\n",
              "      <td>1</td>\n",
              "      <td>1</td>\n",
              "    </tr>\n",
              "    <tr>\n",
              "      <th>4</th>\n",
              "      <td>General Purpose</td>\n",
              "      <td>2</td>\n",
              "      <td>4.0</td>\n",
              "      <td>3</td>\n",
              "      <td>1</td>\n",
              "      <td>1</td>\n",
              "    </tr>\n",
              "    <tr>\n",
              "      <th>...</th>\n",
              "      <td>...</td>\n",
              "      <td>...</td>\n",
              "      <td>...</td>\n",
              "      <td>...</td>\n",
              "      <td>...</td>\n",
              "      <td>...</td>\n",
              "    </tr>\n",
              "    <tr>\n",
              "      <th>1181</th>\n",
              "      <td>Accelerated Computing</td>\n",
              "      <td>32</td>\n",
              "      <td>244.0</td>\n",
              "      <td>7</td>\n",
              "      <td>2</td>\n",
              "      <td>3</td>\n",
              "    </tr>\n",
              "    <tr>\n",
              "      <th>1182</th>\n",
              "      <td>Accelerated Computing</td>\n",
              "      <td>64</td>\n",
              "      <td>488.0</td>\n",
              "      <td>10</td>\n",
              "      <td>2</td>\n",
              "      <td>3</td>\n",
              "    </tr>\n",
              "    <tr>\n",
              "      <th>1183</th>\n",
              "      <td>Accelerated Computing</td>\n",
              "      <td>8</td>\n",
              "      <td>122.0</td>\n",
              "      <td>5</td>\n",
              "      <td>2</td>\n",
              "      <td>3</td>\n",
              "    </tr>\n",
              "    <tr>\n",
              "      <th>1184</th>\n",
              "      <td>Accelerated Computing</td>\n",
              "      <td>16</td>\n",
              "      <td>244.0</td>\n",
              "      <td>5</td>\n",
              "      <td>2</td>\n",
              "      <td>3</td>\n",
              "    </tr>\n",
              "    <tr>\n",
              "      <th>1185</th>\n",
              "      <td>Accelerated Computing</td>\n",
              "      <td>64</td>\n",
              "      <td>976.0</td>\n",
              "      <td>10</td>\n",
              "      <td>2</td>\n",
              "      <td>3</td>\n",
              "    </tr>\n",
              "  </tbody>\n",
              "</table>\n",
              "<p>1186 rows × 6 columns</p>\n",
              "</div>"
            ],
            "text/plain": [
              "            Instance_Family  Processing_Power  ...  Storage  Graphical_Processing\n",
              "0           General Purpose                12  ...        1                     1\n",
              "1           General Purpose                 2  ...        1                     1\n",
              "2           General Purpose                 2  ...        1                     1\n",
              "3           General Purpose                 2  ...        1                     1\n",
              "4           General Purpose                 2  ...        1                     1\n",
              "...                     ...               ...  ...      ...                   ...\n",
              "1181  Accelerated Computing                32  ...        2                     3\n",
              "1182  Accelerated Computing                64  ...        2                     3\n",
              "1183  Accelerated Computing                 8  ...        2                     3\n",
              "1184  Accelerated Computing                16  ...        2                     3\n",
              "1185  Accelerated Computing                64  ...        2                     3\n",
              "\n",
              "[1186 rows x 6 columns]"
            ]
          },
          "metadata": {
            "tags": []
          },
          "execution_count": 12
        }
      ]
    },
    {
      "cell_type": "code",
      "metadata": {
        "id": "UOBH9PF3TNsy"
      },
      "source": [
        "import sklearn.model_selection as ms\n",
        "from sklearn import linear_model\n",
        "from sklearn import preprocessing"
      ],
      "execution_count": 13,
      "outputs": []
    },
    {
      "cell_type": "code",
      "metadata": {
        "colab": {
          "base_uri": "https://localhost:8080/",
          "height": 204
        },
        "id": "WLRQk2NtSkR7",
        "outputId": "ba862b7d-c31a-49d7-bb2d-99fc0357a751"
      },
      "source": [
        "label_encoder = preprocessing.LabelEncoder()\n",
        "df_family['Instance_Family'] = label_encoder.fit_transform(df_family['Instance_Family'])\n",
        "df_family.head()"
      ],
      "execution_count": 14,
      "outputs": [
        {
          "output_type": "execute_result",
          "data": {
            "text/html": [
              "<div>\n",
              "<style scoped>\n",
              "    .dataframe tbody tr th:only-of-type {\n",
              "        vertical-align: middle;\n",
              "    }\n",
              "\n",
              "    .dataframe tbody tr th {\n",
              "        vertical-align: top;\n",
              "    }\n",
              "\n",
              "    .dataframe thead th {\n",
              "        text-align: right;\n",
              "    }\n",
              "</style>\n",
              "<table border=\"1\" class=\"dataframe\">\n",
              "  <thead>\n",
              "    <tr style=\"text-align: right;\">\n",
              "      <th></th>\n",
              "      <th>Instance_Family</th>\n",
              "      <th>Processing_Power</th>\n",
              "      <th>Memory_Usage</th>\n",
              "      <th>Network</th>\n",
              "      <th>Storage</th>\n",
              "      <th>Graphical_Processing</th>\n",
              "    </tr>\n",
              "  </thead>\n",
              "  <tbody>\n",
              "    <tr>\n",
              "      <th>0</th>\n",
              "      <td>2</td>\n",
              "      <td>12</td>\n",
              "      <td>32.0</td>\n",
              "      <td>6</td>\n",
              "      <td>1</td>\n",
              "      <td>1</td>\n",
              "    </tr>\n",
              "    <tr>\n",
              "      <th>1</th>\n",
              "      <td>2</td>\n",
              "      <td>2</td>\n",
              "      <td>0.5</td>\n",
              "      <td>3</td>\n",
              "      <td>1</td>\n",
              "      <td>1</td>\n",
              "    </tr>\n",
              "    <tr>\n",
              "      <th>2</th>\n",
              "      <td>2</td>\n",
              "      <td>2</td>\n",
              "      <td>1.0</td>\n",
              "      <td>3</td>\n",
              "      <td>1</td>\n",
              "      <td>1</td>\n",
              "    </tr>\n",
              "    <tr>\n",
              "      <th>3</th>\n",
              "      <td>2</td>\n",
              "      <td>2</td>\n",
              "      <td>2.0</td>\n",
              "      <td>3</td>\n",
              "      <td>1</td>\n",
              "      <td>1</td>\n",
              "    </tr>\n",
              "    <tr>\n",
              "      <th>4</th>\n",
              "      <td>2</td>\n",
              "      <td>2</td>\n",
              "      <td>4.0</td>\n",
              "      <td>3</td>\n",
              "      <td>1</td>\n",
              "      <td>1</td>\n",
              "    </tr>\n",
              "  </tbody>\n",
              "</table>\n",
              "</div>"
            ],
            "text/plain": [
              "   Instance_Family  Processing_Power  ...  Storage  Graphical_Processing\n",
              "0                2                12  ...        1                     1\n",
              "1                2                 2  ...        1                     1\n",
              "2                2                 2  ...        1                     1\n",
              "3                2                 2  ...        1                     1\n",
              "4                2                 2  ...        1                     1\n",
              "\n",
              "[5 rows x 6 columns]"
            ]
          },
          "metadata": {
            "tags": []
          },
          "execution_count": 14
        }
      ]
    },
    {
      "cell_type": "code",
      "metadata": {
        "colab": {
          "base_uri": "https://localhost:8080/"
        },
        "id": "pUwE2-h_eOPr",
        "outputId": "a20f2ea1-d4f4-4545-f180-de7ae05beed1"
      },
      "source": [
        "y = np.asarray(df_family['Instance_Family'])\n",
        "print(y)\n",
        "\n",
        "X = df_family.iloc[:,1:].values\n",
        "X"
      ],
      "execution_count": 15,
      "outputs": [
        {
          "output_type": "stream",
          "text": [
            "[2 2 2 ... 0 0 0]\n"
          ],
          "name": "stdout"
        },
        {
          "output_type": "execute_result",
          "data": {
            "text/plain": [
              "array([[1.20e+01, 3.20e+01, 6.00e+00, 1.00e+00, 1.00e+00],\n",
              "       [2.00e+00, 5.00e-01, 3.00e+00, 1.00e+00, 1.00e+00],\n",
              "       [2.00e+00, 1.00e+00, 3.00e+00, 1.00e+00, 1.00e+00],\n",
              "       ...,\n",
              "       [8.00e+00, 1.22e+02, 5.00e+00, 2.00e+00, 3.00e+00],\n",
              "       [1.60e+01, 2.44e+02, 5.00e+00, 2.00e+00, 3.00e+00],\n",
              "       [6.40e+01, 9.76e+02, 1.00e+01, 2.00e+00, 3.00e+00]])"
            ]
          },
          "metadata": {
            "tags": []
          },
          "execution_count": 15
        }
      ]
    },
    {
      "cell_type": "code",
      "metadata": {
        "id": "zBal3zTmgTI7"
      },
      "source": [
        "X_train, X_test, y_train, y_test = train_test_split(X, y, test_size = 0.2, random_state = 0)"
      ],
      "execution_count": 16,
      "outputs": []
    },
    {
      "cell_type": "code",
      "metadata": {
        "id": "uN9KHCCehZ-V"
      },
      "source": [
        "from sklearn.metrics import classification_report\n",
        "from sklearn import metrics"
      ],
      "execution_count": 17,
      "outputs": []
    },
    {
      "cell_type": "code",
      "metadata": {
        "colab": {
          "base_uri": "https://localhost:8080/"
        },
        "id": "Q-geryjhhzl7",
        "outputId": "e4280c6e-1142-4fcb-c6c8-b3a90560589e"
      },
      "source": [
        "rbf = svm.SVC(kernel='rbf', gamma='auto', C=4, decision_function_shape='ovo').fit(X_train, y_train)\n",
        "rbf_pred = rbf.predict(X_test)\n",
        "print(classification_report(y_test, rbf_pred))\n",
        "print(\"Accuracy: \" , metrics.accuracy_score(y_test, rbf_pred))"
      ],
      "execution_count": 18,
      "outputs": [
        {
          "output_type": "stream",
          "text": [
            "              precision    recall  f1-score   support\n",
            "\n",
            "           0       1.00      1.00      1.00        69\n",
            "           1       1.00      1.00      1.00        37\n",
            "           2       1.00      0.91      0.96        47\n",
            "           3       0.91      1.00      0.95        40\n",
            "           4       1.00      1.00      1.00        45\n",
            "\n",
            "    accuracy                           0.98       238\n",
            "   macro avg       0.98      0.98      0.98       238\n",
            "weighted avg       0.98      0.98      0.98       238\n",
            "\n",
            "Accuracy:  0.9831932773109243\n"
          ],
          "name": "stdout"
        }
      ]
    },
    {
      "cell_type": "code",
      "metadata": {
        "colab": {
          "base_uri": "https://localhost:8080/"
        },
        "id": "yU80dikuzErm",
        "outputId": "4e573be8-25f9-4102-c829-f182930d5def"
      },
      "source": [
        "poly = svm.SVC(kernel='poly', degree=5, C=1, decision_function_shape='ovo').fit(X_train, y_train)\n",
        "poly_pred = poly.predict(X_test)\n",
        "print(classification_report(y_test, poly_pred))\n",
        "print(\"Accuracy: \" , metrics.accuracy_score(y_test, poly_pred))"
      ],
      "execution_count": 19,
      "outputs": [
        {
          "output_type": "stream",
          "text": [
            "              precision    recall  f1-score   support\n",
            "\n",
            "           0       0.29      1.00      0.46        69\n",
            "           1       0.00      0.00      0.00        37\n",
            "           2       0.00      0.00      0.00        47\n",
            "           3       1.00      0.10      0.18        40\n",
            "           4       0.00      0.00      0.00        45\n",
            "\n",
            "    accuracy                           0.31       238\n",
            "   macro avg       0.26      0.22      0.13       238\n",
            "weighted avg       0.25      0.31      0.16       238\n",
            "\n",
            "Accuracy:  0.3067226890756303\n"
          ],
          "name": "stdout"
        },
        {
          "output_type": "stream",
          "text": [
            "/usr/local/lib/python3.6/dist-packages/sklearn/metrics/_classification.py:1272: UndefinedMetricWarning: Precision and F-score are ill-defined and being set to 0.0 in labels with no predicted samples. Use `zero_division` parameter to control this behavior.\n",
            "  _warn_prf(average, modifier, msg_start, len(result))\n"
          ],
          "name": "stderr"
        }
      ]
    },
    {
      "cell_type": "code",
      "metadata": {
        "colab": {
          "base_uri": "https://localhost:8080/"
        },
        "id": "GIGfI2pa4TdW",
        "outputId": "29d317a5-81c6-48a4-85fa-b316c0165aa8"
      },
      "source": [
        "linear = svm.SVC(kernel='linear', C=1, decision_function_shape='ovo').fit(X_train, y_train)\n",
        "linear_pred = linear.predict(X_test)\n",
        "print(classification_report(y_test, linear_pred))\n",
        "print(\"Accuracy: \" , metrics.accuracy_score(y_test, linear_pred))"
      ],
      "execution_count": 20,
      "outputs": [
        {
          "output_type": "stream",
          "text": [
            "              precision    recall  f1-score   support\n",
            "\n",
            "           0       1.00      1.00      1.00        69\n",
            "           1       1.00      1.00      1.00        37\n",
            "           2       1.00      1.00      1.00        47\n",
            "           3       1.00      1.00      1.00        40\n",
            "           4       1.00      1.00      1.00        45\n",
            "\n",
            "    accuracy                           1.00       238\n",
            "   macro avg       1.00      1.00      1.00       238\n",
            "weighted avg       1.00      1.00      1.00       238\n",
            "\n",
            "Accuracy:  1.0\n"
          ],
          "name": "stdout"
        }
      ]
    },
    {
      "cell_type": "code",
      "metadata": {
        "colab": {
          "base_uri": "https://localhost:8080/"
        },
        "id": "25hbHJhM4-rg",
        "outputId": "36242214-b6b7-4e3e-85d5-c383dff67357"
      },
      "source": [
        "sig = svm.SVC(kernel='sigmoid', C=1, decision_function_shape='ovo').fit(X_train, y_train)\n",
        "sig_pred = sig.predict(X_test)\n",
        "print(classification_report(y_test, sig_pred))\n",
        "print(\"Accuracy: \" , metrics.accuracy_score(y_test, sig_pred))"
      ],
      "execution_count": 21,
      "outputs": [
        {
          "output_type": "stream",
          "text": [
            "              precision    recall  f1-score   support\n",
            "\n",
            "           0       0.48      0.14      0.22        69\n",
            "           1       0.33      0.19      0.24        37\n",
            "           2       0.21      0.40      0.28        47\n",
            "           3       0.19      0.50      0.28        40\n",
            "           4       0.00      0.00      0.00        45\n",
            "\n",
            "    accuracy                           0.24       238\n",
            "   macro avg       0.24      0.25      0.20       238\n",
            "weighted avg       0.26      0.24      0.20       238\n",
            "\n",
            "Accuracy:  0.23529411764705882\n"
          ],
          "name": "stdout"
        },
        {
          "output_type": "stream",
          "text": [
            "/usr/local/lib/python3.6/dist-packages/sklearn/metrics/_classification.py:1272: UndefinedMetricWarning: Precision and F-score are ill-defined and being set to 0.0 in labels with no predicted samples. Use `zero_division` parameter to control this behavior.\n",
            "  _warn_prf(average, modifier, msg_start, len(result))\n"
          ],
          "name": "stderr"
        }
      ]
    },
    {
      "cell_type": "markdown",
      "metadata": {
        "id": "JCpSAmxnYTv3"
      },
      "source": [
        "According to Result, I can select Linear kernal is best prediction model for selecting Family Type"
      ]
    },
    {
      "cell_type": "code",
      "metadata": {
        "id": "GpjOKdM4jG5J"
      },
      "source": [
        "family_predict = linear_pred\n",
        "x1 = [[2, 15, 5, 1,2]]\n",
        "cus_pred2 = linear.predict(x1)\n",
        "family_type = cus_pred2[0]"
      ],
      "execution_count": 49,
      "outputs": []
    },
    {
      "cell_type": "markdown",
      "metadata": {
        "id": "Y87bE13YY3C1"
      },
      "source": [
        "********************************************************************************************************************************************************************************************************************************************************************************************************************************\r\n",
        "Next, We predict what is the best model and prediction result for Family type. \r\n",
        "So, we need to create 5 models for 5 Family types \r\n",
        "Lets begin,"
      ]
    },
    {
      "cell_type": "markdown",
      "metadata": {
        "id": "WjcRMdsgZo9V"
      },
      "source": [
        "# General Purpose Family Type\r\n"
      ]
    },
    {
      "cell_type": "code",
      "metadata": {
        "colab": {
          "base_uri": "https://localhost:8080/",
          "height": 462
        },
        "id": "5u5Ql_poY2W1",
        "outputId": "e8eabdb0-e7bb-44c7-91df-ad89e67cbb78"
      },
      "source": [
        "df_general = pd.read_csv('/content/gdrive/My Drive/Research/AWS/modify_date_general_purpose.csv')\r\n",
        "df_general = df_general.loc[df_general.Instance_Family == \"General purpose\"]\r\n",
        "# dummy data for newly added Instance types\r\n",
        "df_dummy = pd.read_csv('/content/gdrive/My Drive/Research/AWS/Instance_Type_02.csv')\r\n",
        "df_general_table = df_general.copy()\r\n",
        "df_general.head()"
      ],
      "execution_count": 33,
      "outputs": [
        {
          "output_type": "stream",
          "text": [
            "/usr/local/lib/python3.6/dist-packages/IPython/core/interactiveshell.py:2718: DtypeWarning: Columns (0,3,9,12,14,15,17,19,20,21,23) have mixed types.Specify dtype option on import or set low_memory=False.\n",
            "  interactivity=interactivity, compiler=compiler, result=result)\n"
          ],
          "name": "stderr"
        },
        {
          "output_type": "execute_result",
          "data": {
            "text/html": [
              "<div>\n",
              "<style scoped>\n",
              "    .dataframe tbody tr th:only-of-type {\n",
              "        vertical-align: middle;\n",
              "    }\n",
              "\n",
              "    .dataframe tbody tr th {\n",
              "        vertical-align: top;\n",
              "    }\n",
              "\n",
              "    .dataframe thead th {\n",
              "        text-align: right;\n",
              "    }\n",
              "</style>\n",
              "<table border=\"1\" class=\"dataframe\">\n",
              "  <thead>\n",
              "    <tr style=\"text-align: right;\">\n",
              "      <th></th>\n",
              "      <th>EffectiveDates</th>\n",
              "      <th>PricePerUnit</th>\n",
              "      <th>Project_Type</th>\n",
              "      <th>Project_Size</th>\n",
              "      <th>LeaseContractLength</th>\n",
              "      <th>PurchaseOption</th>\n",
              "      <th>Unnamed: 6</th>\n",
              "      <th>OfferingClass</th>\n",
              "      <th>Location</th>\n",
              "      <th>Instance_Type</th>\n",
              "      <th>Current_Generation</th>\n",
              "      <th>Unnamed: 11</th>\n",
              "      <th>Instance_Family</th>\n",
              "      <th>vCPU</th>\n",
              "      <th>Clock_Speed</th>\n",
              "      <th>Memory</th>\n",
              "      <th>Storage</th>\n",
              "      <th>Network_Performance</th>\n",
              "      <th>Operating_System</th>\n",
              "      <th>Tenancy</th>\n",
              "      <th>usageType</th>\n",
              "      <th>Dedicated EBS Throughput</th>\n",
              "      <th>Normalization Size Factor</th>\n",
              "      <th>Processor Features</th>\n",
              "    </tr>\n",
              "  </thead>\n",
              "  <tbody>\n",
              "    <tr>\n",
              "      <th>0</th>\n",
              "      <td>4/30/2017</td>\n",
              "      <td>0.01</td>\n",
              "      <td>NaN</td>\n",
              "      <td>medium</td>\n",
              "      <td>1</td>\n",
              "      <td>No Upfront</td>\n",
              "      <td>NaN</td>\n",
              "      <td>standard</td>\n",
              "      <td>US East (Ohio)</td>\n",
              "      <td>m4.xlarge</td>\n",
              "      <td>Yes</td>\n",
              "      <td>NaN</td>\n",
              "      <td>General purpose</td>\n",
              "      <td>4.0</td>\n",
              "      <td>2.4  GHz</td>\n",
              "      <td>16</td>\n",
              "      <td>EBS</td>\n",
              "      <td>High</td>\n",
              "      <td>RHEL</td>\n",
              "      <td>Dedicated</td>\n",
              "      <td>USE2-DedicatedUsage:m4.xlarge</td>\n",
              "      <td>750 Mbps</td>\n",
              "      <td>8.0</td>\n",
              "      <td>Intel AVX; Intel AVX2; Intel Turbo</td>\n",
              "    </tr>\n",
              "    <tr>\n",
              "      <th>1</th>\n",
              "      <td>3/31/2018</td>\n",
              "      <td>0.01</td>\n",
              "      <td>NaN</td>\n",
              "      <td>medium</td>\n",
              "      <td>3</td>\n",
              "      <td>Partial Upfront</td>\n",
              "      <td>NaN</td>\n",
              "      <td>convertible</td>\n",
              "      <td>US East (N. Virginia)</td>\n",
              "      <td>m4.large</td>\n",
              "      <td>Yes</td>\n",
              "      <td>NaN</td>\n",
              "      <td>General purpose</td>\n",
              "      <td>2.0</td>\n",
              "      <td>2.4 GHz</td>\n",
              "      <td>8</td>\n",
              "      <td>EBS</td>\n",
              "      <td>Moderate</td>\n",
              "      <td>Linux</td>\n",
              "      <td>Dedicated</td>\n",
              "      <td>DedicatedUsage:m4.large</td>\n",
              "      <td>450 Mbps</td>\n",
              "      <td>4.0</td>\n",
              "      <td>Intel AVX; Intel AVX2; Intel Turbo</td>\n",
              "    </tr>\n",
              "    <tr>\n",
              "      <th>4</th>\n",
              "      <td>7/1/2019</td>\n",
              "      <td>0.01</td>\n",
              "      <td>NaN</td>\n",
              "      <td>medium</td>\n",
              "      <td>3</td>\n",
              "      <td>All Upfront</td>\n",
              "      <td>NaN</td>\n",
              "      <td>standard</td>\n",
              "      <td>US West (N. California)</td>\n",
              "      <td>m3.xlarge</td>\n",
              "      <td>No</td>\n",
              "      <td>NaN</td>\n",
              "      <td>General purpose</td>\n",
              "      <td>4.0</td>\n",
              "      <td>2.5 GHz</td>\n",
              "      <td>15</td>\n",
              "      <td>SSD</td>\n",
              "      <td>High</td>\n",
              "      <td>RHEL</td>\n",
              "      <td>Shared</td>\n",
              "      <td>USW1-BoxUsage:m3.xlarge</td>\n",
              "      <td>NaN</td>\n",
              "      <td>8.0</td>\n",
              "      <td>Intel AVX; Intel Turbo</td>\n",
              "    </tr>\n",
              "    <tr>\n",
              "      <th>5</th>\n",
              "      <td>3/1/2019</td>\n",
              "      <td>0.01</td>\n",
              "      <td>NaN</td>\n",
              "      <td>medium</td>\n",
              "      <td>3</td>\n",
              "      <td>All Upfront</td>\n",
              "      <td>NaN</td>\n",
              "      <td>convertible</td>\n",
              "      <td>US East (N. Virginia)</td>\n",
              "      <td>m5ad.2xlarge</td>\n",
              "      <td>Yes</td>\n",
              "      <td>NaN</td>\n",
              "      <td>General purpose</td>\n",
              "      <td>8.0</td>\n",
              "      <td>2.5 GHz</td>\n",
              "      <td>32</td>\n",
              "      <td>SSD</td>\n",
              "      <td>Up to 10</td>\n",
              "      <td>Windows</td>\n",
              "      <td>Shared</td>\n",
              "      <td>BoxUsage:m5ad.2xlarge</td>\n",
              "      <td>Upto 2120 Mbps</td>\n",
              "      <td>16.0</td>\n",
              "      <td>AVX, AVX2, AMD Turbo</td>\n",
              "    </tr>\n",
              "    <tr>\n",
              "      <th>8</th>\n",
              "      <td>10/1/2018</td>\n",
              "      <td>0.01</td>\n",
              "      <td>NaN</td>\n",
              "      <td>medium</td>\n",
              "      <td>1</td>\n",
              "      <td>AllUpfront</td>\n",
              "      <td>NaN</td>\n",
              "      <td>standard</td>\n",
              "      <td>US West (Oregon)</td>\n",
              "      <td>a1</td>\n",
              "      <td>Yes</td>\n",
              "      <td>NaN</td>\n",
              "      <td>General purpose</td>\n",
              "      <td>16.0</td>\n",
              "      <td>2.3 GHz</td>\n",
              "      <td>NaN</td>\n",
              "      <td>EBS</td>\n",
              "      <td>NaN</td>\n",
              "      <td>Linux</td>\n",
              "      <td>Reserved</td>\n",
              "      <td>USW2-ReservedHostUsage:a1</td>\n",
              "      <td>NaN</td>\n",
              "      <td>NaN</td>\n",
              "      <td>NaN</td>\n",
              "    </tr>\n",
              "  </tbody>\n",
              "</table>\n",
              "</div>"
            ],
            "text/plain": [
              "  EffectiveDates  ...                  Processor Features\n",
              "0      4/30/2017  ...  Intel AVX; Intel AVX2; Intel Turbo\n",
              "1      3/31/2018  ...  Intel AVX; Intel AVX2; Intel Turbo\n",
              "4       7/1/2019  ...              Intel AVX; Intel Turbo\n",
              "5       3/1/2019  ...                AVX, AVX2, AMD Turbo\n",
              "8      10/1/2018  ...                                 NaN\n",
              "\n",
              "[5 rows x 24 columns]"
            ]
          },
          "metadata": {
            "tags": []
          },
          "execution_count": 33
        }
      ]
    },
    {
      "cell_type": "code",
      "metadata": {
        "colab": {
          "base_uri": "https://localhost:8080/",
          "height": 419
        },
        "id": "uNw02WvrcbnE",
        "outputId": "28d27fd2-39bf-4616-ac48-b519b0933566"
      },
      "source": [
        "df_dummy"
      ],
      "execution_count": 34,
      "outputs": [
        {
          "output_type": "execute_result",
          "data": {
            "text/html": [
              "<div>\n",
              "<style scoped>\n",
              "    .dataframe tbody tr th:only-of-type {\n",
              "        vertical-align: middle;\n",
              "    }\n",
              "\n",
              "    .dataframe tbody tr th {\n",
              "        vertical-align: top;\n",
              "    }\n",
              "\n",
              "    .dataframe thead th {\n",
              "        text-align: right;\n",
              "    }\n",
              "</style>\n",
              "<table border=\"1\" class=\"dataframe\">\n",
              "  <thead>\n",
              "    <tr style=\"text-align: right;\">\n",
              "      <th></th>\n",
              "      <th>Instance_Type</th>\n",
              "      <th>Project_Type</th>\n",
              "      <th>Project_Size</th>\n",
              "      <th>vCPU</th>\n",
              "      <th>Memory</th>\n",
              "      <th>Network_Performance</th>\n",
              "    </tr>\n",
              "  </thead>\n",
              "  <tbody>\n",
              "    <tr>\n",
              "      <th>0</th>\n",
              "      <td>AWS_T4g</td>\n",
              "      <td>1</td>\n",
              "      <td>small</td>\n",
              "      <td>2</td>\n",
              "      <td>0.5</td>\n",
              "      <td>3</td>\n",
              "    </tr>\n",
              "    <tr>\n",
              "      <th>1</th>\n",
              "      <td>AWS_T4g</td>\n",
              "      <td>2</td>\n",
              "      <td>small</td>\n",
              "      <td>2</td>\n",
              "      <td>1.0</td>\n",
              "      <td>3</td>\n",
              "    </tr>\n",
              "    <tr>\n",
              "      <th>2</th>\n",
              "      <td>AWS_T4g</td>\n",
              "      <td>5</td>\n",
              "      <td>small</td>\n",
              "      <td>2</td>\n",
              "      <td>2.0</td>\n",
              "      <td>3</td>\n",
              "    </tr>\n",
              "    <tr>\n",
              "      <th>3</th>\n",
              "      <td>AWS_T4g</td>\n",
              "      <td>7</td>\n",
              "      <td>small</td>\n",
              "      <td>2</td>\n",
              "      <td>4.0</td>\n",
              "      <td>3</td>\n",
              "    </tr>\n",
              "    <tr>\n",
              "      <th>4</th>\n",
              "      <td>AWS_T4g</td>\n",
              "      <td>8</td>\n",
              "      <td>small</td>\n",
              "      <td>2</td>\n",
              "      <td>8.0</td>\n",
              "      <td>3</td>\n",
              "    </tr>\n",
              "    <tr>\n",
              "      <th>...</th>\n",
              "      <td>...</td>\n",
              "      <td>...</td>\n",
              "      <td>...</td>\n",
              "      <td>...</td>\n",
              "      <td>...</td>\n",
              "      <td>...</td>\n",
              "    </tr>\n",
              "    <tr>\n",
              "      <th>1511</th>\n",
              "      <td>AWS_M5a</td>\n",
              "      <td>12</td>\n",
              "      <td>medium</td>\n",
              "      <td>16</td>\n",
              "      <td>64.0</td>\n",
              "      <td>5</td>\n",
              "    </tr>\n",
              "    <tr>\n",
              "      <th>1512</th>\n",
              "      <td>AWS_M5a</td>\n",
              "      <td>12</td>\n",
              "      <td>medium</td>\n",
              "      <td>32</td>\n",
              "      <td>128.0</td>\n",
              "      <td>5</td>\n",
              "    </tr>\n",
              "    <tr>\n",
              "      <th>1513</th>\n",
              "      <td>AWS_M5a</td>\n",
              "      <td>12</td>\n",
              "      <td>large</td>\n",
              "      <td>48</td>\n",
              "      <td>192.0</td>\n",
              "      <td>7</td>\n",
              "    </tr>\n",
              "    <tr>\n",
              "      <th>1514</th>\n",
              "      <td>AWS_M5a</td>\n",
              "      <td>12</td>\n",
              "      <td>large</td>\n",
              "      <td>64</td>\n",
              "      <td>256.0</td>\n",
              "      <td>8</td>\n",
              "    </tr>\n",
              "    <tr>\n",
              "      <th>1515</th>\n",
              "      <td>AWS_M5a</td>\n",
              "      <td>14</td>\n",
              "      <td>large</td>\n",
              "      <td>96</td>\n",
              "      <td>384.0</td>\n",
              "      <td>9</td>\n",
              "    </tr>\n",
              "  </tbody>\n",
              "</table>\n",
              "<p>1516 rows × 6 columns</p>\n",
              "</div>"
            ],
            "text/plain": [
              "     Instance_Type  Project_Type  ... Memory  Network_Performance\n",
              "0          AWS_T4g             1  ...    0.5                    3\n",
              "1          AWS_T4g             2  ...    1.0                    3\n",
              "2          AWS_T4g             5  ...    2.0                    3\n",
              "3          AWS_T4g             7  ...    4.0                    3\n",
              "4          AWS_T4g             8  ...    8.0                    3\n",
              "...            ...           ...  ...    ...                  ...\n",
              "1511       AWS_M5a            12  ...   64.0                    5\n",
              "1512       AWS_M5a            12  ...  128.0                    5\n",
              "1513       AWS_M5a            12  ...  192.0                    7\n",
              "1514       AWS_M5a            12  ...  256.0                    8\n",
              "1515       AWS_M5a            14  ...  384.0                    9\n",
              "\n",
              "[1516 rows x 6 columns]"
            ]
          },
          "metadata": {
            "tags": []
          },
          "execution_count": 34
        }
      ]
    },
    {
      "cell_type": "code",
      "metadata": {
        "colab": {
          "base_uri": "https://localhost:8080/",
          "height": 204
        },
        "id": "stwKdNpnaeZr",
        "outputId": "6d9b17de-098f-48f2-a420-5501a9655f91"
      },
      "source": [
        "df_general[\"Memory\"] = df_general[\"Memory\"].astype(\"float64\")\r\n",
        "df_general[\"EffectiveDates\"] = df_general[\"EffectiveDates\"].astype(\"datetime64\")\r\n",
        "df_general[\"Project_Type\"] = df_general[\"Project_Type\"].astype(str)\r\n",
        "df_general[\"Storage\"] = df_general[\"Storage\"].astype(str)\r\n",
        "df_general[\"Processor_Archi\"] = df_general[\"Storage\"].astype(str)\r\n",
        "\r\n",
        "columns = ['Instance_Type', 'Project_Type', 'Project_Size', 'vCPU', 'Memory', 'Network_Performance']\r\n",
        "df_general = df_general.reindex(columns=columns)\r\n",
        "df1 = df_general[columns]\r\n",
        "\r\n",
        "df1['Instance_Type'] = df1['Instance_Type'].replace({'m4.xlarge': 'AWS_M4', 'm4.large': 'AWS_M4', 'm4.2xlarge': 'AWS_M4', 'm4.4xlarge': 'AWS_M4', 'm4.10xlarge': 'AWS_M4', 'm4.16xlarge': 'AWS_M4', 'm4': 'AWS_M4'})\r\n",
        "\r\n",
        "df1['Instance_Type'] = df1['Instance_Type'].replace({'m3.xlarge': 'AWS_M4', 'm3.large': 'AWS_M4', 'm3.2xlarge': 'AWS_M4', 'm3.4xlarge': 'AWS_M4', 'm3.10xlarge': 'AWS_M4', 'm3.16xlarge': 'AWS_M4', 'm3': 'AWS_M4', 'm3.medium': 'AWS_M4'})\r\n",
        "\r\n",
        "df1['Instance_Type'] = df1['Instance_Type'].replace({'m5n.large': 'AWS_M5n', 'm5n.xlarge': 'AWS_M5n','m5n.2xlarge': 'AWS_M5n', 'm5n.4xlarge': 'AWS_M5n','m5n.8large': 'AWS_M5n', 'm5n.12xlarge': 'AWS_M5n', 'm5n.16xlarge': 'AWS_M5n','m5n.24large': 'AWS_M5n', 'm5dn.large': 'AWS_M5n', 'm5dn.xlarge': 'AWS_M5n', 'm5dn.2xlarge': 'AWS_M5n', 'm5dn.4xlarge': 'AWS_M5n', 'm5dn.8xlarge': 'AWS_M5n', 'm5dn.12xlarge': 'AWS_M5n', 'm5dn.16xlarge': 'AWS_M5n', 'm5dn.24xlarge': 'AWS_M5n'})\r\n",
        "\r\n",
        "\r\n",
        "df1['Instance_Type'] = df1['Instance_Type'].replace({'m5a.large': 'AWS_M5a', 'm5a.xlarge': 'AWS_M5a','m5a.2xlarge': 'AWS_M5a', 'm5a.4xlarge': 'AWS_M5a','m5a.8xlarge': 'AWS_M5a', 'm5a.12xlarge': 'AWS_M5a', 'm5a.16xlarge': 'AWS_M5a','m5a.24xlarge': 'AWS_M5a', 'm5ad.large': 'AWS_M5a', 'm5ad.xlarge': 'AWS_M5a', 'm5ad.2xlarge': 'AWS_M5a', 'm5ad.4xlarge': 'AWS_M5a', 'm5ad.8xlarge': 'AWS_M5a', 'm5ad.12xlarge': 'AWS_M5a', 'm5ad.16xlarge': 'AWS_M5a', 'm5ad.24xlarge': 'AWS_M5a'})\r\n",
        "\r\n",
        "\r\n",
        "df1['Instance_Type'] = df1['Instance_Type'].replace({'m5.large': 'AWS_M5', 'm5.xlarge': 'AWS_M5','m5.2xlarge': 'AWS_M5', 'm5.4xlarge': 'AWS_M5','m5.8xlarge': 'AWS_M5', 'm5.12xlarge': 'AWS_M5', 'm5.16xlarge': 'AWS_M5','m5.24xlarge': 'AWS_M5a', 'm5.metal': 'AWS_M5', 'm5d.large': 'AWS_M5', 'm5d.xlarge': 'AWS_M5', 'm5d.2xlarge': 'AWS_M5', 'm5d.4xlarge': 'AWS_M5', 'm5d.8xlarge': 'AWS_M5', 'm5d.12xlarge': 'AWS_M5', 'm5d.16xlarge': 'AWS_M5', 'm5d.24xlarge': 'AWS_M5', 'm5d.metal': 'AWS_M5', 'm5': 'AWS_M5', 'm5d': 'AWS_M5'})\r\n",
        "\r\n",
        "\r\n",
        "df1['Instance_Type'] = df1['Instance_Type'].replace({'t2.nano': 'AWS_T2', 't2.micro': 'AWS_T2','t2.small': 'AWS_T2', 't2.medium': 'AWS_T2','t2.large': 'AWS_T2', 't2.xlarge': 'AWS_T2', 't2.2xlarge': 'AWS_T2'})\r\n",
        "\r\n",
        "df1['Instance_Type'] = df1['Instance_Type'].replace({'t3a.nano': 'AWS_T3a', 't3a.micro': 'AWS_T3a','t3a.small': 'AWS_T3a', 't3a.medium': 'AWS_T3a','t3a.large': 'AWS_T3a', 't3a.xlarge': 'AWS_T3a', 't3a.2xlarge': 'AWS_T3a'})\r\n",
        "\r\n",
        "\r\n",
        "df1['Instance_Type'] = df1['Instance_Type'].replace({'t3.nano': 'AWS_T3', 't3.micro': 'AWS_T3','t3.small': 'AWS_T3', 't3.medium': 'AWS_T3','t3.large': 'AWS_T3', 't3.xlarge': 'AWS_T3', 't3.2xlarge': 'AWS_T3'})\r\n",
        "\r\n",
        "\r\n",
        "df1['Instance_Type'] = df1['Instance_Type'].replace({'t4g.nano': 'AWS_T4g', 't4g.micro': 'AWS_T4g','t4g.small': 'AWS_T4g', 't4g.medium': 'AWS_T4g','t4g.large': 'AWS_T4g', 't4g.xlarge': 'AWS_T4g', 't4g.2xlarge': 'AWS_T4g'})\r\n",
        "\r\n",
        "\r\n",
        "df1['Instance_Type'] = df1['Instance_Type'].replace({'a1.medium': 'AWS_A1', 'a1.large': 'AWS_A1','a1.xlarge': 'AWS_A1', 'a1.2xlarge': 'AWS_A1','a1.4xlarge': 'AWS_A1', 'a1.metal': 'AWS_A1', 'a1': 'AWS_A1'})\r\n",
        "\r\n",
        "df1['Instance_Type'] = df1['Instance_Type'].replace({'m6g.medium': 'AWS_M6g', 'm6g.large': 'AWS_M6g', 'm6g.xlarge': 'AWS_M6g','m6g.2xlarge': 'AWS_M6g', 'm6g.4xlarge': 'AWS_M6g','m6gd.8xlarge': 'AWS_M6g', 'm6gd.12xlarge': 'AWS_M6g', 'm6gd.16xlarge': 'AWS_M6g','m6gd.metal': 'AWS_M6g','m6gd.medium': 'AWS_M6g', 'm6gd.large': 'AWS_M6g', 'm6gd.xlarge': 'AWS_M6g', 'm6gd.2xlarge': 'AWS_M6g', 'm6gd.4xlarge': 'AWS_M6g', 'm6gd.8xlarge': 'AWS_M6g', 'm6gd.12xlarge': 'AWS_M6g', 'm6gd.16xlarge': 'AWS_M6g', 'm6gd.24xlarge': 'AWS_M6g', 'm6gd.metal': 'AWS_M6g', 'm1.small': 'AWS_M6g', 'm1.medium': 'AWS_M6g', 'm1.large': 'AWS_M6g', 'm1.xlarge': 'AWS_M6g'})\r\n",
        "\r\n",
        "df1.head()"
      ],
      "execution_count": 35,
      "outputs": [
        {
          "output_type": "execute_result",
          "data": {
            "text/html": [
              "<div>\n",
              "<style scoped>\n",
              "    .dataframe tbody tr th:only-of-type {\n",
              "        vertical-align: middle;\n",
              "    }\n",
              "\n",
              "    .dataframe tbody tr th {\n",
              "        vertical-align: top;\n",
              "    }\n",
              "\n",
              "    .dataframe thead th {\n",
              "        text-align: right;\n",
              "    }\n",
              "</style>\n",
              "<table border=\"1\" class=\"dataframe\">\n",
              "  <thead>\n",
              "    <tr style=\"text-align: right;\">\n",
              "      <th></th>\n",
              "      <th>Instance_Type</th>\n",
              "      <th>Project_Type</th>\n",
              "      <th>Project_Size</th>\n",
              "      <th>vCPU</th>\n",
              "      <th>Memory</th>\n",
              "      <th>Network_Performance</th>\n",
              "    </tr>\n",
              "  </thead>\n",
              "  <tbody>\n",
              "    <tr>\n",
              "      <th>0</th>\n",
              "      <td>AWS_M4</td>\n",
              "      <td>nan</td>\n",
              "      <td>medium</td>\n",
              "      <td>4.0</td>\n",
              "      <td>16.0</td>\n",
              "      <td>High</td>\n",
              "    </tr>\n",
              "    <tr>\n",
              "      <th>1</th>\n",
              "      <td>AWS_M4</td>\n",
              "      <td>nan</td>\n",
              "      <td>medium</td>\n",
              "      <td>2.0</td>\n",
              "      <td>8.0</td>\n",
              "      <td>Moderate</td>\n",
              "    </tr>\n",
              "    <tr>\n",
              "      <th>4</th>\n",
              "      <td>AWS_M4</td>\n",
              "      <td>nan</td>\n",
              "      <td>medium</td>\n",
              "      <td>4.0</td>\n",
              "      <td>15.0</td>\n",
              "      <td>High</td>\n",
              "    </tr>\n",
              "    <tr>\n",
              "      <th>5</th>\n",
              "      <td>AWS_M5a</td>\n",
              "      <td>nan</td>\n",
              "      <td>medium</td>\n",
              "      <td>8.0</td>\n",
              "      <td>32.0</td>\n",
              "      <td>Up to 10</td>\n",
              "    </tr>\n",
              "    <tr>\n",
              "      <th>8</th>\n",
              "      <td>AWS_A1</td>\n",
              "      <td>nan</td>\n",
              "      <td>medium</td>\n",
              "      <td>16.0</td>\n",
              "      <td>NaN</td>\n",
              "      <td>NaN</td>\n",
              "    </tr>\n",
              "  </tbody>\n",
              "</table>\n",
              "</div>"
            ],
            "text/plain": [
              "  Instance_Type Project_Type Project_Size  vCPU  Memory Network_Performance\n",
              "0        AWS_M4          nan       medium   4.0    16.0                High\n",
              "1        AWS_M4          nan       medium   2.0     8.0            Moderate\n",
              "4        AWS_M4          nan       medium   4.0    15.0                High\n",
              "5       AWS_M5a          nan       medium   8.0    32.0           Up to 10 \n",
              "8        AWS_A1          nan       medium  16.0     NaN                 NaN"
            ]
          },
          "metadata": {
            "tags": []
          },
          "execution_count": 35
        }
      ]
    },
    {
      "cell_type": "code",
      "metadata": {
        "colab": {
          "base_uri": "https://localhost:8080/",
          "height": 204
        },
        "id": "iBua-VVva0BO",
        "outputId": "957f0fba-0106-49f3-9703-f65894aae141"
      },
      "source": [
        "def fixNetworkPerformanceIssue (row):\r\n",
        "   if (row['Instance_Type'] == 'AWS_A1') :\r\n",
        "      return 5\r\n",
        "   if (row['Instance_Type'] == 'AWS_T3a') :\r\n",
        "      return 3\r\n",
        "   if (row['Instance_Type'] == 'AWS_T3') :\r\n",
        "      return 3\r\n",
        "   if (row['Instance_Type'] == 'AWS_T4g') :\r\n",
        "      return 3   \r\n",
        "   if (row['Instance_Type'] == 'AWS_M4') :\r\n",
        "      if (row['vCPU'] >= 0 and row['vCPU'] < 4) :\r\n",
        "        return 4  \r\n",
        "      if (row['vCPU'] >= 4 and row['vCPU'] < 40) :\r\n",
        "        return 6\r\n",
        "      if (row['vCPU'] >= 40 and row['vCPU'] < 64) :\r\n",
        "        return 7    \r\n",
        "      if (row['vCPU'] >= 64) :\r\n",
        "        return 10    \r\n",
        "   if (row['Instance_Type'] == 'AWS_M5a') :\r\n",
        "      if (row['vCPU'] >= 0 and row['vCPU'] < 48) :\r\n",
        "        return 5\r\n",
        "      if (row['vCPU'] >= 48 and row['vCPU'] < 64) :\r\n",
        "        return 7\r\n",
        "      if (row['vCPU'] >= 64 and row['vCPU'] < 96) :\r\n",
        "        return 8    \r\n",
        "      if (row['vCPU'] >= 96) :\r\n",
        "        return 9 \r\n",
        "   if (row['Instance_Type'] == 'AWS_M6g') :\r\n",
        "      if (row['vCPU'] >= 0 and row['vCPU'] < 32) :\r\n",
        "        return 5 \r\n",
        "      if (row['vCPU'] >= 32 and row['vCPU'] < 48) :\r\n",
        "        return 8\r\n",
        "      if (row['vCPU'] >= 48 and row['vCPU'] < 64) :\r\n",
        "        return 9    \r\n",
        "      if (row['vCPU'] >= 64) :\r\n",
        "        return 10\r\n",
        "   if (row['Instance_Type'] == 'AWS_M5') :\r\n",
        "      if (row['vCPU'] >= 0 and row['vCPU'] < 32) :\r\n",
        "        return 5 \r\n",
        "      if (row['vCPU'] >= 32 and row['vCPU'] < 48) :\r\n",
        "        return 7 \r\n",
        "      if (row['vCPU'] >= 48 and row['vCPU'] < 64) :\r\n",
        "        return 8    \r\n",
        "      if (row['vCPU'] >= 64 and row['vCPU'] < 96) :\r\n",
        "        return 9     \r\n",
        "      if (row['vCPU'] >= 96) :\r\n",
        "        return 10      \r\n",
        "   if (row['Instance_Type'] == 'AWS_T2') :\r\n",
        "      if (row['vCPU'] >= 0 and row['vCPU'] < 1) :\r\n",
        "        return 1  \r\n",
        "      if (row['vCPU'] >= 1 and row['vCPU'] < 4) :\r\n",
        "        return 2 \r\n",
        "      if (row['vCPU'] >= 4) :\r\n",
        "        return 4\r\n",
        "   else :\r\n",
        "      return row['Network_Performance']       \r\n",
        "    \r\n",
        "\r\n",
        "def groupedMemory (row):\r\n",
        "   if (row['Memory'] > 0 and row['Memory'] < 1) :\r\n",
        "      return 1\r\n",
        "   if (row['Memory'] >= 1 and row['Memory'] < 2) :\r\n",
        "      return 2  \r\n",
        "   if (row['Memory'] >= 2 and row['Memory'] < 4) :\r\n",
        "      return 3\r\n",
        "   if (row['Memory'] >= 4 and row['Memory'] < 8) :\r\n",
        "      return 4\r\n",
        "   if (row['Memory'] >= 8 and row['Memory'] < 16) :\r\n",
        "      return 5\r\n",
        "   if (row['Memory'] >= 16 and row['Memory'] < 32) :\r\n",
        "      return 6\r\n",
        "   if (row['Memory'] >= 32 and row['Memory'] < 64) :\r\n",
        "      return 7\r\n",
        "   if (row['Memory'] >= 64 and row['Memory'] < 96) :\r\n",
        "      return 8\r\n",
        "   if (row['Memory'] >= 96 and row['Memory'] < 128) :\r\n",
        "      return 9\r\n",
        "   if (row['Memory'] >= 128 and row['Memory'] < 160) :\r\n",
        "      return 10 \r\n",
        "   if (row['Memory'] >= 160 and row['Memory'] < 256) :\r\n",
        "      return 11\r\n",
        "   if (row['Memory'] >= 256 and row['Memory'] < 384) :\r\n",
        "      return 12\r\n",
        "   if (row['Memory'] >= 384) :\r\n",
        "      return 13\r\n",
        "   else :\r\n",
        "      return row['Memory'] \r\n",
        "\r\n",
        "\r\n",
        "def groupedvCPU (row):\r\n",
        "   if (row['vCPU'] > 0 and row['vCPU'] < 2) :\r\n",
        "      return 1\r\n",
        "   if (row['vCPU'] >= 2 and row['vCPU'] < 4) :\r\n",
        "      return 2\r\n",
        "   if (row['vCPU'] >= 4 and row['vCPU'] < 8) :\r\n",
        "      return 3\r\n",
        "   if (row['vCPU'] >= 8 and row['vCPU'] < 12) :\r\n",
        "      return 4\r\n",
        "   if (row['vCPU'] >= 12 and row['vCPU'] < 16) :\r\n",
        "      return 5\r\n",
        "   if (row['vCPU'] >= 16 and row['vCPU'] < 24) :\r\n",
        "      return 6 \r\n",
        "   if (row['vCPU'] >= 24 and row['vCPU'] < 32) :\r\n",
        "      return 7\r\n",
        "   if (row['vCPU'] >= 32 and row['vCPU'] < 48) :\r\n",
        "      return 8 \r\n",
        "   if (row['vCPU'] >= 48 and row['vCPU'] < 64) :\r\n",
        "      return 9\r\n",
        "   if (row['vCPU'] >= 64 and row['vCPU'] < 72) :\r\n",
        "      return 10  \r\n",
        "   if (row['vCPU'] >= 72 and row['vCPU'] < 96) :\r\n",
        "      return 11\r\n",
        "   if (row['vCPU'] >= 96) :\r\n",
        "      return 12\r\n",
        "   else :\r\n",
        "      return row['vCPU'] \r\n",
        "\r\n",
        "def setMemory (row):\r\n",
        "   if(pd.isnull(row['Memory'])) :\r\n",
        "       if (row['vCPU'] == 1) :\r\n",
        "          return 2\r\n",
        "       if (row['vCPU'] == 2) :\r\n",
        "          return 3\r\n",
        "       if (row['vCPU'] == 3) :\r\n",
        "          return 6\r\n",
        "       if (row['vCPU'] == 4) :\r\n",
        "          return 7\r\n",
        "       if (row['vCPU'] == 5) :\r\n",
        "          return 7\r\n",
        "       if (row['vCPU'] == 6) :\r\n",
        "          return 8  \r\n",
        "       if (row['vCPU'] == 7) :\r\n",
        "          return 8\r\n",
        "       if (row['vCPU'] == 8) :\r\n",
        "          return 10 \r\n",
        "       if (row['vCPU'] == 9) :\r\n",
        "          return 11\r\n",
        "       if (row['vCPU'] == 10) :\r\n",
        "          return 11\r\n",
        "       if (row['vCPU'] == 11) :\r\n",
        "          return 12\r\n",
        "       if (row['vCPU'] == 12) :\r\n",
        "          return 13          \r\n",
        "   else :\r\n",
        "       return row['Memory'] \r\n",
        "\r\n",
        "\r\n",
        "def setCPU (row):\r\n",
        "   if(pd.isnull(row['vCPU'])) : \r\n",
        "       if (row['Memory'] == '0-1') :\r\n",
        "          return '1-2'\r\n",
        "       if (row['Memory'] == '1-2') :\r\n",
        "          return '1-2'  \r\n",
        "       if (row['Memory'] == '2-4') :\r\n",
        "          return '1-2'\r\n",
        "       if (row['Memory'] == '4-8') :\r\n",
        "          return '2-4'\r\n",
        "       if (row['Memory'] == '8-16') :\r\n",
        "          return '2-4'\r\n",
        "       if (row['Memory'] == '16-32') :\r\n",
        "          return '4-8'\r\n",
        "       if (row['Memory'] == '32-64') :\r\n",
        "          return '12-16'\r\n",
        "       if (row['Memory'] == '64-96') :\r\n",
        "          return '24-32'\r\n",
        "       if (row['Memory'] == '96-128') :\r\n",
        "          return '48-64'\r\n",
        "       if (row['Memory'] == '128-160') :\r\n",
        "          return '32-48' \r\n",
        "       if (row['Memory'] == '160-256') :\r\n",
        "          return '48-64'\r\n",
        "       if (row['Memory'] == '256-384') :\r\n",
        "          return '72-96'\r\n",
        "       if (row['Memory'] == '384') :\r\n",
        "          return '96' \r\n",
        "   else :\r\n",
        "       return row['vCPU'] \r\n",
        "\r\n",
        "def setStorage (row):\r\n",
        "       if (row['Instance_Type'] == 'AWS_A1' or row['Instance_Type'] == 'AWS_T4g' or row['Instance_Type'] == 'AWS_T3' or row['Instance_Type'] == 'AWS_T3a' or row['Instance_Type'] == 'AWS_T2' or row['Instance_Type'] == 'AWS_M4') :\r\n",
        "          return 'EBS'\r\n",
        "       if (row['Storage'] == '1 x 410' or row['Storage'] == '1 x 160' or row['Storage'] == '1 x 420' or row['Storage'] == '2 x 420') :   \r\n",
        "          return 'SSD'\r\n",
        "       else :\r\n",
        "          return row['Storage']  \r\n",
        "\r\n",
        "def setStorageSize (row):\r\n",
        "       if (row['Storage'] == 'EBS') :\r\n",
        "          return 1\r\n",
        "       else :\r\n",
        "          return 2              \r\n",
        "\r\n",
        "def setProject_Size (row):\r\n",
        "       if (row['Project_Size'] == 'small') :\r\n",
        "          return 1\r\n",
        "       if (row['Project_Size'] == 'medium') :\r\n",
        "          return 2  \r\n",
        "       if (row['Project_Size'] == 'large') :\r\n",
        "          return 3     \r\n",
        "\r\n",
        "def setProcessor_Archi (row):\r\n",
        "       if (row['Instance_Type'] == 'AWS_A1' or row['Instance_Type'] == 'AWS_T4g' or row['Instance_Type'] == 'AWS_M6g') :\r\n",
        "          return 2\r\n",
        "       else :\r\n",
        "          return 1                \r\n",
        "\r\n",
        "def setProjectType (row):\r\n",
        "   if (row['Instance_Type'] == 'AWS_A1' and row['vCPU'] == 1) :\r\n",
        "      return 1\r\n",
        "   if row['Instance_Type'] == 'AWS_A1' and row['vCPU'] == 2 :\r\n",
        "      return 4\r\n",
        "   if row['Instance_Type'] == 'AWS_A1' and row['vCPU'] == 3 :\r\n",
        "      return 3\r\n",
        "   if row['Instance_Type'] == 'AWS_A1' and (row['vCPU'] == 4 or row['vCPU'] == 5) :\r\n",
        "      return 4\r\n",
        "   if row['Instance_Type'] == 'AWS_A1' and row['vCPU'] > 5 :\r\n",
        "      return 7\r\n",
        "   if row['Instance_Type'] == 'AWS_A1' :\r\n",
        "      return 7\r\n",
        "   if row['Instance_Type'] == 'AWS_T4g' and row['vCPU'] == 1 and row['Memory'] <= 2 :\r\n",
        "      return 1\r\n",
        "   if row['Instance_Type'] == 'AWS_T4g' and (row['vCPU'] <= 2) and row['Memory'] <= 2 :\r\n",
        "      return 2\r\n",
        "   if row['Instance_Type'] == 'AWS_T4g' and (row['vCPU'] <= 2) and row['Memory'] <= 3 :\r\n",
        "      return 5\r\n",
        "   if row['Instance_Type'] == 'AWS_T4g' and (row['vCPU'] <= 2) and row['Memory'] <= 4 :\r\n",
        "      return 7\r\n",
        "   if row['Instance_Type'] == 'AWS_T4g' and (row['vCPU'] <= 2) and row['Memory'] <= 5 :\r\n",
        "      return 8\r\n",
        "   if row['Instance_Type'] == 'AWS_T4g' and row['vCPU'] <= 3 and row['Memory'] <= 6 :\r\n",
        "      return 9\r\n",
        "   if row['Instance_Type'] == 'AWS_T4g' and (row['vCPU'] > 3) and row['Memory'] > 6 :\r\n",
        "      return 10\r\n",
        "   if row['Instance_Type'] == 'AWS_T4g' :\r\n",
        "      return 10\r\n",
        "   if row['Instance_Type'] == 'AWS_T3' and row['vCPU'] <= 2 and row['Memory'] == 1 :\r\n",
        "      return 1\r\n",
        "   if row['Instance_Type'] == 'AWS_T3' and row['vCPU'] <= 2 and row['Memory'] <= 2 :\r\n",
        "      return 2\r\n",
        "   if row['Instance_Type'] == 'AWS_T3' and row['vCPU'] <= 2 and row['Memory'] <= 3 :\r\n",
        "      return 5\r\n",
        "   if row['Instance_Type'] == 'AWS_T3' and row['vCPU'] <= 2 and row['Memory'] <= 4 :\r\n",
        "      return 7\r\n",
        "   if row['Instance_Type'] == 'AWS_T3' and row['vCPU'] <= 2 and row['Memory'] <= 5 :\r\n",
        "      return 8\r\n",
        "   if row['Instance_Type'] == 'AWS_T3' and row['vCPU'] <= 3 and row['Memory'] <= 6 :\r\n",
        "      return 9\r\n",
        "   if row['Instance_Type'] == 'AWS_T3' and row['vCPU'] > 3 and row['Memory'] > 6 :\r\n",
        "      return 10\r\n",
        "   if row['Instance_Type'] == 'AWS_T3' :\r\n",
        "      return 10\r\n",
        "   if row['Instance_Type'] == 'AWS_T3a' and row['vCPU'] <= 2 and row['Memory'] == 1 :\r\n",
        "      return 1\r\n",
        "   if row['Instance_Type'] == 'AWS_T3a' and row['vCPU'] <= 2 and row['Memory'] <= 2 :\r\n",
        "      return 2\r\n",
        "   if row['Instance_Type'] == 'AWS_T3a' and row['vCPU'] <= 2 and row['Memory'] <= 3 :\r\n",
        "      return 5\r\n",
        "   if row['Instance_Type'] == 'AWS_T3a' and row['vCPU'] <= 2 and row['Memory'] <= 4 :\r\n",
        "      return 7\r\n",
        "   if row['Instance_Type'] == 'AWS_T3a' and row['vCPU'] <= 3 and row['Memory'] <= 5 :\r\n",
        "      return 8\r\n",
        "   if row['Instance_Type'] == 'AWS_T3a' and row['vCPU'] <= 3 and row['Memory'] <= 6 :\r\n",
        "      return 9\r\n",
        "   if row['Instance_Type'] == 'AWS_T3a' and row['vCPU'] > 3 and row['Memory'] > 6 :\r\n",
        "      return 10\r\n",
        "   if row['Instance_Type'] == 'AWS_T3a' :\r\n",
        "      return 10\r\n",
        "   if row['Instance_Type'] == 'AWS_T2' and row['vCPU'] == 1 and row['Memory'] == 1 :\r\n",
        "      return 1\r\n",
        "   if row['Instance_Type'] == 'AWS_T2' and row['vCPU'] == 1 and row['Memory'] <= 2 :\r\n",
        "      return 2\r\n",
        "   if row['Instance_Type'] == 'AWS_T2' and row['vCPU'] == 1 or row['vCPU'] <= 4 :\r\n",
        "      return 7\r\n",
        "   if row['Instance_Type'] == 'AWS_T2' and row['vCPU'] <= 2 and row['Memory'] <= 5 :\r\n",
        "      return 11\r\n",
        "   if row['Instance_Type'] == 'AWS_T2' and row['vCPU'] <= 3 and row['Memory'] <= 6 :\r\n",
        "      return 4\r\n",
        "   if row['Instance_Type'] == 'AWS_T2' and row['vCPU'] > 3 and row['Memory'] > 6 :\r\n",
        "      return 10\r\n",
        "   if row['Instance_Type'] == 'AWS_T2' :\r\n",
        "      return 10\r\n",
        "   if row['Instance_Type'] == 'AWS_M6g' and row['vCPU'] <= 2 and row['Memory'] <= 5 :\r\n",
        "      return 6\r\n",
        "   if row['Instance_Type'] == 'AWS_M6g' and row['vCPU'] <= 5 and row['Memory'] <= 7 :\r\n",
        "      return 3\r\n",
        "   if row['Instance_Type'] == 'AWS_M6g' and row['vCPU'] <= 7 and row['Memory'] <= 9 :\r\n",
        "      return 7\r\n",
        "   if row['Instance_Type'] == 'AWS_M6g' and row['vCPU'] <= 9 and row['Memory'] <= 11 :\r\n",
        "      return 12\r\n",
        "   if row['Instance_Type'] == 'AWS_M6g' and row['vCPU'] > 9 and row['Memory'] > 11:\r\n",
        "      return 13\r\n",
        "   if row['Instance_Type'] == 'AWS_M6g':\r\n",
        "      return 13  \r\n",
        "   if row['Instance_Type'] == 'AWS_M5' and row['vCPU'] <= 3 and row['Memory'] <= 6 :\r\n",
        "      return 6\r\n",
        "   if row['Instance_Type'] == 'AWS_M5' and row['vCPU'] <= 8  and row['Memory'] <= 7 :\r\n",
        "      return 5\r\n",
        "   if row['Instance_Type'] == 'AWS_M5' and row['vCPU'] <= 9 and row['Memory'] <= 11 :\r\n",
        "      return 12\r\n",
        "   if row['Instance_Type'] == 'AWS_M5' and row['vCPU'] > 9 and row['Memory'] > 11 :\r\n",
        "      return 14\r\n",
        "   if row['Instance_Type'] == 'AWS_M5' :\r\n",
        "      return 14\r\n",
        "   if row['Instance_Type'] == 'AWS_M5a' and row['vCPU'] <= 2 and row['Memory'] <= 5 :\r\n",
        "      return 6\r\n",
        "   if row['Instance_Type'] == 'AWS_M5a' and row['vCPU'] <= 7 and row['Memory'] <= 7:\r\n",
        "      return 5\r\n",
        "   if row['Instance_Type'] == 'AWS_M5a' and row['vCPU'] <= 9 and row['Memory'] <= 11 :\r\n",
        "      return 12\r\n",
        "   if row['Instance_Type'] == 'AWS_M5a' and row['vCPU'] > 9 and row['Memory'] > 11 :\r\n",
        "      return 14\r\n",
        "   if row['Instance_Type'] == 'AWS_M5a' :\r\n",
        "      return 14\r\n",
        "   if row['Instance_Type'] == 'AWS_M4' and row['vCPU'] <= 5 and row['Memory'] <= 7 :\r\n",
        "      return 6\r\n",
        "   if row['Instance_Type'] == 'AWS_M4' and row['vCPU'] <= 7 and row['Memory'] <= 10 :\r\n",
        "      return 5\r\n",
        "   if row['Instance_Type'] == 'AWS_M4' and row['vCPU'] <= 9 and row['Memory'] <= 11 :\r\n",
        "      return 12\r\n",
        "   if row['Instance_Type'] == 'AWS_M4' and row['vCPU'] > 9 and row['Memory'] > 11 :\r\n",
        "      return 14\r\n",
        "   if row['Instance_Type'] == 'AWS_M4' :\r\n",
        "      return 14\r\n",
        "\r\n",
        "def groupedInstance_Type (row):\r\n",
        "   if (row['Instance_Type'] == 'AWS_A1') :\r\n",
        "      return 1\r\n",
        "   if (row['Instance_Type'] == 'AWS_T4g') :\r\n",
        "      return 2\r\n",
        "   if (row['Instance_Type'] == 'AWS_T3') :\r\n",
        "      return 3   \r\n",
        "   if (row['Instance_Type'] == 'AWS_T3a') :\r\n",
        "      return 4\r\n",
        "   if (row['Instance_Type'] == 'AWS_T2') :\r\n",
        "      return 5\r\n",
        "   if (row['Instance_Type'] == 'AWS_M4') :   \r\n",
        "      return 6\r\n",
        "   if (row['Instance_Type'] == 'AWS_M6g') :\r\n",
        "      return 7\r\n",
        "   if (row['Instance_Type'] == 'AWS_M5') :\r\n",
        "      return 8\r\n",
        "   if (row['Instance_Type'] == 'AWS_M5a') :\r\n",
        "      return 9  \r\n",
        "   else :\r\n",
        "      return 10\r\n",
        "\r\n",
        "instant_types = {\r\n",
        "                 'AWS_A1':1,\r\n",
        "                 'AWS_T4g':2,\r\n",
        "                 'AWS_T3':3,\r\n",
        "                 'AWS_T3a':4,\r\n",
        "                 'AWS_T2':5,\r\n",
        "                 'AWS_M4':6,\r\n",
        "                 'AWS_M6g':7,\r\n",
        "                 'AWS_M5':8,\r\n",
        "                 'AWS_M5a':9\r\n",
        "                 }      \r\n",
        "\r\n",
        "     \r\n",
        "df1['Network_Performance'] = df1.apply (lambda row: fixNetworkPerformanceIssue(row), axis=1) \r\n",
        "df1['Memory'] = df1.apply (lambda row: groupedMemory(row), axis=1)  \r\n",
        "df1['vCPU'] = df1.apply (lambda row: groupedvCPU(row), axis=1)  \r\n",
        "\r\n",
        "df1['Memory'] = df1.apply (lambda row: setMemory(row), axis=1)   \r\n",
        "df1['Memory'] = df1['Memory'].astype(int)  \r\n",
        "\r\n",
        "df1['Project_Size'] = df1.apply (lambda row: setProject_Size(row), axis=1)   \r\n",
        "df1['Project_Type'] = df1.apply (lambda row: setProjectType(row), axis=1)   \r\n",
        "df1['Instance_Type'] = df1.Instance_Type.map (instant_types)\r\n",
        "\r\n",
        "df_dummy['Memory'] = df_dummy.apply (lambda row: groupedMemory(row), axis=1)  \r\n",
        "df_dummy['vCPU'] = df_dummy.apply (lambda row: groupedvCPU(row), axis=1) \r\n",
        "df_dummy['Project_Size'] = df_dummy.apply (lambda row: setProject_Size(row), axis=1)   \r\n",
        "df_dummy['Instance_Type'] = df_dummy.Instance_Type.map (instant_types)\r\n",
        "\r\n",
        "df1.head(5) "
      ],
      "execution_count": 37,
      "outputs": [
        {
          "output_type": "execute_result",
          "data": {
            "text/html": [
              "<div>\n",
              "<style scoped>\n",
              "    .dataframe tbody tr th:only-of-type {\n",
              "        vertical-align: middle;\n",
              "    }\n",
              "\n",
              "    .dataframe tbody tr th {\n",
              "        vertical-align: top;\n",
              "    }\n",
              "\n",
              "    .dataframe thead th {\n",
              "        text-align: right;\n",
              "    }\n",
              "</style>\n",
              "<table border=\"1\" class=\"dataframe\">\n",
              "  <thead>\n",
              "    <tr style=\"text-align: right;\">\n",
              "      <th></th>\n",
              "      <th>Instance_Type</th>\n",
              "      <th>Project_Type</th>\n",
              "      <th>Project_Size</th>\n",
              "      <th>vCPU</th>\n",
              "      <th>Memory</th>\n",
              "      <th>Network_Performance</th>\n",
              "    </tr>\n",
              "  </thead>\n",
              "  <tbody>\n",
              "    <tr>\n",
              "      <th>0</th>\n",
              "      <td>6</td>\n",
              "      <td>7</td>\n",
              "      <td>2</td>\n",
              "      <td>3</td>\n",
              "      <td>6</td>\n",
              "      <td>6</td>\n",
              "    </tr>\n",
              "    <tr>\n",
              "      <th>1</th>\n",
              "      <td>6</td>\n",
              "      <td>7</td>\n",
              "      <td>2</td>\n",
              "      <td>2</td>\n",
              "      <td>5</td>\n",
              "      <td>4</td>\n",
              "    </tr>\n",
              "    <tr>\n",
              "      <th>4</th>\n",
              "      <td>6</td>\n",
              "      <td>7</td>\n",
              "      <td>2</td>\n",
              "      <td>3</td>\n",
              "      <td>5</td>\n",
              "      <td>6</td>\n",
              "    </tr>\n",
              "    <tr>\n",
              "      <th>5</th>\n",
              "      <td>9</td>\n",
              "      <td>7</td>\n",
              "      <td>2</td>\n",
              "      <td>4</td>\n",
              "      <td>7</td>\n",
              "      <td>5</td>\n",
              "    </tr>\n",
              "    <tr>\n",
              "      <th>8</th>\n",
              "      <td>1</td>\n",
              "      <td>7</td>\n",
              "      <td>2</td>\n",
              "      <td>6</td>\n",
              "      <td>8</td>\n",
              "      <td>5</td>\n",
              "    </tr>\n",
              "  </tbody>\n",
              "</table>\n",
              "</div>"
            ],
            "text/plain": [
              "   Instance_Type  Project_Type  Project_Size  vCPU  Memory  Network_Performance\n",
              "0              6             7             2     3       6                    6\n",
              "1              6             7             2     2       5                    4\n",
              "4              6             7             2     3       5                    6\n",
              "5              9             7             2     4       7                    5\n",
              "8              1             7             2     6       8                    5"
            ]
          },
          "metadata": {
            "tags": []
          },
          "execution_count": 37
        }
      ]
    },
    {
      "cell_type": "code",
      "metadata": {
        "id": "uL398ZX0bYx8"
      },
      "source": [
        "df2 = df1.loc[df1.Instance_Type.isnull()]\r\n",
        "df2.head(50000)\r\n",
        "\r\n",
        "df2 = df1.loc[df1['Instance_Type'] == 8].head(30000)\r\n",
        "df4 = df1.loc[df1['Instance_Type'] == 6].head(10000)\r\n",
        "df5 = df1.loc[df1['Instance_Type'] == 3].head(30000)\r\n",
        "df6 = df1.loc[df1['Instance_Type'] == 5].head(10000)\r\n",
        "df8 = df1.loc[df1['Instance_Type'] == 7].head(10000)\r\n",
        "df9 = df1.loc[df1['Instance_Type'] == 1].head(10000)\r\n",
        "df_general = df2.append([df4 , df5 , df6 , df8 , df9, df_dummy])"
      ],
      "execution_count": 38,
      "outputs": []
    },
    {
      "cell_type": "code",
      "metadata": {
        "id": "Xpy9epD3bdRc"
      },
      "source": [
        "df_general = shuffle(df_general)\r\n",
        "df_general.reset_index(inplace=True, drop=True)"
      ],
      "execution_count": 39,
      "outputs": []
    },
    {
      "cell_type": "code",
      "metadata": {
        "colab": {
          "base_uri": "https://localhost:8080/"
        },
        "id": "Ki5VwPDNbk6f",
        "outputId": "8743d8eb-96c7-4385-a595-56bd9e5b7117"
      },
      "source": [
        "y = np.asarray(df_general['Instance_Type'])\r\n",
        "print(y)\r\n",
        "\r\n",
        "X = df_general.iloc[:,1:].values\r\n",
        "X"
      ],
      "execution_count": 41,
      "outputs": [
        {
          "output_type": "stream",
          "text": [
            "[3 3 6 ... 6 8 6]\n"
          ],
          "name": "stdout"
        },
        {
          "output_type": "execute_result",
          "data": {
            "text/plain": [
              "array([[1, 1, 2, 1, 3],\n",
              "       [1, 1, 2, 1, 3],\n",
              "       [7, 2, 4, 6, 6],\n",
              "       ...,\n",
              "       [7, 2, 2, 5, 4],\n",
              "       [7, 2, 4, 7, 5],\n",
              "       [7, 2, 4, 6, 6]])"
            ]
          },
          "metadata": {
            "tags": []
          },
          "execution_count": 41
        }
      ]
    },
    {
      "cell_type": "code",
      "metadata": {
        "id": "yS0zCi6Hbnee"
      },
      "source": [
        "X_train, X_test, y_train, y_test = train_test_split(X, y, test_size = 0.2, random_state = 0)"
      ],
      "execution_count": 42,
      "outputs": []
    },
    {
      "cell_type": "code",
      "metadata": {
        "colab": {
          "base_uri": "https://localhost:8080/"
        },
        "id": "TTbA4eDzbpX8",
        "outputId": "971dcdf6-85ef-4a43-b974-ff43ab2deebd"
      },
      "source": [
        "rbf = svm.SVC(kernel='rbf', gamma='auto', C=1, decision_function_shape='ovo').fit(X_train, y_train)\r\n",
        "rbf_pred = rbf.predict(X_test)\r\n",
        "print(classification_report(y_test, rbf_pred))\r\n",
        "print(\"Accuracy: \" , metrics.accuracy_score(y_test, rbf_pred))"
      ],
      "execution_count": 43,
      "outputs": [
        {
          "output_type": "stream",
          "text": [
            "              precision    recall  f1-score   support\n",
            "\n",
            "           1       1.00      1.00      1.00       422\n",
            "           2       1.00      0.56      0.72       100\n",
            "           3       0.99      1.00      0.99      3241\n",
            "           4       1.00      1.00      1.00       102\n",
            "           5       1.00      1.00      1.00      2030\n",
            "           6       1.00      1.00      1.00      1929\n",
            "           7       1.00      1.00      1.00       648\n",
            "           8       1.00      1.00      1.00      6013\n",
            "           9       1.00      1.00      1.00        91\n",
            "\n",
            "    accuracy                           1.00     14576\n",
            "   macro avg       1.00      0.95      0.97     14576\n",
            "weighted avg       1.00      1.00      1.00     14576\n",
            "\n",
            "Accuracy:  0.9969813391877058\n"
          ],
          "name": "stdout"
        }
      ]
    },
    {
      "cell_type": "code",
      "metadata": {
        "colab": {
          "base_uri": "https://localhost:8080/"
        },
        "id": "K8PPxTfSbz3c",
        "outputId": "e7c467bd-3ea5-4be7-c24c-11bd10ef3be1"
      },
      "source": [
        "poly = svm.SVC(kernel='poly', degree=5, C=1, decision_function_shape='ovo').fit(X_train, y_train)\r\n",
        "poly_pred = poly.predict(X_test)\r\n",
        "print(classification_report(y_test, poly_pred))\r\n",
        "print(\"Accuracy: \" , metrics.accuracy_score(y_test, poly_pred))"
      ],
      "execution_count": 44,
      "outputs": [
        {
          "output_type": "stream",
          "text": [
            "              precision    recall  f1-score   support\n",
            "\n",
            "           1       1.00      1.00      1.00       422\n",
            "           2       1.00      0.56      0.72       100\n",
            "           3       0.98      1.00      0.99      3241\n",
            "           4       1.00      0.86      0.93       102\n",
            "           5       1.00      1.00      1.00      2030\n",
            "           6       1.00      1.00      1.00      1929\n",
            "           7       1.00      1.00      1.00       648\n",
            "           8       1.00      1.00      1.00      6013\n",
            "           9       1.00      1.00      1.00        91\n",
            "\n",
            "    accuracy                           1.00     14576\n",
            "   macro avg       1.00      0.94      0.96     14576\n",
            "weighted avg       1.00      1.00      1.00     14576\n",
            "\n",
            "Accuracy:  0.9960208562019759\n"
          ],
          "name": "stdout"
        }
      ]
    },
    {
      "cell_type": "code",
      "metadata": {
        "colab": {
          "base_uri": "https://localhost:8080/"
        },
        "id": "VF3bDcXhb3N0",
        "outputId": "61ab3994-9d4b-4c7c-f7de-e7dd86df368e"
      },
      "source": [
        "linear = svm.SVC(kernel='linear', C=1, decision_function_shape='ovo').fit(X_train, y_train)\r\n",
        "linear_pred = linear.predict(X_test)\r\n",
        "print(classification_report(y_test, linear_pred))\r\n",
        "print(\"Accuracy: \" , metrics.accuracy_score(y_test, linear_pred))"
      ],
      "execution_count": 45,
      "outputs": [
        {
          "output_type": "stream",
          "text": [
            "              precision    recall  f1-score   support\n",
            "\n",
            "           1       0.99      1.00      0.99       422\n",
            "           2       1.00      0.38      0.55       100\n",
            "           3       0.98      1.00      0.99      3241\n",
            "           4       1.00      1.00      1.00       102\n",
            "           5       1.00      1.00      1.00      2030\n",
            "           6       0.64      0.80      0.71      1929\n",
            "           7       0.69      0.52      0.59       648\n",
            "           8       0.96      0.90      0.93      6013\n",
            "           9       0.75      0.86      0.80        91\n",
            "\n",
            "    accuracy                           0.91     14576\n",
            "   macro avg       0.89      0.83      0.84     14576\n",
            "weighted avg       0.92      0.91      0.91     14576\n",
            "\n",
            "Accuracy:  0.9070389681668496\n"
          ],
          "name": "stdout"
        }
      ]
    },
    {
      "cell_type": "code",
      "metadata": {
        "colab": {
          "base_uri": "https://localhost:8080/"
        },
        "id": "LfDBlxuzb5IM",
        "outputId": "0dcff6f1-a275-470f-bff6-a6684360f1d5"
      },
      "source": [
        "sig = svm.SVC(kernel='sigmoid', C=1, decision_function_shape='ovo').fit(X_train, y_train)\r\n",
        "sig_pred = sig.predict(X_test)\r\n",
        "print(classification_report(y_test, sig_pred))\r\n",
        "print(\"Accuracy: \" , metrics.accuracy_score(y_test, sig_pred))"
      ],
      "execution_count": 46,
      "outputs": [
        {
          "output_type": "stream",
          "text": [
            "              precision    recall  f1-score   support\n",
            "\n",
            "           1       0.54      0.76      0.63       422\n",
            "           2       0.00      0.00      0.00       100\n",
            "           3       0.25      0.26      0.26      3241\n",
            "           4       0.00      0.00      0.00       102\n",
            "           5       1.00      0.43      0.60      2030\n",
            "           6       0.55      0.23      0.32      1929\n",
            "           7       0.00      0.00      0.00       648\n",
            "           8       0.52      0.58      0.54      6013\n",
            "           9       0.00      0.00      0.00        91\n",
            "\n",
            "    accuracy                           0.41     14576\n",
            "   macro avg       0.32      0.25      0.26     14576\n",
            "weighted avg       0.50      0.41      0.43     14576\n",
            "\n",
            "Accuracy:  0.40772502744237105\n"
          ],
          "name": "stdout"
        },
        {
          "output_type": "stream",
          "text": [
            "/usr/local/lib/python3.6/dist-packages/sklearn/metrics/_classification.py:1272: UndefinedMetricWarning: Precision and F-score are ill-defined and being set to 0.0 in labels with no predicted samples. Use `zero_division` parameter to control this behavior.\n",
            "  _warn_prf(average, modifier, msg_start, len(result))\n"
          ],
          "name": "stderr"
        }
      ]
    },
    {
      "cell_type": "markdown",
      "metadata": {
        "id": "BcMJzg7Ef5xt"
      },
      "source": [
        "According to result, we can get best result for RBF kernal of SVM algorithm. "
      ]
    },
    {
      "cell_type": "code",
      "metadata": {
        "id": "JOvg5ZHIfP32"
      },
      "source": [
        "general_predict_model = rbf"
      ],
      "execution_count": 47,
      "outputs": []
    },
    {
      "cell_type": "markdown",
      "metadata": {
        "id": "_aThfUj1fYSz"
      },
      "source": [
        "# Compute Optimized Family Type"
      ]
    },
    {
      "cell_type": "code",
      "metadata": {
        "id": "IGm8EsIxgVV2"
      },
      "source": [
        "compute_predict_model = rbf"
      ],
      "execution_count": 51,
      "outputs": []
    },
    {
      "cell_type": "markdown",
      "metadata": {
        "id": "GO_21uZbflci"
      },
      "source": [
        "# Memory Optimized Family Type"
      ]
    },
    {
      "cell_type": "code",
      "metadata": {
        "id": "jyE4ucnDgXNi"
      },
      "source": [
        "memory_predict_model = rbf"
      ],
      "execution_count": 52,
      "outputs": []
    },
    {
      "cell_type": "markdown",
      "metadata": {
        "id": "inBZeEnQfqv6"
      },
      "source": [
        "# Accelerated Computing Family Type"
      ]
    },
    {
      "cell_type": "code",
      "metadata": {
        "id": "-NclPJIpgYCH"
      },
      "source": [
        "accelerated_predict_model = rbf"
      ],
      "execution_count": 53,
      "outputs": []
    },
    {
      "cell_type": "markdown",
      "metadata": {
        "id": "okxx0nE2fus6"
      },
      "source": [
        "# Storage Optimized Family Type"
      ]
    },
    {
      "cell_type": "code",
      "metadata": {
        "id": "a_8YLvIEgZAr"
      },
      "source": [
        "storage_predict_model = rbf"
      ],
      "execution_count": 54,
      "outputs": []
    },
    {
      "cell_type": "markdown",
      "metadata": {
        "id": "kDjtWlvLeVPu"
      },
      "source": [
        "According to result, we calculate all Instance family prediction models,\r\n",
        "Next we calculate what is intance type related result"
      ]
    },
    {
      "cell_type": "markdown",
      "metadata": {
        "id": "MjZ3qdh5B6E8"
      },
      "source": [
        "# Instance Type Selection Model"
      ]
    },
    {
      "cell_type": "code",
      "metadata": {
        "colab": {
          "base_uri": "https://localhost:8080/"
        },
        "id": "B4zL6rPLb7Uh",
        "outputId": "eb52f8eb-4fbf-4b15-b7f9-1bbefad384e1"
      },
      "source": [
        "x2 = [[14, 3, 12, 13,10]]\r\n",
        "if(family_type == 1):\r\n",
        "  cus_pred2 = compute_predict_model.predict(x2)\r\n",
        "if(family_type == 2):\r\n",
        "  cus_pred2 = general_predict_model.predict(x2)\r\n",
        "if(family_type == 3):\r\n",
        "  cus_pred2 = memory_predict_model.predict(x2)\r\n",
        "if(family_type == 4):\r\n",
        "  cus_pred2 = accelerated_predict_model.predict(x2)\r\n",
        "if(family_type == 5):\r\n",
        "  cus_pred2 = storage_predict_model.predict(x2)        \r\n",
        "\r\n",
        "instance_Type = cus_pred2[0]\r\n",
        "instance_Type"
      ],
      "execution_count": 55,
      "outputs": [
        {
          "output_type": "execute_result",
          "data": {
            "text/plain": [
              "8"
            ]
          },
          "metadata": {
            "tags": []
          },
          "execution_count": 55
        }
      ]
    },
    {
      "cell_type": "markdown",
      "metadata": {
        "id": "n1hfFfwd5yyF"
      },
      "source": [
        "Next, we want to find how much price want to spend for relevent Intance type according to user requirements. So, I divid 5 pricing models to predict this for each Instance family."
      ]
    },
    {
      "cell_type": "markdown",
      "metadata": {
        "id": "9u2GZcb65n4k"
      },
      "source": [
        "# General Purpose Pricing Model"
      ]
    },
    {
      "cell_type": "code",
      "metadata": {
        "colab": {
          "base_uri": "https://localhost:8080/",
          "height": 163
        },
        "id": "YFOwKlzx1rS4",
        "outputId": "7b6d3940-68b2-489d-ae4b-20472e1e3268"
      },
      "source": [
        "df = df_general_table.copy()"
      ],
      "execution_count": 57,
      "outputs": [
        {
          "output_type": "error",
          "ename": "NameError",
          "evalue": "ignored",
          "traceback": [
            "\u001b[0;31m---------------------------------------------------------------------------\u001b[0m",
            "\u001b[0;31mNameError\u001b[0m                                 Traceback (most recent call last)",
            "\u001b[0;32m<ipython-input-57-b8323967c6a0>\u001b[0m in \u001b[0;36m<module>\u001b[0;34m()\u001b[0m\n\u001b[0;32m----> 1\u001b[0;31m \u001b[0mdf\u001b[0m \u001b[0;34m=\u001b[0m \u001b[0mdf_general_table\u001b[0m\u001b[0;34m.\u001b[0m\u001b[0mcopy\u001b[0m\u001b[0;34m(\u001b[0m\u001b[0;34m)\u001b[0m\u001b[0;34m\u001b[0m\u001b[0;34m\u001b[0m\u001b[0m\n\u001b[0m",
            "\u001b[0;31mNameError\u001b[0m: name 'df_general_table' is not defined"
          ]
        }
      ]
    },
    {
      "cell_type": "code",
      "metadata": {
        "id": "bj_-YG6E7QN9"
      },
      "source": [
        "df[\"Memory\"] = df[\"Memory\"].astype(\"float64\")\r\n",
        "df[\"EffectiveDates\"] = df[\"EffectiveDates\"].astype(\"datetime64\")\r\n",
        "df[\"Project_Type\"] = df[\"Project_Type\"].astype(str)\r\n",
        "df[\"Processor_Archi\"] = df[\"Storage\"].astype(str)\r\n",
        "df[\"Clock_Speed\"] = df[\"Clock_Speed\"].astype(str)\r\n",
        "df[\"PricePerUnit\"] = df[\"PricePerUnit\"].astype(float)\r\n",
        "columns = ['PricePerUnit', 'UpfrontCost', 'Instance_Type', 'Operating_System', 'Location', 'LeaseContractLength', 'PurchaseOption', 'OfferingClass']\r\n",
        "df1 = df.reindex(columns=columns)\r\n",
        "df1 = df1[columns]\r\n",
        "df1.head()"
      ],
      "execution_count": null,
      "outputs": []
    },
    {
      "cell_type": "code",
      "metadata": {
        "id": "R0AF2o_W7c8_"
      },
      "source": [
        "def setOnDemandPrice (row):\r\n",
        "    if (row['Instance_Type'] == 'a1.medium') :\r\n",
        "      return 0.0255\r\n",
        "    if (row['Instance_Type'] == 'a1.large') :\r\n",
        "      return 0.051\r\n",
        "    if (row['Instance_Type'] == 'a1.xlarge') :\r\n",
        "      return 0.102\r\n",
        "    if (row['Instance_Type'] == 'a1.2xlarge') :\r\n",
        "      return 0.204  \r\n",
        "    if (row['Instance_Type'] == 'a1.4xlarge') :\r\n",
        "      return 0.408\r\n",
        "    if (row['Instance_Type'] == 'a1.metal') :\r\n",
        "      return 0.408  \r\n",
        "    if (row['Instance_Type'] == 't4g.nano') :\r\n",
        "      return 0.0042  \r\n",
        "    if (row['Instance_Type'] == 't4g.micro') :\r\n",
        "      return 0.0084         \r\n",
        "    if (row['Instance_Type'] == 't4g.small') :\r\n",
        "      return 0.0168\r\n",
        "    if (row['Instance_Type'] == 't4g.medium') :\r\n",
        "      return 0.0336        \r\n",
        "    if (row['Instance_Type'] == 't4g.large') :\r\n",
        "      return 0.0672 \r\n",
        "    if (row['Instance_Type'] == 't4g.xlarge') :\r\n",
        "      return 0.1344       \r\n",
        "    if (row['Instance_Type'] == 't4g.2xlarge') :\r\n",
        "      return 0.2688  \r\n",
        "\r\n",
        "    if (row['Instance_Type'] == 't3.nano') :\r\n",
        "      return 0.0052  \r\n",
        "    if (row['Instance_Type'] == 't3.micro') :\r\n",
        "      return 0.0104         \r\n",
        "    if (row['Instance_Type'] == 't3.small') :\r\n",
        "      return 0.0208\r\n",
        "    if (row['Instance_Type'] == 't3.medium') :\r\n",
        "      return 0.0416        \r\n",
        "    if (row['Instance_Type'] == 't3.large') :\r\n",
        "      return 0.0832 \r\n",
        "    if (row['Instance_Type'] == 't3.xlarge') :\r\n",
        "      return 0.1664       \r\n",
        "    if (row['Instance_Type'] == 't3.2xlarge') :\r\n",
        "      return 0.3328 \r\n",
        "\r\n",
        "    if (row['Instance_Type'] == 't3a.nano') :\r\n",
        "      return 0.0047  \r\n",
        "    if (row['Instance_Type'] == 't3a.micro') :\r\n",
        "      return 0.0094         \r\n",
        "    if (row['Instance_Type'] == 't3a.small') :\r\n",
        "      return 0.0188\r\n",
        "    if (row['Instance_Type'] == 't3a.medium') :\r\n",
        "      return 0.0376        \r\n",
        "    if (row['Instance_Type'] == 't3a.large') :\r\n",
        "      return 0.0752 \r\n",
        "    if (row['Instance_Type'] == 't3a.xlarge') :\r\n",
        "      return 0.1504       \r\n",
        "    if (row['Instance_Type'] == 't3a.2xlarge') :\r\n",
        "      return 0.3008  \r\n",
        "\r\n",
        "    if (row['Instance_Type'] == 'm6g.medium') :\r\n",
        "      return 0.0385        \r\n",
        "    if (row['Instance_Type'] == 'm6g.large') :\r\n",
        "      return 0.077 \r\n",
        "    if (row['Instance_Type'] == 'm6g.xlarge') :\r\n",
        "      return 0.154       \r\n",
        "    if (row['Instance_Type'] == 'm6g.2xlarge') :\r\n",
        "      return 0.308\r\n",
        "    if (row['Instance_Type'] == 'm6g.4xlarge') :\r\n",
        "      return 0.616\r\n",
        "    if (row['Instance_Type'] == 'm6g.8xlarge') :\r\n",
        "      return 1.232\r\n",
        "    if (row['Instance_Type'] == 'm6g.12xlarge') :\r\n",
        "      return 1.848        \r\n",
        "    if (row['Instance_Type'] == 'm6g.16xlarge') :\r\n",
        "      return 2.464    \r\n",
        "    if (row['Instance_Type'] == 'm6g.metal') :\r\n",
        "      return 2.464    \r\n",
        "\r\n",
        "    if (row['Instance_Type'] == 'm6gd.medium') :\r\n",
        "      return 0.0452       \r\n",
        "    if (row['Instance_Type'] == 'm6gd.large') :\r\n",
        "      return 0.0904\r\n",
        "    if (row['Instance_Type'] == 'm6gd.xlarge') :\r\n",
        "      return 0.1808     \r\n",
        "    if (row['Instance_Type'] == 'm6gd.2xlarge') :\r\n",
        "      return 0.3616\r\n",
        "    if (row['Instance_Type'] == 'm6gd.4xlarge') :\r\n",
        "      return 0.7232\r\n",
        "    if (row['Instance_Type'] == 'm6gd.8xlarge') :\r\n",
        "      return 1.4464\r\n",
        "    if (row['Instance_Type'] == 'm6gd.12xlarge') :\r\n",
        "      return 2.1696       \r\n",
        "    if (row['Instance_Type'] == 'm6gd.16xlarge') :\r\n",
        "      return 2.8928   \r\n",
        "    if (row['Instance_Type'] == 'm6gd.metal') :\r\n",
        "      return 2.8928  \r\n",
        "\r\n",
        "    if (row['Instance_Type'] == 'm5.large') :\r\n",
        "      return 0.0906\r\n",
        "    if (row['Instance_Type'] == 'm5.xlarge') :\r\n",
        "      return 0.192    \r\n",
        "    if (row['Instance_Type'] == 'm5.2xlarge') :\r\n",
        "      return 0.384\r\n",
        "    if (row['Instance_Type'] == 'm5.4xlarge') :\r\n",
        "      return 0.768\r\n",
        "    if (row['Instance_Type'] == 'm5.8xlarge') :\r\n",
        "      return 1.536\r\n",
        "    if (row['Instance_Type'] == 'm5.12xlarge') :\r\n",
        "      return 2.304       \r\n",
        "    if (row['Instance_Type'] == 'm5.16xlarge') :\r\n",
        "      return 3.072  \r\n",
        "    if (row['Instance_Type'] == 'm5.24xlarge') :\r\n",
        "      return 4.608    \r\n",
        "    if (row['Instance_Type'] == 'm5.metal') :\r\n",
        "      return 4.608    \r\n",
        "\r\n",
        "    if (row['Instance_Type'] == 'm5d.large') :\r\n",
        "      return 0.113\r\n",
        "    if (row['Instance_Type'] == 'm5d.xlarge') :\r\n",
        "      return 0.226    \r\n",
        "    if (row['Instance_Type'] == 'm5d.2xlarge') :\r\n",
        "      return 0.452\r\n",
        "    if (row['Instance_Type'] == 'm5d.4xlarge') :\r\n",
        "      return 0.904\r\n",
        "    if (row['Instance_Type'] == 'm5d.8xlarge') :\r\n",
        "      return 1.808\r\n",
        "    if (row['Instance_Type'] == 'm5d.12xlarge') :\r\n",
        "      return 2.712       \r\n",
        "    if (row['Instance_Type'] == 'm5d.16xlarge') :\r\n",
        "      return 3.616 \r\n",
        "    if (row['Instance_Type'] == 'm5d.24xlarge') :\r\n",
        "      return 5.424    \r\n",
        "    if (row['Instance_Type'] == 'm5d.metal') :\r\n",
        "      return 5.424  \r\n",
        "\r\n",
        "    if (row['Instance_Type'] == 'm5a.large') :\r\n",
        "      return 0.086\r\n",
        "    if (row['Instance_Type'] == 'm5a.xlarge') :\r\n",
        "      return 0.172    \r\n",
        "    if (row['Instance_Type'] == 'm5a.2xlarge') :\r\n",
        "      return 0.688\r\n",
        "    if (row['Instance_Type'] == 'm5a.4xlarge') :\r\n",
        "      return 0.688\r\n",
        "    if (row['Instance_Type'] == 'm5a.8xlarge') :\r\n",
        "      return 1.376\r\n",
        "\r\n",
        "    if (row['Instance_Type'] == 'm5ad.large') :\r\n",
        "      return 0.103\r\n",
        "    if (row['Instance_Type'] == 'm5ad.xlarge') :\r\n",
        "      return 0.206    \r\n",
        "    if (row['Instance_Type'] == 'm5ad.2xlarge') :\r\n",
        "      return 0.412\r\n",
        "    if (row['Instance_Type'] == 'm5ad.4xlarge') :\r\n",
        "      return 0.824\r\n",
        "    if (row['Instance_Type'] == 'm5ad.12xlarge') :\r\n",
        "      return 2.472      \r\n",
        "    if (row['Instance_Type'] == 'm5ad.24xlarge') :\r\n",
        "      return 4.944    \r\n",
        "\r\n",
        "    if (row['Instance_Type'] == 'm5n.large') :\r\n",
        "      return 0.119\r\n",
        "    if (row['Instance_Type'] == 'm5n.xlarge') :\r\n",
        "      return 0.238    \r\n",
        "    if (row['Instance_Type'] == 'm5n.2xlarge') :\r\n",
        "      return 0.476\r\n",
        "    if (row['Instance_Type'] == 'm5n.4xlarge') :\r\n",
        "      return 0.952\r\n",
        "    if (row['Instance_Type'] == 'm5n.8xlarge') :\r\n",
        "      return 1.904\r\n",
        "    if (row['Instance_Type'] == 'm5n.12xlarge') :\r\n",
        "      return 2.856       \r\n",
        "    if (row['Instance_Type'] == 'm5n.16xlarge') :\r\n",
        "      return 3.808\r\n",
        "    if (row['Instance_Type'] == 'm5n.24xlarge') :\r\n",
        "      return 5.712\r\n",
        "\r\n",
        "    if (row['Instance_Type'] == 'm4.large') :\r\n",
        "      return 0.1\r\n",
        "    if (row['Instance_Type'] == 'm4.xlarge') :\r\n",
        "      return 0.2   \r\n",
        "    if (row['Instance_Type'] == 'm4.2xlarge') :\r\n",
        "      return 0.4\r\n",
        "    if (row['Instance_Type'] == 'm4.4xlarge') :\r\n",
        "      return 0.8\r\n",
        "    if (row['Instance_Type'] == 'm4.10xlarge') :\r\n",
        "      return 2   \r\n",
        "    if (row['Instance_Type'] == 'm4.16xlarge') :\r\n",
        "      return 3.2 \r\n",
        "    else :\r\n",
        "      return 0.3008    \r\n",
        "                          \r\n",
        "\r\n",
        "              \r\n",
        "\r\n",
        "def setInstanceType (row):\r\n",
        "    if (row['Instance_Type'] == 'a1.medium') :\r\n",
        "        return 10\r\n",
        "    if (row['Instance_Type'] == 'a1.large') :\r\n",
        "        return 15\r\n",
        "    if (row['Instance_Type'] == 'a1.xlarge') :\r\n",
        "        return 24\r\n",
        "    if (row['Instance_Type'] == 'a1.2xlarge') :\r\n",
        "        return 37  \r\n",
        "    if (row['Instance_Type'] == 'a1.4xlarge') :\r\n",
        "        return 46\r\n",
        "    if (row['Instance_Type'] == 'a1.metal') :\r\n",
        "        return 47  \r\n",
        "    if (row['Instance_Type'] == 't4g.nano') :\r\n",
        "        return 1 \r\n",
        "    if (row['Instance_Type'] == 't4g.micro') :\r\n",
        "        return 4        \r\n",
        "    if (row['Instance_Type'] == 't4g.small') :\r\n",
        "        return 7\r\n",
        "    if (row['Instance_Type'] == 't4g.medium') :\r\n",
        "        return 11       \r\n",
        "    if (row['Instance_Type'] == 't4g.large') :\r\n",
        "        return 16\r\n",
        "    if (row['Instance_Type'] == 't4g.xlarge') :\r\n",
        "        return 31     \r\n",
        "    if (row['Instance_Type'] == 't4g.2xlarge') :\r\n",
        "        return 42\r\n",
        "\r\n",
        "    if (row['Instance_Type'] == 't3.nano') :\r\n",
        "        return 3 \r\n",
        "    if (row['Instance_Type'] == 't3.micro') :\r\n",
        "        return 6         \r\n",
        "    if (row['Instance_Type'] == 't3.small') :\r\n",
        "        return 9\r\n",
        "    if (row['Instance_Type'] == 't3.medium') :\r\n",
        "        return 13        \r\n",
        "    if (row['Instance_Type'] == 't3.large') :\r\n",
        "      return 19\r\n",
        "    if (row['Instance_Type'] == 't3.xlarge') :\r\n",
        "      return 30    \r\n",
        "    if (row['Instance_Type'] == 't3.2xlarge') :\r\n",
        "      return 44 \r\n",
        "\r\n",
        "    if (row['Instance_Type'] == 't3a.nano') :\r\n",
        "      return 36 \r\n",
        "    if (row['Instance_Type'] == 't3a.micro') :\r\n",
        "      return 5         \r\n",
        "    if (row['Instance_Type'] == 't3a.small') :\r\n",
        "      return 8\r\n",
        "    if (row['Instance_Type'] == 't3a.medium') :\r\n",
        "      return 12       \r\n",
        "    if (row['Instance_Type'] == 't3a.large') :\r\n",
        "      return 17\r\n",
        "    if (row['Instance_Type'] == 't3a.xlarge') :\r\n",
        "      return 32     \r\n",
        "    if (row['Instance_Type'] == 't3a.2xlarge') :\r\n",
        "      return 43  \r\n",
        "\r\n",
        "    if (row['Instance_Type'] == 'm6g.medium') :\r\n",
        "      return 14        \r\n",
        "    if (row['Instance_Type'] == 'm6g.large') :\r\n",
        "      return 18\r\n",
        "    if (row['Instance_Type'] == 'm6g.xlarge') :\r\n",
        "      return 29     \r\n",
        "    if (row['Instance_Type'] == 'm6g.2xlarge') :\r\n",
        "      return 46\r\n",
        "    if (row['Instance_Type'] == 'm6g.4xlarge') :\r\n",
        "      return 50\r\n",
        "    if (row['Instance_Type'] == 'm6g.8xlarge') :\r\n",
        "      return 60\r\n",
        "    if (row['Instance_Type'] == 'm6g.12xlarge') :\r\n",
        "      return 63       \r\n",
        "    if (row['Instance_Type'] == 'm6g.16xlarge') :\r\n",
        "      return 69   \r\n",
        "    if (row['Instance_Type'] == 'm6g.metal') :\r\n",
        "      return 70 \r\n",
        "\r\n",
        "    if (row['Instance_Type'] == 'm6gd.medium') :\r\n",
        "      return 15     \r\n",
        "    if (row['Instance_Type'] == 'm6gd.large') :\r\n",
        "      return 22\r\n",
        "    if (row['Instance_Type'] == 'm6gd.xlarge') :\r\n",
        "      return 33   \r\n",
        "    if (row['Instance_Type'] == 'm6gd.2xlarge') :\r\n",
        "      return 49\r\n",
        "    if (row['Instance_Type'] == 'm6gd.4xlarge') :\r\n",
        "      return 55\r\n",
        "    if (row['Instance_Type'] == 'm6gd.8xlarge') :\r\n",
        "      return 62\r\n",
        "    if (row['Instance_Type'] == 'm6gd.12xlarge') :\r\n",
        "      return 67     \r\n",
        "    if (row['Instance_Type'] == 'm6gd.16xlarge') :\r\n",
        "      return 73   \r\n",
        "    if (row['Instance_Type'] == 'm6gd.metal') :\r\n",
        "      return 74\r\n",
        "\r\n",
        "    if (row['Instance_Type'] == 'm5.large') :\r\n",
        "      return 21\r\n",
        "    if (row['Instance_Type'] == 'm5.xlarge') :\r\n",
        "      return 28\r\n",
        "    if (row['Instance_Type'] == 'm5.2xlarge') :\r\n",
        "      return 47\r\n",
        "    if (row['Instance_Type'] == 'm5.4xlarge') :\r\n",
        "      return 54\r\n",
        "    if (row['Instance_Type'] == 'm5.8xlarge') :\r\n",
        "      return 64\r\n",
        "    if (row['Instance_Type'] == 'm5.12xlarge') :\r\n",
        "      return 68      \r\n",
        "    if (row['Instance_Type'] == 'm5.16xlarge') :\r\n",
        "      return 76  \r\n",
        "    if (row['Instance_Type'] == 'm5.24xlarge') :\r\n",
        "      return 80   \r\n",
        "    if (row['Instance_Type'] == 'm5.metal') :\r\n",
        "      return 81   \r\n",
        "\r\n",
        "    if (row['Instance_Type'] == 'm5d.large') :\r\n",
        "      return 25\r\n",
        "    if (row['Instance_Type'] == 'm5d.xlarge') :\r\n",
        "      return 38    \r\n",
        "    if (row['Instance_Type'] == 'm5d.2xlarge') :\r\n",
        "      return 48\r\n",
        "    if (row['Instance_Type'] == 'm5d.4xlarge') :\r\n",
        "      return 56\r\n",
        "    if (row['Instance_Type'] == 'm5d.8xlarge') :\r\n",
        "      return 64\r\n",
        "    if (row['Instance_Type'] == 'm5d.12xlarge') :\r\n",
        "      return 72      \r\n",
        "    if (row['Instance_Type'] == 'm5d.16xlarge') :\r\n",
        "      return 78 \r\n",
        "    if (row['Instance_Type'] == 'm5d.24xlarge') :\r\n",
        "      return 83    \r\n",
        "    if (row['Instance_Type'] == 'm5d.metal') :\r\n",
        "      return 84 \r\n",
        "\r\n",
        "    if (row['Instance_Type'] == 'm5a.large') :\r\n",
        "      return 22\r\n",
        "    if (row['Instance_Type'] == 'm5a.xlarge') :\r\n",
        "      return 34  \r\n",
        "    if (row['Instance_Type'] == 'm5a.2xlarge') :\r\n",
        "      return 52\r\n",
        "    if (row['Instance_Type'] == 'm5a.4xlarge') :\r\n",
        "      return 53\r\n",
        "    if (row['Instance_Type'] == 'm5a.8xlarge') :\r\n",
        "      return 61\r\n",
        "\r\n",
        "    if (row['Instance_Type'] == 'm5ad.large') :\r\n",
        "      return 26\r\n",
        "    if (row['Instance_Type'] == 'm5ad.xlarge') :\r\n",
        "      return 39    \r\n",
        "    if (row['Instance_Type'] == 'm5ad.2xlarge') :\r\n",
        "      return 47\r\n",
        "    if (row['Instance_Type'] == 'm5ad.4xlarge') :\r\n",
        "      return 58\r\n",
        "    if (row['Instance_Type'] == 'm5ad.12xlarge') :\r\n",
        "      return 71     \r\n",
        "    if (row['Instance_Type'] == 'm5ad.24xlarge') :\r\n",
        "      return 82   \r\n",
        "\r\n",
        "    if (row['Instance_Type'] == 'm5n.large') :\r\n",
        "      return 27\r\n",
        "    if (row['Instance_Type'] == 'm5n.xlarge') :\r\n",
        "      return 41   \r\n",
        "    if (row['Instance_Type'] == 'm5n.2xlarge') :\r\n",
        "      return 51\r\n",
        "    if (row['Instance_Type'] == 'm5n.4xlarge') :\r\n",
        "      return 59\r\n",
        "    if (row['Instance_Type'] == 'm5n.8xlarge') :\r\n",
        "      return 65\r\n",
        "    if (row['Instance_Type'] == 'm5n.12xlarge') :\r\n",
        "      return 75      \r\n",
        "    if (row['Instance_Type'] == 'm5n.16xlarge') :\r\n",
        "      return 79\r\n",
        "    if (row['Instance_Type'] == 'm5n.24xlarge') :\r\n",
        "      return 85\r\n",
        "\r\n",
        "    if (row['Instance_Type'] == 'm4.large') :\r\n",
        "      return 23\r\n",
        "    if (row['Instance_Type'] == 'm4.xlarge') :\r\n",
        "      return 35  \r\n",
        "    if (row['Instance_Type'] == 'm4.2xlarge') :\r\n",
        "      return 45\r\n",
        "    if (row['Instance_Type'] == 'm4.4xlarge') :\r\n",
        "      return 55\r\n",
        "    if (row['Instance_Type'] == 'm4.10xlarge') :\r\n",
        "      return 66   \r\n",
        "    if (row['Instance_Type'] == 'm4.16xlarge') :\r\n",
        "      return 77 \r\n",
        "    else :\r\n",
        "      return 43\r\n",
        "\r\n",
        "os_types = {\r\n",
        "                 'Windows':2,\r\n",
        "                 'Linux':1,\r\n",
        "                 'SUSE':3,\r\n",
        "                 'RHEL':4\r\n",
        "                 }  \r\n",
        "                       \r\n",
        "\r\n",
        "location_type = {\r\n",
        "      'Asia Pacific (Mumbai)':1,    \r\n",
        "      'US East (Ohio)':2,     \r\n",
        "      'US East (N. Virginia)':3, \r\n",
        "      'US West (Oregon)':4,\r\n",
        "      'EU (Ireland)':5,\r\n",
        "      'EU (Frankfurt)':6,\r\n",
        "      'Canada (Central)':7,\r\n",
        "      'EU (London)':9,\r\n",
        "      'EU (Paris)':8,\r\n",
        "      'EU (Stockholm)':10,\r\n",
        "      'Asia Pacific (Tokyo)':11,   \r\n",
        "      'AWS GovCloud (US-East)':12,\r\n",
        "      'AWS GovCloud (US)':13,\r\n",
        "      'US West (N. California)':14,\r\n",
        "      'Asia Pacific (Seoul)':15,  \r\n",
        "      'Asia Pacific (Singapore)':16,\r\n",
        "      'Asia Pacific (Sydney)':17,\r\n",
        "      'EU (Milan)':18,\r\n",
        "      'Middle East (Bahrain)':20,\r\n",
        "      'Asia Pacific (Cape Town)':19,\r\n",
        "      'Asia Pacific (Osaka-Local)':21,\r\n",
        "      'Asia Pacific (Hong Kong)':22,\r\n",
        "      'South America (Sao Paulo)':23          \r\n",
        "}     \r\n",
        "  \r\n",
        "purchase_type = {\r\n",
        "    'NoUpfront':3,            \r\n",
        "    'PartialUpfront':2,        \r\n",
        "    'AllUpfront':1            \r\n",
        "}\r\n",
        "\r\n",
        "offeringClass = {\r\n",
        "    'standard':1,\r\n",
        "    'convertible':2\r\n",
        "}\r\n",
        "\r\n",
        "leaseContractLength = {\r\n",
        "    1:1,\r\n",
        "    3:2\r\n",
        "}\r\n",
        "\r\n",
        "clockSpeed = {\r\n",
        "    'Up to 3.3 GHz':1,\r\n",
        "    'Up to 3.0 GHz':2,      \r\n",
        "    '2.3 GHz':3,  \r\n",
        "    '2.4 GHz': 4,               \r\n",
        "    '2.5 GHz':5         \r\n",
        "}\r\n",
        "\r\n",
        "year = {\r\n",
        "    2016:1,\r\n",
        "    2017:2,      \r\n",
        "    2018:3,  \r\n",
        "    2019:4,               \r\n",
        "    2020:5         \r\n",
        "}\r\n",
        "\r\n",
        "\r\n",
        "def setOS (row):\r\n",
        "       if (row['Operating_System'] == None) :\r\n",
        "          return 'Windows'\r\n",
        "       else :\r\n",
        "          return row['Operating_System']       \r\n",
        "\r\n",
        "def setLocation (row):\r\n",
        "       if (row['Location'] == None) :\r\n",
        "          return 'US West (Oregon)'\r\n",
        "       else :\r\n",
        "          return row['Location']                        \r\n",
        "\r\n",
        "\r\n",
        "def setPurchaseOption (row):\r\n",
        "       if (row['PurchaseOption'] == None) :\r\n",
        "          return 'AllUpfront'\r\n",
        "       if (row['PurchaseOption'] == 'No Upfront') :\r\n",
        "          return 'NoUpfront'\r\n",
        "       if (row['PurchaseOption'] == 'Partial Upfront') :\r\n",
        "          return 'PartialUpfront'\r\n",
        "       if (row['PurchaseOption'] == 'All Upfront') :\r\n",
        "          return 'AllUpfront'      \r\n",
        "       else :\r\n",
        "          return row['PurchaseOption']  \r\n",
        "\r\n",
        "def setOfferingClass (row):\r\n",
        "       if (row['OfferingClass'] == None) :\r\n",
        "          return 'standard'\r\n",
        "       else :\r\n",
        "          return row['OfferingClass']       \r\n",
        "\r\n",
        "def setLeaseContractLength (row):\r\n",
        "       if (row['LeaseContractLength'] == None) :\r\n",
        "          return 3\r\n",
        "       else :\r\n",
        "          return row['LeaseContractLength']    \r\n",
        "\r\n",
        "\r\n",
        "df1['Operating_System'] = df1.apply (lambda row: setOS(row), axis=1)\r\n",
        "df1['Operating_System'] = df1.Operating_System.map (os_types)\r\n",
        "\r\n",
        "df1['Location'] = df1.apply (lambda row: setLocation(row), axis=1)\r\n",
        "df1['Location'] = df1.Location.map (location_type)\r\n",
        "df1['Location'] = df1['Location'].fillna(4).astype(np.int64)\r\n",
        "\r\n",
        "df1['Instance_Type'] = df1.apply (lambda row: setInstanceType(row), axis=1)\r\n",
        "\r\n",
        "df1['PurchaseOption'] = df1.apply (lambda row: setPurchaseOption(row), axis=1)\r\n",
        "df1['PurchaseOption'] = df1.PurchaseOption.map (purchase_type)\r\n",
        "\r\n",
        "df1['OfferingClass'] = df1.apply (lambda row: setOfferingClass(row), axis=1)\r\n",
        "df1['OfferingClass'] = df1.OfferingClass.map (offeringClass)\r\n",
        "\r\n",
        "df1['LeaseContractLength'] = df1.apply (lambda row: setLeaseContractLength(row), axis=1)\r\n",
        "df1['LeaseContractLength'] = df1.LeaseContractLength.map (leaseContractLength)\r\n",
        "\r\n",
        "# df1['Year'] = df1.Year.map (year)\r\n",
        "df1['Location'] = df1['Location'].fillna(4).astype(np.int64)\r\n",
        "\r\n",
        "df1.head(5) "
      ],
      "execution_count": null,
      "outputs": []
    },
    {
      "cell_type": "code",
      "metadata": {
        "id": "YeNqa-Kp7iUM"
      },
      "source": [
        "def setOSPrice(x):\r\n",
        "       if (x == 1) :\r\n",
        "          return 100\r\n",
        "       if (x == 2) :\r\n",
        "          return 114.64 \r\n",
        "       if (x == 3) :\r\n",
        "          return 193\r\n",
        "       if (x == 4) :\r\n",
        "          return 166.67        \r\n",
        "       else :\r\n",
        "          return 100 \r\n",
        "\r\n",
        "def setOfferingClassPrice(OfferingClass, price) :\r\n",
        "  if(OfferingClass == 2):\r\n",
        "    return price*114.77/100\r\n",
        "  else:\r\n",
        "    return price\r\n",
        "\r\n",
        "def setStoragePriceWithLocation(x):\r\n",
        "  if(x == 1 or x == 15):\r\n",
        "    return 114\r\n",
        "  if(x == 2):\r\n",
        "    return 100\r\n",
        "  if(x == 3 or x == 4):\r\n",
        "    return 80\r\n",
        "  if(x == 5):\r\n",
        "    return 88  \r\n",
        "  if(x == 6 or x == 17):\r\n",
        "    return 119\r\n",
        "  if(x == 7):\r\n",
        "    return 110\r\n",
        "  if(x == 8):\r\n",
        "    return 107\r\n",
        "  if(x == 9):\r\n",
        "    return 92.8\r\n",
        "  if(x == 10):\r\n",
        "    return 104.5\r\n",
        "  if(x == 11 or x == 14 or x == 16):\r\n",
        "    return 120 \r\n",
        "  if(x == 12 or x == 13 or x == 21):\r\n",
        "    return 96\r\n",
        "  if(x == 18):\r\n",
        "    return 92.4\r\n",
        "  if(x == 19):\r\n",
        "    return 126.4\r\n",
        "  if(x == 20):\r\n",
        "    return 130.9\r\n",
        "  if(x == 22):\r\n",
        "    return 132\r\n",
        "  if(x == 23):\r\n",
        "    return 152\r\n",
        "\r\n",
        "def setLocationPrice(x):\r\n",
        "  if(x == 1):\r\n",
        "    return 66.67\r\n",
        "  if(x == 2 or x == 3 or x == 4):\r\n",
        "    return 100\r\n",
        "  if(x == 5):\r\n",
        "    return 109.52\r\n",
        "  if(x == 6):\r\n",
        "    return 114.29  \r\n",
        "  if(x == 7 or x == 8):\r\n",
        "    return 124.26\r\n",
        "  if(x == 9):\r\n",
        "    return 126.41\r\n",
        "  if(x == 10 or x == 11):\r\n",
        "    return 128.57\r\n",
        "  if(x == 12 or x == 13):\r\n",
        "    return 130.73\r\n",
        "  if(x == 14):\r\n",
        "    return 132.89\r\n",
        "  if(x == 15):\r\n",
        "    return 139.29 \r\n",
        "  if(x == 16):\r\n",
        "    return 140.47\r\n",
        "  if(x == 17):\r\n",
        "    return 141.44\r\n",
        "  if(x == 18 or x == 19):\r\n",
        "    return 142.63\r\n",
        "  if(x == 20):\r\n",
        "    return 149.26\r\n",
        "  if(x == 21):\r\n",
        "    return 161.90\r\n",
        "  if(x == 22):\r\n",
        "    return 173.81\r\n",
        "  if(x == 23):\r\n",
        "    return 179.99\r\n",
        "  else:  \r\n",
        "    return 100  \r\n",
        "\r\n",
        "def getHourlyCostWithPurchaseType(purchase_type,leaseContractLength, onDemandPrice):\r\n",
        "  NumHours = 365*24*leaseContractLength   #365 days * 24 hours * 1 year = 8760.0000 hours\r\n",
        "  if(leaseContractLength == 1):\r\n",
        "    y = onDemandPrice*62.73/100\r\n",
        "  if(leaseContractLength == 2):\r\n",
        "    y = onDemandPrice*43.15/100\r\n",
        "  TotalCommitment = y * NumHours\r\n",
        "  x = 0\r\n",
        "  if(purchase_type == 2):\r\n",
        "   x = 0.5\r\n",
        "  if(purchase_type == 1):\r\n",
        "   x = 1 \r\n",
        "  UpfrontCost = x*TotalCommitment\r\n",
        "  HourlyCost = (TotalCommitment - UpfrontCost)/NumHours\r\n",
        "  return HourlyCost\r\n",
        "\r\n",
        "def getUpfrontCostWithPurchaseType(purchase_type,leaseContractLength, onDemandPrice):\r\n",
        "  NumHours = 365*24*leaseContractLength  \r\n",
        "  if(leaseContractLength == 1):\r\n",
        "    y = onDemandPrice*62.73/100\r\n",
        "  if(leaseContractLength == 2):\r\n",
        "    y = onDemandPrice*43.15/100\r\n",
        "  TotalCommitment = y * NumHours\r\n",
        "  x = 0\r\n",
        "  if(purchase_type == 2):\r\n",
        "   x = 0.5\r\n",
        "  if(purchase_type == 1):\r\n",
        "   x = 1 \r\n",
        "  UpfrontCost = x*TotalCommitment\r\n",
        "  return UpfrontCost\r\n",
        "\r\n",
        "def setPricingEC2(row):\r\n",
        "  # if (row['PricePerUnit'] <= 5 or row['PricePerUnit'] > 38000):\r\n",
        "    p = setOnDemandPrice(row)\r\n",
        "    p = getHourlyCostWithPurchaseType(row['PurchaseOption'], row['LeaseContractLength'], p)\r\n",
        "    p = setOfferingClassPrice(row['OfferingClass'], p)\r\n",
        "    p = p*setLocationPrice(row['Location'])/100\r\n",
        "    p = p*setOSPrice(row['Operating_System'])/100\r\n",
        "    return p*730 + 10*setStoragePriceWithLocation(row['Location'])/100\r\n",
        "  # else :\r\n",
        "  #   return row['PricePerUnit']\r\n",
        "\r\n",
        "def setPricingUpfrontEC2(row):\r\n",
        "    p = setOnDemandPrice(row)\r\n",
        "    p = getUpfrontCostWithPurchaseType(row['PurchaseOption'], row['LeaseContractLength'], p)\r\n",
        "    p = setOfferingClassPrice(row['OfferingClass'], p)\r\n",
        "    p = p*setLocationPrice(row['Location'])/100\r\n",
        "    p = p*setOSPrice(row['Operating_System'])/100\r\n",
        "    return p\r\n",
        "\r\n",
        "df1['PricePerUnit'] = df1.apply (lambda row: setPricingEC2(row), axis=1) \r\n",
        "df1['UpfrontCost'] = df1.apply (lambda row: setPricingUpfrontEC2(row), axis=1) \r\n",
        "\r\n",
        "df1['PricePerUnit'] = df1['PricePerUnit'].apply(lambda x: round(x, 2))\r\n",
        "df1['UpfrontCost'] = df1['UpfrontCost'].apply(lambda x: round(x, 2))\r\n",
        "\r\n",
        "df1.head(5) "
      ],
      "execution_count": null,
      "outputs": []
    },
    {
      "cell_type": "code",
      "metadata": {
        "id": "LXrC9wm57n6_"
      },
      "source": [
        "df2 = df1.copy()\r\n",
        "df2['PricePerUnit'] = df2['PricePerUnit']/100\r\n",
        "df2['UpfrontCost'] = df2['UpfrontCost']/1000\r\n",
        "df2"
      ],
      "execution_count": null,
      "outputs": []
    },
    {
      "cell_type": "code",
      "metadata": {
        "id": "ZNGVTRjk-PKo"
      },
      "source": [
        "df3 = df2.loc[df2['Instance_Type'] == 43].head(15000)\r\n",
        "df4 = df2.loc[df2['Instance_Type'] != 43].head(200000)\r\n",
        "df5 = df3.append([df4])\r\n",
        "X = df5.drop(columns=['PricePerUnit', 'UpfrontCost'])\r\n",
        "y = df5[['PricePerUnit']]\r\n",
        "X"
      ],
      "execution_count": null,
      "outputs": []
    },
    {
      "cell_type": "code",
      "metadata": {
        "id": "vPEU1cdN-w7z"
      },
      "source": [
        "regr = linear_model.LinearRegression()\r\n",
        "regr.fit(X, y)"
      ],
      "execution_count": null,
      "outputs": []
    },
    {
      "cell_type": "code",
      "metadata": {
        "id": "5gmrV5N3_hwT"
      },
      "source": [
        "general_purpose_price_model = regr"
      ],
      "execution_count": null,
      "outputs": []
    },
    {
      "cell_type": "markdown",
      "metadata": {
        "id": "kP_SOfFnASs7"
      },
      "source": [
        "# Compute Optimized price model"
      ]
    },
    {
      "cell_type": "code",
      "metadata": {
        "id": "mO3TboX2AZcY"
      },
      "source": [
        "compute_optimized_price_model = regr"
      ],
      "execution_count": null,
      "outputs": []
    },
    {
      "cell_type": "markdown",
      "metadata": {
        "id": "QsjKYiemAqRs"
      },
      "source": [
        "# Memory Optimized price model"
      ]
    },
    {
      "cell_type": "code",
      "metadata": {
        "id": "BFnylRbLAv-S"
      },
      "source": [
        "memory_optimized_price_model = regr"
      ],
      "execution_count": null,
      "outputs": []
    },
    {
      "cell_type": "markdown",
      "metadata": {
        "id": "FkPp3PzXBCW-"
      },
      "source": [
        "# Accelerated Computing price model"
      ]
    },
    {
      "cell_type": "code",
      "metadata": {
        "id": "hw1e_T3fBGn5"
      },
      "source": [
        "acelerated_computing_price_model = regr"
      ],
      "execution_count": null,
      "outputs": []
    },
    {
      "cell_type": "markdown",
      "metadata": {
        "id": "l-teJYiVBMiF"
      },
      "source": [
        "# Storage Optimized price model"
      ]
    },
    {
      "cell_type": "code",
      "metadata": {
        "id": "utpU5zi2BRA7"
      },
      "source": [
        "storage_optimized_price_model = regr"
      ],
      "execution_count": null,
      "outputs": []
    },
    {
      "cell_type": "code",
      "metadata": {
        "id": "0suIQDBg-594"
      },
      "source": [
        "# prediction with sklearn\r\n",
        "New_Instance_Type = instance_Type\r\n",
        "New_Operating_System = 1\r\n",
        "New_Location = 2\r\n",
        "New_OfferingClass = 2\r\n",
        "New_LeaseContractLength = 2\r\n",
        "New_PurchaseOption = 2\r\n",
        "\r\n",
        "print ('Predicted Stock Index Price: \\n', general_purpose_price_model.predict([[New_Instance_Type ,New_Operating_System, New_Location, New_LeaseContractLength, New_PurchaseOption, New_OfferingClass]]))\r\n",
        "\r\n",
        "# with statsmodels\r\n",
        "X = sm.add_constant(X) # adding a constant\r\n",
        " \r\n",
        "model = sm.OLS(y, X).fit()\r\n",
        "predictions = model.predict(X) \r\n",
        " \r\n",
        "print_model = model.summary()\r\n",
        "print(print_model)"
      ],
      "execution_count": null,
      "outputs": []
    }
  ]
}