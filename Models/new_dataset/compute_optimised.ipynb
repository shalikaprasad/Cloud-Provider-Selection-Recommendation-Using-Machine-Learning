{
 "metadata": {
  "language_info": {
   "codemirror_mode": {
    "name": "ipython",
    "version": 3
   },
   "file_extension": ".py",
   "mimetype": "text/x-python",
   "name": "python",
   "nbconvert_exporter": "python",
   "pygments_lexer": "ipython3",
   "version": "3.7.9-final"
  },
  "orig_nbformat": 2,
  "kernelspec": {
   "name": "python3",
   "display_name": "Python 3.7.9 64-bit",
   "metadata": {
    "interpreter": {
     "hash": "9d427aa02e4e4273d4ac56e9db611daebdc69842d8a8314bd547d3eebd681783"
    }
   }
  }
 },
 "nbformat": 4,
 "nbformat_minor": 2,
 "cells": [
  {
   "cell_type": "code",
   "execution_count": 220,
   "metadata": {},
   "outputs": [],
   "source": [
    "import pandas as pd\n",
    "import matplotlib.pyplot as plt\n",
    "import matplotlib.dates as md\n",
    "import numpy as np\n",
    "import seaborn as sns\n",
    "from sklearn.model_selection import train_test_split\n",
    "from sklearn.datasets import load_boston\n",
    "from sklearn.metrics import mean_squared_error\n",
    "from sklearn.linear_model import LinearRegression\n",
    "from sklearn import svm, datasets"
   ]
  },
  {
   "cell_type": "code",
   "execution_count": 221,
   "metadata": {},
   "outputs": [
    {
     "output_type": "error",
     "ename": "MemoryError",
     "evalue": "Unable to allocate 64.0 KiB for an array with shape (8192,) and data type int64",
     "traceback": [
      "\u001b[1;31m---------------------------------------------------------------------------\u001b[0m",
      "\u001b[1;31mMemoryError\u001b[0m                               Traceback (most recent call last)",
      "\u001b[1;32m<ipython-input-221-05fd6bb05790>\u001b[0m in \u001b[0;36m<module>\u001b[1;34m\u001b[0m\n\u001b[1;32m----> 1\u001b[1;33m \u001b[0mdf\u001b[0m \u001b[1;33m=\u001b[0m \u001b[0mpd\u001b[0m\u001b[1;33m.\u001b[0m\u001b[0mread_csv\u001b[0m\u001b[1;33m(\u001b[0m\u001b[1;34m'F:\\\\Campus\\\\Research\\\\datasets\\\\aws\\\\aws.csv'\u001b[0m\u001b[1;33m)\u001b[0m\u001b[1;33m\u001b[0m\u001b[1;33m\u001b[0m\u001b[0m\n\u001b[0m\u001b[0;32m      2\u001b[0m \u001b[0mdf\u001b[0m\u001b[1;33m.\u001b[0m\u001b[0mhead\u001b[0m\u001b[1;33m(\u001b[0m\u001b[1;33m)\u001b[0m\u001b[1;33m\u001b[0m\u001b[1;33m\u001b[0m\u001b[0m\n",
      "\u001b[1;32m~\\AppData\\Local\\Programs\\Python\\Python37\\lib\\site-packages\\pandas\\io\\parsers.py\u001b[0m in \u001b[0;36mread_csv\u001b[1;34m(filepath_or_buffer, sep, delimiter, header, names, index_col, usecols, squeeze, prefix, mangle_dupe_cols, dtype, engine, converters, true_values, false_values, skipinitialspace, skiprows, skipfooter, nrows, na_values, keep_default_na, na_filter, verbose, skip_blank_lines, parse_dates, infer_datetime_format, keep_date_col, date_parser, dayfirst, cache_dates, iterator, chunksize, compression, thousands, decimal, lineterminator, quotechar, quoting, doublequote, escapechar, comment, encoding, dialect, error_bad_lines, warn_bad_lines, delim_whitespace, low_memory, memory_map, float_precision, storage_options)\u001b[0m\n\u001b[0;32m    608\u001b[0m     \u001b[0mkwds\u001b[0m\u001b[1;33m.\u001b[0m\u001b[0mupdate\u001b[0m\u001b[1;33m(\u001b[0m\u001b[0mkwds_defaults\u001b[0m\u001b[1;33m)\u001b[0m\u001b[1;33m\u001b[0m\u001b[1;33m\u001b[0m\u001b[0m\n\u001b[0;32m    609\u001b[0m \u001b[1;33m\u001b[0m\u001b[0m\n\u001b[1;32m--> 610\u001b[1;33m     \u001b[1;32mreturn\u001b[0m \u001b[0m_read\u001b[0m\u001b[1;33m(\u001b[0m\u001b[0mfilepath_or_buffer\u001b[0m\u001b[1;33m,\u001b[0m \u001b[0mkwds\u001b[0m\u001b[1;33m)\u001b[0m\u001b[1;33m\u001b[0m\u001b[1;33m\u001b[0m\u001b[0m\n\u001b[0m\u001b[0;32m    611\u001b[0m \u001b[1;33m\u001b[0m\u001b[0m\n\u001b[0;32m    612\u001b[0m \u001b[1;33m\u001b[0m\u001b[0m\n",
      "\u001b[1;32m~\\AppData\\Local\\Programs\\Python\\Python37\\lib\\site-packages\\pandas\\io\\parsers.py\u001b[0m in \u001b[0;36m_read\u001b[1;34m(filepath_or_buffer, kwds)\u001b[0m\n\u001b[0;32m    466\u001b[0m \u001b[1;33m\u001b[0m\u001b[0m\n\u001b[0;32m    467\u001b[0m     \u001b[1;32mwith\u001b[0m \u001b[0mparser\u001b[0m\u001b[1;33m:\u001b[0m\u001b[1;33m\u001b[0m\u001b[1;33m\u001b[0m\u001b[0m\n\u001b[1;32m--> 468\u001b[1;33m         \u001b[1;32mreturn\u001b[0m \u001b[0mparser\u001b[0m\u001b[1;33m.\u001b[0m\u001b[0mread\u001b[0m\u001b[1;33m(\u001b[0m\u001b[0mnrows\u001b[0m\u001b[1;33m)\u001b[0m\u001b[1;33m\u001b[0m\u001b[1;33m\u001b[0m\u001b[0m\n\u001b[0m\u001b[0;32m    469\u001b[0m \u001b[1;33m\u001b[0m\u001b[0m\n\u001b[0;32m    470\u001b[0m \u001b[1;33m\u001b[0m\u001b[0m\n",
      "\u001b[1;32m~\\AppData\\Local\\Programs\\Python\\Python37\\lib\\site-packages\\pandas\\io\\parsers.py\u001b[0m in \u001b[0;36mread\u001b[1;34m(self, nrows)\u001b[0m\n\u001b[0;32m   1055\u001b[0m     \u001b[1;32mdef\u001b[0m \u001b[0mread\u001b[0m\u001b[1;33m(\u001b[0m\u001b[0mself\u001b[0m\u001b[1;33m,\u001b[0m \u001b[0mnrows\u001b[0m\u001b[1;33m=\u001b[0m\u001b[1;32mNone\u001b[0m\u001b[1;33m)\u001b[0m\u001b[1;33m:\u001b[0m\u001b[1;33m\u001b[0m\u001b[1;33m\u001b[0m\u001b[0m\n\u001b[0;32m   1056\u001b[0m         \u001b[0mnrows\u001b[0m \u001b[1;33m=\u001b[0m \u001b[0mvalidate_integer\u001b[0m\u001b[1;33m(\u001b[0m\u001b[1;34m\"nrows\"\u001b[0m\u001b[1;33m,\u001b[0m \u001b[0mnrows\u001b[0m\u001b[1;33m)\u001b[0m\u001b[1;33m\u001b[0m\u001b[1;33m\u001b[0m\u001b[0m\n\u001b[1;32m-> 1057\u001b[1;33m         \u001b[0mindex\u001b[0m\u001b[1;33m,\u001b[0m \u001b[0mcolumns\u001b[0m\u001b[1;33m,\u001b[0m \u001b[0mcol_dict\u001b[0m \u001b[1;33m=\u001b[0m \u001b[0mself\u001b[0m\u001b[1;33m.\u001b[0m\u001b[0m_engine\u001b[0m\u001b[1;33m.\u001b[0m\u001b[0mread\u001b[0m\u001b[1;33m(\u001b[0m\u001b[0mnrows\u001b[0m\u001b[1;33m)\u001b[0m\u001b[1;33m\u001b[0m\u001b[1;33m\u001b[0m\u001b[0m\n\u001b[0m\u001b[0;32m   1058\u001b[0m \u001b[1;33m\u001b[0m\u001b[0m\n\u001b[0;32m   1059\u001b[0m         \u001b[1;32mif\u001b[0m \u001b[0mindex\u001b[0m \u001b[1;32mis\u001b[0m \u001b[1;32mNone\u001b[0m\u001b[1;33m:\u001b[0m\u001b[1;33m\u001b[0m\u001b[1;33m\u001b[0m\u001b[0m\n",
      "\u001b[1;32m~\\AppData\\Local\\Programs\\Python\\Python37\\lib\\site-packages\\pandas\\io\\parsers.py\u001b[0m in \u001b[0;36mread\u001b[1;34m(self, nrows)\u001b[0m\n\u001b[0;32m   2059\u001b[0m     \u001b[1;32mdef\u001b[0m \u001b[0mread\u001b[0m\u001b[1;33m(\u001b[0m\u001b[0mself\u001b[0m\u001b[1;33m,\u001b[0m \u001b[0mnrows\u001b[0m\u001b[1;33m=\u001b[0m\u001b[1;32mNone\u001b[0m\u001b[1;33m)\u001b[0m\u001b[1;33m:\u001b[0m\u001b[1;33m\u001b[0m\u001b[1;33m\u001b[0m\u001b[0m\n\u001b[0;32m   2060\u001b[0m         \u001b[1;32mtry\u001b[0m\u001b[1;33m:\u001b[0m\u001b[1;33m\u001b[0m\u001b[1;33m\u001b[0m\u001b[0m\n\u001b[1;32m-> 2061\u001b[1;33m             \u001b[0mdata\u001b[0m \u001b[1;33m=\u001b[0m \u001b[0mself\u001b[0m\u001b[1;33m.\u001b[0m\u001b[0m_reader\u001b[0m\u001b[1;33m.\u001b[0m\u001b[0mread\u001b[0m\u001b[1;33m(\u001b[0m\u001b[0mnrows\u001b[0m\u001b[1;33m)\u001b[0m\u001b[1;33m\u001b[0m\u001b[1;33m\u001b[0m\u001b[0m\n\u001b[0m\u001b[0;32m   2062\u001b[0m         \u001b[1;32mexcept\u001b[0m \u001b[0mStopIteration\u001b[0m\u001b[1;33m:\u001b[0m\u001b[1;33m\u001b[0m\u001b[1;33m\u001b[0m\u001b[0m\n\u001b[0;32m   2063\u001b[0m             \u001b[1;32mif\u001b[0m \u001b[0mself\u001b[0m\u001b[1;33m.\u001b[0m\u001b[0m_first_chunk\u001b[0m\u001b[1;33m:\u001b[0m\u001b[1;33m\u001b[0m\u001b[1;33m\u001b[0m\u001b[0m\n",
      "\u001b[1;32mpandas\\_libs\\parsers.pyx\u001b[0m in \u001b[0;36mpandas._libs.parsers.TextReader.read\u001b[1;34m()\u001b[0m\n",
      "\u001b[1;32mpandas\\_libs\\parsers.pyx\u001b[0m in \u001b[0;36mpandas._libs.parsers.TextReader._read_low_memory\u001b[1;34m()\u001b[0m\n",
      "\u001b[1;32mpandas\\_libs\\parsers.pyx\u001b[0m in \u001b[0;36mpandas._libs.parsers.TextReader._read_rows\u001b[1;34m()\u001b[0m\n",
      "\u001b[1;32mpandas\\_libs\\parsers.pyx\u001b[0m in \u001b[0;36mpandas._libs.parsers.TextReader._convert_column_data\u001b[1;34m()\u001b[0m\n",
      "\u001b[1;32mpandas\\_libs\\parsers.pyx\u001b[0m in \u001b[0;36mpandas._libs.parsers.TextReader._convert_tokens\u001b[1;34m()\u001b[0m\n",
      "\u001b[1;32mpandas\\_libs\\parsers.pyx\u001b[0m in \u001b[0;36mpandas._libs.parsers.TextReader._convert_with_dtype\u001b[1;34m()\u001b[0m\n",
      "\u001b[1;32mpandas\\_libs\\parsers.pyx\u001b[0m in \u001b[0;36mpandas._libs.parsers._try_int64\u001b[1;34m()\u001b[0m\n",
      "\u001b[1;31mMemoryError\u001b[0m: Unable to allocate 64.0 KiB for an array with shape (8192,) and data type int64"
     ]
    }
   ],
   "source": [
    "df = pd.read_csv('F:\\\\Campus\\\\Research\\\\datasets\\\\aws\\\\aws.csv')\n",
    "df.head()"
   ]
  },
  {
   "cell_type": "code",
   "execution_count": 114,
   "metadata": {},
   "outputs": [
    {
     "output_type": "execute_result",
     "data": {
      "text/plain": [
       "Index(['SKU', 'OfferTermCode', 'RateCode', 'TermType', 'PriceDescription',\n",
       "       'EffectiveDate', 'StartingRange', 'EndingRange', 'Unit', 'PricePerUnit',\n",
       "       'Currency', 'RelatedTo', 'LeaseContractLength', 'PurchaseOption',\n",
       "       'OfferingClass', 'Product Family', 'serviceCode', 'Location',\n",
       "       'Location Type', 'Instance Type', 'Current Generation',\n",
       "       'Instance Family', 'vCPU', 'Physical Processor', 'Clock Speed',\n",
       "       'Memory', 'Storage', 'Network Performance', 'Processor Architecture',\n",
       "       'Storage Media', 'Volume Type', 'Max Volume Size', 'Max IOPS/volume',\n",
       "       'Max IOPS Burst Performance', 'Max throughput/volume', 'Provisioned',\n",
       "       'Tenancy', 'EBS Optimized', 'Operating System', 'License Model',\n",
       "       'Group', 'Group Description', 'Transfer Type', 'From Location',\n",
       "       'From Location Type', 'To Location', 'To Location Type', 'usageType',\n",
       "       'operation', 'CapacityStatus', 'Dedicated EBS Throughput', 'ECU',\n",
       "       'Elastic Graphics Type', 'Enhanced Networking Supported', 'GPU',\n",
       "       'GPU Memory', 'Instance', 'Instance Capacity - 10xlarge',\n",
       "       'Instance Capacity - 12xlarge', 'Instance Capacity - 16xlarge',\n",
       "       'Instance Capacity - 18xlarge', 'Instance Capacity - 24xlarge',\n",
       "       'Instance Capacity - 2xlarge', 'Instance Capacity - 32xlarge',\n",
       "       'Instance Capacity - 4xlarge', 'Instance Capacity - 8xlarge',\n",
       "       'Instance Capacity - 9xlarge', 'Instance Capacity - large',\n",
       "       'Instance Capacity - medium', 'Instance Capacity - metal',\n",
       "       'Instance Capacity - xlarge', 'instanceSKU', 'Intel AVX Available',\n",
       "       'Intel AVX2 Available', 'Intel Turbo Available',\n",
       "       'Normalization Size Factor', 'Physical Cores', 'Pre Installed S/W',\n",
       "       'Processor Features', 'Product Type', 'Resource Type', 'serviceName',\n",
       "       'Volume API Name'],\n",
       "      dtype='object')"
      ]
     },
     "metadata": {},
     "execution_count": 114
    }
   ],
   "source": [
    "df.columns "
   ]
  },
  {
   "cell_type": "code",
   "execution_count": 115,
   "metadata": {},
   "outputs": [
    {
     "output_type": "execute_result",
     "data": {
      "text/plain": [
       "  EffectiveDate      Unit  PricePerUnit Currency LeaseContractLength  \\\n",
       "0    2017-04-30       Hrs        0.1963      USD                 1yr   \n",
       "1    2020-09-01       Hrs        0.0167      USD                 3yr   \n",
       "2    2020-04-01       Hrs       22.0310      USD                 3yr   \n",
       "3    2017-04-30       Hrs        0.1950      USD                 3yr   \n",
       "4    2018-03-31  Quantity     6972.0000      USD                 3yr   \n",
       "\n",
       "    PurchaseOption OfferingClass                Location Location Type  \\\n",
       "0       No Upfront      standard          US East (Ohio)    AWS Region   \n",
       "1       No Upfront   convertible        US West (Oregon)    AWS Region   \n",
       "2  Partial Upfront      standard  AWS GovCloud (US-West)    AWS Region   \n",
       "3       No Upfront      standard    Asia Pacific (Tokyo)    AWS Region   \n",
       "4  Partial Upfront   convertible   US East (N. Virginia)    AWS Region   \n",
       "\n",
       "  Instance Type    Instance Family    Memory  vCPU Network Performance  \\\n",
       "0     m4.xlarge    General purpose    16 GiB   4.0                High   \n",
       "1    t4g.medium    General purpose     4 GiB   2.0     Up to 5 Gigabit   \n",
       "2    r5dn.metal   Memory optimized   768 GiB  96.0         100 Gigabit   \n",
       "3     i3.xlarge  Storage optimized  30.5 GiB   4.0    Up to 10 Gigabit   \n",
       "4      m4.large    General purpose     8 GiB   2.0            Moderate   \n",
       "\n",
       "  Clock Speed  \n",
       "0     2.4 GHz  \n",
       "1     2.5 GHz  \n",
       "2     3.1 GHz  \n",
       "3     2.3 GHz  \n",
       "4     2.4 GHz  "
      ],
      "text/html": "<div>\n<style scoped>\n    .dataframe tbody tr th:only-of-type {\n        vertical-align: middle;\n    }\n\n    .dataframe tbody tr th {\n        vertical-align: top;\n    }\n\n    .dataframe thead th {\n        text-align: right;\n    }\n</style>\n<table border=\"1\" class=\"dataframe\">\n  <thead>\n    <tr style=\"text-align: right;\">\n      <th></th>\n      <th>EffectiveDate</th>\n      <th>Unit</th>\n      <th>PricePerUnit</th>\n      <th>Currency</th>\n      <th>LeaseContractLength</th>\n      <th>PurchaseOption</th>\n      <th>OfferingClass</th>\n      <th>Location</th>\n      <th>Location Type</th>\n      <th>Instance Type</th>\n      <th>Instance Family</th>\n      <th>Memory</th>\n      <th>vCPU</th>\n      <th>Network Performance</th>\n      <th>Clock Speed</th>\n    </tr>\n  </thead>\n  <tbody>\n    <tr>\n      <th>0</th>\n      <td>2017-04-30</td>\n      <td>Hrs</td>\n      <td>0.1963</td>\n      <td>USD</td>\n      <td>1yr</td>\n      <td>No Upfront</td>\n      <td>standard</td>\n      <td>US East (Ohio)</td>\n      <td>AWS Region</td>\n      <td>m4.xlarge</td>\n      <td>General purpose</td>\n      <td>16 GiB</td>\n      <td>4.0</td>\n      <td>High</td>\n      <td>2.4 GHz</td>\n    </tr>\n    <tr>\n      <th>1</th>\n      <td>2020-09-01</td>\n      <td>Hrs</td>\n      <td>0.0167</td>\n      <td>USD</td>\n      <td>3yr</td>\n      <td>No Upfront</td>\n      <td>convertible</td>\n      <td>US West (Oregon)</td>\n      <td>AWS Region</td>\n      <td>t4g.medium</td>\n      <td>General purpose</td>\n      <td>4 GiB</td>\n      <td>2.0</td>\n      <td>Up to 5 Gigabit</td>\n      <td>2.5 GHz</td>\n    </tr>\n    <tr>\n      <th>2</th>\n      <td>2020-04-01</td>\n      <td>Hrs</td>\n      <td>22.0310</td>\n      <td>USD</td>\n      <td>3yr</td>\n      <td>Partial Upfront</td>\n      <td>standard</td>\n      <td>AWS GovCloud (US-West)</td>\n      <td>AWS Region</td>\n      <td>r5dn.metal</td>\n      <td>Memory optimized</td>\n      <td>768 GiB</td>\n      <td>96.0</td>\n      <td>100 Gigabit</td>\n      <td>3.1 GHz</td>\n    </tr>\n    <tr>\n      <th>3</th>\n      <td>2017-04-30</td>\n      <td>Hrs</td>\n      <td>0.1950</td>\n      <td>USD</td>\n      <td>3yr</td>\n      <td>No Upfront</td>\n      <td>standard</td>\n      <td>Asia Pacific (Tokyo)</td>\n      <td>AWS Region</td>\n      <td>i3.xlarge</td>\n      <td>Storage optimized</td>\n      <td>30.5 GiB</td>\n      <td>4.0</td>\n      <td>Up to 10 Gigabit</td>\n      <td>2.3 GHz</td>\n    </tr>\n    <tr>\n      <th>4</th>\n      <td>2018-03-31</td>\n      <td>Quantity</td>\n      <td>6972.0000</td>\n      <td>USD</td>\n      <td>3yr</td>\n      <td>Partial Upfront</td>\n      <td>convertible</td>\n      <td>US East (N. Virginia)</td>\n      <td>AWS Region</td>\n      <td>m4.large</td>\n      <td>General purpose</td>\n      <td>8 GiB</td>\n      <td>2.0</td>\n      <td>Moderate</td>\n      <td>2.4 GHz</td>\n    </tr>\n  </tbody>\n</table>\n</div>"
     },
     "metadata": {},
     "execution_count": 115
    }
   ],
   "source": [
    "ncolumns = ['EffectiveDate','Unit', 'PricePerUnit', 'Currency', 'LeaseContractLength', 'PurchaseOption', 'OfferingClass', 'Location', 'Location Type', 'Instance Type','Instance Family', 'Memory', 'vCPU', 'Network Performance', 'Clock Speed']\n",
    "# df = df.reindex(columns=ncolumns)\n",
    "df = df[ncolumns]\n",
    "\n",
    "df_init = df.copy()\n",
    "df_init.head()"
   ]
  },
  {
   "cell_type": "code",
   "execution_count": 116,
   "metadata": {},
   "outputs": [
    {
     "output_type": "execute_result",
     "data": {
      "text/plain": [
       "  EffectiveDate      Unit  PricePerUnit Currency LeaseContractLength  \\\n",
       "0    2017-04-30       Hrs        0.1963      USD                 1yr   \n",
       "1    2020-09-01       Hrs        0.0167      USD                 3yr   \n",
       "2    2020-04-01       Hrs       22.0310      USD                 3yr   \n",
       "3    2017-04-30       Hrs        0.1950      USD                 3yr   \n",
       "4    2018-03-31  Quantity     6972.0000      USD                 3yr   \n",
       "\n",
       "    PurchaseOption OfferingClass                Location Location_Type  \\\n",
       "0       No Upfront      standard          US East (Ohio)    AWS Region   \n",
       "1       No Upfront   convertible        US West (Oregon)    AWS Region   \n",
       "2  Partial Upfront      standard  AWS GovCloud (US-West)    AWS Region   \n",
       "3       No Upfront      standard    Asia Pacific (Tokyo)    AWS Region   \n",
       "4  Partial Upfront   convertible   US East (N. Virginia)    AWS Region   \n",
       "\n",
       "  Instance_Type    Instance_Family    Memory  vCPU Network_Performance  \\\n",
       "0     m4.xlarge    General purpose    16 GiB   4.0                High   \n",
       "1    t4g.medium    General purpose     4 GiB   2.0     Up to 5 Gigabit   \n",
       "2    r5dn.metal   Memory optimized   768 GiB  96.0         100 Gigabit   \n",
       "3     i3.xlarge  Storage optimized  30.5 GiB   4.0    Up to 10 Gigabit   \n",
       "4      m4.large    General purpose     8 GiB   2.0            Moderate   \n",
       "\n",
       "  Clock_Speed  \n",
       "0     2.4 GHz  \n",
       "1     2.5 GHz  \n",
       "2     3.1 GHz  \n",
       "3     2.3 GHz  \n",
       "4     2.4 GHz  "
      ],
      "text/html": "<div>\n<style scoped>\n    .dataframe tbody tr th:only-of-type {\n        vertical-align: middle;\n    }\n\n    .dataframe tbody tr th {\n        vertical-align: top;\n    }\n\n    .dataframe thead th {\n        text-align: right;\n    }\n</style>\n<table border=\"1\" class=\"dataframe\">\n  <thead>\n    <tr style=\"text-align: right;\">\n      <th></th>\n      <th>EffectiveDate</th>\n      <th>Unit</th>\n      <th>PricePerUnit</th>\n      <th>Currency</th>\n      <th>LeaseContractLength</th>\n      <th>PurchaseOption</th>\n      <th>OfferingClass</th>\n      <th>Location</th>\n      <th>Location_Type</th>\n      <th>Instance_Type</th>\n      <th>Instance_Family</th>\n      <th>Memory</th>\n      <th>vCPU</th>\n      <th>Network_Performance</th>\n      <th>Clock_Speed</th>\n    </tr>\n  </thead>\n  <tbody>\n    <tr>\n      <th>0</th>\n      <td>2017-04-30</td>\n      <td>Hrs</td>\n      <td>0.1963</td>\n      <td>USD</td>\n      <td>1yr</td>\n      <td>No Upfront</td>\n      <td>standard</td>\n      <td>US East (Ohio)</td>\n      <td>AWS Region</td>\n      <td>m4.xlarge</td>\n      <td>General purpose</td>\n      <td>16 GiB</td>\n      <td>4.0</td>\n      <td>High</td>\n      <td>2.4 GHz</td>\n    </tr>\n    <tr>\n      <th>1</th>\n      <td>2020-09-01</td>\n      <td>Hrs</td>\n      <td>0.0167</td>\n      <td>USD</td>\n      <td>3yr</td>\n      <td>No Upfront</td>\n      <td>convertible</td>\n      <td>US West (Oregon)</td>\n      <td>AWS Region</td>\n      <td>t4g.medium</td>\n      <td>General purpose</td>\n      <td>4 GiB</td>\n      <td>2.0</td>\n      <td>Up to 5 Gigabit</td>\n      <td>2.5 GHz</td>\n    </tr>\n    <tr>\n      <th>2</th>\n      <td>2020-04-01</td>\n      <td>Hrs</td>\n      <td>22.0310</td>\n      <td>USD</td>\n      <td>3yr</td>\n      <td>Partial Upfront</td>\n      <td>standard</td>\n      <td>AWS GovCloud (US-West)</td>\n      <td>AWS Region</td>\n      <td>r5dn.metal</td>\n      <td>Memory optimized</td>\n      <td>768 GiB</td>\n      <td>96.0</td>\n      <td>100 Gigabit</td>\n      <td>3.1 GHz</td>\n    </tr>\n    <tr>\n      <th>3</th>\n      <td>2017-04-30</td>\n      <td>Hrs</td>\n      <td>0.1950</td>\n      <td>USD</td>\n      <td>3yr</td>\n      <td>No Upfront</td>\n      <td>standard</td>\n      <td>Asia Pacific (Tokyo)</td>\n      <td>AWS Region</td>\n      <td>i3.xlarge</td>\n      <td>Storage optimized</td>\n      <td>30.5 GiB</td>\n      <td>4.0</td>\n      <td>Up to 10 Gigabit</td>\n      <td>2.3 GHz</td>\n    </tr>\n    <tr>\n      <th>4</th>\n      <td>2018-03-31</td>\n      <td>Quantity</td>\n      <td>6972.0000</td>\n      <td>USD</td>\n      <td>3yr</td>\n      <td>Partial Upfront</td>\n      <td>convertible</td>\n      <td>US East (N. Virginia)</td>\n      <td>AWS Region</td>\n      <td>m4.large</td>\n      <td>General purpose</td>\n      <td>8 GiB</td>\n      <td>2.0</td>\n      <td>Moderate</td>\n      <td>2.4 GHz</td>\n    </tr>\n  </tbody>\n</table>\n</div>"
     },
     "metadata": {},
     "execution_count": 116
    }
   ],
   "source": [
    "df_init.columns = [column.replace(' ', '_') for column in df_init.columns]\n",
    "df_init.head()"
   ]
  },
  {
   "cell_type": "code",
   "execution_count": 117,
   "metadata": {},
   "outputs": [
    {
     "output_type": "stream",
     "name": "stdout",
     "text": [
      "EffectiveDate          datetime64[ns]\nUnit                           object\nPricePerUnit                  float64\nCurrency                       object\nLeaseContractLength            object\nPurchaseOption                 object\nOfferingClass                  object\nLocation                       object\nLocation_Type                  object\nInstance_Type                  object\nInstance_Family                object\nMemory                         object\nvCPU                          float64\nNetwork_Performance            object\nClock_Speed                    object\ndtype: object\n"
     ]
    }
   ],
   "source": [
    "df_init[\"EffectiveDate\"] = df_init[\"EffectiveDate\"].astype(\"datetime64\")\n",
    "df_init[\"PricePerUnit\"] = df_init[\"PricePerUnit\"].astype(float)\n",
    "print(df_init.dtypes)"
   ]
  },
  {
   "cell_type": "code",
   "execution_count": 118,
   "metadata": {},
   "outputs": [
    {
     "output_type": "execute_result",
     "data": {
      "text/plain": [
       "EffectiveDate               0\n",
       "Unit                        0\n",
       "PricePerUnit                0\n",
       "Currency                    0\n",
       "LeaseContractLength    286975\n",
       "PurchaseOption         286975\n",
       "OfferingClass          286975\n",
       "Location                  170\n",
       "Location_Type             170\n",
       "Instance_Type            1158\n",
       "Instance_Family          1158\n",
       "Memory                   7707\n",
       "vCPU                     1158\n",
       "Network_Performance      7712\n",
       "Clock_Speed             54535\n",
       "dtype: int64"
      ]
     },
     "metadata": {},
     "execution_count": 118
    }
   ],
   "source": [
    "df_init.isnull().sum()"
   ]
  },
  {
   "cell_type": "code",
   "execution_count": 119,
   "metadata": {},
   "outputs": [
    {
     "output_type": "execute_result",
     "data": {
      "text/plain": [
       "EffectiveDate               0\n",
       "Unit                        0\n",
       "PricePerUnit                0\n",
       "Currency                    0\n",
       "LeaseContractLength    277273\n",
       "PurchaseOption         277273\n",
       "OfferingClass          277273\n",
       "Location                    0\n",
       "Location_Type               0\n",
       "Instance_Type               0\n",
       "Instance_Family             0\n",
       "Memory                      0\n",
       "vCPU                        0\n",
       "Network_Performance         0\n",
       "Clock_Speed                 0\n",
       "dtype: int64"
      ]
     },
     "metadata": {},
     "execution_count": 119
    }
   ],
   "source": [
    "# Drop all rows with NaNs in Location OR Memory OR Network Performance OR Instance Type\n",
    "nan_columns = ['Location','Instance_Type','Instance_Family', 'Memory', 'Clock_Speed', 'Network_Performance']\n",
    "\n",
    "for column in nan_columns:\n",
    "     df_init.dropna(subset = [column], inplace=True)\n",
    "\n",
    "df_init.isnull().sum()"
   ]
  },
  {
   "cell_type": "code",
   "execution_count": 120,
   "metadata": {},
   "outputs": [
    {
     "output_type": "execute_result",
     "data": {
      "text/plain": [
       "AWS Region             1835080\n",
       "AWS Wavelength Zone       1418\n",
       "AWS Local Zone             405\n",
       "Name: Location_Type, dtype: int64"
      ]
     },
     "metadata": {},
     "execution_count": 120
    }
   ],
   "source": [
    "df_init['Location_Type'].value_counts()"
   ]
  },
  {
   "cell_type": "code",
   "execution_count": 121,
   "metadata": {},
   "outputs": [
    {
     "output_type": "execute_result",
     "data": {
      "text/plain": [
       "  EffectiveDate      Unit  PricePerUnit Currency LeaseContractLength  \\\n",
       "0    2017-04-30       Hrs        0.1963      USD                 1yr   \n",
       "1    2020-09-01       Hrs        0.0167      USD                 3yr   \n",
       "2    2020-04-01       Hrs       22.0310      USD                 3yr   \n",
       "3    2017-04-30       Hrs        0.1950      USD                 3yr   \n",
       "4    2018-03-31  Quantity     6972.0000      USD                 3yr   \n",
       "\n",
       "    PurchaseOption OfferingClass                Location Instance_Type  \\\n",
       "0       No Upfront      standard          US East (Ohio)     m4.xlarge   \n",
       "1       No Upfront   convertible        US West (Oregon)    t4g.medium   \n",
       "2  Partial Upfront      standard  AWS GovCloud (US-West)    r5dn.metal   \n",
       "3       No Upfront      standard    Asia Pacific (Tokyo)     i3.xlarge   \n",
       "4  Partial Upfront   convertible   US East (N. Virginia)      m4.large   \n",
       "\n",
       "     Instance_Family    Memory  vCPU Network_Performance Clock_Speed  \n",
       "0    General purpose    16 GiB   4.0                High     2.4 GHz  \n",
       "1    General purpose     4 GiB   2.0     Up to 5 Gigabit     2.5 GHz  \n",
       "2   Memory optimized   768 GiB  96.0         100 Gigabit     3.1 GHz  \n",
       "3  Storage optimized  30.5 GiB   4.0    Up to 10 Gigabit     2.3 GHz  \n",
       "4    General purpose     8 GiB   2.0            Moderate     2.4 GHz  "
      ],
      "text/html": "<div>\n<style scoped>\n    .dataframe tbody tr th:only-of-type {\n        vertical-align: middle;\n    }\n\n    .dataframe tbody tr th {\n        vertical-align: top;\n    }\n\n    .dataframe thead th {\n        text-align: right;\n    }\n</style>\n<table border=\"1\" class=\"dataframe\">\n  <thead>\n    <tr style=\"text-align: right;\">\n      <th></th>\n      <th>EffectiveDate</th>\n      <th>Unit</th>\n      <th>PricePerUnit</th>\n      <th>Currency</th>\n      <th>LeaseContractLength</th>\n      <th>PurchaseOption</th>\n      <th>OfferingClass</th>\n      <th>Location</th>\n      <th>Instance_Type</th>\n      <th>Instance_Family</th>\n      <th>Memory</th>\n      <th>vCPU</th>\n      <th>Network_Performance</th>\n      <th>Clock_Speed</th>\n    </tr>\n  </thead>\n  <tbody>\n    <tr>\n      <th>0</th>\n      <td>2017-04-30</td>\n      <td>Hrs</td>\n      <td>0.1963</td>\n      <td>USD</td>\n      <td>1yr</td>\n      <td>No Upfront</td>\n      <td>standard</td>\n      <td>US East (Ohio)</td>\n      <td>m4.xlarge</td>\n      <td>General purpose</td>\n      <td>16 GiB</td>\n      <td>4.0</td>\n      <td>High</td>\n      <td>2.4 GHz</td>\n    </tr>\n    <tr>\n      <th>1</th>\n      <td>2020-09-01</td>\n      <td>Hrs</td>\n      <td>0.0167</td>\n      <td>USD</td>\n      <td>3yr</td>\n      <td>No Upfront</td>\n      <td>convertible</td>\n      <td>US West (Oregon)</td>\n      <td>t4g.medium</td>\n      <td>General purpose</td>\n      <td>4 GiB</td>\n      <td>2.0</td>\n      <td>Up to 5 Gigabit</td>\n      <td>2.5 GHz</td>\n    </tr>\n    <tr>\n      <th>2</th>\n      <td>2020-04-01</td>\n      <td>Hrs</td>\n      <td>22.0310</td>\n      <td>USD</td>\n      <td>3yr</td>\n      <td>Partial Upfront</td>\n      <td>standard</td>\n      <td>AWS GovCloud (US-West)</td>\n      <td>r5dn.metal</td>\n      <td>Memory optimized</td>\n      <td>768 GiB</td>\n      <td>96.0</td>\n      <td>100 Gigabit</td>\n      <td>3.1 GHz</td>\n    </tr>\n    <tr>\n      <th>3</th>\n      <td>2017-04-30</td>\n      <td>Hrs</td>\n      <td>0.1950</td>\n      <td>USD</td>\n      <td>3yr</td>\n      <td>No Upfront</td>\n      <td>standard</td>\n      <td>Asia Pacific (Tokyo)</td>\n      <td>i3.xlarge</td>\n      <td>Storage optimized</td>\n      <td>30.5 GiB</td>\n      <td>4.0</td>\n      <td>Up to 10 Gigabit</td>\n      <td>2.3 GHz</td>\n    </tr>\n    <tr>\n      <th>4</th>\n      <td>2018-03-31</td>\n      <td>Quantity</td>\n      <td>6972.0000</td>\n      <td>USD</td>\n      <td>3yr</td>\n      <td>Partial Upfront</td>\n      <td>convertible</td>\n      <td>US East (N. Virginia)</td>\n      <td>m4.large</td>\n      <td>General purpose</td>\n      <td>8 GiB</td>\n      <td>2.0</td>\n      <td>Moderate</td>\n      <td>2.4 GHz</td>\n    </tr>\n  </tbody>\n</table>\n</div>"
     },
     "metadata": {},
     "execution_count": 121
    }
   ],
   "source": [
    "# According to Above results, other types have small number of rows, then we can drop that column because only one column type remain after remove other rows.\n",
    "# df_init = df_init[df_init['Location Type'] =='AWS Region'] \n",
    "# df_init['Location Type'].value_counts()\n",
    "del df_init['Location_Type']\n",
    "df_init.head()"
   ]
  },
  {
   "cell_type": "code",
   "execution_count": 122,
   "metadata": {},
   "outputs": [
    {
     "output_type": "execute_result",
     "data": {
      "text/plain": [
       "USD    1836903\n",
       "Name: Currency, dtype: int64"
      ]
     },
     "metadata": {},
     "execution_count": 122
    }
   ],
   "source": [
    "df_init['Currency'].value_counts()"
   ]
  },
  {
   "cell_type": "code",
   "execution_count": 123,
   "metadata": {},
   "outputs": [
    {
     "output_type": "execute_result",
     "data": {
      "text/plain": [
       "  EffectiveDate      Unit  PricePerUnit LeaseContractLength   PurchaseOption  \\\n",
       "0    2017-04-30       Hrs        0.1963                 1yr       No Upfront   \n",
       "1    2020-09-01       Hrs        0.0167                 3yr       No Upfront   \n",
       "2    2020-04-01       Hrs       22.0310                 3yr  Partial Upfront   \n",
       "3    2017-04-30       Hrs        0.1950                 3yr       No Upfront   \n",
       "4    2018-03-31  Quantity     6972.0000                 3yr  Partial Upfront   \n",
       "\n",
       "  OfferingClass                Location Instance_Type    Instance_Family  \\\n",
       "0      standard          US East (Ohio)     m4.xlarge    General purpose   \n",
       "1   convertible        US West (Oregon)    t4g.medium    General purpose   \n",
       "2      standard  AWS GovCloud (US-West)    r5dn.metal   Memory optimized   \n",
       "3      standard    Asia Pacific (Tokyo)     i3.xlarge  Storage optimized   \n",
       "4   convertible   US East (N. Virginia)      m4.large    General purpose   \n",
       "\n",
       "     Memory  vCPU Network_Performance Clock_Speed  \n",
       "0    16 GiB   4.0                High     2.4 GHz  \n",
       "1     4 GiB   2.0     Up to 5 Gigabit     2.5 GHz  \n",
       "2   768 GiB  96.0         100 Gigabit     3.1 GHz  \n",
       "3  30.5 GiB   4.0    Up to 10 Gigabit     2.3 GHz  \n",
       "4     8 GiB   2.0            Moderate     2.4 GHz  "
      ],
      "text/html": "<div>\n<style scoped>\n    .dataframe tbody tr th:only-of-type {\n        vertical-align: middle;\n    }\n\n    .dataframe tbody tr th {\n        vertical-align: top;\n    }\n\n    .dataframe thead th {\n        text-align: right;\n    }\n</style>\n<table border=\"1\" class=\"dataframe\">\n  <thead>\n    <tr style=\"text-align: right;\">\n      <th></th>\n      <th>EffectiveDate</th>\n      <th>Unit</th>\n      <th>PricePerUnit</th>\n      <th>LeaseContractLength</th>\n      <th>PurchaseOption</th>\n      <th>OfferingClass</th>\n      <th>Location</th>\n      <th>Instance_Type</th>\n      <th>Instance_Family</th>\n      <th>Memory</th>\n      <th>vCPU</th>\n      <th>Network_Performance</th>\n      <th>Clock_Speed</th>\n    </tr>\n  </thead>\n  <tbody>\n    <tr>\n      <th>0</th>\n      <td>2017-04-30</td>\n      <td>Hrs</td>\n      <td>0.1963</td>\n      <td>1yr</td>\n      <td>No Upfront</td>\n      <td>standard</td>\n      <td>US East (Ohio)</td>\n      <td>m4.xlarge</td>\n      <td>General purpose</td>\n      <td>16 GiB</td>\n      <td>4.0</td>\n      <td>High</td>\n      <td>2.4 GHz</td>\n    </tr>\n    <tr>\n      <th>1</th>\n      <td>2020-09-01</td>\n      <td>Hrs</td>\n      <td>0.0167</td>\n      <td>3yr</td>\n      <td>No Upfront</td>\n      <td>convertible</td>\n      <td>US West (Oregon)</td>\n      <td>t4g.medium</td>\n      <td>General purpose</td>\n      <td>4 GiB</td>\n      <td>2.0</td>\n      <td>Up to 5 Gigabit</td>\n      <td>2.5 GHz</td>\n    </tr>\n    <tr>\n      <th>2</th>\n      <td>2020-04-01</td>\n      <td>Hrs</td>\n      <td>22.0310</td>\n      <td>3yr</td>\n      <td>Partial Upfront</td>\n      <td>standard</td>\n      <td>AWS GovCloud (US-West)</td>\n      <td>r5dn.metal</td>\n      <td>Memory optimized</td>\n      <td>768 GiB</td>\n      <td>96.0</td>\n      <td>100 Gigabit</td>\n      <td>3.1 GHz</td>\n    </tr>\n    <tr>\n      <th>3</th>\n      <td>2017-04-30</td>\n      <td>Hrs</td>\n      <td>0.1950</td>\n      <td>3yr</td>\n      <td>No Upfront</td>\n      <td>standard</td>\n      <td>Asia Pacific (Tokyo)</td>\n      <td>i3.xlarge</td>\n      <td>Storage optimized</td>\n      <td>30.5 GiB</td>\n      <td>4.0</td>\n      <td>Up to 10 Gigabit</td>\n      <td>2.3 GHz</td>\n    </tr>\n    <tr>\n      <th>4</th>\n      <td>2018-03-31</td>\n      <td>Quantity</td>\n      <td>6972.0000</td>\n      <td>3yr</td>\n      <td>Partial Upfront</td>\n      <td>convertible</td>\n      <td>US East (N. Virginia)</td>\n      <td>m4.large</td>\n      <td>General purpose</td>\n      <td>8 GiB</td>\n      <td>2.0</td>\n      <td>Moderate</td>\n      <td>2.4 GHz</td>\n    </tr>\n  </tbody>\n</table>\n</div>"
     },
     "metadata": {},
     "execution_count": 123
    }
   ],
   "source": [
    "# Currency has only one type, then that column can remove\n",
    "del df_init['Currency']\n",
    "df_init.head()"
   ]
  },
  {
   "cell_type": "code",
   "execution_count": 124,
   "metadata": {},
   "outputs": [
    {
     "output_type": "execute_result",
     "data": {
      "text/plain": [
       "Hours       1211171\n",
       "Quantity     625732\n",
       "Name: Unit, dtype: int64"
      ]
     },
     "metadata": {},
     "execution_count": 124
    }
   ],
   "source": [
    "# 'Unit' column has many types rows. So, we can see same category as same name like ['Hrs', 'Hours', 'hours'], ['Quantity', 'Count']. \n",
    "# Other type has diffeent meaning, as well as those types have only small number of quantity\n",
    "# We can merger 'hours' and 'Quantity', and others can remove\n",
    "df_init = df_init[(df_init['Unit'] =='Hours') | (df_init['Unit'] =='Hrs') | (df_init['Unit'] =='Quantity') | (df_init['Unit'] =='Count')]\n",
    "num_of_unit_categories = {'Hours': 'Hours','Hrs': 'Hours', 'hours': 'Hours', 'Count':'Quantity','Quantity':'Quantity'}\n",
    "df_init['Unit'] = [num_of_unit_categories[x] for x in df_init['Unit']]\n",
    "df_init['Unit'].value_counts()\n",
    "\n",
    "# 'Quantity' means 'Upfront Fee' rows, and 'Hours' means 'On Demand' rows"
   ]
  },
  {
   "cell_type": "code",
   "execution_count": 125,
   "metadata": {},
   "outputs": [
    {
     "output_type": "execute_result",
     "data": {
      "text/plain": [
       "Memory optimized     596813\n",
       "General purpose      558772\n",
       "Compute optimized    408840\n",
       "Storage optimized    203059\n",
       "GPU instance          67561\n",
       "FPGA Instances         1858\n",
       "Name: Instance_Family, dtype: int64"
      ]
     },
     "metadata": {},
     "execution_count": 125
    }
   ],
   "source": [
    "df_init['Instance_Family'].value_counts()"
   ]
  },
  {
   "cell_type": "code",
   "execution_count": 126,
   "metadata": {},
   "outputs": [
    {
     "output_type": "execute_result",
     "data": {
      "text/plain": [
       "       Unit  PricePerUnit LeaseContractLength   PurchaseOption OfferingClass  \\\n",
       "0     Hours        0.1963                 1yr       No Upfront      standard   \n",
       "1     Hours        0.0167                 3yr       No Upfront   convertible   \n",
       "2     Hours       22.0310                 3yr  Partial Upfront      standard   \n",
       "3     Hours        0.1950                 3yr       No Upfront      standard   \n",
       "4  Quantity     6972.0000                 3yr  Partial Upfront   convertible   \n",
       "\n",
       "                 Location Instance_Type    Instance_Family    Memory  vCPU  \\\n",
       "0          US East (Ohio)     m4.xlarge    General purpose    16 GiB   4.0   \n",
       "1        US West (Oregon)    t4g.medium    General purpose     4 GiB   2.0   \n",
       "2  AWS GovCloud (US-West)    r5dn.metal   Memory optimized   768 GiB  96.0   \n",
       "3    Asia Pacific (Tokyo)     i3.xlarge  Storage optimized  30.5 GiB   4.0   \n",
       "4   US East (N. Virginia)      m4.large    General purpose     8 GiB   2.0   \n",
       "\n",
       "  Network_Performance Clock_Speed  Year  \n",
       "0                High     2.4 GHz  2017  \n",
       "1     Up to 5 Gigabit     2.5 GHz  2020  \n",
       "2         100 Gigabit     3.1 GHz  2020  \n",
       "3    Up to 10 Gigabit     2.3 GHz  2017  \n",
       "4            Moderate     2.4 GHz  2018  "
      ],
      "text/html": "<div>\n<style scoped>\n    .dataframe tbody tr th:only-of-type {\n        vertical-align: middle;\n    }\n\n    .dataframe tbody tr th {\n        vertical-align: top;\n    }\n\n    .dataframe thead th {\n        text-align: right;\n    }\n</style>\n<table border=\"1\" class=\"dataframe\">\n  <thead>\n    <tr style=\"text-align: right;\">\n      <th></th>\n      <th>Unit</th>\n      <th>PricePerUnit</th>\n      <th>LeaseContractLength</th>\n      <th>PurchaseOption</th>\n      <th>OfferingClass</th>\n      <th>Location</th>\n      <th>Instance_Type</th>\n      <th>Instance_Family</th>\n      <th>Memory</th>\n      <th>vCPU</th>\n      <th>Network_Performance</th>\n      <th>Clock_Speed</th>\n      <th>Year</th>\n    </tr>\n  </thead>\n  <tbody>\n    <tr>\n      <th>0</th>\n      <td>Hours</td>\n      <td>0.1963</td>\n      <td>1yr</td>\n      <td>No Upfront</td>\n      <td>standard</td>\n      <td>US East (Ohio)</td>\n      <td>m4.xlarge</td>\n      <td>General purpose</td>\n      <td>16 GiB</td>\n      <td>4.0</td>\n      <td>High</td>\n      <td>2.4 GHz</td>\n      <td>2017</td>\n    </tr>\n    <tr>\n      <th>1</th>\n      <td>Hours</td>\n      <td>0.0167</td>\n      <td>3yr</td>\n      <td>No Upfront</td>\n      <td>convertible</td>\n      <td>US West (Oregon)</td>\n      <td>t4g.medium</td>\n      <td>General purpose</td>\n      <td>4 GiB</td>\n      <td>2.0</td>\n      <td>Up to 5 Gigabit</td>\n      <td>2.5 GHz</td>\n      <td>2020</td>\n    </tr>\n    <tr>\n      <th>2</th>\n      <td>Hours</td>\n      <td>22.0310</td>\n      <td>3yr</td>\n      <td>Partial Upfront</td>\n      <td>standard</td>\n      <td>AWS GovCloud (US-West)</td>\n      <td>r5dn.metal</td>\n      <td>Memory optimized</td>\n      <td>768 GiB</td>\n      <td>96.0</td>\n      <td>100 Gigabit</td>\n      <td>3.1 GHz</td>\n      <td>2020</td>\n    </tr>\n    <tr>\n      <th>3</th>\n      <td>Hours</td>\n      <td>0.1950</td>\n      <td>3yr</td>\n      <td>No Upfront</td>\n      <td>standard</td>\n      <td>Asia Pacific (Tokyo)</td>\n      <td>i3.xlarge</td>\n      <td>Storage optimized</td>\n      <td>30.5 GiB</td>\n      <td>4.0</td>\n      <td>Up to 10 Gigabit</td>\n      <td>2.3 GHz</td>\n      <td>2017</td>\n    </tr>\n    <tr>\n      <th>4</th>\n      <td>Quantity</td>\n      <td>6972.0000</td>\n      <td>3yr</td>\n      <td>Partial Upfront</td>\n      <td>convertible</td>\n      <td>US East (N. Virginia)</td>\n      <td>m4.large</td>\n      <td>General purpose</td>\n      <td>8 GiB</td>\n      <td>2.0</td>\n      <td>Moderate</td>\n      <td>2.4 GHz</td>\n      <td>2018</td>\n    </tr>\n  </tbody>\n</table>\n</div>"
     },
     "metadata": {},
     "execution_count": 126
    }
   ],
   "source": [
    "df_init['Year'] = pd.DatetimeIndex(df_init['EffectiveDate']).year \n",
    "# df_init['Month'] = pd.DatetimeIndex(df_init['EffectiveDate']).month\n",
    "del df_init['EffectiveDate']\n",
    "df_init.head()"
   ]
  },
  {
   "cell_type": "code",
   "execution_count": 127,
   "metadata": {},
   "outputs": [
    {
     "output_type": "execute_result",
     "data": {
      "text/plain": [
       "US West (Oregon)                              125644\n",
       "US East (N. Virginia)                         125509\n",
       "EU (Ireland)                                  121275\n",
       "Asia Pacific (Tokyo)                          116336\n",
       "EU (Frankfurt)                                115565\n",
       "Asia Pacific (Singapore)                      115464\n",
       "US East (Ohio)                                113092\n",
       "Asia Pacific (Sydney)                          96945\n",
       "AWS GovCloud (US-West)                         96286\n",
       "US West (N. California)                        89616\n",
       "Asia Pacific (Seoul)                           82465\n",
       "Asia Pacific (Mumbai)                          82023\n",
       "South America (Sao Paulo)                      81897\n",
       "Canada (Central)                               76338\n",
       "EU (London)                                    75259\n",
       "EU (Paris)                                     54681\n",
       "AWS GovCloud (US-East)                         54456\n",
       "EU (Stockholm)                                 45464\n",
       "Asia Pacific (Hong Kong)                       43566\n",
       "Africa (Cape Town)                             36378\n",
       "EU (Milan)                                     32618\n",
       "Middle East (Bahrain)                          30456\n",
       "Asia Pacific (Osaka-Local)                     20016\n",
       "US West (Los Angeles)                           3731\n",
       "US East (Miami)                                  135\n",
       "US East (Boston)                                 135\n",
       "US East (Houston)                                135\n",
       "US East (Verizon) - Miami                        122\n",
       "US West (Verizon) - San Francisco Bay Area       108\n",
       "US East (Verizon) - New York                     108\n",
       "US East (Verizon) - Boston                       108\n",
       "US East (Verizon) - Dallas                       108\n",
       "US West (Verizon) - Denver                       108\n",
       "US East (Verizon) - Washington DC                108\n",
       "Asia Pacific (SKT) - Daejeon                     108\n",
       "US West (Verizon) - Las Vegas                    108\n",
       "US East (Verizon) - Atlanta                      108\n",
       "Asia Pacific (KDDI) - Tokyo                      108\n",
       "US West (Verizon) - Seattle                      108\n",
       "Asia Pacific (KDDI) - Osaka                      108\n",
       "Name: Location, dtype: int64"
      ]
     },
     "metadata": {},
     "execution_count": 127
    }
   ],
   "source": [
    "df_init['Location'].value_counts()"
   ]
  },
  {
   "cell_type": "code",
   "execution_count": 128,
   "metadata": {},
   "outputs": [
    {
     "output_type": "execute_result",
     "data": {
      "text/plain": [
       "Up to 10 Gigabit    619877\n",
       "10 Gigabit          235828\n",
       "25 Gigabit          222909\n",
       "Up to 25 Gigabit    159373\n",
       "20 Gigabit          133870\n",
       "High                116369\n",
       "100 Gigabit          76645\n",
       "Up to 5 Gigabit      67638\n",
       "12 Gigabit           58323\n",
       "Moderate             57326\n",
       "50 Gigabit           54842\n",
       "75 Gigabit           15912\n",
       "Low to Moderate       9149\n",
       "Up to 15 Gigabit      5520\n",
       "40 Gigabit            1380\n",
       "Low                   1162\n",
       "15 Gigabit             564\n",
       "400 Gigabit            216\n",
       "Name: Network_Performance, dtype: int64"
      ]
     },
     "metadata": {},
     "execution_count": 128
    }
   ],
   "source": [
    "df_init['Network_Performance'].value_counts()"
   ]
  },
  {
   "cell_type": "code",
   "execution_count": 129,
   "metadata": {},
   "outputs": [
    {
     "output_type": "execute_result",
     "data": {
      "text/plain": [
       "Up to 10 Gigabit    619877\n",
       "10 Gigabit          235828\n",
       "25 Gigabit          224289\n",
       "20 Gigabit          191196\n",
       "Up to 25 Gigabit    159373\n",
       "100 Gigabit         147615\n",
       "High                116369\n",
       "12 Gigabit           73556\n",
       "Up to 5 Gigabit      68800\n",
       "Name: Network_Performance, dtype: int64"
      ]
     },
     "metadata": {},
     "execution_count": 129
    }
   ],
   "source": [
    "# We can see lot of country locations. So, some are low numbers of rows, then we can combine those as general location\n",
    "num_of_network_performance_categories = {\n",
    "    'Low': 'Up to 5 Gigabit',\n",
    "    'Up to 5 Gigabit': 'Up to 5 Gigabit',\n",
    "    'Up to 10 Gigabit': 'Up to 10 Gigabit',\n",
    "    '10 Gigabit': '10 Gigabit', \n",
    "    '12 Gigabit': '12 Gigabit',\n",
    "    'Low to Moderate': '12 Gigabit',\n",
    "    'Up to 15 Gigabit': '12 Gigabit',\n",
    "    '15 Gigabit': '12 Gigabit',\n",
    "    'Moderate': '20 Gigabit',\n",
    "    '20 Gigabit': '20 Gigabit', \n",
    "    'High':'High', \n",
    "    'Up to 25 Gigabit': 'Up to 25 Gigabit',\n",
    "    '25 Gigabit': '25 Gigabit', \n",
    "    '40 Gigabit':'25 Gigabit',\n",
    "    '100 Gigabit':'100 Gigabit',\n",
    "    '50 Gigabit':'100 Gigabit',\n",
    "    '75 Gigabit':'100 Gigabit',\n",
    "    '400 Gigabit':'100 Gigabit'\n",
    "    }\n",
    "\n",
    "df_init['Network_Performance'] = df_init.Network_Performance.map(num_of_network_performance_categories)\n",
    "df_init['Network_Performance'].value_counts()"
   ]
  },
  {
   "cell_type": "code",
   "execution_count": 130,
   "metadata": {},
   "outputs": [
    {
     "output_type": "execute_result",
     "data": {
      "text/plain": [
       "2    619877\n",
       "3    235828\n",
       "8    224289\n",
       "5    191196\n",
       "7    159373\n",
       "9    147615\n",
       "6    116369\n",
       "4     73556\n",
       "1     68800\n",
       "Name: Network_Performance, dtype: int64"
      ]
     },
     "metadata": {},
     "execution_count": 130
    }
   ],
   "source": [
    "num_of_network_performance_categories = {\n",
    "    'Up to 5 Gigabit': 1,\n",
    "    'Up to 10 Gigabit': 2,\n",
    "    '10 Gigabit': 3, \n",
    "    '12 Gigabit': 4,\n",
    "    '20 Gigabit': 5, \n",
    "    'High':6, \n",
    "    'Up to 25 Gigabit': 7,\n",
    "    '25 Gigabit': 8, \n",
    "    '100 Gigabit':9\n",
    "    }\n",
    "\n",
    "df_init['Network_Performance'] = df_init.Network_Performance.map(num_of_network_performance_categories)\n",
    "df_init['Network_Performance'].value_counts()"
   ]
  },
  {
   "cell_type": "code",
   "execution_count": 131,
   "metadata": {},
   "outputs": [
    {
     "output_type": "execute_result",
     "data": {
      "text/plain": [
       "Asia Pacific     557139\n",
       "EU               444862\n",
       "US East          239668\n",
       "US West          219423\n",
       "AWS GovCloud     150742\n",
       "South America     81897\n",
       "Canada            76338\n",
       "Africa            36378\n",
       "Middle East       30456\n",
       "Name: Location, dtype: int64"
      ]
     },
     "metadata": {},
     "execution_count": 131
    }
   ],
   "source": [
    "# We can see lot of country locations. So, some are low numbers of rows, then we can combine those as general location\n",
    "num_of_location_categories = {\n",
    "    'US West (Oregon)': 'US West',\n",
    "    'US East (N. Virginia)': 'US East', \n",
    "    'EU (Ireland)': 'EU', \n",
    "    'Asia Pacific (Tokyo)':'Asia Pacific', \n",
    "    'Asia Pacific (Singapore)':'Asia Pacific',\n",
    "    'EU (Frankfurt)': 'EU',\n",
    "    'US East (Ohio)':'US East',\n",
    "    'Asia Pacific (Sydney)':'Asia Pacific',\n",
    "    'AWS GovCloud (US-West)':'AWS GovCloud',\n",
    "    'US West (N. California)':'US West',\n",
    "    'South America (Sao Paulo)':'South America',\n",
    "    'Asia Pacific (Seoul)':'Asia Pacific',\n",
    "    'Asia Pacific (Mumbai)':'Asia Pacific',\n",
    "    'Canada (Central)':'Canada',\n",
    "    'EU (London)':'EU',\n",
    "    'AWS GovCloud (US-East)':'AWS GovCloud',\n",
    "    'EU (Paris)':'EU',\n",
    "    'EU (Stockholm)':'EU',\n",
    "    'Asia Pacific (Hong Kong)':'Asia Pacific',\n",
    "    'Africa (Cape Town)':'Africa',\n",
    "    'EU (Milan)':'EU',\n",
    "    'Middle East (Bahrain)':'Middle East',\n",
    "    'Asia Pacific (Osaka-Local)':'Asia Pacific',\n",
    "    'US West (Los Angeles)':'US West',\n",
    "    'US East (Boston)':'US East',\n",
    "    'US East (Miami)':'US East',\n",
    "    'US East (Houston)':'US East',\n",
    "    'US East (Verizon) - Miami':'US East',\n",
    "    'Asia Pacific (KDDI) - Osaka':'Asia Pacific',\n",
    "    'US East (Verizon) - Atlanta':'US East',\n",
    "    'US West (Verizon) - Denver':'US West',\n",
    "    'US West (Verizon) - Seattle':'US West',\n",
    "    'US West (Verizon) - Las Vegas':'US West',\n",
    "    'Asia Pacific (KDDI) - Tokyo':'Asia Pacific',\n",
    "    'US West (Verizon) - San Francisco Bay Area':'US West',\n",
    "    'US East (Verizon) - Washington DC':'US East',\n",
    "    'US East (Verizon) - Dallas':'US East',\n",
    "    'US East (Verizon) - New York':'US East',\n",
    "    'US East (Verizon) - Boston':'US East',\n",
    "    'Asia Pacific (SKT) - Daejeon':'Asia Pacific',\n",
    "\n",
    "    }\n",
    "\n",
    "df_init['Location'] = df_init.Location.map(num_of_location_categories)\n",
    "df_init['Location'].value_counts()"
   ]
  },
  {
   "cell_type": "code",
   "execution_count": 132,
   "metadata": {},
   "outputs": [],
   "source": [
    "# df_init['Memory'] = df_init['Memory'].str[:-3]\n",
    "# df_init['Memory'] = df_init['Memory'].astype(float)\n",
    "# df_init['Memory'] = df_init['Memory'].fillna(0.0).astype(int)\n",
    "# df_init['Memory'].value_counts()"
   ]
  },
  {
   "cell_type": "code",
   "execution_count": 133,
   "metadata": {},
   "outputs": [],
   "source": [
    "# network_types = {\n",
    "#                  'Up to 10 Gigabit':6,\n",
    "#                  '10 Gigabit':7,\n",
    "#                  '25 Gigabit':14,\n",
    "#                  'Up to 25 Gigabit':13,\n",
    "#                  '20 Gigabit':12,\n",
    "#                  'High':8,\n",
    "#                  '100 Gigabit':18,\n",
    "#                  'Up to 5 Gigabit':5,\n",
    "#                  '12 Gigabit':9,\n",
    "#                  'Moderate':4,\n",
    "#                  '50 Gigabit':16,\n",
    "#                  '75 Gigabit':17,\n",
    "#                  'Low to Moderate':3,\n",
    "#                  'Up to 15 Gigabit':10,\n",
    "#                  'Low':2,\n",
    "#                  '40 Gigabit':15,\n",
    "#                  '15 Gigabit':11,\n",
    "#                  'Very Low':1,\n",
    "#                  '400 Gigabit':19\n",
    "#                  } \n",
    "# df_init['Network_Performance'] = df_init.Network_Performance.map(network_types)\n",
    "# df_init['Network_Performance'].value_counts()\n"
   ]
  },
  {
   "cell_type": "code",
   "execution_count": 134,
   "metadata": {},
   "outputs": [
    {
     "output_type": "execute_result",
     "data": {
      "text/plain": [
       "       Unit  PricePerUnit LeaseContractLength   PurchaseOption OfferingClass  \\\n",
       "0     Hours        0.1963                 1yr       No Upfront      standard   \n",
       "1     Hours        0.0167                 3yr       No Upfront   convertible   \n",
       "2     Hours       22.0310                 3yr  Partial Upfront      standard   \n",
       "3     Hours        0.1950                 3yr       No Upfront      standard   \n",
       "4  Quantity     6972.0000                 3yr  Partial Upfront   convertible   \n",
       "\n",
       "       Location Instance_Type    Instance_Family    Memory  vCPU  \\\n",
       "0       US East     m4.xlarge    General purpose    16 GiB   4.0   \n",
       "1       US West    t4g.medium    General purpose     4 GiB   2.0   \n",
       "2  AWS GovCloud    r5dn.metal   Memory optimized   768 GiB  96.0   \n",
       "3  Asia Pacific     i3.xlarge  Storage optimized  30.5 GiB   4.0   \n",
       "4       US East      m4.large    General purpose     8 GiB   2.0   \n",
       "\n",
       "   Network_Performance Clock_Speed  Year  \n",
       "0                    6     2.4 GHz  2017  \n",
       "1                    1     2.5 GHz  2020  \n",
       "2                    9     3.1 GHz  2020  \n",
       "3                    2     2.3 GHz  2017  \n",
       "4                    5     2.4 GHz  2018  "
      ],
      "text/html": "<div>\n<style scoped>\n    .dataframe tbody tr th:only-of-type {\n        vertical-align: middle;\n    }\n\n    .dataframe tbody tr th {\n        vertical-align: top;\n    }\n\n    .dataframe thead th {\n        text-align: right;\n    }\n</style>\n<table border=\"1\" class=\"dataframe\">\n  <thead>\n    <tr style=\"text-align: right;\">\n      <th></th>\n      <th>Unit</th>\n      <th>PricePerUnit</th>\n      <th>LeaseContractLength</th>\n      <th>PurchaseOption</th>\n      <th>OfferingClass</th>\n      <th>Location</th>\n      <th>Instance_Type</th>\n      <th>Instance_Family</th>\n      <th>Memory</th>\n      <th>vCPU</th>\n      <th>Network_Performance</th>\n      <th>Clock_Speed</th>\n      <th>Year</th>\n    </tr>\n  </thead>\n  <tbody>\n    <tr>\n      <th>0</th>\n      <td>Hours</td>\n      <td>0.1963</td>\n      <td>1yr</td>\n      <td>No Upfront</td>\n      <td>standard</td>\n      <td>US East</td>\n      <td>m4.xlarge</td>\n      <td>General purpose</td>\n      <td>16 GiB</td>\n      <td>4.0</td>\n      <td>6</td>\n      <td>2.4 GHz</td>\n      <td>2017</td>\n    </tr>\n    <tr>\n      <th>1</th>\n      <td>Hours</td>\n      <td>0.0167</td>\n      <td>3yr</td>\n      <td>No Upfront</td>\n      <td>convertible</td>\n      <td>US West</td>\n      <td>t4g.medium</td>\n      <td>General purpose</td>\n      <td>4 GiB</td>\n      <td>2.0</td>\n      <td>1</td>\n      <td>2.5 GHz</td>\n      <td>2020</td>\n    </tr>\n    <tr>\n      <th>2</th>\n      <td>Hours</td>\n      <td>22.0310</td>\n      <td>3yr</td>\n      <td>Partial Upfront</td>\n      <td>standard</td>\n      <td>AWS GovCloud</td>\n      <td>r5dn.metal</td>\n      <td>Memory optimized</td>\n      <td>768 GiB</td>\n      <td>96.0</td>\n      <td>9</td>\n      <td>3.1 GHz</td>\n      <td>2020</td>\n    </tr>\n    <tr>\n      <th>3</th>\n      <td>Hours</td>\n      <td>0.1950</td>\n      <td>3yr</td>\n      <td>No Upfront</td>\n      <td>standard</td>\n      <td>Asia Pacific</td>\n      <td>i3.xlarge</td>\n      <td>Storage optimized</td>\n      <td>30.5 GiB</td>\n      <td>4.0</td>\n      <td>2</td>\n      <td>2.3 GHz</td>\n      <td>2017</td>\n    </tr>\n    <tr>\n      <th>4</th>\n      <td>Quantity</td>\n      <td>6972.0000</td>\n      <td>3yr</td>\n      <td>Partial Upfront</td>\n      <td>convertible</td>\n      <td>US East</td>\n      <td>m4.large</td>\n      <td>General purpose</td>\n      <td>8 GiB</td>\n      <td>2.0</td>\n      <td>5</td>\n      <td>2.4 GHz</td>\n      <td>2018</td>\n    </tr>\n  </tbody>\n</table>\n</div>"
     },
     "metadata": {},
     "execution_count": 134
    }
   ],
   "source": [
    "df_init.head()"
   ]
  },
  {
   "cell_type": "code",
   "execution_count": 135,
   "metadata": {},
   "outputs": [
    {
     "output_type": "execute_result",
     "data": {
      "text/plain": [
       "       Location Instance_Type    Instance_Family    Memory  vCPU  \\\n",
       "0       US East     m4.xlarge    General purpose    16 GiB   4.0   \n",
       "1       US West    t4g.medium    General purpose     4 GiB   2.0   \n",
       "2  AWS GovCloud    r5dn.metal   Memory optimized   768 GiB  96.0   \n",
       "3  Asia Pacific     i3.xlarge  Storage optimized  30.5 GiB   4.0   \n",
       "4       US East      m4.large    General purpose     8 GiB   2.0   \n",
       "\n",
       "   Network_Performance Clock_Speed  \n",
       "0                    6     2.4 GHz  \n",
       "1                    1     2.5 GHz  \n",
       "2                    9     3.1 GHz  \n",
       "3                    2     2.3 GHz  \n",
       "4                    5     2.4 GHz  "
      ],
      "text/html": "<div>\n<style scoped>\n    .dataframe tbody tr th:only-of-type {\n        vertical-align: middle;\n    }\n\n    .dataframe tbody tr th {\n        vertical-align: top;\n    }\n\n    .dataframe thead th {\n        text-align: right;\n    }\n</style>\n<table border=\"1\" class=\"dataframe\">\n  <thead>\n    <tr style=\"text-align: right;\">\n      <th></th>\n      <th>Location</th>\n      <th>Instance_Type</th>\n      <th>Instance_Family</th>\n      <th>Memory</th>\n      <th>vCPU</th>\n      <th>Network_Performance</th>\n      <th>Clock_Speed</th>\n    </tr>\n  </thead>\n  <tbody>\n    <tr>\n      <th>0</th>\n      <td>US East</td>\n      <td>m4.xlarge</td>\n      <td>General purpose</td>\n      <td>16 GiB</td>\n      <td>4.0</td>\n      <td>6</td>\n      <td>2.4 GHz</td>\n    </tr>\n    <tr>\n      <th>1</th>\n      <td>US West</td>\n      <td>t4g.medium</td>\n      <td>General purpose</td>\n      <td>4 GiB</td>\n      <td>2.0</td>\n      <td>1</td>\n      <td>2.5 GHz</td>\n    </tr>\n    <tr>\n      <th>2</th>\n      <td>AWS GovCloud</td>\n      <td>r5dn.metal</td>\n      <td>Memory optimized</td>\n      <td>768 GiB</td>\n      <td>96.0</td>\n      <td>9</td>\n      <td>3.1 GHz</td>\n    </tr>\n    <tr>\n      <th>3</th>\n      <td>Asia Pacific</td>\n      <td>i3.xlarge</td>\n      <td>Storage optimized</td>\n      <td>30.5 GiB</td>\n      <td>4.0</td>\n      <td>2</td>\n      <td>2.3 GHz</td>\n    </tr>\n    <tr>\n      <th>4</th>\n      <td>US East</td>\n      <td>m4.large</td>\n      <td>General purpose</td>\n      <td>8 GiB</td>\n      <td>2.0</td>\n      <td>5</td>\n      <td>2.4 GHz</td>\n    </tr>\n  </tbody>\n</table>\n</div>"
     },
     "metadata": {},
     "execution_count": 135
    }
   ],
   "source": [
    "# We don't want Unit, LeaseContractLength, PurchaseOption, OfferingClass for this prediction models\n",
    "df_init = df_init.drop(columns=['Unit', 'LeaseContractLength', 'PurchaseOption', 'OfferingClass', 'PricePerUnit', 'Year'])\n",
    "df_init.head()"
   ]
  },
  {
   "cell_type": "code",
   "execution_count": 136,
   "metadata": {},
   "outputs": [
    {
     "output_type": "execute_result",
     "data": {
      "text/plain": [
       "       Location Instance_Type    Instance_Family Memory  vCPU  \\\n",
       "0       US East     m4.xlarge    General purpose     16   4.0   \n",
       "1       US West    t4g.medium    General purpose      4   2.0   \n",
       "2  AWS GovCloud    r5dn.metal   Memory optimized    768  96.0   \n",
       "3  Asia Pacific     i3.xlarge  Storage optimized     30   4.0   \n",
       "4       US East      m4.large    General purpose      8   2.0   \n",
       "\n",
       "   Network_Performance  Clock_Speed  \n",
       "0                    6          2.4  \n",
       "1                    1          2.5  \n",
       "2                    9          3.1  \n",
       "3                    2          2.3  \n",
       "4                    5          2.4  "
      ],
      "text/html": "<div>\n<style scoped>\n    .dataframe tbody tr th:only-of-type {\n        vertical-align: middle;\n    }\n\n    .dataframe tbody tr th {\n        vertical-align: top;\n    }\n\n    .dataframe thead th {\n        text-align: right;\n    }\n</style>\n<table border=\"1\" class=\"dataframe\">\n  <thead>\n    <tr style=\"text-align: right;\">\n      <th></th>\n      <th>Location</th>\n      <th>Instance_Type</th>\n      <th>Instance_Family</th>\n      <th>Memory</th>\n      <th>vCPU</th>\n      <th>Network_Performance</th>\n      <th>Clock_Speed</th>\n    </tr>\n  </thead>\n  <tbody>\n    <tr>\n      <th>0</th>\n      <td>US East</td>\n      <td>m4.xlarge</td>\n      <td>General purpose</td>\n      <td>16</td>\n      <td>4.0</td>\n      <td>6</td>\n      <td>2.4</td>\n    </tr>\n    <tr>\n      <th>1</th>\n      <td>US West</td>\n      <td>t4g.medium</td>\n      <td>General purpose</td>\n      <td>4</td>\n      <td>2.0</td>\n      <td>1</td>\n      <td>2.5</td>\n    </tr>\n    <tr>\n      <th>2</th>\n      <td>AWS GovCloud</td>\n      <td>r5dn.metal</td>\n      <td>Memory optimized</td>\n      <td>768</td>\n      <td>96.0</td>\n      <td>9</td>\n      <td>3.1</td>\n    </tr>\n    <tr>\n      <th>3</th>\n      <td>Asia Pacific</td>\n      <td>i3.xlarge</td>\n      <td>Storage optimized</td>\n      <td>30</td>\n      <td>4.0</td>\n      <td>2</td>\n      <td>2.3</td>\n    </tr>\n    <tr>\n      <th>4</th>\n      <td>US East</td>\n      <td>m4.large</td>\n      <td>General purpose</td>\n      <td>8</td>\n      <td>2.0</td>\n      <td>5</td>\n      <td>2.4</td>\n    </tr>\n  </tbody>\n</table>\n</div>"
     },
     "metadata": {},
     "execution_count": 136
    }
   ],
   "source": [
    "df_init['Memory'] = df_init['Memory'].str.extract('(\\d+)')\n",
    "df_init['Clock_Speed'] = df_init['Clock_Speed'].str.extract(r'(\\d+.\\d+)').astype('float')\n",
    "df_init.head()"
   ]
  },
  {
   "cell_type": "code",
   "execution_count": 137,
   "metadata": {},
   "outputs": [
    {
     "output_type": "execute_result",
     "data": {
      "text/plain": [
       "        Location Instance_Type Memory   vCPU  Network_Performance  Clock_Speed\n",
       "2   AWS GovCloud    r5dn.metal    768   96.0                    9          3.1\n",
       "5             EU  r5ad.8xlarge    256   32.0                    2          2.5\n",
       "6        US East   r5d.8xlarge    256   32.0                    3          3.1\n",
       "11       US West   r5n.8xlarge    256   32.0                    8          2.5\n",
       "12  AWS GovCloud   x1.32xlarge   1952  128.0                    6          2.3"
      ],
      "text/html": "<div>\n<style scoped>\n    .dataframe tbody tr th:only-of-type {\n        vertical-align: middle;\n    }\n\n    .dataframe tbody tr th {\n        vertical-align: top;\n    }\n\n    .dataframe thead th {\n        text-align: right;\n    }\n</style>\n<table border=\"1\" class=\"dataframe\">\n  <thead>\n    <tr style=\"text-align: right;\">\n      <th></th>\n      <th>Location</th>\n      <th>Instance_Type</th>\n      <th>Memory</th>\n      <th>vCPU</th>\n      <th>Network_Performance</th>\n      <th>Clock_Speed</th>\n    </tr>\n  </thead>\n  <tbody>\n    <tr>\n      <th>2</th>\n      <td>AWS GovCloud</td>\n      <td>r5dn.metal</td>\n      <td>768</td>\n      <td>96.0</td>\n      <td>9</td>\n      <td>3.1</td>\n    </tr>\n    <tr>\n      <th>5</th>\n      <td>EU</td>\n      <td>r5ad.8xlarge</td>\n      <td>256</td>\n      <td>32.0</td>\n      <td>2</td>\n      <td>2.5</td>\n    </tr>\n    <tr>\n      <th>6</th>\n      <td>US East</td>\n      <td>r5d.8xlarge</td>\n      <td>256</td>\n      <td>32.0</td>\n      <td>3</td>\n      <td>3.1</td>\n    </tr>\n    <tr>\n      <th>11</th>\n      <td>US West</td>\n      <td>r5n.8xlarge</td>\n      <td>256</td>\n      <td>32.0</td>\n      <td>8</td>\n      <td>2.5</td>\n    </tr>\n    <tr>\n      <th>12</th>\n      <td>AWS GovCloud</td>\n      <td>x1.32xlarge</td>\n      <td>1952</td>\n      <td>128.0</td>\n      <td>6</td>\n      <td>2.3</td>\n    </tr>\n  </tbody>\n</table>\n</div>"
     },
     "metadata": {},
     "execution_count": 137
    }
   ],
   "source": [
    "df_memory = df_init[(df_init['Instance_Family'] == 'Memory optimized')] \n",
    "df_memory = df_memory.drop(['Instance_Family'], axis=1)\n",
    "df_memory.head()"
   ]
  },
  {
   "cell_type": "code",
   "execution_count": 138,
   "metadata": {},
   "outputs": [],
   "source": [
    "# Now we get label for these three column\n",
    "location_type = {\n",
    "      'US West':1,    \n",
    "      'Canada':2,     \n",
    "      'US East':3, \n",
    "      'South America':4,\n",
    "      'Asia Pacific':5,\n",
    "      'EU':6,\n",
    "      'AWS GovCloud':7,\n",
    "      'Africa':8,\n",
    "      'Middle East':9         \n",
    "}     \n",
    "\n",
    "def set_location(model, location_type):\n",
    "    model['Location'] = model.apply (lambda row: row['Location'], axis=1)\n",
    "    model['Location'] = model.Location.map (location_type)\n",
    "    return model;"
   ]
  },
  {
   "cell_type": "code",
   "execution_count": 139,
   "metadata": {},
   "outputs": [
    {
     "output_type": "execute_result",
     "data": {
      "text/plain": [
       "    Location Instance_Type Memory   vCPU  Network_Performance  Clock_Speed\n",
       "2          7    r5dn.metal    768   96.0                    9          3.1\n",
       "5          6  r5ad.8xlarge    256   32.0                    2          2.5\n",
       "6          3   r5d.8xlarge    256   32.0                    3          3.1\n",
       "11         1   r5n.8xlarge    256   32.0                    8          2.5\n",
       "12         7   x1.32xlarge   1952  128.0                    6          2.3"
      ],
      "text/html": "<div>\n<style scoped>\n    .dataframe tbody tr th:only-of-type {\n        vertical-align: middle;\n    }\n\n    .dataframe tbody tr th {\n        vertical-align: top;\n    }\n\n    .dataframe thead th {\n        text-align: right;\n    }\n</style>\n<table border=\"1\" class=\"dataframe\">\n  <thead>\n    <tr style=\"text-align: right;\">\n      <th></th>\n      <th>Location</th>\n      <th>Instance_Type</th>\n      <th>Memory</th>\n      <th>vCPU</th>\n      <th>Network_Performance</th>\n      <th>Clock_Speed</th>\n    </tr>\n  </thead>\n  <tbody>\n    <tr>\n      <th>2</th>\n      <td>7</td>\n      <td>r5dn.metal</td>\n      <td>768</td>\n      <td>96.0</td>\n      <td>9</td>\n      <td>3.1</td>\n    </tr>\n    <tr>\n      <th>5</th>\n      <td>6</td>\n      <td>r5ad.8xlarge</td>\n      <td>256</td>\n      <td>32.0</td>\n      <td>2</td>\n      <td>2.5</td>\n    </tr>\n    <tr>\n      <th>6</th>\n      <td>3</td>\n      <td>r5d.8xlarge</td>\n      <td>256</td>\n      <td>32.0</td>\n      <td>3</td>\n      <td>3.1</td>\n    </tr>\n    <tr>\n      <th>11</th>\n      <td>1</td>\n      <td>r5n.8xlarge</td>\n      <td>256</td>\n      <td>32.0</td>\n      <td>8</td>\n      <td>2.5</td>\n    </tr>\n    <tr>\n      <th>12</th>\n      <td>7</td>\n      <td>x1.32xlarge</td>\n      <td>1952</td>\n      <td>128.0</td>\n      <td>6</td>\n      <td>2.3</td>\n    </tr>\n  </tbody>\n</table>\n</div>"
     },
     "metadata": {},
     "execution_count": 139
    }
   ],
   "source": [
    "df_memory = set_location(df_memory, location_type);\n",
    "df_memory.head()"
   ]
  },
  {
   "cell_type": "code",
   "execution_count": 141,
   "metadata": {},
   "outputs": [
    {
     "output_type": "execute_result",
     "data": {
      "text/plain": [
       "r5.2xlarge       11070\n",
       "r5d.2xlarge      10762\n",
       "r5.xlarge        10676\n",
       "r5.12xlarge      10668\n",
       "r5.4xlarge       10668\n",
       "                 ...  \n",
       "r6gd.metal        1269\n",
       "r6gd.4xlarge      1269\n",
       "r6gd.16xlarge     1269\n",
       "r6gd.8xlarge      1269\n",
       "r6gd.12xlarge     1269\n",
       "Name: Instance_Type, Length: 105, dtype: int64"
      ]
     },
     "metadata": {},
     "execution_count": 141
    }
   ],
   "source": [
    "df_memory.Instance_Type.value_counts()"
   ]
  },
  {
   "cell_type": "code",
   "execution_count": 172,
   "metadata": {},
   "outputs": [],
   "source": [
    "df_memory[\"Memory\"] = pd.to_numeric(df_memory[\"Memory\"])\n",
    "df_memory[\"vCPU\"] = pd.to_numeric(df_memory[\"vCPU\"])"
   ]
  },
  {
   "cell_type": "code",
   "execution_count": 152,
   "metadata": {},
   "outputs": [
    {
     "output_type": "execute_result",
     "data": {
      "text/plain": [
       "Location                 int64\n",
       "Instance_Type           object\n",
       "Memory                   int64\n",
       "vCPU                   float64\n",
       "Network_Performance      int64\n",
       "Clock_Speed            float64\n",
       "dtype: object"
      ]
     },
     "metadata": {},
     "execution_count": 152
    }
   ],
   "source": [
    "df_memory.dtypes"
   ]
  },
  {
   "cell_type": "code",
   "execution_count": 153,
   "metadata": {},
   "outputs": [
    {
     "output_type": "execute_result",
     "data": {
      "text/plain": [
       "                     Location    Memory      vCPU  Network_Performance  \\\n",
       "Location             1.000000  0.036821  0.033945             0.002882   \n",
       "Memory               0.036821  1.000000  0.766301             0.449531   \n",
       "vCPU                 0.033945  0.766301  1.000000             0.695607   \n",
       "Network_Performance  0.002882  0.449531  0.695607             1.000000   \n",
       "Clock_Speed          0.076155 -0.177197  0.064656             0.142855   \n",
       "\n",
       "                     Clock_Speed  \n",
       "Location                0.076155  \n",
       "Memory                 -0.177197  \n",
       "vCPU                    0.064656  \n",
       "Network_Performance     0.142855  \n",
       "Clock_Speed             1.000000  "
      ],
      "text/html": "<div>\n<style scoped>\n    .dataframe tbody tr th:only-of-type {\n        vertical-align: middle;\n    }\n\n    .dataframe tbody tr th {\n        vertical-align: top;\n    }\n\n    .dataframe thead th {\n        text-align: right;\n    }\n</style>\n<table border=\"1\" class=\"dataframe\">\n  <thead>\n    <tr style=\"text-align: right;\">\n      <th></th>\n      <th>Location</th>\n      <th>Memory</th>\n      <th>vCPU</th>\n      <th>Network_Performance</th>\n      <th>Clock_Speed</th>\n    </tr>\n  </thead>\n  <tbody>\n    <tr>\n      <th>Location</th>\n      <td>1.000000</td>\n      <td>0.036821</td>\n      <td>0.033945</td>\n      <td>0.002882</td>\n      <td>0.076155</td>\n    </tr>\n    <tr>\n      <th>Memory</th>\n      <td>0.036821</td>\n      <td>1.000000</td>\n      <td>0.766301</td>\n      <td>0.449531</td>\n      <td>-0.177197</td>\n    </tr>\n    <tr>\n      <th>vCPU</th>\n      <td>0.033945</td>\n      <td>0.766301</td>\n      <td>1.000000</td>\n      <td>0.695607</td>\n      <td>0.064656</td>\n    </tr>\n    <tr>\n      <th>Network_Performance</th>\n      <td>0.002882</td>\n      <td>0.449531</td>\n      <td>0.695607</td>\n      <td>1.000000</td>\n      <td>0.142855</td>\n    </tr>\n    <tr>\n      <th>Clock_Speed</th>\n      <td>0.076155</td>\n      <td>-0.177197</td>\n      <td>0.064656</td>\n      <td>0.142855</td>\n      <td>1.000000</td>\n    </tr>\n  </tbody>\n</table>\n</div>"
     },
     "metadata": {},
     "execution_count": 153
    }
   ],
   "source": [
    "corr = df_memory.corr()\n",
    "corr"
   ]
  },
  {
   "cell_type": "code",
   "execution_count": 154,
   "metadata": {},
   "outputs": [],
   "source": [
    "# import preprocessing from sklearn\n",
    "from sklearn import preprocessing\n",
    "# create a OneHotEncoder object, and fit it to all of X\n",
    "\n",
    "# 1. INSTANTIATE\n",
    "def oneHotEncoder(en_column, old_df):\n",
    "    one_hot_enc = preprocessing.OneHotEncoder()\n",
    "    oe_results = one_hot_enc.fit_transform(old_df[en_column])\n",
    "    new_df = pd.DataFrame(oe_results.toarray(), columns=one_hot_enc.categories_)\n",
    "    old_df = old_df.drop(en_column, axis=1) \n",
    "    # merge with main df bridge_df on key values\n",
    "    return old_df.join(new_df)\n",
    "\n",
    "def oneHotEncoderMultiple(old_df, en_columns):\n",
    "    for x in en_columns:\n",
    "        old_df = oneHotEncoder([x], old_df);\n",
    "    return old_df     \n",
    "\n",
    " \n",
    "def getDummies(en_column, old_df, cusPrefixes):\n",
    "    # generate binary values using get_dummies\n",
    "    dum_df = pd.get_dummies(old_df, columns=[en_column], prefix=cusPrefixes)\n",
    "    old_df = old_df.drop(en_column, axis=1, inplace=True) \n",
    "    # merge with main df bridge_df on key values\n",
    "    return pd.concat([old_df, dum_df], axis=1)\n",
    "\n",
    "def getDummiesMultiple(en_columns, old_df, cusPrefixes):\n",
    "    c = 0\n",
    "    new_df = old_df\n",
    "    for x in en_columns:\n",
    "        new_df = getDummies(x, new_df, cusPrefixes[c])\n",
    "        c+=1\n",
    "    return new_df  \n",
    "\n",
    "\n",
    "def getLabel(en_column, old_df):\n",
    "    encoder = preprocessing.LabelEncoder()\n",
    "    encoder.fit(old_df[en_column])\n",
    "    old_df[en_column] = encoder.transform(old_df[en_column])\n",
    "    return old_df \n",
    "\n",
    "def getLabelMultiple(old_df, en_columns):\n",
    "    for x in en_columns: \n",
    "        old_df = getLabel(x, old_df);\n",
    "    return old_df  \n"
   ]
  },
  {
   "cell_type": "code",
   "execution_count": 156,
   "metadata": {},
   "outputs": [
    {
     "output_type": "execute_result",
     "data": {
      "text/plain": [
       "         Location  Instance_Type  Memory   vCPU  Network_Performance  \\\n",
       "2               7             61     768   96.0                    9   \n",
       "5               6             33     256   32.0                    2   \n",
       "6               3             50     256   32.0                    3   \n",
       "11              1             68     256   32.0                    8   \n",
       "12              7             91    1952  128.0                    6   \n",
       "...           ...            ...     ...    ...                  ...   \n",
       "1897244         2             93     244    8.0                    2   \n",
       "1897248         5             90     976   64.0                    6   \n",
       "1897252         5             14      64    8.0                    2   \n",
       "1897259         5             64     512   64.0                    9   \n",
       "1897261         1             16     256   32.0                    3   \n",
       "\n",
       "         Clock_Speed  \n",
       "2                3.1  \n",
       "5                2.5  \n",
       "6                3.1  \n",
       "11               2.5  \n",
       "12               2.3  \n",
       "...              ...  \n",
       "1897244          2.3  \n",
       "1897248          2.3  \n",
       "1897252          3.1  \n",
       "1897259          2.5  \n",
       "1897261          3.1  \n",
       "\n",
       "[596813 rows x 6 columns]"
      ],
      "text/html": "<div>\n<style scoped>\n    .dataframe tbody tr th:only-of-type {\n        vertical-align: middle;\n    }\n\n    .dataframe tbody tr th {\n        vertical-align: top;\n    }\n\n    .dataframe thead th {\n        text-align: right;\n    }\n</style>\n<table border=\"1\" class=\"dataframe\">\n  <thead>\n    <tr style=\"text-align: right;\">\n      <th></th>\n      <th>Location</th>\n      <th>Instance_Type</th>\n      <th>Memory</th>\n      <th>vCPU</th>\n      <th>Network_Performance</th>\n      <th>Clock_Speed</th>\n    </tr>\n  </thead>\n  <tbody>\n    <tr>\n      <th>2</th>\n      <td>7</td>\n      <td>61</td>\n      <td>768</td>\n      <td>96.0</td>\n      <td>9</td>\n      <td>3.1</td>\n    </tr>\n    <tr>\n      <th>5</th>\n      <td>6</td>\n      <td>33</td>\n      <td>256</td>\n      <td>32.0</td>\n      <td>2</td>\n      <td>2.5</td>\n    </tr>\n    <tr>\n      <th>6</th>\n      <td>3</td>\n      <td>50</td>\n      <td>256</td>\n      <td>32.0</td>\n      <td>3</td>\n      <td>3.1</td>\n    </tr>\n    <tr>\n      <th>11</th>\n      <td>1</td>\n      <td>68</td>\n      <td>256</td>\n      <td>32.0</td>\n      <td>8</td>\n      <td>2.5</td>\n    </tr>\n    <tr>\n      <th>12</th>\n      <td>7</td>\n      <td>91</td>\n      <td>1952</td>\n      <td>128.0</td>\n      <td>6</td>\n      <td>2.3</td>\n    </tr>\n    <tr>\n      <th>...</th>\n      <td>...</td>\n      <td>...</td>\n      <td>...</td>\n      <td>...</td>\n      <td>...</td>\n      <td>...</td>\n    </tr>\n    <tr>\n      <th>1897244</th>\n      <td>2</td>\n      <td>93</td>\n      <td>244</td>\n      <td>8.0</td>\n      <td>2</td>\n      <td>2.3</td>\n    </tr>\n    <tr>\n      <th>1897248</th>\n      <td>5</td>\n      <td>90</td>\n      <td>976</td>\n      <td>64.0</td>\n      <td>6</td>\n      <td>2.3</td>\n    </tr>\n    <tr>\n      <th>1897252</th>\n      <td>5</td>\n      <td>14</td>\n      <td>64</td>\n      <td>8.0</td>\n      <td>2</td>\n      <td>3.1</td>\n    </tr>\n    <tr>\n      <th>1897259</th>\n      <td>5</td>\n      <td>64</td>\n      <td>512</td>\n      <td>64.0</td>\n      <td>9</td>\n      <td>2.5</td>\n    </tr>\n    <tr>\n      <th>1897261</th>\n      <td>1</td>\n      <td>16</td>\n      <td>256</td>\n      <td>32.0</td>\n      <td>3</td>\n      <td>3.1</td>\n    </tr>\n  </tbody>\n</table>\n<p>596813 rows × 6 columns</p>\n</div>"
     },
     "metadata": {},
     "execution_count": 156
    }
   ],
   "source": [
    "df_memory_en = getLabel('Instance_Type', df_memory)\n",
    "df_memory_en"
   ]
  },
  {
   "cell_type": "code",
   "execution_count": 157,
   "metadata": {},
   "outputs": [
    {
     "output_type": "execute_result",
     "data": {
      "text/plain": [
       "                     Location  Instance_Type    Memory      vCPU  \\\n",
       "Location             1.000000      -0.008458  0.036821  0.033945   \n",
       "Instance_Type       -0.008458       1.000000  0.296683  0.076710   \n",
       "Memory               0.036821       0.296683  1.000000  0.766301   \n",
       "vCPU                 0.033945       0.076710  0.766301  1.000000   \n",
       "Network_Performance  0.002882       0.154507  0.449531  0.695607   \n",
       "Clock_Speed          0.076155      -0.192869 -0.177197  0.064656   \n",
       "\n",
       "                     Network_Performance  Clock_Speed  \n",
       "Location                        0.002882     0.076155  \n",
       "Instance_Type                   0.154507    -0.192869  \n",
       "Memory                          0.449531    -0.177197  \n",
       "vCPU                            0.695607     0.064656  \n",
       "Network_Performance             1.000000     0.142855  \n",
       "Clock_Speed                     0.142855     1.000000  "
      ],
      "text/html": "<div>\n<style scoped>\n    .dataframe tbody tr th:only-of-type {\n        vertical-align: middle;\n    }\n\n    .dataframe tbody tr th {\n        vertical-align: top;\n    }\n\n    .dataframe thead th {\n        text-align: right;\n    }\n</style>\n<table border=\"1\" class=\"dataframe\">\n  <thead>\n    <tr style=\"text-align: right;\">\n      <th></th>\n      <th>Location</th>\n      <th>Instance_Type</th>\n      <th>Memory</th>\n      <th>vCPU</th>\n      <th>Network_Performance</th>\n      <th>Clock_Speed</th>\n    </tr>\n  </thead>\n  <tbody>\n    <tr>\n      <th>Location</th>\n      <td>1.000000</td>\n      <td>-0.008458</td>\n      <td>0.036821</td>\n      <td>0.033945</td>\n      <td>0.002882</td>\n      <td>0.076155</td>\n    </tr>\n    <tr>\n      <th>Instance_Type</th>\n      <td>-0.008458</td>\n      <td>1.000000</td>\n      <td>0.296683</td>\n      <td>0.076710</td>\n      <td>0.154507</td>\n      <td>-0.192869</td>\n    </tr>\n    <tr>\n      <th>Memory</th>\n      <td>0.036821</td>\n      <td>0.296683</td>\n      <td>1.000000</td>\n      <td>0.766301</td>\n      <td>0.449531</td>\n      <td>-0.177197</td>\n    </tr>\n    <tr>\n      <th>vCPU</th>\n      <td>0.033945</td>\n      <td>0.076710</td>\n      <td>0.766301</td>\n      <td>1.000000</td>\n      <td>0.695607</td>\n      <td>0.064656</td>\n    </tr>\n    <tr>\n      <th>Network_Performance</th>\n      <td>0.002882</td>\n      <td>0.154507</td>\n      <td>0.449531</td>\n      <td>0.695607</td>\n      <td>1.000000</td>\n      <td>0.142855</td>\n    </tr>\n    <tr>\n      <th>Clock_Speed</th>\n      <td>0.076155</td>\n      <td>-0.192869</td>\n      <td>-0.177197</td>\n      <td>0.064656</td>\n      <td>0.142855</td>\n      <td>1.000000</td>\n    </tr>\n  </tbody>\n</table>\n</div>"
     },
     "metadata": {},
     "execution_count": 157
    }
   ],
   "source": [
    "corr = df_memory_en.corr()\n",
    "corr"
   ]
  },
  {
   "cell_type": "code",
   "execution_count": 159,
   "metadata": {},
   "outputs": [
    {
     "output_type": "execute_result",
     "data": {
      "text/plain": [
       "         Location  Instance_Type  Memory   vCPU  Network_Performance  \\\n",
       "2               7             61     768   96.0                    9   \n",
       "5               6             33     256   32.0                    2   \n",
       "6               3             50     256   32.0                    3   \n",
       "11              1             68     256   32.0                    8   \n",
       "12              7             91    1952  128.0                    6   \n",
       "...           ...            ...     ...    ...                  ...   \n",
       "1897244         2             93     244    8.0                    2   \n",
       "1897248         5             90     976   64.0                    6   \n",
       "1897252         5             14      64    8.0                    2   \n",
       "1897259         5             64     512   64.0                    9   \n",
       "1897261         1             16     256   32.0                    3   \n",
       "\n",
       "         Clock_Speed  \n",
       "2                3.1  \n",
       "5                2.5  \n",
       "6                3.1  \n",
       "11               2.5  \n",
       "12               2.3  \n",
       "...              ...  \n",
       "1897244          2.3  \n",
       "1897248          2.3  \n",
       "1897252          3.1  \n",
       "1897259          2.5  \n",
       "1897261          3.1  \n",
       "\n",
       "[596813 rows x 6 columns]"
      ],
      "text/html": "<div>\n<style scoped>\n    .dataframe tbody tr th:only-of-type {\n        vertical-align: middle;\n    }\n\n    .dataframe tbody tr th {\n        vertical-align: top;\n    }\n\n    .dataframe thead th {\n        text-align: right;\n    }\n</style>\n<table border=\"1\" class=\"dataframe\">\n  <thead>\n    <tr style=\"text-align: right;\">\n      <th></th>\n      <th>Location</th>\n      <th>Instance_Type</th>\n      <th>Memory</th>\n      <th>vCPU</th>\n      <th>Network_Performance</th>\n      <th>Clock_Speed</th>\n    </tr>\n  </thead>\n  <tbody>\n    <tr>\n      <th>2</th>\n      <td>7</td>\n      <td>61</td>\n      <td>768</td>\n      <td>96.0</td>\n      <td>9</td>\n      <td>3.1</td>\n    </tr>\n    <tr>\n      <th>5</th>\n      <td>6</td>\n      <td>33</td>\n      <td>256</td>\n      <td>32.0</td>\n      <td>2</td>\n      <td>2.5</td>\n    </tr>\n    <tr>\n      <th>6</th>\n      <td>3</td>\n      <td>50</td>\n      <td>256</td>\n      <td>32.0</td>\n      <td>3</td>\n      <td>3.1</td>\n    </tr>\n    <tr>\n      <th>11</th>\n      <td>1</td>\n      <td>68</td>\n      <td>256</td>\n      <td>32.0</td>\n      <td>8</td>\n      <td>2.5</td>\n    </tr>\n    <tr>\n      <th>12</th>\n      <td>7</td>\n      <td>91</td>\n      <td>1952</td>\n      <td>128.0</td>\n      <td>6</td>\n      <td>2.3</td>\n    </tr>\n    <tr>\n      <th>...</th>\n      <td>...</td>\n      <td>...</td>\n      <td>...</td>\n      <td>...</td>\n      <td>...</td>\n      <td>...</td>\n    </tr>\n    <tr>\n      <th>1897244</th>\n      <td>2</td>\n      <td>93</td>\n      <td>244</td>\n      <td>8.0</td>\n      <td>2</td>\n      <td>2.3</td>\n    </tr>\n    <tr>\n      <th>1897248</th>\n      <td>5</td>\n      <td>90</td>\n      <td>976</td>\n      <td>64.0</td>\n      <td>6</td>\n      <td>2.3</td>\n    </tr>\n    <tr>\n      <th>1897252</th>\n      <td>5</td>\n      <td>14</td>\n      <td>64</td>\n      <td>8.0</td>\n      <td>2</td>\n      <td>3.1</td>\n    </tr>\n    <tr>\n      <th>1897259</th>\n      <td>5</td>\n      <td>64</td>\n      <td>512</td>\n      <td>64.0</td>\n      <td>9</td>\n      <td>2.5</td>\n    </tr>\n    <tr>\n      <th>1897261</th>\n      <td>1</td>\n      <td>16</td>\n      <td>256</td>\n      <td>32.0</td>\n      <td>3</td>\n      <td>3.1</td>\n    </tr>\n  </tbody>\n</table>\n<p>596813 rows × 6 columns</p>\n</div>"
     },
     "metadata": {},
     "execution_count": 159
    }
   ],
   "source": [
    "df_memory_en"
   ]
  },
  {
   "cell_type": "code",
   "execution_count": 168,
   "metadata": {},
   "outputs": [
    {
     "output_type": "execute_result",
     "data": {
      "text/plain": [
       "<bound method NDFrame._add_numeric_operations.<locals>.max of 2           7.68\n",
       "5           2.56\n",
       "6           2.56\n",
       "11          2.56\n",
       "12         19.52\n",
       "           ...  \n",
       "1897244     2.44\n",
       "1897248     9.76\n",
       "1897252     0.64\n",
       "1897259     5.12\n",
       "1897261     2.56\n",
       "Name: Memory, Length: 596813, dtype: float64>"
      ]
     },
     "metadata": {},
     "execution_count": 168
    }
   ],
   "source": [
    "# df_memory_en.Memory = df_memory_en.Memory/10\n",
    "# df_memory_en.Memory"
   ]
  },
  {
   "cell_type": "code",
   "execution_count": 179,
   "metadata": {},
   "outputs": [],
   "source": [
    "df_memory_en = df_memory_en.reset_index()"
   ]
  },
  {
   "cell_type": "code",
   "execution_count": 180,
   "metadata": {},
   "outputs": [
    {
     "output_type": "execute_result",
     "data": {
      "text/plain": [
       "index                  False\n",
       "Location               False\n",
       "Instance_Type          False\n",
       "Memory                 False\n",
       "vCPU                   False\n",
       "Network_Performance    False\n",
       "Clock_Speed            False\n",
       "dtype: bool"
      ]
     },
     "metadata": {},
     "execution_count": 180
    }
   ],
   "source": [
    "np.isnan(df_memory_en.any()) #and gets False"
   ]
  },
  {
   "cell_type": "code",
   "execution_count": 219,
   "metadata": {},
   "outputs": [
    {
     "output_type": "execute_result",
     "data": {
      "text/plain": [
       "          index  Location  Instance_Type  Memory   vCPU  Network_Performance  \\\n",
       "0             2         7             61    7.68   96.0                    9   \n",
       "1             5         6             33    2.56   32.0                    2   \n",
       "2             6         3             50    2.56   32.0                    3   \n",
       "3            11         1             68    2.56   32.0                    8   \n",
       "4            12         7             91   19.52  128.0                    6   \n",
       "...         ...       ...            ...     ...    ...                  ...   \n",
       "596808  1897244         2             93    2.44    8.0                    2   \n",
       "596809  1897248         5             90    9.76   64.0                    6   \n",
       "596810  1897252         5             14    0.64    8.0                    2   \n",
       "596811  1897259         5             64    5.12   64.0                    9   \n",
       "596812  1897261         1             16    2.56   32.0                    3   \n",
       "\n",
       "        Clock_Speed  \n",
       "0               3.1  \n",
       "1               2.5  \n",
       "2               3.1  \n",
       "3               2.5  \n",
       "4               2.3  \n",
       "...             ...  \n",
       "596808          2.3  \n",
       "596809          2.3  \n",
       "596810          3.1  \n",
       "596811          2.5  \n",
       "596812          3.1  \n",
       "\n",
       "[558317 rows x 7 columns]"
      ],
      "text/html": "<div>\n<style scoped>\n    .dataframe tbody tr th:only-of-type {\n        vertical-align: middle;\n    }\n\n    .dataframe tbody tr th {\n        vertical-align: top;\n    }\n\n    .dataframe thead th {\n        text-align: right;\n    }\n</style>\n<table border=\"1\" class=\"dataframe\">\n  <thead>\n    <tr style=\"text-align: right;\">\n      <th></th>\n      <th>index</th>\n      <th>Location</th>\n      <th>Instance_Type</th>\n      <th>Memory</th>\n      <th>vCPU</th>\n      <th>Network_Performance</th>\n      <th>Clock_Speed</th>\n    </tr>\n  </thead>\n  <tbody>\n    <tr>\n      <th>0</th>\n      <td>2</td>\n      <td>7</td>\n      <td>61</td>\n      <td>7.68</td>\n      <td>96.0</td>\n      <td>9</td>\n      <td>3.1</td>\n    </tr>\n    <tr>\n      <th>1</th>\n      <td>5</td>\n      <td>6</td>\n      <td>33</td>\n      <td>2.56</td>\n      <td>32.0</td>\n      <td>2</td>\n      <td>2.5</td>\n    </tr>\n    <tr>\n      <th>2</th>\n      <td>6</td>\n      <td>3</td>\n      <td>50</td>\n      <td>2.56</td>\n      <td>32.0</td>\n      <td>3</td>\n      <td>3.1</td>\n    </tr>\n    <tr>\n      <th>3</th>\n      <td>11</td>\n      <td>1</td>\n      <td>68</td>\n      <td>2.56</td>\n      <td>32.0</td>\n      <td>8</td>\n      <td>2.5</td>\n    </tr>\n    <tr>\n      <th>4</th>\n      <td>12</td>\n      <td>7</td>\n      <td>91</td>\n      <td>19.52</td>\n      <td>128.0</td>\n      <td>6</td>\n      <td>2.3</td>\n    </tr>\n    <tr>\n      <th>...</th>\n      <td>...</td>\n      <td>...</td>\n      <td>...</td>\n      <td>...</td>\n      <td>...</td>\n      <td>...</td>\n      <td>...</td>\n    </tr>\n    <tr>\n      <th>596808</th>\n      <td>1897244</td>\n      <td>2</td>\n      <td>93</td>\n      <td>2.44</td>\n      <td>8.0</td>\n      <td>2</td>\n      <td>2.3</td>\n    </tr>\n    <tr>\n      <th>596809</th>\n      <td>1897248</td>\n      <td>5</td>\n      <td>90</td>\n      <td>9.76</td>\n      <td>64.0</td>\n      <td>6</td>\n      <td>2.3</td>\n    </tr>\n    <tr>\n      <th>596810</th>\n      <td>1897252</td>\n      <td>5</td>\n      <td>14</td>\n      <td>0.64</td>\n      <td>8.0</td>\n      <td>2</td>\n      <td>3.1</td>\n    </tr>\n    <tr>\n      <th>596811</th>\n      <td>1897259</td>\n      <td>5</td>\n      <td>64</td>\n      <td>5.12</td>\n      <td>64.0</td>\n      <td>9</td>\n      <td>2.5</td>\n    </tr>\n    <tr>\n      <th>596812</th>\n      <td>1897261</td>\n      <td>1</td>\n      <td>16</td>\n      <td>2.56</td>\n      <td>32.0</td>\n      <td>3</td>\n      <td>3.1</td>\n    </tr>\n  </tbody>\n</table>\n<p>558317 rows × 7 columns</p>\n</div>"
     },
     "metadata": {},
     "execution_count": 219
    }
   ],
   "source": [
    "df_memory_en_arr = np.asarray(df_memory_en)\n",
    "df_memory_en_arr = df_memory_en_arr[~np.isnan(df_memory_en_arr).any(axis=1)]\n",
    "df_memory_en_arr"
   ]
  },
  {
   "cell_type": "code",
   "execution_count": 222,
   "metadata": {},
   "outputs": [
    {
     "output_type": "stream",
     "name": "stdout",
     "text": [
      "[61 33 50 ... 14 64 16]\n"
     ]
    }
   ],
   "source": [
    "y = np.asarray(df_memory_en['Instance_Type'])\n",
    "print(y)\n",
    "\n",
    "X = np.asarray(df_memory_en.drop(columns='Instance_Type'))"
   ]
  },
  {
   "cell_type": "code",
   "execution_count": 223,
   "metadata": {},
   "outputs": [],
   "source": [
    "X_train, X_test, y_train, y_test = train_test_split(X, y, test_size = 0.2, random_state = 0)"
   ]
  },
  {
   "cell_type": "code",
   "execution_count": 216,
   "metadata": {},
   "outputs": [],
   "source": [
    "# X_train = X_train.reshape((446610, 6))"
   ]
  },
  {
   "cell_type": "code",
   "execution_count": 224,
   "metadata": {},
   "outputs": [
    {
     "output_type": "execute_result",
     "data": {
      "text/plain": [
       "True"
      ]
     },
     "metadata": {},
     "execution_count": 224
    }
   ],
   "source": [
    "np.isfinite(X_train).all()"
   ]
  },
  {
   "cell_type": "code",
   "execution_count": 225,
   "metadata": {},
   "outputs": [
    {
     "output_type": "execute_result",
     "data": {
      "text/plain": [
       "array([], shape=(0, 2), dtype=int64)"
      ]
     },
     "metadata": {},
     "execution_count": 225
    }
   ],
   "source": [
    "np.argwhere(np.isnan(X_train))"
   ]
  },
  {
   "cell_type": "code",
   "execution_count": 211,
   "metadata": {},
   "outputs": [
    {
     "output_type": "error",
     "ename": "ValueError",
     "evalue": "Found input variables with inconsistent numbers of samples: [446610, 477450]",
     "traceback": [
      "\u001b[1;31m---------------------------------------------------------------------------\u001b[0m",
      "\u001b[1;31mValueError\u001b[0m                                Traceback (most recent call last)",
      "\u001b[1;32m<ipython-input-211-64548d765746>\u001b[0m in \u001b[0;36m<module>\u001b[1;34m\u001b[0m\n\u001b[1;32m----> 1\u001b[1;33m \u001b[0mrbf\u001b[0m \u001b[1;33m=\u001b[0m \u001b[0msvm\u001b[0m\u001b[1;33m.\u001b[0m\u001b[0mSVC\u001b[0m\u001b[1;33m(\u001b[0m\u001b[0mkernel\u001b[0m\u001b[1;33m=\u001b[0m\u001b[1;34m'rbf'\u001b[0m\u001b[1;33m,\u001b[0m \u001b[0mgamma\u001b[0m\u001b[1;33m=\u001b[0m\u001b[1;34m'auto'\u001b[0m\u001b[1;33m,\u001b[0m \u001b[0mC\u001b[0m\u001b[1;33m=\u001b[0m\u001b[1;36m1\u001b[0m\u001b[1;33m,\u001b[0m \u001b[0mdecision_function_shape\u001b[0m\u001b[1;33m=\u001b[0m\u001b[1;34m'ovo'\u001b[0m\u001b[1;33m)\u001b[0m\u001b[1;33m.\u001b[0m\u001b[0mfit\u001b[0m\u001b[1;33m(\u001b[0m\u001b[0mX_train\u001b[0m\u001b[1;33m,\u001b[0m \u001b[0my_train\u001b[0m\u001b[1;33m)\u001b[0m\u001b[1;33m\u001b[0m\u001b[1;33m\u001b[0m\u001b[0m\n\u001b[0m\u001b[0;32m      2\u001b[0m \u001b[0mrbf_pred\u001b[0m \u001b[1;33m=\u001b[0m \u001b[0mrbf\u001b[0m\u001b[1;33m.\u001b[0m\u001b[0mpredict\u001b[0m\u001b[1;33m(\u001b[0m\u001b[0mX_test\u001b[0m\u001b[1;33m)\u001b[0m\u001b[1;33m\u001b[0m\u001b[1;33m\u001b[0m\u001b[0m\n\u001b[0;32m      3\u001b[0m \u001b[0mprint\u001b[0m\u001b[1;33m(\u001b[0m\u001b[0mclassification_report\u001b[0m\u001b[1;33m(\u001b[0m\u001b[0my_test\u001b[0m\u001b[1;33m,\u001b[0m \u001b[0mrbf_pred\u001b[0m\u001b[1;33m)\u001b[0m\u001b[1;33m)\u001b[0m\u001b[1;33m\u001b[0m\u001b[1;33m\u001b[0m\u001b[0m\n\u001b[0;32m      4\u001b[0m \u001b[0mprint\u001b[0m\u001b[1;33m(\u001b[0m\u001b[1;34m\"Accuracy: \"\u001b[0m \u001b[1;33m,\u001b[0m \u001b[0mmetrics\u001b[0m\u001b[1;33m.\u001b[0m\u001b[0maccuracy_score\u001b[0m\u001b[1;33m(\u001b[0m\u001b[0my_test\u001b[0m\u001b[1;33m,\u001b[0m \u001b[0mrbf_pred\u001b[0m\u001b[1;33m)\u001b[0m\u001b[1;33m)\u001b[0m\u001b[1;33m\u001b[0m\u001b[1;33m\u001b[0m\u001b[0m\n",
      "\u001b[1;32m~\\AppData\\Local\\Programs\\Python\\Python37\\lib\\site-packages\\sklearn\\svm\\_base.py\u001b[0m in \u001b[0;36mfit\u001b[1;34m(self, X, y, sample_weight)\u001b[0m\n\u001b[0;32m    169\u001b[0m             X, y = self._validate_data(X, y, dtype=np.float64,\n\u001b[0;32m    170\u001b[0m                                        \u001b[0morder\u001b[0m\u001b[1;33m=\u001b[0m\u001b[1;34m'C'\u001b[0m\u001b[1;33m,\u001b[0m \u001b[0maccept_sparse\u001b[0m\u001b[1;33m=\u001b[0m\u001b[1;34m'csr'\u001b[0m\u001b[1;33m,\u001b[0m\u001b[1;33m\u001b[0m\u001b[1;33m\u001b[0m\u001b[0m\n\u001b[1;32m--> 171\u001b[1;33m                                        accept_large_sparse=False)\n\u001b[0m\u001b[0;32m    172\u001b[0m \u001b[1;33m\u001b[0m\u001b[0m\n\u001b[0;32m    173\u001b[0m         \u001b[0my\u001b[0m \u001b[1;33m=\u001b[0m \u001b[0mself\u001b[0m\u001b[1;33m.\u001b[0m\u001b[0m_validate_targets\u001b[0m\u001b[1;33m(\u001b[0m\u001b[0my\u001b[0m\u001b[1;33m)\u001b[0m\u001b[1;33m\u001b[0m\u001b[1;33m\u001b[0m\u001b[0m\n",
      "\u001b[1;32m~\\AppData\\Local\\Programs\\Python\\Python37\\lib\\site-packages\\sklearn\\base.py\u001b[0m in \u001b[0;36m_validate_data\u001b[1;34m(self, X, y, reset, validate_separately, **check_params)\u001b[0m\n\u001b[0;32m    431\u001b[0m                 \u001b[0my\u001b[0m \u001b[1;33m=\u001b[0m \u001b[0mcheck_array\u001b[0m\u001b[1;33m(\u001b[0m\u001b[0my\u001b[0m\u001b[1;33m,\u001b[0m \u001b[1;33m**\u001b[0m\u001b[0mcheck_y_params\u001b[0m\u001b[1;33m)\u001b[0m\u001b[1;33m\u001b[0m\u001b[1;33m\u001b[0m\u001b[0m\n\u001b[0;32m    432\u001b[0m             \u001b[1;32melse\u001b[0m\u001b[1;33m:\u001b[0m\u001b[1;33m\u001b[0m\u001b[1;33m\u001b[0m\u001b[0m\n\u001b[1;32m--> 433\u001b[1;33m                 \u001b[0mX\u001b[0m\u001b[1;33m,\u001b[0m \u001b[0my\u001b[0m \u001b[1;33m=\u001b[0m \u001b[0mcheck_X_y\u001b[0m\u001b[1;33m(\u001b[0m\u001b[0mX\u001b[0m\u001b[1;33m,\u001b[0m \u001b[0my\u001b[0m\u001b[1;33m,\u001b[0m \u001b[1;33m**\u001b[0m\u001b[0mcheck_params\u001b[0m\u001b[1;33m)\u001b[0m\u001b[1;33m\u001b[0m\u001b[1;33m\u001b[0m\u001b[0m\n\u001b[0m\u001b[0;32m    434\u001b[0m             \u001b[0mout\u001b[0m \u001b[1;33m=\u001b[0m \u001b[0mX\u001b[0m\u001b[1;33m,\u001b[0m \u001b[0my\u001b[0m\u001b[1;33m\u001b[0m\u001b[1;33m\u001b[0m\u001b[0m\n\u001b[0;32m    435\u001b[0m \u001b[1;33m\u001b[0m\u001b[0m\n",
      "\u001b[1;32m~\\AppData\\Local\\Programs\\Python\\Python37\\lib\\site-packages\\sklearn\\utils\\validation.py\u001b[0m in \u001b[0;36minner_f\u001b[1;34m(*args, **kwargs)\u001b[0m\n\u001b[0;32m     61\u001b[0m             \u001b[0mextra_args\u001b[0m \u001b[1;33m=\u001b[0m \u001b[0mlen\u001b[0m\u001b[1;33m(\u001b[0m\u001b[0margs\u001b[0m\u001b[1;33m)\u001b[0m \u001b[1;33m-\u001b[0m \u001b[0mlen\u001b[0m\u001b[1;33m(\u001b[0m\u001b[0mall_args\u001b[0m\u001b[1;33m)\u001b[0m\u001b[1;33m\u001b[0m\u001b[1;33m\u001b[0m\u001b[0m\n\u001b[0;32m     62\u001b[0m             \u001b[1;32mif\u001b[0m \u001b[0mextra_args\u001b[0m \u001b[1;33m<=\u001b[0m \u001b[1;36m0\u001b[0m\u001b[1;33m:\u001b[0m\u001b[1;33m\u001b[0m\u001b[1;33m\u001b[0m\u001b[0m\n\u001b[1;32m---> 63\u001b[1;33m                 \u001b[1;32mreturn\u001b[0m \u001b[0mf\u001b[0m\u001b[1;33m(\u001b[0m\u001b[1;33m*\u001b[0m\u001b[0margs\u001b[0m\u001b[1;33m,\u001b[0m \u001b[1;33m**\u001b[0m\u001b[0mkwargs\u001b[0m\u001b[1;33m)\u001b[0m\u001b[1;33m\u001b[0m\u001b[1;33m\u001b[0m\u001b[0m\n\u001b[0m\u001b[0;32m     64\u001b[0m \u001b[1;33m\u001b[0m\u001b[0m\n\u001b[0;32m     65\u001b[0m             \u001b[1;31m# extra_args > 0\u001b[0m\u001b[1;33m\u001b[0m\u001b[1;33m\u001b[0m\u001b[1;33m\u001b[0m\u001b[0m\n",
      "\u001b[1;32m~\\AppData\\Local\\Programs\\Python\\Python37\\lib\\site-packages\\sklearn\\utils\\validation.py\u001b[0m in \u001b[0;36mcheck_X_y\u001b[1;34m(X, y, accept_sparse, accept_large_sparse, dtype, order, copy, force_all_finite, ensure_2d, allow_nd, multi_output, ensure_min_samples, ensure_min_features, y_numeric, estimator)\u001b[0m\n\u001b[0;32m    829\u001b[0m         \u001b[0my\u001b[0m \u001b[1;33m=\u001b[0m \u001b[0my\u001b[0m\u001b[1;33m.\u001b[0m\u001b[0mastype\u001b[0m\u001b[1;33m(\u001b[0m\u001b[0mnp\u001b[0m\u001b[1;33m.\u001b[0m\u001b[0mfloat64\u001b[0m\u001b[1;33m)\u001b[0m\u001b[1;33m\u001b[0m\u001b[1;33m\u001b[0m\u001b[0m\n\u001b[0;32m    830\u001b[0m \u001b[1;33m\u001b[0m\u001b[0m\n\u001b[1;32m--> 831\u001b[1;33m     \u001b[0mcheck_consistent_length\u001b[0m\u001b[1;33m(\u001b[0m\u001b[0mX\u001b[0m\u001b[1;33m,\u001b[0m \u001b[0my\u001b[0m\u001b[1;33m)\u001b[0m\u001b[1;33m\u001b[0m\u001b[1;33m\u001b[0m\u001b[0m\n\u001b[0m\u001b[0;32m    832\u001b[0m \u001b[1;33m\u001b[0m\u001b[0m\n\u001b[0;32m    833\u001b[0m     \u001b[1;32mreturn\u001b[0m \u001b[0mX\u001b[0m\u001b[1;33m,\u001b[0m \u001b[0my\u001b[0m\u001b[1;33m\u001b[0m\u001b[1;33m\u001b[0m\u001b[0m\n",
      "\u001b[1;32m~\\AppData\\Local\\Programs\\Python\\Python37\\lib\\site-packages\\sklearn\\utils\\validation.py\u001b[0m in \u001b[0;36mcheck_consistent_length\u001b[1;34m(*arrays)\u001b[0m\n\u001b[0;32m    261\u001b[0m     \u001b[1;32mif\u001b[0m \u001b[0mlen\u001b[0m\u001b[1;33m(\u001b[0m\u001b[0muniques\u001b[0m\u001b[1;33m)\u001b[0m \u001b[1;33m>\u001b[0m \u001b[1;36m1\u001b[0m\u001b[1;33m:\u001b[0m\u001b[1;33m\u001b[0m\u001b[1;33m\u001b[0m\u001b[0m\n\u001b[0;32m    262\u001b[0m         raise ValueError(\"Found input variables with inconsistent numbers of\"\n\u001b[1;32m--> 263\u001b[1;33m                          \" samples: %r\" % [int(l) for l in lengths])\n\u001b[0m\u001b[0;32m    264\u001b[0m \u001b[1;33m\u001b[0m\u001b[0m\n\u001b[0;32m    265\u001b[0m \u001b[1;33m\u001b[0m\u001b[0m\n",
      "\u001b[1;31mValueError\u001b[0m: Found input variables with inconsistent numbers of samples: [446610, 477450]"
     ]
    }
   ],
   "source": [
    "rbf = svm.SVC(kernel='rbf', gamma='auto', C=1, decision_function_shape='ovo').fit(X_train, y_train)\n",
    "rbf_pred = rbf.predict(X_test)\n",
    "print(classification_report(y_test, rbf_pred))\n",
    "print(\"Accuracy: \" , metrics.accuracy_score(y_test, rbf_pred))"
   ]
  },
  {
   "source": [
    "General purpose"
   ],
   "cell_type": "markdown",
   "metadata": {}
  },
  {
   "cell_type": "code",
   "execution_count": 49,
   "metadata": {},
   "outputs": [
    {
     "output_type": "execute_result",
     "data": {
      "text/plain": [
       "         PricePerUnit  Year  InstanceType_m4.10xlarge  \\\n",
       "4              6972.0  2018                         0   \n",
       "164            5546.0  2017                         0   \n",
       "530           11778.0  2016                         0   \n",
       "778           42088.0  2018                         0   \n",
       "943            6386.0  2017                         0   \n",
       "...               ...   ...                       ...   \n",
       "1896776       10420.0  2017                         1   \n",
       "1896840       15315.0  2017                         0   \n",
       "1897107        4348.0  2017                         0   \n",
       "1897232       23074.0  2018                         1   \n",
       "1897250        1632.0  2017                         0   \n",
       "\n",
       "         InstanceType_m4.16xlarge  InstanceType_m4.2xlarge  \\\n",
       "4                               0                        0   \n",
       "164                             0                        0   \n",
       "530                             0                        0   \n",
       "778                             0                        0   \n",
       "943                             0                        1   \n",
       "...                           ...                      ...   \n",
       "1896776                         0                        0   \n",
       "1896840                         0                        0   \n",
       "1897107                         0                        1   \n",
       "1897232                         0                        0   \n",
       "1897250                         0                        0   \n",
       "\n",
       "         InstanceType_m4.4xlarge  InstanceType_m4.large  \\\n",
       "4                              0                      1   \n",
       "164                            0                      1   \n",
       "530                            1                      0   \n",
       "778                            0                      0   \n",
       "943                            0                      0   \n",
       "...                          ...                    ...   \n",
       "1896776                        0                      0   \n",
       "1896840                        1                      0   \n",
       "1897107                        0                      0   \n",
       "1897232                        0                      0   \n",
       "1897250                        0                      0   \n",
       "\n",
       "         InstanceType_m4.xlarge  OfferingClass_convertible  \\\n",
       "4                             0                          1   \n",
       "164                           0                          0   \n",
       "530                           0                          0   \n",
       "778                           1                          0   \n",
       "943                           0                          1   \n",
       "...                         ...                        ...   \n",
       "1896776                       0                          0   \n",
       "1896840                       0                          1   \n",
       "1897107                       0                          0   \n",
       "1897232                       0                          0   \n",
       "1897250                       1                          1   \n",
       "\n",
       "         OfferingClass_standard  LeaseContractLength_1yr  \\\n",
       "4                             0                        0   \n",
       "164                           1                        1   \n",
       "530                           1                        1   \n",
       "778                           1                        0   \n",
       "943                           0                        0   \n",
       "...                         ...                      ...   \n",
       "1896776                       1                        1   \n",
       "1896840                       0                        1   \n",
       "1897107                       1                        0   \n",
       "1897232                       1                        0   \n",
       "1897250                       0                        0   \n",
       "\n",
       "         LeaseContractLength_3yr  Location_AWS GovCloud  \\\n",
       "4                              1                      0   \n",
       "164                            0                      0   \n",
       "530                            0                      0   \n",
       "778                            1                      0   \n",
       "943                            1                      0   \n",
       "...                          ...                    ...   \n",
       "1896776                        0                      0   \n",
       "1896840                        0                      0   \n",
       "1897107                        1                      0   \n",
       "1897232                        1                      0   \n",
       "1897250                        1                      0   \n",
       "\n",
       "         Location_Asia Pacific  Location_Canada  Location_EU  \\\n",
       "4                            0                0            0   \n",
       "164                          1                0            0   \n",
       "530                          1                0            0   \n",
       "778                          0                0            0   \n",
       "943                          1                0            0   \n",
       "...                        ...              ...          ...   \n",
       "1896776                      0                0            0   \n",
       "1896840                      0                0            0   \n",
       "1897107                      0                0            0   \n",
       "1897232                      0                0            0   \n",
       "1897250                      0                0            0   \n",
       "\n",
       "         Location_South America  Location_US East  Location_US West  \n",
       "4                             0                 1                 0  \n",
       "164                           0                 0                 0  \n",
       "530                           0                 0                 0  \n",
       "778                           0                 0                 1  \n",
       "943                           0                 0                 0  \n",
       "...                         ...               ...               ...  \n",
       "1896776                       0                 1                 0  \n",
       "1896840                       0                 0                 1  \n",
       "1897107                       0                 0                 1  \n",
       "1897232                       0                 0                 1  \n",
       "1897250                       0                 0                 1  \n",
       "\n",
       "[14112 rows x 19 columns]"
      ],
      "text/html": "<div>\n<style scoped>\n    .dataframe tbody tr th:only-of-type {\n        vertical-align: middle;\n    }\n\n    .dataframe tbody tr th {\n        vertical-align: top;\n    }\n\n    .dataframe thead th {\n        text-align: right;\n    }\n</style>\n<table border=\"1\" class=\"dataframe\">\n  <thead>\n    <tr style=\"text-align: right;\">\n      <th></th>\n      <th>PricePerUnit</th>\n      <th>Year</th>\n      <th>InstanceType_m4.10xlarge</th>\n      <th>InstanceType_m4.16xlarge</th>\n      <th>InstanceType_m4.2xlarge</th>\n      <th>InstanceType_m4.4xlarge</th>\n      <th>InstanceType_m4.large</th>\n      <th>InstanceType_m4.xlarge</th>\n      <th>OfferingClass_convertible</th>\n      <th>OfferingClass_standard</th>\n      <th>LeaseContractLength_1yr</th>\n      <th>LeaseContractLength_3yr</th>\n      <th>Location_AWS GovCloud</th>\n      <th>Location_Asia Pacific</th>\n      <th>Location_Canada</th>\n      <th>Location_EU</th>\n      <th>Location_South America</th>\n      <th>Location_US East</th>\n      <th>Location_US West</th>\n    </tr>\n  </thead>\n  <tbody>\n    <tr>\n      <th>4</th>\n      <td>6972.0</td>\n      <td>2018</td>\n      <td>0</td>\n      <td>0</td>\n      <td>0</td>\n      <td>0</td>\n      <td>1</td>\n      <td>0</td>\n      <td>1</td>\n      <td>0</td>\n      <td>0</td>\n      <td>1</td>\n      <td>0</td>\n      <td>0</td>\n      <td>0</td>\n      <td>0</td>\n      <td>0</td>\n      <td>1</td>\n      <td>0</td>\n    </tr>\n    <tr>\n      <th>164</th>\n      <td>5546.0</td>\n      <td>2017</td>\n      <td>0</td>\n      <td>0</td>\n      <td>0</td>\n      <td>0</td>\n      <td>1</td>\n      <td>0</td>\n      <td>0</td>\n      <td>1</td>\n      <td>1</td>\n      <td>0</td>\n      <td>0</td>\n      <td>1</td>\n      <td>0</td>\n      <td>0</td>\n      <td>0</td>\n      <td>0</td>\n      <td>0</td>\n    </tr>\n    <tr>\n      <th>530</th>\n      <td>11778.0</td>\n      <td>2016</td>\n      <td>0</td>\n      <td>0</td>\n      <td>0</td>\n      <td>1</td>\n      <td>0</td>\n      <td>0</td>\n      <td>0</td>\n      <td>1</td>\n      <td>1</td>\n      <td>0</td>\n      <td>0</td>\n      <td>1</td>\n      <td>0</td>\n      <td>0</td>\n      <td>0</td>\n      <td>0</td>\n      <td>0</td>\n    </tr>\n    <tr>\n      <th>778</th>\n      <td>42088.0</td>\n      <td>2018</td>\n      <td>0</td>\n      <td>0</td>\n      <td>0</td>\n      <td>0</td>\n      <td>0</td>\n      <td>1</td>\n      <td>0</td>\n      <td>1</td>\n      <td>0</td>\n      <td>1</td>\n      <td>0</td>\n      <td>0</td>\n      <td>0</td>\n      <td>0</td>\n      <td>0</td>\n      <td>0</td>\n      <td>1</td>\n    </tr>\n    <tr>\n      <th>943</th>\n      <td>6386.0</td>\n      <td>2017</td>\n      <td>0</td>\n      <td>0</td>\n      <td>1</td>\n      <td>0</td>\n      <td>0</td>\n      <td>0</td>\n      <td>1</td>\n      <td>0</td>\n      <td>0</td>\n      <td>1</td>\n      <td>0</td>\n      <td>1</td>\n      <td>0</td>\n      <td>0</td>\n      <td>0</td>\n      <td>0</td>\n      <td>0</td>\n    </tr>\n    <tr>\n      <th>...</th>\n      <td>...</td>\n      <td>...</td>\n      <td>...</td>\n      <td>...</td>\n      <td>...</td>\n      <td>...</td>\n      <td>...</td>\n      <td>...</td>\n      <td>...</td>\n      <td>...</td>\n      <td>...</td>\n      <td>...</td>\n      <td>...</td>\n      <td>...</td>\n      <td>...</td>\n      <td>...</td>\n      <td>...</td>\n      <td>...</td>\n      <td>...</td>\n    </tr>\n    <tr>\n      <th>1896776</th>\n      <td>10420.0</td>\n      <td>2017</td>\n      <td>1</td>\n      <td>0</td>\n      <td>0</td>\n      <td>0</td>\n      <td>0</td>\n      <td>0</td>\n      <td>0</td>\n      <td>1</td>\n      <td>1</td>\n      <td>0</td>\n      <td>0</td>\n      <td>0</td>\n      <td>0</td>\n      <td>0</td>\n      <td>0</td>\n      <td>1</td>\n      <td>0</td>\n    </tr>\n    <tr>\n      <th>1896840</th>\n      <td>15315.0</td>\n      <td>2017</td>\n      <td>0</td>\n      <td>0</td>\n      <td>0</td>\n      <td>1</td>\n      <td>0</td>\n      <td>0</td>\n      <td>1</td>\n      <td>0</td>\n      <td>1</td>\n      <td>0</td>\n      <td>0</td>\n      <td>0</td>\n      <td>0</td>\n      <td>0</td>\n      <td>0</td>\n      <td>0</td>\n      <td>1</td>\n    </tr>\n    <tr>\n      <th>1897107</th>\n      <td>4348.0</td>\n      <td>2017</td>\n      <td>0</td>\n      <td>0</td>\n      <td>1</td>\n      <td>0</td>\n      <td>0</td>\n      <td>0</td>\n      <td>0</td>\n      <td>1</td>\n      <td>0</td>\n      <td>1</td>\n      <td>0</td>\n      <td>0</td>\n      <td>0</td>\n      <td>0</td>\n      <td>0</td>\n      <td>0</td>\n      <td>1</td>\n    </tr>\n    <tr>\n      <th>1897232</th>\n      <td>23074.0</td>\n      <td>2018</td>\n      <td>1</td>\n      <td>0</td>\n      <td>0</td>\n      <td>0</td>\n      <td>0</td>\n      <td>0</td>\n      <td>0</td>\n      <td>1</td>\n      <td>0</td>\n      <td>1</td>\n      <td>0</td>\n      <td>0</td>\n      <td>0</td>\n      <td>0</td>\n      <td>0</td>\n      <td>0</td>\n      <td>1</td>\n    </tr>\n    <tr>\n      <th>1897250</th>\n      <td>1632.0</td>\n      <td>2017</td>\n      <td>0</td>\n      <td>0</td>\n      <td>0</td>\n      <td>0</td>\n      <td>0</td>\n      <td>1</td>\n      <td>1</td>\n      <td>0</td>\n      <td>0</td>\n      <td>1</td>\n      <td>0</td>\n      <td>0</td>\n      <td>0</td>\n      <td>0</td>\n      <td>0</td>\n      <td>0</td>\n      <td>1</td>\n    </tr>\n  </tbody>\n</table>\n<p>14112 rows × 19 columns</p>\n</div>"
     },
     "metadata": {},
     "execution_count": 49
    }
   ],
   "source": [
    "df_res_qty_gn_m4_en.drop(['Memory','vCPU', 'Network_Performance', 'Clock_Speed'], inplace=True, axis=1)\n",
    "df_res_qty_gn_m4_en"
   ]
  },
  {
   "cell_type": "code",
   "execution_count": 50,
   "metadata": {},
   "outputs": [
    {
     "output_type": "stream",
     "name": "stdout",
     "text": [
      "(14112, 18)\n(14112, 1)\n"
     ]
    }
   ],
   "source": [
    "df_res_qty_gn_m4_X = df_res_qty_gn_m4_en.drop(columns=['PricePerUnit'])\n",
    "df_res_qty_gn_m4_y = df_res_qty_gn_m4_en[['PricePerUnit']]\n",
    "print(df_res_qty_gn_m4_X.shape)\n",
    "print(df_res_qty_gn_m4_y.shape)"
   ]
  },
  {
   "cell_type": "code",
   "execution_count": 51,
   "metadata": {},
   "outputs": [
    {
     "output_type": "execute_result",
     "data": {
      "text/plain": [
       "0.27635270110849963"
      ]
     },
     "metadata": {},
     "execution_count": 51
    }
   ],
   "source": [
    "df_res_qty_gn_m4_train_X, df_res_qty_gn_m4_test_X, df_res_qty_gn_m4_train_y, df_res_qty_gn_m4_test_y = train_test_split(df_res_qty_gn_m4_X, df_res_qty_gn_m4_y, test_size = 0.2, random_state=18)\n",
    "\n",
    "df_res_qty_gn_m4_lin_reg_mod = LinearRegression()\n",
    "df_res_qty_gn_m4_lin_reg_mod.fit(df_res_qty_gn_m4_train_X, df_res_qty_gn_m4_train_y)\n",
    "\n",
    "df_res_qty_gn_m4_lr_pred = df_res_qty_gn_m4_lin_reg_mod.predict(df_res_qty_gn_m4_test_X)\n",
    "\n",
    "df_res_qty_gn_m4_lr_score = r2_score(df_res_qty_gn_m4_test_y, df_res_qty_gn_m4_lr_pred)\n",
    "df_res_qty_gn_m4_lr_score"
   ]
  },
  {
   "cell_type": "code",
   "execution_count": 52,
   "metadata": {},
   "outputs": [],
   "source": [
    "# df_reserved_quantity_general.drop('Year', inplace=True, axis=1)"
   ]
  },
  {
   "cell_type": "code",
   "execution_count": 53,
   "metadata": {},
   "outputs": [],
   "source": [
    "# df_reserved_quantity_general.drop(['Memory','vCPU', 'Network_Performance', 'Clock_Speed'], inplace=True, axis=1)"
   ]
  },
  {
   "cell_type": "code",
   "execution_count": 54,
   "metadata": {},
   "outputs": [
    {
     "output_type": "execute_result",
     "data": {
      "text/plain": [
       "         PricePerUnit LeaseContractLength OfferingClass       Location  \\\n",
       "4              6972.0                 3yr   convertible        US East   \n",
       "14             2028.0                 3yr      standard   Asia Pacific   \n",
       "27            20835.0                 3yr      standard        US West   \n",
       "28            40369.0                 1yr      standard             EU   \n",
       "73           114945.0                 3yr   convertible   Asia Pacific   \n",
       "...               ...                 ...           ...            ...   \n",
       "1897237        1214.0                 1yr   convertible  South America   \n",
       "1897243        2810.0                 3yr      standard             EU   \n",
       "1897246       59415.0                 1yr   convertible   Asia Pacific   \n",
       "1897247        9091.0                 3yr      standard   Asia Pacific   \n",
       "1897250        1632.0                 3yr   convertible        US West   \n",
       "\n",
       "         Instance_Type Memory  vCPU  Network_Performance  Clock_Speed  Year  \n",
       "4             m4.large      8   2.0                    5          2.4  2018  \n",
       "14            t2.large      8   2.0                    4          3.3  2017  \n",
       "27       m5zn.12xlarge    192  48.0                    9          4.5  2020  \n",
       "28        m5a.24xlarge    384  96.0                    5          2.5  2020  \n",
       "73        m5d.24xlarge    384  96.0                    8          3.1  2019  \n",
       "...                ...    ...   ...                  ...          ...   ...  \n",
       "1897237       m5.large      8   2.0                    2          3.1  2019  \n",
       "1897243      t3.medium      4   2.0                    1          3.1  2020  \n",
       "1897246    m5d.4xlarge     64  16.0                    2          3.1  2018  \n",
       "1897247    m5zn.xlarge     16   4.0                    7          4.5  2020  \n",
       "1897250      m4.xlarge     16   4.0                    6          2.4  2017  \n",
       "\n",
       "[190676 rows x 10 columns]"
      ],
      "text/html": "<div>\n<style scoped>\n    .dataframe tbody tr th:only-of-type {\n        vertical-align: middle;\n    }\n\n    .dataframe tbody tr th {\n        vertical-align: top;\n    }\n\n    .dataframe thead th {\n        text-align: right;\n    }\n</style>\n<table border=\"1\" class=\"dataframe\">\n  <thead>\n    <tr style=\"text-align: right;\">\n      <th></th>\n      <th>PricePerUnit</th>\n      <th>LeaseContractLength</th>\n      <th>OfferingClass</th>\n      <th>Location</th>\n      <th>Instance_Type</th>\n      <th>Memory</th>\n      <th>vCPU</th>\n      <th>Network_Performance</th>\n      <th>Clock_Speed</th>\n      <th>Year</th>\n    </tr>\n  </thead>\n  <tbody>\n    <tr>\n      <th>4</th>\n      <td>6972.0</td>\n      <td>3yr</td>\n      <td>convertible</td>\n      <td>US East</td>\n      <td>m4.large</td>\n      <td>8</td>\n      <td>2.0</td>\n      <td>5</td>\n      <td>2.4</td>\n      <td>2018</td>\n    </tr>\n    <tr>\n      <th>14</th>\n      <td>2028.0</td>\n      <td>3yr</td>\n      <td>standard</td>\n      <td>Asia Pacific</td>\n      <td>t2.large</td>\n      <td>8</td>\n      <td>2.0</td>\n      <td>4</td>\n      <td>3.3</td>\n      <td>2017</td>\n    </tr>\n    <tr>\n      <th>27</th>\n      <td>20835.0</td>\n      <td>3yr</td>\n      <td>standard</td>\n      <td>US West</td>\n      <td>m5zn.12xlarge</td>\n      <td>192</td>\n      <td>48.0</td>\n      <td>9</td>\n      <td>4.5</td>\n      <td>2020</td>\n    </tr>\n    <tr>\n      <th>28</th>\n      <td>40369.0</td>\n      <td>1yr</td>\n      <td>standard</td>\n      <td>EU</td>\n      <td>m5a.24xlarge</td>\n      <td>384</td>\n      <td>96.0</td>\n      <td>5</td>\n      <td>2.5</td>\n      <td>2020</td>\n    </tr>\n    <tr>\n      <th>73</th>\n      <td>114945.0</td>\n      <td>3yr</td>\n      <td>convertible</td>\n      <td>Asia Pacific</td>\n      <td>m5d.24xlarge</td>\n      <td>384</td>\n      <td>96.0</td>\n      <td>8</td>\n      <td>3.1</td>\n      <td>2019</td>\n    </tr>\n    <tr>\n      <th>...</th>\n      <td>...</td>\n      <td>...</td>\n      <td>...</td>\n      <td>...</td>\n      <td>...</td>\n      <td>...</td>\n      <td>...</td>\n      <td>...</td>\n      <td>...</td>\n      <td>...</td>\n    </tr>\n    <tr>\n      <th>1897237</th>\n      <td>1214.0</td>\n      <td>1yr</td>\n      <td>convertible</td>\n      <td>South America</td>\n      <td>m5.large</td>\n      <td>8</td>\n      <td>2.0</td>\n      <td>2</td>\n      <td>3.1</td>\n      <td>2019</td>\n    </tr>\n    <tr>\n      <th>1897243</th>\n      <td>2810.0</td>\n      <td>3yr</td>\n      <td>standard</td>\n      <td>EU</td>\n      <td>t3.medium</td>\n      <td>4</td>\n      <td>2.0</td>\n      <td>1</td>\n      <td>3.1</td>\n      <td>2020</td>\n    </tr>\n    <tr>\n      <th>1897246</th>\n      <td>59415.0</td>\n      <td>1yr</td>\n      <td>convertible</td>\n      <td>Asia Pacific</td>\n      <td>m5d.4xlarge</td>\n      <td>64</td>\n      <td>16.0</td>\n      <td>2</td>\n      <td>3.1</td>\n      <td>2018</td>\n    </tr>\n    <tr>\n      <th>1897247</th>\n      <td>9091.0</td>\n      <td>3yr</td>\n      <td>standard</td>\n      <td>Asia Pacific</td>\n      <td>m5zn.xlarge</td>\n      <td>16</td>\n      <td>4.0</td>\n      <td>7</td>\n      <td>4.5</td>\n      <td>2020</td>\n    </tr>\n    <tr>\n      <th>1897250</th>\n      <td>1632.0</td>\n      <td>3yr</td>\n      <td>convertible</td>\n      <td>US West</td>\n      <td>m4.xlarge</td>\n      <td>16</td>\n      <td>4.0</td>\n      <td>6</td>\n      <td>2.4</td>\n      <td>2017</td>\n    </tr>\n  </tbody>\n</table>\n<p>190676 rows × 10 columns</p>\n</div>"
     },
     "metadata": {},
     "execution_count": 54
    }
   ],
   "source": [
    "df_reserved_quantity_general"
   ]
  },
  {
   "cell_type": "code",
   "execution_count": 55,
   "metadata": {},
   "outputs": [
    {
     "output_type": "stream",
     "name": "stderr",
     "text": [
      "C:\\Users\\shali\\AppData\\Local\\Programs\\Python\\Python37\\lib\\site-packages\\pandas\\core\\frame.py:4315: SettingWithCopyWarning: \n",
      "A value is trying to be set on a copy of a slice from a DataFrame\n",
      "\n",
      "See the caveats in the documentation: https://pandas.pydata.org/pandas-docs/stable/user_guide/indexing.html#returning-a-view-versus-a-copy\n",
      "  errors=errors,\n",
      "C:\\Users\\shali\\AppData\\Local\\Programs\\Python\\Python37\\lib\\site-packages\\pandas\\core\\frame.py:4315: SettingWithCopyWarning: \n",
      "A value is trying to be set on a copy of a slice from a DataFrame\n",
      "\n",
      "See the caveats in the documentation: https://pandas.pydata.org/pandas-docs/stable/user_guide/indexing.html#returning-a-view-versus-a-copy\n",
      "  errors=errors,\n",
      "t4g : 0.5586055611211223\n",
      "t3 : 0.26386485275752447\n",
      "t3a : 0.2652327787348704\n",
      "C:\\Users\\shali\\AppData\\Local\\Programs\\Python\\Python37\\lib\\site-packages\\pandas\\core\\frame.py:4315: SettingWithCopyWarning: \n",
      "A value is trying to be set on a copy of a slice from a DataFrame\n",
      "\n",
      "See the caveats in the documentation: https://pandas.pydata.org/pandas-docs/stable/user_guide/indexing.html#returning-a-view-versus-a-copy\n",
      "  errors=errors,\n",
      "C:\\Users\\shali\\AppData\\Local\\Programs\\Python\\Python37\\lib\\site-packages\\pandas\\core\\frame.py:4315: SettingWithCopyWarning: \n",
      "A value is trying to be set on a copy of a slice from a DataFrame\n",
      "\n",
      "See the caveats in the documentation: https://pandas.pydata.org/pandas-docs/stable/user_guide/indexing.html#returning-a-view-versus-a-copy\n",
      "  errors=errors,\n",
      "t2 : 0.30940962212979006\n",
      "m6g : 0.711542567164416C:\\Users\\shali\\AppData\\Local\\Programs\\Python\\Python37\\lib\\site-packages\\pandas\\core\\frame.py:4315: SettingWithCopyWarning: \n",
      "A value is trying to be set on a copy of a slice from a DataFrame\n",
      "\n",
      "See the caveats in the documentation: https://pandas.pydata.org/pandas-docs/stable/user_guide/indexing.html#returning-a-view-versus-a-copy\n",
      "  errors=errors,\n",
      "\n",
      "C:\\Users\\shali\\AppData\\Local\\Programs\\Python\\Python37\\lib\\site-packages\\pandas\\core\\frame.py:4315: SettingWithCopyWarning: \n",
      "A value is trying to be set on a copy of a slice from a DataFrame\n",
      "\n",
      "See the caveats in the documentation: https://pandas.pydata.org/pandas-docs/stable/user_guide/indexing.html#returning-a-view-versus-a-copy\n",
      "  errors=errors,\n",
      "m5 : 0.2684903246922038\n",
      "C:\\Users\\shali\\AppData\\Local\\Programs\\Python\\Python37\\lib\\site-packages\\pandas\\core\\frame.py:4315: SettingWithCopyWarning: \n",
      "A value is trying to be set on a copy of a slice from a DataFrame\n",
      "\n",
      "See the caveats in the documentation: https://pandas.pydata.org/pandas-docs/stable/user_guide/indexing.html#returning-a-view-versus-a-copy\n",
      "  errors=errors,\n",
      "m4 : 0.2774146179070013\n",
      "a1 : 0.5577825502957262\n",
      "C:\\Users\\shali\\AppData\\Local\\Programs\\Python\\Python37\\lib\\site-packages\\pandas\\core\\frame.py:4315: SettingWithCopyWarning: \n",
      "A value is trying to be set on a copy of a slice from a DataFrame\n",
      "\n",
      "See the caveats in the documentation: https://pandas.pydata.org/pandas-docs/stable/user_guide/indexing.html#returning-a-view-versus-a-copy\n",
      "  errors=errors,\n"
     ]
    }
   ],
   "source": [
    "def getModelForCatogery(dfName, colName, filterValue, dummyCols):\n",
    "    dfTemp = dfName[dfName[colName].str.contains(filterValue)]\n",
    "    dfTemp.drop(dfTemp[dfTemp[colName] == filterValue].index, inplace = True)\n",
    "    dfTemp = getDummiesMultiple(dummyCols, dfTemp, dummyCols)\n",
    "    dfTemp_X = dfTemp.drop(columns=['PricePerUnit'])\n",
    "    dfTemp_y = dfTemp[['PricePerUnit']]\n",
    "    dfTemp_train_X, dfTemp_test_X, dfTemp_train_y, dfTemp_test_y = train_test_split(dfTemp_X, dfTemp_y, test_size = 0.2, random_state=18)\n",
    "    dfTemp_mod = LinearRegression()\n",
    "    dfTemp_mod.fit(dfTemp_train_X, dfTemp_train_y)\n",
    "    dfTemp_pred = dfTemp_mod.predict(dfTemp_test_X)\n",
    "    dfTemp_score = r2_score(dfTemp_test_y, dfTemp_pred)\n",
    "    return [dfTemp_mod, dfTemp_score]\n",
    "\n",
    "def getModelScores(dfName, colName, filterValues, dummyCols):\n",
    "    for filterValue in filterValues:\n",
    "        [dfTemp_mod, dfTemp_score] = getModelForCatogery(dfName, colName, filterValue, dummyCols)\n",
    "        print(filterValue + ' : ' + str(dfTemp_score))\n",
    "\n",
    "dummyCols = ['Instance_Type', 'OfferingClass', 'LeaseContractLength', 'Location', 'Year']\n",
    "getModelScores(df_reserved_quantity_general, 'Instance_Type', ['t4g', 't3', 't3a', 't2', 'm6g', 'm5', 'm4', 'a1'], dummyCols)"
   ]
  },
  {
   "cell_type": "code",
   "execution_count": 56,
   "metadata": {},
   "outputs": [
    {
     "output_type": "execute_result",
     "data": {
      "text/plain": [
       "         PricePerUnit LeaseContractLength OfferingClass       Location  \\\n",
       "4              6972.0                 3yr   convertible        US East   \n",
       "14             2028.0                 3yr      standard   Asia Pacific   \n",
       "27            20835.0                 3yr      standard        US West   \n",
       "28            40369.0                 1yr      standard             EU   \n",
       "73           114945.0                 3yr   convertible   Asia Pacific   \n",
       "...               ...                 ...           ...            ...   \n",
       "1897237        1214.0                 1yr   convertible  South America   \n",
       "1897243        2810.0                 3yr      standard             EU   \n",
       "1897246       59415.0                 1yr   convertible   Asia Pacific   \n",
       "1897247        9091.0                 3yr      standard   Asia Pacific   \n",
       "1897250        1632.0                 3yr   convertible        US West   \n",
       "\n",
       "         Instance_Type Memory  vCPU  Network_Performance  Clock_Speed  Year  \n",
       "4             m4.large      8   2.0                    5          2.4  2018  \n",
       "14            t2.large      8   2.0                    4          3.3  2017  \n",
       "27       m5zn.12xlarge    192  48.0                    9          4.5  2020  \n",
       "28        m5a.24xlarge    384  96.0                    5          2.5  2020  \n",
       "73        m5d.24xlarge    384  96.0                    8          3.1  2019  \n",
       "...                ...    ...   ...                  ...          ...   ...  \n",
       "1897237       m5.large      8   2.0                    2          3.1  2019  \n",
       "1897243      t3.medium      4   2.0                    1          3.1  2020  \n",
       "1897246    m5d.4xlarge     64  16.0                    2          3.1  2018  \n",
       "1897247    m5zn.xlarge     16   4.0                    7          4.5  2020  \n",
       "1897250      m4.xlarge     16   4.0                    6          2.4  2017  \n",
       "\n",
       "[190676 rows x 10 columns]"
      ],
      "text/html": "<div>\n<style scoped>\n    .dataframe tbody tr th:only-of-type {\n        vertical-align: middle;\n    }\n\n    .dataframe tbody tr th {\n        vertical-align: top;\n    }\n\n    .dataframe thead th {\n        text-align: right;\n    }\n</style>\n<table border=\"1\" class=\"dataframe\">\n  <thead>\n    <tr style=\"text-align: right;\">\n      <th></th>\n      <th>PricePerUnit</th>\n      <th>LeaseContractLength</th>\n      <th>OfferingClass</th>\n      <th>Location</th>\n      <th>Instance_Type</th>\n      <th>Memory</th>\n      <th>vCPU</th>\n      <th>Network_Performance</th>\n      <th>Clock_Speed</th>\n      <th>Year</th>\n    </tr>\n  </thead>\n  <tbody>\n    <tr>\n      <th>4</th>\n      <td>6972.0</td>\n      <td>3yr</td>\n      <td>convertible</td>\n      <td>US East</td>\n      <td>m4.large</td>\n      <td>8</td>\n      <td>2.0</td>\n      <td>5</td>\n      <td>2.4</td>\n      <td>2018</td>\n    </tr>\n    <tr>\n      <th>14</th>\n      <td>2028.0</td>\n      <td>3yr</td>\n      <td>standard</td>\n      <td>Asia Pacific</td>\n      <td>t2.large</td>\n      <td>8</td>\n      <td>2.0</td>\n      <td>4</td>\n      <td>3.3</td>\n      <td>2017</td>\n    </tr>\n    <tr>\n      <th>27</th>\n      <td>20835.0</td>\n      <td>3yr</td>\n      <td>standard</td>\n      <td>US West</td>\n      <td>m5zn.12xlarge</td>\n      <td>192</td>\n      <td>48.0</td>\n      <td>9</td>\n      <td>4.5</td>\n      <td>2020</td>\n    </tr>\n    <tr>\n      <th>28</th>\n      <td>40369.0</td>\n      <td>1yr</td>\n      <td>standard</td>\n      <td>EU</td>\n      <td>m5a.24xlarge</td>\n      <td>384</td>\n      <td>96.0</td>\n      <td>5</td>\n      <td>2.5</td>\n      <td>2020</td>\n    </tr>\n    <tr>\n      <th>73</th>\n      <td>114945.0</td>\n      <td>3yr</td>\n      <td>convertible</td>\n      <td>Asia Pacific</td>\n      <td>m5d.24xlarge</td>\n      <td>384</td>\n      <td>96.0</td>\n      <td>8</td>\n      <td>3.1</td>\n      <td>2019</td>\n    </tr>\n    <tr>\n      <th>...</th>\n      <td>...</td>\n      <td>...</td>\n      <td>...</td>\n      <td>...</td>\n      <td>...</td>\n      <td>...</td>\n      <td>...</td>\n      <td>...</td>\n      <td>...</td>\n      <td>...</td>\n    </tr>\n    <tr>\n      <th>1897237</th>\n      <td>1214.0</td>\n      <td>1yr</td>\n      <td>convertible</td>\n      <td>South America</td>\n      <td>m5.large</td>\n      <td>8</td>\n      <td>2.0</td>\n      <td>2</td>\n      <td>3.1</td>\n      <td>2019</td>\n    </tr>\n    <tr>\n      <th>1897243</th>\n      <td>2810.0</td>\n      <td>3yr</td>\n      <td>standard</td>\n      <td>EU</td>\n      <td>t3.medium</td>\n      <td>4</td>\n      <td>2.0</td>\n      <td>1</td>\n      <td>3.1</td>\n      <td>2020</td>\n    </tr>\n    <tr>\n      <th>1897246</th>\n      <td>59415.0</td>\n      <td>1yr</td>\n      <td>convertible</td>\n      <td>Asia Pacific</td>\n      <td>m5d.4xlarge</td>\n      <td>64</td>\n      <td>16.0</td>\n      <td>2</td>\n      <td>3.1</td>\n      <td>2018</td>\n    </tr>\n    <tr>\n      <th>1897247</th>\n      <td>9091.0</td>\n      <td>3yr</td>\n      <td>standard</td>\n      <td>Asia Pacific</td>\n      <td>m5zn.xlarge</td>\n      <td>16</td>\n      <td>4.0</td>\n      <td>7</td>\n      <td>4.5</td>\n      <td>2020</td>\n    </tr>\n    <tr>\n      <th>1897250</th>\n      <td>1632.0</td>\n      <td>3yr</td>\n      <td>convertible</td>\n      <td>US West</td>\n      <td>m4.xlarge</td>\n      <td>16</td>\n      <td>4.0</td>\n      <td>6</td>\n      <td>2.4</td>\n      <td>2017</td>\n    </tr>\n  </tbody>\n</table>\n<p>190676 rows × 10 columns</p>\n</div>"
     },
     "metadata": {},
     "execution_count": 56
    }
   ],
   "source": [
    "# We can get RAM, CPU, Network_Performance instead of Instance_Type column\n",
    "df_rs_qty_gn_rcn = df_reserved_quantity_general.copy()\n",
    "df_rs_qty_gn_rcn"
   ]
  },
  {
   "cell_type": "code",
   "execution_count": 57,
   "metadata": {},
   "outputs": [
    {
     "output_type": "execute_result",
     "data": {
      "text/plain": [
       "         PricePerUnit LeaseContractLength OfferingClass       Location Memory  \\\n",
       "4              6972.0                 3yr   convertible        US East      8   \n",
       "14             2028.0                 3yr      standard   Asia Pacific      8   \n",
       "27            20835.0                 3yr      standard        US West    192   \n",
       "28            40369.0                 1yr      standard             EU    384   \n",
       "73           114945.0                 3yr   convertible   Asia Pacific    384   \n",
       "...               ...                 ...           ...            ...    ...   \n",
       "1897237        1214.0                 1yr   convertible  South America      8   \n",
       "1897243        2810.0                 3yr      standard             EU      4   \n",
       "1897246       59415.0                 1yr   convertible   Asia Pacific     64   \n",
       "1897247        9091.0                 3yr      standard   Asia Pacific     16   \n",
       "1897250        1632.0                 3yr   convertible        US West     16   \n",
       "\n",
       "         vCPU  Network_Performance  Clock_Speed  Year  \n",
       "4         2.0                    5          2.4  2018  \n",
       "14        2.0                    4          3.3  2017  \n",
       "27       48.0                    9          4.5  2020  \n",
       "28       96.0                    5          2.5  2020  \n",
       "73       96.0                    8          3.1  2019  \n",
       "...       ...                  ...          ...   ...  \n",
       "1897237   2.0                    2          3.1  2019  \n",
       "1897243   2.0                    1          3.1  2020  \n",
       "1897246  16.0                    2          3.1  2018  \n",
       "1897247   4.0                    7          4.5  2020  \n",
       "1897250   4.0                    6          2.4  2017  \n",
       "\n",
       "[190676 rows x 9 columns]"
      ],
      "text/html": "<div>\n<style scoped>\n    .dataframe tbody tr th:only-of-type {\n        vertical-align: middle;\n    }\n\n    .dataframe tbody tr th {\n        vertical-align: top;\n    }\n\n    .dataframe thead th {\n        text-align: right;\n    }\n</style>\n<table border=\"1\" class=\"dataframe\">\n  <thead>\n    <tr style=\"text-align: right;\">\n      <th></th>\n      <th>PricePerUnit</th>\n      <th>LeaseContractLength</th>\n      <th>OfferingClass</th>\n      <th>Location</th>\n      <th>Memory</th>\n      <th>vCPU</th>\n      <th>Network_Performance</th>\n      <th>Clock_Speed</th>\n      <th>Year</th>\n    </tr>\n  </thead>\n  <tbody>\n    <tr>\n      <th>4</th>\n      <td>6972.0</td>\n      <td>3yr</td>\n      <td>convertible</td>\n      <td>US East</td>\n      <td>8</td>\n      <td>2.0</td>\n      <td>5</td>\n      <td>2.4</td>\n      <td>2018</td>\n    </tr>\n    <tr>\n      <th>14</th>\n      <td>2028.0</td>\n      <td>3yr</td>\n      <td>standard</td>\n      <td>Asia Pacific</td>\n      <td>8</td>\n      <td>2.0</td>\n      <td>4</td>\n      <td>3.3</td>\n      <td>2017</td>\n    </tr>\n    <tr>\n      <th>27</th>\n      <td>20835.0</td>\n      <td>3yr</td>\n      <td>standard</td>\n      <td>US West</td>\n      <td>192</td>\n      <td>48.0</td>\n      <td>9</td>\n      <td>4.5</td>\n      <td>2020</td>\n    </tr>\n    <tr>\n      <th>28</th>\n      <td>40369.0</td>\n      <td>1yr</td>\n      <td>standard</td>\n      <td>EU</td>\n      <td>384</td>\n      <td>96.0</td>\n      <td>5</td>\n      <td>2.5</td>\n      <td>2020</td>\n    </tr>\n    <tr>\n      <th>73</th>\n      <td>114945.0</td>\n      <td>3yr</td>\n      <td>convertible</td>\n      <td>Asia Pacific</td>\n      <td>384</td>\n      <td>96.0</td>\n      <td>8</td>\n      <td>3.1</td>\n      <td>2019</td>\n    </tr>\n    <tr>\n      <th>...</th>\n      <td>...</td>\n      <td>...</td>\n      <td>...</td>\n      <td>...</td>\n      <td>...</td>\n      <td>...</td>\n      <td>...</td>\n      <td>...</td>\n      <td>...</td>\n    </tr>\n    <tr>\n      <th>1897237</th>\n      <td>1214.0</td>\n      <td>1yr</td>\n      <td>convertible</td>\n      <td>South America</td>\n      <td>8</td>\n      <td>2.0</td>\n      <td>2</td>\n      <td>3.1</td>\n      <td>2019</td>\n    </tr>\n    <tr>\n      <th>1897243</th>\n      <td>2810.0</td>\n      <td>3yr</td>\n      <td>standard</td>\n      <td>EU</td>\n      <td>4</td>\n      <td>2.0</td>\n      <td>1</td>\n      <td>3.1</td>\n      <td>2020</td>\n    </tr>\n    <tr>\n      <th>1897246</th>\n      <td>59415.0</td>\n      <td>1yr</td>\n      <td>convertible</td>\n      <td>Asia Pacific</td>\n      <td>64</td>\n      <td>16.0</td>\n      <td>2</td>\n      <td>3.1</td>\n      <td>2018</td>\n    </tr>\n    <tr>\n      <th>1897247</th>\n      <td>9091.0</td>\n      <td>3yr</td>\n      <td>standard</td>\n      <td>Asia Pacific</td>\n      <td>16</td>\n      <td>4.0</td>\n      <td>7</td>\n      <td>4.5</td>\n      <td>2020</td>\n    </tr>\n    <tr>\n      <th>1897250</th>\n      <td>1632.0</td>\n      <td>3yr</td>\n      <td>convertible</td>\n      <td>US West</td>\n      <td>16</td>\n      <td>4.0</td>\n      <td>6</td>\n      <td>2.4</td>\n      <td>2017</td>\n    </tr>\n  </tbody>\n</table>\n<p>190676 rows × 9 columns</p>\n</div>"
     },
     "metadata": {},
     "execution_count": 57
    }
   ],
   "source": [
    "df_rs_qty_gn_rcn.drop('Instance_Type', inplace=True, axis=1)\n",
    "df_rs_qty_gn_rcn"
   ]
  },
  {
   "cell_type": "code",
   "execution_count": 58,
   "metadata": {},
   "outputs": [
    {
     "output_type": "execute_result",
     "data": {
      "text/plain": [
       "7.0"
      ]
     },
     "metadata": {},
     "execution_count": 58
    }
   ],
   "source": [
    "minvalue = df_rs_qty_gn_rcn['PricePerUnit'].min() \n",
    "minvalue"
   ]
  },
  {
   "cell_type": "code",
   "execution_count": 59,
   "metadata": {},
   "outputs": [
    {
     "output_type": "execute_result",
     "data": {
      "text/plain": [
       "59110.98294489081"
      ]
     },
     "metadata": {},
     "execution_count": 59
    }
   ],
   "source": [
    "meanvalue = df_rs_qty_gn_rcn['PricePerUnit'].mean() \n",
    "meanvalue"
   ]
  },
  {
   "cell_type": "code",
   "execution_count": 60,
   "metadata": {},
   "outputs": [
    {
     "output_type": "execute_result",
     "data": {
      "text/plain": [
       "    PricePerUnit  LeaseContractLength OfferingClass      Location Memory  \\\n",
       "4         6972.0                    3   convertible       US East      8   \n",
       "14        2028.0                    3      standard  Asia Pacific      8   \n",
       "27       20835.0                    3      standard       US West    192   \n",
       "28       40369.0                    1      standard            EU    384   \n",
       "73      114945.0                    3   convertible  Asia Pacific    384   \n",
       "\n",
       "    vCPU  Network_Performance  Clock_Speed  Year  \n",
       "4    2.0                    5          2.4  2018  \n",
       "14   2.0                    4          3.3  2017  \n",
       "27  48.0                    9          4.5  2020  \n",
       "28  96.0                    5          2.5  2020  \n",
       "73  96.0                    8          3.1  2019  "
      ],
      "text/html": "<div>\n<style scoped>\n    .dataframe tbody tr th:only-of-type {\n        vertical-align: middle;\n    }\n\n    .dataframe tbody tr th {\n        vertical-align: top;\n    }\n\n    .dataframe thead th {\n        text-align: right;\n    }\n</style>\n<table border=\"1\" class=\"dataframe\">\n  <thead>\n    <tr style=\"text-align: right;\">\n      <th></th>\n      <th>PricePerUnit</th>\n      <th>LeaseContractLength</th>\n      <th>OfferingClass</th>\n      <th>Location</th>\n      <th>Memory</th>\n      <th>vCPU</th>\n      <th>Network_Performance</th>\n      <th>Clock_Speed</th>\n      <th>Year</th>\n    </tr>\n  </thead>\n  <tbody>\n    <tr>\n      <th>4</th>\n      <td>6972.0</td>\n      <td>3</td>\n      <td>convertible</td>\n      <td>US East</td>\n      <td>8</td>\n      <td>2.0</td>\n      <td>5</td>\n      <td>2.4</td>\n      <td>2018</td>\n    </tr>\n    <tr>\n      <th>14</th>\n      <td>2028.0</td>\n      <td>3</td>\n      <td>standard</td>\n      <td>Asia Pacific</td>\n      <td>8</td>\n      <td>2.0</td>\n      <td>4</td>\n      <td>3.3</td>\n      <td>2017</td>\n    </tr>\n    <tr>\n      <th>27</th>\n      <td>20835.0</td>\n      <td>3</td>\n      <td>standard</td>\n      <td>US West</td>\n      <td>192</td>\n      <td>48.0</td>\n      <td>9</td>\n      <td>4.5</td>\n      <td>2020</td>\n    </tr>\n    <tr>\n      <th>28</th>\n      <td>40369.0</td>\n      <td>1</td>\n      <td>standard</td>\n      <td>EU</td>\n      <td>384</td>\n      <td>96.0</td>\n      <td>5</td>\n      <td>2.5</td>\n      <td>2020</td>\n    </tr>\n    <tr>\n      <th>73</th>\n      <td>114945.0</td>\n      <td>3</td>\n      <td>convertible</td>\n      <td>Asia Pacific</td>\n      <td>384</td>\n      <td>96.0</td>\n      <td>8</td>\n      <td>3.1</td>\n      <td>2019</td>\n    </tr>\n  </tbody>\n</table>\n</div>"
     },
     "metadata": {},
     "execution_count": 60
    }
   ],
   "source": [
    "cleanup_nums = {\"LeaseContractLength\":     {\"1yr\": 1, \"3yr\": 3}}\n",
    "df_rs_qty_gn_rcn = df_rs_qty_gn_rcn.replace(cleanup_nums)\n",
    "df_rs_qty_gn_rcn.head()"
   ]
  },
  {
   "cell_type": "code",
   "execution_count": 61,
   "metadata": {},
   "outputs": [
    {
     "output_type": "execute_result",
     "data": {
      "text/plain": [
       "Year\n",
       "2016     3781\n",
       "2017    15807\n",
       "2018    26000\n",
       "2019    42032\n",
       "2020    96512\n",
       "2021     6544\n",
       "Name: PricePerUnit, dtype: int64"
      ]
     },
     "metadata": {},
     "execution_count": 61
    }
   ],
   "source": [
    "df_rs_qty_gn_rcn.groupby(['Year'])['PricePerUnit'].count()"
   ]
  },
  {
   "cell_type": "code",
   "execution_count": 62,
   "metadata": {},
   "outputs": [
    {
     "output_type": "execute_result",
     "data": {
      "text/plain": [
       "Year\n",
       "2017    15807\n",
       "2018    26000\n",
       "2019    42032\n",
       "2020    96512\n",
       "Name: PricePerUnit, dtype: int64"
      ]
     },
     "metadata": {},
     "execution_count": 62
    }
   ],
   "source": [
    "# Lack of the data in Year, we can remove 2016, and 2021 data before training\n",
    "df_rs_qty_gn_rcn.drop(df_rs_qty_gn_rcn.index[(df_rs_qty_gn_rcn[\"Year\"] == 2016)],axis=0,inplace=True)\n",
    "df_rs_qty_gn_rcn.drop(df_rs_qty_gn_rcn.index[(df_rs_qty_gn_rcn[\"Year\"] == 2021)],axis=0,inplace=True)\n",
    "df_rs_qty_gn_rcn.groupby(['Year'])['PricePerUnit'].count()"
   ]
  },
  {
   "cell_type": "code",
   "execution_count": 63,
   "metadata": {},
   "outputs": [
    {
     "output_type": "execute_result",
     "data": {
      "text/plain": [
       "Location\n",
       "AWS GovCloud     14616\n",
       "Africa            3568\n",
       "Asia Pacific     51186\n",
       "Canada            7712\n",
       "EU               45310\n",
       "Middle East       3192\n",
       "South America     9064\n",
       "US East          24292\n",
       "US West          21411\n",
       "Name: PricePerUnit, dtype: int64"
      ]
     },
     "metadata": {},
     "execution_count": 63
    }
   ],
   "source": [
    "df_rs_qty_gn_rcn.groupby(['Location'])['PricePerUnit'].count() "
   ]
  },
  {
   "cell_type": "code",
   "execution_count": 64,
   "metadata": {},
   "outputs": [
    {
     "output_type": "execute_result",
     "data": {
      "text/plain": [
       "Location\n",
       "AWS GovCloud     66.2\n",
       "Africa           68.8\n",
       "Asia Pacific     60.5\n",
       "Canada           57.7\n",
       "EU               62.6\n",
       "Middle East      75.0\n",
       "South America    59.6\n",
       "US East          57.8\n",
       "US West          57.4\n",
       "Name: PricePerUnit, dtype: float64"
      ]
     },
     "metadata": {},
     "execution_count": 64
    }
   ],
   "source": [
    "(df_rs_qty_gn_rcn.groupby(['Location'])['PricePerUnit'].mean()/1000).round(1)"
   ]
  },
  {
   "cell_type": "code",
   "execution_count": 65,
   "metadata": {},
   "outputs": [
    {
     "output_type": "execute_result",
     "data": {
      "text/plain": [
       "OfferingClass\n",
       "convertible    61921.47\n",
       "standard       60106.92\n",
       "Name: PricePerUnit, dtype: float64"
      ]
     },
     "metadata": {},
     "execution_count": 65
    }
   ],
   "source": [
    "df_rs_qty_gn_rcn.groupby(['OfferingClass'])['PricePerUnit'].mean().round(2)"
   ]
  },
  {
   "cell_type": "code",
   "execution_count": 66,
   "metadata": {},
   "outputs": [
    {
     "output_type": "execute_result",
     "data": {
      "text/plain": [
       "Year\n",
       "2017    28924.12\n",
       "2018    58817.11\n",
       "2019    65511.86\n",
       "2020    64889.95\n",
       "Name: PricePerUnit, dtype: float64"
      ]
     },
     "metadata": {},
     "execution_count": 66
    }
   ],
   "source": [
    "df_rs_qty_gn_rcn.groupby(['Year'])['PricePerUnit'].mean().round(2)"
   ]
  },
  {
   "cell_type": "code",
   "execution_count": 67,
   "metadata": {},
   "outputs": [],
   "source": [
    "# Now we get label for these three column\n",
    "location_type = {\n",
    "      'US West':1,    \n",
    "      'Canada':2,     \n",
    "      'US East':3, \n",
    "      'South America':4,\n",
    "      'Asia Pacific':5,\n",
    "      'EU':6,\n",
    "      'AWS GovCloud':7,\n",
    "      'Africa':8,\n",
    "      'Middle East':9         \n",
    "}     \n",
    "\n",
    "offeringClass = {\n",
    "    'standard':1,\n",
    "    'convertible':2\n",
    "}\n",
    "\n",
    "year = {\n",
    "    2017:1,      \n",
    "    2018:2,  \n",
    "    2019:3,               \n",
    "    2020:4         \n",
    "}\n",
    "  \n",
    "def set_location(model, location_type):\n",
    "    model['Location'] = model.apply (lambda row: row['Location'], axis=1)\n",
    "    model['Location'] = model.Location.map (location_type)\n",
    "    return model;\n",
    "\n",
    "def set_offeringClass(model, offeringClass):\n",
    "    model['OfferingClass'] = model.apply (lambda row: row['OfferingClass'], axis=1)\n",
    "    model['OfferingClass'] = model.OfferingClass.map (offeringClass)\n",
    "    return model;\n",
    "\n",
    "def set_year(model, year):\n",
    "    model['Year'] = model.apply (lambda row: row['Year'], axis=1)\n",
    "    model['Year'] = model.Year.map (year)\n",
    "    return model;"
   ]
  },
  {
   "cell_type": "code",
   "execution_count": 68,
   "metadata": {},
   "outputs": [
    {
     "output_type": "execute_result",
     "data": {
      "text/plain": [
       "         PricePerUnit  LeaseContractLength  OfferingClass  Location Memory  \\\n",
       "4              6972.0                    3              2         3      8   \n",
       "14             2028.0                    3              1         5      8   \n",
       "27            20835.0                    3              1         1    192   \n",
       "28            40369.0                    1              1         6    384   \n",
       "73           114945.0                    3              2         5    384   \n",
       "...               ...                  ...            ...       ...    ...   \n",
       "1897237        1214.0                    1              2         4      8   \n",
       "1897243        2810.0                    3              1         6      4   \n",
       "1897246       59415.0                    1              2         5     64   \n",
       "1897247        9091.0                    3              1         5     16   \n",
       "1897250        1632.0                    3              2         1     16   \n",
       "\n",
       "         vCPU  Network_Performance  Clock_Speed  Year  \n",
       "4         2.0                    5          2.4     2  \n",
       "14        2.0                    4          3.3     1  \n",
       "27       48.0                    9          4.5     4  \n",
       "28       96.0                    5          2.5     4  \n",
       "73       96.0                    8          3.1     3  \n",
       "...       ...                  ...          ...   ...  \n",
       "1897237   2.0                    2          3.1     3  \n",
       "1897243   2.0                    1          3.1     4  \n",
       "1897246  16.0                    2          3.1     2  \n",
       "1897247   4.0                    7          4.5     4  \n",
       "1897250   4.0                    6          2.4     1  \n",
       "\n",
       "[180351 rows x 9 columns]"
      ],
      "text/html": "<div>\n<style scoped>\n    .dataframe tbody tr th:only-of-type {\n        vertical-align: middle;\n    }\n\n    .dataframe tbody tr th {\n        vertical-align: top;\n    }\n\n    .dataframe thead th {\n        text-align: right;\n    }\n</style>\n<table border=\"1\" class=\"dataframe\">\n  <thead>\n    <tr style=\"text-align: right;\">\n      <th></th>\n      <th>PricePerUnit</th>\n      <th>LeaseContractLength</th>\n      <th>OfferingClass</th>\n      <th>Location</th>\n      <th>Memory</th>\n      <th>vCPU</th>\n      <th>Network_Performance</th>\n      <th>Clock_Speed</th>\n      <th>Year</th>\n    </tr>\n  </thead>\n  <tbody>\n    <tr>\n      <th>4</th>\n      <td>6972.0</td>\n      <td>3</td>\n      <td>2</td>\n      <td>3</td>\n      <td>8</td>\n      <td>2.0</td>\n      <td>5</td>\n      <td>2.4</td>\n      <td>2</td>\n    </tr>\n    <tr>\n      <th>14</th>\n      <td>2028.0</td>\n      <td>3</td>\n      <td>1</td>\n      <td>5</td>\n      <td>8</td>\n      <td>2.0</td>\n      <td>4</td>\n      <td>3.3</td>\n      <td>1</td>\n    </tr>\n    <tr>\n      <th>27</th>\n      <td>20835.0</td>\n      <td>3</td>\n      <td>1</td>\n      <td>1</td>\n      <td>192</td>\n      <td>48.0</td>\n      <td>9</td>\n      <td>4.5</td>\n      <td>4</td>\n    </tr>\n    <tr>\n      <th>28</th>\n      <td>40369.0</td>\n      <td>1</td>\n      <td>1</td>\n      <td>6</td>\n      <td>384</td>\n      <td>96.0</td>\n      <td>5</td>\n      <td>2.5</td>\n      <td>4</td>\n    </tr>\n    <tr>\n      <th>73</th>\n      <td>114945.0</td>\n      <td>3</td>\n      <td>2</td>\n      <td>5</td>\n      <td>384</td>\n      <td>96.0</td>\n      <td>8</td>\n      <td>3.1</td>\n      <td>3</td>\n    </tr>\n    <tr>\n      <th>...</th>\n      <td>...</td>\n      <td>...</td>\n      <td>...</td>\n      <td>...</td>\n      <td>...</td>\n      <td>...</td>\n      <td>...</td>\n      <td>...</td>\n      <td>...</td>\n    </tr>\n    <tr>\n      <th>1897237</th>\n      <td>1214.0</td>\n      <td>1</td>\n      <td>2</td>\n      <td>4</td>\n      <td>8</td>\n      <td>2.0</td>\n      <td>2</td>\n      <td>3.1</td>\n      <td>3</td>\n    </tr>\n    <tr>\n      <th>1897243</th>\n      <td>2810.0</td>\n      <td>3</td>\n      <td>1</td>\n      <td>6</td>\n      <td>4</td>\n      <td>2.0</td>\n      <td>1</td>\n      <td>3.1</td>\n      <td>4</td>\n    </tr>\n    <tr>\n      <th>1897246</th>\n      <td>59415.0</td>\n      <td>1</td>\n      <td>2</td>\n      <td>5</td>\n      <td>64</td>\n      <td>16.0</td>\n      <td>2</td>\n      <td>3.1</td>\n      <td>2</td>\n    </tr>\n    <tr>\n      <th>1897247</th>\n      <td>9091.0</td>\n      <td>3</td>\n      <td>1</td>\n      <td>5</td>\n      <td>16</td>\n      <td>4.0</td>\n      <td>7</td>\n      <td>4.5</td>\n      <td>4</td>\n    </tr>\n    <tr>\n      <th>1897250</th>\n      <td>1632.0</td>\n      <td>3</td>\n      <td>2</td>\n      <td>1</td>\n      <td>16</td>\n      <td>4.0</td>\n      <td>6</td>\n      <td>2.4</td>\n      <td>1</td>\n    </tr>\n  </tbody>\n</table>\n<p>180351 rows × 9 columns</p>\n</div>"
     },
     "metadata": {},
     "execution_count": 68
    }
   ],
   "source": [
    "df_rs_qty_gn_rcn = set_location(df_rs_qty_gn_rcn, location_type);\n",
    "df_rs_qty_gn_rcn = set_offeringClass(df_rs_qty_gn_rcn, offeringClass);\n",
    "df_rs_qty_gn_rcn = set_year(df_rs_qty_gn_rcn, year);\n",
    "df_rs_qty_gn_rcn"
   ]
  },
  {
   "cell_type": "code",
   "execution_count": 69,
   "metadata": {},
   "outputs": [],
   "source": [
    "# def MeanEncodedColumns(columnNames):\n",
    "#     for columnName in columnNames:\n",
    "#         Mean_encoded_subject = (df_rs_qty_gn_rcn.groupby([columnName])['PricePerUnit'].mean()/1000).round(1).to_dict() \n",
    "#         df_rs_qty_gn_rcn[columnName] =  df_rs_qty_gn_rcn[columnName].map(Mean_encoded_subject) \n",
    "\n",
    "# columnNames = ['OfferingClass', 'Location', 'Year']\n",
    "# MeanEncodedColumns(columnNames)\n",
    "# df_rs_qty_gn_rcn.head()"
   ]
  },
  {
   "cell_type": "code",
   "execution_count": 70,
   "metadata": {},
   "outputs": [
    {
     "output_type": "execute_result",
     "data": {
      "text/plain": [
       "Memory\n",
       "0       1852\n",
       "1       3640\n",
       "128    14720\n",
       "15       713\n",
       "16     24572\n",
       "160     2301\n",
       "192    17416\n",
       "2       4072\n",
       "256    17220\n",
       "3        520\n",
       "30       712\n",
       "32     25002\n",
       "384    24264\n",
       "4       4264\n",
       "48      1280\n",
       "64     17171\n",
       "7        521\n",
       "8      18831\n",
       "96      1280\n",
       "Name: PricePerUnit, dtype: int64"
      ]
     },
     "metadata": {},
     "execution_count": 70
    }
   ],
   "source": [
    "df_rs_qty_gn_rcn.groupby(['Memory'])['PricePerUnit'].count() "
   ]
  },
  {
   "cell_type": "code",
   "execution_count": 71,
   "metadata": {},
   "outputs": [
    {
     "output_type": "execute_result",
     "data": {
      "text/plain": [
       "Memory\n",
       "1       3640\n",
       "128    14720\n",
       "15       713\n",
       "16     24572\n",
       "160     2301\n",
       "192    17416\n",
       "2       4072\n",
       "256    17220\n",
       "3        520\n",
       "30       712\n",
       "32     25002\n",
       "384    24264\n",
       "4       4264\n",
       "48      1280\n",
       "64     17171\n",
       "7        521\n",
       "8      18831\n",
       "96      1280\n",
       "Name: PricePerUnit, dtype: int64"
      ]
     },
     "metadata": {},
     "execution_count": 71
    }
   ],
   "source": [
    "# Memory cannot be 0, then it will remove data before training\n",
    "df_rs_qty_gn_rcn.drop(df_rs_qty_gn_rcn.index[(df_rs_qty_gn_rcn[\"Memory\"] == \"0\")],axis=0,inplace=True)\n",
    "df_rs_qty_gn_rcn.groupby(['Memory'])['PricePerUnit'].count()"
   ]
  },
  {
   "cell_type": "code",
   "execution_count": 72,
   "metadata": {},
   "outputs": [],
   "source": [
    "df_rs_qty_gn_rcn[\"Memory\"] = pd.to_numeric(df_rs_qty_gn_rcn[\"Memory\"])\n",
    "df_rs_qty_gn_rcn[\"vCPU\"] = pd.to_numeric(df_rs_qty_gn_rcn[\"vCPU\"])\n",
    "df_rs_qty_gn_rcn[\"Clock_Speed\"] = pd.to_numeric(df_rs_qty_gn_rcn[\"Clock_Speed\"])\n",
    "df_rs_qty_gn_rcn[\"Year\"] = pd.to_numeric(df_rs_qty_gn_rcn[\"Year\"])"
   ]
  },
  {
   "cell_type": "code",
   "execution_count": 73,
   "metadata": {},
   "outputs": [
    {
     "output_type": "execute_result",
     "data": {
      "text/plain": [
       "vCPU\n",
       "1.0      2712\n",
       "2.0     28704\n",
       "4.0     25285\n",
       "8.0     25282\n",
       "12.0     1280\n",
       "16.0    18035\n",
       "24.0     1280\n",
       "32.0    14720\n",
       "40.0     2301\n",
       "48.0    17416\n",
       "64.0    17220\n",
       "96.0    24264\n",
       "Name: PricePerUnit, dtype: int64"
      ]
     },
     "metadata": {},
     "execution_count": 73
    }
   ],
   "source": [
    "df_rs_qty_gn_rcn.groupby(['vCPU'])['PricePerUnit'].count() "
   ]
  },
  {
   "cell_type": "code",
   "execution_count": 74,
   "metadata": {},
   "outputs": [
    {
     "output_type": "execute_result",
     "data": {
      "text/plain": [
       "PricePerUnit           float64\n",
       "LeaseContractLength      int64\n",
       "OfferingClass            int64\n",
       "Location                 int64\n",
       "Memory                   int64\n",
       "vCPU                   float64\n",
       "Network_Performance      int64\n",
       "Clock_Speed            float64\n",
       "Year                     int64\n",
       "dtype: object"
      ]
     },
     "metadata": {},
     "execution_count": 74
    }
   ],
   "source": [
    "df_rs_qty_gn_rcn.dtypes"
   ]
  },
  {
   "cell_type": "code",
   "execution_count": 75,
   "metadata": {},
   "outputs": [
    {
     "output_type": "stream",
     "name": "stderr",
     "text": [
      "C:\\Users\\shali\\AppData\\Local\\Programs\\Python\\Python37\\lib\\site-packages\\seaborn\\distributions.py:2557: FutureWarning: `distplot` is a deprecated function and will be removed in a future version. Please adapt your code to use either `displot` (a figure-level function with similar flexibility) or `histplot` (an axes-level function for histograms).\n  warnings.warn(msg, FutureWarning)\n"
     ]
    },
    {
     "output_type": "execute_result",
     "data": {
      "text/plain": [
       "Text(0, 0.5, 'Frequency')"
      ]
     },
     "metadata": {},
     "execution_count": 75
    },
    {
     "output_type": "display_data",
     "data": {
      "text/plain": "<Figure size 432x288 with 1 Axes>",
      "image/svg+xml": "<?xml version=\"1.0\" encoding=\"utf-8\" standalone=\"no\"?>\r\n<!DOCTYPE svg PUBLIC \"-//W3C//DTD SVG 1.1//EN\"\r\n  \"http://www.w3.org/Graphics/SVG/1.1/DTD/svg11.dtd\">\r\n<!-- Created with matplotlib (https://matplotlib.org/) -->\r\n<svg height=\"287.680313pt\" version=\"1.1\" viewBox=\"0 0 391.588125 287.680313\" width=\"391.588125pt\" xmlns=\"http://www.w3.org/2000/svg\" xmlns:xlink=\"http://www.w3.org/1999/xlink\">\r\n <metadata>\r\n  <rdf:RDF xmlns:cc=\"http://creativecommons.org/ns#\" xmlns:dc=\"http://purl.org/dc/elements/1.1/\" xmlns:rdf=\"http://www.w3.org/1999/02/22-rdf-syntax-ns#\">\r\n   <cc:Work>\r\n    <dc:type rdf:resource=\"http://purl.org/dc/dcmitype/StillImage\"/>\r\n    <dc:date>2021-03-11T10:17:55.018372</dc:date>\r\n    <dc:format>image/svg+xml</dc:format>\r\n    <dc:creator>\r\n     <cc:Agent>\r\n      <dc:title>Matplotlib v3.3.4, https://matplotlib.org/</dc:title>\r\n     </cc:Agent>\r\n    </dc:creator>\r\n   </cc:Work>\r\n  </rdf:RDF>\r\n </metadata>\r\n <defs>\r\n  <style type=\"text/css\">*{stroke-linecap:butt;stroke-linejoin:round;}</style>\r\n </defs>\r\n <g id=\"figure_1\">\r\n  <g id=\"patch_1\">\r\n   <path d=\"M 0 287.680313 \r\nL 391.588125 287.680313 \r\nL 391.588125 0 \r\nL 0 0 \r\nz\r\n\" style=\"fill:none;\"/>\r\n  </g>\r\n  <g id=\"axes_1\">\r\n   <g id=\"patch_2\">\r\n    <path d=\"M 49.588125 244.317188 \r\nL 384.388125 244.317188 \r\nL 384.388125 26.877187 \r\nL 49.588125 26.877187 \r\nz\r\n\" style=\"fill:#ffffff;\"/>\r\n   </g>\r\n   <g id=\"patch_3\">\r\n    <path clip-path=\"url(#p51d1c22647)\" d=\"M 73.536634 244.317188 \r\nL 79.274693 244.317188 \r\nL 79.274693 37.231473 \r\nL 73.536634 37.231473 \r\nz\r\n\" style=\"fill:#1f77b4;opacity:0.4;\"/>\r\n   </g>\r\n   <g id=\"patch_4\">\r\n    <path clip-path=\"url(#p51d1c22647)\" d=\"M 79.274693 244.317188 \r\nL 85.012753 244.317188 \r\nL 85.012753 194.566807 \r\nL 79.274693 194.566807 \r\nz\r\n\" style=\"fill:#1f77b4;opacity:0.4;\"/>\r\n   </g>\r\n   <g id=\"patch_5\">\r\n    <path clip-path=\"url(#p51d1c22647)\" d=\"M 85.012753 244.317188 \r\nL 90.750813 244.317188 \r\nL 90.750813 221.869422 \r\nL 85.012753 221.869422 \r\nz\r\n\" style=\"fill:#1f77b4;opacity:0.4;\"/>\r\n   </g>\r\n   <g id=\"patch_6\">\r\n    <path clip-path=\"url(#p51d1c22647)\" d=\"M 90.750813 244.317188 \r\nL 96.488872 244.317188 \r\nL 96.488872 228.095608 \r\nL 90.750813 228.095608 \r\nz\r\n\" style=\"fill:#1f77b4;opacity:0.4;\"/>\r\n   </g>\r\n   <g id=\"patch_7\">\r\n    <path clip-path=\"url(#p51d1c22647)\" d=\"M 96.488872 244.317188 \r\nL 102.226932 244.317188 \r\nL 102.226932 235.911836 \r\nL 96.488872 235.911836 \r\nz\r\n\" style=\"fill:#1f77b4;opacity:0.4;\"/>\r\n   </g>\r\n   <g id=\"patch_8\">\r\n    <path clip-path=\"url(#p51d1c22647)\" d=\"M 102.226932 244.317188 \r\nL 107.964992 244.317188 \r\nL 107.964992 236.631 \r\nL 102.226932 236.631 \r\nz\r\n\" style=\"fill:#1f77b4;opacity:0.4;\"/>\r\n   </g>\r\n   <g id=\"patch_9\">\r\n    <path clip-path=\"url(#p51d1c22647)\" d=\"M 107.964992 244.317188 \r\nL 113.703051 244.317188 \r\nL 113.703051 241.789277 \r\nL 107.964992 241.789277 \r\nz\r\n\" style=\"fill:#1f77b4;opacity:0.4;\"/>\r\n   </g>\r\n   <g id=\"patch_10\">\r\n    <path clip-path=\"url(#p51d1c22647)\" d=\"M 113.703051 244.317188 \r\nL 119.441111 244.317188 \r\nL 119.441111 236.473375 \r\nL 113.703051 236.473375 \r\nz\r\n\" style=\"fill:#1f77b4;opacity:0.4;\"/>\r\n   </g>\r\n   <g id=\"patch_11\">\r\n    <path clip-path=\"url(#p51d1c22647)\" d=\"M 119.441111 244.317188 \r\nL 125.179171 244.317188 \r\nL 125.179171 239.576617 \r\nL 119.441111 239.576617 \r\nz\r\n\" style=\"fill:#1f77b4;opacity:0.4;\"/>\r\n   </g>\r\n   <g id=\"patch_12\">\r\n    <path clip-path=\"url(#p51d1c22647)\" d=\"M 125.179171 244.317188 \r\nL 130.91723 244.317188 \r\nL 130.91723 242.662125 \r\nL 125.179171 242.662125 \r\nz\r\n\" style=\"fill:#1f77b4;opacity:0.4;\"/>\r\n   </g>\r\n   <g id=\"patch_13\">\r\n    <path clip-path=\"url(#p51d1c22647)\" d=\"M 130.91723 244.317188 \r\nL 136.65529 244.317188 \r\nL 136.65529 240.305632 \r\nL 130.91723 240.305632 \r\nz\r\n\" style=\"fill:#1f77b4;opacity:0.4;\"/>\r\n   </g>\r\n   <g id=\"patch_14\">\r\n    <path clip-path=\"url(#p51d1c22647)\" d=\"M 136.65529 244.317188 \r\nL 142.39335 244.317188 \r\nL 142.39335 242.934028 \r\nL 136.65529 242.934028 \r\nz\r\n\" style=\"fill:#1f77b4;opacity:0.4;\"/>\r\n   </g>\r\n   <g id=\"patch_15\">\r\n    <path clip-path=\"url(#p51d1c22647)\" d=\"M 142.39335 244.317188 \r\nL 148.131409 244.317188 \r\nL 148.131409 243.598024 \r\nL 142.39335 243.598024 \r\nz\r\n\" style=\"fill:#1f77b4;opacity:0.4;\"/>\r\n   </g>\r\n   <g id=\"patch_16\">\r\n    <path clip-path=\"url(#p51d1c22647)\" d=\"M 148.131409 244.317188 \r\nL 153.869469 244.317188 \r\nL 153.869469 243.76353 \r\nL 148.131409 243.76353 \r\nz\r\n\" style=\"fill:#1f77b4;opacity:0.4;\"/>\r\n   </g>\r\n   <g id=\"patch_17\">\r\n    <path clip-path=\"url(#p51d1c22647)\" d=\"M 153.869469 244.317188 \r\nL 159.607529 244.317188 \r\nL 159.607529 241.647415 \r\nL 153.869469 241.647415 \r\nz\r\n\" style=\"fill:#1f77b4;opacity:0.4;\"/>\r\n   </g>\r\n   <g id=\"patch_18\">\r\n    <path clip-path=\"url(#p51d1c22647)\" d=\"M 159.607529 244.317188 \r\nL 165.345588 244.317188 \r\nL 165.345588 242.581343 \r\nL 159.607529 242.581343 \r\nz\r\n\" style=\"fill:#1f77b4;opacity:0.4;\"/>\r\n   </g>\r\n   <g id=\"patch_19\">\r\n    <path clip-path=\"url(#p51d1c22647)\" d=\"M 165.345588 244.317188 \r\nL 171.083648 244.317188 \r\nL 171.083648 241.838535 \r\nL 165.345588 241.838535 \r\nz\r\n\" style=\"fill:#1f77b4;opacity:0.4;\"/>\r\n   </g>\r\n   <g id=\"patch_20\">\r\n    <path clip-path=\"url(#p51d1c22647)\" d=\"M 171.083648 244.317188 \r\nL 176.821707 244.317188 \r\nL 176.821707 244.110305 \r\nL 171.083648 244.110305 \r\nz\r\n\" style=\"fill:#1f77b4;opacity:0.4;\"/>\r\n   </g>\r\n   <g id=\"patch_21\">\r\n    <path clip-path=\"url(#p51d1c22647)\" d=\"M 176.821707 244.317188 \r\nL 182.559767 244.317188 \r\nL 182.559767 244.26793 \r\nL 176.821707 244.26793 \r\nz\r\n\" style=\"fill:#1f77b4;opacity:0.4;\"/>\r\n   </g>\r\n   <g id=\"patch_22\">\r\n    <path clip-path=\"url(#p51d1c22647)\" d=\"M 182.559767 244.317188 \r\nL 188.297827 244.317188 \r\nL 188.297827 244.1438 \r\nL 182.559767 244.1438 \r\nz\r\n\" style=\"fill:#1f77b4;opacity:0.4;\"/>\r\n   </g>\r\n   <g id=\"patch_23\">\r\n    <path clip-path=\"url(#p51d1c22647)\" d=\"M 188.297827 244.317188 \r\nL 194.035886 244.317188 \r\nL 194.035886 243.517241 \r\nL 188.297827 243.517241 \r\nz\r\n\" style=\"fill:#1f77b4;opacity:0.4;\"/>\r\n   </g>\r\n   <g id=\"patch_24\">\r\n    <path clip-path=\"url(#p51d1c22647)\" d=\"M 194.035886 244.317188 \r\nL 199.773946 244.317188 \r\nL 199.773946 242.396133 \r\nL 194.035886 242.396133 \r\nz\r\n\" style=\"fill:#1f77b4;opacity:0.4;\"/>\r\n   </g>\r\n   <g id=\"patch_25\">\r\n    <path clip-path=\"url(#p51d1c22647)\" d=\"M 199.773946 244.317188 \r\nL 205.512006 244.317188 \r\nL 205.512006 243.854164 \r\nL 199.773946 243.854164 \r\nz\r\n\" style=\"fill:#1f77b4;opacity:0.4;\"/>\r\n   </g>\r\n   <g id=\"patch_26\">\r\n    <path clip-path=\"url(#p51d1c22647)\" d=\"M 205.512006 244.317188 \r\nL 211.250065 244.317188 \r\nL 211.250065 243.588172 \r\nL 205.512006 243.588172 \r\nz\r\n\" style=\"fill:#1f77b4;opacity:0.4;\"/>\r\n   </g>\r\n   <g id=\"patch_27\">\r\n    <path clip-path=\"url(#p51d1c22647)\" d=\"M 211.250065 244.317188 \r\nL 216.988125 244.317188 \r\nL 216.988125 243.020722 \r\nL 211.250065 243.020722 \r\nz\r\n\" style=\"fill:#1f77b4;opacity:0.4;\"/>\r\n   </g>\r\n   <g id=\"patch_28\">\r\n    <path clip-path=\"url(#p51d1c22647)\" d=\"M 216.988125 244.317188 \r\nL 222.726185 244.317188 \r\nL 222.726185 244.265959 \r\nL 216.988125 244.265959 \r\nz\r\n\" style=\"fill:#1f77b4;opacity:0.4;\"/>\r\n   </g>\r\n   <g id=\"patch_29\">\r\n    <path clip-path=\"url(#p51d1c22647)\" d=\"M 222.726185 244.317188 \r\nL 228.464244 244.317188 \r\nL 228.464244 244.313247 \r\nL 222.726185 244.313247 \r\nz\r\n\" style=\"fill:#1f77b4;opacity:0.4;\"/>\r\n   </g>\r\n   <g id=\"patch_30\">\r\n    <path clip-path=\"url(#p51d1c22647)\" d=\"M 228.464244 244.317188 \r\nL 234.202304 244.317188 \r\nL 234.202304 244.303395 \r\nL 228.464244 244.303395 \r\nz\r\n\" style=\"fill:#1f77b4;opacity:0.4;\"/>\r\n   </g>\r\n   <g id=\"patch_31\">\r\n    <path clip-path=\"url(#p51d1c22647)\" d=\"M 234.202304 244.317188 \r\nL 239.940364 244.317188 \r\nL 239.940364 243.797025 \r\nL 234.202304 243.797025 \r\nz\r\n\" style=\"fill:#1f77b4;opacity:0.4;\"/>\r\n   </g>\r\n   <g id=\"patch_32\">\r\n    <path clip-path=\"url(#p51d1c22647)\" d=\"M 239.940364 244.317188 \r\nL 245.678423 244.317188 \r\nL 245.678423 244.01967 \r\nL 239.940364 244.01967 \r\nz\r\n\" style=\"fill:#1f77b4;opacity:0.4;\"/>\r\n   </g>\r\n   <g id=\"patch_33\">\r\n    <path clip-path=\"url(#p51d1c22647)\" d=\"M 245.678423 244.317188 \r\nL 251.416483 244.317188 \r\nL 251.416483 244.307336 \r\nL 245.678423 244.307336 \r\nz\r\n\" style=\"fill:#1f77b4;opacity:0.4;\"/>\r\n   </g>\r\n   <g id=\"patch_34\">\r\n    <path clip-path=\"url(#p51d1c22647)\" d=\"M 251.416483 244.317188 \r\nL 257.154543 244.317188 \r\nL 257.154543 243.992086 \r\nL 251.416483 243.992086 \r\nz\r\n\" style=\"fill:#1f77b4;opacity:0.4;\"/>\r\n   </g>\r\n   <g id=\"patch_35\">\r\n    <path clip-path=\"url(#p51d1c22647)\" d=\"M 257.154543 244.317188 \r\nL 262.892602 244.317188 \r\nL 262.892602 243.842342 \r\nL 257.154543 243.842342 \r\nz\r\n\" style=\"fill:#1f77b4;opacity:0.4;\"/>\r\n   </g>\r\n   <g id=\"patch_36\">\r\n    <path clip-path=\"url(#p51d1c22647)\" d=\"M 262.892602 244.317188 \r\nL 268.630662 244.317188 \r\nL 268.630662 244.277781 \r\nL 262.892602 244.277781 \r\nz\r\n\" style=\"fill:#1f77b4;opacity:0.4;\"/>\r\n   </g>\r\n   <g id=\"patch_37\">\r\n    <path clip-path=\"url(#p51d1c22647)\" d=\"M 268.630662 244.317188 \r\nL 274.368721 244.317188 \r\nL 274.368721 244.317188 \r\nL 268.630662 244.317188 \r\nz\r\n\" style=\"fill:#1f77b4;opacity:0.4;\"/>\r\n   </g>\r\n   <g id=\"patch_38\">\r\n    <path clip-path=\"url(#p51d1c22647)\" d=\"M 274.368721 244.317188 \r\nL 280.106781 244.317188 \r\nL 280.106781 244.317188 \r\nL 274.368721 244.317188 \r\nz\r\n\" style=\"fill:#1f77b4;opacity:0.4;\"/>\r\n   </g>\r\n   <g id=\"patch_39\">\r\n    <path clip-path=\"url(#p51d1c22647)\" d=\"M 280.106781 244.317188 \r\nL 285.844841 244.317188 \r\nL 285.844841 244.317188 \r\nL 280.106781 244.317188 \r\nz\r\n\" style=\"fill:#1f77b4;opacity:0.4;\"/>\r\n   </g>\r\n   <g id=\"patch_40\">\r\n    <path clip-path=\"url(#p51d1c22647)\" d=\"M 285.844841 244.317188 \r\nL 291.5829 244.317188 \r\nL 291.5829 244.317188 \r\nL 285.844841 244.317188 \r\nz\r\n\" style=\"fill:#1f77b4;opacity:0.4;\"/>\r\n   </g>\r\n   <g id=\"patch_41\">\r\n    <path clip-path=\"url(#p51d1c22647)\" d=\"M 291.5829 244.317188 \r\nL 297.32096 244.317188 \r\nL 297.32096 244.317188 \r\nL 291.5829 244.317188 \r\nz\r\n\" style=\"fill:#1f77b4;opacity:0.4;\"/>\r\n   </g>\r\n   <g id=\"patch_42\">\r\n    <path clip-path=\"url(#p51d1c22647)\" d=\"M 297.32096 244.317188 \r\nL 303.05902 244.317188 \r\nL 303.05902 244.317188 \r\nL 297.32096 244.317188 \r\nz\r\n\" style=\"fill:#1f77b4;opacity:0.4;\"/>\r\n   </g>\r\n   <g id=\"patch_43\">\r\n    <path clip-path=\"url(#p51d1c22647)\" d=\"M 303.05902 244.317188 \r\nL 308.797079 244.317188 \r\nL 308.797079 244.317188 \r\nL 303.05902 244.317188 \r\nz\r\n\" style=\"fill:#1f77b4;opacity:0.4;\"/>\r\n   </g>\r\n   <g id=\"patch_44\">\r\n    <path clip-path=\"url(#p51d1c22647)\" d=\"M 308.797079 244.317188 \r\nL 314.535139 244.317188 \r\nL 314.535139 244.303395 \r\nL 308.797079 244.303395 \r\nz\r\n\" style=\"fill:#1f77b4;opacity:0.4;\"/>\r\n   </g>\r\n   <g id=\"patch_45\">\r\n    <path clip-path=\"url(#p51d1c22647)\" d=\"M 314.535139 244.317188 \r\nL 320.273199 244.317188 \r\nL 320.273199 243.842342 \r\nL 314.535139 243.842342 \r\nz\r\n\" style=\"fill:#1f77b4;opacity:0.4;\"/>\r\n   </g>\r\n   <g id=\"patch_46\">\r\n    <path clip-path=\"url(#p51d1c22647)\" d=\"M 320.273199 244.317188 \r\nL 326.011258 244.317188 \r\nL 326.011258 243.757619 \r\nL 320.273199 243.757619 \r\nz\r\n\" style=\"fill:#1f77b4;opacity:0.4;\"/>\r\n   </g>\r\n   <g id=\"patch_47\">\r\n    <path clip-path=\"url(#p51d1c22647)\" d=\"M 326.011258 244.317188 \r\nL 331.749318 244.317188 \r\nL 331.749318 244.165473 \r\nL 326.011258 244.165473 \r\nz\r\n\" style=\"fill:#1f77b4;opacity:0.4;\"/>\r\n   </g>\r\n   <g id=\"patch_48\">\r\n    <path clip-path=\"url(#p51d1c22647)\" d=\"M 331.749318 244.317188 \r\nL 337.487378 244.317188 \r\nL 337.487378 244.315217 \r\nL 331.749318 244.315217 \r\nz\r\n\" style=\"fill:#1f77b4;opacity:0.4;\"/>\r\n   </g>\r\n   <g id=\"patch_49\">\r\n    <path clip-path=\"url(#p51d1c22647)\" d=\"M 337.487378 244.317188 \r\nL 343.225437 244.317188 \r\nL 343.225437 244.303395 \r\nL 337.487378 244.303395 \r\nz\r\n\" style=\"fill:#1f77b4;opacity:0.4;\"/>\r\n   </g>\r\n   <g id=\"patch_50\">\r\n    <path clip-path=\"url(#p51d1c22647)\" d=\"M 343.225437 244.317188 \r\nL 348.963497 244.317188 \r\nL 348.963497 243.808847 \r\nL 343.225437 243.808847 \r\nz\r\n\" style=\"fill:#1f77b4;opacity:0.4;\"/>\r\n   </g>\r\n   <g id=\"patch_51\">\r\n    <path clip-path=\"url(#p51d1c22647)\" d=\"M 348.963497 244.317188 \r\nL 354.701557 244.317188 \r\nL 354.701557 243.76353 \r\nL 348.963497 243.76353 \r\nz\r\n\" style=\"fill:#1f77b4;opacity:0.4;\"/>\r\n   </g>\r\n   <g id=\"patch_52\">\r\n    <path clip-path=\"url(#p51d1c22647)\" d=\"M 354.701557 244.317188 \r\nL 360.439616 244.317188 \r\nL 360.439616 244.187147 \r\nL 354.701557 244.187147 \r\nz\r\n\" style=\"fill:#1f77b4;opacity:0.4;\"/>\r\n   </g>\r\n   <g id=\"matplotlib.axis_1\">\r\n    <g id=\"xtick_1\">\r\n     <g id=\"line2d_1\">\r\n      <defs>\r\n       <path d=\"M 0 0 \r\nL 0 3.5 \r\n\" id=\"mbdf0bf8960\" style=\"stroke:#000000;stroke-width:0.8;\"/>\r\n      </defs>\r\n      <g>\r\n       <use style=\"stroke:#000000;stroke-width:0.8;\" x=\"73.532965\" xlink:href=\"#mbdf0bf8960\" y=\"244.317188\"/>\r\n      </g>\r\n     </g>\r\n     <g id=\"text_1\">\r\n      <!-- 0.0 -->\r\n      <g transform=\"translate(65.581403 258.915625)scale(0.1 -0.1)\">\r\n       <defs>\r\n        <path d=\"M 31.78125 66.40625 \r\nQ 24.171875 66.40625 20.328125 58.90625 \r\nQ 16.5 51.421875 16.5 36.375 \r\nQ 16.5 21.390625 20.328125 13.890625 \r\nQ 24.171875 6.390625 31.78125 6.390625 \r\nQ 39.453125 6.390625 43.28125 13.890625 \r\nQ 47.125 21.390625 47.125 36.375 \r\nQ 47.125 51.421875 43.28125 58.90625 \r\nQ 39.453125 66.40625 31.78125 66.40625 \r\nz\r\nM 31.78125 74.21875 \r\nQ 44.046875 74.21875 50.515625 64.515625 \r\nQ 56.984375 54.828125 56.984375 36.375 \r\nQ 56.984375 17.96875 50.515625 8.265625 \r\nQ 44.046875 -1.421875 31.78125 -1.421875 \r\nQ 19.53125 -1.421875 13.0625 8.265625 \r\nQ 6.59375 17.96875 6.59375 36.375 \r\nQ 6.59375 54.828125 13.0625 64.515625 \r\nQ 19.53125 74.21875 31.78125 74.21875 \r\nz\r\n\" id=\"DejaVuSans-48\"/>\r\n        <path d=\"M 10.6875 12.40625 \r\nL 21 12.40625 \r\nL 21 0 \r\nL 10.6875 0 \r\nz\r\n\" id=\"DejaVuSans-46\"/>\r\n       </defs>\r\n       <use xlink:href=\"#DejaVuSans-48\"/>\r\n       <use x=\"63.623047\" xlink:href=\"#DejaVuSans-46\"/>\r\n       <use x=\"95.410156\" xlink:href=\"#DejaVuSans-48\"/>\r\n      </g>\r\n     </g>\r\n    </g>\r\n    <g id=\"xtick_2\">\r\n     <g id=\"line2d_2\">\r\n      <g>\r\n       <use style=\"stroke:#000000;stroke-width:0.8;\" x=\"122.449737\" xlink:href=\"#mbdf0bf8960\" y=\"244.317188\"/>\r\n      </g>\r\n     </g>\r\n     <g id=\"text_2\">\r\n      <!-- 0.2 -->\r\n      <g transform=\"translate(114.498175 258.915625)scale(0.1 -0.1)\">\r\n       <defs>\r\n        <path d=\"M 19.1875 8.296875 \r\nL 53.609375 8.296875 \r\nL 53.609375 0 \r\nL 7.328125 0 \r\nL 7.328125 8.296875 \r\nQ 12.9375 14.109375 22.625 23.890625 \r\nQ 32.328125 33.6875 34.8125 36.53125 \r\nQ 39.546875 41.84375 41.421875 45.53125 \r\nQ 43.3125 49.21875 43.3125 52.78125 \r\nQ 43.3125 58.59375 39.234375 62.25 \r\nQ 35.15625 65.921875 28.609375 65.921875 \r\nQ 23.96875 65.921875 18.8125 64.3125 \r\nQ 13.671875 62.703125 7.8125 59.421875 \r\nL 7.8125 69.390625 \r\nQ 13.765625 71.78125 18.9375 73 \r\nQ 24.125 74.21875 28.421875 74.21875 \r\nQ 39.75 74.21875 46.484375 68.546875 \r\nQ 53.21875 62.890625 53.21875 53.421875 \r\nQ 53.21875 48.921875 51.53125 44.890625 \r\nQ 49.859375 40.875 45.40625 35.40625 \r\nQ 44.1875 33.984375 37.640625 27.21875 \r\nQ 31.109375 20.453125 19.1875 8.296875 \r\nz\r\n\" id=\"DejaVuSans-50\"/>\r\n       </defs>\r\n       <use xlink:href=\"#DejaVuSans-48\"/>\r\n       <use x=\"63.623047\" xlink:href=\"#DejaVuSans-46\"/>\r\n       <use x=\"95.410156\" xlink:href=\"#DejaVuSans-50\"/>\r\n      </g>\r\n     </g>\r\n    </g>\r\n    <g id=\"xtick_3\">\r\n     <g id=\"line2d_3\">\r\n      <g>\r\n       <use style=\"stroke:#000000;stroke-width:0.8;\" x=\"171.366509\" xlink:href=\"#mbdf0bf8960\" y=\"244.317188\"/>\r\n      </g>\r\n     </g>\r\n     <g id=\"text_3\">\r\n      <!-- 0.4 -->\r\n      <g transform=\"translate(163.414947 258.915625)scale(0.1 -0.1)\">\r\n       <defs>\r\n        <path d=\"M 37.796875 64.3125 \r\nL 12.890625 25.390625 \r\nL 37.796875 25.390625 \r\nz\r\nM 35.203125 72.90625 \r\nL 47.609375 72.90625 \r\nL 47.609375 25.390625 \r\nL 58.015625 25.390625 \r\nL 58.015625 17.1875 \r\nL 47.609375 17.1875 \r\nL 47.609375 0 \r\nL 37.796875 0 \r\nL 37.796875 17.1875 \r\nL 4.890625 17.1875 \r\nL 4.890625 26.703125 \r\nz\r\n\" id=\"DejaVuSans-52\"/>\r\n       </defs>\r\n       <use xlink:href=\"#DejaVuSans-48\"/>\r\n       <use x=\"63.623047\" xlink:href=\"#DejaVuSans-46\"/>\r\n       <use x=\"95.410156\" xlink:href=\"#DejaVuSans-52\"/>\r\n      </g>\r\n     </g>\r\n    </g>\r\n    <g id=\"xtick_4\">\r\n     <g id=\"line2d_4\">\r\n      <g>\r\n       <use style=\"stroke:#000000;stroke-width:0.8;\" x=\"220.283281\" xlink:href=\"#mbdf0bf8960\" y=\"244.317188\"/>\r\n      </g>\r\n     </g>\r\n     <g id=\"text_4\">\r\n      <!-- 0.6 -->\r\n      <g transform=\"translate(212.331719 258.915625)scale(0.1 -0.1)\">\r\n       <defs>\r\n        <path d=\"M 33.015625 40.375 \r\nQ 26.375 40.375 22.484375 35.828125 \r\nQ 18.609375 31.296875 18.609375 23.390625 \r\nQ 18.609375 15.53125 22.484375 10.953125 \r\nQ 26.375 6.390625 33.015625 6.390625 \r\nQ 39.65625 6.390625 43.53125 10.953125 \r\nQ 47.40625 15.53125 47.40625 23.390625 \r\nQ 47.40625 31.296875 43.53125 35.828125 \r\nQ 39.65625 40.375 33.015625 40.375 \r\nz\r\nM 52.59375 71.296875 \r\nL 52.59375 62.3125 \r\nQ 48.875 64.0625 45.09375 64.984375 \r\nQ 41.3125 65.921875 37.59375 65.921875 \r\nQ 27.828125 65.921875 22.671875 59.328125 \r\nQ 17.53125 52.734375 16.796875 39.40625 \r\nQ 19.671875 43.65625 24.015625 45.921875 \r\nQ 28.375 48.1875 33.59375 48.1875 \r\nQ 44.578125 48.1875 50.953125 41.515625 \r\nQ 57.328125 34.859375 57.328125 23.390625 \r\nQ 57.328125 12.15625 50.6875 5.359375 \r\nQ 44.046875 -1.421875 33.015625 -1.421875 \r\nQ 20.359375 -1.421875 13.671875 8.265625 \r\nQ 6.984375 17.96875 6.984375 36.375 \r\nQ 6.984375 53.65625 15.1875 63.9375 \r\nQ 23.390625 74.21875 37.203125 74.21875 \r\nQ 40.921875 74.21875 44.703125 73.484375 \r\nQ 48.484375 72.75 52.59375 71.296875 \r\nz\r\n\" id=\"DejaVuSans-54\"/>\r\n       </defs>\r\n       <use xlink:href=\"#DejaVuSans-48\"/>\r\n       <use x=\"63.623047\" xlink:href=\"#DejaVuSans-46\"/>\r\n       <use x=\"95.410156\" xlink:href=\"#DejaVuSans-54\"/>\r\n      </g>\r\n     </g>\r\n    </g>\r\n    <g id=\"xtick_5\">\r\n     <g id=\"line2d_5\">\r\n      <g>\r\n       <use style=\"stroke:#000000;stroke-width:0.8;\" x=\"269.200053\" xlink:href=\"#mbdf0bf8960\" y=\"244.317188\"/>\r\n      </g>\r\n     </g>\r\n     <g id=\"text_5\">\r\n      <!-- 0.8 -->\r\n      <g transform=\"translate(261.248491 258.915625)scale(0.1 -0.1)\">\r\n       <defs>\r\n        <path d=\"M 31.78125 34.625 \r\nQ 24.75 34.625 20.71875 30.859375 \r\nQ 16.703125 27.09375 16.703125 20.515625 \r\nQ 16.703125 13.921875 20.71875 10.15625 \r\nQ 24.75 6.390625 31.78125 6.390625 \r\nQ 38.8125 6.390625 42.859375 10.171875 \r\nQ 46.921875 13.96875 46.921875 20.515625 \r\nQ 46.921875 27.09375 42.890625 30.859375 \r\nQ 38.875 34.625 31.78125 34.625 \r\nz\r\nM 21.921875 38.8125 \r\nQ 15.578125 40.375 12.03125 44.71875 \r\nQ 8.5 49.078125 8.5 55.328125 \r\nQ 8.5 64.0625 14.71875 69.140625 \r\nQ 20.953125 74.21875 31.78125 74.21875 \r\nQ 42.671875 74.21875 48.875 69.140625 \r\nQ 55.078125 64.0625 55.078125 55.328125 \r\nQ 55.078125 49.078125 51.53125 44.71875 \r\nQ 48 40.375 41.703125 38.8125 \r\nQ 48.828125 37.15625 52.796875 32.3125 \r\nQ 56.78125 27.484375 56.78125 20.515625 \r\nQ 56.78125 9.90625 50.3125 4.234375 \r\nQ 43.84375 -1.421875 31.78125 -1.421875 \r\nQ 19.734375 -1.421875 13.25 4.234375 \r\nQ 6.78125 9.90625 6.78125 20.515625 \r\nQ 6.78125 27.484375 10.78125 32.3125 \r\nQ 14.796875 37.15625 21.921875 38.8125 \r\nz\r\nM 18.3125 54.390625 \r\nQ 18.3125 48.734375 21.84375 45.5625 \r\nQ 25.390625 42.390625 31.78125 42.390625 \r\nQ 38.140625 42.390625 41.71875 45.5625 \r\nQ 45.3125 48.734375 45.3125 54.390625 \r\nQ 45.3125 60.0625 41.71875 63.234375 \r\nQ 38.140625 66.40625 31.78125 66.40625 \r\nQ 25.390625 66.40625 21.84375 63.234375 \r\nQ 18.3125 60.0625 18.3125 54.390625 \r\nz\r\n\" id=\"DejaVuSans-56\"/>\r\n       </defs>\r\n       <use xlink:href=\"#DejaVuSans-48\"/>\r\n       <use x=\"63.623047\" xlink:href=\"#DejaVuSans-46\"/>\r\n       <use x=\"95.410156\" xlink:href=\"#DejaVuSans-56\"/>\r\n      </g>\r\n     </g>\r\n    </g>\r\n    <g id=\"xtick_6\">\r\n     <g id=\"line2d_6\">\r\n      <g>\r\n       <use style=\"stroke:#000000;stroke-width:0.8;\" x=\"318.116825\" xlink:href=\"#mbdf0bf8960\" y=\"244.317188\"/>\r\n      </g>\r\n     </g>\r\n     <g id=\"text_6\">\r\n      <!-- 1.0 -->\r\n      <g transform=\"translate(310.165263 258.915625)scale(0.1 -0.1)\">\r\n       <defs>\r\n        <path d=\"M 12.40625 8.296875 \r\nL 28.515625 8.296875 \r\nL 28.515625 63.921875 \r\nL 10.984375 60.40625 \r\nL 10.984375 69.390625 \r\nL 28.421875 72.90625 \r\nL 38.28125 72.90625 \r\nL 38.28125 8.296875 \r\nL 54.390625 8.296875 \r\nL 54.390625 0 \r\nL 12.40625 0 \r\nz\r\n\" id=\"DejaVuSans-49\"/>\r\n       </defs>\r\n       <use xlink:href=\"#DejaVuSans-49\"/>\r\n       <use x=\"63.623047\" xlink:href=\"#DejaVuSans-46\"/>\r\n       <use x=\"95.410156\" xlink:href=\"#DejaVuSans-48\"/>\r\n      </g>\r\n     </g>\r\n    </g>\r\n    <g id=\"xtick_7\">\r\n     <g id=\"line2d_7\">\r\n      <g>\r\n       <use style=\"stroke:#000000;stroke-width:0.8;\" x=\"367.033597\" xlink:href=\"#mbdf0bf8960\" y=\"244.317188\"/>\r\n      </g>\r\n     </g>\r\n     <g id=\"text_7\">\r\n      <!-- 1.2 -->\r\n      <g transform=\"translate(359.082035 258.915625)scale(0.1 -0.1)\">\r\n       <use xlink:href=\"#DejaVuSans-49\"/>\r\n       <use x=\"63.623047\" xlink:href=\"#DejaVuSans-46\"/>\r\n       <use x=\"95.410156\" xlink:href=\"#DejaVuSans-50\"/>\r\n      </g>\r\n     </g>\r\n    </g>\r\n    <g id=\"text_8\">\r\n     <!-- Life Exp (years) -->\r\n     <g transform=\"translate(154.356875 277.152813)scale(0.16 -0.16)\">\r\n      <defs>\r\n       <path d=\"M 9.8125 72.90625 \r\nL 19.671875 72.90625 \r\nL 19.671875 8.296875 \r\nL 55.171875 8.296875 \r\nL 55.171875 0 \r\nL 9.8125 0 \r\nz\r\n\" id=\"DejaVuSans-76\"/>\r\n       <path d=\"M 9.421875 54.6875 \r\nL 18.40625 54.6875 \r\nL 18.40625 0 \r\nL 9.421875 0 \r\nz\r\nM 9.421875 75.984375 \r\nL 18.40625 75.984375 \r\nL 18.40625 64.59375 \r\nL 9.421875 64.59375 \r\nz\r\n\" id=\"DejaVuSans-105\"/>\r\n       <path d=\"M 37.109375 75.984375 \r\nL 37.109375 68.5 \r\nL 28.515625 68.5 \r\nQ 23.6875 68.5 21.796875 66.546875 \r\nQ 19.921875 64.59375 19.921875 59.515625 \r\nL 19.921875 54.6875 \r\nL 34.71875 54.6875 \r\nL 34.71875 47.703125 \r\nL 19.921875 47.703125 \r\nL 19.921875 0 \r\nL 10.890625 0 \r\nL 10.890625 47.703125 \r\nL 2.296875 47.703125 \r\nL 2.296875 54.6875 \r\nL 10.890625 54.6875 \r\nL 10.890625 58.5 \r\nQ 10.890625 67.625 15.140625 71.796875 \r\nQ 19.390625 75.984375 28.609375 75.984375 \r\nz\r\n\" id=\"DejaVuSans-102\"/>\r\n       <path d=\"M 56.203125 29.59375 \r\nL 56.203125 25.203125 \r\nL 14.890625 25.203125 \r\nQ 15.484375 15.921875 20.484375 11.0625 \r\nQ 25.484375 6.203125 34.421875 6.203125 \r\nQ 39.59375 6.203125 44.453125 7.46875 \r\nQ 49.3125 8.734375 54.109375 11.28125 \r\nL 54.109375 2.78125 \r\nQ 49.265625 0.734375 44.1875 -0.34375 \r\nQ 39.109375 -1.421875 33.890625 -1.421875 \r\nQ 20.796875 -1.421875 13.15625 6.1875 \r\nQ 5.515625 13.8125 5.515625 26.8125 \r\nQ 5.515625 40.234375 12.765625 48.109375 \r\nQ 20.015625 56 32.328125 56 \r\nQ 43.359375 56 49.78125 48.890625 \r\nQ 56.203125 41.796875 56.203125 29.59375 \r\nz\r\nM 47.21875 32.234375 \r\nQ 47.125 39.59375 43.09375 43.984375 \r\nQ 39.0625 48.390625 32.421875 48.390625 \r\nQ 24.90625 48.390625 20.390625 44.140625 \r\nQ 15.875 39.890625 15.1875 32.171875 \r\nz\r\n\" id=\"DejaVuSans-101\"/>\r\n       <path id=\"DejaVuSans-32\"/>\r\n       <path d=\"M 9.8125 72.90625 \r\nL 55.90625 72.90625 \r\nL 55.90625 64.59375 \r\nL 19.671875 64.59375 \r\nL 19.671875 43.015625 \r\nL 54.390625 43.015625 \r\nL 54.390625 34.71875 \r\nL 19.671875 34.71875 \r\nL 19.671875 8.296875 \r\nL 56.78125 8.296875 \r\nL 56.78125 0 \r\nL 9.8125 0 \r\nz\r\n\" id=\"DejaVuSans-69\"/>\r\n       <path d=\"M 54.890625 54.6875 \r\nL 35.109375 28.078125 \r\nL 55.90625 0 \r\nL 45.3125 0 \r\nL 29.390625 21.484375 \r\nL 13.484375 0 \r\nL 2.875 0 \r\nL 24.125 28.609375 \r\nL 4.6875 54.6875 \r\nL 15.28125 54.6875 \r\nL 29.78125 35.203125 \r\nL 44.28125 54.6875 \r\nz\r\n\" id=\"DejaVuSans-120\"/>\r\n       <path d=\"M 18.109375 8.203125 \r\nL 18.109375 -20.796875 \r\nL 9.078125 -20.796875 \r\nL 9.078125 54.6875 \r\nL 18.109375 54.6875 \r\nL 18.109375 46.390625 \r\nQ 20.953125 51.265625 25.265625 53.625 \r\nQ 29.59375 56 35.59375 56 \r\nQ 45.5625 56 51.78125 48.09375 \r\nQ 58.015625 40.1875 58.015625 27.296875 \r\nQ 58.015625 14.40625 51.78125 6.484375 \r\nQ 45.5625 -1.421875 35.59375 -1.421875 \r\nQ 29.59375 -1.421875 25.265625 0.953125 \r\nQ 20.953125 3.328125 18.109375 8.203125 \r\nz\r\nM 48.6875 27.296875 \r\nQ 48.6875 37.203125 44.609375 42.84375 \r\nQ 40.53125 48.484375 33.40625 48.484375 \r\nQ 26.265625 48.484375 22.1875 42.84375 \r\nQ 18.109375 37.203125 18.109375 27.296875 \r\nQ 18.109375 17.390625 22.1875 11.75 \r\nQ 26.265625 6.109375 33.40625 6.109375 \r\nQ 40.53125 6.109375 44.609375 11.75 \r\nQ 48.6875 17.390625 48.6875 27.296875 \r\nz\r\n\" id=\"DejaVuSans-112\"/>\r\n       <path d=\"M 31 75.875 \r\nQ 24.46875 64.65625 21.28125 53.65625 \r\nQ 18.109375 42.671875 18.109375 31.390625 \r\nQ 18.109375 20.125 21.3125 9.0625 \r\nQ 24.515625 -2 31 -13.1875 \r\nL 23.1875 -13.1875 \r\nQ 15.875 -1.703125 12.234375 9.375 \r\nQ 8.59375 20.453125 8.59375 31.390625 \r\nQ 8.59375 42.28125 12.203125 53.3125 \r\nQ 15.828125 64.359375 23.1875 75.875 \r\nz\r\n\" id=\"DejaVuSans-40\"/>\r\n       <path d=\"M 32.171875 -5.078125 \r\nQ 28.375 -14.84375 24.75 -17.8125 \r\nQ 21.140625 -20.796875 15.09375 -20.796875 \r\nL 7.90625 -20.796875 \r\nL 7.90625 -13.28125 \r\nL 13.1875 -13.28125 \r\nQ 16.890625 -13.28125 18.9375 -11.515625 \r\nQ 21 -9.765625 23.484375 -3.21875 \r\nL 25.09375 0.875 \r\nL 2.984375 54.6875 \r\nL 12.5 54.6875 \r\nL 29.59375 11.921875 \r\nL 46.6875 54.6875 \r\nL 56.203125 54.6875 \r\nz\r\n\" id=\"DejaVuSans-121\"/>\r\n       <path d=\"M 34.28125 27.484375 \r\nQ 23.390625 27.484375 19.1875 25 \r\nQ 14.984375 22.515625 14.984375 16.5 \r\nQ 14.984375 11.71875 18.140625 8.90625 \r\nQ 21.296875 6.109375 26.703125 6.109375 \r\nQ 34.1875 6.109375 38.703125 11.40625 \r\nQ 43.21875 16.703125 43.21875 25.484375 \r\nL 43.21875 27.484375 \r\nz\r\nM 52.203125 31.203125 \r\nL 52.203125 0 \r\nL 43.21875 0 \r\nL 43.21875 8.296875 \r\nQ 40.140625 3.328125 35.546875 0.953125 \r\nQ 30.953125 -1.421875 24.3125 -1.421875 \r\nQ 15.921875 -1.421875 10.953125 3.296875 \r\nQ 6 8.015625 6 15.921875 \r\nQ 6 25.140625 12.171875 29.828125 \r\nQ 18.359375 34.515625 30.609375 34.515625 \r\nL 43.21875 34.515625 \r\nL 43.21875 35.40625 \r\nQ 43.21875 41.609375 39.140625 45 \r\nQ 35.0625 48.390625 27.6875 48.390625 \r\nQ 23 48.390625 18.546875 47.265625 \r\nQ 14.109375 46.140625 10.015625 43.890625 \r\nL 10.015625 52.203125 \r\nQ 14.9375 54.109375 19.578125 55.046875 \r\nQ 24.21875 56 28.609375 56 \r\nQ 40.484375 56 46.34375 49.84375 \r\nQ 52.203125 43.703125 52.203125 31.203125 \r\nz\r\n\" id=\"DejaVuSans-97\"/>\r\n       <path d=\"M 41.109375 46.296875 \r\nQ 39.59375 47.171875 37.8125 47.578125 \r\nQ 36.03125 48 33.890625 48 \r\nQ 26.265625 48 22.1875 43.046875 \r\nQ 18.109375 38.09375 18.109375 28.8125 \r\nL 18.109375 0 \r\nL 9.078125 0 \r\nL 9.078125 54.6875 \r\nL 18.109375 54.6875 \r\nL 18.109375 46.1875 \r\nQ 20.953125 51.171875 25.484375 53.578125 \r\nQ 30.03125 56 36.53125 56 \r\nQ 37.453125 56 38.578125 55.875 \r\nQ 39.703125 55.765625 41.0625 55.515625 \r\nz\r\n\" id=\"DejaVuSans-114\"/>\r\n       <path d=\"M 44.28125 53.078125 \r\nL 44.28125 44.578125 \r\nQ 40.484375 46.53125 36.375 47.5 \r\nQ 32.28125 48.484375 27.875 48.484375 \r\nQ 21.1875 48.484375 17.84375 46.4375 \r\nQ 14.5 44.390625 14.5 40.28125 \r\nQ 14.5 37.15625 16.890625 35.375 \r\nQ 19.28125 33.59375 26.515625 31.984375 \r\nL 29.59375 31.296875 \r\nQ 39.15625 29.25 43.1875 25.515625 \r\nQ 47.21875 21.78125 47.21875 15.09375 \r\nQ 47.21875 7.46875 41.1875 3.015625 \r\nQ 35.15625 -1.421875 24.609375 -1.421875 \r\nQ 20.21875 -1.421875 15.453125 -0.5625 \r\nQ 10.6875 0.296875 5.421875 2 \r\nL 5.421875 11.28125 \r\nQ 10.40625 8.6875 15.234375 7.390625 \r\nQ 20.0625 6.109375 24.8125 6.109375 \r\nQ 31.15625 6.109375 34.5625 8.28125 \r\nQ 37.984375 10.453125 37.984375 14.40625 \r\nQ 37.984375 18.0625 35.515625 20.015625 \r\nQ 33.0625 21.96875 24.703125 23.78125 \r\nL 21.578125 24.515625 \r\nQ 13.234375 26.265625 9.515625 29.90625 \r\nQ 5.8125 33.546875 5.8125 39.890625 \r\nQ 5.8125 47.609375 11.28125 51.796875 \r\nQ 16.75 56 26.8125 56 \r\nQ 31.78125 56 36.171875 55.265625 \r\nQ 40.578125 54.546875 44.28125 53.078125 \r\nz\r\n\" id=\"DejaVuSans-115\"/>\r\n       <path d=\"M 8.015625 75.875 \r\nL 15.828125 75.875 \r\nQ 23.140625 64.359375 26.78125 53.3125 \r\nQ 30.421875 42.28125 30.421875 31.390625 \r\nQ 30.421875 20.453125 26.78125 9.375 \r\nQ 23.140625 -1.703125 15.828125 -13.1875 \r\nL 8.015625 -13.1875 \r\nQ 14.5 -2 17.703125 9.0625 \r\nQ 20.90625 20.125 20.90625 31.390625 \r\nQ 20.90625 42.671875 17.703125 53.65625 \r\nQ 14.5 64.65625 8.015625 75.875 \r\nz\r\n\" id=\"DejaVuSans-41\"/>\r\n      </defs>\r\n      <use xlink:href=\"#DejaVuSans-76\"/>\r\n      <use x=\"55.712891\" xlink:href=\"#DejaVuSans-105\"/>\r\n      <use x=\"83.496094\" xlink:href=\"#DejaVuSans-102\"/>\r\n      <use x=\"118.701172\" xlink:href=\"#DejaVuSans-101\"/>\r\n      <use x=\"180.224609\" xlink:href=\"#DejaVuSans-32\"/>\r\n      <use x=\"212.011719\" xlink:href=\"#DejaVuSans-69\"/>\r\n      <use x=\"275.195312\" xlink:href=\"#DejaVuSans-120\"/>\r\n      <use x=\"334.375\" xlink:href=\"#DejaVuSans-112\"/>\r\n      <use x=\"397.851562\" xlink:href=\"#DejaVuSans-32\"/>\r\n      <use x=\"429.638672\" xlink:href=\"#DejaVuSans-40\"/>\r\n      <use x=\"468.652344\" xlink:href=\"#DejaVuSans-121\"/>\r\n      <use x=\"527.832031\" xlink:href=\"#DejaVuSans-101\"/>\r\n      <use x=\"589.355469\" xlink:href=\"#DejaVuSans-97\"/>\r\n      <use x=\"650.634766\" xlink:href=\"#DejaVuSans-114\"/>\r\n      <use x=\"691.748047\" xlink:href=\"#DejaVuSans-115\"/>\r\n      <use x=\"743.847656\" xlink:href=\"#DejaVuSans-41\"/>\r\n     </g>\r\n    </g>\r\n    <g id=\"text_9\">\r\n     <!-- 1e6 -->\r\n     <g transform=\"translate(365.51 271.59375)scale(0.1 -0.1)\">\r\n      <use xlink:href=\"#DejaVuSans-49\"/>\r\n      <use x=\"63.623047\" xlink:href=\"#DejaVuSans-101\"/>\r\n      <use x=\"125.146484\" xlink:href=\"#DejaVuSans-54\"/>\r\n     </g>\r\n    </g>\r\n   </g>\r\n   <g id=\"matplotlib.axis_2\">\r\n    <g id=\"ytick_1\">\r\n     <g id=\"line2d_8\">\r\n      <defs>\r\n       <path d=\"M 0 0 \r\nL -3.5 0 \r\n\" id=\"m620d406838\" style=\"stroke:#000000;stroke-width:0.8;\"/>\r\n      </defs>\r\n      <g>\r\n       <use style=\"stroke:#000000;stroke-width:0.8;\" x=\"49.588125\" xlink:href=\"#m620d406838\" y=\"244.317188\"/>\r\n      </g>\r\n     </g>\r\n     <g id=\"text_10\">\r\n      <!-- 0.0 -->\r\n      <g transform=\"translate(26.685 248.116406)scale(0.1 -0.1)\">\r\n       <use xlink:href=\"#DejaVuSans-48\"/>\r\n       <use x=\"63.623047\" xlink:href=\"#DejaVuSans-46\"/>\r\n       <use x=\"95.410156\" xlink:href=\"#DejaVuSans-48\"/>\r\n      </g>\r\n     </g>\r\n    </g>\r\n    <g id=\"ytick_2\">\r\n     <g id=\"line2d_9\">\r\n      <g>\r\n       <use style=\"stroke:#000000;stroke-width:0.8;\" x=\"49.588125\" xlink:href=\"#m620d406838\" y=\"203.062046\"/>\r\n      </g>\r\n     </g>\r\n     <g id=\"text_11\">\r\n      <!-- 0.5 -->\r\n      <g transform=\"translate(26.685 206.861265)scale(0.1 -0.1)\">\r\n       <defs>\r\n        <path d=\"M 10.796875 72.90625 \r\nL 49.515625 72.90625 \r\nL 49.515625 64.59375 \r\nL 19.828125 64.59375 \r\nL 19.828125 46.734375 \r\nQ 21.96875 47.46875 24.109375 47.828125 \r\nQ 26.265625 48.1875 28.421875 48.1875 \r\nQ 40.625 48.1875 47.75 41.5 \r\nQ 54.890625 34.8125 54.890625 23.390625 \r\nQ 54.890625 11.625 47.5625 5.09375 \r\nQ 40.234375 -1.421875 26.90625 -1.421875 \r\nQ 22.3125 -1.421875 17.546875 -0.640625 \r\nQ 12.796875 0.140625 7.71875 1.703125 \r\nL 7.71875 11.625 \r\nQ 12.109375 9.234375 16.796875 8.0625 \r\nQ 21.484375 6.890625 26.703125 6.890625 \r\nQ 35.15625 6.890625 40.078125 11.328125 \r\nQ 45.015625 15.765625 45.015625 23.390625 \r\nQ 45.015625 31 40.078125 35.4375 \r\nQ 35.15625 39.890625 26.703125 39.890625 \r\nQ 22.75 39.890625 18.8125 39.015625 \r\nQ 14.890625 38.140625 10.796875 36.28125 \r\nz\r\n\" id=\"DejaVuSans-53\"/>\r\n       </defs>\r\n       <use xlink:href=\"#DejaVuSans-48\"/>\r\n       <use x=\"63.623047\" xlink:href=\"#DejaVuSans-46\"/>\r\n       <use x=\"95.410156\" xlink:href=\"#DejaVuSans-53\"/>\r\n      </g>\r\n     </g>\r\n    </g>\r\n    <g id=\"ytick_3\">\r\n     <g id=\"line2d_10\">\r\n      <g>\r\n       <use style=\"stroke:#000000;stroke-width:0.8;\" x=\"49.588125\" xlink:href=\"#m620d406838\" y=\"161.806904\"/>\r\n      </g>\r\n     </g>\r\n     <g id=\"text_12\">\r\n      <!-- 1.0 -->\r\n      <g transform=\"translate(26.685 165.606123)scale(0.1 -0.1)\">\r\n       <use xlink:href=\"#DejaVuSans-49\"/>\r\n       <use x=\"63.623047\" xlink:href=\"#DejaVuSans-46\"/>\r\n       <use x=\"95.410156\" xlink:href=\"#DejaVuSans-48\"/>\r\n      </g>\r\n     </g>\r\n    </g>\r\n    <g id=\"ytick_4\">\r\n     <g id=\"line2d_11\">\r\n      <g>\r\n       <use style=\"stroke:#000000;stroke-width:0.8;\" x=\"49.588125\" xlink:href=\"#m620d406838\" y=\"120.551762\"/>\r\n      </g>\r\n     </g>\r\n     <g id=\"text_13\">\r\n      <!-- 1.5 -->\r\n      <g transform=\"translate(26.685 124.350981)scale(0.1 -0.1)\">\r\n       <use xlink:href=\"#DejaVuSans-49\"/>\r\n       <use x=\"63.623047\" xlink:href=\"#DejaVuSans-46\"/>\r\n       <use x=\"95.410156\" xlink:href=\"#DejaVuSans-53\"/>\r\n      </g>\r\n     </g>\r\n    </g>\r\n    <g id=\"ytick_5\">\r\n     <g id=\"line2d_12\">\r\n      <g>\r\n       <use style=\"stroke:#000000;stroke-width:0.8;\" x=\"49.588125\" xlink:href=\"#m620d406838\" y=\"79.296621\"/>\r\n      </g>\r\n     </g>\r\n     <g id=\"text_14\">\r\n      <!-- 2.0 -->\r\n      <g transform=\"translate(26.685 83.095839)scale(0.1 -0.1)\">\r\n       <use xlink:href=\"#DejaVuSans-50\"/>\r\n       <use x=\"63.623047\" xlink:href=\"#DejaVuSans-46\"/>\r\n       <use x=\"95.410156\" xlink:href=\"#DejaVuSans-48\"/>\r\n      </g>\r\n     </g>\r\n    </g>\r\n    <g id=\"ytick_6\">\r\n     <g id=\"line2d_13\">\r\n      <g>\r\n       <use style=\"stroke:#000000;stroke-width:0.8;\" x=\"49.588125\" xlink:href=\"#m620d406838\" y=\"38.041479\"/>\r\n      </g>\r\n     </g>\r\n     <g id=\"text_15\">\r\n      <!-- 2.5 -->\r\n      <g transform=\"translate(26.685 41.840698)scale(0.1 -0.1)\">\r\n       <use xlink:href=\"#DejaVuSans-50\"/>\r\n       <use x=\"63.623047\" xlink:href=\"#DejaVuSans-46\"/>\r\n       <use x=\"95.410156\" xlink:href=\"#DejaVuSans-53\"/>\r\n      </g>\r\n     </g>\r\n    </g>\r\n    <g id=\"text_16\">\r\n     <!-- Frequency -->\r\n     <g transform=\"translate(19.3575 176.924688)rotate(-90)scale(0.16 -0.16)\">\r\n      <defs>\r\n       <path d=\"M 9.8125 72.90625 \r\nL 51.703125 72.90625 \r\nL 51.703125 64.59375 \r\nL 19.671875 64.59375 \r\nL 19.671875 43.109375 \r\nL 48.578125 43.109375 \r\nL 48.578125 34.8125 \r\nL 19.671875 34.8125 \r\nL 19.671875 0 \r\nL 9.8125 0 \r\nz\r\n\" id=\"DejaVuSans-70\"/>\r\n       <path d=\"M 14.796875 27.296875 \r\nQ 14.796875 17.390625 18.875 11.75 \r\nQ 22.953125 6.109375 30.078125 6.109375 \r\nQ 37.203125 6.109375 41.296875 11.75 \r\nQ 45.40625 17.390625 45.40625 27.296875 \r\nQ 45.40625 37.203125 41.296875 42.84375 \r\nQ 37.203125 48.484375 30.078125 48.484375 \r\nQ 22.953125 48.484375 18.875 42.84375 \r\nQ 14.796875 37.203125 14.796875 27.296875 \r\nz\r\nM 45.40625 8.203125 \r\nQ 42.578125 3.328125 38.25 0.953125 \r\nQ 33.9375 -1.421875 27.875 -1.421875 \r\nQ 17.96875 -1.421875 11.734375 6.484375 \r\nQ 5.515625 14.40625 5.515625 27.296875 \r\nQ 5.515625 40.1875 11.734375 48.09375 \r\nQ 17.96875 56 27.875 56 \r\nQ 33.9375 56 38.25 53.625 \r\nQ 42.578125 51.265625 45.40625 46.390625 \r\nL 45.40625 54.6875 \r\nL 54.390625 54.6875 \r\nL 54.390625 -20.796875 \r\nL 45.40625 -20.796875 \r\nz\r\n\" id=\"DejaVuSans-113\"/>\r\n       <path d=\"M 8.5 21.578125 \r\nL 8.5 54.6875 \r\nL 17.484375 54.6875 \r\nL 17.484375 21.921875 \r\nQ 17.484375 14.15625 20.5 10.265625 \r\nQ 23.53125 6.390625 29.59375 6.390625 \r\nQ 36.859375 6.390625 41.078125 11.03125 \r\nQ 45.3125 15.671875 45.3125 23.6875 \r\nL 45.3125 54.6875 \r\nL 54.296875 54.6875 \r\nL 54.296875 0 \r\nL 45.3125 0 \r\nL 45.3125 8.40625 \r\nQ 42.046875 3.421875 37.71875 1 \r\nQ 33.40625 -1.421875 27.6875 -1.421875 \r\nQ 18.265625 -1.421875 13.375 4.4375 \r\nQ 8.5 10.296875 8.5 21.578125 \r\nz\r\nM 31.109375 56 \r\nz\r\n\" id=\"DejaVuSans-117\"/>\r\n       <path d=\"M 54.890625 33.015625 \r\nL 54.890625 0 \r\nL 45.90625 0 \r\nL 45.90625 32.71875 \r\nQ 45.90625 40.484375 42.875 44.328125 \r\nQ 39.84375 48.1875 33.796875 48.1875 \r\nQ 26.515625 48.1875 22.3125 43.546875 \r\nQ 18.109375 38.921875 18.109375 30.90625 \r\nL 18.109375 0 \r\nL 9.078125 0 \r\nL 9.078125 54.6875 \r\nL 18.109375 54.6875 \r\nL 18.109375 46.1875 \r\nQ 21.34375 51.125 25.703125 53.5625 \r\nQ 30.078125 56 35.796875 56 \r\nQ 45.21875 56 50.046875 50.171875 \r\nQ 54.890625 44.34375 54.890625 33.015625 \r\nz\r\n\" id=\"DejaVuSans-110\"/>\r\n       <path d=\"M 48.78125 52.59375 \r\nL 48.78125 44.1875 \r\nQ 44.96875 46.296875 41.140625 47.34375 \r\nQ 37.3125 48.390625 33.40625 48.390625 \r\nQ 24.65625 48.390625 19.8125 42.84375 \r\nQ 14.984375 37.3125 14.984375 27.296875 \r\nQ 14.984375 17.28125 19.8125 11.734375 \r\nQ 24.65625 6.203125 33.40625 6.203125 \r\nQ 37.3125 6.203125 41.140625 7.25 \r\nQ 44.96875 8.296875 48.78125 10.40625 \r\nL 48.78125 2.09375 \r\nQ 45.015625 0.34375 40.984375 -0.53125 \r\nQ 36.96875 -1.421875 32.421875 -1.421875 \r\nQ 20.0625 -1.421875 12.78125 6.34375 \r\nQ 5.515625 14.109375 5.515625 27.296875 \r\nQ 5.515625 40.671875 12.859375 48.328125 \r\nQ 20.21875 56 33.015625 56 \r\nQ 37.15625 56 41.109375 55.140625 \r\nQ 45.0625 54.296875 48.78125 52.59375 \r\nz\r\n\" id=\"DejaVuSans-99\"/>\r\n      </defs>\r\n      <use xlink:href=\"#DejaVuSans-70\"/>\r\n      <use x=\"50.269531\" xlink:href=\"#DejaVuSans-114\"/>\r\n      <use x=\"89.132812\" xlink:href=\"#DejaVuSans-101\"/>\r\n      <use x=\"150.65625\" xlink:href=\"#DejaVuSans-113\"/>\r\n      <use x=\"214.132812\" xlink:href=\"#DejaVuSans-117\"/>\r\n      <use x=\"277.511719\" xlink:href=\"#DejaVuSans-101\"/>\r\n      <use x=\"339.035156\" xlink:href=\"#DejaVuSans-110\"/>\r\n      <use x=\"402.414062\" xlink:href=\"#DejaVuSans-99\"/>\r\n      <use x=\"457.394531\" xlink:href=\"#DejaVuSans-121\"/>\r\n     </g>\r\n    </g>\r\n    <g id=\"text_17\">\r\n     <!-- 1e−5 -->\r\n     <g transform=\"translate(49.588125 23.877187)scale(0.1 -0.1)\">\r\n      <defs>\r\n       <path d=\"M 10.59375 35.5 \r\nL 73.1875 35.5 \r\nL 73.1875 27.203125 \r\nL 10.59375 27.203125 \r\nz\r\n\" id=\"DejaVuSans-8722\"/>\r\n      </defs>\r\n      <use xlink:href=\"#DejaVuSans-49\"/>\r\n      <use x=\"63.623047\" xlink:href=\"#DejaVuSans-101\"/>\r\n      <use x=\"125.146484\" xlink:href=\"#DejaVuSans-8722\"/>\r\n      <use x=\"208.935547\" xlink:href=\"#DejaVuSans-53\"/>\r\n     </g>\r\n    </g>\r\n   </g>\r\n   <g id=\"line2d_14\">\r\n    <path clip-path=\"url(#p51d1c22647)\" d=\"M 64.806307 243.630105 \r\nL 66.335772 241.147516 \r\nL 67.865238 233.099449 \r\nL 69.394703 213.750017 \r\nL 70.924169 179.831686 \r\nL 72.453634 138.074367 \r\nL 73.9831 105.683791 \r\nL 75.512565 97.705487 \r\nL 77.042031 113.891689 \r\nL 80.100962 166.522315 \r\nL 81.630427 185.106087 \r\nL 83.159893 197.856808 \r\nL 84.689358 207.050349 \r\nL 86.218824 214.005854 \r\nL 87.748289 219.220612 \r\nL 89.277755 222.997098 \r\nL 90.80722 225.560595 \r\nL 92.336686 227.109217 \r\nL 93.866151 228.149126 \r\nL 95.395617 229.457444 \r\nL 98.454548 233.51476 \r\nL 99.984014 235.0535 \r\nL 101.513479 235.797734 \r\nL 103.042945 236.225252 \r\nL 104.57241 236.952769 \r\nL 107.631341 239.502995 \r\nL 109.160807 240.422393 \r\nL 110.690272 240.536364 \r\nL 112.219738 239.845937 \r\nL 115.278669 237.704809 \r\nL 116.808134 237.172964 \r\nL 118.3376 237.250805 \r\nL 119.867065 237.904245 \r\nL 121.396531 239.021505 \r\nL 122.925996 240.347767 \r\nL 124.455462 241.507487 \r\nL 125.984927 242.195466 \r\nL 127.514393 242.325634 \r\nL 129.043858 242.020843 \r\nL 132.102789 241.076554 \r\nL 133.632255 240.874893 \r\nL 135.16172 241.004443 \r\nL 136.691186 241.447604 \r\nL 139.750117 242.655385 \r\nL 141.279582 243.074207 \r\nL 144.338513 243.531884 \r\nL 147.397444 243.818606 \r\nL 148.92691 243.807253 \r\nL 150.456375 243.638051 \r\nL 151.985841 243.310622 \r\nL 156.574237 242.087052 \r\nL 158.103703 242.005396 \r\nL 162.692099 242.22595 \r\nL 165.75103 241.943197 \r\nL 167.280496 242.026371 \r\nL 168.809961 242.382155 \r\nL 171.868892 243.418454 \r\nL 173.398358 243.802406 \r\nL 176.457289 244.150166 \r\nL 181.045686 244.262989 \r\nL 184.104617 244.18213 \r\nL 188.693013 243.746601 \r\nL 193.28141 243.183057 \r\nL 196.340341 242.713491 \r\nL 197.869806 242.692744 \r\nL 199.399272 242.901673 \r\nL 203.987668 243.874126 \r\nL 205.517134 243.933637 \r\nL 207.046599 243.790425 \r\nL 211.634996 242.991128 \r\nL 213.164461 243.042825 \r\nL 216.223392 243.626524 \r\nL 219.282323 244.11509 \r\nL 222.341254 244.276255 \r\nL 229.988582 244.290775 \r\nL 234.576978 244.067864 \r\nL 237.635909 243.851536 \r\nL 240.69484 243.867837 \r\nL 248.342168 244.264395 \r\nL 251.401099 244.204166 \r\nL 257.518961 243.822272 \r\nL 260.577892 243.924868 \r\nL 266.695754 244.269381 \r\nL 274.343082 244.317072 \r\nL 312.579719 244.24115 \r\nL 317.168116 243.903938 \r\nL 320.227047 243.723784 \r\nL 323.285978 243.790902 \r\nL 332.462771 244.274646 \r\nL 338.580633 244.297368 \r\nL 343.16903 244.112495 \r\nL 347.757426 243.748585 \r\nL 350.816357 243.748192 \r\nL 363.052081 244.304573 \r\nL 369.169943 244.317125 \r\nL 369.169943 244.317125 \r\n\" style=\"fill:none;stroke:#1f77b4;stroke-linecap:square;stroke-width:1.5;\"/>\r\n   </g>\r\n   <g id=\"patch_53\">\r\n    <path d=\"M 49.588125 244.317188 \r\nL 49.588125 26.877187 \r\n\" style=\"fill:none;stroke:#000000;stroke-linecap:square;stroke-linejoin:miter;stroke-width:0.8;\"/>\r\n   </g>\r\n   <g id=\"patch_54\">\r\n    <path d=\"M 384.388125 244.317188 \r\nL 384.388125 26.877187 \r\n\" style=\"fill:none;stroke:#000000;stroke-linecap:square;stroke-linejoin:miter;stroke-width:0.8;\"/>\r\n   </g>\r\n   <g id=\"patch_55\">\r\n    <path d=\"M 49.588125 244.317188 \r\nL 384.388125 244.317188 \r\n\" style=\"fill:none;stroke:#000000;stroke-linecap:square;stroke-linejoin:miter;stroke-width:0.8;\"/>\r\n   </g>\r\n   <g id=\"patch_56\">\r\n    <path d=\"M 49.588125 26.877187 \r\nL 384.388125 26.877187 \r\n\" style=\"fill:none;stroke:#000000;stroke-linecap:square;stroke-linejoin:miter;stroke-width:0.8;\"/>\r\n   </g>\r\n   <g id=\"text_18\">\r\n    <!-- Life Expectancy -->\r\n    <g transform=\"translate(145.670156 20.877187)scale(0.18 -0.18)\">\r\n     <defs>\r\n      <path d=\"M 18.3125 70.21875 \r\nL 18.3125 54.6875 \r\nL 36.8125 54.6875 \r\nL 36.8125 47.703125 \r\nL 18.3125 47.703125 \r\nL 18.3125 18.015625 \r\nQ 18.3125 11.328125 20.140625 9.421875 \r\nQ 21.96875 7.515625 27.59375 7.515625 \r\nL 36.8125 7.515625 \r\nL 36.8125 0 \r\nL 27.59375 0 \r\nQ 17.1875 0 13.234375 3.875 \r\nQ 9.28125 7.765625 9.28125 18.015625 \r\nL 9.28125 47.703125 \r\nL 2.6875 47.703125 \r\nL 2.6875 54.6875 \r\nL 9.28125 54.6875 \r\nL 9.28125 70.21875 \r\nz\r\n\" id=\"DejaVuSans-116\"/>\r\n     </defs>\r\n     <use xlink:href=\"#DejaVuSans-76\"/>\r\n     <use x=\"55.712891\" xlink:href=\"#DejaVuSans-105\"/>\r\n     <use x=\"83.496094\" xlink:href=\"#DejaVuSans-102\"/>\r\n     <use x=\"118.701172\" xlink:href=\"#DejaVuSans-101\"/>\r\n     <use x=\"180.224609\" xlink:href=\"#DejaVuSans-32\"/>\r\n     <use x=\"212.011719\" xlink:href=\"#DejaVuSans-69\"/>\r\n     <use x=\"275.195312\" xlink:href=\"#DejaVuSans-120\"/>\r\n     <use x=\"334.375\" xlink:href=\"#DejaVuSans-112\"/>\r\n     <use x=\"397.851562\" xlink:href=\"#DejaVuSans-101\"/>\r\n     <use x=\"459.375\" xlink:href=\"#DejaVuSans-99\"/>\r\n     <use x=\"514.355469\" xlink:href=\"#DejaVuSans-116\"/>\r\n     <use x=\"553.564453\" xlink:href=\"#DejaVuSans-97\"/>\r\n     <use x=\"614.84375\" xlink:href=\"#DejaVuSans-110\"/>\r\n     <use x=\"678.222656\" xlink:href=\"#DejaVuSans-99\"/>\r\n     <use x=\"733.203125\" xlink:href=\"#DejaVuSans-121\"/>\r\n    </g>\r\n   </g>\r\n  </g>\r\n </g>\r\n <defs>\r\n  <clipPath id=\"p51d1c22647\">\r\n   <rect height=\"217.44\" width=\"334.8\" x=\"49.588125\" y=\"26.877187\"/>\r\n  </clipPath>\r\n </defs>\r\n</svg>\r\n",
      "image/png": "[encoded data removed]"
     },
     "metadata": {
      "needs_background": "light"
     }
    }
   ],
   "source": [
    "sns.distplot(df_rs_qty_gn_rcn['PricePerUnit'])\n",
    "plt.title('Life Expectancy', fontsize=18)\n",
    "plt.xlabel('Life Exp (years)', fontsize=16)\n",
    "plt.ylabel('Frequency', fontsize=16)"
   ]
  },
  {
   "cell_type": "code",
   "execution_count": 76,
   "metadata": {},
   "outputs": [
    {
     "output_type": "stream",
     "name": "stderr",
     "text": [
      "C:\\Users\\shali\\AppData\\Local\\Programs\\Python\\Python37\\lib\\site-packages\\seaborn\\distributions.py:2557: FutureWarning: `distplot` is a deprecated function and will be removed in a future version. Please adapt your code to use either `displot` (a figure-level function with similar flexibility) or `histplot` (an axes-level function for histograms).\n  warnings.warn(msg, FutureWarning)\n"
     ]
    },
    {
     "output_type": "execute_result",
     "data": {
      "text/plain": [
       "Text(0, 0.5, 'Frequency')"
      ]
     },
     "metadata": {},
     "execution_count": 76
    },
    {
     "output_type": "display_data",
     "data": {
      "text/plain": "<Figure size 432x288 with 1 Axes>",
      "image/svg+xml": "<?xml version=\"1.0\" encoding=\"utf-8\" standalone=\"no\"?>\r\n<!DOCTYPE svg PUBLIC \"-//W3C//DTD SVG 1.1//EN\"\r\n  \"http://www.w3.org/Graphics/SVG/1.1/DTD/svg11.dtd\">\r\n<!-- Created with matplotlib (https://matplotlib.org/) -->\r\n<svg height=\"287.680313pt\" version=\"1.1\" viewBox=\"0 0 397.950625 287.680313\" width=\"397.950625pt\" xmlns=\"http://www.w3.org/2000/svg\" xmlns:xlink=\"http://www.w3.org/1999/xlink\">\r\n <metadata>\r\n  <rdf:RDF xmlns:cc=\"http://creativecommons.org/ns#\" xmlns:dc=\"http://purl.org/dc/elements/1.1/\" xmlns:rdf=\"http://www.w3.org/1999/02/22-rdf-syntax-ns#\">\r\n   <cc:Work>\r\n    <dc:type rdf:resource=\"http://purl.org/dc/dcmitype/StillImage\"/>\r\n    <dc:date>2021-03-11T10:17:56.505898</dc:date>\r\n    <dc:format>image/svg+xml</dc:format>\r\n    <dc:creator>\r\n     <cc:Agent>\r\n      <dc:title>Matplotlib v3.3.4, https://matplotlib.org/</dc:title>\r\n     </cc:Agent>\r\n    </dc:creator>\r\n   </cc:Work>\r\n  </rdf:RDF>\r\n </metadata>\r\n <defs>\r\n  <style type=\"text/css\">*{stroke-linecap:butt;stroke-linejoin:round;}</style>\r\n </defs>\r\n <g id=\"figure_1\">\r\n  <g id=\"patch_1\">\r\n   <path d=\"M 0 287.680313 \r\nL 397.950625 287.680313 \r\nL 397.950625 0 \r\nL 0 0 \r\nz\r\n\" style=\"fill:none;\"/>\r\n  </g>\r\n  <g id=\"axes_1\">\r\n   <g id=\"patch_2\">\r\n    <path d=\"M 55.950625 244.317188 \r\nL 390.750625 244.317188 \r\nL 390.750625 26.877187 \r\nL 55.950625 26.877187 \r\nz\r\n\" style=\"fill:#ffffff;\"/>\r\n   </g>\r\n   <g id=\"patch_3\">\r\n    <path clip-path=\"url(#pabe7419a39)\" d=\"M 84.158968 244.317188 \r\nL 89.726634 244.317188 \r\nL 89.726634 244.191643 \r\nL 84.158968 244.191643 \r\nz\r\n\" style=\"fill:#1f77b4;opacity:0.4;\"/>\r\n   </g>\r\n   <g id=\"patch_4\">\r\n    <path clip-path=\"url(#pabe7419a39)\" d=\"M 89.726634 244.317188 \r\nL 95.294301 244.317188 \r\nL 95.294301 244.149795 \r\nL 89.726634 244.149795 \r\nz\r\n\" style=\"fill:#1f77b4;opacity:0.4;\"/>\r\n   </g>\r\n   <g id=\"patch_5\">\r\n    <path clip-path=\"url(#pabe7419a39)\" d=\"M 95.294301 244.317188 \r\nL 100.861967 244.317188 \r\nL 100.861967 243.166363 \r\nL 95.294301 243.166363 \r\nz\r\n\" style=\"fill:#1f77b4;opacity:0.4;\"/>\r\n   </g>\r\n   <g id=\"patch_6\">\r\n    <path clip-path=\"url(#pabe7419a39)\" d=\"M 100.861967 244.317188 \r\nL 106.429633 244.317188 \r\nL 106.429633 241.492435 \r\nL 100.861967 241.492435 \r\nz\r\n\" style=\"fill:#1f77b4;opacity:0.4;\"/>\r\n   </g>\r\n   <g id=\"patch_7\">\r\n    <path clip-path=\"url(#pabe7419a39)\" d=\"M 106.429633 244.317188 \r\nL 111.997299 244.317188 \r\nL 111.997299 240.948409 \r\nL 106.429633 240.948409 \r\nz\r\n\" style=\"fill:#1f77b4;opacity:0.4;\"/>\r\n   </g>\r\n   <g id=\"patch_8\">\r\n    <path clip-path=\"url(#pabe7419a39)\" d=\"M 111.997299 244.317188 \r\nL 117.564966 244.317188 \r\nL 117.564966 239.818508 \r\nL 111.997299 239.818508 \r\nz\r\n\" style=\"fill:#1f77b4;opacity:0.4;\"/>\r\n   </g>\r\n   <g id=\"patch_9\">\r\n    <path clip-path=\"url(#pabe7419a39)\" d=\"M 117.564966 244.317188 \r\nL 123.132632 244.317188 \r\nL 123.132632 235.089664 \r\nL 117.564966 235.089664 \r\nz\r\n\" style=\"fill:#1f77b4;opacity:0.4;\"/>\r\n   </g>\r\n   <g id=\"patch_10\">\r\n    <path clip-path=\"url(#pabe7419a39)\" d=\"M 123.132632 244.317188 \r\nL 128.700298 244.317188 \r\nL 128.700298 235.298905 \r\nL 123.132632 235.298905 \r\nz\r\n\" style=\"fill:#1f77b4;opacity:0.4;\"/>\r\n   </g>\r\n   <g id=\"patch_11\">\r\n    <path clip-path=\"url(#pabe7419a39)\" d=\"M 128.700298 244.317188 \r\nL 134.267965 244.317188 \r\nL 134.267965 235.947552 \r\nL 128.700298 235.947552 \r\nz\r\n\" style=\"fill:#1f77b4;opacity:0.4;\"/>\r\n   </g>\r\n   <g id=\"patch_12\">\r\n    <path clip-path=\"url(#pabe7419a39)\" d=\"M 134.267965 244.317188 \r\nL 139.835631 244.317188 \r\nL 139.835631 228.791513 \r\nL 134.267965 228.791513 \r\nz\r\n\" style=\"fill:#1f77b4;opacity:0.4;\"/>\r\n   </g>\r\n   <g id=\"patch_13\">\r\n    <path clip-path=\"url(#pabe7419a39)\" d=\"M 139.835631 244.317188 \r\nL 145.403297 244.317188 \r\nL 145.403297 227.996398 \r\nL 139.835631 227.996398 \r\nz\r\n\" style=\"fill:#1f77b4;opacity:0.4;\"/>\r\n   </g>\r\n   <g id=\"patch_14\">\r\n    <path clip-path=\"url(#pabe7419a39)\" d=\"M 145.403297 244.317188 \r\nL 150.970963 244.317188 \r\nL 150.970963 231.720886 \r\nL 145.403297 231.720886 \r\nz\r\n\" style=\"fill:#1f77b4;opacity:0.4;\"/>\r\n   </g>\r\n   <g id=\"patch_15\">\r\n    <path clip-path=\"url(#pabe7419a39)\" d=\"M 150.970963 244.317188 \r\nL 156.53863 244.317188 \r\nL 156.53863 223.309402 \r\nL 150.970963 223.309402 \r\nz\r\n\" style=\"fill:#1f77b4;opacity:0.4;\"/>\r\n   </g>\r\n   <g id=\"patch_16\">\r\n    <path clip-path=\"url(#pabe7419a39)\" d=\"M 156.53863 244.317188 \r\nL 162.106296 244.317188 \r\nL 162.106296 214.835145 \r\nL 156.53863 214.835145 \r\nz\r\n\" style=\"fill:#1f77b4;opacity:0.4;\"/>\r\n   </g>\r\n   <g id=\"patch_17\">\r\n    <path clip-path=\"url(#pabe7419a39)\" d=\"M 162.106296 244.317188 \r\nL 167.673962 244.317188 \r\nL 167.673962 208.683463 \r\nL 162.106296 208.683463 \r\nz\r\n\" style=\"fill:#1f77b4;opacity:0.4;\"/>\r\n   </g>\r\n   <g id=\"patch_18\">\r\n    <path clip-path=\"url(#pabe7419a39)\" d=\"M 167.673962 244.317188 \r\nL 173.241628 244.317188 \r\nL 173.241628 205.565774 \r\nL 167.673962 205.565774 \r\nz\r\n\" style=\"fill:#1f77b4;opacity:0.4;\"/>\r\n   </g>\r\n   <g id=\"patch_19\">\r\n    <path clip-path=\"url(#pabe7419a39)\" d=\"M 173.241628 244.317188 \r\nL 178.809295 244.317188 \r\nL 178.809295 183.658252 \r\nL 173.241628 183.658252 \r\nz\r\n\" style=\"fill:#1f77b4;opacity:0.4;\"/>\r\n   </g>\r\n   <g id=\"patch_20\">\r\n    <path clip-path=\"url(#pabe7419a39)\" d=\"M 178.809295 244.317188 \r\nL 184.376961 244.317188 \r\nL 184.376961 171.480432 \r\nL 178.809295 171.480432 \r\nz\r\n\" style=\"fill:#1f77b4;opacity:0.4;\"/>\r\n   </g>\r\n   <g id=\"patch_21\">\r\n    <path clip-path=\"url(#pabe7419a39)\" d=\"M 184.376961 244.317188 \r\nL 189.944627 244.317188 \r\nL 189.944627 163.0271 \r\nL 184.376961 163.0271 \r\nz\r\n\" style=\"fill:#1f77b4;opacity:0.4;\"/>\r\n   </g>\r\n   <g id=\"patch_22\">\r\n    <path clip-path=\"url(#pabe7419a39)\" d=\"M 189.944627 244.317188 \r\nL 195.512294 244.317188 \r\nL 195.512294 157.210203 \r\nL 189.944627 157.210203 \r\nz\r\n\" style=\"fill:#1f77b4;opacity:0.4;\"/>\r\n   </g>\r\n   <g id=\"patch_23\">\r\n    <path clip-path=\"url(#pabe7419a39)\" d=\"M 195.512294 244.317188 \r\nL 201.07996 244.317188 \r\nL 201.07996 142.835353 \r\nL 195.512294 142.835353 \r\nz\r\n\" style=\"fill:#1f77b4;opacity:0.4;\"/>\r\n   </g>\r\n   <g id=\"patch_24\">\r\n    <path clip-path=\"url(#pabe7419a39)\" d=\"M 201.07996 244.317188 \r\nL 206.647626 244.317188 \r\nL 206.647626 125.824068 \r\nL 201.07996 125.824068 \r\nz\r\n\" style=\"fill:#1f77b4;opacity:0.4;\"/>\r\n   </g>\r\n   <g id=\"patch_25\">\r\n    <path clip-path=\"url(#pabe7419a39)\" d=\"M 206.647626 244.317188 \r\nL 212.215292 244.317188 \r\nL 212.215292 136.976608 \r\nL 206.647626 136.976608 \r\nz\r\n\" style=\"fill:#1f77b4;opacity:0.4;\"/>\r\n   </g>\r\n   <g id=\"patch_26\">\r\n    <path clip-path=\"url(#pabe7419a39)\" d=\"M 212.215292 244.317188 \r\nL 217.782959 244.317188 \r\nL 217.782959 109.126645 \r\nL 212.215292 109.126645 \r\nz\r\n\" style=\"fill:#1f77b4;opacity:0.4;\"/>\r\n   </g>\r\n   <g id=\"patch_27\">\r\n    <path clip-path=\"url(#pabe7419a39)\" d=\"M 217.782959 244.317188 \r\nL 223.350625 244.317188 \r\nL 223.350625 117.496281 \r\nL 217.782959 117.496281 \r\nz\r\n\" style=\"fill:#1f77b4;opacity:0.4;\"/>\r\n   </g>\r\n   <g id=\"patch_28\">\r\n    <path clip-path=\"url(#pabe7419a39)\" d=\"M 223.350625 244.317188 \r\nL 228.918291 244.317188 \r\nL 228.918291 144.111723 \r\nL 223.350625 144.111723 \r\nz\r\n\" style=\"fill:#1f77b4;opacity:0.4;\"/>\r\n   </g>\r\n   <g id=\"patch_29\">\r\n    <path clip-path=\"url(#pabe7419a39)\" d=\"M 228.918291 244.317188 \r\nL 234.485958 244.317188 \r\nL 234.485958 116.031594 \r\nL 228.918291 116.031594 \r\nz\r\n\" style=\"fill:#1f77b4;opacity:0.4;\"/>\r\n   </g>\r\n   <g id=\"patch_30\">\r\n    <path clip-path=\"url(#pabe7419a39)\" d=\"M 234.485958 244.317188 \r\nL 240.053624 244.317188 \r\nL 240.053624 75.187772 \r\nL 234.485958 75.187772 \r\nz\r\n\" style=\"fill:#1f77b4;opacity:0.4;\"/>\r\n   </g>\r\n   <g id=\"patch_31\">\r\n    <path clip-path=\"url(#pabe7419a39)\" d=\"M 240.053624 244.317188 \r\nL 245.62129 244.317188 \r\nL 245.62129 130.657533 \r\nL 240.053624 130.657533 \r\nz\r\n\" style=\"fill:#1f77b4;opacity:0.4;\"/>\r\n   </g>\r\n   <g id=\"patch_32\">\r\n    <path clip-path=\"url(#pabe7419a39)\" d=\"M 245.62129 244.317188 \r\nL 251.188956 244.317188 \r\nL 251.188956 128.062946 \r\nL 245.62129 128.062946 \r\nz\r\n\" style=\"fill:#1f77b4;opacity:0.4;\"/>\r\n   </g>\r\n   <g id=\"patch_33\">\r\n    <path clip-path=\"url(#pabe7419a39)\" d=\"M 251.188956 244.317188 \r\nL 256.756623 244.317188 \r\nL 256.756623 37.231473 \r\nL 251.188956 37.231473 \r\nz\r\n\" style=\"fill:#1f77b4;opacity:0.4;\"/>\r\n   </g>\r\n   <g id=\"patch_34\">\r\n    <path clip-path=\"url(#pabe7419a39)\" d=\"M 256.756623 244.317188 \r\nL 262.324289 244.317188 \r\nL 262.324289 89.018595 \r\nL 256.756623 89.018595 \r\nz\r\n\" style=\"fill:#1f77b4;opacity:0.4;\"/>\r\n   </g>\r\n   <g id=\"patch_35\">\r\n    <path clip-path=\"url(#pabe7419a39)\" d=\"M 262.324289 244.317188 \r\nL 267.891955 244.317188 \r\nL 267.891955 84.457143 \r\nL 262.324289 84.457143 \r\nz\r\n\" style=\"fill:#1f77b4;opacity:0.4;\"/>\r\n   </g>\r\n   <g id=\"patch_36\">\r\n    <path clip-path=\"url(#pabe7419a39)\" d=\"M 267.891955 244.317188 \r\nL 273.459622 244.317188 \r\nL 273.459622 67.843416 \r\nL 267.891955 67.843416 \r\nz\r\n\" style=\"fill:#1f77b4;opacity:0.4;\"/>\r\n   </g>\r\n   <g id=\"patch_37\">\r\n    <path clip-path=\"url(#pabe7419a39)\" d=\"M 273.459622 244.317188 \r\nL 279.027288 244.317188 \r\nL 279.027288 88.725658 \r\nL 273.459622 88.725658 \r\nz\r\n\" style=\"fill:#1f77b4;opacity:0.4;\"/>\r\n   </g>\r\n   <g id=\"patch_38\">\r\n    <path clip-path=\"url(#pabe7419a39)\" d=\"M 279.027288 244.317188 \r\nL 284.594954 244.317188 \r\nL 284.594954 55.560976 \r\nL 279.027288 55.560976 \r\nz\r\n\" style=\"fill:#1f77b4;opacity:0.4;\"/>\r\n   </g>\r\n   <g id=\"patch_39\">\r\n    <path clip-path=\"url(#pabe7419a39)\" d=\"M 284.594954 244.317188 \r\nL 290.16262 244.317188 \r\nL 290.16262 121.848491 \r\nL 284.594954 121.848491 \r\nz\r\n\" style=\"fill:#1f77b4;opacity:0.4;\"/>\r\n   </g>\r\n   <g id=\"patch_40\">\r\n    <path clip-path=\"url(#pabe7419a39)\" d=\"M 290.16262 244.317188 \r\nL 295.730287 244.317188 \r\nL 295.730287 129.527632 \r\nL 290.16262 129.527632 \r\nz\r\n\" style=\"fill:#1f77b4;opacity:0.4;\"/>\r\n   </g>\r\n   <g id=\"patch_41\">\r\n    <path clip-path=\"url(#pabe7419a39)\" d=\"M 295.730287 244.317188 \r\nL 301.297953 244.317188 \r\nL 301.297953 80.96282 \r\nL 295.730287 80.96282 \r\nz\r\n\" style=\"fill:#1f77b4;opacity:0.4;\"/>\r\n   </g>\r\n   <g id=\"patch_42\">\r\n    <path clip-path=\"url(#pabe7419a39)\" d=\"M 301.297953 244.317188 \r\nL 306.865619 244.317188 \r\nL 306.865619 160.474361 \r\nL 301.297953 160.474361 \r\nz\r\n\" style=\"fill:#1f77b4;opacity:0.4;\"/>\r\n   </g>\r\n   <g id=\"patch_43\">\r\n    <path clip-path=\"url(#pabe7419a39)\" d=\"M 306.865619 244.317188 \r\nL 312.433285 244.317188 \r\nL 312.433285 177.548418 \r\nL 306.865619 177.548418 \r\nz\r\n\" style=\"fill:#1f77b4;opacity:0.4;\"/>\r\n   </g>\r\n   <g id=\"patch_44\">\r\n    <path clip-path=\"url(#pabe7419a39)\" d=\"M 312.433285 244.317188 \r\nL 318.000952 244.317188 \r\nL 318.000952 122.078656 \r\nL 312.433285 122.078656 \r\nz\r\n\" style=\"fill:#1f77b4;opacity:0.4;\"/>\r\n   </g>\r\n   <g id=\"patch_45\">\r\n    <path clip-path=\"url(#pabe7419a39)\" d=\"M 318.000952 244.317188 \r\nL 323.568618 244.317188 \r\nL 323.568618 186.964258 \r\nL 318.000952 186.964258 \r\nz\r\n\" style=\"fill:#1f77b4;opacity:0.4;\"/>\r\n   </g>\r\n   <g id=\"patch_46\">\r\n    <path clip-path=\"url(#pabe7419a39)\" d=\"M 323.568618 244.317188 \r\nL 329.136284 244.317188 \r\nL 329.136284 193.032244 \r\nL 323.568618 193.032244 \r\nz\r\n\" style=\"fill:#1f77b4;opacity:0.4;\"/>\r\n   </g>\r\n   <g id=\"patch_47\">\r\n    <path clip-path=\"url(#pabe7419a39)\" d=\"M 329.136284 244.317188 \r\nL 334.703951 244.317188 \r\nL 334.703951 183.993037 \r\nL 329.136284 183.993037 \r\nz\r\n\" style=\"fill:#1f77b4;opacity:0.4;\"/>\r\n   </g>\r\n   <g id=\"patch_48\">\r\n    <path clip-path=\"url(#pabe7419a39)\" d=\"M 334.703951 244.317188 \r\nL 340.271617 244.317188 \r\nL 340.271617 218.413165 \r\nL 334.703951 218.413165 \r\nz\r\n\" style=\"fill:#1f77b4;opacity:0.4;\"/>\r\n   </g>\r\n   <g id=\"patch_49\">\r\n    <path clip-path=\"url(#pabe7419a39)\" d=\"M 340.271617 244.317188 \r\nL 345.839283 244.317188 \r\nL 345.839283 191.190924 \r\nL 340.271617 191.190924 \r\nz\r\n\" style=\"fill:#1f77b4;opacity:0.4;\"/>\r\n   </g>\r\n   <g id=\"patch_50\">\r\n    <path clip-path=\"url(#pabe7419a39)\" d=\"M 345.839283 244.317188 \r\nL 351.406949 244.317188 \r\nL 351.406949 232.934483 \r\nL 345.839283 232.934483 \r\nz\r\n\" style=\"fill:#1f77b4;opacity:0.4;\"/>\r\n   </g>\r\n   <g id=\"patch_51\">\r\n    <path clip-path=\"url(#pabe7419a39)\" d=\"M 351.406949 244.317188 \r\nL 356.974616 244.317188 \r\nL 356.974616 237.684251 \r\nL 351.406949 237.684251 \r\nz\r\n\" style=\"fill:#1f77b4;opacity:0.4;\"/>\r\n   </g>\r\n   <g id=\"patch_52\">\r\n    <path clip-path=\"url(#pabe7419a39)\" d=\"M 356.974616 244.317188 \r\nL 362.542282 244.317188 \r\nL 362.542282 218.74795 \r\nL 356.974616 218.74795 \r\nz\r\n\" style=\"fill:#1f77b4;opacity:0.4;\"/>\r\n   </g>\r\n   <g id=\"matplotlib.axis_1\">\r\n    <g id=\"xtick_1\">\r\n     <g id=\"line2d_1\">\r\n      <defs>\r\n       <path d=\"M 0 0 \r\nL 0 3.5 \r\n\" id=\"mba2eaaeba3\" style=\"stroke:#000000;stroke-width:0.8;\"/>\r\n      </defs>\r\n      <g>\r\n       <use style=\"stroke:#000000;stroke-width:0.8;\" x=\"66.664664\" xlink:href=\"#mba2eaaeba3\" y=\"244.317188\"/>\r\n      </g>\r\n     </g>\r\n     <g id=\"text_1\">\r\n      <!-- 2 -->\r\n      <g transform=\"translate(63.483414 258.915625)scale(0.1 -0.1)\">\r\n       <defs>\r\n        <path d=\"M 19.1875 8.296875 \r\nL 53.609375 8.296875 \r\nL 53.609375 0 \r\nL 7.328125 0 \r\nL 7.328125 8.296875 \r\nQ 12.9375 14.109375 22.625 23.890625 \r\nQ 32.328125 33.6875 34.8125 36.53125 \r\nQ 39.546875 41.84375 41.421875 45.53125 \r\nQ 43.3125 49.21875 43.3125 52.78125 \r\nQ 43.3125 58.59375 39.234375 62.25 \r\nQ 35.15625 65.921875 28.609375 65.921875 \r\nQ 23.96875 65.921875 18.8125 64.3125 \r\nQ 13.671875 62.703125 7.8125 59.421875 \r\nL 7.8125 69.390625 \r\nQ 13.765625 71.78125 18.9375 73 \r\nQ 24.125 74.21875 28.421875 74.21875 \r\nQ 39.75 74.21875 46.484375 68.546875 \r\nQ 53.21875 62.890625 53.21875 53.421875 \r\nQ 53.21875 48.921875 51.53125 44.890625 \r\nQ 49.859375 40.875 45.40625 35.40625 \r\nQ 44.1875 33.984375 37.640625 27.21875 \r\nQ 31.109375 20.453125 19.1875 8.296875 \r\nz\r\n\" id=\"DejaVuSans-50\"/>\r\n       </defs>\r\n       <use xlink:href=\"#DejaVuSans-50\"/>\r\n      </g>\r\n     </g>\r\n    </g>\r\n    <g id=\"xtick_2\">\r\n     <g id=\"line2d_2\">\r\n      <g>\r\n       <use style=\"stroke:#000000;stroke-width:0.8;\" x=\"116.080099\" xlink:href=\"#mba2eaaeba3\" y=\"244.317188\"/>\r\n      </g>\r\n     </g>\r\n     <g id=\"text_2\">\r\n      <!-- 4 -->\r\n      <g transform=\"translate(112.898849 258.915625)scale(0.1 -0.1)\">\r\n       <defs>\r\n        <path d=\"M 37.796875 64.3125 \r\nL 12.890625 25.390625 \r\nL 37.796875 25.390625 \r\nz\r\nM 35.203125 72.90625 \r\nL 47.609375 72.90625 \r\nL 47.609375 25.390625 \r\nL 58.015625 25.390625 \r\nL 58.015625 17.1875 \r\nL 47.609375 17.1875 \r\nL 47.609375 0 \r\nL 37.796875 0 \r\nL 37.796875 17.1875 \r\nL 4.890625 17.1875 \r\nL 4.890625 26.703125 \r\nz\r\n\" id=\"DejaVuSans-52\"/>\r\n       </defs>\r\n       <use xlink:href=\"#DejaVuSans-52\"/>\r\n      </g>\r\n     </g>\r\n    </g>\r\n    <g id=\"xtick_3\">\r\n     <g id=\"line2d_3\">\r\n      <g>\r\n       <use style=\"stroke:#000000;stroke-width:0.8;\" x=\"165.495534\" xlink:href=\"#mba2eaaeba3\" y=\"244.317188\"/>\r\n      </g>\r\n     </g>\r\n     <g id=\"text_3\">\r\n      <!-- 6 -->\r\n      <g transform=\"translate(162.314284 258.915625)scale(0.1 -0.1)\">\r\n       <defs>\r\n        <path d=\"M 33.015625 40.375 \r\nQ 26.375 40.375 22.484375 35.828125 \r\nQ 18.609375 31.296875 18.609375 23.390625 \r\nQ 18.609375 15.53125 22.484375 10.953125 \r\nQ 26.375 6.390625 33.015625 6.390625 \r\nQ 39.65625 6.390625 43.53125 10.953125 \r\nQ 47.40625 15.53125 47.40625 23.390625 \r\nQ 47.40625 31.296875 43.53125 35.828125 \r\nQ 39.65625 40.375 33.015625 40.375 \r\nz\r\nM 52.59375 71.296875 \r\nL 52.59375 62.3125 \r\nQ 48.875 64.0625 45.09375 64.984375 \r\nQ 41.3125 65.921875 37.59375 65.921875 \r\nQ 27.828125 65.921875 22.671875 59.328125 \r\nQ 17.53125 52.734375 16.796875 39.40625 \r\nQ 19.671875 43.65625 24.015625 45.921875 \r\nQ 28.375 48.1875 33.59375 48.1875 \r\nQ 44.578125 48.1875 50.953125 41.515625 \r\nQ 57.328125 34.859375 57.328125 23.390625 \r\nQ 57.328125 12.15625 50.6875 5.359375 \r\nQ 44.046875 -1.421875 33.015625 -1.421875 \r\nQ 20.359375 -1.421875 13.671875 8.265625 \r\nQ 6.984375 17.96875 6.984375 36.375 \r\nQ 6.984375 53.65625 15.1875 63.9375 \r\nQ 23.390625 74.21875 37.203125 74.21875 \r\nQ 40.921875 74.21875 44.703125 73.484375 \r\nQ 48.484375 72.75 52.59375 71.296875 \r\nz\r\n\" id=\"DejaVuSans-54\"/>\r\n       </defs>\r\n       <use xlink:href=\"#DejaVuSans-54\"/>\r\n      </g>\r\n     </g>\r\n    </g>\r\n    <g id=\"xtick_4\">\r\n     <g id=\"line2d_4\">\r\n      <g>\r\n       <use style=\"stroke:#000000;stroke-width:0.8;\" x=\"214.91097\" xlink:href=\"#mba2eaaeba3\" y=\"244.317188\"/>\r\n      </g>\r\n     </g>\r\n     <g id=\"text_4\">\r\n      <!-- 8 -->\r\n      <g transform=\"translate(211.72972 258.915625)scale(0.1 -0.1)\">\r\n       <defs>\r\n        <path d=\"M 31.78125 34.625 \r\nQ 24.75 34.625 20.71875 30.859375 \r\nQ 16.703125 27.09375 16.703125 20.515625 \r\nQ 16.703125 13.921875 20.71875 10.15625 \r\nQ 24.75 6.390625 31.78125 6.390625 \r\nQ 38.8125 6.390625 42.859375 10.171875 \r\nQ 46.921875 13.96875 46.921875 20.515625 \r\nQ 46.921875 27.09375 42.890625 30.859375 \r\nQ 38.875 34.625 31.78125 34.625 \r\nz\r\nM 21.921875 38.8125 \r\nQ 15.578125 40.375 12.03125 44.71875 \r\nQ 8.5 49.078125 8.5 55.328125 \r\nQ 8.5 64.0625 14.71875 69.140625 \r\nQ 20.953125 74.21875 31.78125 74.21875 \r\nQ 42.671875 74.21875 48.875 69.140625 \r\nQ 55.078125 64.0625 55.078125 55.328125 \r\nQ 55.078125 49.078125 51.53125 44.71875 \r\nQ 48 40.375 41.703125 38.8125 \r\nQ 48.828125 37.15625 52.796875 32.3125 \r\nQ 56.78125 27.484375 56.78125 20.515625 \r\nQ 56.78125 9.90625 50.3125 4.234375 \r\nQ 43.84375 -1.421875 31.78125 -1.421875 \r\nQ 19.734375 -1.421875 13.25 4.234375 \r\nQ 6.78125 9.90625 6.78125 20.515625 \r\nQ 6.78125 27.484375 10.78125 32.3125 \r\nQ 14.796875 37.15625 21.921875 38.8125 \r\nz\r\nM 18.3125 54.390625 \r\nQ 18.3125 48.734375 21.84375 45.5625 \r\nQ 25.390625 42.390625 31.78125 42.390625 \r\nQ 38.140625 42.390625 41.71875 45.5625 \r\nQ 45.3125 48.734375 45.3125 54.390625 \r\nQ 45.3125 60.0625 41.71875 63.234375 \r\nQ 38.140625 66.40625 31.78125 66.40625 \r\nQ 25.390625 66.40625 21.84375 63.234375 \r\nQ 18.3125 60.0625 18.3125 54.390625 \r\nz\r\n\" id=\"DejaVuSans-56\"/>\r\n       </defs>\r\n       <use xlink:href=\"#DejaVuSans-56\"/>\r\n      </g>\r\n     </g>\r\n    </g>\r\n    <g id=\"xtick_5\">\r\n     <g id=\"line2d_5\">\r\n      <g>\r\n       <use style=\"stroke:#000000;stroke-width:0.8;\" x=\"264.326405\" xlink:href=\"#mba2eaaeba3\" y=\"244.317188\"/>\r\n      </g>\r\n     </g>\r\n     <g id=\"text_5\">\r\n      <!-- 10 -->\r\n      <g transform=\"translate(257.963905 258.915625)scale(0.1 -0.1)\">\r\n       <defs>\r\n        <path d=\"M 12.40625 8.296875 \r\nL 28.515625 8.296875 \r\nL 28.515625 63.921875 \r\nL 10.984375 60.40625 \r\nL 10.984375 69.390625 \r\nL 28.421875 72.90625 \r\nL 38.28125 72.90625 \r\nL 38.28125 8.296875 \r\nL 54.390625 8.296875 \r\nL 54.390625 0 \r\nL 12.40625 0 \r\nz\r\n\" id=\"DejaVuSans-49\"/>\r\n        <path d=\"M 31.78125 66.40625 \r\nQ 24.171875 66.40625 20.328125 58.90625 \r\nQ 16.5 51.421875 16.5 36.375 \r\nQ 16.5 21.390625 20.328125 13.890625 \r\nQ 24.171875 6.390625 31.78125 6.390625 \r\nQ 39.453125 6.390625 43.28125 13.890625 \r\nQ 47.125 21.390625 47.125 36.375 \r\nQ 47.125 51.421875 43.28125 58.90625 \r\nQ 39.453125 66.40625 31.78125 66.40625 \r\nz\r\nM 31.78125 74.21875 \r\nQ 44.046875 74.21875 50.515625 64.515625 \r\nQ 56.984375 54.828125 56.984375 36.375 \r\nQ 56.984375 17.96875 50.515625 8.265625 \r\nQ 44.046875 -1.421875 31.78125 -1.421875 \r\nQ 19.53125 -1.421875 13.0625 8.265625 \r\nQ 6.59375 17.96875 6.59375 36.375 \r\nQ 6.59375 54.828125 13.0625 64.515625 \r\nQ 19.53125 74.21875 31.78125 74.21875 \r\nz\r\n\" id=\"DejaVuSans-48\"/>\r\n       </defs>\r\n       <use xlink:href=\"#DejaVuSans-49\"/>\r\n       <use x=\"63.623047\" xlink:href=\"#DejaVuSans-48\"/>\r\n      </g>\r\n     </g>\r\n    </g>\r\n    <g id=\"xtick_6\">\r\n     <g id=\"line2d_6\">\r\n      <g>\r\n       <use style=\"stroke:#000000;stroke-width:0.8;\" x=\"313.741841\" xlink:href=\"#mba2eaaeba3\" y=\"244.317188\"/>\r\n      </g>\r\n     </g>\r\n     <g id=\"text_6\">\r\n      <!-- 12 -->\r\n      <g transform=\"translate(307.379341 258.915625)scale(0.1 -0.1)\">\r\n       <use xlink:href=\"#DejaVuSans-49\"/>\r\n       <use x=\"63.623047\" xlink:href=\"#DejaVuSans-50\"/>\r\n      </g>\r\n     </g>\r\n    </g>\r\n    <g id=\"xtick_7\">\r\n     <g id=\"line2d_7\">\r\n      <g>\r\n       <use style=\"stroke:#000000;stroke-width:0.8;\" x=\"363.157276\" xlink:href=\"#mba2eaaeba3\" y=\"244.317188\"/>\r\n      </g>\r\n     </g>\r\n     <g id=\"text_7\">\r\n      <!-- 14 -->\r\n      <g transform=\"translate(356.794776 258.915625)scale(0.1 -0.1)\">\r\n       <use xlink:href=\"#DejaVuSans-49\"/>\r\n       <use x=\"63.623047\" xlink:href=\"#DejaVuSans-52\"/>\r\n      </g>\r\n     </g>\r\n    </g>\r\n    <g id=\"text_8\">\r\n     <!-- Life Exp (years) -->\r\n     <g transform=\"translate(160.719375 277.152813)scale(0.16 -0.16)\">\r\n      <defs>\r\n       <path d=\"M 9.8125 72.90625 \r\nL 19.671875 72.90625 \r\nL 19.671875 8.296875 \r\nL 55.171875 8.296875 \r\nL 55.171875 0 \r\nL 9.8125 0 \r\nz\r\n\" id=\"DejaVuSans-76\"/>\r\n       <path d=\"M 9.421875 54.6875 \r\nL 18.40625 54.6875 \r\nL 18.40625 0 \r\nL 9.421875 0 \r\nz\r\nM 9.421875 75.984375 \r\nL 18.40625 75.984375 \r\nL 18.40625 64.59375 \r\nL 9.421875 64.59375 \r\nz\r\n\" id=\"DejaVuSans-105\"/>\r\n       <path d=\"M 37.109375 75.984375 \r\nL 37.109375 68.5 \r\nL 28.515625 68.5 \r\nQ 23.6875 68.5 21.796875 66.546875 \r\nQ 19.921875 64.59375 19.921875 59.515625 \r\nL 19.921875 54.6875 \r\nL 34.71875 54.6875 \r\nL 34.71875 47.703125 \r\nL 19.921875 47.703125 \r\nL 19.921875 0 \r\nL 10.890625 0 \r\nL 10.890625 47.703125 \r\nL 2.296875 47.703125 \r\nL 2.296875 54.6875 \r\nL 10.890625 54.6875 \r\nL 10.890625 58.5 \r\nQ 10.890625 67.625 15.140625 71.796875 \r\nQ 19.390625 75.984375 28.609375 75.984375 \r\nz\r\n\" id=\"DejaVuSans-102\"/>\r\n       <path d=\"M 56.203125 29.59375 \r\nL 56.203125 25.203125 \r\nL 14.890625 25.203125 \r\nQ 15.484375 15.921875 20.484375 11.0625 \r\nQ 25.484375 6.203125 34.421875 6.203125 \r\nQ 39.59375 6.203125 44.453125 7.46875 \r\nQ 49.3125 8.734375 54.109375 11.28125 \r\nL 54.109375 2.78125 \r\nQ 49.265625 0.734375 44.1875 -0.34375 \r\nQ 39.109375 -1.421875 33.890625 -1.421875 \r\nQ 20.796875 -1.421875 13.15625 6.1875 \r\nQ 5.515625 13.8125 5.515625 26.8125 \r\nQ 5.515625 40.234375 12.765625 48.109375 \r\nQ 20.015625 56 32.328125 56 \r\nQ 43.359375 56 49.78125 48.890625 \r\nQ 56.203125 41.796875 56.203125 29.59375 \r\nz\r\nM 47.21875 32.234375 \r\nQ 47.125 39.59375 43.09375 43.984375 \r\nQ 39.0625 48.390625 32.421875 48.390625 \r\nQ 24.90625 48.390625 20.390625 44.140625 \r\nQ 15.875 39.890625 15.1875 32.171875 \r\nz\r\n\" id=\"DejaVuSans-101\"/>\r\n       <path id=\"DejaVuSans-32\"/>\r\n       <path d=\"M 9.8125 72.90625 \r\nL 55.90625 72.90625 \r\nL 55.90625 64.59375 \r\nL 19.671875 64.59375 \r\nL 19.671875 43.015625 \r\nL 54.390625 43.015625 \r\nL 54.390625 34.71875 \r\nL 19.671875 34.71875 \r\nL 19.671875 8.296875 \r\nL 56.78125 8.296875 \r\nL 56.78125 0 \r\nL 9.8125 0 \r\nz\r\n\" id=\"DejaVuSans-69\"/>\r\n       <path d=\"M 54.890625 54.6875 \r\nL 35.109375 28.078125 \r\nL 55.90625 0 \r\nL 45.3125 0 \r\nL 29.390625 21.484375 \r\nL 13.484375 0 \r\nL 2.875 0 \r\nL 24.125 28.609375 \r\nL 4.6875 54.6875 \r\nL 15.28125 54.6875 \r\nL 29.78125 35.203125 \r\nL 44.28125 54.6875 \r\nz\r\n\" id=\"DejaVuSans-120\"/>\r\n       <path d=\"M 18.109375 8.203125 \r\nL 18.109375 -20.796875 \r\nL 9.078125 -20.796875 \r\nL 9.078125 54.6875 \r\nL 18.109375 54.6875 \r\nL 18.109375 46.390625 \r\nQ 20.953125 51.265625 25.265625 53.625 \r\nQ 29.59375 56 35.59375 56 \r\nQ 45.5625 56 51.78125 48.09375 \r\nQ 58.015625 40.1875 58.015625 27.296875 \r\nQ 58.015625 14.40625 51.78125 6.484375 \r\nQ 45.5625 -1.421875 35.59375 -1.421875 \r\nQ 29.59375 -1.421875 25.265625 0.953125 \r\nQ 20.953125 3.328125 18.109375 8.203125 \r\nz\r\nM 48.6875 27.296875 \r\nQ 48.6875 37.203125 44.609375 42.84375 \r\nQ 40.53125 48.484375 33.40625 48.484375 \r\nQ 26.265625 48.484375 22.1875 42.84375 \r\nQ 18.109375 37.203125 18.109375 27.296875 \r\nQ 18.109375 17.390625 22.1875 11.75 \r\nQ 26.265625 6.109375 33.40625 6.109375 \r\nQ 40.53125 6.109375 44.609375 11.75 \r\nQ 48.6875 17.390625 48.6875 27.296875 \r\nz\r\n\" id=\"DejaVuSans-112\"/>\r\n       <path d=\"M 31 75.875 \r\nQ 24.46875 64.65625 21.28125 53.65625 \r\nQ 18.109375 42.671875 18.109375 31.390625 \r\nQ 18.109375 20.125 21.3125 9.0625 \r\nQ 24.515625 -2 31 -13.1875 \r\nL 23.1875 -13.1875 \r\nQ 15.875 -1.703125 12.234375 9.375 \r\nQ 8.59375 20.453125 8.59375 31.390625 \r\nQ 8.59375 42.28125 12.203125 53.3125 \r\nQ 15.828125 64.359375 23.1875 75.875 \r\nz\r\n\" id=\"DejaVuSans-40\"/>\r\n       <path d=\"M 32.171875 -5.078125 \r\nQ 28.375 -14.84375 24.75 -17.8125 \r\nQ 21.140625 -20.796875 15.09375 -20.796875 \r\nL 7.90625 -20.796875 \r\nL 7.90625 -13.28125 \r\nL 13.1875 -13.28125 \r\nQ 16.890625 -13.28125 18.9375 -11.515625 \r\nQ 21 -9.765625 23.484375 -3.21875 \r\nL 25.09375 0.875 \r\nL 2.984375 54.6875 \r\nL 12.5 54.6875 \r\nL 29.59375 11.921875 \r\nL 46.6875 54.6875 \r\nL 56.203125 54.6875 \r\nz\r\n\" id=\"DejaVuSans-121\"/>\r\n       <path d=\"M 34.28125 27.484375 \r\nQ 23.390625 27.484375 19.1875 25 \r\nQ 14.984375 22.515625 14.984375 16.5 \r\nQ 14.984375 11.71875 18.140625 8.90625 \r\nQ 21.296875 6.109375 26.703125 6.109375 \r\nQ 34.1875 6.109375 38.703125 11.40625 \r\nQ 43.21875 16.703125 43.21875 25.484375 \r\nL 43.21875 27.484375 \r\nz\r\nM 52.203125 31.203125 \r\nL 52.203125 0 \r\nL 43.21875 0 \r\nL 43.21875 8.296875 \r\nQ 40.140625 3.328125 35.546875 0.953125 \r\nQ 30.953125 -1.421875 24.3125 -1.421875 \r\nQ 15.921875 -1.421875 10.953125 3.296875 \r\nQ 6 8.015625 6 15.921875 \r\nQ 6 25.140625 12.171875 29.828125 \r\nQ 18.359375 34.515625 30.609375 34.515625 \r\nL 43.21875 34.515625 \r\nL 43.21875 35.40625 \r\nQ 43.21875 41.609375 39.140625 45 \r\nQ 35.0625 48.390625 27.6875 48.390625 \r\nQ 23 48.390625 18.546875 47.265625 \r\nQ 14.109375 46.140625 10.015625 43.890625 \r\nL 10.015625 52.203125 \r\nQ 14.9375 54.109375 19.578125 55.046875 \r\nQ 24.21875 56 28.609375 56 \r\nQ 40.484375 56 46.34375 49.84375 \r\nQ 52.203125 43.703125 52.203125 31.203125 \r\nz\r\n\" id=\"DejaVuSans-97\"/>\r\n       <path d=\"M 41.109375 46.296875 \r\nQ 39.59375 47.171875 37.8125 47.578125 \r\nQ 36.03125 48 33.890625 48 \r\nQ 26.265625 48 22.1875 43.046875 \r\nQ 18.109375 38.09375 18.109375 28.8125 \r\nL 18.109375 0 \r\nL 9.078125 0 \r\nL 9.078125 54.6875 \r\nL 18.109375 54.6875 \r\nL 18.109375 46.1875 \r\nQ 20.953125 51.171875 25.484375 53.578125 \r\nQ 30.03125 56 36.53125 56 \r\nQ 37.453125 56 38.578125 55.875 \r\nQ 39.703125 55.765625 41.0625 55.515625 \r\nz\r\n\" id=\"DejaVuSans-114\"/>\r\n       <path d=\"M 44.28125 53.078125 \r\nL 44.28125 44.578125 \r\nQ 40.484375 46.53125 36.375 47.5 \r\nQ 32.28125 48.484375 27.875 48.484375 \r\nQ 21.1875 48.484375 17.84375 46.4375 \r\nQ 14.5 44.390625 14.5 40.28125 \r\nQ 14.5 37.15625 16.890625 35.375 \r\nQ 19.28125 33.59375 26.515625 31.984375 \r\nL 29.59375 31.296875 \r\nQ 39.15625 29.25 43.1875 25.515625 \r\nQ 47.21875 21.78125 47.21875 15.09375 \r\nQ 47.21875 7.46875 41.1875 3.015625 \r\nQ 35.15625 -1.421875 24.609375 -1.421875 \r\nQ 20.21875 -1.421875 15.453125 -0.5625 \r\nQ 10.6875 0.296875 5.421875 2 \r\nL 5.421875 11.28125 \r\nQ 10.40625 8.6875 15.234375 7.390625 \r\nQ 20.0625 6.109375 24.8125 6.109375 \r\nQ 31.15625 6.109375 34.5625 8.28125 \r\nQ 37.984375 10.453125 37.984375 14.40625 \r\nQ 37.984375 18.0625 35.515625 20.015625 \r\nQ 33.0625 21.96875 24.703125 23.78125 \r\nL 21.578125 24.515625 \r\nQ 13.234375 26.265625 9.515625 29.90625 \r\nQ 5.8125 33.546875 5.8125 39.890625 \r\nQ 5.8125 47.609375 11.28125 51.796875 \r\nQ 16.75 56 26.8125 56 \r\nQ 31.78125 56 36.171875 55.265625 \r\nQ 40.578125 54.546875 44.28125 53.078125 \r\nz\r\n\" id=\"DejaVuSans-115\"/>\r\n       <path d=\"M 8.015625 75.875 \r\nL 15.828125 75.875 \r\nQ 23.140625 64.359375 26.78125 53.3125 \r\nQ 30.421875 42.28125 30.421875 31.390625 \r\nQ 30.421875 20.453125 26.78125 9.375 \r\nQ 23.140625 -1.703125 15.828125 -13.1875 \r\nL 8.015625 -13.1875 \r\nQ 14.5 -2 17.703125 9.0625 \r\nQ 20.90625 20.125 20.90625 31.390625 \r\nQ 20.90625 42.671875 17.703125 53.65625 \r\nQ 14.5 64.65625 8.015625 75.875 \r\nz\r\n\" id=\"DejaVuSans-41\"/>\r\n      </defs>\r\n      <use xlink:href=\"#DejaVuSans-76\"/>\r\n      <use x=\"55.712891\" xlink:href=\"#DejaVuSans-105\"/>\r\n      <use x=\"83.496094\" xlink:href=\"#DejaVuSans-102\"/>\r\n      <use x=\"118.701172\" xlink:href=\"#DejaVuSans-101\"/>\r\n      <use x=\"180.224609\" xlink:href=\"#DejaVuSans-32\"/>\r\n      <use x=\"212.011719\" xlink:href=\"#DejaVuSans-69\"/>\r\n      <use x=\"275.195312\" xlink:href=\"#DejaVuSans-120\"/>\r\n      <use x=\"334.375\" xlink:href=\"#DejaVuSans-112\"/>\r\n      <use x=\"397.851562\" xlink:href=\"#DejaVuSans-32\"/>\r\n      <use x=\"429.638672\" xlink:href=\"#DejaVuSans-40\"/>\r\n      <use x=\"468.652344\" xlink:href=\"#DejaVuSans-121\"/>\r\n      <use x=\"527.832031\" xlink:href=\"#DejaVuSans-101\"/>\r\n      <use x=\"589.355469\" xlink:href=\"#DejaVuSans-97\"/>\r\n      <use x=\"650.634766\" xlink:href=\"#DejaVuSans-114\"/>\r\n      <use x=\"691.748047\" xlink:href=\"#DejaVuSans-115\"/>\r\n      <use x=\"743.847656\" xlink:href=\"#DejaVuSans-41\"/>\r\n     </g>\r\n    </g>\r\n   </g>\r\n   <g id=\"matplotlib.axis_2\">\r\n    <g id=\"ytick_1\">\r\n     <g id=\"line2d_8\">\r\n      <defs>\r\n       <path d=\"M 0 0 \r\nL -3.5 0 \r\n\" id=\"mcc6aa14ab5\" style=\"stroke:#000000;stroke-width:0.8;\"/>\r\n      </defs>\r\n      <g>\r\n       <use style=\"stroke:#000000;stroke-width:0.8;\" x=\"55.950625\" xlink:href=\"#mcc6aa14ab5\" y=\"244.317188\"/>\r\n      </g>\r\n     </g>\r\n     <g id=\"text_9\">\r\n      <!-- 0.00 -->\r\n      <g transform=\"translate(26.685 248.116406)scale(0.1 -0.1)\">\r\n       <defs>\r\n        <path d=\"M 10.6875 12.40625 \r\nL 21 12.40625 \r\nL 21 0 \r\nL 10.6875 0 \r\nz\r\n\" id=\"DejaVuSans-46\"/>\r\n       </defs>\r\n       <use xlink:href=\"#DejaVuSans-48\"/>\r\n       <use x=\"63.623047\" xlink:href=\"#DejaVuSans-46\"/>\r\n       <use x=\"95.410156\" xlink:href=\"#DejaVuSans-48\"/>\r\n       <use x=\"159.033203\" xlink:href=\"#DejaVuSans-48\"/>\r\n      </g>\r\n     </g>\r\n    </g>\r\n    <g id=\"ytick_2\">\r\n     <g id=\"line2d_9\">\r\n      <g>\r\n       <use style=\"stroke:#000000;stroke-width:0.8;\" x=\"55.950625\" xlink:href=\"#mcc6aa14ab5\" y=\"202.235521\"/>\r\n      </g>\r\n     </g>\r\n     <g id=\"text_10\">\r\n      <!-- 0.05 -->\r\n      <g transform=\"translate(26.685 206.03474)scale(0.1 -0.1)\">\r\n       <defs>\r\n        <path d=\"M 10.796875 72.90625 \r\nL 49.515625 72.90625 \r\nL 49.515625 64.59375 \r\nL 19.828125 64.59375 \r\nL 19.828125 46.734375 \r\nQ 21.96875 47.46875 24.109375 47.828125 \r\nQ 26.265625 48.1875 28.421875 48.1875 \r\nQ 40.625 48.1875 47.75 41.5 \r\nQ 54.890625 34.8125 54.890625 23.390625 \r\nQ 54.890625 11.625 47.5625 5.09375 \r\nQ 40.234375 -1.421875 26.90625 -1.421875 \r\nQ 22.3125 -1.421875 17.546875 -0.640625 \r\nQ 12.796875 0.140625 7.71875 1.703125 \r\nL 7.71875 11.625 \r\nQ 12.109375 9.234375 16.796875 8.0625 \r\nQ 21.484375 6.890625 26.703125 6.890625 \r\nQ 35.15625 6.890625 40.078125 11.328125 \r\nQ 45.015625 15.765625 45.015625 23.390625 \r\nQ 45.015625 31 40.078125 35.4375 \r\nQ 35.15625 39.890625 26.703125 39.890625 \r\nQ 22.75 39.890625 18.8125 39.015625 \r\nQ 14.890625 38.140625 10.796875 36.28125 \r\nz\r\n\" id=\"DejaVuSans-53\"/>\r\n       </defs>\r\n       <use xlink:href=\"#DejaVuSans-48\"/>\r\n       <use x=\"63.623047\" xlink:href=\"#DejaVuSans-46\"/>\r\n       <use x=\"95.410156\" xlink:href=\"#DejaVuSans-48\"/>\r\n       <use x=\"159.033203\" xlink:href=\"#DejaVuSans-53\"/>\r\n      </g>\r\n     </g>\r\n    </g>\r\n    <g id=\"ytick_3\">\r\n     <g id=\"line2d_10\">\r\n      <g>\r\n       <use style=\"stroke:#000000;stroke-width:0.8;\" x=\"55.950625\" xlink:href=\"#mcc6aa14ab5\" y=\"160.153855\"/>\r\n      </g>\r\n     </g>\r\n     <g id=\"text_11\">\r\n      <!-- 0.10 -->\r\n      <g transform=\"translate(26.685 163.953074)scale(0.1 -0.1)\">\r\n       <use xlink:href=\"#DejaVuSans-48\"/>\r\n       <use x=\"63.623047\" xlink:href=\"#DejaVuSans-46\"/>\r\n       <use x=\"95.410156\" xlink:href=\"#DejaVuSans-49\"/>\r\n       <use x=\"159.033203\" xlink:href=\"#DejaVuSans-48\"/>\r\n      </g>\r\n     </g>\r\n    </g>\r\n    <g id=\"ytick_4\">\r\n     <g id=\"line2d_11\">\r\n      <g>\r\n       <use style=\"stroke:#000000;stroke-width:0.8;\" x=\"55.950625\" xlink:href=\"#mcc6aa14ab5\" y=\"118.072189\"/>\r\n      </g>\r\n     </g>\r\n     <g id=\"text_12\">\r\n      <!-- 0.15 -->\r\n      <g transform=\"translate(26.685 121.871408)scale(0.1 -0.1)\">\r\n       <use xlink:href=\"#DejaVuSans-48\"/>\r\n       <use x=\"63.623047\" xlink:href=\"#DejaVuSans-46\"/>\r\n       <use x=\"95.410156\" xlink:href=\"#DejaVuSans-49\"/>\r\n       <use x=\"159.033203\" xlink:href=\"#DejaVuSans-53\"/>\r\n      </g>\r\n     </g>\r\n    </g>\r\n    <g id=\"ytick_5\">\r\n     <g id=\"line2d_12\">\r\n      <g>\r\n       <use style=\"stroke:#000000;stroke-width:0.8;\" x=\"55.950625\" xlink:href=\"#mcc6aa14ab5\" y=\"75.990523\"/>\r\n      </g>\r\n     </g>\r\n     <g id=\"text_13\">\r\n      <!-- 0.20 -->\r\n      <g transform=\"translate(26.685 79.789742)scale(0.1 -0.1)\">\r\n       <use xlink:href=\"#DejaVuSans-48\"/>\r\n       <use x=\"63.623047\" xlink:href=\"#DejaVuSans-46\"/>\r\n       <use x=\"95.410156\" xlink:href=\"#DejaVuSans-50\"/>\r\n       <use x=\"159.033203\" xlink:href=\"#DejaVuSans-48\"/>\r\n      </g>\r\n     </g>\r\n    </g>\r\n    <g id=\"ytick_6\">\r\n     <g id=\"line2d_13\">\r\n      <g>\r\n       <use style=\"stroke:#000000;stroke-width:0.8;\" x=\"55.950625\" xlink:href=\"#mcc6aa14ab5\" y=\"33.908857\"/>\r\n      </g>\r\n     </g>\r\n     <g id=\"text_14\">\r\n      <!-- 0.25 -->\r\n      <g transform=\"translate(26.685 37.708075)scale(0.1 -0.1)\">\r\n       <use xlink:href=\"#DejaVuSans-48\"/>\r\n       <use x=\"63.623047\" xlink:href=\"#DejaVuSans-46\"/>\r\n       <use x=\"95.410156\" xlink:href=\"#DejaVuSans-50\"/>\r\n       <use x=\"159.033203\" xlink:href=\"#DejaVuSans-53\"/>\r\n      </g>\r\n     </g>\r\n    </g>\r\n    <g id=\"text_15\">\r\n     <!-- Frequency -->\r\n     <g transform=\"translate(19.3575 176.924688)rotate(-90)scale(0.16 -0.16)\">\r\n      <defs>\r\n       <path d=\"M 9.8125 72.90625 \r\nL 51.703125 72.90625 \r\nL 51.703125 64.59375 \r\nL 19.671875 64.59375 \r\nL 19.671875 43.109375 \r\nL 48.578125 43.109375 \r\nL 48.578125 34.8125 \r\nL 19.671875 34.8125 \r\nL 19.671875 0 \r\nL 9.8125 0 \r\nz\r\n\" id=\"DejaVuSans-70\"/>\r\n       <path d=\"M 14.796875 27.296875 \r\nQ 14.796875 17.390625 18.875 11.75 \r\nQ 22.953125 6.109375 30.078125 6.109375 \r\nQ 37.203125 6.109375 41.296875 11.75 \r\nQ 45.40625 17.390625 45.40625 27.296875 \r\nQ 45.40625 37.203125 41.296875 42.84375 \r\nQ 37.203125 48.484375 30.078125 48.484375 \r\nQ 22.953125 48.484375 18.875 42.84375 \r\nQ 14.796875 37.203125 14.796875 27.296875 \r\nz\r\nM 45.40625 8.203125 \r\nQ 42.578125 3.328125 38.25 0.953125 \r\nQ 33.9375 -1.421875 27.875 -1.421875 \r\nQ 17.96875 -1.421875 11.734375 6.484375 \r\nQ 5.515625 14.40625 5.515625 27.296875 \r\nQ 5.515625 40.1875 11.734375 48.09375 \r\nQ 17.96875 56 27.875 56 \r\nQ 33.9375 56 38.25 53.625 \r\nQ 42.578125 51.265625 45.40625 46.390625 \r\nL 45.40625 54.6875 \r\nL 54.390625 54.6875 \r\nL 54.390625 -20.796875 \r\nL 45.40625 -20.796875 \r\nz\r\n\" id=\"DejaVuSans-113\"/>\r\n       <path d=\"M 8.5 21.578125 \r\nL 8.5 54.6875 \r\nL 17.484375 54.6875 \r\nL 17.484375 21.921875 \r\nQ 17.484375 14.15625 20.5 10.265625 \r\nQ 23.53125 6.390625 29.59375 6.390625 \r\nQ 36.859375 6.390625 41.078125 11.03125 \r\nQ 45.3125 15.671875 45.3125 23.6875 \r\nL 45.3125 54.6875 \r\nL 54.296875 54.6875 \r\nL 54.296875 0 \r\nL 45.3125 0 \r\nL 45.3125 8.40625 \r\nQ 42.046875 3.421875 37.71875 1 \r\nQ 33.40625 -1.421875 27.6875 -1.421875 \r\nQ 18.265625 -1.421875 13.375 4.4375 \r\nQ 8.5 10.296875 8.5 21.578125 \r\nz\r\nM 31.109375 56 \r\nz\r\n\" id=\"DejaVuSans-117\"/>\r\n       <path d=\"M 54.890625 33.015625 \r\nL 54.890625 0 \r\nL 45.90625 0 \r\nL 45.90625 32.71875 \r\nQ 45.90625 40.484375 42.875 44.328125 \r\nQ 39.84375 48.1875 33.796875 48.1875 \r\nQ 26.515625 48.1875 22.3125 43.546875 \r\nQ 18.109375 38.921875 18.109375 30.90625 \r\nL 18.109375 0 \r\nL 9.078125 0 \r\nL 9.078125 54.6875 \r\nL 18.109375 54.6875 \r\nL 18.109375 46.1875 \r\nQ 21.34375 51.125 25.703125 53.5625 \r\nQ 30.078125 56 35.796875 56 \r\nQ 45.21875 56 50.046875 50.171875 \r\nQ 54.890625 44.34375 54.890625 33.015625 \r\nz\r\n\" id=\"DejaVuSans-110\"/>\r\n       <path d=\"M 48.78125 52.59375 \r\nL 48.78125 44.1875 \r\nQ 44.96875 46.296875 41.140625 47.34375 \r\nQ 37.3125 48.390625 33.40625 48.390625 \r\nQ 24.65625 48.390625 19.8125 42.84375 \r\nQ 14.984375 37.3125 14.984375 27.296875 \r\nQ 14.984375 17.28125 19.8125 11.734375 \r\nQ 24.65625 6.203125 33.40625 6.203125 \r\nQ 37.3125 6.203125 41.140625 7.25 \r\nQ 44.96875 8.296875 48.78125 10.40625 \r\nL 48.78125 2.09375 \r\nQ 45.015625 0.34375 40.984375 -0.53125 \r\nQ 36.96875 -1.421875 32.421875 -1.421875 \r\nQ 20.0625 -1.421875 12.78125 6.34375 \r\nQ 5.515625 14.109375 5.515625 27.296875 \r\nQ 5.515625 40.671875 12.859375 48.328125 \r\nQ 20.21875 56 33.015625 56 \r\nQ 37.15625 56 41.109375 55.140625 \r\nQ 45.0625 54.296875 48.78125 52.59375 \r\nz\r\n\" id=\"DejaVuSans-99\"/>\r\n      </defs>\r\n      <use xlink:href=\"#DejaVuSans-70\"/>\r\n      <use x=\"50.269531\" xlink:href=\"#DejaVuSans-114\"/>\r\n      <use x=\"89.132812\" xlink:href=\"#DejaVuSans-101\"/>\r\n      <use x=\"150.65625\" xlink:href=\"#DejaVuSans-113\"/>\r\n      <use x=\"214.132812\" xlink:href=\"#DejaVuSans-117\"/>\r\n      <use x=\"277.511719\" xlink:href=\"#DejaVuSans-101\"/>\r\n      <use x=\"339.035156\" xlink:href=\"#DejaVuSans-110\"/>\r\n      <use x=\"402.414062\" xlink:href=\"#DejaVuSans-99\"/>\r\n      <use x=\"457.394531\" xlink:href=\"#DejaVuSans-121\"/>\r\n     </g>\r\n    </g>\r\n   </g>\r\n   <g id=\"line2d_14\">\r\n    <path clip-path=\"url(#pabe7419a39)\" d=\"M 71.168807 244.316852 \r\nL 86.463462 244.207881 \r\nL 91.051858 244.044944 \r\nL 94.110789 243.734597 \r\nL 97.16972 243.186362 \r\nL 104.817048 241.558067 \r\nL 109.405445 240.774247 \r\nL 112.464376 239.917011 \r\nL 115.523307 238.600609 \r\nL 120.111703 236.38859 \r\nL 121.641169 235.873476 \r\nL 123.170634 235.546647 \r\nL 126.229565 235.29437 \r\nL 127.759031 235.164706 \r\nL 129.288496 234.867982 \r\nL 130.817962 234.316435 \r\nL 132.347427 233.491774 \r\nL 136.935824 230.346578 \r\nL 138.465289 229.59445 \r\nL 139.994755 229.187886 \r\nL 141.52422 229.118735 \r\nL 146.112617 229.483237 \r\nL 147.642082 229.136199 \r\nL 149.171548 228.314962 \r\nL 150.701013 226.998011 \r\nL 152.230479 225.243874 \r\nL 153.759944 223.161111 \r\nL 159.877806 214.086819 \r\nL 161.407272 212.262432 \r\nL 162.936737 210.768959 \r\nL 165.995668 208.233207 \r\nL 167.525134 206.623057 \r\nL 169.054599 204.376015 \r\nL 170.584065 201.321132 \r\nL 172.11353 197.475715 \r\nL 175.172461 188.365093 \r\nL 176.701927 183.821593 \r\nL 178.231392 179.735327 \r\nL 179.760858 176.269832 \r\nL 181.290323 173.383101 \r\nL 193.526048 153.028735 \r\nL 195.055513 150.107912 \r\nL 196.584979 146.7829 \r\nL 199.64391 139.49684 \r\nL 201.173375 136.209196 \r\nL 202.702841 133.597286 \r\nL 204.232306 131.730871 \r\nL 207.291237 129.008133 \r\nL 208.820703 127.211712 \r\nL 210.350168 124.809571 \r\nL 211.879634 122.074283 \r\nL 213.409099 119.605917 \r\nL 214.938565 118.054507 \r\nL 216.46803 117.852299 \r\nL 217.997496 119.08531 \r\nL 219.526961 121.493258 \r\nL 222.585892 127.382079 \r\nL 224.115358 129.244225 \r\nL 225.644823 129.44656 \r\nL 227.174289 127.728895 \r\nL 228.703754 124.264225 \r\nL 230.23322 119.501893 \r\nL 233.292151 108.370312 \r\nL 234.821616 103.484387 \r\nL 236.351082 100.38247 \r\nL 237.880547 99.986222 \r\nL 239.410013 102.560413 \r\nL 240.939478 107.376026 \r\nL 242.468944 112.853721 \r\nL 243.998409 117.0942 \r\nL 245.527875 118.441845 \r\nL 247.05734 115.836057 \r\nL 248.586806 109.002145 \r\nL 250.116271 98.635691 \r\nL 253.175202 75.225322 \r\nL 254.704668 67.34942 \r\nL 256.234133 64.393514 \r\nL 257.763599 66.167748 \r\nL 259.293064 71.043046 \r\nL 260.82253 76.879305 \r\nL 262.351995 81.928049 \r\nL 263.881461 85.173843 \r\nL 265.410927 86.177084 \r\nL 266.940392 84.881634 \r\nL 268.469858 81.675098 \r\nL 269.999323 77.508288 \r\nL 271.528789 73.689332 \r\nL 273.058254 71.308673 \r\nL 274.58772 70.733106 \r\nL 276.117185 71.646394 \r\nL 277.646651 73.607181 \r\nL 279.176116 76.565966 \r\nL 280.705582 80.818416 \r\nL 282.235047 86.463468 \r\nL 285.293978 99.285091 \r\nL 286.823444 104.533119 \r\nL 288.352909 108.406724 \r\nL 289.882375 111.125082 \r\nL 291.41184 112.973501 \r\nL 292.941306 114.04806 \r\nL 296.000237 114.880878 \r\nL 297.529702 116.279175 \r\nL 299.059168 119.647394 \r\nL 300.588633 125.203445 \r\nL 305.17703 146.692572 \r\nL 306.706495 152.612659 \r\nL 308.235961 157.066909 \r\nL 309.765426 159.529774 \r\nL 311.294892 159.652817 \r\nL 312.824357 157.840783 \r\nL 314.353823 155.48536 \r\nL 315.883288 154.445301 \r\nL 317.412754 156.06998 \r\nL 318.942219 160.524269 \r\nL 320.471685 166.909376 \r\nL 323.530616 180.67063 \r\nL 325.060081 186.413694 \r\nL 326.589547 190.764347 \r\nL 328.119012 193.440112 \r\nL 329.648478 194.532415 \r\nL 331.177943 194.712373 \r\nL 332.707409 195.028052 \r\nL 334.236874 196.31548 \r\nL 335.76634 198.686773 \r\nL 337.295805 201.553393 \r\nL 338.825271 204.178253 \r\nL 343.413667 210.585774 \r\nL 344.943133 213.778897 \r\nL 349.53153 225.619681 \r\nL 351.060995 228.704649 \r\nL 352.590461 230.817377 \r\nL 354.119926 231.863476 \r\nL 355.649392 231.944119 \r\nL 358.708323 230.913577 \r\nL 360.237788 231.022954 \r\nL 361.767254 232.118252 \r\nL 363.296719 234.139089 \r\nL 366.35565 239.163136 \r\nL 367.885116 241.21383 \r\nL 369.414581 242.650414 \r\nL 370.944047 243.519834 \r\nL 372.473512 243.977849 \r\nL 374.002978 244.188846 \r\nL 375.532443 244.274089 \r\nL 375.532443 244.274089 \r\n\" style=\"fill:none;stroke:#1f77b4;stroke-linecap:square;stroke-width:1.5;\"/>\r\n   </g>\r\n   <g id=\"patch_53\">\r\n    <path d=\"M 55.950625 244.317188 \r\nL 55.950625 26.877187 \r\n\" style=\"fill:none;stroke:#000000;stroke-linecap:square;stroke-linejoin:miter;stroke-width:0.8;\"/>\r\n   </g>\r\n   <g id=\"patch_54\">\r\n    <path d=\"M 390.750625 244.317188 \r\nL 390.750625 26.877187 \r\n\" style=\"fill:none;stroke:#000000;stroke-linecap:square;stroke-linejoin:miter;stroke-width:0.8;\"/>\r\n   </g>\r\n   <g id=\"patch_55\">\r\n    <path d=\"M 55.950625 244.317188 \r\nL 390.750625 244.317188 \r\n\" style=\"fill:none;stroke:#000000;stroke-linecap:square;stroke-linejoin:miter;stroke-width:0.8;\"/>\r\n   </g>\r\n   <g id=\"patch_56\">\r\n    <path d=\"M 55.950625 26.877187 \r\nL 390.750625 26.877187 \r\n\" style=\"fill:none;stroke:#000000;stroke-linecap:square;stroke-linejoin:miter;stroke-width:0.8;\"/>\r\n   </g>\r\n   <g id=\"text_16\">\r\n    <!-- Life Expectancy -->\r\n    <g transform=\"translate(152.032656 20.877187)scale(0.18 -0.18)\">\r\n     <defs>\r\n      <path d=\"M 18.3125 70.21875 \r\nL 18.3125 54.6875 \r\nL 36.8125 54.6875 \r\nL 36.8125 47.703125 \r\nL 18.3125 47.703125 \r\nL 18.3125 18.015625 \r\nQ 18.3125 11.328125 20.140625 9.421875 \r\nQ 21.96875 7.515625 27.59375 7.515625 \r\nL 36.8125 7.515625 \r\nL 36.8125 0 \r\nL 27.59375 0 \r\nQ 17.1875 0 13.234375 3.875 \r\nQ 9.28125 7.765625 9.28125 18.015625 \r\nL 9.28125 47.703125 \r\nL 2.6875 47.703125 \r\nL 2.6875 54.6875 \r\nL 9.28125 54.6875 \r\nL 9.28125 70.21875 \r\nz\r\n\" id=\"DejaVuSans-116\"/>\r\n     </defs>\r\n     <use xlink:href=\"#DejaVuSans-76\"/>\r\n     <use x=\"55.712891\" xlink:href=\"#DejaVuSans-105\"/>\r\n     <use x=\"83.496094\" xlink:href=\"#DejaVuSans-102\"/>\r\n     <use x=\"118.701172\" xlink:href=\"#DejaVuSans-101\"/>\r\n     <use x=\"180.224609\" xlink:href=\"#DejaVuSans-32\"/>\r\n     <use x=\"212.011719\" xlink:href=\"#DejaVuSans-69\"/>\r\n     <use x=\"275.195312\" xlink:href=\"#DejaVuSans-120\"/>\r\n     <use x=\"334.375\" xlink:href=\"#DejaVuSans-112\"/>\r\n     <use x=\"397.851562\" xlink:href=\"#DejaVuSans-101\"/>\r\n     <use x=\"459.375\" xlink:href=\"#DejaVuSans-99\"/>\r\n     <use x=\"514.355469\" xlink:href=\"#DejaVuSans-116\"/>\r\n     <use x=\"553.564453\" xlink:href=\"#DejaVuSans-97\"/>\r\n     <use x=\"614.84375\" xlink:href=\"#DejaVuSans-110\"/>\r\n     <use x=\"678.222656\" xlink:href=\"#DejaVuSans-99\"/>\r\n     <use x=\"733.203125\" xlink:href=\"#DejaVuSans-121\"/>\r\n    </g>\r\n   </g>\r\n  </g>\r\n </g>\r\n <defs>\r\n  <clipPath id=\"pabe7419a39\">\r\n   <rect height=\"217.44\" width=\"334.8\" x=\"55.950625\" y=\"26.877187\"/>\r\n  </clipPath>\r\n </defs>\r\n</svg>\r\n",
      "image/png": "[encoded data removed]"
     },
     "metadata": {
      "needs_background": "light"
     }
    }
   ],
   "source": [
    "df_rs_qty_gn_rcn['log_price'] = np.log(df_rs_qty_gn_rcn['PricePerUnit'])\n",
    "sns.distplot(df_rs_qty_gn_rcn['log_price'])\n",
    "plt.title('Life Expectancy', fontsize=18)\n",
    "plt.xlabel('Life Exp (years)', fontsize=16)\n",
    "plt.ylabel('Frequency', fontsize=16)"
   ]
  },
  {
   "cell_type": "code",
   "execution_count": 77,
   "metadata": {},
   "outputs": [
    {
     "output_type": "stream",
     "name": "stderr",
     "text": [
      "C:\\Users\\shali\\AppData\\Local\\Programs\\Python\\Python37\\lib\\site-packages\\seaborn\\distributions.py:2557: FutureWarning: `distplot` is a deprecated function and will be removed in a future version. Please adapt your code to use either `displot` (a figure-level function with similar flexibility) or `histplot` (an axes-level function for histograms).\n  warnings.warn(msg, FutureWarning)\n"
     ]
    },
    {
     "output_type": "execute_result",
     "data": {
      "text/plain": [
       "Text(0, 0.5, 'Frequency')"
      ]
     },
     "metadata": {},
     "execution_count": 77
    },
    {
     "output_type": "display_data",
     "data": {
      "text/plain": "<Figure size 432x288 with 1 Axes>",
      "image/svg+xml": "<?xml version=\"1.0\" encoding=\"utf-8\" standalone=\"no\"?>\r\n<!DOCTYPE svg PUBLIC \"-//W3C//DTD SVG 1.1//EN\"\r\n  \"http://www.w3.org/Graphics/SVG/1.1/DTD/svg11.dtd\">\r\n<!-- Created with matplotlib (https://matplotlib.org/) -->\r\n<svg height=\"287.680313pt\" version=\"1.1\" viewBox=\"0 0 404.313125 287.680313\" width=\"404.313125pt\" xmlns=\"http://www.w3.org/2000/svg\" xmlns:xlink=\"http://www.w3.org/1999/xlink\">\r\n <metadata>\r\n  <rdf:RDF xmlns:cc=\"http://creativecommons.org/ns#\" xmlns:dc=\"http://purl.org/dc/elements/1.1/\" xmlns:rdf=\"http://www.w3.org/1999/02/22-rdf-syntax-ns#\">\r\n   <cc:Work>\r\n    <dc:type rdf:resource=\"http://purl.org/dc/dcmitype/StillImage\"/>\r\n    <dc:date>2021-03-11T10:17:57.671150</dc:date>\r\n    <dc:format>image/svg+xml</dc:format>\r\n    <dc:creator>\r\n     <cc:Agent>\r\n      <dc:title>Matplotlib v3.3.4, https://matplotlib.org/</dc:title>\r\n     </cc:Agent>\r\n    </dc:creator>\r\n   </cc:Work>\r\n  </rdf:RDF>\r\n </metadata>\r\n <defs>\r\n  <style type=\"text/css\">*{stroke-linecap:butt;stroke-linejoin:round;}</style>\r\n </defs>\r\n <g id=\"figure_1\">\r\n  <g id=\"patch_1\">\r\n   <path d=\"M 0 287.680313 \r\nL 404.313125 287.680313 \r\nL 404.313125 0 \r\nL 0 0 \r\nz\r\n\" style=\"fill:none;\"/>\r\n  </g>\r\n  <g id=\"axes_1\">\r\n   <g id=\"patch_2\">\r\n    <path d=\"M 62.313125 244.317188 \r\nL 397.113125 244.317188 \r\nL 397.113125 26.877187 \r\nL 62.313125 26.877187 \r\nz\r\n\" style=\"fill:#ffffff;\"/>\r\n   </g>\r\n   <g id=\"patch_3\">\r\n    <path clip-path=\"url(#p839da6c3e8)\" d=\"M 101.011943 244.317188 \r\nL 106.159991 244.317188 \r\nL 106.159991 37.231473 \r\nL 101.011943 37.231473 \r\nz\r\n\" style=\"fill:#1f77b4;opacity:0.4;\"/>\r\n   </g>\r\n   <g id=\"patch_4\">\r\n    <path clip-path=\"url(#p839da6c3e8)\" d=\"M 106.159991 244.317188 \r\nL 111.308038 244.317188 \r\nL 111.308038 79.906164 \r\nL 106.159991 79.906164 \r\nz\r\n\" style=\"fill:#1f77b4;opacity:0.4;\"/>\r\n   </g>\r\n   <g id=\"patch_5\">\r\n    <path clip-path=\"url(#p839da6c3e8)\" d=\"M 111.308038 244.317188 \r\nL 116.456085 244.317188 \r\nL 116.456085 244.317188 \r\nL 111.308038 244.317188 \r\nz\r\n\" style=\"fill:#1f77b4;opacity:0.4;\"/>\r\n   </g>\r\n   <g id=\"patch_6\">\r\n    <path clip-path=\"url(#p839da6c3e8)\" d=\"M 116.456085 244.317188 \r\nL 121.604132 244.317188 \r\nL 121.604132 239.68754 \r\nL 116.456085 239.68754 \r\nz\r\n\" style=\"fill:#1f77b4;opacity:0.4;\"/>\r\n   </g>\r\n   <g id=\"patch_7\">\r\n    <path clip-path=\"url(#p839da6c3e8)\" d=\"M 121.604132 244.317188 \r\nL 126.75218 244.317188 \r\nL 126.75218 81.746319 \r\nL 121.604132 81.746319 \r\nz\r\n\" style=\"fill:#1f77b4;opacity:0.4;\"/>\r\n   </g>\r\n   <g id=\"patch_8\">\r\n    <path clip-path=\"url(#p839da6c3e8)\" d=\"M 126.75218 244.317188 \r\nL 131.900227 244.317188 \r\nL 131.900227 244.317188 \r\nL 126.75218 244.317188 \r\nz\r\n\" style=\"fill:#1f77b4;opacity:0.4;\"/>\r\n   </g>\r\n   <g id=\"patch_9\">\r\n    <path clip-path=\"url(#p839da6c3e8)\" d=\"M 131.900227 244.317188 \r\nL 137.048274 244.317188 \r\nL 137.048274 235.994225 \r\nL 131.900227 235.994225 \r\nz\r\n\" style=\"fill:#1f77b4;opacity:0.4;\"/>\r\n   </g>\r\n   <g id=\"patch_10\">\r\n    <path clip-path=\"url(#p839da6c3e8)\" d=\"M 137.048274 244.317188 \r\nL 142.196321 244.317188 \r\nL 142.196321 244.317188 \r\nL 137.048274 244.317188 \r\nz\r\n\" style=\"fill:#1f77b4;opacity:0.4;\"/>\r\n   </g>\r\n   <g id=\"patch_11\">\r\n    <path clip-path=\"url(#p839da6c3e8)\" d=\"M 142.196321 244.317188 \r\nL 147.344369 244.317188 \r\nL 147.344369 132.665944 \r\nL 142.196321 132.665944 \r\nz\r\n\" style=\"fill:#1f77b4;opacity:0.4;\"/>\r\n   </g>\r\n   <g id=\"patch_12\">\r\n    <path clip-path=\"url(#p839da6c3e8)\" d=\"M 147.344369 244.317188 \r\nL 152.492416 244.317188 \r\nL 152.492416 244.317188 \r\nL 147.344369 244.317188 \r\nz\r\n\" style=\"fill:#1f77b4;opacity:0.4;\"/>\r\n   </g>\r\n   <g id=\"patch_13\">\r\n    <path clip-path=\"url(#p839da6c3e8)\" d=\"M 152.492416 244.317188 \r\nL 157.640463 244.317188 \r\nL 157.640463 244.317188 \r\nL 152.492416 244.317188 \r\nz\r\n\" style=\"fill:#1f77b4;opacity:0.4;\"/>\r\n   </g>\r\n   <g id=\"patch_14\">\r\n    <path clip-path=\"url(#p839da6c3e8)\" d=\"M 157.640463 244.317188 \r\nL 162.788511 244.317188 \r\nL 162.788511 244.317188 \r\nL 157.640463 244.317188 \r\nz\r\n\" style=\"fill:#1f77b4;opacity:0.4;\"/>\r\n   </g>\r\n   <g id=\"patch_15\">\r\n    <path clip-path=\"url(#p839da6c3e8)\" d=\"M 162.788511 244.317188 \r\nL 167.936558 244.317188 \r\nL 167.936558 235.994225 \r\nL 162.788511 235.994225 \r\nz\r\n\" style=\"fill:#1f77b4;opacity:0.4;\"/>\r\n   </g>\r\n   <g id=\"patch_16\">\r\n    <path clip-path=\"url(#p839da6c3e8)\" d=\"M 167.936558 244.317188 \r\nL 173.084605 244.317188 \r\nL 173.084605 244.317188 \r\nL 167.936558 244.317188 \r\nz\r\n\" style=\"fill:#1f77b4;opacity:0.4;\"/>\r\n   </g>\r\n   <g id=\"patch_17\">\r\n    <path clip-path=\"url(#p839da6c3e8)\" d=\"M 173.084605 244.317188 \r\nL 178.232652 244.317188 \r\nL 178.232652 244.317188 \r\nL 173.084605 244.317188 \r\nz\r\n\" style=\"fill:#1f77b4;opacity:0.4;\"/>\r\n   </g>\r\n   <g id=\"patch_18\">\r\n    <path clip-path=\"url(#p839da6c3e8)\" d=\"M 178.232652 244.317188 \r\nL 183.3807 244.317188 \r\nL 183.3807 244.317188 \r\nL 178.232652 244.317188 \r\nz\r\n\" style=\"fill:#1f77b4;opacity:0.4;\"/>\r\n   </g>\r\n   <g id=\"patch_19\">\r\n    <path clip-path=\"url(#p839da6c3e8)\" d=\"M 183.3807 244.317188 \r\nL 188.528747 244.317188 \r\nL 188.528747 148.603117 \r\nL 183.3807 148.603117 \r\nz\r\n\" style=\"fill:#1f77b4;opacity:0.4;\"/>\r\n   </g>\r\n   <g id=\"patch_20\">\r\n    <path clip-path=\"url(#p839da6c3e8)\" d=\"M 188.528747 244.317188 \r\nL 193.676794 244.317188 \r\nL 193.676794 244.317188 \r\nL 188.528747 244.317188 \r\nz\r\n\" style=\"fill:#1f77b4;opacity:0.4;\"/>\r\n   </g>\r\n   <g id=\"patch_21\">\r\n    <path clip-path=\"url(#p839da6c3e8)\" d=\"M 193.676794 244.317188 \r\nL 198.824841 244.317188 \r\nL 198.824841 244.317188 \r\nL 193.676794 244.317188 \r\nz\r\n\" style=\"fill:#1f77b4;opacity:0.4;\"/>\r\n   </g>\r\n   <g id=\"patch_22\">\r\n    <path clip-path=\"url(#p839da6c3e8)\" d=\"M 198.824841 244.317188 \r\nL 203.972889 244.317188 \r\nL 203.972889 244.317188 \r\nL 198.824841 244.317188 \r\nz\r\n\" style=\"fill:#1f77b4;opacity:0.4;\"/>\r\n   </g>\r\n   <g id=\"patch_23\">\r\n    <path clip-path=\"url(#p839da6c3e8)\" d=\"M 203.972889 244.317188 \r\nL 209.120936 244.317188 \r\nL 209.120936 229.355362 \r\nL 203.972889 229.355362 \r\nz\r\n\" style=\"fill:#1f77b4;opacity:0.4;\"/>\r\n   </g>\r\n   <g id=\"patch_24\">\r\n    <path clip-path=\"url(#p839da6c3e8)\" d=\"M 209.120936 244.317188 \r\nL 214.268983 244.317188 \r\nL 214.268983 244.317188 \r\nL 209.120936 244.317188 \r\nz\r\n\" style=\"fill:#1f77b4;opacity:0.4;\"/>\r\n   </g>\r\n   <g id=\"patch_25\">\r\n    <path clip-path=\"url(#p839da6c3e8)\" d=\"M 214.268983 244.317188 \r\nL 219.41703 244.317188 \r\nL 219.41703 244.317188 \r\nL 214.268983 244.317188 \r\nz\r\n\" style=\"fill:#1f77b4;opacity:0.4;\"/>\r\n   </g>\r\n   <g id=\"patch_26\">\r\n    <path clip-path=\"url(#p839da6c3e8)\" d=\"M 219.41703 244.317188 \r\nL 224.565078 244.317188 \r\nL 224.565078 244.317188 \r\nL 219.41703 244.317188 \r\nz\r\n\" style=\"fill:#1f77b4;opacity:0.4;\"/>\r\n   </g>\r\n   <g id=\"patch_27\">\r\n    <path clip-path=\"url(#p839da6c3e8)\" d=\"M 224.565078 244.317188 \r\nL 229.713125 244.317188 \r\nL 229.713125 131.072877 \r\nL 224.565078 131.072877 \r\nz\r\n\" style=\"fill:#1f77b4;opacity:0.4;\"/>\r\n   </g>\r\n   <g id=\"patch_28\">\r\n    <path clip-path=\"url(#p839da6c3e8)\" d=\"M 229.713125 244.317188 \r\nL 234.861172 244.317188 \r\nL 234.861172 244.317188 \r\nL 229.713125 244.317188 \r\nz\r\n\" style=\"fill:#1f77b4;opacity:0.4;\"/>\r\n   </g>\r\n   <g id=\"patch_29\">\r\n    <path clip-path=\"url(#p839da6c3e8)\" d=\"M 234.861172 244.317188 \r\nL 240.00922 244.317188 \r\nL 240.00922 244.317188 \r\nL 234.861172 244.317188 \r\nz\r\n\" style=\"fill:#1f77b4;opacity:0.4;\"/>\r\n   </g>\r\n   <g id=\"patch_30\">\r\n    <path clip-path=\"url(#p839da6c3e8)\" d=\"M 240.00922 244.317188 \r\nL 245.157267 244.317188 \r\nL 245.157267 244.317188 \r\nL 240.00922 244.317188 \r\nz\r\n\" style=\"fill:#1f77b4;opacity:0.4;\"/>\r\n   </g>\r\n   <g id=\"patch_31\">\r\n    <path clip-path=\"url(#p839da6c3e8)\" d=\"M 245.157267 244.317188 \r\nL 250.305314 244.317188 \r\nL 250.305314 244.317188 \r\nL 245.157267 244.317188 \r\nz\r\n\" style=\"fill:#1f77b4;opacity:0.4;\"/>\r\n   </g>\r\n   <g id=\"patch_32\">\r\n    <path clip-path=\"url(#p839da6c3e8)\" d=\"M 250.305314 244.317188 \r\nL 255.453361 244.317188 \r\nL 255.453361 244.317188 \r\nL 250.305314 244.317188 \r\nz\r\n\" style=\"fill:#1f77b4;opacity:0.4;\"/>\r\n   </g>\r\n   <g id=\"patch_33\">\r\n    <path clip-path=\"url(#p839da6c3e8)\" d=\"M 255.453361 244.317188 \r\nL 260.601409 244.317188 \r\nL 260.601409 244.317188 \r\nL 255.453361 244.317188 \r\nz\r\n\" style=\"fill:#1f77b4;opacity:0.4;\"/>\r\n   </g>\r\n   <g id=\"patch_34\">\r\n    <path clip-path=\"url(#p839da6c3e8)\" d=\"M 260.601409 244.317188 \r\nL 265.749456 244.317188 \r\nL 265.749456 244.317188 \r\nL 260.601409 244.317188 \r\nz\r\n\" style=\"fill:#1f77b4;opacity:0.4;\"/>\r\n   </g>\r\n   <g id=\"patch_35\">\r\n    <path clip-path=\"url(#p839da6c3e8)\" d=\"M 265.749456 244.317188 \r\nL 270.897503 244.317188 \r\nL 270.897503 244.317188 \r\nL 265.749456 244.317188 \r\nz\r\n\" style=\"fill:#1f77b4;opacity:0.4;\"/>\r\n   </g>\r\n   <g id=\"patch_36\">\r\n    <path clip-path=\"url(#p839da6c3e8)\" d=\"M 270.897503 244.317188 \r\nL 276.04555 244.317188 \r\nL 276.04555 132.347331 \r\nL 270.897503 132.347331 \r\nz\r\n\" style=\"fill:#1f77b4;opacity:0.4;\"/>\r\n   </g>\r\n   <g id=\"patch_37\">\r\n    <path clip-path=\"url(#p839da6c3e8)\" d=\"M 276.04555 244.317188 \r\nL 281.193598 244.317188 \r\nL 281.193598 244.317188 \r\nL 276.04555 244.317188 \r\nz\r\n\" style=\"fill:#1f77b4;opacity:0.4;\"/>\r\n   </g>\r\n   <g id=\"patch_38\">\r\n    <path clip-path=\"url(#p839da6c3e8)\" d=\"M 281.193598 244.317188 \r\nL 286.341645 244.317188 \r\nL 286.341645 244.317188 \r\nL 281.193598 244.317188 \r\nz\r\n\" style=\"fill:#1f77b4;opacity:0.4;\"/>\r\n   </g>\r\n   <g id=\"patch_39\">\r\n    <path clip-path=\"url(#p839da6c3e8)\" d=\"M 286.341645 244.317188 \r\nL 291.489692 244.317188 \r\nL 291.489692 244.317188 \r\nL 286.341645 244.317188 \r\nz\r\n\" style=\"fill:#1f77b4;opacity:0.4;\"/>\r\n   </g>\r\n   <g id=\"patch_40\">\r\n    <path clip-path=\"url(#p839da6c3e8)\" d=\"M 291.489692 244.317188 \r\nL 296.637739 244.317188 \r\nL 296.637739 244.317188 \r\nL 291.489692 244.317188 \r\nz\r\n\" style=\"fill:#1f77b4;opacity:0.4;\"/>\r\n   </g>\r\n   <g id=\"patch_41\">\r\n    <path clip-path=\"url(#p839da6c3e8)\" d=\"M 296.637739 244.317188 \r\nL 301.785787 244.317188 \r\nL 301.785787 244.317188 \r\nL 296.637739 244.317188 \r\nz\r\n\" style=\"fill:#1f77b4;opacity:0.4;\"/>\r\n   </g>\r\n   <g id=\"patch_42\">\r\n    <path clip-path=\"url(#p839da6c3e8)\" d=\"M 301.785787 244.317188 \r\nL 306.933834 244.317188 \r\nL 306.933834 244.317188 \r\nL 301.785787 244.317188 \r\nz\r\n\" style=\"fill:#1f77b4;opacity:0.4;\"/>\r\n   </g>\r\n   <g id=\"patch_43\">\r\n    <path clip-path=\"url(#p839da6c3e8)\" d=\"M 306.933834 244.317188 \r\nL 312.081881 244.317188 \r\nL 312.081881 244.317188 \r\nL 306.933834 244.317188 \r\nz\r\n\" style=\"fill:#1f77b4;opacity:0.4;\"/>\r\n   </g>\r\n   <g id=\"patch_44\">\r\n    <path clip-path=\"url(#p839da6c3e8)\" d=\"M 312.081881 244.317188 \r\nL 317.229929 244.317188 \r\nL 317.229929 244.317188 \r\nL 312.081881 244.317188 \r\nz\r\n\" style=\"fill:#1f77b4;opacity:0.4;\"/>\r\n   </g>\r\n   <g id=\"patch_45\">\r\n    <path clip-path=\"url(#p839da6c3e8)\" d=\"M 317.229929 244.317188 \r\nL 322.377976 244.317188 \r\nL 322.377976 244.317188 \r\nL 317.229929 244.317188 \r\nz\r\n\" style=\"fill:#1f77b4;opacity:0.4;\"/>\r\n   </g>\r\n   <g id=\"patch_46\">\r\n    <path clip-path=\"url(#p839da6c3e8)\" d=\"M 322.377976 244.317188 \r\nL 327.526023 244.317188 \r\nL 327.526023 244.317188 \r\nL 322.377976 244.317188 \r\nz\r\n\" style=\"fill:#1f77b4;opacity:0.4;\"/>\r\n   </g>\r\n   <g id=\"patch_47\">\r\n    <path clip-path=\"url(#p839da6c3e8)\" d=\"M 327.526023 244.317188 \r\nL 332.67407 244.317188 \r\nL 332.67407 244.317188 \r\nL 327.526023 244.317188 \r\nz\r\n\" style=\"fill:#1f77b4;opacity:0.4;\"/>\r\n   </g>\r\n   <g id=\"patch_48\">\r\n    <path clip-path=\"url(#p839da6c3e8)\" d=\"M 332.67407 244.317188 \r\nL 337.822118 244.317188 \r\nL 337.822118 244.317188 \r\nL 332.67407 244.317188 \r\nz\r\n\" style=\"fill:#1f77b4;opacity:0.4;\"/>\r\n   </g>\r\n   <g id=\"patch_49\">\r\n    <path clip-path=\"url(#p839da6c3e8)\" d=\"M 337.822118 244.317188 \r\nL 342.970165 244.317188 \r\nL 342.970165 244.317188 \r\nL 337.822118 244.317188 \r\nz\r\n\" style=\"fill:#1f77b4;opacity:0.4;\"/>\r\n   </g>\r\n   <g id=\"patch_50\">\r\n    <path clip-path=\"url(#p839da6c3e8)\" d=\"M 342.970165 244.317188 \r\nL 348.118212 244.317188 \r\nL 348.118212 244.317188 \r\nL 342.970165 244.317188 \r\nz\r\n\" style=\"fill:#1f77b4;opacity:0.4;\"/>\r\n   </g>\r\n   <g id=\"patch_51\">\r\n    <path clip-path=\"url(#p839da6c3e8)\" d=\"M 348.118212 244.317188 \r\nL 353.266259 244.317188 \r\nL 353.266259 244.317188 \r\nL 348.118212 244.317188 \r\nz\r\n\" style=\"fill:#1f77b4;opacity:0.4;\"/>\r\n   </g>\r\n   <g id=\"patch_52\">\r\n    <path clip-path=\"url(#p839da6c3e8)\" d=\"M 353.266259 244.317188 \r\nL 358.414307 244.317188 \r\nL 358.414307 86.545027 \r\nL 353.266259 86.545027 \r\nz\r\n\" style=\"fill:#1f77b4;opacity:0.4;\"/>\r\n   </g>\r\n   <g id=\"matplotlib.axis_1\">\r\n    <g id=\"xtick_1\">\r\n     <g id=\"line2d_1\">\r\n      <defs>\r\n       <path d=\"M 0 0 \r\nL 0 3.5 \r\n\" id=\"m9f07f0da2f\" style=\"stroke:#000000;stroke-width:0.8;\"/>\r\n      </defs>\r\n      <g>\r\n       <use style=\"stroke:#000000;stroke-width:0.8;\" x=\"100.339874\" xlink:href=\"#m9f07f0da2f\" y=\"244.317188\"/>\r\n      </g>\r\n     </g>\r\n     <g id=\"text_1\">\r\n      <!-- 0 -->\r\n      <g transform=\"translate(97.158624 258.915625)scale(0.1 -0.1)\">\r\n       <defs>\r\n        <path d=\"M 31.78125 66.40625 \r\nQ 24.171875 66.40625 20.328125 58.90625 \r\nQ 16.5 51.421875 16.5 36.375 \r\nQ 16.5 21.390625 20.328125 13.890625 \r\nQ 24.171875 6.390625 31.78125 6.390625 \r\nQ 39.453125 6.390625 43.28125 13.890625 \r\nQ 47.125 21.390625 47.125 36.375 \r\nQ 47.125 51.421875 43.28125 58.90625 \r\nQ 39.453125 66.40625 31.78125 66.40625 \r\nz\r\nM 31.78125 74.21875 \r\nQ 44.046875 74.21875 50.515625 64.515625 \r\nQ 56.984375 54.828125 56.984375 36.375 \r\nQ 56.984375 17.96875 50.515625 8.265625 \r\nQ 44.046875 -1.421875 31.78125 -1.421875 \r\nQ 19.53125 -1.421875 13.0625 8.265625 \r\nQ 6.59375 17.96875 6.59375 36.375 \r\nQ 6.59375 54.828125 13.0625 64.515625 \r\nQ 19.53125 74.21875 31.78125 74.21875 \r\nz\r\n\" id=\"DejaVuSans-48\"/>\r\n       </defs>\r\n       <use xlink:href=\"#DejaVuSans-48\"/>\r\n      </g>\r\n     </g>\r\n    </g>\r\n    <g id=\"xtick_2\">\r\n     <g id=\"line2d_2\">\r\n      <g>\r\n       <use style=\"stroke:#000000;stroke-width:0.8;\" x=\"167.546758\" xlink:href=\"#m9f07f0da2f\" y=\"244.317188\"/>\r\n      </g>\r\n     </g>\r\n     <g id=\"text_2\">\r\n      <!-- 100 -->\r\n      <g transform=\"translate(158.003008 258.915625)scale(0.1 -0.1)\">\r\n       <defs>\r\n        <path d=\"M 12.40625 8.296875 \r\nL 28.515625 8.296875 \r\nL 28.515625 63.921875 \r\nL 10.984375 60.40625 \r\nL 10.984375 69.390625 \r\nL 28.421875 72.90625 \r\nL 38.28125 72.90625 \r\nL 38.28125 8.296875 \r\nL 54.390625 8.296875 \r\nL 54.390625 0 \r\nL 12.40625 0 \r\nz\r\n\" id=\"DejaVuSans-49\"/>\r\n       </defs>\r\n       <use xlink:href=\"#DejaVuSans-49\"/>\r\n       <use x=\"63.623047\" xlink:href=\"#DejaVuSans-48\"/>\r\n       <use x=\"127.246094\" xlink:href=\"#DejaVuSans-48\"/>\r\n      </g>\r\n     </g>\r\n    </g>\r\n    <g id=\"xtick_3\">\r\n     <g id=\"line2d_3\">\r\n      <g>\r\n       <use style=\"stroke:#000000;stroke-width:0.8;\" x=\"234.753641\" xlink:href=\"#m9f07f0da2f\" y=\"244.317188\"/>\r\n      </g>\r\n     </g>\r\n     <g id=\"text_3\">\r\n      <!-- 200 -->\r\n      <g transform=\"translate(225.209891 258.915625)scale(0.1 -0.1)\">\r\n       <defs>\r\n        <path d=\"M 19.1875 8.296875 \r\nL 53.609375 8.296875 \r\nL 53.609375 0 \r\nL 7.328125 0 \r\nL 7.328125 8.296875 \r\nQ 12.9375 14.109375 22.625 23.890625 \r\nQ 32.328125 33.6875 34.8125 36.53125 \r\nQ 39.546875 41.84375 41.421875 45.53125 \r\nQ 43.3125 49.21875 43.3125 52.78125 \r\nQ 43.3125 58.59375 39.234375 62.25 \r\nQ 35.15625 65.921875 28.609375 65.921875 \r\nQ 23.96875 65.921875 18.8125 64.3125 \r\nQ 13.671875 62.703125 7.8125 59.421875 \r\nL 7.8125 69.390625 \r\nQ 13.765625 71.78125 18.9375 73 \r\nQ 24.125 74.21875 28.421875 74.21875 \r\nQ 39.75 74.21875 46.484375 68.546875 \r\nQ 53.21875 62.890625 53.21875 53.421875 \r\nQ 53.21875 48.921875 51.53125 44.890625 \r\nQ 49.859375 40.875 45.40625 35.40625 \r\nQ 44.1875 33.984375 37.640625 27.21875 \r\nQ 31.109375 20.453125 19.1875 8.296875 \r\nz\r\n\" id=\"DejaVuSans-50\"/>\r\n       </defs>\r\n       <use xlink:href=\"#DejaVuSans-50\"/>\r\n       <use x=\"63.623047\" xlink:href=\"#DejaVuSans-48\"/>\r\n       <use x=\"127.246094\" xlink:href=\"#DejaVuSans-48\"/>\r\n      </g>\r\n     </g>\r\n    </g>\r\n    <g id=\"xtick_4\">\r\n     <g id=\"line2d_4\">\r\n      <g>\r\n       <use style=\"stroke:#000000;stroke-width:0.8;\" x=\"301.960525\" xlink:href=\"#m9f07f0da2f\" y=\"244.317188\"/>\r\n      </g>\r\n     </g>\r\n     <g id=\"text_4\">\r\n      <!-- 300 -->\r\n      <g transform=\"translate(292.416775 258.915625)scale(0.1 -0.1)\">\r\n       <defs>\r\n        <path d=\"M 40.578125 39.3125 \r\nQ 47.65625 37.796875 51.625 33 \r\nQ 55.609375 28.21875 55.609375 21.1875 \r\nQ 55.609375 10.40625 48.1875 4.484375 \r\nQ 40.765625 -1.421875 27.09375 -1.421875 \r\nQ 22.515625 -1.421875 17.65625 -0.515625 \r\nQ 12.796875 0.390625 7.625 2.203125 \r\nL 7.625 11.71875 \r\nQ 11.71875 9.328125 16.59375 8.109375 \r\nQ 21.484375 6.890625 26.8125 6.890625 \r\nQ 36.078125 6.890625 40.9375 10.546875 \r\nQ 45.796875 14.203125 45.796875 21.1875 \r\nQ 45.796875 27.640625 41.28125 31.265625 \r\nQ 36.765625 34.90625 28.71875 34.90625 \r\nL 20.21875 34.90625 \r\nL 20.21875 43.015625 \r\nL 29.109375 43.015625 \r\nQ 36.375 43.015625 40.234375 45.921875 \r\nQ 44.09375 48.828125 44.09375 54.296875 \r\nQ 44.09375 59.90625 40.109375 62.90625 \r\nQ 36.140625 65.921875 28.71875 65.921875 \r\nQ 24.65625 65.921875 20.015625 65.03125 \r\nQ 15.375 64.15625 9.8125 62.3125 \r\nL 9.8125 71.09375 \r\nQ 15.4375 72.65625 20.34375 73.4375 \r\nQ 25.25 74.21875 29.59375 74.21875 \r\nQ 40.828125 74.21875 47.359375 69.109375 \r\nQ 53.90625 64.015625 53.90625 55.328125 \r\nQ 53.90625 49.265625 50.4375 45.09375 \r\nQ 46.96875 40.921875 40.578125 39.3125 \r\nz\r\n\" id=\"DejaVuSans-51\"/>\r\n       </defs>\r\n       <use xlink:href=\"#DejaVuSans-51\"/>\r\n       <use x=\"63.623047\" xlink:href=\"#DejaVuSans-48\"/>\r\n       <use x=\"127.246094\" xlink:href=\"#DejaVuSans-48\"/>\r\n      </g>\r\n     </g>\r\n    </g>\r\n    <g id=\"xtick_5\">\r\n     <g id=\"line2d_5\">\r\n      <g>\r\n       <use style=\"stroke:#000000;stroke-width:0.8;\" x=\"369.167408\" xlink:href=\"#m9f07f0da2f\" y=\"244.317188\"/>\r\n      </g>\r\n     </g>\r\n     <g id=\"text_5\">\r\n      <!-- 400 -->\r\n      <g transform=\"translate(359.623658 258.915625)scale(0.1 -0.1)\">\r\n       <defs>\r\n        <path d=\"M 37.796875 64.3125 \r\nL 12.890625 25.390625 \r\nL 37.796875 25.390625 \r\nz\r\nM 35.203125 72.90625 \r\nL 47.609375 72.90625 \r\nL 47.609375 25.390625 \r\nL 58.015625 25.390625 \r\nL 58.015625 17.1875 \r\nL 47.609375 17.1875 \r\nL 47.609375 0 \r\nL 37.796875 0 \r\nL 37.796875 17.1875 \r\nL 4.890625 17.1875 \r\nL 4.890625 26.703125 \r\nz\r\n\" id=\"DejaVuSans-52\"/>\r\n       </defs>\r\n       <use xlink:href=\"#DejaVuSans-52\"/>\r\n       <use x=\"63.623047\" xlink:href=\"#DejaVuSans-48\"/>\r\n       <use x=\"127.246094\" xlink:href=\"#DejaVuSans-48\"/>\r\n      </g>\r\n     </g>\r\n    </g>\r\n    <g id=\"text_6\">\r\n     <!-- Life Exp (years) -->\r\n     <g transform=\"translate(167.081875 277.152813)scale(0.16 -0.16)\">\r\n      <defs>\r\n       <path d=\"M 9.8125 72.90625 \r\nL 19.671875 72.90625 \r\nL 19.671875 8.296875 \r\nL 55.171875 8.296875 \r\nL 55.171875 0 \r\nL 9.8125 0 \r\nz\r\n\" id=\"DejaVuSans-76\"/>\r\n       <path d=\"M 9.421875 54.6875 \r\nL 18.40625 54.6875 \r\nL 18.40625 0 \r\nL 9.421875 0 \r\nz\r\nM 9.421875 75.984375 \r\nL 18.40625 75.984375 \r\nL 18.40625 64.59375 \r\nL 9.421875 64.59375 \r\nz\r\n\" id=\"DejaVuSans-105\"/>\r\n       <path d=\"M 37.109375 75.984375 \r\nL 37.109375 68.5 \r\nL 28.515625 68.5 \r\nQ 23.6875 68.5 21.796875 66.546875 \r\nQ 19.921875 64.59375 19.921875 59.515625 \r\nL 19.921875 54.6875 \r\nL 34.71875 54.6875 \r\nL 34.71875 47.703125 \r\nL 19.921875 47.703125 \r\nL 19.921875 0 \r\nL 10.890625 0 \r\nL 10.890625 47.703125 \r\nL 2.296875 47.703125 \r\nL 2.296875 54.6875 \r\nL 10.890625 54.6875 \r\nL 10.890625 58.5 \r\nQ 10.890625 67.625 15.140625 71.796875 \r\nQ 19.390625 75.984375 28.609375 75.984375 \r\nz\r\n\" id=\"DejaVuSans-102\"/>\r\n       <path d=\"M 56.203125 29.59375 \r\nL 56.203125 25.203125 \r\nL 14.890625 25.203125 \r\nQ 15.484375 15.921875 20.484375 11.0625 \r\nQ 25.484375 6.203125 34.421875 6.203125 \r\nQ 39.59375 6.203125 44.453125 7.46875 \r\nQ 49.3125 8.734375 54.109375 11.28125 \r\nL 54.109375 2.78125 \r\nQ 49.265625 0.734375 44.1875 -0.34375 \r\nQ 39.109375 -1.421875 33.890625 -1.421875 \r\nQ 20.796875 -1.421875 13.15625 6.1875 \r\nQ 5.515625 13.8125 5.515625 26.8125 \r\nQ 5.515625 40.234375 12.765625 48.109375 \r\nQ 20.015625 56 32.328125 56 \r\nQ 43.359375 56 49.78125 48.890625 \r\nQ 56.203125 41.796875 56.203125 29.59375 \r\nz\r\nM 47.21875 32.234375 \r\nQ 47.125 39.59375 43.09375 43.984375 \r\nQ 39.0625 48.390625 32.421875 48.390625 \r\nQ 24.90625 48.390625 20.390625 44.140625 \r\nQ 15.875 39.890625 15.1875 32.171875 \r\nz\r\n\" id=\"DejaVuSans-101\"/>\r\n       <path id=\"DejaVuSans-32\"/>\r\n       <path d=\"M 9.8125 72.90625 \r\nL 55.90625 72.90625 \r\nL 55.90625 64.59375 \r\nL 19.671875 64.59375 \r\nL 19.671875 43.015625 \r\nL 54.390625 43.015625 \r\nL 54.390625 34.71875 \r\nL 19.671875 34.71875 \r\nL 19.671875 8.296875 \r\nL 56.78125 8.296875 \r\nL 56.78125 0 \r\nL 9.8125 0 \r\nz\r\n\" id=\"DejaVuSans-69\"/>\r\n       <path d=\"M 54.890625 54.6875 \r\nL 35.109375 28.078125 \r\nL 55.90625 0 \r\nL 45.3125 0 \r\nL 29.390625 21.484375 \r\nL 13.484375 0 \r\nL 2.875 0 \r\nL 24.125 28.609375 \r\nL 4.6875 54.6875 \r\nL 15.28125 54.6875 \r\nL 29.78125 35.203125 \r\nL 44.28125 54.6875 \r\nz\r\n\" id=\"DejaVuSans-120\"/>\r\n       <path d=\"M 18.109375 8.203125 \r\nL 18.109375 -20.796875 \r\nL 9.078125 -20.796875 \r\nL 9.078125 54.6875 \r\nL 18.109375 54.6875 \r\nL 18.109375 46.390625 \r\nQ 20.953125 51.265625 25.265625 53.625 \r\nQ 29.59375 56 35.59375 56 \r\nQ 45.5625 56 51.78125 48.09375 \r\nQ 58.015625 40.1875 58.015625 27.296875 \r\nQ 58.015625 14.40625 51.78125 6.484375 \r\nQ 45.5625 -1.421875 35.59375 -1.421875 \r\nQ 29.59375 -1.421875 25.265625 0.953125 \r\nQ 20.953125 3.328125 18.109375 8.203125 \r\nz\r\nM 48.6875 27.296875 \r\nQ 48.6875 37.203125 44.609375 42.84375 \r\nQ 40.53125 48.484375 33.40625 48.484375 \r\nQ 26.265625 48.484375 22.1875 42.84375 \r\nQ 18.109375 37.203125 18.109375 27.296875 \r\nQ 18.109375 17.390625 22.1875 11.75 \r\nQ 26.265625 6.109375 33.40625 6.109375 \r\nQ 40.53125 6.109375 44.609375 11.75 \r\nQ 48.6875 17.390625 48.6875 27.296875 \r\nz\r\n\" id=\"DejaVuSans-112\"/>\r\n       <path d=\"M 31 75.875 \r\nQ 24.46875 64.65625 21.28125 53.65625 \r\nQ 18.109375 42.671875 18.109375 31.390625 \r\nQ 18.109375 20.125 21.3125 9.0625 \r\nQ 24.515625 -2 31 -13.1875 \r\nL 23.1875 -13.1875 \r\nQ 15.875 -1.703125 12.234375 9.375 \r\nQ 8.59375 20.453125 8.59375 31.390625 \r\nQ 8.59375 42.28125 12.203125 53.3125 \r\nQ 15.828125 64.359375 23.1875 75.875 \r\nz\r\n\" id=\"DejaVuSans-40\"/>\r\n       <path d=\"M 32.171875 -5.078125 \r\nQ 28.375 -14.84375 24.75 -17.8125 \r\nQ 21.140625 -20.796875 15.09375 -20.796875 \r\nL 7.90625 -20.796875 \r\nL 7.90625 -13.28125 \r\nL 13.1875 -13.28125 \r\nQ 16.890625 -13.28125 18.9375 -11.515625 \r\nQ 21 -9.765625 23.484375 -3.21875 \r\nL 25.09375 0.875 \r\nL 2.984375 54.6875 \r\nL 12.5 54.6875 \r\nL 29.59375 11.921875 \r\nL 46.6875 54.6875 \r\nL 56.203125 54.6875 \r\nz\r\n\" id=\"DejaVuSans-121\"/>\r\n       <path d=\"M 34.28125 27.484375 \r\nQ 23.390625 27.484375 19.1875 25 \r\nQ 14.984375 22.515625 14.984375 16.5 \r\nQ 14.984375 11.71875 18.140625 8.90625 \r\nQ 21.296875 6.109375 26.703125 6.109375 \r\nQ 34.1875 6.109375 38.703125 11.40625 \r\nQ 43.21875 16.703125 43.21875 25.484375 \r\nL 43.21875 27.484375 \r\nz\r\nM 52.203125 31.203125 \r\nL 52.203125 0 \r\nL 43.21875 0 \r\nL 43.21875 8.296875 \r\nQ 40.140625 3.328125 35.546875 0.953125 \r\nQ 30.953125 -1.421875 24.3125 -1.421875 \r\nQ 15.921875 -1.421875 10.953125 3.296875 \r\nQ 6 8.015625 6 15.921875 \r\nQ 6 25.140625 12.171875 29.828125 \r\nQ 18.359375 34.515625 30.609375 34.515625 \r\nL 43.21875 34.515625 \r\nL 43.21875 35.40625 \r\nQ 43.21875 41.609375 39.140625 45 \r\nQ 35.0625 48.390625 27.6875 48.390625 \r\nQ 23 48.390625 18.546875 47.265625 \r\nQ 14.109375 46.140625 10.015625 43.890625 \r\nL 10.015625 52.203125 \r\nQ 14.9375 54.109375 19.578125 55.046875 \r\nQ 24.21875 56 28.609375 56 \r\nQ 40.484375 56 46.34375 49.84375 \r\nQ 52.203125 43.703125 52.203125 31.203125 \r\nz\r\n\" id=\"DejaVuSans-97\"/>\r\n       <path d=\"M 41.109375 46.296875 \r\nQ 39.59375 47.171875 37.8125 47.578125 \r\nQ 36.03125 48 33.890625 48 \r\nQ 26.265625 48 22.1875 43.046875 \r\nQ 18.109375 38.09375 18.109375 28.8125 \r\nL 18.109375 0 \r\nL 9.078125 0 \r\nL 9.078125 54.6875 \r\nL 18.109375 54.6875 \r\nL 18.109375 46.1875 \r\nQ 20.953125 51.171875 25.484375 53.578125 \r\nQ 30.03125 56 36.53125 56 \r\nQ 37.453125 56 38.578125 55.875 \r\nQ 39.703125 55.765625 41.0625 55.515625 \r\nz\r\n\" id=\"DejaVuSans-114\"/>\r\n       <path d=\"M 44.28125 53.078125 \r\nL 44.28125 44.578125 \r\nQ 40.484375 46.53125 36.375 47.5 \r\nQ 32.28125 48.484375 27.875 48.484375 \r\nQ 21.1875 48.484375 17.84375 46.4375 \r\nQ 14.5 44.390625 14.5 40.28125 \r\nQ 14.5 37.15625 16.890625 35.375 \r\nQ 19.28125 33.59375 26.515625 31.984375 \r\nL 29.59375 31.296875 \r\nQ 39.15625 29.25 43.1875 25.515625 \r\nQ 47.21875 21.78125 47.21875 15.09375 \r\nQ 47.21875 7.46875 41.1875 3.015625 \r\nQ 35.15625 -1.421875 24.609375 -1.421875 \r\nQ 20.21875 -1.421875 15.453125 -0.5625 \r\nQ 10.6875 0.296875 5.421875 2 \r\nL 5.421875 11.28125 \r\nQ 10.40625 8.6875 15.234375 7.390625 \r\nQ 20.0625 6.109375 24.8125 6.109375 \r\nQ 31.15625 6.109375 34.5625 8.28125 \r\nQ 37.984375 10.453125 37.984375 14.40625 \r\nQ 37.984375 18.0625 35.515625 20.015625 \r\nQ 33.0625 21.96875 24.703125 23.78125 \r\nL 21.578125 24.515625 \r\nQ 13.234375 26.265625 9.515625 29.90625 \r\nQ 5.8125 33.546875 5.8125 39.890625 \r\nQ 5.8125 47.609375 11.28125 51.796875 \r\nQ 16.75 56 26.8125 56 \r\nQ 31.78125 56 36.171875 55.265625 \r\nQ 40.578125 54.546875 44.28125 53.078125 \r\nz\r\n\" id=\"DejaVuSans-115\"/>\r\n       <path d=\"M 8.015625 75.875 \r\nL 15.828125 75.875 \r\nQ 23.140625 64.359375 26.78125 53.3125 \r\nQ 30.421875 42.28125 30.421875 31.390625 \r\nQ 30.421875 20.453125 26.78125 9.375 \r\nQ 23.140625 -1.703125 15.828125 -13.1875 \r\nL 8.015625 -13.1875 \r\nQ 14.5 -2 17.703125 9.0625 \r\nQ 20.90625 20.125 20.90625 31.390625 \r\nQ 20.90625 42.671875 17.703125 53.65625 \r\nQ 14.5 64.65625 8.015625 75.875 \r\nz\r\n\" id=\"DejaVuSans-41\"/>\r\n      </defs>\r\n      <use xlink:href=\"#DejaVuSans-76\"/>\r\n      <use x=\"55.712891\" xlink:href=\"#DejaVuSans-105\"/>\r\n      <use x=\"83.496094\" xlink:href=\"#DejaVuSans-102\"/>\r\n      <use x=\"118.701172\" xlink:href=\"#DejaVuSans-101\"/>\r\n      <use x=\"180.224609\" xlink:href=\"#DejaVuSans-32\"/>\r\n      <use x=\"212.011719\" xlink:href=\"#DejaVuSans-69\"/>\r\n      <use x=\"275.195312\" xlink:href=\"#DejaVuSans-120\"/>\r\n      <use x=\"334.375\" xlink:href=\"#DejaVuSans-112\"/>\r\n      <use x=\"397.851562\" xlink:href=\"#DejaVuSans-32\"/>\r\n      <use x=\"429.638672\" xlink:href=\"#DejaVuSans-40\"/>\r\n      <use x=\"468.652344\" xlink:href=\"#DejaVuSans-121\"/>\r\n      <use x=\"527.832031\" xlink:href=\"#DejaVuSans-101\"/>\r\n      <use x=\"589.355469\" xlink:href=\"#DejaVuSans-97\"/>\r\n      <use x=\"650.634766\" xlink:href=\"#DejaVuSans-114\"/>\r\n      <use x=\"691.748047\" xlink:href=\"#DejaVuSans-115\"/>\r\n      <use x=\"743.847656\" xlink:href=\"#DejaVuSans-41\"/>\r\n     </g>\r\n    </g>\r\n   </g>\r\n   <g id=\"matplotlib.axis_2\">\r\n    <g id=\"ytick_1\">\r\n     <g id=\"line2d_6\">\r\n      <defs>\r\n       <path d=\"M 0 0 \r\nL -3.5 0 \r\n\" id=\"m06e9eb40c4\" style=\"stroke:#000000;stroke-width:0.8;\"/>\r\n      </defs>\r\n      <g>\r\n       <use style=\"stroke:#000000;stroke-width:0.8;\" x=\"62.313125\" xlink:href=\"#m06e9eb40c4\" y=\"244.317188\"/>\r\n      </g>\r\n     </g>\r\n     <g id=\"text_7\">\r\n      <!-- 0.000 -->\r\n      <g transform=\"translate(26.685 248.116406)scale(0.1 -0.1)\">\r\n       <defs>\r\n        <path d=\"M 10.6875 12.40625 \r\nL 21 12.40625 \r\nL 21 0 \r\nL 10.6875 0 \r\nz\r\n\" id=\"DejaVuSans-46\"/>\r\n       </defs>\r\n       <use xlink:href=\"#DejaVuSans-48\"/>\r\n       <use x=\"63.623047\" xlink:href=\"#DejaVuSans-46\"/>\r\n       <use x=\"95.410156\" xlink:href=\"#DejaVuSans-48\"/>\r\n       <use x=\"159.033203\" xlink:href=\"#DejaVuSans-48\"/>\r\n       <use x=\"222.65625\" xlink:href=\"#DejaVuSans-48\"/>\r\n      </g>\r\n     </g>\r\n    </g>\r\n    <g id=\"ytick_2\">\r\n     <g id=\"line2d_7\">\r\n      <g>\r\n       <use style=\"stroke:#000000;stroke-width:0.8;\" x=\"62.313125\" xlink:href=\"#m06e9eb40c4\" y=\"199.864038\"/>\r\n      </g>\r\n     </g>\r\n     <g id=\"text_8\">\r\n      <!-- 0.005 -->\r\n      <g transform=\"translate(26.685 203.663257)scale(0.1 -0.1)\">\r\n       <defs>\r\n        <path d=\"M 10.796875 72.90625 \r\nL 49.515625 72.90625 \r\nL 49.515625 64.59375 \r\nL 19.828125 64.59375 \r\nL 19.828125 46.734375 \r\nQ 21.96875 47.46875 24.109375 47.828125 \r\nQ 26.265625 48.1875 28.421875 48.1875 \r\nQ 40.625 48.1875 47.75 41.5 \r\nQ 54.890625 34.8125 54.890625 23.390625 \r\nQ 54.890625 11.625 47.5625 5.09375 \r\nQ 40.234375 -1.421875 26.90625 -1.421875 \r\nQ 22.3125 -1.421875 17.546875 -0.640625 \r\nQ 12.796875 0.140625 7.71875 1.703125 \r\nL 7.71875 11.625 \r\nQ 12.109375 9.234375 16.796875 8.0625 \r\nQ 21.484375 6.890625 26.703125 6.890625 \r\nQ 35.15625 6.890625 40.078125 11.328125 \r\nQ 45.015625 15.765625 45.015625 23.390625 \r\nQ 45.015625 31 40.078125 35.4375 \r\nQ 35.15625 39.890625 26.703125 39.890625 \r\nQ 22.75 39.890625 18.8125 39.015625 \r\nQ 14.890625 38.140625 10.796875 36.28125 \r\nz\r\n\" id=\"DejaVuSans-53\"/>\r\n       </defs>\r\n       <use xlink:href=\"#DejaVuSans-48\"/>\r\n       <use x=\"63.623047\" xlink:href=\"#DejaVuSans-46\"/>\r\n       <use x=\"95.410156\" xlink:href=\"#DejaVuSans-48\"/>\r\n       <use x=\"159.033203\" xlink:href=\"#DejaVuSans-48\"/>\r\n       <use x=\"222.65625\" xlink:href=\"#DejaVuSans-53\"/>\r\n      </g>\r\n     </g>\r\n    </g>\r\n    <g id=\"ytick_3\">\r\n     <g id=\"line2d_8\">\r\n      <g>\r\n       <use style=\"stroke:#000000;stroke-width:0.8;\" x=\"62.313125\" xlink:href=\"#m06e9eb40c4\" y=\"155.410888\"/>\r\n      </g>\r\n     </g>\r\n     <g id=\"text_9\">\r\n      <!-- 0.010 -->\r\n      <g transform=\"translate(26.685 159.210107)scale(0.1 -0.1)\">\r\n       <use xlink:href=\"#DejaVuSans-48\"/>\r\n       <use x=\"63.623047\" xlink:href=\"#DejaVuSans-46\"/>\r\n       <use x=\"95.410156\" xlink:href=\"#DejaVuSans-48\"/>\r\n       <use x=\"159.033203\" xlink:href=\"#DejaVuSans-49\"/>\r\n       <use x=\"222.65625\" xlink:href=\"#DejaVuSans-48\"/>\r\n      </g>\r\n     </g>\r\n    </g>\r\n    <g id=\"ytick_4\">\r\n     <g id=\"line2d_9\">\r\n      <g>\r\n       <use style=\"stroke:#000000;stroke-width:0.8;\" x=\"62.313125\" xlink:href=\"#m06e9eb40c4\" y=\"110.957739\"/>\r\n      </g>\r\n     </g>\r\n     <g id=\"text_10\">\r\n      <!-- 0.015 -->\r\n      <g transform=\"translate(26.685 114.756957)scale(0.1 -0.1)\">\r\n       <use xlink:href=\"#DejaVuSans-48\"/>\r\n       <use x=\"63.623047\" xlink:href=\"#DejaVuSans-46\"/>\r\n       <use x=\"95.410156\" xlink:href=\"#DejaVuSans-48\"/>\r\n       <use x=\"159.033203\" xlink:href=\"#DejaVuSans-49\"/>\r\n       <use x=\"222.65625\" xlink:href=\"#DejaVuSans-53\"/>\r\n      </g>\r\n     </g>\r\n    </g>\r\n    <g id=\"ytick_5\">\r\n     <g id=\"line2d_10\">\r\n      <g>\r\n       <use style=\"stroke:#000000;stroke-width:0.8;\" x=\"62.313125\" xlink:href=\"#m06e9eb40c4\" y=\"66.504589\"/>\r\n      </g>\r\n     </g>\r\n     <g id=\"text_11\">\r\n      <!-- 0.020 -->\r\n      <g transform=\"translate(26.685 70.303808)scale(0.1 -0.1)\">\r\n       <use xlink:href=\"#DejaVuSans-48\"/>\r\n       <use x=\"63.623047\" xlink:href=\"#DejaVuSans-46\"/>\r\n       <use x=\"95.410156\" xlink:href=\"#DejaVuSans-48\"/>\r\n       <use x=\"159.033203\" xlink:href=\"#DejaVuSans-50\"/>\r\n       <use x=\"222.65625\" xlink:href=\"#DejaVuSans-48\"/>\r\n      </g>\r\n     </g>\r\n    </g>\r\n    <g id=\"text_12\">\r\n     <!-- Frequency -->\r\n     <g transform=\"translate(19.3575 176.924688)rotate(-90)scale(0.16 -0.16)\">\r\n      <defs>\r\n       <path d=\"M 9.8125 72.90625 \r\nL 51.703125 72.90625 \r\nL 51.703125 64.59375 \r\nL 19.671875 64.59375 \r\nL 19.671875 43.109375 \r\nL 48.578125 43.109375 \r\nL 48.578125 34.8125 \r\nL 19.671875 34.8125 \r\nL 19.671875 0 \r\nL 9.8125 0 \r\nz\r\n\" id=\"DejaVuSans-70\"/>\r\n       <path d=\"M 14.796875 27.296875 \r\nQ 14.796875 17.390625 18.875 11.75 \r\nQ 22.953125 6.109375 30.078125 6.109375 \r\nQ 37.203125 6.109375 41.296875 11.75 \r\nQ 45.40625 17.390625 45.40625 27.296875 \r\nQ 45.40625 37.203125 41.296875 42.84375 \r\nQ 37.203125 48.484375 30.078125 48.484375 \r\nQ 22.953125 48.484375 18.875 42.84375 \r\nQ 14.796875 37.203125 14.796875 27.296875 \r\nz\r\nM 45.40625 8.203125 \r\nQ 42.578125 3.328125 38.25 0.953125 \r\nQ 33.9375 -1.421875 27.875 -1.421875 \r\nQ 17.96875 -1.421875 11.734375 6.484375 \r\nQ 5.515625 14.40625 5.515625 27.296875 \r\nQ 5.515625 40.1875 11.734375 48.09375 \r\nQ 17.96875 56 27.875 56 \r\nQ 33.9375 56 38.25 53.625 \r\nQ 42.578125 51.265625 45.40625 46.390625 \r\nL 45.40625 54.6875 \r\nL 54.390625 54.6875 \r\nL 54.390625 -20.796875 \r\nL 45.40625 -20.796875 \r\nz\r\n\" id=\"DejaVuSans-113\"/>\r\n       <path d=\"M 8.5 21.578125 \r\nL 8.5 54.6875 \r\nL 17.484375 54.6875 \r\nL 17.484375 21.921875 \r\nQ 17.484375 14.15625 20.5 10.265625 \r\nQ 23.53125 6.390625 29.59375 6.390625 \r\nQ 36.859375 6.390625 41.078125 11.03125 \r\nQ 45.3125 15.671875 45.3125 23.6875 \r\nL 45.3125 54.6875 \r\nL 54.296875 54.6875 \r\nL 54.296875 0 \r\nL 45.3125 0 \r\nL 45.3125 8.40625 \r\nQ 42.046875 3.421875 37.71875 1 \r\nQ 33.40625 -1.421875 27.6875 -1.421875 \r\nQ 18.265625 -1.421875 13.375 4.4375 \r\nQ 8.5 10.296875 8.5 21.578125 \r\nz\r\nM 31.109375 56 \r\nz\r\n\" id=\"DejaVuSans-117\"/>\r\n       <path d=\"M 54.890625 33.015625 \r\nL 54.890625 0 \r\nL 45.90625 0 \r\nL 45.90625 32.71875 \r\nQ 45.90625 40.484375 42.875 44.328125 \r\nQ 39.84375 48.1875 33.796875 48.1875 \r\nQ 26.515625 48.1875 22.3125 43.546875 \r\nQ 18.109375 38.921875 18.109375 30.90625 \r\nL 18.109375 0 \r\nL 9.078125 0 \r\nL 9.078125 54.6875 \r\nL 18.109375 54.6875 \r\nL 18.109375 46.1875 \r\nQ 21.34375 51.125 25.703125 53.5625 \r\nQ 30.078125 56 35.796875 56 \r\nQ 45.21875 56 50.046875 50.171875 \r\nQ 54.890625 44.34375 54.890625 33.015625 \r\nz\r\n\" id=\"DejaVuSans-110\"/>\r\n       <path d=\"M 48.78125 52.59375 \r\nL 48.78125 44.1875 \r\nQ 44.96875 46.296875 41.140625 47.34375 \r\nQ 37.3125 48.390625 33.40625 48.390625 \r\nQ 24.65625 48.390625 19.8125 42.84375 \r\nQ 14.984375 37.3125 14.984375 27.296875 \r\nQ 14.984375 17.28125 19.8125 11.734375 \r\nQ 24.65625 6.203125 33.40625 6.203125 \r\nQ 37.3125 6.203125 41.140625 7.25 \r\nQ 44.96875 8.296875 48.78125 10.40625 \r\nL 48.78125 2.09375 \r\nQ 45.015625 0.34375 40.984375 -0.53125 \r\nQ 36.96875 -1.421875 32.421875 -1.421875 \r\nQ 20.0625 -1.421875 12.78125 6.34375 \r\nQ 5.515625 14.109375 5.515625 27.296875 \r\nQ 5.515625 40.671875 12.859375 48.328125 \r\nQ 20.21875 56 33.015625 56 \r\nQ 37.15625 56 41.109375 55.140625 \r\nQ 45.0625 54.296875 48.78125 52.59375 \r\nz\r\n\" id=\"DejaVuSans-99\"/>\r\n      </defs>\r\n      <use xlink:href=\"#DejaVuSans-70\"/>\r\n      <use x=\"50.269531\" xlink:href=\"#DejaVuSans-114\"/>\r\n      <use x=\"89.132812\" xlink:href=\"#DejaVuSans-101\"/>\r\n      <use x=\"150.65625\" xlink:href=\"#DejaVuSans-113\"/>\r\n      <use x=\"214.132812\" xlink:href=\"#DejaVuSans-117\"/>\r\n      <use x=\"277.511719\" xlink:href=\"#DejaVuSans-101\"/>\r\n      <use x=\"339.035156\" xlink:href=\"#DejaVuSans-110\"/>\r\n      <use x=\"402.414062\" xlink:href=\"#DejaVuSans-99\"/>\r\n      <use x=\"457.394531\" xlink:href=\"#DejaVuSans-121\"/>\r\n     </g>\r\n    </g>\r\n   </g>\r\n   <g id=\"line2d_11\">\r\n    <path clip-path=\"url(#p839da6c3e8)\" d=\"M 77.531307 244.091477 \r\nL 79.060772 243.900428 \r\nL 80.590238 243.574211 \r\nL 82.119703 243.038005 \r\nL 83.649169 242.189624 \r\nL 85.178634 240.897712 \r\nL 86.7081 239.004549 \r\nL 88.237565 236.335501 \r\nL 89.767031 232.716425 \r\nL 91.296496 227.998888 \r\nL 92.825962 222.090979 \r\nL 94.355427 214.989178 \r\nL 95.884893 206.804914 \r\nL 98.943824 188.275988 \r\nL 102.002755 169.750397 \r\nL 103.53222 161.752777 \r\nL 105.061686 155.203484 \r\nL 106.591151 150.408685 \r\nL 108.120617 147.509975 \r\nL 109.650083 146.47813 \r\nL 111.179548 147.137811 \r\nL 112.709014 149.217404 \r\nL 114.238479 152.411385 \r\nL 115.767945 156.438948 \r\nL 117.29741 161.083585 \r\nL 118.826876 166.204028 \r\nL 121.885807 177.552251 \r\nL 126.474203 195.750582 \r\nL 128.003669 201.304839 \r\nL 129.533134 206.128596 \r\nL 131.0626 209.968647 \r\nL 132.592065 212.668021 \r\nL 134.121531 214.205181 \r\nL 135.650996 214.708617 \r\nL 137.180462 214.442947 \r\nL 140.239393 213.085208 \r\nL 141.768858 212.763435 \r\nL 143.298324 213.089499 \r\nL 144.827789 214.222449 \r\nL 146.357255 216.178502 \r\nL 147.88672 218.841937 \r\nL 150.945651 225.38347 \r\nL 154.004582 231.812149 \r\nL 155.534048 234.472449 \r\nL 157.063513 236.630284 \r\nL 158.592979 238.27591 \r\nL 160.122444 239.452133 \r\nL 161.65191 240.230299 \r\nL 163.181375 240.685981 \r\nL 164.710841 240.878672 \r\nL 166.240306 240.838253 \r\nL 167.769772 240.559661 \r\nL 169.299237 240.006097 \r\nL 170.828703 239.120239 \r\nL 172.358168 237.842073 \r\nL 173.887634 236.130866 \r\nL 175.417099 233.98764 \r\nL 176.946565 231.473489 \r\nL 181.534961 223.316315 \r\nL 183.064427 221.166199 \r\nL 184.593892 219.698356 \r\nL 186.123358 219.076537 \r\nL 187.652823 219.368557 \r\nL 189.182289 220.533134 \r\nL 190.711755 222.427042 \r\nL 192.24122 224.8309 \r\nL 196.829617 232.585817 \r\nL 198.359082 234.667197 \r\nL 199.888548 236.313933 \r\nL 201.418013 237.52101 \r\nL 202.947479 238.334717 \r\nL 204.476944 238.828815 \r\nL 206.00641 239.079259 \r\nL 207.535875 239.142054 \r\nL 209.065341 239.037672 \r\nL 210.594806 238.744318 \r\nL 212.124272 238.201088 \r\nL 213.653737 237.320922 \r\nL 215.183203 236.011926 \r\nL 216.712668 234.204171 \r\nL 218.242134 231.877558 \r\nL 219.771599 229.085092 \r\nL 224.359996 219.693524 \r\nL 225.889461 217.132769 \r\nL 227.418927 215.343861 \r\nL 228.948392 214.541878 \r\nL 230.477858 214.833694 \r\nL 232.007323 216.19941 \r\nL 233.536789 218.497315 \r\nL 235.066254 221.490852 \r\nL 239.654651 231.763844 \r\nL 241.184116 234.782089 \r\nL 242.713582 237.336277 \r\nL 244.243047 239.37793 \r\nL 245.772513 240.914284 \r\nL 247.301978 241.986465 \r\nL 248.831444 242.646973 \r\nL 250.360909 242.940527 \r\nL 251.890375 242.890755 \r\nL 253.41984 242.493921 \r\nL 254.949306 241.720081 \r\nL 256.478771 240.521596 \r\nL 258.008237 238.848364 \r\nL 259.537702 236.668224 \r\nL 261.067168 233.9896 \r\nL 262.596633 230.881886 \r\nL 267.18503 220.763607 \r\nL 268.714495 218.002781 \r\nL 270.243961 216.019669 \r\nL 271.773427 215.027149 \r\nL 273.302892 215.13567 \r\nL 274.832358 216.333046 \r\nL 276.361823 218.486721 \r\nL 277.891289 221.367931 \r\nL 284.009151 234.556617 \r\nL 285.538616 237.152585 \r\nL 287.068082 239.255153 \r\nL 288.597547 240.874685 \r\nL 290.127013 242.063781 \r\nL 291.656478 242.897408 \r\nL 293.185944 243.456157 \r\nL 294.715409 243.814577 \r\nL 297.77434 244.164463 \r\nL 302.362737 244.297977 \r\nL 320.716323 244.316808 \r\nL 331.422581 244.208918 \r\nL 334.481512 243.931108 \r\nL 336.010978 243.628715 \r\nL 337.540443 243.135473 \r\nL 339.069909 242.364851 \r\nL 340.599374 241.212537 \r\nL 342.12884 239.565073 \r\nL 343.658305 237.315912 \r\nL 345.187771 234.38869 \r\nL 346.717236 230.765105 \r\nL 348.246702 226.512079 \r\nL 352.835099 212.205947 \r\nL 354.364564 208.104553 \r\nL 355.89403 205.00934 \r\nL 357.423495 203.248151 \r\nL 358.952961 203.015683 \r\nL 360.482426 204.338058 \r\nL 362.011892 207.067991 \r\nL 363.541357 210.911794 \r\nL 366.600288 220.358431 \r\nL 368.129754 225.156447 \r\nL 369.659219 229.567718 \r\nL 371.188685 233.388787 \r\nL 372.71815 236.523321 \r\nL 374.247616 238.967045 \r\nL 375.777081 240.782151 \r\nL 377.306547 242.068969 \r\nL 378.836012 242.940931 \r\nL 380.365478 243.506271 \r\nL 381.894943 243.857281 \r\nL 381.894943 243.857281 \r\n\" style=\"fill:none;stroke:#1f77b4;stroke-linecap:square;stroke-width:1.5;\"/>\r\n   </g>\r\n   <g id=\"patch_53\">\r\n    <path d=\"M 62.313125 244.317188 \r\nL 62.313125 26.877188 \r\n\" style=\"fill:none;stroke:#000000;stroke-linecap:square;stroke-linejoin:miter;stroke-width:0.8;\"/>\r\n   </g>\r\n   <g id=\"patch_54\">\r\n    <path d=\"M 397.113125 244.317188 \r\nL 397.113125 26.877188 \r\n\" style=\"fill:none;stroke:#000000;stroke-linecap:square;stroke-linejoin:miter;stroke-width:0.8;\"/>\r\n   </g>\r\n   <g id=\"patch_55\">\r\n    <path d=\"M 62.313125 244.317188 \r\nL 397.113125 244.317188 \r\n\" style=\"fill:none;stroke:#000000;stroke-linecap:square;stroke-linejoin:miter;stroke-width:0.8;\"/>\r\n   </g>\r\n   <g id=\"patch_56\">\r\n    <path d=\"M 62.313125 26.877187 \r\nL 397.113125 26.877187 \r\n\" style=\"fill:none;stroke:#000000;stroke-linecap:square;stroke-linejoin:miter;stroke-width:0.8;\"/>\r\n   </g>\r\n   <g id=\"text_13\">\r\n    <!-- Life Expectancy -->\r\n    <g transform=\"translate(158.395156 20.877187)scale(0.18 -0.18)\">\r\n     <defs>\r\n      <path d=\"M 18.3125 70.21875 \r\nL 18.3125 54.6875 \r\nL 36.8125 54.6875 \r\nL 36.8125 47.703125 \r\nL 18.3125 47.703125 \r\nL 18.3125 18.015625 \r\nQ 18.3125 11.328125 20.140625 9.421875 \r\nQ 21.96875 7.515625 27.59375 7.515625 \r\nL 36.8125 7.515625 \r\nL 36.8125 0 \r\nL 27.59375 0 \r\nQ 17.1875 0 13.234375 3.875 \r\nQ 9.28125 7.765625 9.28125 18.015625 \r\nL 9.28125 47.703125 \r\nL 2.6875 47.703125 \r\nL 2.6875 54.6875 \r\nL 9.28125 54.6875 \r\nL 9.28125 70.21875 \r\nz\r\n\" id=\"DejaVuSans-116\"/>\r\n     </defs>\r\n     <use xlink:href=\"#DejaVuSans-76\"/>\r\n     <use x=\"55.712891\" xlink:href=\"#DejaVuSans-105\"/>\r\n     <use x=\"83.496094\" xlink:href=\"#DejaVuSans-102\"/>\r\n     <use x=\"118.701172\" xlink:href=\"#DejaVuSans-101\"/>\r\n     <use x=\"180.224609\" xlink:href=\"#DejaVuSans-32\"/>\r\n     <use x=\"212.011719\" xlink:href=\"#DejaVuSans-69\"/>\r\n     <use x=\"275.195312\" xlink:href=\"#DejaVuSans-120\"/>\r\n     <use x=\"334.375\" xlink:href=\"#DejaVuSans-112\"/>\r\n     <use x=\"397.851562\" xlink:href=\"#DejaVuSans-101\"/>\r\n     <use x=\"459.375\" xlink:href=\"#DejaVuSans-99\"/>\r\n     <use x=\"514.355469\" xlink:href=\"#DejaVuSans-116\"/>\r\n     <use x=\"553.564453\" xlink:href=\"#DejaVuSans-97\"/>\r\n     <use x=\"614.84375\" xlink:href=\"#DejaVuSans-110\"/>\r\n     <use x=\"678.222656\" xlink:href=\"#DejaVuSans-99\"/>\r\n     <use x=\"733.203125\" xlink:href=\"#DejaVuSans-121\"/>\r\n    </g>\r\n   </g>\r\n  </g>\r\n </g>\r\n <defs>\r\n  <clipPath id=\"p839da6c3e8\">\r\n   <rect height=\"217.44\" width=\"334.8\" x=\"62.313125\" y=\"26.877187\"/>\r\n  </clipPath>\r\n </defs>\r\n</svg>\r\n",
      "image/png": "[encoded data removed]"
     },
     "metadata": {
      "needs_background": "light"
     }
    }
   ],
   "source": [
    "sns.distplot(df_rs_qty_gn_rcn['Memory'])\n",
    "plt.title('Life Expectancy', fontsize=18)\n",
    "plt.xlabel('Life Exp (years)', fontsize=16)\n",
    "plt.ylabel('Frequency', fontsize=16)"
   ]
  },
  {
   "cell_type": "code",
   "execution_count": 147,
   "metadata": {},
   "outputs": [
    {
     "output_type": "stream",
     "name": "stderr",
     "text": [
      "C:\\Users\\shali\\AppData\\Local\\Programs\\Python\\Python37\\lib\\site-packages\\seaborn\\distributions.py:2557: FutureWarning: `distplot` is a deprecated function and will be removed in a future version. Please adapt your code to use either `displot` (a figure-level function with similar flexibility) or `histplot` (an axes-level function for histograms).\n  warnings.warn(msg, FutureWarning)\n"
     ]
    },
    {
     "output_type": "execute_result",
     "data": {
      "text/plain": [
       "Text(0, 0.5, 'Frequency')"
      ]
     },
     "metadata": {},
     "execution_count": 147
    },
    {
     "output_type": "display_data",
     "data": {
      "text/plain": "<Figure size 432x288 with 1 Axes>",
      "image/svg+xml": "<?xml version=\"1.0\" encoding=\"utf-8\" standalone=\"no\"?>\r\n<!DOCTYPE svg PUBLIC \"-//W3C//DTD SVG 1.1//EN\"\r\n  \"http://www.w3.org/Graphics/SVG/1.1/DTD/svg11.dtd\">\r\n<!-- Created with matplotlib (https://matplotlib.org/) -->\r\n<svg height=\"287.680313pt\" version=\"1.1\" viewBox=\"0 0 391.588125 287.680313\" width=\"391.588125pt\" xmlns=\"http://www.w3.org/2000/svg\" xmlns:xlink=\"http://www.w3.org/1999/xlink\">\r\n <metadata>\r\n  <rdf:RDF xmlns:cc=\"http://creativecommons.org/ns#\" xmlns:dc=\"http://purl.org/dc/elements/1.1/\" xmlns:rdf=\"http://www.w3.org/1999/02/22-rdf-syntax-ns#\">\r\n   <cc:Work>\r\n    <dc:type rdf:resource=\"http://purl.org/dc/dcmitype/StillImage\"/>\r\n    <dc:date>2021-03-11T11:31:27.179704</dc:date>\r\n    <dc:format>image/svg+xml</dc:format>\r\n    <dc:creator>\r\n     <cc:Agent>\r\n      <dc:title>Matplotlib v3.3.4, https://matplotlib.org/</dc:title>\r\n     </cc:Agent>\r\n    </dc:creator>\r\n   </cc:Work>\r\n  </rdf:RDF>\r\n </metadata>\r\n <defs>\r\n  <style type=\"text/css\">*{stroke-linecap:butt;stroke-linejoin:round;}</style>\r\n </defs>\r\n <g id=\"figure_1\">\r\n  <g id=\"patch_1\">\r\n   <path d=\"M 0 287.680313 \r\nL 391.588125 287.680313 \r\nL 391.588125 0 \r\nL 0 0 \r\nz\r\n\" style=\"fill:none;\"/>\r\n  </g>\r\n  <g id=\"axes_1\">\r\n   <g id=\"patch_2\">\r\n    <path d=\"M 49.588125 244.317188 \r\nL 384.388125 244.317188 \r\nL 384.388125 26.877187 \r\nL 49.588125 26.877187 \r\nz\r\n\" style=\"fill:#ffffff;\"/>\r\n   </g>\r\n   <g id=\"patch_3\">\r\n    <path clip-path=\"url(#p937679f3ab)\" d=\"M 83.389503 244.317188 \r\nL 88.733448 244.317188 \r\nL 88.733448 214.167919 \r\nL 83.389503 214.167919 \r\nz\r\n\" style=\"fill:#1f77b4;opacity:0.4;\"/>\r\n   </g>\r\n   <g id=\"patch_4\">\r\n    <path clip-path=\"url(#p937679f3ab)\" d=\"M 88.733448 244.317188 \r\nL 94.077393 244.317188 \r\nL 94.077393 244.317188 \r\nL 88.733448 244.317188 \r\nz\r\n\" style=\"fill:#1f77b4;opacity:0.4;\"/>\r\n   </g>\r\n   <g id=\"patch_5\">\r\n    <path clip-path=\"url(#p937679f3ab)\" d=\"M 94.077393 244.317188 \r\nL 99.421338 244.317188 \r\nL 99.421338 244.317188 \r\nL 94.077393 244.317188 \r\nz\r\n\" style=\"fill:#1f77b4;opacity:0.4;\"/>\r\n   </g>\r\n   <g id=\"patch_6\">\r\n    <path clip-path=\"url(#p937679f3ab)\" d=\"M 99.421338 244.317188 \r\nL 104.765283 244.317188 \r\nL 104.765283 244.317188 \r\nL 99.421338 244.317188 \r\nz\r\n\" style=\"fill:#1f77b4;opacity:0.4;\"/>\r\n   </g>\r\n   <g id=\"patch_7\">\r\n    <path clip-path=\"url(#p937679f3ab)\" d=\"M 104.765283 244.317188 \r\nL 110.109227 244.317188 \r\nL 110.109227 244.317188 \r\nL 104.765283 244.317188 \r\nz\r\n\" style=\"fill:#1f77b4;opacity:0.4;\"/>\r\n   </g>\r\n   <g id=\"patch_8\">\r\n    <path clip-path=\"url(#p937679f3ab)\" d=\"M 110.109227 244.317188 \r\nL 115.453172 244.317188 \r\nL 115.453172 210.589765 \r\nL 110.109227 210.589765 \r\nz\r\n\" style=\"fill:#1f77b4;opacity:0.4;\"/>\r\n   </g>\r\n   <g id=\"patch_9\">\r\n    <path clip-path=\"url(#p937679f3ab)\" d=\"M 115.453172 244.317188 \r\nL 120.797117 244.317188 \r\nL 120.797117 244.317188 \r\nL 115.453172 244.317188 \r\nz\r\n\" style=\"fill:#1f77b4;opacity:0.4;\"/>\r\n   </g>\r\n   <g id=\"patch_10\">\r\n    <path clip-path=\"url(#p937679f3ab)\" d=\"M 120.797117 244.317188 \r\nL 126.141062 244.317188 \r\nL 126.141062 244.317188 \r\nL 120.797117 244.317188 \r\nz\r\n\" style=\"fill:#1f77b4;opacity:0.4;\"/>\r\n   </g>\r\n   <g id=\"patch_11\">\r\n    <path clip-path=\"url(#p937679f3ab)\" d=\"M 126.141062 244.317188 \r\nL 131.485007 244.317188 \r\nL 131.485007 244.317188 \r\nL 126.141062 244.317188 \r\nz\r\n\" style=\"fill:#1f77b4;opacity:0.4;\"/>\r\n   </g>\r\n   <g id=\"patch_12\">\r\n    <path clip-path=\"url(#p937679f3ab)\" d=\"M 131.485007 244.317188 \r\nL 136.828952 244.317188 \r\nL 136.828952 240.010149 \r\nL 131.485007 240.010149 \r\nz\r\n\" style=\"fill:#1f77b4;opacity:0.4;\"/>\r\n   </g>\r\n   <g id=\"patch_13\">\r\n    <path clip-path=\"url(#p937679f3ab)\" d=\"M 136.828952 244.317188 \r\nL 142.172897 244.317188 \r\nL 142.172897 244.317188 \r\nL 136.828952 244.317188 \r\nz\r\n\" style=\"fill:#1f77b4;opacity:0.4;\"/>\r\n   </g>\r\n   <g id=\"patch_14\">\r\n    <path clip-path=\"url(#p937679f3ab)\" d=\"M 142.172897 244.317188 \r\nL 147.516842 244.317188 \r\nL 147.516842 208.999473 \r\nL 142.172897 208.999473 \r\nz\r\n\" style=\"fill:#1f77b4;opacity:0.4;\"/>\r\n   </g>\r\n   <g id=\"patch_15\">\r\n    <path clip-path=\"url(#p937679f3ab)\" d=\"M 147.516842 244.317188 \r\nL 152.860786 244.317188 \r\nL 152.860786 244.317188 \r\nL 147.516842 244.317188 \r\nz\r\n\" style=\"fill:#1f77b4;opacity:0.4;\"/>\r\n   </g>\r\n   <g id=\"patch_16\">\r\n    <path clip-path=\"url(#p937679f3ab)\" d=\"M 152.860786 244.317188 \r\nL 158.204731 244.317188 \r\nL 158.204731 244.317188 \r\nL 152.860786 244.317188 \r\nz\r\n\" style=\"fill:#1f77b4;opacity:0.4;\"/>\r\n   </g>\r\n   <g id=\"patch_17\">\r\n    <path clip-path=\"url(#p937679f3ab)\" d=\"M 158.204731 244.317188 \r\nL 163.548676 244.317188 \r\nL 163.548676 244.317188 \r\nL 158.204731 244.317188 \r\nz\r\n\" style=\"fill:#1f77b4;opacity:0.4;\"/>\r\n   </g>\r\n   <g id=\"patch_18\">\r\n    <path clip-path=\"url(#p937679f3ab)\" d=\"M 163.548676 244.317188 \r\nL 168.892621 244.317188 \r\nL 168.892621 244.317188 \r\nL 163.548676 244.317188 \r\nz\r\n\" style=\"fill:#1f77b4;opacity:0.4;\"/>\r\n   </g>\r\n   <g id=\"patch_19\">\r\n    <path clip-path=\"url(#p937679f3ab)\" d=\"M 168.892621 244.317188 \r\nL 174.236566 244.317188 \r\nL 174.236566 240.001866 \r\nL 168.892621 240.001866 \r\nz\r\n\" style=\"fill:#1f77b4;opacity:0.4;\"/>\r\n   </g>\r\n   <g id=\"patch_20\">\r\n    <path clip-path=\"url(#p937679f3ab)\" d=\"M 174.236566 244.317188 \r\nL 179.580511 244.317188 \r\nL 179.580511 88.344422 \r\nL 174.236566 88.344422 \r\nz\r\n\" style=\"fill:#1f77b4;opacity:0.4;\"/>\r\n   </g>\r\n   <g id=\"patch_21\">\r\n    <path clip-path=\"url(#p937679f3ab)\" d=\"M 179.580511 244.317188 \r\nL 184.924456 244.317188 \r\nL 184.924456 244.317188 \r\nL 179.580511 244.317188 \r\nz\r\n\" style=\"fill:#1f77b4;opacity:0.4;\"/>\r\n   </g>\r\n   <g id=\"patch_22\">\r\n    <path clip-path=\"url(#p937679f3ab)\" d=\"M 184.924456 244.317188 \r\nL 190.268401 244.317188 \r\nL 190.268401 244.317188 \r\nL 184.924456 244.317188 \r\nz\r\n\" style=\"fill:#1f77b4;opacity:0.4;\"/>\r\n   </g>\r\n   <g id=\"patch_23\">\r\n    <path clip-path=\"url(#p937679f3ab)\" d=\"M 190.268401 244.317188 \r\nL 195.612345 244.317188 \r\nL 195.612345 244.317188 \r\nL 190.268401 244.317188 \r\nz\r\n\" style=\"fill:#1f77b4;opacity:0.4;\"/>\r\n   </g>\r\n   <g id=\"patch_24\">\r\n    <path clip-path=\"url(#p937679f3ab)\" d=\"M 195.612345 244.317188 \r\nL 200.95629 244.317188 \r\nL 200.95629 244.317188 \r\nL 195.612345 244.317188 \r\nz\r\n\" style=\"fill:#1f77b4;opacity:0.4;\"/>\r\n   </g>\r\n   <g id=\"patch_25\">\r\n    <path clip-path=\"url(#p937679f3ab)\" d=\"M 200.95629 244.317188 \r\nL 206.300235 244.317188 \r\nL 206.300235 238.411575 \r\nL 200.95629 238.411575 \r\nz\r\n\" style=\"fill:#1f77b4;opacity:0.4;\"/>\r\n   </g>\r\n   <g id=\"patch_26\">\r\n    <path clip-path=\"url(#p937679f3ab)\" d=\"M 206.300235 244.317188 \r\nL 211.64418 244.317188 \r\nL 211.64418 40.793063 \r\nL 206.300235 40.793063 \r\nz\r\n\" style=\"fill:#1f77b4;opacity:0.4;\"/>\r\n   </g>\r\n   <g id=\"patch_27\">\r\n    <path clip-path=\"url(#p937679f3ab)\" d=\"M 211.64418 244.317188 \r\nL 216.988125 244.317188 \r\nL 216.988125 244.317188 \r\nL 211.64418 244.317188 \r\nz\r\n\" style=\"fill:#1f77b4;opacity:0.4;\"/>\r\n   </g>\r\n   <g id=\"patch_28\">\r\n    <path clip-path=\"url(#p937679f3ab)\" d=\"M 216.988125 244.317188 \r\nL 222.33207 244.317188 \r\nL 222.33207 244.317188 \r\nL 216.988125 244.317188 \r\nz\r\n\" style=\"fill:#1f77b4;opacity:0.4;\"/>\r\n   </g>\r\n   <g id=\"patch_29\">\r\n    <path clip-path=\"url(#p937679f3ab)\" d=\"M 222.33207 244.317188 \r\nL 227.676015 244.317188 \r\nL 227.676015 244.317188 \r\nL 222.33207 244.317188 \r\nz\r\n\" style=\"fill:#1f77b4;opacity:0.4;\"/>\r\n   </g>\r\n   <g id=\"patch_30\">\r\n    <path clip-path=\"url(#p937679f3ab)\" d=\"M 227.676015 244.317188 \r\nL 233.01996 244.317188 \r\nL 233.01996 244.317188 \r\nL 227.676015 244.317188 \r\nz\r\n\" style=\"fill:#1f77b4;opacity:0.4;\"/>\r\n   </g>\r\n   <g id=\"patch_31\">\r\n    <path clip-path=\"url(#p937679f3ab)\" d=\"M 233.01996 244.317188 \r\nL 238.363905 244.317188 \r\nL 238.363905 238.419858 \r\nL 233.01996 238.419858 \r\nz\r\n\" style=\"fill:#1f77b4;opacity:0.4;\"/>\r\n   </g>\r\n   <g id=\"patch_32\">\r\n    <path clip-path=\"url(#p937679f3ab)\" d=\"M 238.363905 244.317188 \r\nL 243.707849 244.317188 \r\nL 243.707849 37.231473 \r\nL 238.363905 37.231473 \r\nz\r\n\" style=\"fill:#1f77b4;opacity:0.4;\"/>\r\n   </g>\r\n   <g id=\"patch_33\">\r\n    <path clip-path=\"url(#p937679f3ab)\" d=\"M 243.707849 244.317188 \r\nL 249.051794 244.317188 \r\nL 249.051794 244.317188 \r\nL 243.707849 244.317188 \r\nz\r\n\" style=\"fill:#1f77b4;opacity:0.4;\"/>\r\n   </g>\r\n   <g id=\"patch_34\">\r\n    <path clip-path=\"url(#p937679f3ab)\" d=\"M 249.051794 244.317188 \r\nL 254.395739 244.317188 \r\nL 254.395739 244.317188 \r\nL 249.051794 244.317188 \r\nz\r\n\" style=\"fill:#1f77b4;opacity:0.4;\"/>\r\n   </g>\r\n   <g id=\"patch_35\">\r\n    <path clip-path=\"url(#p937679f3ab)\" d=\"M 254.395739 244.317188 \r\nL 259.739684 244.317188 \r\nL 259.739684 233.715247 \r\nL 254.395739 233.715247 \r\nz\r\n\" style=\"fill:#1f77b4;opacity:0.4;\"/>\r\n   </g>\r\n   <g id=\"patch_36\">\r\n    <path clip-path=\"url(#p937679f3ab)\" d=\"M 259.739684 244.317188 \r\nL 265.083629 244.317188 \r\nL 265.083629 244.317188 \r\nL 259.739684 244.317188 \r\nz\r\n\" style=\"fill:#1f77b4;opacity:0.4;\"/>\r\n   </g>\r\n   <g id=\"patch_37\">\r\n    <path clip-path=\"url(#p937679f3ab)\" d=\"M 265.083629 244.317188 \r\nL 270.427574 244.317188 \r\nL 270.427574 102.093813 \r\nL 265.083629 102.093813 \r\nz\r\n\" style=\"fill:#1f77b4;opacity:0.4;\"/>\r\n   </g>\r\n   <g id=\"patch_38\">\r\n    <path clip-path=\"url(#p937679f3ab)\" d=\"M 270.427574 244.317188 \r\nL 275.771519 244.317188 \r\nL 275.771519 244.317188 \r\nL 270.427574 244.317188 \r\nz\r\n\" style=\"fill:#1f77b4;opacity:0.4;\"/>\r\n   </g>\r\n   <g id=\"patch_39\">\r\n    <path clip-path=\"url(#p937679f3ab)\" d=\"M 275.771519 244.317188 \r\nL 281.115464 244.317188 \r\nL 281.115464 244.317188 \r\nL 275.771519 244.317188 \r\nz\r\n\" style=\"fill:#1f77b4;opacity:0.4;\"/>\r\n   </g>\r\n   <g id=\"patch_40\">\r\n    <path clip-path=\"url(#p937679f3ab)\" d=\"M 281.115464 244.317188 \r\nL 286.459408 244.317188 \r\nL 286.459408 244.317188 \r\nL 281.115464 244.317188 \r\nz\r\n\" style=\"fill:#1f77b4;opacity:0.4;\"/>\r\n   </g>\r\n   <g id=\"patch_41\">\r\n    <path clip-path=\"url(#p937679f3ab)\" d=\"M 286.459408 244.317188 \r\nL 291.803353 244.317188 \r\nL 291.803353 233.715247 \r\nL 286.459408 233.715247 \r\nz\r\n\" style=\"fill:#1f77b4;opacity:0.4;\"/>\r\n   </g>\r\n   <g id=\"patch_42\">\r\n    <path clip-path=\"url(#p937679f3ab)\" d=\"M 291.803353 244.317188 \r\nL 297.147298 244.317188 \r\nL 297.147298 244.317188 \r\nL 291.803353 244.317188 \r\nz\r\n\" style=\"fill:#1f77b4;opacity:0.4;\"/>\r\n   </g>\r\n   <g id=\"patch_43\">\r\n    <path clip-path=\"url(#p937679f3ab)\" d=\"M 297.147298 244.317188 \r\nL 302.491243 244.317188 \r\nL 302.491243 122.394873 \r\nL 297.147298 122.394873 \r\nz\r\n\" style=\"fill:#1f77b4;opacity:0.4;\"/>\r\n   </g>\r\n   <g id=\"patch_44\">\r\n    <path clip-path=\"url(#p937679f3ab)\" d=\"M 302.491243 244.317188 \r\nL 307.835188 244.317188 \r\nL 307.835188 244.317188 \r\nL 302.491243 244.317188 \r\nz\r\n\" style=\"fill:#1f77b4;opacity:0.4;\"/>\r\n   </g>\r\n   <g id=\"patch_45\">\r\n    <path clip-path=\"url(#p937679f3ab)\" d=\"M 307.835188 244.317188 \r\nL 313.179133 244.317188 \r\nL 313.179133 225.258543 \r\nL 307.835188 225.258543 \r\nz\r\n\" style=\"fill:#1f77b4;opacity:0.4;\"/>\r\n   </g>\r\n   <g id=\"patch_46\">\r\n    <path clip-path=\"url(#p937679f3ab)\" d=\"M 313.179133 244.317188 \r\nL 318.523078 244.317188 \r\nL 318.523078 244.317188 \r\nL 313.179133 244.317188 \r\nz\r\n\" style=\"fill:#1f77b4;opacity:0.4;\"/>\r\n   </g>\r\n   <g id=\"patch_47\">\r\n    <path clip-path=\"url(#p937679f3ab)\" d=\"M 318.523078 244.317188 \r\nL 323.867023 244.317188 \r\nL 323.867023 100.064536 \r\nL 318.523078 100.064536 \r\nz\r\n\" style=\"fill:#1f77b4;opacity:0.4;\"/>\r\n   </g>\r\n   <g id=\"patch_48\">\r\n    <path clip-path=\"url(#p937679f3ab)\" d=\"M 323.867023 244.317188 \r\nL 329.210967 244.317188 \r\nL 329.210967 244.317188 \r\nL 323.867023 244.317188 \r\nz\r\n\" style=\"fill:#1f77b4;opacity:0.4;\"/>\r\n   </g>\r\n   <g id=\"patch_49\">\r\n    <path clip-path=\"url(#p937679f3ab)\" d=\"M 329.210967 244.317188 \r\nL 334.554912 244.317188 \r\nL 334.554912 101.687958 \r\nL 329.210967 101.687958 \r\nz\r\n\" style=\"fill:#1f77b4;opacity:0.4;\"/>\r\n   </g>\r\n   <g id=\"patch_50\">\r\n    <path clip-path=\"url(#p937679f3ab)\" d=\"M 334.554912 244.317188 \r\nL 339.898857 244.317188 \r\nL 339.898857 244.317188 \r\nL 334.554912 244.317188 \r\nz\r\n\" style=\"fill:#1f77b4;opacity:0.4;\"/>\r\n   </g>\r\n   <g id=\"patch_51\">\r\n    <path clip-path=\"url(#p937679f3ab)\" d=\"M 339.898857 244.317188 \r\nL 345.242802 244.317188 \r\nL 345.242802 244.317188 \r\nL 339.898857 244.317188 \r\nz\r\n\" style=\"fill:#1f77b4;opacity:0.4;\"/>\r\n   </g>\r\n   <g id=\"patch_52\">\r\n    <path clip-path=\"url(#p937679f3ab)\" d=\"M 345.242802 244.317188 \r\nL 350.586747 244.317188 \r\nL 350.586747 43.344154 \r\nL 345.242802 43.344154 \r\nz\r\n\" style=\"fill:#1f77b4;opacity:0.4;\"/>\r\n   </g>\r\n   <g id=\"matplotlib.axis_1\">\r\n    <g id=\"xtick_1\">\r\n     <g id=\"line2d_1\">\r\n      <defs>\r\n       <path d=\"M 0 0 \r\nL 0 3.5 \r\n\" id=\"m84bc54092a\" style=\"stroke:#000000;stroke-width:0.8;\"/>\r\n      </defs>\r\n      <g>\r\n       <use style=\"stroke:#000000;stroke-width:0.8;\" x=\"83.389503\" xlink:href=\"#m84bc54092a\" y=\"244.317188\"/>\r\n      </g>\r\n     </g>\r\n     <g id=\"text_1\">\r\n      <!-- 0 -->\r\n      <g transform=\"translate(80.208253 258.915625)scale(0.1 -0.1)\">\r\n       <defs>\r\n        <path d=\"M 31.78125 66.40625 \r\nQ 24.171875 66.40625 20.328125 58.90625 \r\nQ 16.5 51.421875 16.5 36.375 \r\nQ 16.5 21.390625 20.328125 13.890625 \r\nQ 24.171875 6.390625 31.78125 6.390625 \r\nQ 39.453125 6.390625 43.28125 13.890625 \r\nQ 47.125 21.390625 47.125 36.375 \r\nQ 47.125 51.421875 43.28125 58.90625 \r\nQ 39.453125 66.40625 31.78125 66.40625 \r\nz\r\nM 31.78125 74.21875 \r\nQ 44.046875 74.21875 50.515625 64.515625 \r\nQ 56.984375 54.828125 56.984375 36.375 \r\nQ 56.984375 17.96875 50.515625 8.265625 \r\nQ 44.046875 -1.421875 31.78125 -1.421875 \r\nQ 19.53125 -1.421875 13.0625 8.265625 \r\nQ 6.59375 17.96875 6.59375 36.375 \r\nQ 6.59375 54.828125 13.0625 64.515625 \r\nQ 19.53125 74.21875 31.78125 74.21875 \r\nz\r\n\" id=\"DejaVuSans-48\"/>\r\n       </defs>\r\n       <use xlink:href=\"#DejaVuSans-48\"/>\r\n      </g>\r\n     </g>\r\n    </g>\r\n    <g id=\"xtick_2\">\r\n     <g id=\"line2d_2\">\r\n      <g>\r\n       <use style=\"stroke:#000000;stroke-width:0.8;\" x=\"128.291754\" xlink:href=\"#m84bc54092a\" y=\"244.317188\"/>\r\n      </g>\r\n     </g>\r\n     <g id=\"text_2\">\r\n      <!-- 1 -->\r\n      <g transform=\"translate(125.110504 258.915625)scale(0.1 -0.1)\">\r\n       <defs>\r\n        <path d=\"M 12.40625 8.296875 \r\nL 28.515625 8.296875 \r\nL 28.515625 63.921875 \r\nL 10.984375 60.40625 \r\nL 10.984375 69.390625 \r\nL 28.421875 72.90625 \r\nL 38.28125 72.90625 \r\nL 38.28125 8.296875 \r\nL 54.390625 8.296875 \r\nL 54.390625 0 \r\nL 12.40625 0 \r\nz\r\n\" id=\"DejaVuSans-49\"/>\r\n       </defs>\r\n       <use xlink:href=\"#DejaVuSans-49\"/>\r\n      </g>\r\n     </g>\r\n    </g>\r\n    <g id=\"xtick_3\">\r\n     <g id=\"line2d_3\">\r\n      <g>\r\n       <use style=\"stroke:#000000;stroke-width:0.8;\" x=\"173.194004\" xlink:href=\"#m84bc54092a\" y=\"244.317188\"/>\r\n      </g>\r\n     </g>\r\n     <g id=\"text_3\">\r\n      <!-- 2 -->\r\n      <g transform=\"translate(170.012754 258.915625)scale(0.1 -0.1)\">\r\n       <defs>\r\n        <path d=\"M 19.1875 8.296875 \r\nL 53.609375 8.296875 \r\nL 53.609375 0 \r\nL 7.328125 0 \r\nL 7.328125 8.296875 \r\nQ 12.9375 14.109375 22.625 23.890625 \r\nQ 32.328125 33.6875 34.8125 36.53125 \r\nQ 39.546875 41.84375 41.421875 45.53125 \r\nQ 43.3125 49.21875 43.3125 52.78125 \r\nQ 43.3125 58.59375 39.234375 62.25 \r\nQ 35.15625 65.921875 28.609375 65.921875 \r\nQ 23.96875 65.921875 18.8125 64.3125 \r\nQ 13.671875 62.703125 7.8125 59.421875 \r\nL 7.8125 69.390625 \r\nQ 13.765625 71.78125 18.9375 73 \r\nQ 24.125 74.21875 28.421875 74.21875 \r\nQ 39.75 74.21875 46.484375 68.546875 \r\nQ 53.21875 62.890625 53.21875 53.421875 \r\nQ 53.21875 48.921875 51.53125 44.890625 \r\nQ 49.859375 40.875 45.40625 35.40625 \r\nQ 44.1875 33.984375 37.640625 27.21875 \r\nQ 31.109375 20.453125 19.1875 8.296875 \r\nz\r\n\" id=\"DejaVuSans-50\"/>\r\n       </defs>\r\n       <use xlink:href=\"#DejaVuSans-50\"/>\r\n      </g>\r\n     </g>\r\n    </g>\r\n    <g id=\"xtick_4\">\r\n     <g id=\"line2d_4\">\r\n      <g>\r\n       <use style=\"stroke:#000000;stroke-width:0.8;\" x=\"218.096255\" xlink:href=\"#m84bc54092a\" y=\"244.317188\"/>\r\n      </g>\r\n     </g>\r\n     <g id=\"text_4\">\r\n      <!-- 3 -->\r\n      <g transform=\"translate(214.915005 258.915625)scale(0.1 -0.1)\">\r\n       <defs>\r\n        <path d=\"M 40.578125 39.3125 \r\nQ 47.65625 37.796875 51.625 33 \r\nQ 55.609375 28.21875 55.609375 21.1875 \r\nQ 55.609375 10.40625 48.1875 4.484375 \r\nQ 40.765625 -1.421875 27.09375 -1.421875 \r\nQ 22.515625 -1.421875 17.65625 -0.515625 \r\nQ 12.796875 0.390625 7.625 2.203125 \r\nL 7.625 11.71875 \r\nQ 11.71875 9.328125 16.59375 8.109375 \r\nQ 21.484375 6.890625 26.8125 6.890625 \r\nQ 36.078125 6.890625 40.9375 10.546875 \r\nQ 45.796875 14.203125 45.796875 21.1875 \r\nQ 45.796875 27.640625 41.28125 31.265625 \r\nQ 36.765625 34.90625 28.71875 34.90625 \r\nL 20.21875 34.90625 \r\nL 20.21875 43.015625 \r\nL 29.109375 43.015625 \r\nQ 36.375 43.015625 40.234375 45.921875 \r\nQ 44.09375 48.828125 44.09375 54.296875 \r\nQ 44.09375 59.90625 40.109375 62.90625 \r\nQ 36.140625 65.921875 28.71875 65.921875 \r\nQ 24.65625 65.921875 20.015625 65.03125 \r\nQ 15.375 64.15625 9.8125 62.3125 \r\nL 9.8125 71.09375 \r\nQ 15.4375 72.65625 20.34375 73.4375 \r\nQ 25.25 74.21875 29.59375 74.21875 \r\nQ 40.828125 74.21875 47.359375 69.109375 \r\nQ 53.90625 64.015625 53.90625 55.328125 \r\nQ 53.90625 49.265625 50.4375 45.09375 \r\nQ 46.96875 40.921875 40.578125 39.3125 \r\nz\r\n\" id=\"DejaVuSans-51\"/>\r\n       </defs>\r\n       <use xlink:href=\"#DejaVuSans-51\"/>\r\n      </g>\r\n     </g>\r\n    </g>\r\n    <g id=\"xtick_5\">\r\n     <g id=\"line2d_5\">\r\n      <g>\r\n       <use style=\"stroke:#000000;stroke-width:0.8;\" x=\"262.998506\" xlink:href=\"#m84bc54092a\" y=\"244.317188\"/>\r\n      </g>\r\n     </g>\r\n     <g id=\"text_5\">\r\n      <!-- 4 -->\r\n      <g transform=\"translate(259.817256 258.915625)scale(0.1 -0.1)\">\r\n       <defs>\r\n        <path d=\"M 37.796875 64.3125 \r\nL 12.890625 25.390625 \r\nL 37.796875 25.390625 \r\nz\r\nM 35.203125 72.90625 \r\nL 47.609375 72.90625 \r\nL 47.609375 25.390625 \r\nL 58.015625 25.390625 \r\nL 58.015625 17.1875 \r\nL 47.609375 17.1875 \r\nL 47.609375 0 \r\nL 37.796875 0 \r\nL 37.796875 17.1875 \r\nL 4.890625 17.1875 \r\nL 4.890625 26.703125 \r\nz\r\n\" id=\"DejaVuSans-52\"/>\r\n       </defs>\r\n       <use xlink:href=\"#DejaVuSans-52\"/>\r\n      </g>\r\n     </g>\r\n    </g>\r\n    <g id=\"xtick_6\">\r\n     <g id=\"line2d_6\">\r\n      <g>\r\n       <use style=\"stroke:#000000;stroke-width:0.8;\" x=\"307.900757\" xlink:href=\"#m84bc54092a\" y=\"244.317188\"/>\r\n      </g>\r\n     </g>\r\n     <g id=\"text_6\">\r\n      <!-- 5 -->\r\n      <g transform=\"translate(304.719507 258.915625)scale(0.1 -0.1)\">\r\n       <defs>\r\n        <path d=\"M 10.796875 72.90625 \r\nL 49.515625 72.90625 \r\nL 49.515625 64.59375 \r\nL 19.828125 64.59375 \r\nL 19.828125 46.734375 \r\nQ 21.96875 47.46875 24.109375 47.828125 \r\nQ 26.265625 48.1875 28.421875 48.1875 \r\nQ 40.625 48.1875 47.75 41.5 \r\nQ 54.890625 34.8125 54.890625 23.390625 \r\nQ 54.890625 11.625 47.5625 5.09375 \r\nQ 40.234375 -1.421875 26.90625 -1.421875 \r\nQ 22.3125 -1.421875 17.546875 -0.640625 \r\nQ 12.796875 0.140625 7.71875 1.703125 \r\nL 7.71875 11.625 \r\nQ 12.109375 9.234375 16.796875 8.0625 \r\nQ 21.484375 6.890625 26.703125 6.890625 \r\nQ 35.15625 6.890625 40.078125 11.328125 \r\nQ 45.015625 15.765625 45.015625 23.390625 \r\nQ 45.015625 31 40.078125 35.4375 \r\nQ 35.15625 39.890625 26.703125 39.890625 \r\nQ 22.75 39.890625 18.8125 39.015625 \r\nQ 14.890625 38.140625 10.796875 36.28125 \r\nz\r\n\" id=\"DejaVuSans-53\"/>\r\n       </defs>\r\n       <use xlink:href=\"#DejaVuSans-53\"/>\r\n      </g>\r\n     </g>\r\n    </g>\r\n    <g id=\"xtick_7\">\r\n     <g id=\"line2d_7\">\r\n      <g>\r\n       <use style=\"stroke:#000000;stroke-width:0.8;\" x=\"352.803007\" xlink:href=\"#m84bc54092a\" y=\"244.317188\"/>\r\n      </g>\r\n     </g>\r\n     <g id=\"text_7\">\r\n      <!-- 6 -->\r\n      <g transform=\"translate(349.621757 258.915625)scale(0.1 -0.1)\">\r\n       <defs>\r\n        <path d=\"M 33.015625 40.375 \r\nQ 26.375 40.375 22.484375 35.828125 \r\nQ 18.609375 31.296875 18.609375 23.390625 \r\nQ 18.609375 15.53125 22.484375 10.953125 \r\nQ 26.375 6.390625 33.015625 6.390625 \r\nQ 39.65625 6.390625 43.53125 10.953125 \r\nQ 47.40625 15.53125 47.40625 23.390625 \r\nQ 47.40625 31.296875 43.53125 35.828125 \r\nQ 39.65625 40.375 33.015625 40.375 \r\nz\r\nM 52.59375 71.296875 \r\nL 52.59375 62.3125 \r\nQ 48.875 64.0625 45.09375 64.984375 \r\nQ 41.3125 65.921875 37.59375 65.921875 \r\nQ 27.828125 65.921875 22.671875 59.328125 \r\nQ 17.53125 52.734375 16.796875 39.40625 \r\nQ 19.671875 43.65625 24.015625 45.921875 \r\nQ 28.375 48.1875 33.59375 48.1875 \r\nQ 44.578125 48.1875 50.953125 41.515625 \r\nQ 57.328125 34.859375 57.328125 23.390625 \r\nQ 57.328125 12.15625 50.6875 5.359375 \r\nQ 44.046875 -1.421875 33.015625 -1.421875 \r\nQ 20.359375 -1.421875 13.671875 8.265625 \r\nQ 6.984375 17.96875 6.984375 36.375 \r\nQ 6.984375 53.65625 15.1875 63.9375 \r\nQ 23.390625 74.21875 37.203125 74.21875 \r\nQ 40.921875 74.21875 44.703125 73.484375 \r\nQ 48.484375 72.75 52.59375 71.296875 \r\nz\r\n\" id=\"DejaVuSans-54\"/>\r\n       </defs>\r\n       <use xlink:href=\"#DejaVuSans-54\"/>\r\n      </g>\r\n     </g>\r\n    </g>\r\n    <g id=\"text_8\">\r\n     <!-- Life Exp (years) -->\r\n     <g transform=\"translate(154.356875 277.152813)scale(0.16 -0.16)\">\r\n      <defs>\r\n       <path d=\"M 9.8125 72.90625 \r\nL 19.671875 72.90625 \r\nL 19.671875 8.296875 \r\nL 55.171875 8.296875 \r\nL 55.171875 0 \r\nL 9.8125 0 \r\nz\r\n\" id=\"DejaVuSans-76\"/>\r\n       <path d=\"M 9.421875 54.6875 \r\nL 18.40625 54.6875 \r\nL 18.40625 0 \r\nL 9.421875 0 \r\nz\r\nM 9.421875 75.984375 \r\nL 18.40625 75.984375 \r\nL 18.40625 64.59375 \r\nL 9.421875 64.59375 \r\nz\r\n\" id=\"DejaVuSans-105\"/>\r\n       <path d=\"M 37.109375 75.984375 \r\nL 37.109375 68.5 \r\nL 28.515625 68.5 \r\nQ 23.6875 68.5 21.796875 66.546875 \r\nQ 19.921875 64.59375 19.921875 59.515625 \r\nL 19.921875 54.6875 \r\nL 34.71875 54.6875 \r\nL 34.71875 47.703125 \r\nL 19.921875 47.703125 \r\nL 19.921875 0 \r\nL 10.890625 0 \r\nL 10.890625 47.703125 \r\nL 2.296875 47.703125 \r\nL 2.296875 54.6875 \r\nL 10.890625 54.6875 \r\nL 10.890625 58.5 \r\nQ 10.890625 67.625 15.140625 71.796875 \r\nQ 19.390625 75.984375 28.609375 75.984375 \r\nz\r\n\" id=\"DejaVuSans-102\"/>\r\n       <path d=\"M 56.203125 29.59375 \r\nL 56.203125 25.203125 \r\nL 14.890625 25.203125 \r\nQ 15.484375 15.921875 20.484375 11.0625 \r\nQ 25.484375 6.203125 34.421875 6.203125 \r\nQ 39.59375 6.203125 44.453125 7.46875 \r\nQ 49.3125 8.734375 54.109375 11.28125 \r\nL 54.109375 2.78125 \r\nQ 49.265625 0.734375 44.1875 -0.34375 \r\nQ 39.109375 -1.421875 33.890625 -1.421875 \r\nQ 20.796875 -1.421875 13.15625 6.1875 \r\nQ 5.515625 13.8125 5.515625 26.8125 \r\nQ 5.515625 40.234375 12.765625 48.109375 \r\nQ 20.015625 56 32.328125 56 \r\nQ 43.359375 56 49.78125 48.890625 \r\nQ 56.203125 41.796875 56.203125 29.59375 \r\nz\r\nM 47.21875 32.234375 \r\nQ 47.125 39.59375 43.09375 43.984375 \r\nQ 39.0625 48.390625 32.421875 48.390625 \r\nQ 24.90625 48.390625 20.390625 44.140625 \r\nQ 15.875 39.890625 15.1875 32.171875 \r\nz\r\n\" id=\"DejaVuSans-101\"/>\r\n       <path id=\"DejaVuSans-32\"/>\r\n       <path d=\"M 9.8125 72.90625 \r\nL 55.90625 72.90625 \r\nL 55.90625 64.59375 \r\nL 19.671875 64.59375 \r\nL 19.671875 43.015625 \r\nL 54.390625 43.015625 \r\nL 54.390625 34.71875 \r\nL 19.671875 34.71875 \r\nL 19.671875 8.296875 \r\nL 56.78125 8.296875 \r\nL 56.78125 0 \r\nL 9.8125 0 \r\nz\r\n\" id=\"DejaVuSans-69\"/>\r\n       <path d=\"M 54.890625 54.6875 \r\nL 35.109375 28.078125 \r\nL 55.90625 0 \r\nL 45.3125 0 \r\nL 29.390625 21.484375 \r\nL 13.484375 0 \r\nL 2.875 0 \r\nL 24.125 28.609375 \r\nL 4.6875 54.6875 \r\nL 15.28125 54.6875 \r\nL 29.78125 35.203125 \r\nL 44.28125 54.6875 \r\nz\r\n\" id=\"DejaVuSans-120\"/>\r\n       <path d=\"M 18.109375 8.203125 \r\nL 18.109375 -20.796875 \r\nL 9.078125 -20.796875 \r\nL 9.078125 54.6875 \r\nL 18.109375 54.6875 \r\nL 18.109375 46.390625 \r\nQ 20.953125 51.265625 25.265625 53.625 \r\nQ 29.59375 56 35.59375 56 \r\nQ 45.5625 56 51.78125 48.09375 \r\nQ 58.015625 40.1875 58.015625 27.296875 \r\nQ 58.015625 14.40625 51.78125 6.484375 \r\nQ 45.5625 -1.421875 35.59375 -1.421875 \r\nQ 29.59375 -1.421875 25.265625 0.953125 \r\nQ 20.953125 3.328125 18.109375 8.203125 \r\nz\r\nM 48.6875 27.296875 \r\nQ 48.6875 37.203125 44.609375 42.84375 \r\nQ 40.53125 48.484375 33.40625 48.484375 \r\nQ 26.265625 48.484375 22.1875 42.84375 \r\nQ 18.109375 37.203125 18.109375 27.296875 \r\nQ 18.109375 17.390625 22.1875 11.75 \r\nQ 26.265625 6.109375 33.40625 6.109375 \r\nQ 40.53125 6.109375 44.609375 11.75 \r\nQ 48.6875 17.390625 48.6875 27.296875 \r\nz\r\n\" id=\"DejaVuSans-112\"/>\r\n       <path d=\"M 31 75.875 \r\nQ 24.46875 64.65625 21.28125 53.65625 \r\nQ 18.109375 42.671875 18.109375 31.390625 \r\nQ 18.109375 20.125 21.3125 9.0625 \r\nQ 24.515625 -2 31 -13.1875 \r\nL 23.1875 -13.1875 \r\nQ 15.875 -1.703125 12.234375 9.375 \r\nQ 8.59375 20.453125 8.59375 31.390625 \r\nQ 8.59375 42.28125 12.203125 53.3125 \r\nQ 15.828125 64.359375 23.1875 75.875 \r\nz\r\n\" id=\"DejaVuSans-40\"/>\r\n       <path d=\"M 32.171875 -5.078125 \r\nQ 28.375 -14.84375 24.75 -17.8125 \r\nQ 21.140625 -20.796875 15.09375 -20.796875 \r\nL 7.90625 -20.796875 \r\nL 7.90625 -13.28125 \r\nL 13.1875 -13.28125 \r\nQ 16.890625 -13.28125 18.9375 -11.515625 \r\nQ 21 -9.765625 23.484375 -3.21875 \r\nL 25.09375 0.875 \r\nL 2.984375 54.6875 \r\nL 12.5 54.6875 \r\nL 29.59375 11.921875 \r\nL 46.6875 54.6875 \r\nL 56.203125 54.6875 \r\nz\r\n\" id=\"DejaVuSans-121\"/>\r\n       <path d=\"M 34.28125 27.484375 \r\nQ 23.390625 27.484375 19.1875 25 \r\nQ 14.984375 22.515625 14.984375 16.5 \r\nQ 14.984375 11.71875 18.140625 8.90625 \r\nQ 21.296875 6.109375 26.703125 6.109375 \r\nQ 34.1875 6.109375 38.703125 11.40625 \r\nQ 43.21875 16.703125 43.21875 25.484375 \r\nL 43.21875 27.484375 \r\nz\r\nM 52.203125 31.203125 \r\nL 52.203125 0 \r\nL 43.21875 0 \r\nL 43.21875 8.296875 \r\nQ 40.140625 3.328125 35.546875 0.953125 \r\nQ 30.953125 -1.421875 24.3125 -1.421875 \r\nQ 15.921875 -1.421875 10.953125 3.296875 \r\nQ 6 8.015625 6 15.921875 \r\nQ 6 25.140625 12.171875 29.828125 \r\nQ 18.359375 34.515625 30.609375 34.515625 \r\nL 43.21875 34.515625 \r\nL 43.21875 35.40625 \r\nQ 43.21875 41.609375 39.140625 45 \r\nQ 35.0625 48.390625 27.6875 48.390625 \r\nQ 23 48.390625 18.546875 47.265625 \r\nQ 14.109375 46.140625 10.015625 43.890625 \r\nL 10.015625 52.203125 \r\nQ 14.9375 54.109375 19.578125 55.046875 \r\nQ 24.21875 56 28.609375 56 \r\nQ 40.484375 56 46.34375 49.84375 \r\nQ 52.203125 43.703125 52.203125 31.203125 \r\nz\r\n\" id=\"DejaVuSans-97\"/>\r\n       <path d=\"M 41.109375 46.296875 \r\nQ 39.59375 47.171875 37.8125 47.578125 \r\nQ 36.03125 48 33.890625 48 \r\nQ 26.265625 48 22.1875 43.046875 \r\nQ 18.109375 38.09375 18.109375 28.8125 \r\nL 18.109375 0 \r\nL 9.078125 0 \r\nL 9.078125 54.6875 \r\nL 18.109375 54.6875 \r\nL 18.109375 46.1875 \r\nQ 20.953125 51.171875 25.484375 53.578125 \r\nQ 30.03125 56 36.53125 56 \r\nQ 37.453125 56 38.578125 55.875 \r\nQ 39.703125 55.765625 41.0625 55.515625 \r\nz\r\n\" id=\"DejaVuSans-114\"/>\r\n       <path d=\"M 44.28125 53.078125 \r\nL 44.28125 44.578125 \r\nQ 40.484375 46.53125 36.375 47.5 \r\nQ 32.28125 48.484375 27.875 48.484375 \r\nQ 21.1875 48.484375 17.84375 46.4375 \r\nQ 14.5 44.390625 14.5 40.28125 \r\nQ 14.5 37.15625 16.890625 35.375 \r\nQ 19.28125 33.59375 26.515625 31.984375 \r\nL 29.59375 31.296875 \r\nQ 39.15625 29.25 43.1875 25.515625 \r\nQ 47.21875 21.78125 47.21875 15.09375 \r\nQ 47.21875 7.46875 41.1875 3.015625 \r\nQ 35.15625 -1.421875 24.609375 -1.421875 \r\nQ 20.21875 -1.421875 15.453125 -0.5625 \r\nQ 10.6875 0.296875 5.421875 2 \r\nL 5.421875 11.28125 \r\nQ 10.40625 8.6875 15.234375 7.390625 \r\nQ 20.0625 6.109375 24.8125 6.109375 \r\nQ 31.15625 6.109375 34.5625 8.28125 \r\nQ 37.984375 10.453125 37.984375 14.40625 \r\nQ 37.984375 18.0625 35.515625 20.015625 \r\nQ 33.0625 21.96875 24.703125 23.78125 \r\nL 21.578125 24.515625 \r\nQ 13.234375 26.265625 9.515625 29.90625 \r\nQ 5.8125 33.546875 5.8125 39.890625 \r\nQ 5.8125 47.609375 11.28125 51.796875 \r\nQ 16.75 56 26.8125 56 \r\nQ 31.78125 56 36.171875 55.265625 \r\nQ 40.578125 54.546875 44.28125 53.078125 \r\nz\r\n\" id=\"DejaVuSans-115\"/>\r\n       <path d=\"M 8.015625 75.875 \r\nL 15.828125 75.875 \r\nQ 23.140625 64.359375 26.78125 53.3125 \r\nQ 30.421875 42.28125 30.421875 31.390625 \r\nQ 30.421875 20.453125 26.78125 9.375 \r\nQ 23.140625 -1.703125 15.828125 -13.1875 \r\nL 8.015625 -13.1875 \r\nQ 14.5 -2 17.703125 9.0625 \r\nQ 20.90625 20.125 20.90625 31.390625 \r\nQ 20.90625 42.671875 17.703125 53.65625 \r\nQ 14.5 64.65625 8.015625 75.875 \r\nz\r\n\" id=\"DejaVuSans-41\"/>\r\n      </defs>\r\n      <use xlink:href=\"#DejaVuSans-76\"/>\r\n      <use x=\"55.712891\" xlink:href=\"#DejaVuSans-105\"/>\r\n      <use x=\"83.496094\" xlink:href=\"#DejaVuSans-102\"/>\r\n      <use x=\"118.701172\" xlink:href=\"#DejaVuSans-101\"/>\r\n      <use x=\"180.224609\" xlink:href=\"#DejaVuSans-32\"/>\r\n      <use x=\"212.011719\" xlink:href=\"#DejaVuSans-69\"/>\r\n      <use x=\"275.195312\" xlink:href=\"#DejaVuSans-120\"/>\r\n      <use x=\"334.375\" xlink:href=\"#DejaVuSans-112\"/>\r\n      <use x=\"397.851562\" xlink:href=\"#DejaVuSans-32\"/>\r\n      <use x=\"429.638672\" xlink:href=\"#DejaVuSans-40\"/>\r\n      <use x=\"468.652344\" xlink:href=\"#DejaVuSans-121\"/>\r\n      <use x=\"527.832031\" xlink:href=\"#DejaVuSans-101\"/>\r\n      <use x=\"589.355469\" xlink:href=\"#DejaVuSans-97\"/>\r\n      <use x=\"650.634766\" xlink:href=\"#DejaVuSans-114\"/>\r\n      <use x=\"691.748047\" xlink:href=\"#DejaVuSans-115\"/>\r\n      <use x=\"743.847656\" xlink:href=\"#DejaVuSans-41\"/>\r\n     </g>\r\n    </g>\r\n   </g>\r\n   <g id=\"matplotlib.axis_2\">\r\n    <g id=\"ytick_1\">\r\n     <g id=\"line2d_8\">\r\n      <defs>\r\n       <path d=\"M 0 0 \r\nL -3.5 0 \r\n\" id=\"m3322a75d4c\" style=\"stroke:#000000;stroke-width:0.8;\"/>\r\n      </defs>\r\n      <g>\r\n       <use style=\"stroke:#000000;stroke-width:0.8;\" x=\"49.588125\" xlink:href=\"#m3322a75d4c\" y=\"244.317188\"/>\r\n      </g>\r\n     </g>\r\n     <g id=\"text_9\">\r\n      <!-- 0.0 -->\r\n      <g transform=\"translate(26.685 248.116406)scale(0.1 -0.1)\">\r\n       <defs>\r\n        <path d=\"M 10.6875 12.40625 \r\nL 21 12.40625 \r\nL 21 0 \r\nL 10.6875 0 \r\nz\r\n\" id=\"DejaVuSans-46\"/>\r\n       </defs>\r\n       <use xlink:href=\"#DejaVuSans-48\"/>\r\n       <use x=\"63.623047\" xlink:href=\"#DejaVuSans-46\"/>\r\n       <use x=\"95.410156\" xlink:href=\"#DejaVuSans-48\"/>\r\n      </g>\r\n     </g>\r\n    </g>\r\n    <g id=\"ytick_2\">\r\n     <g id=\"line2d_9\">\r\n      <g>\r\n       <use style=\"stroke:#000000;stroke-width:0.8;\" x=\"49.588125\" xlink:href=\"#m3322a75d4c\" y=\"209.12591\"/>\r\n      </g>\r\n     </g>\r\n     <g id=\"text_10\">\r\n      <!-- 0.2 -->\r\n      <g transform=\"translate(26.685 212.925129)scale(0.1 -0.1)\">\r\n       <use xlink:href=\"#DejaVuSans-48\"/>\r\n       <use x=\"63.623047\" xlink:href=\"#DejaVuSans-46\"/>\r\n       <use x=\"95.410156\" xlink:href=\"#DejaVuSans-50\"/>\r\n      </g>\r\n     </g>\r\n    </g>\r\n    <g id=\"ytick_3\">\r\n     <g id=\"line2d_10\">\r\n      <g>\r\n       <use style=\"stroke:#000000;stroke-width:0.8;\" x=\"49.588125\" xlink:href=\"#m3322a75d4c\" y=\"173.934633\"/>\r\n      </g>\r\n     </g>\r\n     <g id=\"text_11\">\r\n      <!-- 0.4 -->\r\n      <g transform=\"translate(26.685 177.733851)scale(0.1 -0.1)\">\r\n       <use xlink:href=\"#DejaVuSans-48\"/>\r\n       <use x=\"63.623047\" xlink:href=\"#DejaVuSans-46\"/>\r\n       <use x=\"95.410156\" xlink:href=\"#DejaVuSans-52\"/>\r\n      </g>\r\n     </g>\r\n    </g>\r\n    <g id=\"ytick_4\">\r\n     <g id=\"line2d_11\">\r\n      <g>\r\n       <use style=\"stroke:#000000;stroke-width:0.8;\" x=\"49.588125\" xlink:href=\"#m3322a75d4c\" y=\"138.743355\"/>\r\n      </g>\r\n     </g>\r\n     <g id=\"text_12\">\r\n      <!-- 0.6 -->\r\n      <g transform=\"translate(26.685 142.542574)scale(0.1 -0.1)\">\r\n       <use xlink:href=\"#DejaVuSans-48\"/>\r\n       <use x=\"63.623047\" xlink:href=\"#DejaVuSans-46\"/>\r\n       <use x=\"95.410156\" xlink:href=\"#DejaVuSans-54\"/>\r\n      </g>\r\n     </g>\r\n    </g>\r\n    <g id=\"ytick_5\">\r\n     <g id=\"line2d_12\">\r\n      <g>\r\n       <use style=\"stroke:#000000;stroke-width:0.8;\" x=\"49.588125\" xlink:href=\"#m3322a75d4c\" y=\"103.552078\"/>\r\n      </g>\r\n     </g>\r\n     <g id=\"text_13\">\r\n      <!-- 0.8 -->\r\n      <g transform=\"translate(26.685 107.351297)scale(0.1 -0.1)\">\r\n       <defs>\r\n        <path d=\"M 31.78125 34.625 \r\nQ 24.75 34.625 20.71875 30.859375 \r\nQ 16.703125 27.09375 16.703125 20.515625 \r\nQ 16.703125 13.921875 20.71875 10.15625 \r\nQ 24.75 6.390625 31.78125 6.390625 \r\nQ 38.8125 6.390625 42.859375 10.171875 \r\nQ 46.921875 13.96875 46.921875 20.515625 \r\nQ 46.921875 27.09375 42.890625 30.859375 \r\nQ 38.875 34.625 31.78125 34.625 \r\nz\r\nM 21.921875 38.8125 \r\nQ 15.578125 40.375 12.03125 44.71875 \r\nQ 8.5 49.078125 8.5 55.328125 \r\nQ 8.5 64.0625 14.71875 69.140625 \r\nQ 20.953125 74.21875 31.78125 74.21875 \r\nQ 42.671875 74.21875 48.875 69.140625 \r\nQ 55.078125 64.0625 55.078125 55.328125 \r\nQ 55.078125 49.078125 51.53125 44.71875 \r\nQ 48 40.375 41.703125 38.8125 \r\nQ 48.828125 37.15625 52.796875 32.3125 \r\nQ 56.78125 27.484375 56.78125 20.515625 \r\nQ 56.78125 9.90625 50.3125 4.234375 \r\nQ 43.84375 -1.421875 31.78125 -1.421875 \r\nQ 19.734375 -1.421875 13.25 4.234375 \r\nQ 6.78125 9.90625 6.78125 20.515625 \r\nQ 6.78125 27.484375 10.78125 32.3125 \r\nQ 14.796875 37.15625 21.921875 38.8125 \r\nz\r\nM 18.3125 54.390625 \r\nQ 18.3125 48.734375 21.84375 45.5625 \r\nQ 25.390625 42.390625 31.78125 42.390625 \r\nQ 38.140625 42.390625 41.71875 45.5625 \r\nQ 45.3125 48.734375 45.3125 54.390625 \r\nQ 45.3125 60.0625 41.71875 63.234375 \r\nQ 38.140625 66.40625 31.78125 66.40625 \r\nQ 25.390625 66.40625 21.84375 63.234375 \r\nQ 18.3125 60.0625 18.3125 54.390625 \r\nz\r\n\" id=\"DejaVuSans-56\"/>\r\n       </defs>\r\n       <use xlink:href=\"#DejaVuSans-48\"/>\r\n       <use x=\"63.623047\" xlink:href=\"#DejaVuSans-46\"/>\r\n       <use x=\"95.410156\" xlink:href=\"#DejaVuSans-56\"/>\r\n      </g>\r\n     </g>\r\n    </g>\r\n    <g id=\"ytick_6\">\r\n     <g id=\"line2d_13\">\r\n      <g>\r\n       <use style=\"stroke:#000000;stroke-width:0.8;\" x=\"49.588125\" xlink:href=\"#m3322a75d4c\" y=\"68.3608\"/>\r\n      </g>\r\n     </g>\r\n     <g id=\"text_14\">\r\n      <!-- 1.0 -->\r\n      <g transform=\"translate(26.685 72.160019)scale(0.1 -0.1)\">\r\n       <use xlink:href=\"#DejaVuSans-49\"/>\r\n       <use x=\"63.623047\" xlink:href=\"#DejaVuSans-46\"/>\r\n       <use x=\"95.410156\" xlink:href=\"#DejaVuSans-48\"/>\r\n      </g>\r\n     </g>\r\n    </g>\r\n    <g id=\"ytick_7\">\r\n     <g id=\"line2d_14\">\r\n      <g>\r\n       <use style=\"stroke:#000000;stroke-width:0.8;\" x=\"49.588125\" xlink:href=\"#m3322a75d4c\" y=\"33.169523\"/>\r\n      </g>\r\n     </g>\r\n     <g id=\"text_15\">\r\n      <!-- 1.2 -->\r\n      <g transform=\"translate(26.685 36.968742)scale(0.1 -0.1)\">\r\n       <use xlink:href=\"#DejaVuSans-49\"/>\r\n       <use x=\"63.623047\" xlink:href=\"#DejaVuSans-46\"/>\r\n       <use x=\"95.410156\" xlink:href=\"#DejaVuSans-50\"/>\r\n      </g>\r\n     </g>\r\n    </g>\r\n    <g id=\"text_16\">\r\n     <!-- Frequency -->\r\n     <g transform=\"translate(19.3575 176.924688)rotate(-90)scale(0.16 -0.16)\">\r\n      <defs>\r\n       <path d=\"M 9.8125 72.90625 \r\nL 51.703125 72.90625 \r\nL 51.703125 64.59375 \r\nL 19.671875 64.59375 \r\nL 19.671875 43.109375 \r\nL 48.578125 43.109375 \r\nL 48.578125 34.8125 \r\nL 19.671875 34.8125 \r\nL 19.671875 0 \r\nL 9.8125 0 \r\nz\r\n\" id=\"DejaVuSans-70\"/>\r\n       <path d=\"M 14.796875 27.296875 \r\nQ 14.796875 17.390625 18.875 11.75 \r\nQ 22.953125 6.109375 30.078125 6.109375 \r\nQ 37.203125 6.109375 41.296875 11.75 \r\nQ 45.40625 17.390625 45.40625 27.296875 \r\nQ 45.40625 37.203125 41.296875 42.84375 \r\nQ 37.203125 48.484375 30.078125 48.484375 \r\nQ 22.953125 48.484375 18.875 42.84375 \r\nQ 14.796875 37.203125 14.796875 27.296875 \r\nz\r\nM 45.40625 8.203125 \r\nQ 42.578125 3.328125 38.25 0.953125 \r\nQ 33.9375 -1.421875 27.875 -1.421875 \r\nQ 17.96875 -1.421875 11.734375 6.484375 \r\nQ 5.515625 14.40625 5.515625 27.296875 \r\nQ 5.515625 40.1875 11.734375 48.09375 \r\nQ 17.96875 56 27.875 56 \r\nQ 33.9375 56 38.25 53.625 \r\nQ 42.578125 51.265625 45.40625 46.390625 \r\nL 45.40625 54.6875 \r\nL 54.390625 54.6875 \r\nL 54.390625 -20.796875 \r\nL 45.40625 -20.796875 \r\nz\r\n\" id=\"DejaVuSans-113\"/>\r\n       <path d=\"M 8.5 21.578125 \r\nL 8.5 54.6875 \r\nL 17.484375 54.6875 \r\nL 17.484375 21.921875 \r\nQ 17.484375 14.15625 20.5 10.265625 \r\nQ 23.53125 6.390625 29.59375 6.390625 \r\nQ 36.859375 6.390625 41.078125 11.03125 \r\nQ 45.3125 15.671875 45.3125 23.6875 \r\nL 45.3125 54.6875 \r\nL 54.296875 54.6875 \r\nL 54.296875 0 \r\nL 45.3125 0 \r\nL 45.3125 8.40625 \r\nQ 42.046875 3.421875 37.71875 1 \r\nQ 33.40625 -1.421875 27.6875 -1.421875 \r\nQ 18.265625 -1.421875 13.375 4.4375 \r\nQ 8.5 10.296875 8.5 21.578125 \r\nz\r\nM 31.109375 56 \r\nz\r\n\" id=\"DejaVuSans-117\"/>\r\n       <path d=\"M 54.890625 33.015625 \r\nL 54.890625 0 \r\nL 45.90625 0 \r\nL 45.90625 32.71875 \r\nQ 45.90625 40.484375 42.875 44.328125 \r\nQ 39.84375 48.1875 33.796875 48.1875 \r\nQ 26.515625 48.1875 22.3125 43.546875 \r\nQ 18.109375 38.921875 18.109375 30.90625 \r\nL 18.109375 0 \r\nL 9.078125 0 \r\nL 9.078125 54.6875 \r\nL 18.109375 54.6875 \r\nL 18.109375 46.1875 \r\nQ 21.34375 51.125 25.703125 53.5625 \r\nQ 30.078125 56 35.796875 56 \r\nQ 45.21875 56 50.046875 50.171875 \r\nQ 54.890625 44.34375 54.890625 33.015625 \r\nz\r\n\" id=\"DejaVuSans-110\"/>\r\n       <path d=\"M 48.78125 52.59375 \r\nL 48.78125 44.1875 \r\nQ 44.96875 46.296875 41.140625 47.34375 \r\nQ 37.3125 48.390625 33.40625 48.390625 \r\nQ 24.65625 48.390625 19.8125 42.84375 \r\nQ 14.984375 37.3125 14.984375 27.296875 \r\nQ 14.984375 17.28125 19.8125 11.734375 \r\nQ 24.65625 6.203125 33.40625 6.203125 \r\nQ 37.3125 6.203125 41.140625 7.25 \r\nQ 44.96875 8.296875 48.78125 10.40625 \r\nL 48.78125 2.09375 \r\nQ 45.015625 0.34375 40.984375 -0.53125 \r\nQ 36.96875 -1.421875 32.421875 -1.421875 \r\nQ 20.0625 -1.421875 12.78125 6.34375 \r\nQ 5.515625 14.109375 5.515625 27.296875 \r\nQ 5.515625 40.671875 12.859375 48.328125 \r\nQ 20.21875 56 33.015625 56 \r\nQ 37.15625 56 41.109375 55.140625 \r\nQ 45.0625 54.296875 48.78125 52.59375 \r\nz\r\n\" id=\"DejaVuSans-99\"/>\r\n      </defs>\r\n      <use xlink:href=\"#DejaVuSans-70\"/>\r\n      <use x=\"50.269531\" xlink:href=\"#DejaVuSans-114\"/>\r\n      <use x=\"89.132812\" xlink:href=\"#DejaVuSans-101\"/>\r\n      <use x=\"150.65625\" xlink:href=\"#DejaVuSans-113\"/>\r\n      <use x=\"214.132812\" xlink:href=\"#DejaVuSans-117\"/>\r\n      <use x=\"277.511719\" xlink:href=\"#DejaVuSans-101\"/>\r\n      <use x=\"339.035156\" xlink:href=\"#DejaVuSans-110\"/>\r\n      <use x=\"402.414062\" xlink:href=\"#DejaVuSans-99\"/>\r\n      <use x=\"457.394531\" xlink:href=\"#DejaVuSans-121\"/>\r\n     </g>\r\n    </g>\r\n   </g>\r\n   <g id=\"line2d_15\">\r\n    <path clip-path=\"url(#p937679f3ab)\" d=\"M 64.806307 244.201915 \r\nL 67.865238 243.868273 \r\nL 69.394703 243.50871 \r\nL 70.924169 242.947267 \r\nL 72.453634 242.13322 \r\nL 73.9831 241.041367 \r\nL 75.512565 239.694257 \r\nL 80.100962 235.304627 \r\nL 81.630427 234.350784 \r\nL 83.159893 233.947811 \r\nL 84.689358 234.166574 \r\nL 86.218824 234.968229 \r\nL 87.748289 236.215321 \r\nL 92.336686 240.641967 \r\nL 93.866151 241.789769 \r\nL 95.395617 242.632057 \r\nL 96.925083 243.157815 \r\nL 98.454548 243.37508 \r\nL 99.984014 243.288901 \r\nL 101.513479 242.890186 \r\nL 103.042945 242.159431 \r\nL 104.57241 241.08461 \r\nL 106.101876 239.687671 \r\nL 110.690272 234.718999 \r\nL 112.219738 233.471895 \r\nL 113.749203 232.783509 \r\nL 115.278669 232.769235 \r\nL 116.808134 233.424073 \r\nL 118.3376 234.622541 \r\nL 122.925996 239.262047 \r\nL 124.455462 240.471679 \r\nL 125.984927 241.327654 \r\nL 127.514393 241.82458 \r\nL 129.043858 241.996839 \r\nL 130.573324 241.886591 \r\nL 132.102789 241.519039 \r\nL 133.632255 240.893225 \r\nL 135.16172 239.991804 \r\nL 136.691186 238.807143 \r\nL 139.750117 235.797868 \r\nL 141.279582 234.254823 \r\nL 142.809048 232.971195 \r\nL 144.338513 232.170553 \r\nL 145.867979 232.013807 \r\nL 147.397444 232.551464 \r\nL 148.92691 233.7071 \r\nL 150.456375 235.297984 \r\nL 153.515306 238.820005 \r\nL 155.044772 240.304233 \r\nL 156.574237 241.385844 \r\nL 158.103703 241.953549 \r\nL 159.633168 241.901126 \r\nL 161.162634 241.091348 \r\nL 162.692099 239.336782 \r\nL 164.221565 236.414373 \r\nL 165.75103 232.123307 \r\nL 167.280496 226.381933 \r\nL 168.809961 219.340273 \r\nL 171.868892 203.555375 \r\nL 173.398358 196.633528 \r\nL 174.927823 191.751059 \r\nL 176.457289 189.726592 \r\nL 177.986755 190.923108 \r\nL 179.51622 195.141709 \r\nL 181.045686 201.675207 \r\nL 185.634082 224.864877 \r\nL 187.163548 230.874946 \r\nL 188.693013 235.257208 \r\nL 190.222479 237.923745 \r\nL 191.751944 238.876481 \r\nL 193.28141 238.092207 \r\nL 194.810875 235.468137 \r\nL 196.340341 230.851338 \r\nL 197.869806 224.149031 \r\nL 199.399272 215.48802 \r\nL 203.987668 184.83886 \r\nL 205.517134 177.179167 \r\nL 207.046599 172.985211 \r\nL 208.576065 172.985816 \r\nL 210.10553 177.183146 \r\nL 211.634996 184.851209 \r\nL 213.164461 194.739311 \r\nL 216.223392 215.523104 \r\nL 217.752858 224.157783 \r\nL 219.282323 230.787128 \r\nL 220.811789 235.252387 \r\nL 222.341254 237.597313 \r\nL 223.87072 237.904415 \r\nL 225.400185 236.186467 \r\nL 226.929651 232.369637 \r\nL 228.459116 226.373761 \r\nL 229.988582 218.264078 \r\nL 231.518047 208.41983 \r\nL 234.576978 187.159421 \r\nL 236.106444 178.411201 \r\nL 237.635909 172.77929 \r\nL 239.165375 171.217257 \r\nL 240.69484 173.987899 \r\nL 242.224306 180.583932 \r\nL 243.753771 189.868567 \r\nL 246.812702 210.697967 \r\nL 248.342168 219.713936 \r\nL 249.871633 226.789795 \r\nL 251.401099 231.73099 \r\nL 252.930564 234.655589 \r\nL 254.46003 235.817288 \r\nL 255.989495 235.451513 \r\nL 257.518961 233.690908 \r\nL 259.048427 230.569157 \r\nL 260.577892 226.104624 \r\nL 262.107358 220.429742 \r\nL 266.695754 201.20907 \r\nL 268.22522 196.863168 \r\nL 269.754685 194.948095 \r\nL 271.284151 195.847028 \r\nL 272.813616 199.432303 \r\nL 274.343082 205.09711 \r\nL 278.931478 225.245167 \r\nL 280.460944 230.347259 \r\nL 281.990409 233.990109 \r\nL 283.519875 236.187343 \r\nL 285.04934 237.08363 \r\nL 286.578806 236.834842 \r\nL 288.108271 235.527705 \r\nL 289.637737 233.162723 \r\nL 291.167202 229.703736 \r\nL 292.696668 225.175683 \r\nL 294.226133 219.771906 \r\nL 297.285064 208.268455 \r\nL 298.81453 203.559363 \r\nL 300.343995 200.443888 \r\nL 301.873461 199.273356 \r\nL 303.402926 199.962084 \r\nL 304.932392 201.973494 \r\nL 306.461857 204.442869 \r\nL 307.991323 206.400244 \r\nL 309.520788 207.025359 \r\nL 311.050254 205.861568 \r\nL 312.579719 202.931769 \r\nL 314.109185 198.725864 \r\nL 315.63865 194.059204 \r\nL 317.168116 189.834155 \r\nL 318.697581 186.769879 \r\nL 320.227047 185.18794 \r\nL 321.756512 184.936283 \r\nL 323.285978 185.491333 \r\nL 324.815443 186.207152 \r\nL 326.344909 186.612297 \r\nL 329.40384 186.591978 \r\nL 330.933305 187.116638 \r\nL 332.462771 188.767491 \r\nL 333.992236 191.771317 \r\nL 337.051167 200.137947 \r\nL 338.580633 203.574735 \r\nL 340.110099 205.041682 \r\nL 341.639564 203.80165 \r\nL 343.16903 199.74301 \r\nL 344.698495 193.483546 \r\nL 346.227961 186.278459 \r\nL 347.757426 179.744989 \r\nL 349.286892 175.469931 \r\nL 350.816357 174.610205 \r\nL 352.345823 177.609469 \r\nL 353.875288 184.120861 \r\nL 355.404754 193.153816 \r\nL 358.463685 213.494109 \r\nL 359.99315 222.478404 \r\nL 361.522616 229.758236 \r\nL 363.052081 235.185153 \r\nL 364.581547 238.927864 \r\nL 366.111012 241.324736 \r\nL 367.640478 242.753879 \r\nL 369.169943 243.54879 \r\nL 369.169943 243.54879 \r\n\" style=\"fill:none;stroke:#1f77b4;stroke-linecap:square;stroke-width:1.5;\"/>\r\n   </g>\r\n   <g id=\"patch_53\">\r\n    <path d=\"M 49.588125 244.317188 \r\nL 49.588125 26.877187 \r\n\" style=\"fill:none;stroke:#000000;stroke-linecap:square;stroke-linejoin:miter;stroke-width:0.8;\"/>\r\n   </g>\r\n   <g id=\"patch_54\">\r\n    <path d=\"M 384.388125 244.317188 \r\nL 384.388125 26.877187 \r\n\" style=\"fill:none;stroke:#000000;stroke-linecap:square;stroke-linejoin:miter;stroke-width:0.8;\"/>\r\n   </g>\r\n   <g id=\"patch_55\">\r\n    <path d=\"M 49.588125 244.317188 \r\nL 384.388125 244.317188 \r\n\" style=\"fill:none;stroke:#000000;stroke-linecap:square;stroke-linejoin:miter;stroke-width:0.8;\"/>\r\n   </g>\r\n   <g id=\"patch_56\">\r\n    <path d=\"M 49.588125 26.877187 \r\nL 384.388125 26.877187 \r\n\" style=\"fill:none;stroke:#000000;stroke-linecap:square;stroke-linejoin:miter;stroke-width:0.8;\"/>\r\n   </g>\r\n   <g id=\"text_17\">\r\n    <!-- Life Expectancy -->\r\n    <g transform=\"translate(145.670156 20.877187)scale(0.18 -0.18)\">\r\n     <defs>\r\n      <path d=\"M 18.3125 70.21875 \r\nL 18.3125 54.6875 \r\nL 36.8125 54.6875 \r\nL 36.8125 47.703125 \r\nL 18.3125 47.703125 \r\nL 18.3125 18.015625 \r\nQ 18.3125 11.328125 20.140625 9.421875 \r\nQ 21.96875 7.515625 27.59375 7.515625 \r\nL 36.8125 7.515625 \r\nL 36.8125 0 \r\nL 27.59375 0 \r\nQ 17.1875 0 13.234375 3.875 \r\nQ 9.28125 7.765625 9.28125 18.015625 \r\nL 9.28125 47.703125 \r\nL 2.6875 47.703125 \r\nL 2.6875 54.6875 \r\nL 9.28125 54.6875 \r\nL 9.28125 70.21875 \r\nz\r\n\" id=\"DejaVuSans-116\"/>\r\n     </defs>\r\n     <use xlink:href=\"#DejaVuSans-76\"/>\r\n     <use x=\"55.712891\" xlink:href=\"#DejaVuSans-105\"/>\r\n     <use x=\"83.496094\" xlink:href=\"#DejaVuSans-102\"/>\r\n     <use x=\"118.701172\" xlink:href=\"#DejaVuSans-101\"/>\r\n     <use x=\"180.224609\" xlink:href=\"#DejaVuSans-32\"/>\r\n     <use x=\"212.011719\" xlink:href=\"#DejaVuSans-69\"/>\r\n     <use x=\"275.195312\" xlink:href=\"#DejaVuSans-120\"/>\r\n     <use x=\"334.375\" xlink:href=\"#DejaVuSans-112\"/>\r\n     <use x=\"397.851562\" xlink:href=\"#DejaVuSans-101\"/>\r\n     <use x=\"459.375\" xlink:href=\"#DejaVuSans-99\"/>\r\n     <use x=\"514.355469\" xlink:href=\"#DejaVuSans-116\"/>\r\n     <use x=\"553.564453\" xlink:href=\"#DejaVuSans-97\"/>\r\n     <use x=\"614.84375\" xlink:href=\"#DejaVuSans-110\"/>\r\n     <use x=\"678.222656\" xlink:href=\"#DejaVuSans-99\"/>\r\n     <use x=\"733.203125\" xlink:href=\"#DejaVuSans-121\"/>\r\n    </g>\r\n   </g>\r\n  </g>\r\n </g>\r\n <defs>\r\n  <clipPath id=\"p937679f3ab\">\r\n   <rect height=\"217.44\" width=\"334.8\" x=\"49.588125\" y=\"26.877187\"/>\r\n  </clipPath>\r\n </defs>\r\n</svg>\r\n",
      "image/png": "[encoded data removed]"
     },
     "metadata": {
      "needs_background": "light"
     }
    }
   ],
   "source": [
    "df_rs_qty_gn_rcn['Memory'] = np.log(df_rs_qty_gn_rcn['Memory'])\n",
    "sns.distplot(df_rs_qty_gn_rcn['Memory'])\n",
    "plt.title('Life Expectancy', fontsize=18)\n",
    "plt.xlabel('Life Exp (years)', fontsize=16)\n",
    "plt.ylabel('Frequency', fontsize=16)"
   ]
  },
  {
   "cell_type": "code",
   "execution_count": 148,
   "metadata": {},
   "outputs": [
    {
     "output_type": "error",
     "ename": "KeyError",
     "evalue": "'vCPU'",
     "traceback": [
      "\u001b[1;31m---------------------------------------------------------------------------\u001b[0m",
      "\u001b[1;31mKeyError\u001b[0m                                  Traceback (most recent call last)",
      "\u001b[1;32m~\\AppData\\Local\\Programs\\Python\\Python37\\lib\\site-packages\\pandas\\core\\indexes\\base.py\u001b[0m in \u001b[0;36mget_loc\u001b[1;34m(self, key, method, tolerance)\u001b[0m\n\u001b[0;32m   3079\u001b[0m             \u001b[1;32mtry\u001b[0m\u001b[1;33m:\u001b[0m\u001b[1;33m\u001b[0m\u001b[1;33m\u001b[0m\u001b[0m\n\u001b[1;32m-> 3080\u001b[1;33m                 \u001b[1;32mreturn\u001b[0m \u001b[0mself\u001b[0m\u001b[1;33m.\u001b[0m\u001b[0m_engine\u001b[0m\u001b[1;33m.\u001b[0m\u001b[0mget_loc\u001b[0m\u001b[1;33m(\u001b[0m\u001b[0mcasted_key\u001b[0m\u001b[1;33m)\u001b[0m\u001b[1;33m\u001b[0m\u001b[1;33m\u001b[0m\u001b[0m\n\u001b[0m\u001b[0;32m   3081\u001b[0m             \u001b[1;32mexcept\u001b[0m \u001b[0mKeyError\u001b[0m \u001b[1;32mas\u001b[0m \u001b[0merr\u001b[0m\u001b[1;33m:\u001b[0m\u001b[1;33m\u001b[0m\u001b[1;33m\u001b[0m\u001b[0m\n",
      "\u001b[1;32mpandas\\_libs\\index.pyx\u001b[0m in \u001b[0;36mpandas._libs.index.IndexEngine.get_loc\u001b[1;34m()\u001b[0m\n",
      "\u001b[1;32mpandas\\_libs\\index.pyx\u001b[0m in \u001b[0;36mpandas._libs.index.IndexEngine.get_loc\u001b[1;34m()\u001b[0m\n",
      "\u001b[1;32mpandas\\_libs\\hashtable_class_helper.pxi\u001b[0m in \u001b[0;36mpandas._libs.hashtable.PyObjectHashTable.get_item\u001b[1;34m()\u001b[0m\n",
      "\u001b[1;32mpandas\\_libs\\hashtable_class_helper.pxi\u001b[0m in \u001b[0;36mpandas._libs.hashtable.PyObjectHashTable.get_item\u001b[1;34m()\u001b[0m\n",
      "\u001b[1;31mKeyError\u001b[0m: 'vCPU'",
      "\nThe above exception was the direct cause of the following exception:\n",
      "\u001b[1;31mKeyError\u001b[0m                                  Traceback (most recent call last)",
      "\u001b[1;32m<ipython-input-148-ca74ce523760>\u001b[0m in \u001b[0;36m<module>\u001b[1;34m\u001b[0m\n\u001b[1;32m----> 1\u001b[1;33m \u001b[0msns\u001b[0m\u001b[1;33m.\u001b[0m\u001b[0mdistplot\u001b[0m\u001b[1;33m(\u001b[0m\u001b[0mdf_rs_qty_gn_rcn\u001b[0m\u001b[1;33m[\u001b[0m\u001b[1;34m'vCPU'\u001b[0m\u001b[1;33m]\u001b[0m\u001b[1;33m)\u001b[0m\u001b[1;33m\u001b[0m\u001b[1;33m\u001b[0m\u001b[0m\n\u001b[0m\u001b[0;32m      2\u001b[0m \u001b[0mplt\u001b[0m\u001b[1;33m.\u001b[0m\u001b[0mtitle\u001b[0m\u001b[1;33m(\u001b[0m\u001b[1;34m'Life Expectancy'\u001b[0m\u001b[1;33m,\u001b[0m \u001b[0mfontsize\u001b[0m\u001b[1;33m=\u001b[0m\u001b[1;36m18\u001b[0m\u001b[1;33m)\u001b[0m\u001b[1;33m\u001b[0m\u001b[1;33m\u001b[0m\u001b[0m\n\u001b[0;32m      3\u001b[0m \u001b[0mplt\u001b[0m\u001b[1;33m.\u001b[0m\u001b[0mxlabel\u001b[0m\u001b[1;33m(\u001b[0m\u001b[1;34m'Life Exp (years)'\u001b[0m\u001b[1;33m,\u001b[0m \u001b[0mfontsize\u001b[0m\u001b[1;33m=\u001b[0m\u001b[1;36m16\u001b[0m\u001b[1;33m)\u001b[0m\u001b[1;33m\u001b[0m\u001b[1;33m\u001b[0m\u001b[0m\n\u001b[0;32m      4\u001b[0m \u001b[0mplt\u001b[0m\u001b[1;33m.\u001b[0m\u001b[0mylabel\u001b[0m\u001b[1;33m(\u001b[0m\u001b[1;34m'Frequency'\u001b[0m\u001b[1;33m,\u001b[0m \u001b[0mfontsize\u001b[0m\u001b[1;33m=\u001b[0m\u001b[1;36m16\u001b[0m\u001b[1;33m)\u001b[0m\u001b[1;33m\u001b[0m\u001b[1;33m\u001b[0m\u001b[0m\n",
      "\u001b[1;32m~\\AppData\\Local\\Programs\\Python\\Python37\\lib\\site-packages\\pandas\\core\\frame.py\u001b[0m in \u001b[0;36m__getitem__\u001b[1;34m(self, key)\u001b[0m\n\u001b[0;32m   3022\u001b[0m             \u001b[1;32mif\u001b[0m \u001b[0mself\u001b[0m\u001b[1;33m.\u001b[0m\u001b[0mcolumns\u001b[0m\u001b[1;33m.\u001b[0m\u001b[0mnlevels\u001b[0m \u001b[1;33m>\u001b[0m \u001b[1;36m1\u001b[0m\u001b[1;33m:\u001b[0m\u001b[1;33m\u001b[0m\u001b[1;33m\u001b[0m\u001b[0m\n\u001b[0;32m   3023\u001b[0m                 \u001b[1;32mreturn\u001b[0m \u001b[0mself\u001b[0m\u001b[1;33m.\u001b[0m\u001b[0m_getitem_multilevel\u001b[0m\u001b[1;33m(\u001b[0m\u001b[0mkey\u001b[0m\u001b[1;33m)\u001b[0m\u001b[1;33m\u001b[0m\u001b[1;33m\u001b[0m\u001b[0m\n\u001b[1;32m-> 3024\u001b[1;33m             \u001b[0mindexer\u001b[0m \u001b[1;33m=\u001b[0m \u001b[0mself\u001b[0m\u001b[1;33m.\u001b[0m\u001b[0mcolumns\u001b[0m\u001b[1;33m.\u001b[0m\u001b[0mget_loc\u001b[0m\u001b[1;33m(\u001b[0m\u001b[0mkey\u001b[0m\u001b[1;33m)\u001b[0m\u001b[1;33m\u001b[0m\u001b[1;33m\u001b[0m\u001b[0m\n\u001b[0m\u001b[0;32m   3025\u001b[0m             \u001b[1;32mif\u001b[0m \u001b[0mis_integer\u001b[0m\u001b[1;33m(\u001b[0m\u001b[0mindexer\u001b[0m\u001b[1;33m)\u001b[0m\u001b[1;33m:\u001b[0m\u001b[1;33m\u001b[0m\u001b[1;33m\u001b[0m\u001b[0m\n\u001b[0;32m   3026\u001b[0m                 \u001b[0mindexer\u001b[0m \u001b[1;33m=\u001b[0m \u001b[1;33m[\u001b[0m\u001b[0mindexer\u001b[0m\u001b[1;33m]\u001b[0m\u001b[1;33m\u001b[0m\u001b[1;33m\u001b[0m\u001b[0m\n",
      "\u001b[1;32m~\\AppData\\Local\\Programs\\Python\\Python37\\lib\\site-packages\\pandas\\core\\indexes\\base.py\u001b[0m in \u001b[0;36mget_loc\u001b[1;34m(self, key, method, tolerance)\u001b[0m\n\u001b[0;32m   3080\u001b[0m                 \u001b[1;32mreturn\u001b[0m \u001b[0mself\u001b[0m\u001b[1;33m.\u001b[0m\u001b[0m_engine\u001b[0m\u001b[1;33m.\u001b[0m\u001b[0mget_loc\u001b[0m\u001b[1;33m(\u001b[0m\u001b[0mcasted_key\u001b[0m\u001b[1;33m)\u001b[0m\u001b[1;33m\u001b[0m\u001b[1;33m\u001b[0m\u001b[0m\n\u001b[0;32m   3081\u001b[0m             \u001b[1;32mexcept\u001b[0m \u001b[0mKeyError\u001b[0m \u001b[1;32mas\u001b[0m \u001b[0merr\u001b[0m\u001b[1;33m:\u001b[0m\u001b[1;33m\u001b[0m\u001b[1;33m\u001b[0m\u001b[0m\n\u001b[1;32m-> 3082\u001b[1;33m                 \u001b[1;32mraise\u001b[0m \u001b[0mKeyError\u001b[0m\u001b[1;33m(\u001b[0m\u001b[0mkey\u001b[0m\u001b[1;33m)\u001b[0m \u001b[1;32mfrom\u001b[0m \u001b[0merr\u001b[0m\u001b[1;33m\u001b[0m\u001b[1;33m\u001b[0m\u001b[0m\n\u001b[0m\u001b[0;32m   3083\u001b[0m \u001b[1;33m\u001b[0m\u001b[0m\n\u001b[0;32m   3084\u001b[0m         \u001b[1;32mif\u001b[0m \u001b[0mtolerance\u001b[0m \u001b[1;32mis\u001b[0m \u001b[1;32mnot\u001b[0m \u001b[1;32mNone\u001b[0m\u001b[1;33m:\u001b[0m\u001b[1;33m\u001b[0m\u001b[1;33m\u001b[0m\u001b[0m\n",
      "\u001b[1;31mKeyError\u001b[0m: 'vCPU'"
     ]
    }
   ],
   "source": [
    "sns.distplot(df_rs_qty_gn_rcn['vCPU'])\n",
    "plt.title('Life Expectancy', fontsize=18)\n",
    "plt.xlabel('Life Exp (years)', fontsize=16)\n",
    "plt.ylabel('Frequency', fontsize=16)"
   ]
  },
  {
   "cell_type": "code",
   "execution_count": null,
   "metadata": {},
   "outputs": [],
   "source": []
  },
  {
   "cell_type": "code",
   "execution_count": 149,
   "metadata": {},
   "outputs": [
    {
     "output_type": "execute_result",
     "data": {
      "text/plain": [
       "LeaseContractLength      int64\n",
       "OfferingClass            int64\n",
       "Location                 int64\n",
       "Memory                 float64\n",
       "Network_Performance      int64\n",
       "Year                     int64\n",
       "log_price              float64\n",
       "dtype: object"
      ]
     },
     "metadata": {},
     "execution_count": 149
    }
   ],
   "source": [
    "df_rs_qty_gn_rcn.dtypes"
   ]
  },
  {
   "cell_type": "code",
   "execution_count": 80,
   "metadata": {},
   "outputs": [
    {
     "output_type": "execute_result",
     "data": {
      "text/plain": [
       "         LeaseContractLength  OfferingClass  Location  Memory  vCPU  \\\n",
       "4                          3              2         3       8   2.0   \n",
       "14                         3              1         5       8   2.0   \n",
       "27                         3              1         1     192  48.0   \n",
       "28                         1              1         6     384  96.0   \n",
       "73                         3              2         5     384  96.0   \n",
       "...                      ...            ...       ...     ...   ...   \n",
       "1897237                    1              2         4       8   2.0   \n",
       "1897243                    3              1         6       4   2.0   \n",
       "1897246                    1              2         5      64  16.0   \n",
       "1897247                    3              1         5      16   4.0   \n",
       "1897250                    3              2         1      16   4.0   \n",
       "\n",
       "         Network_Performance  Clock_Speed  Year  log_price  \n",
       "4                          5          2.4     2   8.849657  \n",
       "14                         4          3.3     1   7.614805  \n",
       "27                         9          4.5     4   9.944390  \n",
       "28                         5          2.5     4  10.605817  \n",
       "73                         8          3.1     3  11.652209  \n",
       "...                      ...          ...   ...        ...  \n",
       "1897237                    2          3.1     3   7.101676  \n",
       "1897243                    1          3.1     4   7.940940  \n",
       "1897246                    2          3.1     2  10.992302  \n",
       "1897247                    7          4.5     4   9.115040  \n",
       "1897250                    6          2.4     1   7.397562  \n",
       "\n",
       "[178499 rows x 9 columns]"
      ],
      "text/html": "<div>\n<style scoped>\n    .dataframe tbody tr th:only-of-type {\n        vertical-align: middle;\n    }\n\n    .dataframe tbody tr th {\n        vertical-align: top;\n    }\n\n    .dataframe thead th {\n        text-align: right;\n    }\n</style>\n<table border=\"1\" class=\"dataframe\">\n  <thead>\n    <tr style=\"text-align: right;\">\n      <th></th>\n      <th>LeaseContractLength</th>\n      <th>OfferingClass</th>\n      <th>Location</th>\n      <th>Memory</th>\n      <th>vCPU</th>\n      <th>Network_Performance</th>\n      <th>Clock_Speed</th>\n      <th>Year</th>\n      <th>log_price</th>\n    </tr>\n  </thead>\n  <tbody>\n    <tr>\n      <th>4</th>\n      <td>3</td>\n      <td>2</td>\n      <td>3</td>\n      <td>8</td>\n      <td>2.0</td>\n      <td>5</td>\n      <td>2.4</td>\n      <td>2</td>\n      <td>8.849657</td>\n    </tr>\n    <tr>\n      <th>14</th>\n      <td>3</td>\n      <td>1</td>\n      <td>5</td>\n      <td>8</td>\n      <td>2.0</td>\n      <td>4</td>\n      <td>3.3</td>\n      <td>1</td>\n      <td>7.614805</td>\n    </tr>\n    <tr>\n      <th>27</th>\n      <td>3</td>\n      <td>1</td>\n      <td>1</td>\n      <td>192</td>\n      <td>48.0</td>\n      <td>9</td>\n      <td>4.5</td>\n      <td>4</td>\n      <td>9.944390</td>\n    </tr>\n    <tr>\n      <th>28</th>\n      <td>1</td>\n      <td>1</td>\n      <td>6</td>\n      <td>384</td>\n      <td>96.0</td>\n      <td>5</td>\n      <td>2.5</td>\n      <td>4</td>\n      <td>10.605817</td>\n    </tr>\n    <tr>\n      <th>73</th>\n      <td>3</td>\n      <td>2</td>\n      <td>5</td>\n      <td>384</td>\n      <td>96.0</td>\n      <td>8</td>\n      <td>3.1</td>\n      <td>3</td>\n      <td>11.652209</td>\n    </tr>\n    <tr>\n      <th>...</th>\n      <td>...</td>\n      <td>...</td>\n      <td>...</td>\n      <td>...</td>\n      <td>...</td>\n      <td>...</td>\n      <td>...</td>\n      <td>...</td>\n      <td>...</td>\n    </tr>\n    <tr>\n      <th>1897237</th>\n      <td>1</td>\n      <td>2</td>\n      <td>4</td>\n      <td>8</td>\n      <td>2.0</td>\n      <td>2</td>\n      <td>3.1</td>\n      <td>3</td>\n      <td>7.101676</td>\n    </tr>\n    <tr>\n      <th>1897243</th>\n      <td>3</td>\n      <td>1</td>\n      <td>6</td>\n      <td>4</td>\n      <td>2.0</td>\n      <td>1</td>\n      <td>3.1</td>\n      <td>4</td>\n      <td>7.940940</td>\n    </tr>\n    <tr>\n      <th>1897246</th>\n      <td>1</td>\n      <td>2</td>\n      <td>5</td>\n      <td>64</td>\n      <td>16.0</td>\n      <td>2</td>\n      <td>3.1</td>\n      <td>2</td>\n      <td>10.992302</td>\n    </tr>\n    <tr>\n      <th>1897247</th>\n      <td>3</td>\n      <td>1</td>\n      <td>5</td>\n      <td>16</td>\n      <td>4.0</td>\n      <td>7</td>\n      <td>4.5</td>\n      <td>4</td>\n      <td>9.115040</td>\n    </tr>\n    <tr>\n      <th>1897250</th>\n      <td>3</td>\n      <td>2</td>\n      <td>1</td>\n      <td>16</td>\n      <td>4.0</td>\n      <td>6</td>\n      <td>2.4</td>\n      <td>1</td>\n      <td>7.397562</td>\n    </tr>\n  </tbody>\n</table>\n<p>178499 rows × 9 columns</p>\n</div>"
     },
     "metadata": {},
     "execution_count": 80
    }
   ],
   "source": [
    "df_rs_qty_gn_rcn = df_rs_qty_gn_rcn.drop(columns='PricePerUnit')\n",
    "df_rs_qty_gn_rcn"
   ]
  },
  {
   "cell_type": "code",
   "execution_count": 81,
   "metadata": {},
   "outputs": [
    {
     "output_type": "execute_result",
     "data": {
      "text/plain": [
       "<AxesSubplot:>"
      ]
     },
     "metadata": {},
     "execution_count": 81
    },
    {
     "output_type": "display_data",
     "data": {
      "text/plain": "<Figure size 432x288 with 2 Axes>",
      "image/svg+xml": "<?xml version=\"1.0\" encoding=\"utf-8\" standalone=\"no\"?>\r\n<!DOCTYPE svg PUBLIC \"-//W3C//DTD SVG 1.1//EN\"\r\n  \"http://www.w3.org/Graphics/SVG/1.1/DTD/svg11.dtd\">\r\n<!-- Created with matplotlib (https://matplotlib.org/) -->\r\n<svg height=\"352.756406pt\" version=\"1.1\" viewBox=\"0 0 458.252 352.756406\" width=\"458.252pt\" xmlns=\"http://www.w3.org/2000/svg\" xmlns:xlink=\"http://www.w3.org/1999/xlink\">\r\n <metadata>\r\n  <rdf:RDF xmlns:cc=\"http://creativecommons.org/ns#\" xmlns:dc=\"http://purl.org/dc/elements/1.1/\" xmlns:rdf=\"http://www.w3.org/1999/02/22-rdf-syntax-ns#\">\r\n   <cc:Work>\r\n    <dc:type rdf:resource=\"http://purl.org/dc/dcmitype/StillImage\"/>\r\n    <dc:date>2021-03-11T10:17:59.628204</dc:date>\r\n    <dc:format>image/svg+xml</dc:format>\r\n    <dc:creator>\r\n     <cc:Agent>\r\n      <dc:title>Matplotlib v3.3.4, https://matplotlib.org/</dc:title>\r\n     </cc:Agent>\r\n    </dc:creator>\r\n   </cc:Work>\r\n  </rdf:RDF>\r\n </metadata>\r\n <defs>\r\n  <style type=\"text/css\">*{stroke-linecap:butt;stroke-linejoin:round;}</style>\r\n </defs>\r\n <g id=\"figure_1\">\r\n  <g id=\"patch_1\">\r\n   <path d=\"M 0 352.756406 \r\nL 458.252 352.756406 \r\nL 458.252 0 \r\nL 0 0 \r\nz\r\n\" style=\"fill:none;\"/>\r\n  </g>\r\n  <g id=\"axes_1\">\r\n   <g id=\"patch_2\">\r\n    <path d=\"M 124.317187 228.439219 \r\nL 392.157188 228.439219 \r\nL 392.157188 10.999219 \r\nL 124.317187 10.999219 \r\nz\r\n\" style=\"fill:#ffffff;\"/>\r\n   </g>\r\n   <g id=\"QuadMesh_1\">\r\n    <path clip-path=\"url(#pf3d9f6b9c7)\" d=\"M 124.317187 10.999219 \r\nL 154.077187 10.999219 \r\nL 154.077187 35.159219 \r\nL 124.317187 35.159219 \r\nL 124.317187 10.999219 \r\n\" style=\"fill:#da3b46;\"/>\r\n    <path clip-path=\"url(#pf3d9f6b9c7)\" d=\"M 154.077187 10.999219 \r\nL 183.837187 10.999219 \r\nL 183.837187 35.159219 \r\nL 154.077187 35.159219 \r\nL 154.077187 10.999219 \r\n\" style=\"fill:#b2cad2;\"/>\r\n    <path clip-path=\"url(#pf3d9f6b9c7)\" d=\"M 183.837187 10.999219 \r\nL 213.597187 10.999219 \r\nL 213.597187 35.159219 \r\nL 183.837187 35.159219 \r\nL 183.837187 10.999219 \r\n\" style=\"fill:#b5ccd3;\"/>\r\n    <path clip-path=\"url(#pf3d9f6b9c7)\" d=\"M 213.597187 10.999219 \r\nL 243.357188 10.999219 \r\nL 243.357188 35.159219 \r\nL 213.597187 35.159219 \r\nL 213.597187 10.999219 \r\n\" style=\"fill:#b5ccd3;\"/>\r\n    <path clip-path=\"url(#pf3d9f6b9c7)\" d=\"M 243.357188 10.999219 \r\nL 273.117188 10.999219 \r\nL 273.117188 35.159219 \r\nL 243.357188 35.159219 \r\nL 243.357188 10.999219 \r\n\" style=\"fill:#b5ccd3;\"/>\r\n    <path clip-path=\"url(#pf3d9f6b9c7)\" d=\"M 273.117188 10.999219 \r\nL 302.877187 10.999219 \r\nL 302.877187 35.159219 \r\nL 273.117188 35.159219 \r\nL 273.117188 10.999219 \r\n\" style=\"fill:#b4cbd2;\"/>\r\n    <path clip-path=\"url(#pf3d9f6b9c7)\" d=\"M 302.877187 10.999219 \r\nL 332.637187 10.999219 \r\nL 332.637187 35.159219 \r\nL 302.877187 35.159219 \r\nL 302.877187 10.999219 \r\n\" style=\"fill:#b7cdd4;\"/>\r\n    <path clip-path=\"url(#pf3d9f6b9c7)\" d=\"M 332.637187 10.999219 \r\nL 362.397187 10.999219 \r\nL 362.397187 35.159219 \r\nL 332.637187 35.159219 \r\nL 332.637187 10.999219 \r\n\" style=\"fill:#b8ced5;\"/>\r\n    <path clip-path=\"url(#pf3d9f6b9c7)\" d=\"M 362.397187 10.999219 \r\nL 392.157188 10.999219 \r\nL 392.157188 35.159219 \r\nL 362.397187 35.159219 \r\nL 362.397187 10.999219 \r\n\" style=\"fill:#ebeff0;\"/>\r\n    <path clip-path=\"url(#pf3d9f6b9c7)\" d=\"M 124.317187 35.159219 \r\nL 154.077187 35.159219 \r\nL 154.077187 59.319219 \r\nL 124.317187 59.319219 \r\nL 124.317187 35.159219 \r\n\" style=\"fill:#b2cad2;\"/>\r\n    <path clip-path=\"url(#pf3d9f6b9c7)\" d=\"M 154.077187 35.159219 \r\nL 183.837187 35.159219 \r\nL 183.837187 59.319219 \r\nL 154.077187 59.319219 \r\nL 154.077187 35.159219 \r\n\" style=\"fill:#da3b46;\"/>\r\n    <path clip-path=\"url(#pf3d9f6b9c7)\" d=\"M 183.837187 35.159219 \r\nL 213.597187 35.159219 \r\nL 213.597187 59.319219 \r\nL 183.837187 59.319219 \r\nL 183.837187 35.159219 \r\n\" style=\"fill:#b2cad2;\"/>\r\n    <path clip-path=\"url(#pf3d9f6b9c7)\" d=\"M 213.597187 35.159219 \r\nL 243.357188 35.159219 \r\nL 243.357188 59.319219 \r\nL 213.597187 59.319219 \r\nL 213.597187 35.159219 \r\n\" style=\"fill:#b2cad2;\"/>\r\n    <path clip-path=\"url(#pf3d9f6b9c7)\" d=\"M 243.357188 35.159219 \r\nL 273.117188 35.159219 \r\nL 273.117188 59.319219 \r\nL 243.357188 59.319219 \r\nL 243.357188 35.159219 \r\n\" style=\"fill:#b2cad2;\"/>\r\n    <path clip-path=\"url(#pf3d9f6b9c7)\" d=\"M 273.117188 35.159219 \r\nL 302.877187 35.159219 \r\nL 302.877187 59.319219 \r\nL 273.117188 59.319219 \r\nL 273.117188 35.159219 \r\n\" style=\"fill:#b5ccd3;\"/>\r\n    <path clip-path=\"url(#pf3d9f6b9c7)\" d=\"M 302.877187 35.159219 \r\nL 332.637187 35.159219 \r\nL 332.637187 59.319219 \r\nL 302.877187 59.319219 \r\nL 302.877187 35.159219 \r\n\" style=\"fill:#b2cad2;\"/>\r\n    <path clip-path=\"url(#pf3d9f6b9c7)\" d=\"M 332.637187 35.159219 \r\nL 362.397187 35.159219 \r\nL 362.397187 59.319219 \r\nL 332.637187 59.319219 \r\nL 332.637187 35.159219 \r\n\" style=\"fill:#3f7f93;\"/>\r\n    <path clip-path=\"url(#pf3d9f6b9c7)\" d=\"M 362.397187 35.159219 \r\nL 392.157188 35.159219 \r\nL 392.157188 59.319219 \r\nL 362.397187 59.319219 \r\nL 362.397187 35.159219 \r\n\" style=\"fill:#b9cfd5;\"/>\r\n    <path clip-path=\"url(#pf3d9f6b9c7)\" d=\"M 124.317187 59.319219 \r\nL 154.077187 59.319219 \r\nL 154.077187 83.479219 \r\nL 124.317187 83.479219 \r\nL 124.317187 59.319219 \r\n\" style=\"fill:#b5ccd3;\"/>\r\n    <path clip-path=\"url(#pf3d9f6b9c7)\" d=\"M 154.077187 59.319219 \r\nL 183.837187 59.319219 \r\nL 183.837187 83.479219 \r\nL 154.077187 83.479219 \r\nL 154.077187 59.319219 \r\n\" style=\"fill:#b2cad2;\"/>\r\n    <path clip-path=\"url(#pf3d9f6b9c7)\" d=\"M 183.837187 59.319219 \r\nL 213.597187 59.319219 \r\nL 213.597187 83.479219 \r\nL 183.837187 83.479219 \r\nL 183.837187 59.319219 \r\n\" style=\"fill:#da3b46;\"/>\r\n    <path clip-path=\"url(#pf3d9f6b9c7)\" d=\"M 213.597187 59.319219 \r\nL 243.357188 59.319219 \r\nL 243.357188 83.479219 \r\nL 213.597187 83.479219 \r\nL 213.597187 59.319219 \r\n\" style=\"fill:#bcd0d7;\"/>\r\n    <path clip-path=\"url(#pf3d9f6b9c7)\" d=\"M 243.357188 59.319219 \r\nL 273.117188 59.319219 \r\nL 273.117188 83.479219 \r\nL 243.357188 83.479219 \r\nL 243.357188 59.319219 \r\n\" style=\"fill:#bcd0d7;\"/>\r\n    <path clip-path=\"url(#pf3d9f6b9c7)\" d=\"M 273.117188 59.319219 \r\nL 302.877187 59.319219 \r\nL 302.877187 83.479219 \r\nL 273.117188 83.479219 \r\nL 273.117188 59.319219 \r\n\" style=\"fill:#a9c4cc;\"/>\r\n    <path clip-path=\"url(#pf3d9f6b9c7)\" d=\"M 302.877187 59.319219 \r\nL 332.637187 59.319219 \r\nL 332.637187 83.479219 \r\nL 302.877187 83.479219 \r\nL 302.877187 59.319219 \r\n\" style=\"fill:#b2cad2;\"/>\r\n    <path clip-path=\"url(#pf3d9f6b9c7)\" d=\"M 332.637187 59.319219 \r\nL 362.397187 59.319219 \r\nL 362.397187 83.479219 \r\nL 332.637187 83.479219 \r\nL 332.637187 59.319219 \r\n\" style=\"fill:#c6d7dc;\"/>\r\n    <path clip-path=\"url(#pf3d9f6b9c7)\" d=\"M 362.397187 59.319219 \r\nL 392.157188 59.319219 \r\nL 392.157188 83.479219 \r\nL 362.397187 83.479219 \r\nL 362.397187 59.319219 \r\n\" style=\"fill:#bdd1d8;\"/>\r\n    <path clip-path=\"url(#pf3d9f6b9c7)\" d=\"M 124.317187 83.479219 \r\nL 154.077187 83.479219 \r\nL 154.077187 107.639219 \r\nL 124.317187 107.639219 \r\nL 124.317187 83.479219 \r\n\" style=\"fill:#b5ccd3;\"/>\r\n    <path clip-path=\"url(#pf3d9f6b9c7)\" d=\"M 154.077187 83.479219 \r\nL 183.837187 83.479219 \r\nL 183.837187 107.639219 \r\nL 154.077187 107.639219 \r\nL 154.077187 83.479219 \r\n\" style=\"fill:#b2cad2;\"/>\r\n    <path clip-path=\"url(#pf3d9f6b9c7)\" d=\"M 183.837187 83.479219 \r\nL 213.597187 83.479219 \r\nL 213.597187 107.639219 \r\nL 183.837187 107.639219 \r\nL 183.837187 83.479219 \r\n\" style=\"fill:#bcd0d7;\"/>\r\n    <path clip-path=\"url(#pf3d9f6b9c7)\" d=\"M 213.597187 83.479219 \r\nL 243.357188 83.479219 \r\nL 243.357188 107.639219 \r\nL 213.597187 107.639219 \r\nL 213.597187 83.479219 \r\n\" style=\"fill:#da3b46;\"/>\r\n    <path clip-path=\"url(#pf3d9f6b9c7)\" d=\"M 243.357188 83.479219 \r\nL 273.117188 83.479219 \r\nL 273.117188 107.639219 \r\nL 243.357188 107.639219 \r\nL 243.357188 83.479219 \r\n\" style=\"fill:#da3b46;\"/>\r\n    <path clip-path=\"url(#pf3d9f6b9c7)\" d=\"M 273.117188 83.479219 \r\nL 302.877187 83.479219 \r\nL 302.877187 107.639219 \r\nL 273.117188 107.639219 \r\nL 273.117188 83.479219 \r\n\" style=\"fill:#e79ca2;\"/>\r\n    <path clip-path=\"url(#pf3d9f6b9c7)\" d=\"M 302.877187 83.479219 \r\nL 332.637187 83.479219 \r\nL 332.637187 107.639219 \r\nL 302.877187 107.639219 \r\nL 302.877187 83.479219 \r\n\" style=\"fill:#b9cfd5;\"/>\r\n    <path clip-path=\"url(#pf3d9f6b9c7)\" d=\"M 332.637187 83.479219 \r\nL 362.397187 83.479219 \r\nL 362.397187 107.639219 \r\nL 332.637187 107.639219 \r\nL 332.637187 83.479219 \r\n\" style=\"fill:#d1dee2;\"/>\r\n    <path clip-path=\"url(#pf3d9f6b9c7)\" d=\"M 362.397187 83.479219 \r\nL 392.157188 83.479219 \r\nL 392.157188 107.639219 \r\nL 362.397187 107.639219 \r\nL 362.397187 83.479219 \r\n\" style=\"fill:#e38289;\"/>\r\n    <path clip-path=\"url(#pf3d9f6b9c7)\" d=\"M 124.317187 107.639219 \r\nL 154.077187 107.639219 \r\nL 154.077187 131.799219 \r\nL 124.317187 131.799219 \r\nL 124.317187 107.639219 \r\n\" style=\"fill:#b5ccd3;\"/>\r\n    <path clip-path=\"url(#pf3d9f6b9c7)\" d=\"M 154.077187 107.639219 \r\nL 183.837187 107.639219 \r\nL 183.837187 131.799219 \r\nL 154.077187 131.799219 \r\nL 154.077187 107.639219 \r\n\" style=\"fill:#b2cad2;\"/>\r\n    <path clip-path=\"url(#pf3d9f6b9c7)\" d=\"M 183.837187 107.639219 \r\nL 213.597187 107.639219 \r\nL 213.597187 131.799219 \r\nL 183.837187 131.799219 \r\nL 183.837187 107.639219 \r\n\" style=\"fill:#bcd0d7;\"/>\r\n    <path clip-path=\"url(#pf3d9f6b9c7)\" d=\"M 213.597187 107.639219 \r\nL 243.357188 107.639219 \r\nL 243.357188 131.799219 \r\nL 213.597187 131.799219 \r\nL 213.597187 107.639219 \r\n\" style=\"fill:#da3b46;\"/>\r\n    <path clip-path=\"url(#pf3d9f6b9c7)\" d=\"M 243.357188 107.639219 \r\nL 273.117188 107.639219 \r\nL 273.117188 131.799219 \r\nL 243.357188 131.799219 \r\nL 243.357188 107.639219 \r\n\" style=\"fill:#da3b46;\"/>\r\n    <path clip-path=\"url(#pf3d9f6b9c7)\" d=\"M 273.117188 107.639219 \r\nL 302.877187 107.639219 \r\nL 302.877187 131.799219 \r\nL 273.117188 131.799219 \r\nL 273.117188 107.639219 \r\n\" style=\"fill:#e79ca2;\"/>\r\n    <path clip-path=\"url(#pf3d9f6b9c7)\" d=\"M 302.877187 107.639219 \r\nL 332.637187 107.639219 \r\nL 332.637187 131.799219 \r\nL 302.877187 131.799219 \r\nL 302.877187 107.639219 \r\n\" style=\"fill:#b9cfd5;\"/>\r\n    <path clip-path=\"url(#pf3d9f6b9c7)\" d=\"M 332.637187 107.639219 \r\nL 362.397187 107.639219 \r\nL 362.397187 131.799219 \r\nL 332.637187 131.799219 \r\nL 332.637187 107.639219 \r\n\" style=\"fill:#d1dee2;\"/>\r\n    <path clip-path=\"url(#pf3d9f6b9c7)\" d=\"M 362.397187 107.639219 \r\nL 392.157188 107.639219 \r\nL 392.157188 131.799219 \r\nL 362.397187 131.799219 \r\nL 362.397187 107.639219 \r\n\" style=\"fill:#e4838b;\"/>\r\n    <path clip-path=\"url(#pf3d9f6b9c7)\" d=\"M 124.317187 131.799219 \r\nL 154.077187 131.799219 \r\nL 154.077187 155.959219 \r\nL 124.317187 155.959219 \r\nL 124.317187 131.799219 \r\n\" style=\"fill:#b4cbd2;\"/>\r\n    <path clip-path=\"url(#pf3d9f6b9c7)\" d=\"M 154.077187 131.799219 \r\nL 183.837187 131.799219 \r\nL 183.837187 155.959219 \r\nL 154.077187 155.959219 \r\nL 154.077187 131.799219 \r\n\" style=\"fill:#b5ccd3;\"/>\r\n    <path clip-path=\"url(#pf3d9f6b9c7)\" d=\"M 183.837187 131.799219 \r\nL 213.597187 131.799219 \r\nL 213.597187 155.959219 \r\nL 183.837187 155.959219 \r\nL 183.837187 131.799219 \r\n\" style=\"fill:#a9c4cc;\"/>\r\n    <path clip-path=\"url(#pf3d9f6b9c7)\" d=\"M 213.597187 131.799219 \r\nL 243.357188 131.799219 \r\nL 243.357188 155.959219 \r\nL 213.597187 155.959219 \r\nL 213.597187 131.799219 \r\n\" style=\"fill:#e79ca2;\"/>\r\n    <path clip-path=\"url(#pf3d9f6b9c7)\" d=\"M 243.357188 131.799219 \r\nL 273.117188 131.799219 \r\nL 273.117188 155.959219 \r\nL 243.357188 155.959219 \r\nL 243.357188 131.799219 \r\n\" style=\"fill:#e79ca2;\"/>\r\n    <path clip-path=\"url(#pf3d9f6b9c7)\" d=\"M 273.117188 131.799219 \r\nL 302.877187 131.799219 \r\nL 302.877187 155.959219 \r\nL 273.117188 155.959219 \r\nL 273.117188 131.799219 \r\n\" style=\"fill:#da3b46;\"/>\r\n    <path clip-path=\"url(#pf3d9f6b9c7)\" d=\"M 302.877187 131.799219 \r\nL 332.637187 131.799219 \r\nL 332.637187 155.959219 \r\nL 302.877187 155.959219 \r\nL 302.877187 131.799219 \r\n\" style=\"fill:#eed1d3;\"/>\r\n    <path clip-path=\"url(#pf3d9f6b9c7)\" d=\"M 332.637187 131.799219 \r\nL 362.397187 131.799219 \r\nL 362.397187 155.959219 \r\nL 332.637187 155.959219 \r\nL 332.637187 131.799219 \r\n\" style=\"fill:#b5ccd3;\"/>\r\n    <path clip-path=\"url(#pf3d9f6b9c7)\" d=\"M 362.397187 131.799219 \r\nL 392.157188 131.799219 \r\nL 392.157188 155.959219 \r\nL 362.397187 155.959219 \r\nL 362.397187 131.799219 \r\n\" style=\"fill:#ebbdc1;\"/>\r\n    <path clip-path=\"url(#pf3d9f6b9c7)\" d=\"M 124.317187 155.959219 \r\nL 154.077187 155.959219 \r\nL 154.077187 180.119219 \r\nL 124.317187 180.119219 \r\nL 124.317187 155.959219 \r\n\" style=\"fill:#b7cdd4;\"/>\r\n    <path clip-path=\"url(#pf3d9f6b9c7)\" d=\"M 154.077187 155.959219 \r\nL 183.837187 155.959219 \r\nL 183.837187 180.119219 \r\nL 154.077187 180.119219 \r\nL 154.077187 155.959219 \r\n\" style=\"fill:#b2cad2;\"/>\r\n    <path clip-path=\"url(#pf3d9f6b9c7)\" d=\"M 183.837187 155.959219 \r\nL 213.597187 155.959219 \r\nL 213.597187 180.119219 \r\nL 183.837187 180.119219 \r\nL 183.837187 155.959219 \r\n\" style=\"fill:#b2cad2;\"/>\r\n    <path clip-path=\"url(#pf3d9f6b9c7)\" d=\"M 213.597187 155.959219 \r\nL 243.357188 155.959219 \r\nL 243.357188 180.119219 \r\nL 213.597187 180.119219 \r\nL 213.597187 155.959219 \r\n\" style=\"fill:#b9cfd5;\"/>\r\n    <path clip-path=\"url(#pf3d9f6b9c7)\" d=\"M 243.357188 155.959219 \r\nL 273.117188 155.959219 \r\nL 273.117188 180.119219 \r\nL 243.357188 180.119219 \r\nL 243.357188 155.959219 \r\n\" style=\"fill:#b9cfd5;\"/>\r\n    <path clip-path=\"url(#pf3d9f6b9c7)\" d=\"M 273.117188 155.959219 \r\nL 302.877187 155.959219 \r\nL 302.877187 180.119219 \r\nL 273.117188 180.119219 \r\nL 273.117188 155.959219 \r\n\" style=\"fill:#eed1d3;\"/>\r\n    <path clip-path=\"url(#pf3d9f6b9c7)\" d=\"M 302.877187 155.959219 \r\nL 332.637187 155.959219 \r\nL 332.637187 180.119219 \r\nL 302.877187 180.119219 \r\nL 302.877187 155.959219 \r\n\" style=\"fill:#da3b46;\"/>\r\n    <path clip-path=\"url(#pf3d9f6b9c7)\" d=\"M 332.637187 155.959219 \r\nL 362.397187 155.959219 \r\nL 362.397187 180.119219 \r\nL 332.637187 180.119219 \r\nL 332.637187 155.959219 \r\n\" style=\"fill:#ebeff0;\"/>\r\n    <path clip-path=\"url(#pf3d9f6b9c7)\" d=\"M 362.397187 155.959219 \r\nL 392.157188 155.959219 \r\nL 392.157188 180.119219 \r\nL 362.397187 180.119219 \r\nL 362.397187 155.959219 \r\n\" style=\"fill:#c4d6db;\"/>\r\n    <path clip-path=\"url(#pf3d9f6b9c7)\" d=\"M 124.317187 180.119219 \r\nL 154.077187 180.119219 \r\nL 154.077187 204.279219 \r\nL 124.317187 204.279219 \r\nL 124.317187 180.119219 \r\n\" style=\"fill:#b8ced5;\"/>\r\n    <path clip-path=\"url(#pf3d9f6b9c7)\" d=\"M 154.077187 180.119219 \r\nL 183.837187 180.119219 \r\nL 183.837187 204.279219 \r\nL 154.077187 204.279219 \r\nL 154.077187 180.119219 \r\n\" style=\"fill:#3f7f93;\"/>\r\n    <path clip-path=\"url(#pf3d9f6b9c7)\" d=\"M 183.837187 180.119219 \r\nL 213.597187 180.119219 \r\nL 213.597187 204.279219 \r\nL 183.837187 204.279219 \r\nL 183.837187 180.119219 \r\n\" style=\"fill:#c6d7dc;\"/>\r\n    <path clip-path=\"url(#pf3d9f6b9c7)\" d=\"M 213.597187 180.119219 \r\nL 243.357188 180.119219 \r\nL 243.357188 204.279219 \r\nL 213.597187 204.279219 \r\nL 213.597187 180.119219 \r\n\" style=\"fill:#d1dee2;\"/>\r\n    <path clip-path=\"url(#pf3d9f6b9c7)\" d=\"M 243.357188 180.119219 \r\nL 273.117188 180.119219 \r\nL 273.117188 204.279219 \r\nL 243.357188 204.279219 \r\nL 243.357188 180.119219 \r\n\" style=\"fill:#d1dee2;\"/>\r\n    <path clip-path=\"url(#pf3d9f6b9c7)\" d=\"M 273.117188 180.119219 \r\nL 302.877187 180.119219 \r\nL 302.877187 204.279219 \r\nL 273.117188 204.279219 \r\nL 273.117188 180.119219 \r\n\" style=\"fill:#b5ccd3;\"/>\r\n    <path clip-path=\"url(#pf3d9f6b9c7)\" d=\"M 302.877187 180.119219 \r\nL 332.637187 180.119219 \r\nL 332.637187 204.279219 \r\nL 302.877187 204.279219 \r\nL 302.877187 180.119219 \r\n\" style=\"fill:#ebeff0;\"/>\r\n    <path clip-path=\"url(#pf3d9f6b9c7)\" d=\"M 332.637187 180.119219 \r\nL 362.397187 180.119219 \r\nL 362.397187 204.279219 \r\nL 332.637187 204.279219 \r\nL 332.637187 180.119219 \r\n\" style=\"fill:#da3b46;\"/>\r\n    <path clip-path=\"url(#pf3d9f6b9c7)\" d=\"M 362.397187 180.119219 \r\nL 392.157188 180.119219 \r\nL 392.157188 204.279219 \r\nL 362.397187 204.279219 \r\nL 362.397187 180.119219 \r\n\" style=\"fill:#cedce1;\"/>\r\n    <path clip-path=\"url(#pf3d9f6b9c7)\" d=\"M 124.317187 204.279219 \r\nL 154.077187 204.279219 \r\nL 154.077187 228.439219 \r\nL 124.317187 228.439219 \r\nL 124.317187 204.279219 \r\n\" style=\"fill:#ebeff0;\"/>\r\n    <path clip-path=\"url(#pf3d9f6b9c7)\" d=\"M 154.077187 204.279219 \r\nL 183.837187 204.279219 \r\nL 183.837187 228.439219 \r\nL 154.077187 228.439219 \r\nL 154.077187 204.279219 \r\n\" style=\"fill:#b9cfd5;\"/>\r\n    <path clip-path=\"url(#pf3d9f6b9c7)\" d=\"M 183.837187 204.279219 \r\nL 213.597187 204.279219 \r\nL 213.597187 228.439219 \r\nL 183.837187 228.439219 \r\nL 183.837187 204.279219 \r\n\" style=\"fill:#bdd1d8;\"/>\r\n    <path clip-path=\"url(#pf3d9f6b9c7)\" d=\"M 213.597187 204.279219 \r\nL 243.357188 204.279219 \r\nL 243.357188 228.439219 \r\nL 213.597187 228.439219 \r\nL 213.597187 204.279219 \r\n\" style=\"fill:#e38289;\"/>\r\n    <path clip-path=\"url(#pf3d9f6b9c7)\" d=\"M 243.357188 204.279219 \r\nL 273.117188 204.279219 \r\nL 273.117188 228.439219 \r\nL 243.357188 228.439219 \r\nL 243.357188 204.279219 \r\n\" style=\"fill:#e4838b;\"/>\r\n    <path clip-path=\"url(#pf3d9f6b9c7)\" d=\"M 273.117188 204.279219 \r\nL 302.877187 204.279219 \r\nL 302.877187 228.439219 \r\nL 273.117188 228.439219 \r\nL 273.117188 204.279219 \r\n\" style=\"fill:#ebbdc1;\"/>\r\n    <path clip-path=\"url(#pf3d9f6b9c7)\" d=\"M 302.877187 204.279219 \r\nL 332.637187 204.279219 \r\nL 332.637187 228.439219 \r\nL 302.877187 228.439219 \r\nL 302.877187 204.279219 \r\n\" style=\"fill:#c4d6db;\"/>\r\n    <path clip-path=\"url(#pf3d9f6b9c7)\" d=\"M 332.637187 204.279219 \r\nL 362.397187 204.279219 \r\nL 362.397187 228.439219 \r\nL 332.637187 228.439219 \r\nL 332.637187 204.279219 \r\n\" style=\"fill:#cedce1;\"/>\r\n    <path clip-path=\"url(#pf3d9f6b9c7)\" d=\"M 362.397187 204.279219 \r\nL 392.157188 204.279219 \r\nL 392.157188 228.439219 \r\nL 362.397187 228.439219 \r\nL 362.397187 204.279219 \r\n\" style=\"fill:#da3b46;\"/>\r\n   </g>\r\n   <g id=\"matplotlib.axis_1\">\r\n    <g id=\"xtick_1\">\r\n     <g id=\"line2d_1\">\r\n      <defs>\r\n       <path d=\"M 0 0 \r\nL 0 3.5 \r\n\" id=\"m264575e58c\" style=\"stroke:#000000;stroke-width:0.8;\"/>\r\n      </defs>\r\n      <g>\r\n       <use style=\"stroke:#000000;stroke-width:0.8;\" x=\"139.197187\" xlink:href=\"#m264575e58c\" y=\"228.439219\"/>\r\n      </g>\r\n     </g>\r\n     <g id=\"text_1\">\r\n      <!-- LeaseContractLength -->\r\n      <g transform=\"translate(141.956562 341.990781)rotate(-90)scale(0.1 -0.1)\">\r\n       <defs>\r\n        <path d=\"M 9.8125 72.90625 \r\nL 19.671875 72.90625 \r\nL 19.671875 8.296875 \r\nL 55.171875 8.296875 \r\nL 55.171875 0 \r\nL 9.8125 0 \r\nz\r\n\" id=\"DejaVuSans-76\"/>\r\n        <path d=\"M 56.203125 29.59375 \r\nL 56.203125 25.203125 \r\nL 14.890625 25.203125 \r\nQ 15.484375 15.921875 20.484375 11.0625 \r\nQ 25.484375 6.203125 34.421875 6.203125 \r\nQ 39.59375 6.203125 44.453125 7.46875 \r\nQ 49.3125 8.734375 54.109375 11.28125 \r\nL 54.109375 2.78125 \r\nQ 49.265625 0.734375 44.1875 -0.34375 \r\nQ 39.109375 -1.421875 33.890625 -1.421875 \r\nQ 20.796875 -1.421875 13.15625 6.1875 \r\nQ 5.515625 13.8125 5.515625 26.8125 \r\nQ 5.515625 40.234375 12.765625 48.109375 \r\nQ 20.015625 56 32.328125 56 \r\nQ 43.359375 56 49.78125 48.890625 \r\nQ 56.203125 41.796875 56.203125 29.59375 \r\nz\r\nM 47.21875 32.234375 \r\nQ 47.125 39.59375 43.09375 43.984375 \r\nQ 39.0625 48.390625 32.421875 48.390625 \r\nQ 24.90625 48.390625 20.390625 44.140625 \r\nQ 15.875 39.890625 15.1875 32.171875 \r\nz\r\n\" id=\"DejaVuSans-101\"/>\r\n        <path d=\"M 34.28125 27.484375 \r\nQ 23.390625 27.484375 19.1875 25 \r\nQ 14.984375 22.515625 14.984375 16.5 \r\nQ 14.984375 11.71875 18.140625 8.90625 \r\nQ 21.296875 6.109375 26.703125 6.109375 \r\nQ 34.1875 6.109375 38.703125 11.40625 \r\nQ 43.21875 16.703125 43.21875 25.484375 \r\nL 43.21875 27.484375 \r\nz\r\nM 52.203125 31.203125 \r\nL 52.203125 0 \r\nL 43.21875 0 \r\nL 43.21875 8.296875 \r\nQ 40.140625 3.328125 35.546875 0.953125 \r\nQ 30.953125 -1.421875 24.3125 -1.421875 \r\nQ 15.921875 -1.421875 10.953125 3.296875 \r\nQ 6 8.015625 6 15.921875 \r\nQ 6 25.140625 12.171875 29.828125 \r\nQ 18.359375 34.515625 30.609375 34.515625 \r\nL 43.21875 34.515625 \r\nL 43.21875 35.40625 \r\nQ 43.21875 41.609375 39.140625 45 \r\nQ 35.0625 48.390625 27.6875 48.390625 \r\nQ 23 48.390625 18.546875 47.265625 \r\nQ 14.109375 46.140625 10.015625 43.890625 \r\nL 10.015625 52.203125 \r\nQ 14.9375 54.109375 19.578125 55.046875 \r\nQ 24.21875 56 28.609375 56 \r\nQ 40.484375 56 46.34375 49.84375 \r\nQ 52.203125 43.703125 52.203125 31.203125 \r\nz\r\n\" id=\"DejaVuSans-97\"/>\r\n        <path d=\"M 44.28125 53.078125 \r\nL 44.28125 44.578125 \r\nQ 40.484375 46.53125 36.375 47.5 \r\nQ 32.28125 48.484375 27.875 48.484375 \r\nQ 21.1875 48.484375 17.84375 46.4375 \r\nQ 14.5 44.390625 14.5 40.28125 \r\nQ 14.5 37.15625 16.890625 35.375 \r\nQ 19.28125 33.59375 26.515625 31.984375 \r\nL 29.59375 31.296875 \r\nQ 39.15625 29.25 43.1875 25.515625 \r\nQ 47.21875 21.78125 47.21875 15.09375 \r\nQ 47.21875 7.46875 41.1875 3.015625 \r\nQ 35.15625 -1.421875 24.609375 -1.421875 \r\nQ 20.21875 -1.421875 15.453125 -0.5625 \r\nQ 10.6875 0.296875 5.421875 2 \r\nL 5.421875 11.28125 \r\nQ 10.40625 8.6875 15.234375 7.390625 \r\nQ 20.0625 6.109375 24.8125 6.109375 \r\nQ 31.15625 6.109375 34.5625 8.28125 \r\nQ 37.984375 10.453125 37.984375 14.40625 \r\nQ 37.984375 18.0625 35.515625 20.015625 \r\nQ 33.0625 21.96875 24.703125 23.78125 \r\nL 21.578125 24.515625 \r\nQ 13.234375 26.265625 9.515625 29.90625 \r\nQ 5.8125 33.546875 5.8125 39.890625 \r\nQ 5.8125 47.609375 11.28125 51.796875 \r\nQ 16.75 56 26.8125 56 \r\nQ 31.78125 56 36.171875 55.265625 \r\nQ 40.578125 54.546875 44.28125 53.078125 \r\nz\r\n\" id=\"DejaVuSans-115\"/>\r\n        <path d=\"M 64.40625 67.28125 \r\nL 64.40625 56.890625 \r\nQ 59.421875 61.53125 53.78125 63.8125 \r\nQ 48.140625 66.109375 41.796875 66.109375 \r\nQ 29.296875 66.109375 22.65625 58.46875 \r\nQ 16.015625 50.828125 16.015625 36.375 \r\nQ 16.015625 21.96875 22.65625 14.328125 \r\nQ 29.296875 6.6875 41.796875 6.6875 \r\nQ 48.140625 6.6875 53.78125 8.984375 \r\nQ 59.421875 11.28125 64.40625 15.921875 \r\nL 64.40625 5.609375 \r\nQ 59.234375 2.09375 53.4375 0.328125 \r\nQ 47.65625 -1.421875 41.21875 -1.421875 \r\nQ 24.65625 -1.421875 15.125 8.703125 \r\nQ 5.609375 18.84375 5.609375 36.375 \r\nQ 5.609375 53.953125 15.125 64.078125 \r\nQ 24.65625 74.21875 41.21875 74.21875 \r\nQ 47.75 74.21875 53.53125 72.484375 \r\nQ 59.328125 70.75 64.40625 67.28125 \r\nz\r\n\" id=\"DejaVuSans-67\"/>\r\n        <path d=\"M 30.609375 48.390625 \r\nQ 23.390625 48.390625 19.1875 42.75 \r\nQ 14.984375 37.109375 14.984375 27.296875 \r\nQ 14.984375 17.484375 19.15625 11.84375 \r\nQ 23.34375 6.203125 30.609375 6.203125 \r\nQ 37.796875 6.203125 41.984375 11.859375 \r\nQ 46.1875 17.53125 46.1875 27.296875 \r\nQ 46.1875 37.015625 41.984375 42.703125 \r\nQ 37.796875 48.390625 30.609375 48.390625 \r\nz\r\nM 30.609375 56 \r\nQ 42.328125 56 49.015625 48.375 \r\nQ 55.71875 40.765625 55.71875 27.296875 \r\nQ 55.71875 13.875 49.015625 6.21875 \r\nQ 42.328125 -1.421875 30.609375 -1.421875 \r\nQ 18.84375 -1.421875 12.171875 6.21875 \r\nQ 5.515625 13.875 5.515625 27.296875 \r\nQ 5.515625 40.765625 12.171875 48.375 \r\nQ 18.84375 56 30.609375 56 \r\nz\r\n\" id=\"DejaVuSans-111\"/>\r\n        <path d=\"M 54.890625 33.015625 \r\nL 54.890625 0 \r\nL 45.90625 0 \r\nL 45.90625 32.71875 \r\nQ 45.90625 40.484375 42.875 44.328125 \r\nQ 39.84375 48.1875 33.796875 48.1875 \r\nQ 26.515625 48.1875 22.3125 43.546875 \r\nQ 18.109375 38.921875 18.109375 30.90625 \r\nL 18.109375 0 \r\nL 9.078125 0 \r\nL 9.078125 54.6875 \r\nL 18.109375 54.6875 \r\nL 18.109375 46.1875 \r\nQ 21.34375 51.125 25.703125 53.5625 \r\nQ 30.078125 56 35.796875 56 \r\nQ 45.21875 56 50.046875 50.171875 \r\nQ 54.890625 44.34375 54.890625 33.015625 \r\nz\r\n\" id=\"DejaVuSans-110\"/>\r\n        <path d=\"M 18.3125 70.21875 \r\nL 18.3125 54.6875 \r\nL 36.8125 54.6875 \r\nL 36.8125 47.703125 \r\nL 18.3125 47.703125 \r\nL 18.3125 18.015625 \r\nQ 18.3125 11.328125 20.140625 9.421875 \r\nQ 21.96875 7.515625 27.59375 7.515625 \r\nL 36.8125 7.515625 \r\nL 36.8125 0 \r\nL 27.59375 0 \r\nQ 17.1875 0 13.234375 3.875 \r\nQ 9.28125 7.765625 9.28125 18.015625 \r\nL 9.28125 47.703125 \r\nL 2.6875 47.703125 \r\nL 2.6875 54.6875 \r\nL 9.28125 54.6875 \r\nL 9.28125 70.21875 \r\nz\r\n\" id=\"DejaVuSans-116\"/>\r\n        <path d=\"M 41.109375 46.296875 \r\nQ 39.59375 47.171875 37.8125 47.578125 \r\nQ 36.03125 48 33.890625 48 \r\nQ 26.265625 48 22.1875 43.046875 \r\nQ 18.109375 38.09375 18.109375 28.8125 \r\nL 18.109375 0 \r\nL 9.078125 0 \r\nL 9.078125 54.6875 \r\nL 18.109375 54.6875 \r\nL 18.109375 46.1875 \r\nQ 20.953125 51.171875 25.484375 53.578125 \r\nQ 30.03125 56 36.53125 56 \r\nQ 37.453125 56 38.578125 55.875 \r\nQ 39.703125 55.765625 41.0625 55.515625 \r\nz\r\n\" id=\"DejaVuSans-114\"/>\r\n        <path d=\"M 48.78125 52.59375 \r\nL 48.78125 44.1875 \r\nQ 44.96875 46.296875 41.140625 47.34375 \r\nQ 37.3125 48.390625 33.40625 48.390625 \r\nQ 24.65625 48.390625 19.8125 42.84375 \r\nQ 14.984375 37.3125 14.984375 27.296875 \r\nQ 14.984375 17.28125 19.8125 11.734375 \r\nQ 24.65625 6.203125 33.40625 6.203125 \r\nQ 37.3125 6.203125 41.140625 7.25 \r\nQ 44.96875 8.296875 48.78125 10.40625 \r\nL 48.78125 2.09375 \r\nQ 45.015625 0.34375 40.984375 -0.53125 \r\nQ 36.96875 -1.421875 32.421875 -1.421875 \r\nQ 20.0625 -1.421875 12.78125 6.34375 \r\nQ 5.515625 14.109375 5.515625 27.296875 \r\nQ 5.515625 40.671875 12.859375 48.328125 \r\nQ 20.21875 56 33.015625 56 \r\nQ 37.15625 56 41.109375 55.140625 \r\nQ 45.0625 54.296875 48.78125 52.59375 \r\nz\r\n\" id=\"DejaVuSans-99\"/>\r\n        <path d=\"M 45.40625 27.984375 \r\nQ 45.40625 37.75 41.375 43.109375 \r\nQ 37.359375 48.484375 30.078125 48.484375 \r\nQ 22.859375 48.484375 18.828125 43.109375 \r\nQ 14.796875 37.75 14.796875 27.984375 \r\nQ 14.796875 18.265625 18.828125 12.890625 \r\nQ 22.859375 7.515625 30.078125 7.515625 \r\nQ 37.359375 7.515625 41.375 12.890625 \r\nQ 45.40625 18.265625 45.40625 27.984375 \r\nz\r\nM 54.390625 6.78125 \r\nQ 54.390625 -7.171875 48.1875 -13.984375 \r\nQ 42 -20.796875 29.203125 -20.796875 \r\nQ 24.46875 -20.796875 20.265625 -20.09375 \r\nQ 16.0625 -19.390625 12.109375 -17.921875 \r\nL 12.109375 -9.1875 \r\nQ 16.0625 -11.328125 19.921875 -12.34375 \r\nQ 23.78125 -13.375 27.78125 -13.375 \r\nQ 36.625 -13.375 41.015625 -8.765625 \r\nQ 45.40625 -4.15625 45.40625 5.171875 \r\nL 45.40625 9.625 \r\nQ 42.625 4.78125 38.28125 2.390625 \r\nQ 33.9375 0 27.875 0 \r\nQ 17.828125 0 11.671875 7.65625 \r\nQ 5.515625 15.328125 5.515625 27.984375 \r\nQ 5.515625 40.671875 11.671875 48.328125 \r\nQ 17.828125 56 27.875 56 \r\nQ 33.9375 56 38.28125 53.609375 \r\nQ 42.625 51.21875 45.40625 46.390625 \r\nL 45.40625 54.6875 \r\nL 54.390625 54.6875 \r\nz\r\n\" id=\"DejaVuSans-103\"/>\r\n        <path d=\"M 54.890625 33.015625 \r\nL 54.890625 0 \r\nL 45.90625 0 \r\nL 45.90625 32.71875 \r\nQ 45.90625 40.484375 42.875 44.328125 \r\nQ 39.84375 48.1875 33.796875 48.1875 \r\nQ 26.515625 48.1875 22.3125 43.546875 \r\nQ 18.109375 38.921875 18.109375 30.90625 \r\nL 18.109375 0 \r\nL 9.078125 0 \r\nL 9.078125 75.984375 \r\nL 18.109375 75.984375 \r\nL 18.109375 46.1875 \r\nQ 21.34375 51.125 25.703125 53.5625 \r\nQ 30.078125 56 35.796875 56 \r\nQ 45.21875 56 50.046875 50.171875 \r\nQ 54.890625 44.34375 54.890625 33.015625 \r\nz\r\n\" id=\"DejaVuSans-104\"/>\r\n       </defs>\r\n       <use xlink:href=\"#DejaVuSans-76\"/>\r\n       <use x=\"53.962891\" xlink:href=\"#DejaVuSans-101\"/>\r\n       <use x=\"115.486328\" xlink:href=\"#DejaVuSans-97\"/>\r\n       <use x=\"176.765625\" xlink:href=\"#DejaVuSans-115\"/>\r\n       <use x=\"228.865234\" xlink:href=\"#DejaVuSans-101\"/>\r\n       <use x=\"290.388672\" xlink:href=\"#DejaVuSans-67\"/>\r\n       <use x=\"360.212891\" xlink:href=\"#DejaVuSans-111\"/>\r\n       <use x=\"421.394531\" xlink:href=\"#DejaVuSans-110\"/>\r\n       <use x=\"484.773438\" xlink:href=\"#DejaVuSans-116\"/>\r\n       <use x=\"523.982422\" xlink:href=\"#DejaVuSans-114\"/>\r\n       <use x=\"565.095703\" xlink:href=\"#DejaVuSans-97\"/>\r\n       <use x=\"626.375\" xlink:href=\"#DejaVuSans-99\"/>\r\n       <use x=\"681.355469\" xlink:href=\"#DejaVuSans-116\"/>\r\n       <use x=\"720.564453\" xlink:href=\"#DejaVuSans-76\"/>\r\n       <use x=\"774.527344\" xlink:href=\"#DejaVuSans-101\"/>\r\n       <use x=\"836.050781\" xlink:href=\"#DejaVuSans-110\"/>\r\n       <use x=\"899.429688\" xlink:href=\"#DejaVuSans-103\"/>\r\n       <use x=\"962.90625\" xlink:href=\"#DejaVuSans-116\"/>\r\n       <use x=\"1002.115234\" xlink:href=\"#DejaVuSans-104\"/>\r\n      </g>\r\n     </g>\r\n    </g>\r\n    <g id=\"xtick_2\">\r\n     <g id=\"line2d_2\">\r\n      <g>\r\n       <use style=\"stroke:#000000;stroke-width:0.8;\" x=\"168.957187\" xlink:href=\"#m264575e58c\" y=\"228.439219\"/>\r\n      </g>\r\n     </g>\r\n     <g id=\"text_2\">\r\n      <!-- OfferingClass -->\r\n      <g transform=\"translate(171.716562 302.387656)rotate(-90)scale(0.1 -0.1)\">\r\n       <defs>\r\n        <path d=\"M 39.40625 66.21875 \r\nQ 28.65625 66.21875 22.328125 58.203125 \r\nQ 16.015625 50.203125 16.015625 36.375 \r\nQ 16.015625 22.609375 22.328125 14.59375 \r\nQ 28.65625 6.59375 39.40625 6.59375 \r\nQ 50.140625 6.59375 56.421875 14.59375 \r\nQ 62.703125 22.609375 62.703125 36.375 \r\nQ 62.703125 50.203125 56.421875 58.203125 \r\nQ 50.140625 66.21875 39.40625 66.21875 \r\nz\r\nM 39.40625 74.21875 \r\nQ 54.734375 74.21875 63.90625 63.9375 \r\nQ 73.09375 53.65625 73.09375 36.375 \r\nQ 73.09375 19.140625 63.90625 8.859375 \r\nQ 54.734375 -1.421875 39.40625 -1.421875 \r\nQ 24.03125 -1.421875 14.8125 8.828125 \r\nQ 5.609375 19.09375 5.609375 36.375 \r\nQ 5.609375 53.65625 14.8125 63.9375 \r\nQ 24.03125 74.21875 39.40625 74.21875 \r\nz\r\n\" id=\"DejaVuSans-79\"/>\r\n        <path d=\"M 37.109375 75.984375 \r\nL 37.109375 68.5 \r\nL 28.515625 68.5 \r\nQ 23.6875 68.5 21.796875 66.546875 \r\nQ 19.921875 64.59375 19.921875 59.515625 \r\nL 19.921875 54.6875 \r\nL 34.71875 54.6875 \r\nL 34.71875 47.703125 \r\nL 19.921875 47.703125 \r\nL 19.921875 0 \r\nL 10.890625 0 \r\nL 10.890625 47.703125 \r\nL 2.296875 47.703125 \r\nL 2.296875 54.6875 \r\nL 10.890625 54.6875 \r\nL 10.890625 58.5 \r\nQ 10.890625 67.625 15.140625 71.796875 \r\nQ 19.390625 75.984375 28.609375 75.984375 \r\nz\r\n\" id=\"DejaVuSans-102\"/>\r\n        <path d=\"M 9.421875 54.6875 \r\nL 18.40625 54.6875 \r\nL 18.40625 0 \r\nL 9.421875 0 \r\nz\r\nM 9.421875 75.984375 \r\nL 18.40625 75.984375 \r\nL 18.40625 64.59375 \r\nL 9.421875 64.59375 \r\nz\r\n\" id=\"DejaVuSans-105\"/>\r\n        <path d=\"M 9.421875 75.984375 \r\nL 18.40625 75.984375 \r\nL 18.40625 0 \r\nL 9.421875 0 \r\nz\r\n\" id=\"DejaVuSans-108\"/>\r\n       </defs>\r\n       <use xlink:href=\"#DejaVuSans-79\"/>\r\n       <use x=\"78.710938\" xlink:href=\"#DejaVuSans-102\"/>\r\n       <use x=\"113.916016\" xlink:href=\"#DejaVuSans-102\"/>\r\n       <use x=\"149.121094\" xlink:href=\"#DejaVuSans-101\"/>\r\n       <use x=\"210.644531\" xlink:href=\"#DejaVuSans-114\"/>\r\n       <use x=\"251.757812\" xlink:href=\"#DejaVuSans-105\"/>\r\n       <use x=\"279.541016\" xlink:href=\"#DejaVuSans-110\"/>\r\n       <use x=\"342.919922\" xlink:href=\"#DejaVuSans-103\"/>\r\n       <use x=\"406.396484\" xlink:href=\"#DejaVuSans-67\"/>\r\n       <use x=\"476.220703\" xlink:href=\"#DejaVuSans-108\"/>\r\n       <use x=\"504.003906\" xlink:href=\"#DejaVuSans-97\"/>\r\n       <use x=\"565.283203\" xlink:href=\"#DejaVuSans-115\"/>\r\n       <use x=\"617.382812\" xlink:href=\"#DejaVuSans-115\"/>\r\n      </g>\r\n     </g>\r\n    </g>\r\n    <g id=\"xtick_3\">\r\n     <g id=\"line2d_3\">\r\n      <g>\r\n       <use style=\"stroke:#000000;stroke-width:0.8;\" x=\"198.717187\" xlink:href=\"#m264575e58c\" y=\"228.439219\"/>\r\n      </g>\r\n     </g>\r\n     <g id=\"text_3\">\r\n      <!-- Location -->\r\n      <g transform=\"translate(201.476562 277.736094)rotate(-90)scale(0.1 -0.1)\">\r\n       <use xlink:href=\"#DejaVuSans-76\"/>\r\n       <use x=\"53.962891\" xlink:href=\"#DejaVuSans-111\"/>\r\n       <use x=\"115.144531\" xlink:href=\"#DejaVuSans-99\"/>\r\n       <use x=\"170.125\" xlink:href=\"#DejaVuSans-97\"/>\r\n       <use x=\"231.404297\" xlink:href=\"#DejaVuSans-116\"/>\r\n       <use x=\"270.613281\" xlink:href=\"#DejaVuSans-105\"/>\r\n       <use x=\"298.396484\" xlink:href=\"#DejaVuSans-111\"/>\r\n       <use x=\"359.578125\" xlink:href=\"#DejaVuSans-110\"/>\r\n      </g>\r\n     </g>\r\n    </g>\r\n    <g id=\"xtick_4\">\r\n     <g id=\"line2d_4\">\r\n      <g>\r\n       <use style=\"stroke:#000000;stroke-width:0.8;\" x=\"228.477188\" xlink:href=\"#m264575e58c\" y=\"228.439219\"/>\r\n      </g>\r\n     </g>\r\n     <g id=\"text_4\">\r\n      <!-- Memory -->\r\n      <g transform=\"translate(231.236563 276.109531)rotate(-90)scale(0.1 -0.1)\">\r\n       <defs>\r\n        <path d=\"M 9.8125 72.90625 \r\nL 24.515625 72.90625 \r\nL 43.109375 23.296875 \r\nL 61.8125 72.90625 \r\nL 76.515625 72.90625 \r\nL 76.515625 0 \r\nL 66.890625 0 \r\nL 66.890625 64.015625 \r\nL 48.09375 14.015625 \r\nL 38.1875 14.015625 \r\nL 19.390625 64.015625 \r\nL 19.390625 0 \r\nL 9.8125 0 \r\nz\r\n\" id=\"DejaVuSans-77\"/>\r\n        <path d=\"M 52 44.1875 \r\nQ 55.375 50.25 60.0625 53.125 \r\nQ 64.75 56 71.09375 56 \r\nQ 79.640625 56 84.28125 50.015625 \r\nQ 88.921875 44.046875 88.921875 33.015625 \r\nL 88.921875 0 \r\nL 79.890625 0 \r\nL 79.890625 32.71875 \r\nQ 79.890625 40.578125 77.09375 44.375 \r\nQ 74.3125 48.1875 68.609375 48.1875 \r\nQ 61.625 48.1875 57.5625 43.546875 \r\nQ 53.515625 38.921875 53.515625 30.90625 \r\nL 53.515625 0 \r\nL 44.484375 0 \r\nL 44.484375 32.71875 \r\nQ 44.484375 40.625 41.703125 44.40625 \r\nQ 38.921875 48.1875 33.109375 48.1875 \r\nQ 26.21875 48.1875 22.15625 43.53125 \r\nQ 18.109375 38.875 18.109375 30.90625 \r\nL 18.109375 0 \r\nL 9.078125 0 \r\nL 9.078125 54.6875 \r\nL 18.109375 54.6875 \r\nL 18.109375 46.1875 \r\nQ 21.1875 51.21875 25.484375 53.609375 \r\nQ 29.78125 56 35.6875 56 \r\nQ 41.65625 56 45.828125 52.96875 \r\nQ 50 49.953125 52 44.1875 \r\nz\r\n\" id=\"DejaVuSans-109\"/>\r\n        <path d=\"M 32.171875 -5.078125 \r\nQ 28.375 -14.84375 24.75 -17.8125 \r\nQ 21.140625 -20.796875 15.09375 -20.796875 \r\nL 7.90625 -20.796875 \r\nL 7.90625 -13.28125 \r\nL 13.1875 -13.28125 \r\nQ 16.890625 -13.28125 18.9375 -11.515625 \r\nQ 21 -9.765625 23.484375 -3.21875 \r\nL 25.09375 0.875 \r\nL 2.984375 54.6875 \r\nL 12.5 54.6875 \r\nL 29.59375 11.921875 \r\nL 46.6875 54.6875 \r\nL 56.203125 54.6875 \r\nz\r\n\" id=\"DejaVuSans-121\"/>\r\n       </defs>\r\n       <use xlink:href=\"#DejaVuSans-77\"/>\r\n       <use x=\"86.279297\" xlink:href=\"#DejaVuSans-101\"/>\r\n       <use x=\"147.802734\" xlink:href=\"#DejaVuSans-109\"/>\r\n       <use x=\"245.214844\" xlink:href=\"#DejaVuSans-111\"/>\r\n       <use x=\"306.396484\" xlink:href=\"#DejaVuSans-114\"/>\r\n       <use x=\"347.509766\" xlink:href=\"#DejaVuSans-121\"/>\r\n      </g>\r\n     </g>\r\n    </g>\r\n    <g id=\"xtick_5\">\r\n     <g id=\"line2d_5\">\r\n      <g>\r\n       <use style=\"stroke:#000000;stroke-width:0.8;\" x=\"258.237188\" xlink:href=\"#m264575e58c\" y=\"228.439219\"/>\r\n      </g>\r\n     </g>\r\n     <g id=\"text_5\">\r\n      <!-- vCPU -->\r\n      <g transform=\"translate(260.996562 261.689219)rotate(-90)scale(0.1 -0.1)\">\r\n       <defs>\r\n        <path d=\"M 2.984375 54.6875 \r\nL 12.5 54.6875 \r\nL 29.59375 8.796875 \r\nL 46.6875 54.6875 \r\nL 56.203125 54.6875 \r\nL 35.6875 0 \r\nL 23.484375 0 \r\nz\r\n\" id=\"DejaVuSans-118\"/>\r\n        <path d=\"M 19.671875 64.796875 \r\nL 19.671875 37.40625 \r\nL 32.078125 37.40625 \r\nQ 38.96875 37.40625 42.71875 40.96875 \r\nQ 46.484375 44.53125 46.484375 51.125 \r\nQ 46.484375 57.671875 42.71875 61.234375 \r\nQ 38.96875 64.796875 32.078125 64.796875 \r\nz\r\nM 9.8125 72.90625 \r\nL 32.078125 72.90625 \r\nQ 44.34375 72.90625 50.609375 67.359375 \r\nQ 56.890625 61.8125 56.890625 51.125 \r\nQ 56.890625 40.328125 50.609375 34.8125 \r\nQ 44.34375 29.296875 32.078125 29.296875 \r\nL 19.671875 29.296875 \r\nL 19.671875 0 \r\nL 9.8125 0 \r\nz\r\n\" id=\"DejaVuSans-80\"/>\r\n        <path d=\"M 8.6875 72.90625 \r\nL 18.609375 72.90625 \r\nL 18.609375 28.609375 \r\nQ 18.609375 16.890625 22.84375 11.734375 \r\nQ 27.09375 6.59375 36.625 6.59375 \r\nQ 46.09375 6.59375 50.34375 11.734375 \r\nQ 54.59375 16.890625 54.59375 28.609375 \r\nL 54.59375 72.90625 \r\nL 64.5 72.90625 \r\nL 64.5 27.390625 \r\nQ 64.5 13.140625 57.4375 5.859375 \r\nQ 50.390625 -1.421875 36.625 -1.421875 \r\nQ 22.796875 -1.421875 15.734375 5.859375 \r\nQ 8.6875 13.140625 8.6875 27.390625 \r\nz\r\n\" id=\"DejaVuSans-85\"/>\r\n       </defs>\r\n       <use xlink:href=\"#DejaVuSans-118\"/>\r\n       <use x=\"59.179688\" xlink:href=\"#DejaVuSans-67\"/>\r\n       <use x=\"129.003906\" xlink:href=\"#DejaVuSans-80\"/>\r\n       <use x=\"189.306641\" xlink:href=\"#DejaVuSans-85\"/>\r\n      </g>\r\n     </g>\r\n    </g>\r\n    <g id=\"xtick_6\">\r\n     <g id=\"line2d_6\">\r\n      <g>\r\n       <use style=\"stroke:#000000;stroke-width:0.8;\" x=\"287.997187\" xlink:href=\"#m264575e58c\" y=\"228.439219\"/>\r\n      </g>\r\n     </g>\r\n     <g id=\"text_6\">\r\n      <!-- Network_Performance -->\r\n      <g transform=\"translate(290.6175 345.556406)rotate(-90)scale(0.1 -0.1)\">\r\n       <defs>\r\n        <path d=\"M 9.8125 72.90625 \r\nL 23.09375 72.90625 \r\nL 55.421875 11.921875 \r\nL 55.421875 72.90625 \r\nL 64.984375 72.90625 \r\nL 64.984375 0 \r\nL 51.703125 0 \r\nL 19.390625 60.984375 \r\nL 19.390625 0 \r\nL 9.8125 0 \r\nz\r\n\" id=\"DejaVuSans-78\"/>\r\n        <path d=\"M 4.203125 54.6875 \r\nL 13.1875 54.6875 \r\nL 24.421875 12.015625 \r\nL 35.59375 54.6875 \r\nL 46.1875 54.6875 \r\nL 57.421875 12.015625 \r\nL 68.609375 54.6875 \r\nL 77.59375 54.6875 \r\nL 63.28125 0 \r\nL 52.6875 0 \r\nL 40.921875 44.828125 \r\nL 29.109375 0 \r\nL 18.5 0 \r\nz\r\n\" id=\"DejaVuSans-119\"/>\r\n        <path d=\"M 9.078125 75.984375 \r\nL 18.109375 75.984375 \r\nL 18.109375 31.109375 \r\nL 44.921875 54.6875 \r\nL 56.390625 54.6875 \r\nL 27.390625 29.109375 \r\nL 57.625 0 \r\nL 45.90625 0 \r\nL 18.109375 26.703125 \r\nL 18.109375 0 \r\nL 9.078125 0 \r\nz\r\n\" id=\"DejaVuSans-107\"/>\r\n        <path d=\"M 50.984375 -16.609375 \r\nL 50.984375 -23.578125 \r\nL -0.984375 -23.578125 \r\nL -0.984375 -16.609375 \r\nz\r\n\" id=\"DejaVuSans-95\"/>\r\n       </defs>\r\n       <use xlink:href=\"#DejaVuSans-78\"/>\r\n       <use x=\"74.804688\" xlink:href=\"#DejaVuSans-101\"/>\r\n       <use x=\"136.328125\" xlink:href=\"#DejaVuSans-116\"/>\r\n       <use x=\"175.537109\" xlink:href=\"#DejaVuSans-119\"/>\r\n       <use x=\"257.324219\" xlink:href=\"#DejaVuSans-111\"/>\r\n       <use x=\"318.505859\" xlink:href=\"#DejaVuSans-114\"/>\r\n       <use x=\"359.619141\" xlink:href=\"#DejaVuSans-107\"/>\r\n       <use x=\"417.529297\" xlink:href=\"#DejaVuSans-95\"/>\r\n       <use x=\"467.529297\" xlink:href=\"#DejaVuSans-80\"/>\r\n       <use x=\"524.207031\" xlink:href=\"#DejaVuSans-101\"/>\r\n       <use x=\"585.730469\" xlink:href=\"#DejaVuSans-114\"/>\r\n       <use x=\"626.84375\" xlink:href=\"#DejaVuSans-102\"/>\r\n       <use x=\"662.048828\" xlink:href=\"#DejaVuSans-111\"/>\r\n       <use x=\"723.230469\" xlink:href=\"#DejaVuSans-114\"/>\r\n       <use x=\"762.59375\" xlink:href=\"#DejaVuSans-109\"/>\r\n       <use x=\"860.005859\" xlink:href=\"#DejaVuSans-97\"/>\r\n       <use x=\"921.285156\" xlink:href=\"#DejaVuSans-110\"/>\r\n       <use x=\"984.664062\" xlink:href=\"#DejaVuSans-99\"/>\r\n       <use x=\"1039.644531\" xlink:href=\"#DejaVuSans-101\"/>\r\n      </g>\r\n     </g>\r\n    </g>\r\n    <g id=\"xtick_7\">\r\n     <g id=\"line2d_7\">\r\n      <g>\r\n       <use style=\"stroke:#000000;stroke-width:0.8;\" x=\"317.757187\" xlink:href=\"#m264575e58c\" y=\"228.439219\"/>\r\n      </g>\r\n     </g>\r\n     <g id=\"text_7\">\r\n      <!-- Clock_Speed -->\r\n      <g transform=\"translate(320.3775 298.959531)rotate(-90)scale(0.1 -0.1)\">\r\n       <defs>\r\n        <path d=\"M 53.515625 70.515625 \r\nL 53.515625 60.890625 \r\nQ 47.90625 63.578125 42.921875 64.890625 \r\nQ 37.9375 66.21875 33.296875 66.21875 \r\nQ 25.25 66.21875 20.875 63.09375 \r\nQ 16.5 59.96875 16.5 54.203125 \r\nQ 16.5 49.359375 19.40625 46.890625 \r\nQ 22.3125 44.4375 30.421875 42.921875 \r\nL 36.375 41.703125 \r\nQ 47.40625 39.59375 52.65625 34.296875 \r\nQ 57.90625 29 57.90625 20.125 \r\nQ 57.90625 9.515625 50.796875 4.046875 \r\nQ 43.703125 -1.421875 29.984375 -1.421875 \r\nQ 24.8125 -1.421875 18.96875 -0.25 \r\nQ 13.140625 0.921875 6.890625 3.21875 \r\nL 6.890625 13.375 \r\nQ 12.890625 10.015625 18.65625 8.296875 \r\nQ 24.421875 6.59375 29.984375 6.59375 \r\nQ 38.421875 6.59375 43.015625 9.90625 \r\nQ 47.609375 13.234375 47.609375 19.390625 \r\nQ 47.609375 24.75 44.3125 27.78125 \r\nQ 41.015625 30.8125 33.5 32.328125 \r\nL 27.484375 33.5 \r\nQ 16.453125 35.6875 11.515625 40.375 \r\nQ 6.59375 45.0625 6.59375 53.421875 \r\nQ 6.59375 63.09375 13.40625 68.65625 \r\nQ 20.21875 74.21875 32.171875 74.21875 \r\nQ 37.3125 74.21875 42.625 73.28125 \r\nQ 47.953125 72.359375 53.515625 70.515625 \r\nz\r\n\" id=\"DejaVuSans-83\"/>\r\n        <path d=\"M 18.109375 8.203125 \r\nL 18.109375 -20.796875 \r\nL 9.078125 -20.796875 \r\nL 9.078125 54.6875 \r\nL 18.109375 54.6875 \r\nL 18.109375 46.390625 \r\nQ 20.953125 51.265625 25.265625 53.625 \r\nQ 29.59375 56 35.59375 56 \r\nQ 45.5625 56 51.78125 48.09375 \r\nQ 58.015625 40.1875 58.015625 27.296875 \r\nQ 58.015625 14.40625 51.78125 6.484375 \r\nQ 45.5625 -1.421875 35.59375 -1.421875 \r\nQ 29.59375 -1.421875 25.265625 0.953125 \r\nQ 20.953125 3.328125 18.109375 8.203125 \r\nz\r\nM 48.6875 27.296875 \r\nQ 48.6875 37.203125 44.609375 42.84375 \r\nQ 40.53125 48.484375 33.40625 48.484375 \r\nQ 26.265625 48.484375 22.1875 42.84375 \r\nQ 18.109375 37.203125 18.109375 27.296875 \r\nQ 18.109375 17.390625 22.1875 11.75 \r\nQ 26.265625 6.109375 33.40625 6.109375 \r\nQ 40.53125 6.109375 44.609375 11.75 \r\nQ 48.6875 17.390625 48.6875 27.296875 \r\nz\r\n\" id=\"DejaVuSans-112\"/>\r\n        <path d=\"M 45.40625 46.390625 \r\nL 45.40625 75.984375 \r\nL 54.390625 75.984375 \r\nL 54.390625 0 \r\nL 45.40625 0 \r\nL 45.40625 8.203125 \r\nQ 42.578125 3.328125 38.25 0.953125 \r\nQ 33.9375 -1.421875 27.875 -1.421875 \r\nQ 17.96875 -1.421875 11.734375 6.484375 \r\nQ 5.515625 14.40625 5.515625 27.296875 \r\nQ 5.515625 40.1875 11.734375 48.09375 \r\nQ 17.96875 56 27.875 56 \r\nQ 33.9375 56 38.25 53.625 \r\nQ 42.578125 51.265625 45.40625 46.390625 \r\nz\r\nM 14.796875 27.296875 \r\nQ 14.796875 17.390625 18.875 11.75 \r\nQ 22.953125 6.109375 30.078125 6.109375 \r\nQ 37.203125 6.109375 41.296875 11.75 \r\nQ 45.40625 17.390625 45.40625 27.296875 \r\nQ 45.40625 37.203125 41.296875 42.84375 \r\nQ 37.203125 48.484375 30.078125 48.484375 \r\nQ 22.953125 48.484375 18.875 42.84375 \r\nQ 14.796875 37.203125 14.796875 27.296875 \r\nz\r\n\" id=\"DejaVuSans-100\"/>\r\n       </defs>\r\n       <use xlink:href=\"#DejaVuSans-67\"/>\r\n       <use x=\"69.824219\" xlink:href=\"#DejaVuSans-108\"/>\r\n       <use x=\"97.607422\" xlink:href=\"#DejaVuSans-111\"/>\r\n       <use x=\"158.789062\" xlink:href=\"#DejaVuSans-99\"/>\r\n       <use x=\"213.769531\" xlink:href=\"#DejaVuSans-107\"/>\r\n       <use x=\"271.679688\" xlink:href=\"#DejaVuSans-95\"/>\r\n       <use x=\"321.679688\" xlink:href=\"#DejaVuSans-83\"/>\r\n       <use x=\"385.15625\" xlink:href=\"#DejaVuSans-112\"/>\r\n       <use x=\"448.632812\" xlink:href=\"#DejaVuSans-101\"/>\r\n       <use x=\"510.15625\" xlink:href=\"#DejaVuSans-101\"/>\r\n       <use x=\"571.679688\" xlink:href=\"#DejaVuSans-100\"/>\r\n      </g>\r\n     </g>\r\n    </g>\r\n    <g id=\"xtick_8\">\r\n     <g id=\"line2d_8\">\r\n      <g>\r\n       <use style=\"stroke:#000000;stroke-width:0.8;\" x=\"347.517187\" xlink:href=\"#m264575e58c\" y=\"228.439219\"/>\r\n      </g>\r\n     </g>\r\n     <g id=\"text_8\">\r\n      <!-- Year -->\r\n      <g transform=\"translate(350.276562 256.614219)rotate(-90)scale(0.1 -0.1)\">\r\n       <defs>\r\n        <path d=\"M -0.203125 72.90625 \r\nL 10.40625 72.90625 \r\nL 30.609375 42.921875 \r\nL 50.6875 72.90625 \r\nL 61.28125 72.90625 \r\nL 35.5 34.71875 \r\nL 35.5 0 \r\nL 25.59375 0 \r\nL 25.59375 34.71875 \r\nz\r\n\" id=\"DejaVuSans-89\"/>\r\n       </defs>\r\n       <use xlink:href=\"#DejaVuSans-89\"/>\r\n       <use x=\"47.833984\" xlink:href=\"#DejaVuSans-101\"/>\r\n       <use x=\"109.357422\" xlink:href=\"#DejaVuSans-97\"/>\r\n       <use x=\"170.636719\" xlink:href=\"#DejaVuSans-114\"/>\r\n      </g>\r\n     </g>\r\n    </g>\r\n    <g id=\"xtick_9\">\r\n     <g id=\"line2d_9\">\r\n      <g>\r\n       <use style=\"stroke:#000000;stroke-width:0.8;\" x=\"377.277187\" xlink:href=\"#m264575e58c\" y=\"228.439219\"/>\r\n      </g>\r\n     </g>\r\n     <g id=\"text_9\">\r\n      <!-- log_price -->\r\n      <g transform=\"translate(379.8975 280.573594)rotate(-90)scale(0.1 -0.1)\">\r\n       <use xlink:href=\"#DejaVuSans-108\"/>\r\n       <use x=\"27.783203\" xlink:href=\"#DejaVuSans-111\"/>\r\n       <use x=\"88.964844\" xlink:href=\"#DejaVuSans-103\"/>\r\n       <use x=\"152.441406\" xlink:href=\"#DejaVuSans-95\"/>\r\n       <use x=\"202.441406\" xlink:href=\"#DejaVuSans-112\"/>\r\n       <use x=\"265.917969\" xlink:href=\"#DejaVuSans-114\"/>\r\n       <use x=\"307.03125\" xlink:href=\"#DejaVuSans-105\"/>\r\n       <use x=\"334.814453\" xlink:href=\"#DejaVuSans-99\"/>\r\n       <use x=\"389.794922\" xlink:href=\"#DejaVuSans-101\"/>\r\n      </g>\r\n     </g>\r\n    </g>\r\n   </g>\r\n   <g id=\"matplotlib.axis_2\">\r\n    <g id=\"ytick_1\">\r\n     <g id=\"line2d_10\">\r\n      <defs>\r\n       <path d=\"M 0 0 \r\nL -3.5 0 \r\n\" id=\"mdf4546758d\" style=\"stroke:#000000;stroke-width:0.8;\"/>\r\n      </defs>\r\n      <g>\r\n       <use style=\"stroke:#000000;stroke-width:0.8;\" x=\"124.317187\" xlink:href=\"#mdf4546758d\" y=\"23.079219\"/>\r\n      </g>\r\n     </g>\r\n     <g id=\"text_10\">\r\n      <!-- LeaseContractLength -->\r\n      <g transform=\"translate(10.765625 26.878437)scale(0.1 -0.1)\">\r\n       <use xlink:href=\"#DejaVuSans-76\"/>\r\n       <use x=\"53.962891\" xlink:href=\"#DejaVuSans-101\"/>\r\n       <use x=\"115.486328\" xlink:href=\"#DejaVuSans-97\"/>\r\n       <use x=\"176.765625\" xlink:href=\"#DejaVuSans-115\"/>\r\n       <use x=\"228.865234\" xlink:href=\"#DejaVuSans-101\"/>\r\n       <use x=\"290.388672\" xlink:href=\"#DejaVuSans-67\"/>\r\n       <use x=\"360.212891\" xlink:href=\"#DejaVuSans-111\"/>\r\n       <use x=\"421.394531\" xlink:href=\"#DejaVuSans-110\"/>\r\n       <use x=\"484.773438\" xlink:href=\"#DejaVuSans-116\"/>\r\n       <use x=\"523.982422\" xlink:href=\"#DejaVuSans-114\"/>\r\n       <use x=\"565.095703\" xlink:href=\"#DejaVuSans-97\"/>\r\n       <use x=\"626.375\" xlink:href=\"#DejaVuSans-99\"/>\r\n       <use x=\"681.355469\" xlink:href=\"#DejaVuSans-116\"/>\r\n       <use x=\"720.564453\" xlink:href=\"#DejaVuSans-76\"/>\r\n       <use x=\"774.527344\" xlink:href=\"#DejaVuSans-101\"/>\r\n       <use x=\"836.050781\" xlink:href=\"#DejaVuSans-110\"/>\r\n       <use x=\"899.429688\" xlink:href=\"#DejaVuSans-103\"/>\r\n       <use x=\"962.90625\" xlink:href=\"#DejaVuSans-116\"/>\r\n       <use x=\"1002.115234\" xlink:href=\"#DejaVuSans-104\"/>\r\n      </g>\r\n     </g>\r\n    </g>\r\n    <g id=\"ytick_2\">\r\n     <g id=\"line2d_11\">\r\n      <g>\r\n       <use style=\"stroke:#000000;stroke-width:0.8;\" x=\"124.317187\" xlink:href=\"#mdf4546758d\" y=\"47.239219\"/>\r\n      </g>\r\n     </g>\r\n     <g id=\"text_11\">\r\n      <!-- OfferingClass -->\r\n      <g transform=\"translate(50.36875 51.038437)scale(0.1 -0.1)\">\r\n       <use xlink:href=\"#DejaVuSans-79\"/>\r\n       <use x=\"78.710938\" xlink:href=\"#DejaVuSans-102\"/>\r\n       <use x=\"113.916016\" xlink:href=\"#DejaVuSans-102\"/>\r\n       <use x=\"149.121094\" xlink:href=\"#DejaVuSans-101\"/>\r\n       <use x=\"210.644531\" xlink:href=\"#DejaVuSans-114\"/>\r\n       <use x=\"251.757812\" xlink:href=\"#DejaVuSans-105\"/>\r\n       <use x=\"279.541016\" xlink:href=\"#DejaVuSans-110\"/>\r\n       <use x=\"342.919922\" xlink:href=\"#DejaVuSans-103\"/>\r\n       <use x=\"406.396484\" xlink:href=\"#DejaVuSans-67\"/>\r\n       <use x=\"476.220703\" xlink:href=\"#DejaVuSans-108\"/>\r\n       <use x=\"504.003906\" xlink:href=\"#DejaVuSans-97\"/>\r\n       <use x=\"565.283203\" xlink:href=\"#DejaVuSans-115\"/>\r\n       <use x=\"617.382812\" xlink:href=\"#DejaVuSans-115\"/>\r\n      </g>\r\n     </g>\r\n    </g>\r\n    <g id=\"ytick_3\">\r\n     <g id=\"line2d_12\">\r\n      <g>\r\n       <use style=\"stroke:#000000;stroke-width:0.8;\" x=\"124.317187\" xlink:href=\"#mdf4546758d\" y=\"71.399219\"/>\r\n      </g>\r\n     </g>\r\n     <g id=\"text_12\">\r\n      <!-- Location -->\r\n      <g transform=\"translate(75.020312 75.198437)scale(0.1 -0.1)\">\r\n       <use xlink:href=\"#DejaVuSans-76\"/>\r\n       <use x=\"53.962891\" xlink:href=\"#DejaVuSans-111\"/>\r\n       <use x=\"115.144531\" xlink:href=\"#DejaVuSans-99\"/>\r\n       <use x=\"170.125\" xlink:href=\"#DejaVuSans-97\"/>\r\n       <use x=\"231.404297\" xlink:href=\"#DejaVuSans-116\"/>\r\n       <use x=\"270.613281\" xlink:href=\"#DejaVuSans-105\"/>\r\n       <use x=\"298.396484\" xlink:href=\"#DejaVuSans-111\"/>\r\n       <use x=\"359.578125\" xlink:href=\"#DejaVuSans-110\"/>\r\n      </g>\r\n     </g>\r\n    </g>\r\n    <g id=\"ytick_4\">\r\n     <g id=\"line2d_13\">\r\n      <g>\r\n       <use style=\"stroke:#000000;stroke-width:0.8;\" x=\"124.317187\" xlink:href=\"#mdf4546758d\" y=\"95.559219\"/>\r\n      </g>\r\n     </g>\r\n     <g id=\"text_13\">\r\n      <!-- Memory -->\r\n      <g transform=\"translate(76.646875 99.358437)scale(0.1 -0.1)\">\r\n       <use xlink:href=\"#DejaVuSans-77\"/>\r\n       <use x=\"86.279297\" xlink:href=\"#DejaVuSans-101\"/>\r\n       <use x=\"147.802734\" xlink:href=\"#DejaVuSans-109\"/>\r\n       <use x=\"245.214844\" xlink:href=\"#DejaVuSans-111\"/>\r\n       <use x=\"306.396484\" xlink:href=\"#DejaVuSans-114\"/>\r\n       <use x=\"347.509766\" xlink:href=\"#DejaVuSans-121\"/>\r\n      </g>\r\n     </g>\r\n    </g>\r\n    <g id=\"ytick_5\">\r\n     <g id=\"line2d_14\">\r\n      <g>\r\n       <use style=\"stroke:#000000;stroke-width:0.8;\" x=\"124.317187\" xlink:href=\"#mdf4546758d\" y=\"119.719219\"/>\r\n      </g>\r\n     </g>\r\n     <g id=\"text_14\">\r\n      <!-- vCPU -->\r\n      <g transform=\"translate(91.067187 123.518437)scale(0.1 -0.1)\">\r\n       <use xlink:href=\"#DejaVuSans-118\"/>\r\n       <use x=\"59.179688\" xlink:href=\"#DejaVuSans-67\"/>\r\n       <use x=\"129.003906\" xlink:href=\"#DejaVuSans-80\"/>\r\n       <use x=\"189.306641\" xlink:href=\"#DejaVuSans-85\"/>\r\n      </g>\r\n     </g>\r\n    </g>\r\n    <g id=\"ytick_6\">\r\n     <g id=\"line2d_15\">\r\n      <g>\r\n       <use style=\"stroke:#000000;stroke-width:0.8;\" x=\"124.317187\" xlink:href=\"#mdf4546758d\" y=\"143.879219\"/>\r\n      </g>\r\n     </g>\r\n     <g id=\"text_15\">\r\n      <!-- Network_Performance -->\r\n      <g transform=\"translate(7.2 147.678437)scale(0.1 -0.1)\">\r\n       <use xlink:href=\"#DejaVuSans-78\"/>\r\n       <use x=\"74.804688\" xlink:href=\"#DejaVuSans-101\"/>\r\n       <use x=\"136.328125\" xlink:href=\"#DejaVuSans-116\"/>\r\n       <use x=\"175.537109\" xlink:href=\"#DejaVuSans-119\"/>\r\n       <use x=\"257.324219\" xlink:href=\"#DejaVuSans-111\"/>\r\n       <use x=\"318.505859\" xlink:href=\"#DejaVuSans-114\"/>\r\n       <use x=\"359.619141\" xlink:href=\"#DejaVuSans-107\"/>\r\n       <use x=\"417.529297\" xlink:href=\"#DejaVuSans-95\"/>\r\n       <use x=\"467.529297\" xlink:href=\"#DejaVuSans-80\"/>\r\n       <use x=\"524.207031\" xlink:href=\"#DejaVuSans-101\"/>\r\n       <use x=\"585.730469\" xlink:href=\"#DejaVuSans-114\"/>\r\n       <use x=\"626.84375\" xlink:href=\"#DejaVuSans-102\"/>\r\n       <use x=\"662.048828\" xlink:href=\"#DejaVuSans-111\"/>\r\n       <use x=\"723.230469\" xlink:href=\"#DejaVuSans-114\"/>\r\n       <use x=\"762.59375\" xlink:href=\"#DejaVuSans-109\"/>\r\n       <use x=\"860.005859\" xlink:href=\"#DejaVuSans-97\"/>\r\n       <use x=\"921.285156\" xlink:href=\"#DejaVuSans-110\"/>\r\n       <use x=\"984.664062\" xlink:href=\"#DejaVuSans-99\"/>\r\n       <use x=\"1039.644531\" xlink:href=\"#DejaVuSans-101\"/>\r\n      </g>\r\n     </g>\r\n    </g>\r\n    <g id=\"ytick_7\">\r\n     <g id=\"line2d_16\">\r\n      <g>\r\n       <use style=\"stroke:#000000;stroke-width:0.8;\" x=\"124.317187\" xlink:href=\"#mdf4546758d\" y=\"168.039219\"/>\r\n      </g>\r\n     </g>\r\n     <g id=\"text_16\">\r\n      <!-- Clock_Speed -->\r\n      <g transform=\"translate(53.796875 171.838437)scale(0.1 -0.1)\">\r\n       <use xlink:href=\"#DejaVuSans-67\"/>\r\n       <use x=\"69.824219\" xlink:href=\"#DejaVuSans-108\"/>\r\n       <use x=\"97.607422\" xlink:href=\"#DejaVuSans-111\"/>\r\n       <use x=\"158.789062\" xlink:href=\"#DejaVuSans-99\"/>\r\n       <use x=\"213.769531\" xlink:href=\"#DejaVuSans-107\"/>\r\n       <use x=\"271.679688\" xlink:href=\"#DejaVuSans-95\"/>\r\n       <use x=\"321.679688\" xlink:href=\"#DejaVuSans-83\"/>\r\n       <use x=\"385.15625\" xlink:href=\"#DejaVuSans-112\"/>\r\n       <use x=\"448.632812\" xlink:href=\"#DejaVuSans-101\"/>\r\n       <use x=\"510.15625\" xlink:href=\"#DejaVuSans-101\"/>\r\n       <use x=\"571.679688\" xlink:href=\"#DejaVuSans-100\"/>\r\n      </g>\r\n     </g>\r\n    </g>\r\n    <g id=\"ytick_8\">\r\n     <g id=\"line2d_17\">\r\n      <g>\r\n       <use style=\"stroke:#000000;stroke-width:0.8;\" x=\"124.317187\" xlink:href=\"#mdf4546758d\" y=\"192.199219\"/>\r\n      </g>\r\n     </g>\r\n     <g id=\"text_17\">\r\n      <!-- Year -->\r\n      <g transform=\"translate(96.142187 195.998437)scale(0.1 -0.1)\">\r\n       <use xlink:href=\"#DejaVuSans-89\"/>\r\n       <use x=\"47.833984\" xlink:href=\"#DejaVuSans-101\"/>\r\n       <use x=\"109.357422\" xlink:href=\"#DejaVuSans-97\"/>\r\n       <use x=\"170.636719\" xlink:href=\"#DejaVuSans-114\"/>\r\n      </g>\r\n     </g>\r\n    </g>\r\n    <g id=\"ytick_9\">\r\n     <g id=\"line2d_18\">\r\n      <g>\r\n       <use style=\"stroke:#000000;stroke-width:0.8;\" x=\"124.317187\" xlink:href=\"#mdf4546758d\" y=\"216.359219\"/>\r\n      </g>\r\n     </g>\r\n     <g id=\"text_18\">\r\n      <!-- log_price -->\r\n      <g transform=\"translate(72.182812 220.158437)scale(0.1 -0.1)\">\r\n       <use xlink:href=\"#DejaVuSans-108\"/>\r\n       <use x=\"27.783203\" xlink:href=\"#DejaVuSans-111\"/>\r\n       <use x=\"88.964844\" xlink:href=\"#DejaVuSans-103\"/>\r\n       <use x=\"152.441406\" xlink:href=\"#DejaVuSans-95\"/>\r\n       <use x=\"202.441406\" xlink:href=\"#DejaVuSans-112\"/>\r\n       <use x=\"265.917969\" xlink:href=\"#DejaVuSans-114\"/>\r\n       <use x=\"307.03125\" xlink:href=\"#DejaVuSans-105\"/>\r\n       <use x=\"334.814453\" xlink:href=\"#DejaVuSans-99\"/>\r\n       <use x=\"389.794922\" xlink:href=\"#DejaVuSans-101\"/>\r\n      </g>\r\n     </g>\r\n    </g>\r\n   </g>\r\n  </g>\r\n  <g id=\"axes_2\">\r\n   <g id=\"patch_3\">\r\n    <path clip-path=\"url(#p36e8818815)\" d=\"M 408.897188 228.439219 \r\nL 408.897188 227.589844 \r\nL 408.897188 11.848594 \r\nL 408.897188 10.999219 \r\nL 419.769188 10.999219 \r\nL 419.769188 11.848594 \r\nL 419.769188 227.589844 \r\nL 419.769188 228.439219 \r\nz\r\n\" style=\"fill:#ffffff;stroke:#ffffff;stroke-linejoin:miter;stroke-width:0.01;\"/>\r\n   </g>\r\n   <image height=\"218\" id=\"imageb2539266e1\" transform=\"scale(1 -1)translate(0 -218)\" width=\"11\" x=\"409\" xlink:href=\"data:image/png;base64,\r\niVBORw0KGgoAAAANSUhEUgAAAAsAAADaCAYAAABwzrisAAABOUlEQVR4nO2YQQ7DQAgDWbL/6tP6iL43S689MgdLJmrOVmTANiTr9f5UNJ+91upiY18JwEnejGggMKAcO1cSMOKMaFi0TjjumNc61A0oUdm429CIfSUQv86DJq1j4yZ61uUGLBCNG9DQDSVluaHrhome/3vwF2wS5hMXvUnWTdTGzKx7+qL38KBJ69LkE4+FTBurFL9JfOkWkHJbtbGQhstdx8JcdteRbph8p0CJAhp5331wVPunGgWf0wcXejMq8KgKrAIF6migbhSjQQpk2lDRqBsNRVagzimoQA+JCp0iy7qJTild8uucggo8uuT3cArqsw5s4hT0ZqINyFnmlKcnP9vdHsnPEkmX/CZXrsmNZHLlmjjF5MrVOWVg1gmdIrxyLbQhFL+HNtii97jrhO5W3XX934AR8QUEV/W+ANZtrgAAAABJRU5ErkJggg==\" y=\"-10\"/>\r\n   <g id=\"matplotlib.axis_3\"/>\r\n   <g id=\"matplotlib.axis_4\">\r\n    <g id=\"ytick_10\">\r\n     <g id=\"line2d_19\">\r\n      <defs>\r\n       <path d=\"M 0 0 \r\nL 3.5 0 \r\n\" id=\"mbe03a5ff8f\" style=\"stroke:#000000;stroke-width:0.8;\"/>\r\n      </defs>\r\n      <g>\r\n       <use style=\"stroke:#000000;stroke-width:0.8;\" x=\"419.769188\" xlink:href=\"#mbe03a5ff8f\" y=\"214.283121\"/>\r\n      </g>\r\n     </g>\r\n     <g id=\"text_19\">\r\n      <!-- −0.4 -->\r\n      <g transform=\"translate(426.769188 218.08234)scale(0.1 -0.1)\">\r\n       <defs>\r\n        <path d=\"M 10.59375 35.5 \r\nL 73.1875 35.5 \r\nL 73.1875 27.203125 \r\nL 10.59375 27.203125 \r\nz\r\n\" id=\"DejaVuSans-8722\"/>\r\n        <path d=\"M 31.78125 66.40625 \r\nQ 24.171875 66.40625 20.328125 58.90625 \r\nQ 16.5 51.421875 16.5 36.375 \r\nQ 16.5 21.390625 20.328125 13.890625 \r\nQ 24.171875 6.390625 31.78125 6.390625 \r\nQ 39.453125 6.390625 43.28125 13.890625 \r\nQ 47.125 21.390625 47.125 36.375 \r\nQ 47.125 51.421875 43.28125 58.90625 \r\nQ 39.453125 66.40625 31.78125 66.40625 \r\nz\r\nM 31.78125 74.21875 \r\nQ 44.046875 74.21875 50.515625 64.515625 \r\nQ 56.984375 54.828125 56.984375 36.375 \r\nQ 56.984375 17.96875 50.515625 8.265625 \r\nQ 44.046875 -1.421875 31.78125 -1.421875 \r\nQ 19.53125 -1.421875 13.0625 8.265625 \r\nQ 6.59375 17.96875 6.59375 36.375 \r\nQ 6.59375 54.828125 13.0625 64.515625 \r\nQ 19.53125 74.21875 31.78125 74.21875 \r\nz\r\n\" id=\"DejaVuSans-48\"/>\r\n        <path d=\"M 10.6875 12.40625 \r\nL 21 12.40625 \r\nL 21 0 \r\nL 10.6875 0 \r\nz\r\n\" id=\"DejaVuSans-46\"/>\r\n        <path d=\"M 37.796875 64.3125 \r\nL 12.890625 25.390625 \r\nL 37.796875 25.390625 \r\nz\r\nM 35.203125 72.90625 \r\nL 47.609375 72.90625 \r\nL 47.609375 25.390625 \r\nL 58.015625 25.390625 \r\nL 58.015625 17.1875 \r\nL 47.609375 17.1875 \r\nL 47.609375 0 \r\nL 37.796875 0 \r\nL 37.796875 17.1875 \r\nL 4.890625 17.1875 \r\nL 4.890625 26.703125 \r\nz\r\n\" id=\"DejaVuSans-52\"/>\r\n       </defs>\r\n       <use xlink:href=\"#DejaVuSans-8722\"/>\r\n       <use x=\"83.789062\" xlink:href=\"#DejaVuSans-48\"/>\r\n       <use x=\"147.412109\" xlink:href=\"#DejaVuSans-46\"/>\r\n       <use x=\"179.199219\" xlink:href=\"#DejaVuSans-52\"/>\r\n      </g>\r\n     </g>\r\n    </g>\r\n    <g id=\"ytick_11\">\r\n     <g id=\"line2d_20\">\r\n      <g>\r\n       <use style=\"stroke:#000000;stroke-width:0.8;\" x=\"419.769188\" xlink:href=\"#mbe03a5ff8f\" y=\"185.242563\"/>\r\n      </g>\r\n     </g>\r\n     <g id=\"text_20\">\r\n      <!-- −0.2 -->\r\n      <g transform=\"translate(426.769188 189.041782)scale(0.1 -0.1)\">\r\n       <defs>\r\n        <path d=\"M 19.1875 8.296875 \r\nL 53.609375 8.296875 \r\nL 53.609375 0 \r\nL 7.328125 0 \r\nL 7.328125 8.296875 \r\nQ 12.9375 14.109375 22.625 23.890625 \r\nQ 32.328125 33.6875 34.8125 36.53125 \r\nQ 39.546875 41.84375 41.421875 45.53125 \r\nQ 43.3125 49.21875 43.3125 52.78125 \r\nQ 43.3125 58.59375 39.234375 62.25 \r\nQ 35.15625 65.921875 28.609375 65.921875 \r\nQ 23.96875 65.921875 18.8125 64.3125 \r\nQ 13.671875 62.703125 7.8125 59.421875 \r\nL 7.8125 69.390625 \r\nQ 13.765625 71.78125 18.9375 73 \r\nQ 24.125 74.21875 28.421875 74.21875 \r\nQ 39.75 74.21875 46.484375 68.546875 \r\nQ 53.21875 62.890625 53.21875 53.421875 \r\nQ 53.21875 48.921875 51.53125 44.890625 \r\nQ 49.859375 40.875 45.40625 35.40625 \r\nQ 44.1875 33.984375 37.640625 27.21875 \r\nQ 31.109375 20.453125 19.1875 8.296875 \r\nz\r\n\" id=\"DejaVuSans-50\"/>\r\n       </defs>\r\n       <use xlink:href=\"#DejaVuSans-8722\"/>\r\n       <use x=\"83.789062\" xlink:href=\"#DejaVuSans-48\"/>\r\n       <use x=\"147.412109\" xlink:href=\"#DejaVuSans-46\"/>\r\n       <use x=\"179.199219\" xlink:href=\"#DejaVuSans-50\"/>\r\n      </g>\r\n     </g>\r\n    </g>\r\n    <g id=\"ytick_12\">\r\n     <g id=\"line2d_21\">\r\n      <g>\r\n       <use style=\"stroke:#000000;stroke-width:0.8;\" x=\"419.769188\" xlink:href=\"#mbe03a5ff8f\" y=\"156.202006\"/>\r\n      </g>\r\n     </g>\r\n     <g id=\"text_21\">\r\n      <!-- 0.0 -->\r\n      <g transform=\"translate(426.769188 160.001225)scale(0.1 -0.1)\">\r\n       <use xlink:href=\"#DejaVuSans-48\"/>\r\n       <use x=\"63.623047\" xlink:href=\"#DejaVuSans-46\"/>\r\n       <use x=\"95.410156\" xlink:href=\"#DejaVuSans-48\"/>\r\n      </g>\r\n     </g>\r\n    </g>\r\n    <g id=\"ytick_13\">\r\n     <g id=\"line2d_22\">\r\n      <g>\r\n       <use style=\"stroke:#000000;stroke-width:0.8;\" x=\"419.769188\" xlink:href=\"#mbe03a5ff8f\" y=\"127.161449\"/>\r\n      </g>\r\n     </g>\r\n     <g id=\"text_22\">\r\n      <!-- 0.2 -->\r\n      <g transform=\"translate(426.769188 130.960667)scale(0.1 -0.1)\">\r\n       <use xlink:href=\"#DejaVuSans-48\"/>\r\n       <use x=\"63.623047\" xlink:href=\"#DejaVuSans-46\"/>\r\n       <use x=\"95.410156\" xlink:href=\"#DejaVuSans-50\"/>\r\n      </g>\r\n     </g>\r\n    </g>\r\n    <g id=\"ytick_14\">\r\n     <g id=\"line2d_23\">\r\n      <g>\r\n       <use style=\"stroke:#000000;stroke-width:0.8;\" x=\"419.769188\" xlink:href=\"#mbe03a5ff8f\" y=\"98.120891\"/>\r\n      </g>\r\n     </g>\r\n     <g id=\"text_23\">\r\n      <!-- 0.4 -->\r\n      <g transform=\"translate(426.769188 101.92011)scale(0.1 -0.1)\">\r\n       <use xlink:href=\"#DejaVuSans-48\"/>\r\n       <use x=\"63.623047\" xlink:href=\"#DejaVuSans-46\"/>\r\n       <use x=\"95.410156\" xlink:href=\"#DejaVuSans-52\"/>\r\n      </g>\r\n     </g>\r\n    </g>\r\n    <g id=\"ytick_15\">\r\n     <g id=\"line2d_24\">\r\n      <g>\r\n       <use style=\"stroke:#000000;stroke-width:0.8;\" x=\"419.769188\" xlink:href=\"#mbe03a5ff8f\" y=\"69.080334\"/>\r\n      </g>\r\n     </g>\r\n     <g id=\"text_24\">\r\n      <!-- 0.6 -->\r\n      <g transform=\"translate(426.769188 72.879552)scale(0.1 -0.1)\">\r\n       <defs>\r\n        <path d=\"M 33.015625 40.375 \r\nQ 26.375 40.375 22.484375 35.828125 \r\nQ 18.609375 31.296875 18.609375 23.390625 \r\nQ 18.609375 15.53125 22.484375 10.953125 \r\nQ 26.375 6.390625 33.015625 6.390625 \r\nQ 39.65625 6.390625 43.53125 10.953125 \r\nQ 47.40625 15.53125 47.40625 23.390625 \r\nQ 47.40625 31.296875 43.53125 35.828125 \r\nQ 39.65625 40.375 33.015625 40.375 \r\nz\r\nM 52.59375 71.296875 \r\nL 52.59375 62.3125 \r\nQ 48.875 64.0625 45.09375 64.984375 \r\nQ 41.3125 65.921875 37.59375 65.921875 \r\nQ 27.828125 65.921875 22.671875 59.328125 \r\nQ 17.53125 52.734375 16.796875 39.40625 \r\nQ 19.671875 43.65625 24.015625 45.921875 \r\nQ 28.375 48.1875 33.59375 48.1875 \r\nQ 44.578125 48.1875 50.953125 41.515625 \r\nQ 57.328125 34.859375 57.328125 23.390625 \r\nQ 57.328125 12.15625 50.6875 5.359375 \r\nQ 44.046875 -1.421875 33.015625 -1.421875 \r\nQ 20.359375 -1.421875 13.671875 8.265625 \r\nQ 6.984375 17.96875 6.984375 36.375 \r\nQ 6.984375 53.65625 15.1875 63.9375 \r\nQ 23.390625 74.21875 37.203125 74.21875 \r\nQ 40.921875 74.21875 44.703125 73.484375 \r\nQ 48.484375 72.75 52.59375 71.296875 \r\nz\r\n\" id=\"DejaVuSans-54\"/>\r\n       </defs>\r\n       <use xlink:href=\"#DejaVuSans-48\"/>\r\n       <use x=\"63.623047\" xlink:href=\"#DejaVuSans-46\"/>\r\n       <use x=\"95.410156\" xlink:href=\"#DejaVuSans-54\"/>\r\n      </g>\r\n     </g>\r\n    </g>\r\n    <g id=\"ytick_16\">\r\n     <g id=\"line2d_25\">\r\n      <g>\r\n       <use style=\"stroke:#000000;stroke-width:0.8;\" x=\"419.769188\" xlink:href=\"#mbe03a5ff8f\" y=\"40.039776\"/>\r\n      </g>\r\n     </g>\r\n     <g id=\"text_25\">\r\n      <!-- 0.8 -->\r\n      <g transform=\"translate(426.769188 43.838995)scale(0.1 -0.1)\">\r\n       <defs>\r\n        <path d=\"M 31.78125 34.625 \r\nQ 24.75 34.625 20.71875 30.859375 \r\nQ 16.703125 27.09375 16.703125 20.515625 \r\nQ 16.703125 13.921875 20.71875 10.15625 \r\nQ 24.75 6.390625 31.78125 6.390625 \r\nQ 38.8125 6.390625 42.859375 10.171875 \r\nQ 46.921875 13.96875 46.921875 20.515625 \r\nQ 46.921875 27.09375 42.890625 30.859375 \r\nQ 38.875 34.625 31.78125 34.625 \r\nz\r\nM 21.921875 38.8125 \r\nQ 15.578125 40.375 12.03125 44.71875 \r\nQ 8.5 49.078125 8.5 55.328125 \r\nQ 8.5 64.0625 14.71875 69.140625 \r\nQ 20.953125 74.21875 31.78125 74.21875 \r\nQ 42.671875 74.21875 48.875 69.140625 \r\nQ 55.078125 64.0625 55.078125 55.328125 \r\nQ 55.078125 49.078125 51.53125 44.71875 \r\nQ 48 40.375 41.703125 38.8125 \r\nQ 48.828125 37.15625 52.796875 32.3125 \r\nQ 56.78125 27.484375 56.78125 20.515625 \r\nQ 56.78125 9.90625 50.3125 4.234375 \r\nQ 43.84375 -1.421875 31.78125 -1.421875 \r\nQ 19.734375 -1.421875 13.25 4.234375 \r\nQ 6.78125 9.90625 6.78125 20.515625 \r\nQ 6.78125 27.484375 10.78125 32.3125 \r\nQ 14.796875 37.15625 21.921875 38.8125 \r\nz\r\nM 18.3125 54.390625 \r\nQ 18.3125 48.734375 21.84375 45.5625 \r\nQ 25.390625 42.390625 31.78125 42.390625 \r\nQ 38.140625 42.390625 41.71875 45.5625 \r\nQ 45.3125 48.734375 45.3125 54.390625 \r\nQ 45.3125 60.0625 41.71875 63.234375 \r\nQ 38.140625 66.40625 31.78125 66.40625 \r\nQ 25.390625 66.40625 21.84375 63.234375 \r\nQ 18.3125 60.0625 18.3125 54.390625 \r\nz\r\n\" id=\"DejaVuSans-56\"/>\r\n       </defs>\r\n       <use xlink:href=\"#DejaVuSans-48\"/>\r\n       <use x=\"63.623047\" xlink:href=\"#DejaVuSans-46\"/>\r\n       <use x=\"95.410156\" xlink:href=\"#DejaVuSans-56\"/>\r\n      </g>\r\n     </g>\r\n    </g>\r\n    <g id=\"ytick_17\">\r\n     <g id=\"line2d_26\">\r\n      <g>\r\n       <use style=\"stroke:#000000;stroke-width:0.8;\" x=\"419.769188\" xlink:href=\"#mbe03a5ff8f\" y=\"10.999219\"/>\r\n      </g>\r\n     </g>\r\n     <g id=\"text_26\">\r\n      <!-- 1.0 -->\r\n      <g transform=\"translate(426.769188 14.798437)scale(0.1 -0.1)\">\r\n       <defs>\r\n        <path d=\"M 12.40625 8.296875 \r\nL 28.515625 8.296875 \r\nL 28.515625 63.921875 \r\nL 10.984375 60.40625 \r\nL 10.984375 69.390625 \r\nL 28.421875 72.90625 \r\nL 38.28125 72.90625 \r\nL 38.28125 8.296875 \r\nL 54.390625 8.296875 \r\nL 54.390625 0 \r\nL 12.40625 0 \r\nz\r\n\" id=\"DejaVuSans-49\"/>\r\n       </defs>\r\n       <use xlink:href=\"#DejaVuSans-49\"/>\r\n       <use x=\"63.623047\" xlink:href=\"#DejaVuSans-46\"/>\r\n       <use x=\"95.410156\" xlink:href=\"#DejaVuSans-48\"/>\r\n      </g>\r\n     </g>\r\n    </g>\r\n   </g>\r\n   <g id=\"patch_4\">\r\n    <path d=\"M 408.897188 228.439219 \r\nL 408.897188 227.589844 \r\nL 408.897188 11.848594 \r\nL 408.897188 10.999219 \r\nL 419.769188 10.999219 \r\nL 419.769188 11.848594 \r\nL 419.769188 227.589844 \r\nL 419.769188 228.439219 \r\nz\r\n\" style=\"fill:none;\"/>\r\n   </g>\r\n  </g>\r\n </g>\r\n <defs>\r\n  <clipPath id=\"pf3d9f6b9c7\">\r\n   <rect height=\"217.44\" width=\"267.84\" x=\"124.317187\" y=\"10.999219\"/>\r\n  </clipPath>\r\n  <clipPath id=\"p36e8818815\">\r\n   <rect height=\"217.44\" width=\"10.872\" x=\"408.897188\" y=\"10.999219\"/>\r\n  </clipPath>\r\n </defs>\r\n</svg>\r\n",
      "image/png": "[encoded data removed]"
     },
     "metadata": {
      "needs_background": "light"
     }
    }
   ],
   "source": [
    "corr = df_rs_qty_gn_rcn.corr()\n",
    "sns.heatmap(corr, xticklabels=corr.columns, yticklabels=corr.columns, cmap=sns.diverging_palette(220, 10, as_cmap=True))"
   ]
  },
  {
   "cell_type": "code",
   "execution_count": 82,
   "metadata": {},
   "outputs": [
    {
     "output_type": "execute_result",
     "data": {
      "text/plain": [
       "         LeaseContractLength  OfferingClass  Location  Memory  \\\n",
       "4                          3              2         3       8   \n",
       "14                         3              1         5       8   \n",
       "27                         3              1         1     192   \n",
       "28                         1              1         6     384   \n",
       "73                         3              2         5     384   \n",
       "...                      ...            ...       ...     ...   \n",
       "1897237                    1              2         4       8   \n",
       "1897243                    3              1         6       4   \n",
       "1897246                    1              2         5      64   \n",
       "1897247                    3              1         5      16   \n",
       "1897250                    3              2         1      16   \n",
       "\n",
       "         Network_Performance  Clock_Speed  Year  log_price  \n",
       "4                          5          2.4     2   8.849657  \n",
       "14                         4          3.3     1   7.614805  \n",
       "27                         9          4.5     4   9.944390  \n",
       "28                         5          2.5     4  10.605817  \n",
       "73                         8          3.1     3  11.652209  \n",
       "...                      ...          ...   ...        ...  \n",
       "1897237                    2          3.1     3   7.101676  \n",
       "1897243                    1          3.1     4   7.940940  \n",
       "1897246                    2          3.1     2  10.992302  \n",
       "1897247                    7          4.5     4   9.115040  \n",
       "1897250                    6          2.4     1   7.397562  \n",
       "\n",
       "[178499 rows x 8 columns]"
      ],
      "text/html": "<div>\n<style scoped>\n    .dataframe tbody tr th:only-of-type {\n        vertical-align: middle;\n    }\n\n    .dataframe tbody tr th {\n        vertical-align: top;\n    }\n\n    .dataframe thead th {\n        text-align: right;\n    }\n</style>\n<table border=\"1\" class=\"dataframe\">\n  <thead>\n    <tr style=\"text-align: right;\">\n      <th></th>\n      <th>LeaseContractLength</th>\n      <th>OfferingClass</th>\n      <th>Location</th>\n      <th>Memory</th>\n      <th>Network_Performance</th>\n      <th>Clock_Speed</th>\n      <th>Year</th>\n      <th>log_price</th>\n    </tr>\n  </thead>\n  <tbody>\n    <tr>\n      <th>4</th>\n      <td>3</td>\n      <td>2</td>\n      <td>3</td>\n      <td>8</td>\n      <td>5</td>\n      <td>2.4</td>\n      <td>2</td>\n      <td>8.849657</td>\n    </tr>\n    <tr>\n      <th>14</th>\n      <td>3</td>\n      <td>1</td>\n      <td>5</td>\n      <td>8</td>\n      <td>4</td>\n      <td>3.3</td>\n      <td>1</td>\n      <td>7.614805</td>\n    </tr>\n    <tr>\n      <th>27</th>\n      <td>3</td>\n      <td>1</td>\n      <td>1</td>\n      <td>192</td>\n      <td>9</td>\n      <td>4.5</td>\n      <td>4</td>\n      <td>9.944390</td>\n    </tr>\n    <tr>\n      <th>28</th>\n      <td>1</td>\n      <td>1</td>\n      <td>6</td>\n      <td>384</td>\n      <td>5</td>\n      <td>2.5</td>\n      <td>4</td>\n      <td>10.605817</td>\n    </tr>\n    <tr>\n      <th>73</th>\n      <td>3</td>\n      <td>2</td>\n      <td>5</td>\n      <td>384</td>\n      <td>8</td>\n      <td>3.1</td>\n      <td>3</td>\n      <td>11.652209</td>\n    </tr>\n    <tr>\n      <th>...</th>\n      <td>...</td>\n      <td>...</td>\n      <td>...</td>\n      <td>...</td>\n      <td>...</td>\n      <td>...</td>\n      <td>...</td>\n      <td>...</td>\n    </tr>\n    <tr>\n      <th>1897237</th>\n      <td>1</td>\n      <td>2</td>\n      <td>4</td>\n      <td>8</td>\n      <td>2</td>\n      <td>3.1</td>\n      <td>3</td>\n      <td>7.101676</td>\n    </tr>\n    <tr>\n      <th>1897243</th>\n      <td>3</td>\n      <td>1</td>\n      <td>6</td>\n      <td>4</td>\n      <td>1</td>\n      <td>3.1</td>\n      <td>4</td>\n      <td>7.940940</td>\n    </tr>\n    <tr>\n      <th>1897246</th>\n      <td>1</td>\n      <td>2</td>\n      <td>5</td>\n      <td>64</td>\n      <td>2</td>\n      <td>3.1</td>\n      <td>2</td>\n      <td>10.992302</td>\n    </tr>\n    <tr>\n      <th>1897247</th>\n      <td>3</td>\n      <td>1</td>\n      <td>5</td>\n      <td>16</td>\n      <td>7</td>\n      <td>4.5</td>\n      <td>4</td>\n      <td>9.115040</td>\n    </tr>\n    <tr>\n      <th>1897250</th>\n      <td>3</td>\n      <td>2</td>\n      <td>1</td>\n      <td>16</td>\n      <td>6</td>\n      <td>2.4</td>\n      <td>1</td>\n      <td>7.397562</td>\n    </tr>\n  </tbody>\n</table>\n<p>178499 rows × 8 columns</p>\n</div>"
     },
     "metadata": {},
     "execution_count": 82
    }
   ],
   "source": [
    "# We have to remove Memory or CPU, Because it has same high relationship between thoose values, then we just enough one value\n",
    "df_rs_qty_gn_rcn = df_rs_qty_gn_rcn.drop(columns='vCPU')\n",
    "df_rs_qty_gn_rcn"
   ]
  },
  {
   "cell_type": "code",
   "execution_count": 83,
   "metadata": {},
   "outputs": [],
   "source": [
    "import seaborn as sns \n",
    "import statsmodels.api as sm "
   ]
  },
  {
   "cell_type": "code",
   "execution_count": 84,
   "metadata": {},
   "outputs": [
    {
     "output_type": "stream",
     "name": "stdout",
     "text": [
      "                            OLS Regression Results                            \n==============================================================================\nDep. Variable:              log_price   R-squared:                       0.555\nModel:                            OLS   Adj. R-squared:                  0.555\nMethod:                 Least Squares   F-statistic:                 3.179e+04\nDate:                Thu, 11 Mar 2021   Prob (F-statistic):               0.00\nTime:                        10:18:02   Log-Likelihood:            -3.0186e+05\nNo. Observations:              178499   AIC:                         6.037e+05\nDf Residuals:                  178491   BIC:                         6.038e+05\nDf Model:                           7                                         \nCovariance Type:            nonrobust                                         \n=======================================================================================\n                          coef    std err          t      P>|t|      [0.025      0.975]\n---------------------------------------------------------------------------------------\nconst                   6.3499      0.027    237.474      0.000       6.298       6.402\nLeaseContractLength     0.4495      0.003    144.607      0.000       0.443       0.456\nOfferingClass           0.1821      0.007     24.965      0.000       0.168       0.196\nLocation                0.0128      0.002      7.922      0.000       0.010       0.016\nMemory                  0.0099   3.22e-05    309.041      0.000       0.010       0.010\nNetwork_Performance     0.0472      0.002     27.055      0.000       0.044       0.051\nClock_Speed             0.0727      0.008      9.103      0.000       0.057       0.088\nYear                    0.0835      0.004     21.279      0.000       0.076       0.091\n==============================================================================\nOmnibus:                      744.019   Durbin-Watson:                   2.014\nProb(Omnibus):                  0.000   Jarque-Bera (JB):              751.711\nSkew:                          -0.157   Prob(JB):                    5.86e-164\nKurtosis:                       2.947   Cond. No.                     1.59e+03\n==============================================================================\n\nNotes:\n[1] Standard Errors assume that the covariance matrix of the errors is correctly specified.\n[2] The condition number is large, 1.59e+03. This might indicate that there are\nstrong multicollinearity or other numerical problems.\n"
     ]
    }
   ],
   "source": [
    "x = df_rs_qty_gn_rcn[df_rs_qty_gn_rcn.columns[df_rs_qty_gn_rcn.columns != 'log_price']]\n",
    "y = df_rs_qty_gn_rcn.log_price\n",
    "# Statsmodels.OLS requires us to add a constant.\n",
    "x = sm.add_constant(x)\n",
    "model = sm.OLS(y,x)\n",
    "results = model.fit()\n",
    "print(results.summary())"
   ]
  },
  {
   "cell_type": "code",
   "execution_count": 85,
   "metadata": {},
   "outputs": [
    {
     "output_type": "execute_result",
     "data": {
      "text/plain": [
       "         LeaseContractLength  OfferingClass  Location  Memory  \\\n",
       "4                          3              2         3       8   \n",
       "14                         3              1         5       8   \n",
       "27                         3              1         1     192   \n",
       "28                         1              1         6     384   \n",
       "73                         3              2         5     384   \n",
       "...                      ...            ...       ...     ...   \n",
       "1897237                    1              2         4       8   \n",
       "1897243                    3              1         6       4   \n",
       "1897246                    1              2         5      64   \n",
       "1897247                    3              1         5      16   \n",
       "1897250                    3              2         1      16   \n",
       "\n",
       "         Network_Performance  Year  log_price  \n",
       "4                          5     2   8.849657  \n",
       "14                         4     1   7.614805  \n",
       "27                         9     4   9.944390  \n",
       "28                         5     4  10.605817  \n",
       "73                         8     3  11.652209  \n",
       "...                      ...   ...        ...  \n",
       "1897237                    2     3   7.101676  \n",
       "1897243                    1     4   7.940940  \n",
       "1897246                    2     2  10.992302  \n",
       "1897247                    7     4   9.115040  \n",
       "1897250                    6     1   7.397562  \n",
       "\n",
       "[178499 rows x 7 columns]"
      ],
      "text/html": "<div>\n<style scoped>\n    .dataframe tbody tr th:only-of-type {\n        vertical-align: middle;\n    }\n\n    .dataframe tbody tr th {\n        vertical-align: top;\n    }\n\n    .dataframe thead th {\n        text-align: right;\n    }\n</style>\n<table border=\"1\" class=\"dataframe\">\n  <thead>\n    <tr style=\"text-align: right;\">\n      <th></th>\n      <th>LeaseContractLength</th>\n      <th>OfferingClass</th>\n      <th>Location</th>\n      <th>Memory</th>\n      <th>Network_Performance</th>\n      <th>Year</th>\n      <th>log_price</th>\n    </tr>\n  </thead>\n  <tbody>\n    <tr>\n      <th>4</th>\n      <td>3</td>\n      <td>2</td>\n      <td>3</td>\n      <td>8</td>\n      <td>5</td>\n      <td>2</td>\n      <td>8.849657</td>\n    </tr>\n    <tr>\n      <th>14</th>\n      <td>3</td>\n      <td>1</td>\n      <td>5</td>\n      <td>8</td>\n      <td>4</td>\n      <td>1</td>\n      <td>7.614805</td>\n    </tr>\n    <tr>\n      <th>27</th>\n      <td>3</td>\n      <td>1</td>\n      <td>1</td>\n      <td>192</td>\n      <td>9</td>\n      <td>4</td>\n      <td>9.944390</td>\n    </tr>\n    <tr>\n      <th>28</th>\n      <td>1</td>\n      <td>1</td>\n      <td>6</td>\n      <td>384</td>\n      <td>5</td>\n      <td>4</td>\n      <td>10.605817</td>\n    </tr>\n    <tr>\n      <th>73</th>\n      <td>3</td>\n      <td>2</td>\n      <td>5</td>\n      <td>384</td>\n      <td>8</td>\n      <td>3</td>\n      <td>11.652209</td>\n    </tr>\n    <tr>\n      <th>...</th>\n      <td>...</td>\n      <td>...</td>\n      <td>...</td>\n      <td>...</td>\n      <td>...</td>\n      <td>...</td>\n      <td>...</td>\n    </tr>\n    <tr>\n      <th>1897237</th>\n      <td>1</td>\n      <td>2</td>\n      <td>4</td>\n      <td>8</td>\n      <td>2</td>\n      <td>3</td>\n      <td>7.101676</td>\n    </tr>\n    <tr>\n      <th>1897243</th>\n      <td>3</td>\n      <td>1</td>\n      <td>6</td>\n      <td>4</td>\n      <td>1</td>\n      <td>4</td>\n      <td>7.940940</td>\n    </tr>\n    <tr>\n      <th>1897246</th>\n      <td>1</td>\n      <td>2</td>\n      <td>5</td>\n      <td>64</td>\n      <td>2</td>\n      <td>2</td>\n      <td>10.992302</td>\n    </tr>\n    <tr>\n      <th>1897247</th>\n      <td>3</td>\n      <td>1</td>\n      <td>5</td>\n      <td>16</td>\n      <td>7</td>\n      <td>4</td>\n      <td>9.115040</td>\n    </tr>\n    <tr>\n      <th>1897250</th>\n      <td>3</td>\n      <td>2</td>\n      <td>1</td>\n      <td>16</td>\n      <td>6</td>\n      <td>1</td>\n      <td>7.397562</td>\n    </tr>\n  </tbody>\n</table>\n<p>178499 rows × 7 columns</p>\n</div>"
     },
     "metadata": {},
     "execution_count": 85
    }
   ],
   "source": [
    "# We have to remove Clock_Speed column because, It has high p value (0.393)\n",
    "df_rs_qty_gn_rcn = df_rs_qty_gn_rcn.drop(columns='Clock_Speed')\n",
    "df_rs_qty_gn_rcn"
   ]
  },
  {
   "cell_type": "code",
   "execution_count": 86,
   "metadata": {},
   "outputs": [],
   "source": [
    "# According to result, we cannot use LinearRegression model for this dataset\n",
    "# We can use neural network for this dataset"
   ]
  },
  {
   "cell_type": "code",
   "execution_count": 87,
   "metadata": {},
   "outputs": [],
   "source": [
    "# def getModelsForColumns_RCN(dfName):\n",
    "#     dfTemp_X = dfName.drop(columns=['log_price', 'Year', 'vCPU', 'Clock_Speed', 'OfferingClass', 'Location'])\n",
    "#     dfTemp_y = dfName[['log_price']]\n",
    "#     dfTemp_train_X, dfTemp_test_X, dfTemp_train_y, dfTemp_test_y = train_test_split(dfTemp_X, dfTemp_y, test_size = 0.2, random_state=18)\n",
    "#     dfTemp_mod = LinearRegression()\n",
    "#     dfTemp_mod.fit(dfTemp_train_X, dfTemp_train_y)\n",
    "#     dfTemp_pred = dfTemp_mod.predict(dfTemp_test_X)\n",
    "#     dfTemp_score = r2_score(dfTemp_test_y, dfTemp_pred)\n",
    "#     return dfTemp_score\n",
    "\n",
    "\n",
    "# dfTemp_score = getModelsForColumns_RCN(df_rs_qty_gn_rcn)\n",
    "# print(str(dfTemp_score))"
   ]
  },
  {
   "cell_type": "code",
   "execution_count": 152,
   "metadata": {},
   "outputs": [],
   "source": [
    "df_rs_qty_gn_rcn_X = df_rs_qty_gn_rcn.drop(columns=['log_price'])\n",
    "df_rs_qty_gn_rcn_y = df_rs_qty_gn_rcn[['log_price']]\n",
    "df_rqg_rcn_train_X, df_rqg_rcn_test_X, df_rqg_rcn_train_y, df_rqg_rcn_test_y = train_test_split(df_rs_qty_gn_rcn_X, df_rs_qty_gn_rcn_y, test_size = 0.2, random_state=18)"
   ]
  },
  {
   "cell_type": "code",
   "execution_count": 153,
   "metadata": {},
   "outputs": [
    {
     "output_type": "execute_result",
     "data": {
      "text/plain": [
       "         LeaseContractLength  OfferingClass  Location    Memory  \\\n",
       "4                          3              2         3  2.079442   \n",
       "14                         3              1         5  2.079442   \n",
       "27                         3              1         1  5.257495   \n",
       "28                         1              1         6  5.950643   \n",
       "73                         3              2         5  5.950643   \n",
       "...                      ...            ...       ...       ...   \n",
       "1897237                    1              2         4  2.079442   \n",
       "1897243                    3              1         6  1.386294   \n",
       "1897246                    1              2         5  4.158883   \n",
       "1897247                    3              1         5  2.772589   \n",
       "1897250                    3              2         1  2.772589   \n",
       "\n",
       "         Network_Performance  Year  \n",
       "4                          5     2  \n",
       "14                         4     1  \n",
       "27                         9     4  \n",
       "28                         5     4  \n",
       "73                         8     3  \n",
       "...                      ...   ...  \n",
       "1897237                    2     3  \n",
       "1897243                    1     4  \n",
       "1897246                    2     2  \n",
       "1897247                    7     4  \n",
       "1897250                    6     1  \n",
       "\n",
       "[178499 rows x 6 columns]"
      ],
      "text/html": "<div>\n<style scoped>\n    .dataframe tbody tr th:only-of-type {\n        vertical-align: middle;\n    }\n\n    .dataframe tbody tr th {\n        vertical-align: top;\n    }\n\n    .dataframe thead th {\n        text-align: right;\n    }\n</style>\n<table border=\"1\" class=\"dataframe\">\n  <thead>\n    <tr style=\"text-align: right;\">\n      <th></th>\n      <th>LeaseContractLength</th>\n      <th>OfferingClass</th>\n      <th>Location</th>\n      <th>Memory</th>\n      <th>Network_Performance</th>\n      <th>Year</th>\n    </tr>\n  </thead>\n  <tbody>\n    <tr>\n      <th>4</th>\n      <td>3</td>\n      <td>2</td>\n      <td>3</td>\n      <td>2.079442</td>\n      <td>5</td>\n      <td>2</td>\n    </tr>\n    <tr>\n      <th>14</th>\n      <td>3</td>\n      <td>1</td>\n      <td>5</td>\n      <td>2.079442</td>\n      <td>4</td>\n      <td>1</td>\n    </tr>\n    <tr>\n      <th>27</th>\n      <td>3</td>\n      <td>1</td>\n      <td>1</td>\n      <td>5.257495</td>\n      <td>9</td>\n      <td>4</td>\n    </tr>\n    <tr>\n      <th>28</th>\n      <td>1</td>\n      <td>1</td>\n      <td>6</td>\n      <td>5.950643</td>\n      <td>5</td>\n      <td>4</td>\n    </tr>\n    <tr>\n      <th>73</th>\n      <td>3</td>\n      <td>2</td>\n      <td>5</td>\n      <td>5.950643</td>\n      <td>8</td>\n      <td>3</td>\n    </tr>\n    <tr>\n      <th>...</th>\n      <td>...</td>\n      <td>...</td>\n      <td>...</td>\n      <td>...</td>\n      <td>...</td>\n      <td>...</td>\n    </tr>\n    <tr>\n      <th>1897237</th>\n      <td>1</td>\n      <td>2</td>\n      <td>4</td>\n      <td>2.079442</td>\n      <td>2</td>\n      <td>3</td>\n    </tr>\n    <tr>\n      <th>1897243</th>\n      <td>3</td>\n      <td>1</td>\n      <td>6</td>\n      <td>1.386294</td>\n      <td>1</td>\n      <td>4</td>\n    </tr>\n    <tr>\n      <th>1897246</th>\n      <td>1</td>\n      <td>2</td>\n      <td>5</td>\n      <td>4.158883</td>\n      <td>2</td>\n      <td>2</td>\n    </tr>\n    <tr>\n      <th>1897247</th>\n      <td>3</td>\n      <td>1</td>\n      <td>5</td>\n      <td>2.772589</td>\n      <td>7</td>\n      <td>4</td>\n    </tr>\n    <tr>\n      <th>1897250</th>\n      <td>3</td>\n      <td>2</td>\n      <td>1</td>\n      <td>2.772589</td>\n      <td>6</td>\n      <td>1</td>\n    </tr>\n  </tbody>\n</table>\n<p>178499 rows × 6 columns</p>\n</div>"
     },
     "metadata": {},
     "execution_count": 153
    }
   ],
   "source": [
    "df_rs_qty_gn_rcn_X"
   ]
  },
  {
   "cell_type": "code",
   "execution_count": 154,
   "metadata": {},
   "outputs": [],
   "source": [
    "# Reserve 10,000 samples for validation\n",
    "df_rqg_rcn_train_X_val = df_rqg_rcn_train_X[-10000:]\n",
    "df_rqg_rcn_train_y_val = df_rqg_rcn_train_y[-10000:]\n",
    "df_rqg_rcn_train_X = df_rqg_rcn_train_X[:-10000]\n",
    "df_rqg_rcn_train_y = df_rqg_rcn_train_y[:-10000]"
   ]
  },
  {
   "cell_type": "code",
   "execution_count": 155,
   "metadata": {},
   "outputs": [
    {
     "output_type": "execute_result",
     "data": {
      "text/plain": [
       "         LeaseContractLength  OfferingClass  Location    Memory  \\\n",
       "834512                     1              2         5  5.257495   \n",
       "821842                     3              1         5  4.852030   \n",
       "122323                     3              2         2  2.079442   \n",
       "1287715                    3              2         1  5.257495   \n",
       "253126                     3              2         5  5.545177   \n",
       "...                      ...            ...       ...       ...   \n",
       "1158037                    3              2         5  2.079442   \n",
       "339442                     3              2         1  5.950643   \n",
       "769706                     3              1         5  2.772589   \n",
       "71335                      1              1         3  2.772589   \n",
       "729008                     1              1         6  5.545177   \n",
       "\n",
       "         Network_Performance  Year  \n",
       "834512                     9     4  \n",
       "821842                     2     4  \n",
       "122323                     2     3  \n",
       "1287715                    3     3  \n",
       "253126                     5     2  \n",
       "...                      ...   ...  \n",
       "1158037                    5     1  \n",
       "339442                     8     2  \n",
       "769706                     6     1  \n",
       "71335                      7     4  \n",
       "729008                     8     4  \n",
       "\n",
       "[132799 rows x 6 columns]"
      ],
      "text/html": "<div>\n<style scoped>\n    .dataframe tbody tr th:only-of-type {\n        vertical-align: middle;\n    }\n\n    .dataframe tbody tr th {\n        vertical-align: top;\n    }\n\n    .dataframe thead th {\n        text-align: right;\n    }\n</style>\n<table border=\"1\" class=\"dataframe\">\n  <thead>\n    <tr style=\"text-align: right;\">\n      <th></th>\n      <th>LeaseContractLength</th>\n      <th>OfferingClass</th>\n      <th>Location</th>\n      <th>Memory</th>\n      <th>Network_Performance</th>\n      <th>Year</th>\n    </tr>\n  </thead>\n  <tbody>\n    <tr>\n      <th>834512</th>\n      <td>1</td>\n      <td>2</td>\n      <td>5</td>\n      <td>5.257495</td>\n      <td>9</td>\n      <td>4</td>\n    </tr>\n    <tr>\n      <th>821842</th>\n      <td>3</td>\n      <td>1</td>\n      <td>5</td>\n      <td>4.852030</td>\n      <td>2</td>\n      <td>4</td>\n    </tr>\n    <tr>\n      <th>122323</th>\n      <td>3</td>\n      <td>2</td>\n      <td>2</td>\n      <td>2.079442</td>\n      <td>2</td>\n      <td>3</td>\n    </tr>\n    <tr>\n      <th>1287715</th>\n      <td>3</td>\n      <td>2</td>\n      <td>1</td>\n      <td>5.257495</td>\n      <td>3</td>\n      <td>3</td>\n    </tr>\n    <tr>\n      <th>253126</th>\n      <td>3</td>\n      <td>2</td>\n      <td>5</td>\n      <td>5.545177</td>\n      <td>5</td>\n      <td>2</td>\n    </tr>\n    <tr>\n      <th>...</th>\n      <td>...</td>\n      <td>...</td>\n      <td>...</td>\n      <td>...</td>\n      <td>...</td>\n      <td>...</td>\n    </tr>\n    <tr>\n      <th>1158037</th>\n      <td>3</td>\n      <td>2</td>\n      <td>5</td>\n      <td>2.079442</td>\n      <td>5</td>\n      <td>1</td>\n    </tr>\n    <tr>\n      <th>339442</th>\n      <td>3</td>\n      <td>2</td>\n      <td>1</td>\n      <td>5.950643</td>\n      <td>8</td>\n      <td>2</td>\n    </tr>\n    <tr>\n      <th>769706</th>\n      <td>3</td>\n      <td>1</td>\n      <td>5</td>\n      <td>2.772589</td>\n      <td>6</td>\n      <td>1</td>\n    </tr>\n    <tr>\n      <th>71335</th>\n      <td>1</td>\n      <td>1</td>\n      <td>3</td>\n      <td>2.772589</td>\n      <td>7</td>\n      <td>4</td>\n    </tr>\n    <tr>\n      <th>729008</th>\n      <td>1</td>\n      <td>1</td>\n      <td>6</td>\n      <td>5.545177</td>\n      <td>8</td>\n      <td>4</td>\n    </tr>\n  </tbody>\n</table>\n<p>132799 rows × 6 columns</p>\n</div>"
     },
     "metadata": {},
     "execution_count": 155
    }
   ],
   "source": [
    "df_rqg_rcn_train_X"
   ]
  },
  {
   "cell_type": "code",
   "execution_count": 156,
   "metadata": {},
   "outputs": [],
   "source": [
    "from keras.models import Sequential\n",
    "from keras.layers import Dense\n",
    "import tensorflow.keras as keras\n",
    "from tensorflow.keras import layers"
   ]
  },
  {
   "cell_type": "code",
   "execution_count": 168,
   "metadata": {},
   "outputs": [],
   "source": [
    "# GRADED FUNCTION: house_model\n",
    "def house_model(xs, ys,shape,epochs):\n",
    "    m = Sequential()\n",
    "    m.add(Dense(6, activation='relu', input_dim=shape))\n",
    "    # m.add(Dense(4, activation='relu', kernel_initializer='normal'))\n",
    "    m.add(Dense(1, activation='relu'))\n",
    "    model.compile(loss='mean_squared_error', optimizer='adam')\n",
    "    model.fit(xs, ys, batch_size=64,epochs=epochs, verbose=2)\n",
    "    return model"
   ]
  },
  {
   "cell_type": "code",
   "execution_count": 169,
   "metadata": {},
   "outputs": [
    {
     "output_type": "stream",
     "name": "stdout",
     "text": [
      "Epoch 1/5\n",
      "2075/2075 - 2s - loss: nan\n",
      "Epoch 2/5\n",
      "2075/2075 - 1s - loss: nan\n",
      "Epoch 3/5\n",
      "2075/2075 - 1s - loss: nan\n",
      "Epoch 4/5\n",
      "2075/2075 - 1s - loss: nan\n",
      "Epoch 5/5\n",
      "2075/2075 - 1s - loss: nan\n"
     ]
    }
   ],
   "source": [
    "history = house_model(df_rqg_rcn_train_X, df_rqg_rcn_train_y, 6, 5)"
   ]
  },
  {
   "cell_type": "code",
   "execution_count": 159,
   "metadata": {},
   "outputs": [
    {
     "output_type": "execute_result",
     "data": {
      "text/plain": [
       "<tensorflow.python.keras.callbacks.History at 0x2873facdec8>"
      ]
     },
     "metadata": {},
     "execution_count": 159
    }
   ],
   "source": [
    "history.history"
   ]
  },
  {
   "cell_type": "code",
   "execution_count": 160,
   "metadata": {},
   "outputs": [
    {
     "output_type": "stream",
     "name": "stdout",
     "text": [
      "Evaluate on test data\n",
      "279/279 [==============================] - 0s 1ms/step - loss: nan\n",
      "test loss, test acc: nan\n"
     ]
    }
   ],
   "source": [
    "# Evaluate the model on the test data using `evaluate`\n",
    "print(\"Evaluate on test data\")\n",
    "results = history.evaluate(df_rqg_rcn_test_X, df_rqg_rcn_test_y, batch_size=128)\n",
    "print(\"test loss, test acc:\", results)"
   ]
  },
  {
   "cell_type": "code",
   "execution_count": 161,
   "metadata": {},
   "outputs": [
    {
     "output_type": "stream",
     "name": "stdout",
     "text": [
      "Generate predictions for 3 samples\npredictions shape: (3, 6)\n"
     ]
    }
   ],
   "source": [
    "# Generate predictions (probabilities -- the output of the last layer)\n",
    "# on new data using `predict`\n",
    "print(\"Generate predictions for 3 samples\")\n",
    "predictions = model.predict(df_rqg_rcn_test_X[:3])\n",
    "print(\"predictions shape:\", predictions.shape)"
   ]
  },
  {
   "cell_type": "code",
   "execution_count": null,
   "metadata": {},
   "outputs": [],
   "source": []
  }
 ]
}