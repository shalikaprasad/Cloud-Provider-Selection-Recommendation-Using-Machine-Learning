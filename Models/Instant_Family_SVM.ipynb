{
  "nbformat": 4,
  "nbformat_minor": 0,
  "metadata": {
    "colab": {
      "name": "Instant_Family_SVM.ipynb",
      "provenance": [],
      "collapsed_sections": []
    },
    "kernelspec": {
      "display_name": "Python 3",
      "language": "python",
      "name": "python3"
    },
    "language_info": {
      "codemirror_mode": {
        "name": "ipython",
        "version": 3
      },
      "file_extension": ".py",
      "mimetype": "text/x-python",
      "name": "python",
      "nbconvert_exporter": "python",
      "pygments_lexer": "ipython3",
      "version": "3.8.3"
    }
  },
  "cells": [
    {
      "cell_type": "code",
      "metadata": {
        "id": "lIcpuMOcX2HW"
      },
      "source": [
        "import pandas as pd\n",
        "import matplotlib.pyplot as plt\n",
        "import matplotlib.dates as md\n",
        "import numpy as np\n",
        "from datetime import date\n",
        "import seaborn as sns\n",
        "from sklearn.preprocessing import LabelEncoder, OneHotEncoder\n",
        "from sklearn.model_selection import train_test_split\n",
        "from sklearn.metrics import confusion_matrix\n",
        "from sklearn import svm, datasets\n",
        "import statsmodels.api as sm\n",
        "from scipy import stats"
      ],
      "execution_count": null,
      "outputs": []
    },
    {
      "cell_type": "code",
      "metadata": {
        "id": "zLgOeUZzZnHs",
        "colab": {
          "base_uri": "https://localhost:8080/",
          "height": 221
        },
        "outputId": "42a6c567-4642-4264-989c-e96748a3a8f1"
      },
      "source": [
        "from google.colab import drive\n",
        "drive.mount('/content/gdrive', force_remount=True)\n",
        "df = pd.read_csv('/content/gdrive/My Drive/Research/AWS/Instance_Family.csv')\n",
        "df.head()"
      ],
      "execution_count": null,
      "outputs": [
        {
          "output_type": "stream",
          "text": [
            "Mounted at /content/gdrive\n"
          ],
          "name": "stdout"
        },
        {
          "output_type": "execute_result",
          "data": {
            "text/html": [
              "<div>\n",
              "<style scoped>\n",
              "    .dataframe tbody tr th:only-of-type {\n",
              "        vertical-align: middle;\n",
              "    }\n",
              "\n",
              "    .dataframe tbody tr th {\n",
              "        vertical-align: top;\n",
              "    }\n",
              "\n",
              "    .dataframe thead th {\n",
              "        text-align: right;\n",
              "    }\n",
              "</style>\n",
              "<table border=\"1\" class=\"dataframe\">\n",
              "  <thead>\n",
              "    <tr style=\"text-align: right;\">\n",
              "      <th></th>\n",
              "      <th>Instance_Family</th>\n",
              "      <th>Processing_Power</th>\n",
              "      <th>Memory_Usage</th>\n",
              "      <th>Network</th>\n",
              "      <th>Storage</th>\n",
              "      <th>Graphical_Processing</th>\n",
              "    </tr>\n",
              "  </thead>\n",
              "  <tbody>\n",
              "    <tr>\n",
              "      <th>0</th>\n",
              "      <td>General Purpose</td>\n",
              "      <td>12</td>\n",
              "      <td>32.0</td>\n",
              "      <td>6</td>\n",
              "      <td>Low</td>\n",
              "      <td>Low</td>\n",
              "    </tr>\n",
              "    <tr>\n",
              "      <th>1</th>\n",
              "      <td>General Purpose</td>\n",
              "      <td>2</td>\n",
              "      <td>0.5</td>\n",
              "      <td>3</td>\n",
              "      <td>Low</td>\n",
              "      <td>Low</td>\n",
              "    </tr>\n",
              "    <tr>\n",
              "      <th>2</th>\n",
              "      <td>General Purpose</td>\n",
              "      <td>2</td>\n",
              "      <td>1.0</td>\n",
              "      <td>3</td>\n",
              "      <td>Low</td>\n",
              "      <td>Low</td>\n",
              "    </tr>\n",
              "    <tr>\n",
              "      <th>3</th>\n",
              "      <td>General Purpose</td>\n",
              "      <td>2</td>\n",
              "      <td>2.0</td>\n",
              "      <td>3</td>\n",
              "      <td>Low</td>\n",
              "      <td>Low</td>\n",
              "    </tr>\n",
              "    <tr>\n",
              "      <th>4</th>\n",
              "      <td>General Purpose</td>\n",
              "      <td>2</td>\n",
              "      <td>4.0</td>\n",
              "      <td>3</td>\n",
              "      <td>Low</td>\n",
              "      <td>Low</td>\n",
              "    </tr>\n",
              "  </tbody>\n",
              "</table>\n",
              "</div>"
            ],
            "text/plain": [
              "   Instance_Family  Processing_Power  ...  Storage  Graphical_Processing\n",
              "0  General Purpose                12  ...      Low                   Low\n",
              "1  General Purpose                 2  ...      Low                   Low\n",
              "2  General Purpose                 2  ...      Low                   Low\n",
              "3  General Purpose                 2  ...      Low                   Low\n",
              "4  General Purpose                 2  ...      Low                   Low\n",
              "\n",
              "[5 rows x 6 columns]"
            ]
          },
          "metadata": {
            "tags": []
          },
          "execution_count": 171
        }
      ]
    },
    {
      "cell_type": "code",
      "metadata": {
        "colab": {
          "base_uri": "https://localhost:8080/"
        },
        "id": "UvToK56zNyzy",
        "outputId": "67d5fd3c-18e7-417e-b758-58e86f652123"
      },
      "source": [
        "df1 = df\n",
        "df1.dtypes"
      ],
      "execution_count": null,
      "outputs": [
        {
          "output_type": "execute_result",
          "data": {
            "text/plain": [
              "Instance_Family          object\n",
              "Processing_Power          int64\n",
              "Memory_Usage            float64\n",
              "Network                   int64\n",
              "Storage                  object\n",
              "Graphical_Processing     object\n",
              "dtype: object"
            ]
          },
          "metadata": {
            "tags": []
          },
          "execution_count": 172
        }
      ]
    },
    {
      "cell_type": "code",
      "metadata": {
        "colab": {
          "base_uri": "https://localhost:8080/"
        },
        "id": "a9uqDhn0N5tA",
        "outputId": "48fa61ff-e274-4882-97dc-7f9496ec552d"
      },
      "source": [
        "df1['Storage'].value_counts()"
      ],
      "execution_count": null,
      "outputs": [
        {
          "output_type": "execute_result",
          "data": {
            "text/plain": [
              "Low       524\n",
              "Normal    431\n",
              "High      231\n",
              "Name: Storage, dtype: int64"
            ]
          },
          "metadata": {
            "tags": []
          },
          "execution_count": 173
        }
      ]
    },
    {
      "cell_type": "code",
      "metadata": {
        "colab": {
          "base_uri": "https://localhost:8080/",
          "height": 419
        },
        "id": "4RPndjA0PaeD",
        "outputId": "ef518e31-5a98-45c5-8f5f-3f4e738c7e88"
      },
      "source": [
        "storage_types = {\n",
        "                 'Low':1,\n",
        "                 'Normal':2,\n",
        "                 'High':3\n",
        "                 }  \n",
        "graphical_types = {\n",
        "                 'Low':1,\n",
        "                 'Normal':2,\n",
        "                 'High':3\n",
        "                 }                  \n",
        "\n",
        "df1['Storage'] = df1.Storage.map (storage_types)\n",
        "df1['Graphical_Processing'] = df1.Graphical_Processing.map (graphical_types)\n",
        "df1"
      ],
      "execution_count": null,
      "outputs": [
        {
          "output_type": "execute_result",
          "data": {
            "text/html": [
              "<div>\n",
              "<style scoped>\n",
              "    .dataframe tbody tr th:only-of-type {\n",
              "        vertical-align: middle;\n",
              "    }\n",
              "\n",
              "    .dataframe tbody tr th {\n",
              "        vertical-align: top;\n",
              "    }\n",
              "\n",
              "    .dataframe thead th {\n",
              "        text-align: right;\n",
              "    }\n",
              "</style>\n",
              "<table border=\"1\" class=\"dataframe\">\n",
              "  <thead>\n",
              "    <tr style=\"text-align: right;\">\n",
              "      <th></th>\n",
              "      <th>Instance_Family</th>\n",
              "      <th>Processing_Power</th>\n",
              "      <th>Memory_Usage</th>\n",
              "      <th>Network</th>\n",
              "      <th>Storage</th>\n",
              "      <th>Graphical_Processing</th>\n",
              "    </tr>\n",
              "  </thead>\n",
              "  <tbody>\n",
              "    <tr>\n",
              "      <th>0</th>\n",
              "      <td>General Purpose</td>\n",
              "      <td>12</td>\n",
              "      <td>32.0</td>\n",
              "      <td>6</td>\n",
              "      <td>1</td>\n",
              "      <td>1</td>\n",
              "    </tr>\n",
              "    <tr>\n",
              "      <th>1</th>\n",
              "      <td>General Purpose</td>\n",
              "      <td>2</td>\n",
              "      <td>0.5</td>\n",
              "      <td>3</td>\n",
              "      <td>1</td>\n",
              "      <td>1</td>\n",
              "    </tr>\n",
              "    <tr>\n",
              "      <th>2</th>\n",
              "      <td>General Purpose</td>\n",
              "      <td>2</td>\n",
              "      <td>1.0</td>\n",
              "      <td>3</td>\n",
              "      <td>1</td>\n",
              "      <td>1</td>\n",
              "    </tr>\n",
              "    <tr>\n",
              "      <th>3</th>\n",
              "      <td>General Purpose</td>\n",
              "      <td>2</td>\n",
              "      <td>2.0</td>\n",
              "      <td>3</td>\n",
              "      <td>1</td>\n",
              "      <td>1</td>\n",
              "    </tr>\n",
              "    <tr>\n",
              "      <th>4</th>\n",
              "      <td>General Purpose</td>\n",
              "      <td>2</td>\n",
              "      <td>4.0</td>\n",
              "      <td>3</td>\n",
              "      <td>1</td>\n",
              "      <td>1</td>\n",
              "    </tr>\n",
              "    <tr>\n",
              "      <th>...</th>\n",
              "      <td>...</td>\n",
              "      <td>...</td>\n",
              "      <td>...</td>\n",
              "      <td>...</td>\n",
              "      <td>...</td>\n",
              "      <td>...</td>\n",
              "    </tr>\n",
              "    <tr>\n",
              "      <th>1181</th>\n",
              "      <td>Accelerated Computing</td>\n",
              "      <td>32</td>\n",
              "      <td>244.0</td>\n",
              "      <td>7</td>\n",
              "      <td>2</td>\n",
              "      <td>3</td>\n",
              "    </tr>\n",
              "    <tr>\n",
              "      <th>1182</th>\n",
              "      <td>Accelerated Computing</td>\n",
              "      <td>64</td>\n",
              "      <td>488.0</td>\n",
              "      <td>10</td>\n",
              "      <td>2</td>\n",
              "      <td>3</td>\n",
              "    </tr>\n",
              "    <tr>\n",
              "      <th>1183</th>\n",
              "      <td>Accelerated Computing</td>\n",
              "      <td>8</td>\n",
              "      <td>122.0</td>\n",
              "      <td>5</td>\n",
              "      <td>2</td>\n",
              "      <td>3</td>\n",
              "    </tr>\n",
              "    <tr>\n",
              "      <th>1184</th>\n",
              "      <td>Accelerated Computing</td>\n",
              "      <td>16</td>\n",
              "      <td>244.0</td>\n",
              "      <td>5</td>\n",
              "      <td>2</td>\n",
              "      <td>3</td>\n",
              "    </tr>\n",
              "    <tr>\n",
              "      <th>1185</th>\n",
              "      <td>Accelerated Computing</td>\n",
              "      <td>64</td>\n",
              "      <td>976.0</td>\n",
              "      <td>10</td>\n",
              "      <td>2</td>\n",
              "      <td>3</td>\n",
              "    </tr>\n",
              "  </tbody>\n",
              "</table>\n",
              "<p>1186 rows × 6 columns</p>\n",
              "</div>"
            ],
            "text/plain": [
              "            Instance_Family  Processing_Power  ...  Storage  Graphical_Processing\n",
              "0           General Purpose                12  ...        1                     1\n",
              "1           General Purpose                 2  ...        1                     1\n",
              "2           General Purpose                 2  ...        1                     1\n",
              "3           General Purpose                 2  ...        1                     1\n",
              "4           General Purpose                 2  ...        1                     1\n",
              "...                     ...               ...  ...      ...                   ...\n",
              "1181  Accelerated Computing                32  ...        2                     3\n",
              "1182  Accelerated Computing                64  ...        2                     3\n",
              "1183  Accelerated Computing                 8  ...        2                     3\n",
              "1184  Accelerated Computing                16  ...        2                     3\n",
              "1185  Accelerated Computing                64  ...        2                     3\n",
              "\n",
              "[1186 rows x 6 columns]"
            ]
          },
          "metadata": {
            "tags": []
          },
          "execution_count": 159
        }
      ]
    },
    {
      "cell_type": "code",
      "metadata": {
        "id": "UOBH9PF3TNsy"
      },
      "source": [
        "import sklearn.model_selection as ms\n",
        "from sklearn import linear_model\n",
        "from sklearn import preprocessing"
      ],
      "execution_count": null,
      "outputs": []
    },
    {
      "cell_type": "code",
      "metadata": {
        "colab": {
          "base_uri": "https://localhost:8080/",
          "height": 204
        },
        "id": "WLRQk2NtSkR7",
        "outputId": "8b470ef5-8058-4ab8-d18c-2e9be0295f02"
      },
      "source": [
        "label_encoder = preprocessing.LabelEncoder()\n",
        "df2 = df1\n",
        "df2\n",
        "df2['Instance_Family'] = label_encoder.fit_transform(df2['Instance_Family'])\n",
        "df2.head()"
      ],
      "execution_count": null,
      "outputs": [
        {
          "output_type": "execute_result",
          "data": {
            "text/html": [
              "<div>\n",
              "<style scoped>\n",
              "    .dataframe tbody tr th:only-of-type {\n",
              "        vertical-align: middle;\n",
              "    }\n",
              "\n",
              "    .dataframe tbody tr th {\n",
              "        vertical-align: top;\n",
              "    }\n",
              "\n",
              "    .dataframe thead th {\n",
              "        text-align: right;\n",
              "    }\n",
              "</style>\n",
              "<table border=\"1\" class=\"dataframe\">\n",
              "  <thead>\n",
              "    <tr style=\"text-align: right;\">\n",
              "      <th></th>\n",
              "      <th>Instance_Family</th>\n",
              "      <th>Processing_Power</th>\n",
              "      <th>Memory_Usage</th>\n",
              "      <th>Network</th>\n",
              "      <th>Storage</th>\n",
              "      <th>Graphical_Processing</th>\n",
              "    </tr>\n",
              "  </thead>\n",
              "  <tbody>\n",
              "    <tr>\n",
              "      <th>0</th>\n",
              "      <td>2</td>\n",
              "      <td>12</td>\n",
              "      <td>32.0</td>\n",
              "      <td>6</td>\n",
              "      <td>1</td>\n",
              "      <td>1</td>\n",
              "    </tr>\n",
              "    <tr>\n",
              "      <th>1</th>\n",
              "      <td>2</td>\n",
              "      <td>2</td>\n",
              "      <td>0.5</td>\n",
              "      <td>3</td>\n",
              "      <td>1</td>\n",
              "      <td>1</td>\n",
              "    </tr>\n",
              "    <tr>\n",
              "      <th>2</th>\n",
              "      <td>2</td>\n",
              "      <td>2</td>\n",
              "      <td>1.0</td>\n",
              "      <td>3</td>\n",
              "      <td>1</td>\n",
              "      <td>1</td>\n",
              "    </tr>\n",
              "    <tr>\n",
              "      <th>3</th>\n",
              "      <td>2</td>\n",
              "      <td>2</td>\n",
              "      <td>2.0</td>\n",
              "      <td>3</td>\n",
              "      <td>1</td>\n",
              "      <td>1</td>\n",
              "    </tr>\n",
              "    <tr>\n",
              "      <th>4</th>\n",
              "      <td>2</td>\n",
              "      <td>2</td>\n",
              "      <td>4.0</td>\n",
              "      <td>3</td>\n",
              "      <td>1</td>\n",
              "      <td>1</td>\n",
              "    </tr>\n",
              "  </tbody>\n",
              "</table>\n",
              "</div>"
            ],
            "text/plain": [
              "   Instance_Family  Processing_Power  ...  Storage  Graphical_Processing\n",
              "0                2                12  ...        1                     1\n",
              "1                2                 2  ...        1                     1\n",
              "2                2                 2  ...        1                     1\n",
              "3                2                 2  ...        1                     1\n",
              "4                2                 2  ...        1                     1\n",
              "\n",
              "[5 rows x 6 columns]"
            ]
          },
          "metadata": {
            "tags": []
          },
          "execution_count": 161
        }
      ]
    },
    {
      "cell_type": "code",
      "metadata": {
        "colab": {
          "base_uri": "https://localhost:8080/"
        },
        "id": "pUwE2-h_eOPr",
        "outputId": "70b21cb2-af0c-422c-9e4c-10ba0ea79431"
      },
      "source": [
        "y = np.asarray(df2['Instance_Family'])\n",
        "print(y)\n",
        "\n",
        "X = df2.iloc[:,1:].values\n",
        "X"
      ],
      "execution_count": null,
      "outputs": [
        {
          "output_type": "stream",
          "text": [
            "[2 2 2 ... 0 0 0]\n"
          ],
          "name": "stdout"
        },
        {
          "output_type": "execute_result",
          "data": {
            "text/plain": [
              "array([[1.20e+01, 3.20e+01, 6.00e+00, 1.00e+00, 1.00e+00],\n",
              "       [2.00e+00, 5.00e-01, 3.00e+00, 1.00e+00, 1.00e+00],\n",
              "       [2.00e+00, 1.00e+00, 3.00e+00, 1.00e+00, 1.00e+00],\n",
              "       ...,\n",
              "       [8.00e+00, 1.22e+02, 5.00e+00, 2.00e+00, 3.00e+00],\n",
              "       [1.60e+01, 2.44e+02, 5.00e+00, 2.00e+00, 3.00e+00],\n",
              "       [6.40e+01, 9.76e+02, 1.00e+01, 2.00e+00, 3.00e+00]])"
            ]
          },
          "metadata": {
            "tags": []
          },
          "execution_count": 162
        }
      ]
    },
    {
      "cell_type": "code",
      "metadata": {
        "id": "zBal3zTmgTI7"
      },
      "source": [
        "X_train, X_test, y_train, y_test = train_test_split(X, y, test_size = 0.2, random_state = 0)"
      ],
      "execution_count": null,
      "outputs": []
    },
    {
      "cell_type": "code",
      "metadata": {
        "id": "uN9KHCCehZ-V"
      },
      "source": [
        "from sklearn.metrics import classification_report\n",
        "from sklearn import metrics"
      ],
      "execution_count": null,
      "outputs": []
    },
    {
      "cell_type": "code",
      "metadata": {
        "colab": {
          "base_uri": "https://localhost:8080/"
        },
        "id": "Q-geryjhhzl7",
        "outputId": "dfec3a77-18f8-4628-9d8a-2a9488425b9a"
      },
      "source": [
        "rbf = svm.SVC(kernel='rbf', gamma='auto', C=4, decision_function_shape='ovo').fit(X_train, y_train)\n",
        "rbf_pred = rbf.predict(X_test)\n",
        "print(classification_report(y_test, rbf_pred))\n",
        "print(\"Accuracy: \" , metrics.accuracy_score(y_test, rbf_pred))"
      ],
      "execution_count": null,
      "outputs": [
        {
          "output_type": "stream",
          "text": [
            "              precision    recall  f1-score   support\n",
            "\n",
            "           0       1.00      1.00      1.00        69\n",
            "           1       1.00      1.00      1.00        37\n",
            "           2       1.00      0.91      0.96        47\n",
            "           3       0.91      1.00      0.95        40\n",
            "           4       1.00      1.00      1.00        45\n",
            "\n",
            "    accuracy                           0.98       238\n",
            "   macro avg       0.98      0.98      0.98       238\n",
            "weighted avg       0.98      0.98      0.98       238\n",
            "\n",
            "Accuracy:  0.9831932773109243\n"
          ],
          "name": "stdout"
        }
      ]
    },
    {
      "cell_type": "code",
      "metadata": {
        "colab": {
          "base_uri": "https://localhost:8080/"
        },
        "id": "yU80dikuzErm",
        "outputId": "1bfe8ff5-a5c9-42ce-fc9e-6c803190978a"
      },
      "source": [
        "poly = svm.SVC(kernel='poly', degree=5, C=1, decision_function_shape='ovo').fit(X_train, y_train)\n",
        "poly_pred = poly.predict(X_test)\n",
        "print(classification_report(y_test, poly_pred))\n",
        "print(\"Accuracy: \" , metrics.accuracy_score(y_test, poly_pred))"
      ],
      "execution_count": null,
      "outputs": [
        {
          "output_type": "stream",
          "text": [
            "              precision    recall  f1-score   support\n",
            "\n",
            "           0       0.29      1.00      0.46        69\n",
            "           1       0.00      0.00      0.00        37\n",
            "           2       0.00      0.00      0.00        47\n",
            "           3       1.00      0.10      0.18        40\n",
            "           4       0.00      0.00      0.00        45\n",
            "\n",
            "    accuracy                           0.31       238\n",
            "   macro avg       0.26      0.22      0.13       238\n",
            "weighted avg       0.25      0.31      0.16       238\n",
            "\n",
            "Accuracy:  0.3067226890756303\n"
          ],
          "name": "stdout"
        },
        {
          "output_type": "stream",
          "text": [
            "/usr/local/lib/python3.6/dist-packages/sklearn/metrics/_classification.py:1272: UndefinedMetricWarning: Precision and F-score are ill-defined and being set to 0.0 in labels with no predicted samples. Use `zero_division` parameter to control this behavior.\n",
            "  _warn_prf(average, modifier, msg_start, len(result))\n"
          ],
          "name": "stderr"
        }
      ]
    },
    {
      "cell_type": "code",
      "metadata": {
        "colab": {
          "base_uri": "https://localhost:8080/"
        },
        "id": "GIGfI2pa4TdW",
        "outputId": "81cac204-1284-44af-d0e6-59973bf340d0"
      },
      "source": [
        "linear = svm.SVC(kernel='linear', C=1, decision_function_shape='ovo').fit(X_train, y_train)\n",
        "linear_pred = linear.predict(X_test)\n",
        "print(classification_report(y_test, linear_pred))\n",
        "print(\"Accuracy: \" , metrics.accuracy_score(y_test, linear_pred))"
      ],
      "execution_count": null,
      "outputs": [
        {
          "output_type": "stream",
          "text": [
            "              precision    recall  f1-score   support\n",
            "\n",
            "           0       1.00      1.00      1.00        69\n",
            "           1       1.00      1.00      1.00        37\n",
            "           2       1.00      1.00      1.00        47\n",
            "           3       1.00      1.00      1.00        40\n",
            "           4       1.00      1.00      1.00        45\n",
            "\n",
            "    accuracy                           1.00       238\n",
            "   macro avg       1.00      1.00      1.00       238\n",
            "weighted avg       1.00      1.00      1.00       238\n",
            "\n",
            "Accuracy:  1.0\n"
          ],
          "name": "stdout"
        }
      ]
    },
    {
      "cell_type": "code",
      "metadata": {
        "colab": {
          "base_uri": "https://localhost:8080/"
        },
        "id": "25hbHJhM4-rg",
        "outputId": "7b217822-589d-43fd-bfe1-4884d249ca2f"
      },
      "source": [
        "sig = svm.SVC(kernel='sigmoid', C=1, decision_function_shape='ovo').fit(X_train, y_train)\n",
        "sig_pred = sig.predict(X_test)\n",
        "print(classification_report(y_test, sig_pred))\n",
        "print(\"Accuracy: \" , metrics.accuracy_score(y_test, sig_pred))"
      ],
      "execution_count": null,
      "outputs": [
        {
          "output_type": "stream",
          "text": [
            "/usr/local/lib/python3.6/dist-packages/sklearn/metrics/_classification.py:1272: UndefinedMetricWarning: Precision and F-score are ill-defined and being set to 0.0 in labels with no predicted samples. Use `zero_division` parameter to control this behavior.\n",
            "  _warn_prf(average, modifier, msg_start, len(result))\n"
          ],
          "name": "stderr"
        },
        {
          "output_type": "stream",
          "text": [
            "              precision    recall  f1-score   support\n",
            "\n",
            "           0       0.48      0.14      0.22        69\n",
            "           1       0.33      0.19      0.24        37\n",
            "           2       0.21      0.40      0.28        47\n",
            "           3       0.19      0.50      0.28        40\n",
            "           4       0.00      0.00      0.00        45\n",
            "\n",
            "    accuracy                           0.24       238\n",
            "   macro avg       0.24      0.25      0.20       238\n",
            "weighted avg       0.26      0.24      0.20       238\n",
            "\n",
            "Accuracy:  0.23529411764705882\n"
          ],
          "name": "stdout"
        }
      ]
    },
    {
      "cell_type": "code",
      "metadata": {
        "colab": {
          "base_uri": "https://localhost:8080/"
        },
        "id": "GpjOKdM4jG5J",
        "outputId": "cdd71017-6f8d-4d1e-9de2-e2e6c81d785d"
      },
      "source": [
        "x1 = [[2, 15, 5, 1,2]]\n",
        "cus_pred2 = linear.predict(x1)\n",
        "cus_pred2[0]"
      ],
      "execution_count": null,
      "outputs": [
        {
          "output_type": "execute_result",
          "data": {
            "text/plain": [
              "3"
            ]
          },
          "metadata": {
            "tags": []
          },
          "execution_count": 170
        }
      ]
    }
  ]
}